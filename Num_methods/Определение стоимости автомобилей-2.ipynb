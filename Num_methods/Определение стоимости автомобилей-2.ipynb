{
 "cells": [
  {
   "cell_type": "markdown",
   "metadata": {},
   "source": [
    "# Определение стоимости автомобилей"
   ]
  },
  {
   "cell_type": "markdown",
   "metadata": {},
   "source": [
    "Сервис по продаже автомобилей с пробегом «Не бит, не крашен» разрабатывает приложение для привлечения новых клиентов. В нём можно быстро узнать рыночную стоимость своего автомобиля. В вашем распоряжении исторические данные: технические характеристики, комплектации и цены автомобилей. Вам нужно построить модель для определения стоимости. \n",
    "\n",
    "Заказчику важны:\n",
    "\n",
    "- качество предсказания;\n",
    "- скорость предсказания;\n",
    "- время обучения.\n",
    "\n",
    "**Описание данных**\n",
    "\n",
    "Данные находятся в файле `autos.csv`.\n",
    "\n",
    "**Признаки**\n",
    "\n",
    "* DateCrawled — дата скачивания анкеты из базы\n",
    "* VehicleType — тип автомобильного кузова\n",
    "* RegistrationYear — год регистрации автомобиля\n",
    "* Gearbox — тип коробки передач\n",
    "* Power — мощность (л. с.)\n",
    "* Model — модель автомобиля\n",
    "* Kilometer — пробег (км)\n",
    "* RegistrationMonth — месяц регистрации автомобиля\n",
    "* FuelType — тип топлива\n",
    "* Brand — марка автомобиля\n",
    "* Repaired — была машина в ремонте или нет\n",
    "* DateCreated — дата создания анкеты\n",
    "* NumberOfPictures — количество фотографий автомобиля\n",
    "* PostalCode — почтовый индекс владельца анкеты (пользователя)\n",
    "* LastSeen — дата последней активности пользователя\n",
    "\n",
    "**Целевой признак**\n",
    "* Price — цена (евро)"
   ]
  },
  {
   "cell_type": "code",
   "execution_count": 1,
   "metadata": {},
   "outputs": [
    {
     "name": "stdout",
     "output_type": "stream",
     "text": [
      "Requirement already satisfied: scikit-learn in /opt/conda/lib/python3.9/site-packages (1.3.1)\n",
      "Requirement already satisfied: numpy<2.0,>=1.17.3 in /opt/conda/lib/python3.9/site-packages (from scikit-learn) (1.21.1)\n",
      "Requirement already satisfied: scipy>=1.5.0 in /opt/conda/lib/python3.9/site-packages (from scikit-learn) (1.9.1)\n",
      "Requirement already satisfied: threadpoolctl>=2.0.0 in /opt/conda/lib/python3.9/site-packages (from scikit-learn) (3.1.0)\n",
      "Requirement already satisfied: joblib>=1.1.1 in /opt/conda/lib/python3.9/site-packages (from scikit-learn) (1.3.2)\n"
     ]
    }
   ],
   "source": [
    "!pip install scikit-learn --upgrade"
   ]
  },
  {
   "cell_type": "code",
   "execution_count": 2,
   "metadata": {},
   "outputs": [],
   "source": [
    "import pandas as pd\n",
    "import numpy as np\n",
    "import math\n",
    "import time\n",
    "from sklearn.model_selection import GridSearchCV, train_test_split, RandomizedSearchCV\n",
    "from sklearn.metrics import mean_squared_error, make_scorer\n",
    "import lightgbm\n",
    "import matplotlib.pyplot as plt\n",
    "import seaborn as sns\n",
    "from sklearn.linear_model import LinearRegression\n",
    "from time import time\n",
    "from sklearn.compose import ColumnTransformer\n",
    "from sklearn.preprocessing import OneHotEncoder, StandardScaler\n",
    "from sklearn.pipeline import Pipeline\n",
    "from lightgbm import LGBMRegressor\n",
    "from sklearn.dummy import DummyRegressor\n",
    "import sklearn"
   ]
  },
  {
   "cell_type": "code",
   "execution_count": 3,
   "metadata": {},
   "outputs": [
    {
     "data": {
      "text/plain": [
       "'1.3.1'"
      ]
     },
     "execution_count": 3,
     "metadata": {},
     "output_type": "execute_result"
    }
   ],
   "source": [
    "sklearn.__version__"
   ]
  },
  {
   "cell_type": "markdown",
   "metadata": {},
   "source": [
    "## Подготовка данных"
   ]
  },
  {
   "cell_type": "code",
   "execution_count": 4,
   "metadata": {
    "scrolled": true
   },
   "outputs": [
    {
     "data": {
      "text/html": [
       "<div>\n",
       "<style scoped>\n",
       "    .dataframe tbody tr th:only-of-type {\n",
       "        vertical-align: middle;\n",
       "    }\n",
       "\n",
       "    .dataframe tbody tr th {\n",
       "        vertical-align: top;\n",
       "    }\n",
       "\n",
       "    .dataframe thead th {\n",
       "        text-align: right;\n",
       "    }\n",
       "</style>\n",
       "<table border=\"1\" class=\"dataframe\">\n",
       "  <thead>\n",
       "    <tr style=\"text-align: right;\">\n",
       "      <th></th>\n",
       "      <th>DateCrawled</th>\n",
       "      <th>Price</th>\n",
       "      <th>VehicleType</th>\n",
       "      <th>RegistrationYear</th>\n",
       "      <th>Gearbox</th>\n",
       "      <th>Power</th>\n",
       "      <th>Model</th>\n",
       "      <th>Kilometer</th>\n",
       "      <th>RegistrationMonth</th>\n",
       "      <th>FuelType</th>\n",
       "      <th>Brand</th>\n",
       "      <th>Repaired</th>\n",
       "      <th>DateCreated</th>\n",
       "      <th>NumberOfPictures</th>\n",
       "      <th>PostalCode</th>\n",
       "      <th>LastSeen</th>\n",
       "    </tr>\n",
       "  </thead>\n",
       "  <tbody>\n",
       "    <tr>\n",
       "      <th>0</th>\n",
       "      <td>2016-03-24 11:52:17</td>\n",
       "      <td>480</td>\n",
       "      <td>NaN</td>\n",
       "      <td>1993</td>\n",
       "      <td>manual</td>\n",
       "      <td>0</td>\n",
       "      <td>golf</td>\n",
       "      <td>150000</td>\n",
       "      <td>0</td>\n",
       "      <td>petrol</td>\n",
       "      <td>volkswagen</td>\n",
       "      <td>NaN</td>\n",
       "      <td>2016-03-24 00:00:00</td>\n",
       "      <td>0</td>\n",
       "      <td>70435</td>\n",
       "      <td>2016-04-07 03:16:57</td>\n",
       "    </tr>\n",
       "    <tr>\n",
       "      <th>1</th>\n",
       "      <td>2016-03-24 10:58:45</td>\n",
       "      <td>18300</td>\n",
       "      <td>coupe</td>\n",
       "      <td>2011</td>\n",
       "      <td>manual</td>\n",
       "      <td>190</td>\n",
       "      <td>NaN</td>\n",
       "      <td>125000</td>\n",
       "      <td>5</td>\n",
       "      <td>gasoline</td>\n",
       "      <td>audi</td>\n",
       "      <td>yes</td>\n",
       "      <td>2016-03-24 00:00:00</td>\n",
       "      <td>0</td>\n",
       "      <td>66954</td>\n",
       "      <td>2016-04-07 01:46:50</td>\n",
       "    </tr>\n",
       "    <tr>\n",
       "      <th>2</th>\n",
       "      <td>2016-03-14 12:52:21</td>\n",
       "      <td>9800</td>\n",
       "      <td>suv</td>\n",
       "      <td>2004</td>\n",
       "      <td>auto</td>\n",
       "      <td>163</td>\n",
       "      <td>grand</td>\n",
       "      <td>125000</td>\n",
       "      <td>8</td>\n",
       "      <td>gasoline</td>\n",
       "      <td>jeep</td>\n",
       "      <td>NaN</td>\n",
       "      <td>2016-03-14 00:00:00</td>\n",
       "      <td>0</td>\n",
       "      <td>90480</td>\n",
       "      <td>2016-04-05 12:47:46</td>\n",
       "    </tr>\n",
       "    <tr>\n",
       "      <th>3</th>\n",
       "      <td>2016-03-17 16:54:04</td>\n",
       "      <td>1500</td>\n",
       "      <td>small</td>\n",
       "      <td>2001</td>\n",
       "      <td>manual</td>\n",
       "      <td>75</td>\n",
       "      <td>golf</td>\n",
       "      <td>150000</td>\n",
       "      <td>6</td>\n",
       "      <td>petrol</td>\n",
       "      <td>volkswagen</td>\n",
       "      <td>no</td>\n",
       "      <td>2016-03-17 00:00:00</td>\n",
       "      <td>0</td>\n",
       "      <td>91074</td>\n",
       "      <td>2016-03-17 17:40:17</td>\n",
       "    </tr>\n",
       "    <tr>\n",
       "      <th>4</th>\n",
       "      <td>2016-03-31 17:25:20</td>\n",
       "      <td>3600</td>\n",
       "      <td>small</td>\n",
       "      <td>2008</td>\n",
       "      <td>manual</td>\n",
       "      <td>69</td>\n",
       "      <td>fabia</td>\n",
       "      <td>90000</td>\n",
       "      <td>7</td>\n",
       "      <td>gasoline</td>\n",
       "      <td>skoda</td>\n",
       "      <td>no</td>\n",
       "      <td>2016-03-31 00:00:00</td>\n",
       "      <td>0</td>\n",
       "      <td>60437</td>\n",
       "      <td>2016-04-06 10:17:21</td>\n",
       "    </tr>\n",
       "    <tr>\n",
       "      <th>...</th>\n",
       "      <td>...</td>\n",
       "      <td>...</td>\n",
       "      <td>...</td>\n",
       "      <td>...</td>\n",
       "      <td>...</td>\n",
       "      <td>...</td>\n",
       "      <td>...</td>\n",
       "      <td>...</td>\n",
       "      <td>...</td>\n",
       "      <td>...</td>\n",
       "      <td>...</td>\n",
       "      <td>...</td>\n",
       "      <td>...</td>\n",
       "      <td>...</td>\n",
       "      <td>...</td>\n",
       "      <td>...</td>\n",
       "    </tr>\n",
       "    <tr>\n",
       "      <th>354364</th>\n",
       "      <td>2016-03-21 09:50:58</td>\n",
       "      <td>0</td>\n",
       "      <td>NaN</td>\n",
       "      <td>2005</td>\n",
       "      <td>manual</td>\n",
       "      <td>0</td>\n",
       "      <td>colt</td>\n",
       "      <td>150000</td>\n",
       "      <td>7</td>\n",
       "      <td>petrol</td>\n",
       "      <td>mitsubishi</td>\n",
       "      <td>yes</td>\n",
       "      <td>2016-03-21 00:00:00</td>\n",
       "      <td>0</td>\n",
       "      <td>2694</td>\n",
       "      <td>2016-03-21 10:42:49</td>\n",
       "    </tr>\n",
       "    <tr>\n",
       "      <th>354365</th>\n",
       "      <td>2016-03-14 17:48:27</td>\n",
       "      <td>2200</td>\n",
       "      <td>NaN</td>\n",
       "      <td>2005</td>\n",
       "      <td>NaN</td>\n",
       "      <td>0</td>\n",
       "      <td>NaN</td>\n",
       "      <td>20000</td>\n",
       "      <td>1</td>\n",
       "      <td>NaN</td>\n",
       "      <td>sonstige_autos</td>\n",
       "      <td>NaN</td>\n",
       "      <td>2016-03-14 00:00:00</td>\n",
       "      <td>0</td>\n",
       "      <td>39576</td>\n",
       "      <td>2016-04-06 00:46:52</td>\n",
       "    </tr>\n",
       "    <tr>\n",
       "      <th>354366</th>\n",
       "      <td>2016-03-05 19:56:21</td>\n",
       "      <td>1199</td>\n",
       "      <td>convertible</td>\n",
       "      <td>2000</td>\n",
       "      <td>auto</td>\n",
       "      <td>101</td>\n",
       "      <td>fortwo</td>\n",
       "      <td>125000</td>\n",
       "      <td>3</td>\n",
       "      <td>petrol</td>\n",
       "      <td>smart</td>\n",
       "      <td>no</td>\n",
       "      <td>2016-03-05 00:00:00</td>\n",
       "      <td>0</td>\n",
       "      <td>26135</td>\n",
       "      <td>2016-03-11 18:17:12</td>\n",
       "    </tr>\n",
       "    <tr>\n",
       "      <th>354367</th>\n",
       "      <td>2016-03-19 18:57:12</td>\n",
       "      <td>9200</td>\n",
       "      <td>bus</td>\n",
       "      <td>1996</td>\n",
       "      <td>manual</td>\n",
       "      <td>102</td>\n",
       "      <td>transporter</td>\n",
       "      <td>150000</td>\n",
       "      <td>3</td>\n",
       "      <td>gasoline</td>\n",
       "      <td>volkswagen</td>\n",
       "      <td>no</td>\n",
       "      <td>2016-03-19 00:00:00</td>\n",
       "      <td>0</td>\n",
       "      <td>87439</td>\n",
       "      <td>2016-04-07 07:15:26</td>\n",
       "    </tr>\n",
       "    <tr>\n",
       "      <th>354368</th>\n",
       "      <td>2016-03-20 19:41:08</td>\n",
       "      <td>3400</td>\n",
       "      <td>wagon</td>\n",
       "      <td>2002</td>\n",
       "      <td>manual</td>\n",
       "      <td>100</td>\n",
       "      <td>golf</td>\n",
       "      <td>150000</td>\n",
       "      <td>6</td>\n",
       "      <td>gasoline</td>\n",
       "      <td>volkswagen</td>\n",
       "      <td>NaN</td>\n",
       "      <td>2016-03-20 00:00:00</td>\n",
       "      <td>0</td>\n",
       "      <td>40764</td>\n",
       "      <td>2016-03-24 12:45:21</td>\n",
       "    </tr>\n",
       "  </tbody>\n",
       "</table>\n",
       "<p>354369 rows × 16 columns</p>\n",
       "</div>"
      ],
      "text/plain": [
       "                DateCrawled  Price  VehicleType  RegistrationYear Gearbox  \\\n",
       "0       2016-03-24 11:52:17    480          NaN              1993  manual   \n",
       "1       2016-03-24 10:58:45  18300        coupe              2011  manual   \n",
       "2       2016-03-14 12:52:21   9800          suv              2004    auto   \n",
       "3       2016-03-17 16:54:04   1500        small              2001  manual   \n",
       "4       2016-03-31 17:25:20   3600        small              2008  manual   \n",
       "...                     ...    ...          ...               ...     ...   \n",
       "354364  2016-03-21 09:50:58      0          NaN              2005  manual   \n",
       "354365  2016-03-14 17:48:27   2200          NaN              2005     NaN   \n",
       "354366  2016-03-05 19:56:21   1199  convertible              2000    auto   \n",
       "354367  2016-03-19 18:57:12   9200          bus              1996  manual   \n",
       "354368  2016-03-20 19:41:08   3400        wagon              2002  manual   \n",
       "\n",
       "        Power        Model  Kilometer  RegistrationMonth  FuelType  \\\n",
       "0           0         golf     150000                  0    petrol   \n",
       "1         190          NaN     125000                  5  gasoline   \n",
       "2         163        grand     125000                  8  gasoline   \n",
       "3          75         golf     150000                  6    petrol   \n",
       "4          69        fabia      90000                  7  gasoline   \n",
       "...       ...          ...        ...                ...       ...   \n",
       "354364      0         colt     150000                  7    petrol   \n",
       "354365      0          NaN      20000                  1       NaN   \n",
       "354366    101       fortwo     125000                  3    petrol   \n",
       "354367    102  transporter     150000                  3  gasoline   \n",
       "354368    100         golf     150000                  6  gasoline   \n",
       "\n",
       "                 Brand Repaired          DateCreated  NumberOfPictures  \\\n",
       "0           volkswagen      NaN  2016-03-24 00:00:00                 0   \n",
       "1                 audi      yes  2016-03-24 00:00:00                 0   \n",
       "2                 jeep      NaN  2016-03-14 00:00:00                 0   \n",
       "3           volkswagen       no  2016-03-17 00:00:00                 0   \n",
       "4                skoda       no  2016-03-31 00:00:00                 0   \n",
       "...                ...      ...                  ...               ...   \n",
       "354364      mitsubishi      yes  2016-03-21 00:00:00                 0   \n",
       "354365  sonstige_autos      NaN  2016-03-14 00:00:00                 0   \n",
       "354366           smart       no  2016-03-05 00:00:00                 0   \n",
       "354367      volkswagen       no  2016-03-19 00:00:00                 0   \n",
       "354368      volkswagen      NaN  2016-03-20 00:00:00                 0   \n",
       "\n",
       "        PostalCode             LastSeen  \n",
       "0            70435  2016-04-07 03:16:57  \n",
       "1            66954  2016-04-07 01:46:50  \n",
       "2            90480  2016-04-05 12:47:46  \n",
       "3            91074  2016-03-17 17:40:17  \n",
       "4            60437  2016-04-06 10:17:21  \n",
       "...            ...                  ...  \n",
       "354364        2694  2016-03-21 10:42:49  \n",
       "354365       39576  2016-04-06 00:46:52  \n",
       "354366       26135  2016-03-11 18:17:12  \n",
       "354367       87439  2016-04-07 07:15:26  \n",
       "354368       40764  2016-03-24 12:45:21  \n",
       "\n",
       "[354369 rows x 16 columns]"
      ]
     },
     "metadata": {},
     "output_type": "display_data"
    }
   ],
   "source": [
    "data = pd.read_csv('/datasets/autos.csv')\n",
    "display(data)"
   ]
  },
  {
   "cell_type": "code",
   "execution_count": 5,
   "metadata": {},
   "outputs": [
    {
     "data": {
      "text/html": [
       "<div>\n",
       "<style scoped>\n",
       "    .dataframe tbody tr th:only-of-type {\n",
       "        vertical-align: middle;\n",
       "    }\n",
       "\n",
       "    .dataframe tbody tr th {\n",
       "        vertical-align: top;\n",
       "    }\n",
       "\n",
       "    .dataframe thead th {\n",
       "        text-align: right;\n",
       "    }\n",
       "</style>\n",
       "<table border=\"1\" class=\"dataframe\">\n",
       "  <thead>\n",
       "    <tr style=\"text-align: right;\">\n",
       "      <th></th>\n",
       "      <th>DateCrawled</th>\n",
       "      <th>Price</th>\n",
       "      <th>VehicleType</th>\n",
       "      <th>RegistrationYear</th>\n",
       "      <th>Gearbox</th>\n",
       "      <th>Power</th>\n",
       "      <th>Model</th>\n",
       "      <th>Kilometer</th>\n",
       "      <th>RegistrationMonth</th>\n",
       "      <th>FuelType</th>\n",
       "      <th>Brand</th>\n",
       "      <th>Repaired</th>\n",
       "      <th>DateCreated</th>\n",
       "      <th>NumberOfPictures</th>\n",
       "      <th>PostalCode</th>\n",
       "      <th>LastSeen</th>\n",
       "    </tr>\n",
       "  </thead>\n",
       "  <tbody>\n",
       "    <tr>\n",
       "      <th>0</th>\n",
       "      <td>2016-03-24 11:52:17</td>\n",
       "      <td>480</td>\n",
       "      <td>NaN</td>\n",
       "      <td>1993</td>\n",
       "      <td>manual</td>\n",
       "      <td>0</td>\n",
       "      <td>golf</td>\n",
       "      <td>150000</td>\n",
       "      <td>0</td>\n",
       "      <td>petrol</td>\n",
       "      <td>volkswagen</td>\n",
       "      <td>NaN</td>\n",
       "      <td>2016-03-24 00:00:00</td>\n",
       "      <td>0</td>\n",
       "      <td>70435</td>\n",
       "      <td>2016-04-07 03:16:57</td>\n",
       "    </tr>\n",
       "    <tr>\n",
       "      <th>1</th>\n",
       "      <td>2016-03-24 10:58:45</td>\n",
       "      <td>18300</td>\n",
       "      <td>coupe</td>\n",
       "      <td>2011</td>\n",
       "      <td>manual</td>\n",
       "      <td>190</td>\n",
       "      <td>NaN</td>\n",
       "      <td>125000</td>\n",
       "      <td>5</td>\n",
       "      <td>gasoline</td>\n",
       "      <td>audi</td>\n",
       "      <td>yes</td>\n",
       "      <td>2016-03-24 00:00:00</td>\n",
       "      <td>0</td>\n",
       "      <td>66954</td>\n",
       "      <td>2016-04-07 01:46:50</td>\n",
       "    </tr>\n",
       "    <tr>\n",
       "      <th>2</th>\n",
       "      <td>2016-03-14 12:52:21</td>\n",
       "      <td>9800</td>\n",
       "      <td>suv</td>\n",
       "      <td>2004</td>\n",
       "      <td>auto</td>\n",
       "      <td>163</td>\n",
       "      <td>grand</td>\n",
       "      <td>125000</td>\n",
       "      <td>8</td>\n",
       "      <td>gasoline</td>\n",
       "      <td>jeep</td>\n",
       "      <td>NaN</td>\n",
       "      <td>2016-03-14 00:00:00</td>\n",
       "      <td>0</td>\n",
       "      <td>90480</td>\n",
       "      <td>2016-04-05 12:47:46</td>\n",
       "    </tr>\n",
       "    <tr>\n",
       "      <th>3</th>\n",
       "      <td>2016-03-17 16:54:04</td>\n",
       "      <td>1500</td>\n",
       "      <td>small</td>\n",
       "      <td>2001</td>\n",
       "      <td>manual</td>\n",
       "      <td>75</td>\n",
       "      <td>golf</td>\n",
       "      <td>150000</td>\n",
       "      <td>6</td>\n",
       "      <td>petrol</td>\n",
       "      <td>volkswagen</td>\n",
       "      <td>no</td>\n",
       "      <td>2016-03-17 00:00:00</td>\n",
       "      <td>0</td>\n",
       "      <td>91074</td>\n",
       "      <td>2016-03-17 17:40:17</td>\n",
       "    </tr>\n",
       "    <tr>\n",
       "      <th>4</th>\n",
       "      <td>2016-03-31 17:25:20</td>\n",
       "      <td>3600</td>\n",
       "      <td>small</td>\n",
       "      <td>2008</td>\n",
       "      <td>manual</td>\n",
       "      <td>69</td>\n",
       "      <td>fabia</td>\n",
       "      <td>90000</td>\n",
       "      <td>7</td>\n",
       "      <td>gasoline</td>\n",
       "      <td>skoda</td>\n",
       "      <td>no</td>\n",
       "      <td>2016-03-31 00:00:00</td>\n",
       "      <td>0</td>\n",
       "      <td>60437</td>\n",
       "      <td>2016-04-06 10:17:21</td>\n",
       "    </tr>\n",
       "  </tbody>\n",
       "</table>\n",
       "</div>"
      ],
      "text/plain": [
       "           DateCrawled  Price VehicleType  RegistrationYear Gearbox  Power  \\\n",
       "0  2016-03-24 11:52:17    480         NaN              1993  manual      0   \n",
       "1  2016-03-24 10:58:45  18300       coupe              2011  manual    190   \n",
       "2  2016-03-14 12:52:21   9800         suv              2004    auto    163   \n",
       "3  2016-03-17 16:54:04   1500       small              2001  manual     75   \n",
       "4  2016-03-31 17:25:20   3600       small              2008  manual     69   \n",
       "\n",
       "   Model  Kilometer  RegistrationMonth  FuelType       Brand Repaired  \\\n",
       "0   golf     150000                  0    petrol  volkswagen      NaN   \n",
       "1    NaN     125000                  5  gasoline        audi      yes   \n",
       "2  grand     125000                  8  gasoline        jeep      NaN   \n",
       "3   golf     150000                  6    petrol  volkswagen       no   \n",
       "4  fabia      90000                  7  gasoline       skoda       no   \n",
       "\n",
       "           DateCreated  NumberOfPictures  PostalCode             LastSeen  \n",
       "0  2016-03-24 00:00:00                 0       70435  2016-04-07 03:16:57  \n",
       "1  2016-03-24 00:00:00                 0       66954  2016-04-07 01:46:50  \n",
       "2  2016-03-14 00:00:00                 0       90480  2016-04-05 12:47:46  \n",
       "3  2016-03-17 00:00:00                 0       91074  2016-03-17 17:40:17  \n",
       "4  2016-03-31 00:00:00                 0       60437  2016-04-06 10:17:21  "
      ]
     },
     "metadata": {},
     "output_type": "display_data"
    },
    {
     "data": {
      "text/html": [
       "<div>\n",
       "<style scoped>\n",
       "    .dataframe tbody tr th:only-of-type {\n",
       "        vertical-align: middle;\n",
       "    }\n",
       "\n",
       "    .dataframe tbody tr th {\n",
       "        vertical-align: top;\n",
       "    }\n",
       "\n",
       "    .dataframe thead th {\n",
       "        text-align: right;\n",
       "    }\n",
       "</style>\n",
       "<table border=\"1\" class=\"dataframe\">\n",
       "  <thead>\n",
       "    <tr style=\"text-align: right;\">\n",
       "      <th></th>\n",
       "      <th>Price</th>\n",
       "      <th>RegistrationYear</th>\n",
       "      <th>Power</th>\n",
       "      <th>Kilometer</th>\n",
       "      <th>RegistrationMonth</th>\n",
       "      <th>NumberOfPictures</th>\n",
       "      <th>PostalCode</th>\n",
       "    </tr>\n",
       "  </thead>\n",
       "  <tbody>\n",
       "    <tr>\n",
       "      <th>count</th>\n",
       "      <td>354369.000000</td>\n",
       "      <td>354369.000000</td>\n",
       "      <td>354369.000000</td>\n",
       "      <td>354369.000000</td>\n",
       "      <td>354369.000000</td>\n",
       "      <td>354369.0</td>\n",
       "      <td>354369.000000</td>\n",
       "    </tr>\n",
       "    <tr>\n",
       "      <th>mean</th>\n",
       "      <td>4416.656776</td>\n",
       "      <td>2004.234448</td>\n",
       "      <td>110.094337</td>\n",
       "      <td>128211.172535</td>\n",
       "      <td>5.714645</td>\n",
       "      <td>0.0</td>\n",
       "      <td>50508.689087</td>\n",
       "    </tr>\n",
       "    <tr>\n",
       "      <th>std</th>\n",
       "      <td>4514.158514</td>\n",
       "      <td>90.227958</td>\n",
       "      <td>189.850405</td>\n",
       "      <td>37905.341530</td>\n",
       "      <td>3.726421</td>\n",
       "      <td>0.0</td>\n",
       "      <td>25783.096248</td>\n",
       "    </tr>\n",
       "    <tr>\n",
       "      <th>min</th>\n",
       "      <td>0.000000</td>\n",
       "      <td>1000.000000</td>\n",
       "      <td>0.000000</td>\n",
       "      <td>5000.000000</td>\n",
       "      <td>0.000000</td>\n",
       "      <td>0.0</td>\n",
       "      <td>1067.000000</td>\n",
       "    </tr>\n",
       "    <tr>\n",
       "      <th>25%</th>\n",
       "      <td>1050.000000</td>\n",
       "      <td>1999.000000</td>\n",
       "      <td>69.000000</td>\n",
       "      <td>125000.000000</td>\n",
       "      <td>3.000000</td>\n",
       "      <td>0.0</td>\n",
       "      <td>30165.000000</td>\n",
       "    </tr>\n",
       "    <tr>\n",
       "      <th>50%</th>\n",
       "      <td>2700.000000</td>\n",
       "      <td>2003.000000</td>\n",
       "      <td>105.000000</td>\n",
       "      <td>150000.000000</td>\n",
       "      <td>6.000000</td>\n",
       "      <td>0.0</td>\n",
       "      <td>49413.000000</td>\n",
       "    </tr>\n",
       "    <tr>\n",
       "      <th>75%</th>\n",
       "      <td>6400.000000</td>\n",
       "      <td>2008.000000</td>\n",
       "      <td>143.000000</td>\n",
       "      <td>150000.000000</td>\n",
       "      <td>9.000000</td>\n",
       "      <td>0.0</td>\n",
       "      <td>71083.000000</td>\n",
       "    </tr>\n",
       "    <tr>\n",
       "      <th>max</th>\n",
       "      <td>20000.000000</td>\n",
       "      <td>9999.000000</td>\n",
       "      <td>20000.000000</td>\n",
       "      <td>150000.000000</td>\n",
       "      <td>12.000000</td>\n",
       "      <td>0.0</td>\n",
       "      <td>99998.000000</td>\n",
       "    </tr>\n",
       "  </tbody>\n",
       "</table>\n",
       "</div>"
      ],
      "text/plain": [
       "               Price  RegistrationYear          Power      Kilometer  \\\n",
       "count  354369.000000     354369.000000  354369.000000  354369.000000   \n",
       "mean     4416.656776       2004.234448     110.094337  128211.172535   \n",
       "std      4514.158514         90.227958     189.850405   37905.341530   \n",
       "min         0.000000       1000.000000       0.000000    5000.000000   \n",
       "25%      1050.000000       1999.000000      69.000000  125000.000000   \n",
       "50%      2700.000000       2003.000000     105.000000  150000.000000   \n",
       "75%      6400.000000       2008.000000     143.000000  150000.000000   \n",
       "max     20000.000000       9999.000000   20000.000000  150000.000000   \n",
       "\n",
       "       RegistrationMonth  NumberOfPictures     PostalCode  \n",
       "count      354369.000000          354369.0  354369.000000  \n",
       "mean            5.714645               0.0   50508.689087  \n",
       "std             3.726421               0.0   25783.096248  \n",
       "min             0.000000               0.0    1067.000000  \n",
       "25%             3.000000               0.0   30165.000000  \n",
       "50%             6.000000               0.0   49413.000000  \n",
       "75%             9.000000               0.0   71083.000000  \n",
       "max            12.000000               0.0   99998.000000  "
      ]
     },
     "metadata": {},
     "output_type": "display_data"
    },
    {
     "name": "stdout",
     "output_type": "stream",
     "text": [
      "<class 'pandas.core.frame.DataFrame'>\n",
      "RangeIndex: 354369 entries, 0 to 354368\n",
      "Data columns (total 16 columns):\n",
      " #   Column             Non-Null Count   Dtype \n",
      "---  ------             --------------   ----- \n",
      " 0   DateCrawled        354369 non-null  object\n",
      " 1   Price              354369 non-null  int64 \n",
      " 2   VehicleType        316879 non-null  object\n",
      " 3   RegistrationYear   354369 non-null  int64 \n",
      " 4   Gearbox            334536 non-null  object\n",
      " 5   Power              354369 non-null  int64 \n",
      " 6   Model              334664 non-null  object\n",
      " 7   Kilometer          354369 non-null  int64 \n",
      " 8   RegistrationMonth  354369 non-null  int64 \n",
      " 9   FuelType           321474 non-null  object\n",
      " 10  Brand              354369 non-null  object\n",
      " 11  Repaired           283215 non-null  object\n",
      " 12  DateCreated        354369 non-null  object\n",
      " 13  NumberOfPictures   354369 non-null  int64 \n",
      " 14  PostalCode         354369 non-null  int64 \n",
      " 15  LastSeen           354369 non-null  object\n",
      "dtypes: int64(7), object(9)\n",
      "memory usage: 43.3+ MB\n",
      "None\n"
     ]
    }
   ],
   "source": [
    "display(data.head())\n",
    "display(data.describe())\n",
    "print(data.info())"
   ]
  },
  {
   "cell_type": "code",
   "execution_count": 6,
   "metadata": {},
   "outputs": [
    {
     "data": {
      "text/plain": [
       "4"
      ]
     },
     "execution_count": 6,
     "metadata": {},
     "output_type": "execute_result"
    }
   ],
   "source": [
    "data.duplicated().sum()\n"
   ]
  },
  {
   "cell_type": "code",
   "execution_count": 7,
   "metadata": {
    "scrolled": true
   },
   "outputs": [],
   "source": [
    "data.drop_duplicates(inplace=True)"
   ]
  },
  {
   "cell_type": "code",
   "execution_count": 8,
   "metadata": {},
   "outputs": [
    {
     "data": {
      "image/png": "[encoded data removed]",
      "text/plain": [
       "<Figure size 720x432 with 1 Axes>"
      ]
     },
     "metadata": {
      "needs_background": "light"
     },
     "output_type": "display_data"
    }
   ],
   "source": [
    "plt.rcParams[\"figure.figsize\"] = (10, 6)\n",
    "plt.hist(data['Price'], bins=30)\n",
    "\n",
    "plt.xlabel('Price')\n",
    "plt.ylabel('Frequency')\n",
    "plt.title('Распределение цен на автомобили')\n",
    "plt.show()"
   ]
  },
  {
   "cell_type": "code",
   "execution_count": 9,
   "metadata": {
    "scrolled": false
   },
   "outputs": [
    {
     "name": "stdout",
     "output_type": "stream",
     "text": [
      "DateCrawled              0\n",
      "Price                    0\n",
      "VehicleType          37490\n",
      "RegistrationYear         0\n",
      "Gearbox              19833\n",
      "Power                    0\n",
      "Model                19705\n",
      "Kilometer                0\n",
      "RegistrationMonth        0\n",
      "FuelType             32895\n",
      "Brand                    0\n",
      "Repaired             71154\n",
      "DateCreated              0\n",
      "NumberOfPictures         0\n",
      "PostalCode               0\n",
      "LastSeen                 0\n",
      "dtype: int64\n"
     ]
    }
   ],
   "source": [
    "print(data.isnull().sum())"
   ]
  },
  {
   "cell_type": "code",
   "execution_count": 10,
   "metadata": {},
   "outputs": [],
   "source": [
    "data[\"VehicleType\"] = data[\"VehicleType\"].fillna(data[\"VehicleType\"].mode().values[0])\n",
    "data[\"Gearbox\"] = data[\"Gearbox\"].fillna(data[\"Gearbox\"].mode().values[0])\n",
    "data[\"Model\"] = data[\"Model\"].fillna(data[\"Model\"].mode().values[0])\n",
    "data[\"FuelType\"] = data[\"FuelType\"].fillna(data[\"FuelType\"].mode().values[0])\n",
    "\n",
    "data[\"Repaired\"] = data[\"Repaired\"].fillna(\"no\")"
   ]
  },
  {
   "cell_type": "code",
   "execution_count": 11,
   "metadata": {},
   "outputs": [],
   "source": [
    "columns_to_fill = ['VehicleType', 'Gearbox', 'Model', 'FuelType', 'Repaired']\n",
    "\n",
    "for column in columns_to_fill:\n",
    "    data[column].fillna('Unknown', inplace=True)"
   ]
  },
  {
   "cell_type": "code",
   "execution_count": 12,
   "metadata": {},
   "outputs": [
    {
     "name": "stdout",
     "output_type": "stream",
     "text": [
      "DateCrawled          0\n",
      "Price                0\n",
      "VehicleType          0\n",
      "RegistrationYear     0\n",
      "Gearbox              0\n",
      "Power                0\n",
      "Model                0\n",
      "Kilometer            0\n",
      "RegistrationMonth    0\n",
      "FuelType             0\n",
      "Brand                0\n",
      "Repaired             0\n",
      "DateCreated          0\n",
      "NumberOfPictures     0\n",
      "PostalCode           0\n",
      "LastSeen             0\n",
      "dtype: int64\n"
     ]
    }
   ],
   "source": [
    "print(data.isnull().sum())"
   ]
  },
  {
   "cell_type": "code",
   "execution_count": 13,
   "metadata": {},
   "outputs": [
    {
     "data": {
      "image/png": "[encoded data removed]",
      "text/plain": [
       "<Figure size 720x432 with 1 Axes>"
      ]
     },
     "metadata": {
      "needs_background": "light"
     },
     "output_type": "display_data"
    }
   ],
   "source": [
    "plt.rcParams[\"figure.figsize\"] = (10, 6)\n",
    "\n",
    "sns.boxplot(x='RegistrationMonth', y='Price', data=data)\n",
    "\n",
    "plt.xlabel('Registration Month')\n",
    "plt.ylabel('Price')\n",
    "plt.title('Влияния месяца регистрации на цену')\n",
    "plt.show()"
   ]
  },
  {
   "cell_type": "code",
   "execution_count": 14,
   "metadata": {},
   "outputs": [
    {
     "data": {
      "text/plain": [
       "57495"
      ]
     },
     "execution_count": 14,
     "metadata": {},
     "output_type": "execute_result"
    }
   ],
   "source": [
    "full_data = data.copy()\n",
    "data = data.drop(['DateCrawled', 'DateCreated', 'PostalCode', 'LastSeen', 'NumberOfPictures','RegistrationMonth'], axis=1)\n",
    "data.duplicated().sum()\n"
   ]
  },
  {
   "cell_type": "code",
   "execution_count": 15,
   "metadata": {
    "scrolled": true
   },
   "outputs": [
    {
     "data": {
      "text/plain": [
       "0"
      ]
     },
     "execution_count": 15,
     "metadata": {},
     "output_type": "execute_result"
    }
   ],
   "source": [
    "data.drop_duplicates(inplace=True)\n",
    "data.duplicated().sum()"
   ]
  },
  {
   "cell_type": "code",
   "execution_count": 16,
   "metadata": {},
   "outputs": [
    {
     "data": {
      "image/png": "[encoded data removed]",
      "text/plain": [
       "<Figure size 720x360 with 1 Axes>"
      ]
     },
     "metadata": {
      "needs_background": "light"
     },
     "output_type": "display_data"
    },
    {
     "data": {
      "image/png": "[encoded data removed]",
      "text/plain": [
       "<Figure size 720x360 with 1 Axes>"
      ]
     },
     "metadata": {
      "needs_background": "light"
     },
     "output_type": "display_data"
    },
    {
     "data": {
      "image/png": "[encoded data removed]",
      "text/plain": [
       "<Figure size 720x360 with 1 Axes>"
      ]
     },
     "metadata": {
      "needs_background": "light"
     },
     "output_type": "display_data"
    }
   ],
   "source": [
    "data[(data['RegistrationYear'] >= 1990) & (data['RegistrationYear'] <= 2016)]\n",
    "features_to_check = ['Power', 'Price', 'RegistrationYear']\n",
    "\n",
    "for feature in features_to_check:\n",
    "    plt.figure(figsize=(10, 5))\n",
    "    sns.boxplot(x=data[feature])\n",
    "    plt.title(f'Boxplot of {feature}')\n",
    "    plt.show()"
   ]
  },
  {
   "cell_type": "code",
   "execution_count": 17,
   "metadata": {},
   "outputs": [
    {
     "data": {
      "image/png": "[encoded data removed]",
      "text/plain": [
       "<Figure size 720x432 with 1 Axes>"
      ]
     },
     "metadata": {
      "needs_background": "light"
     },
     "output_type": "display_data"
    },
    {
     "data": {
      "image/png": "[encoded data removed]",
      "text/plain": [
       "<Figure size 720x432 with 1 Axes>"
      ]
     },
     "metadata": {
      "needs_background": "light"
     },
     "output_type": "display_data"
    }
   ],
   "source": [
    "sns.boxplot(x=data['Power'])\n",
    "plt.title('Boxplot for Power')\n",
    "plt.show()\n",
    "\n",
    "Q1 = data['Power'].quantile(0.25)\n",
    "Q3 = data['Power'].quantile(0.75)\n",
    "IQR = Q3 - Q1\n",
    "\n",
    "lower_bound = Q1 - 1.5 * IQR\n",
    "upper_bound = Q3 + 1.5 * IQR\n",
    "\n",
    "filtered_data = data[(data['Power'] >= lower_bound) & (data['Power'] <= upper_bound)]\n",
    "\n",
    "sns.boxplot(x=filtered_data['Power'])\n",
    "plt.title('Boxplot for Power after filtering')\n",
    "plt.show()"
   ]
  },
  {
   "cell_type": "code",
   "execution_count": 18,
   "metadata": {},
   "outputs": [],
   "source": [
    "power_bounds = [10, 1000]\n",
    "price_bounds = [100, 200000]\n",
    "current_year = 2016\n",
    "year_bounds = [1990, current_year]"
   ]
  },
  {
   "cell_type": "code",
   "execution_count": 19,
   "metadata": {},
   "outputs": [
    {
     "data": {
      "image/png": "[encoded data removed]",
      "text/plain": [
       "<Figure size 720x360 with 1 Axes>"
      ]
     },
     "metadata": {
      "needs_background": "light"
     },
     "output_type": "display_data"
    },
    {
     "data": {
      "image/png": "[encoded data removed]",
      "text/plain": [
       "<Figure size 720x360 with 1 Axes>"
      ]
     },
     "metadata": {
      "needs_background": "light"
     },
     "output_type": "display_data"
    },
    {
     "data": {
      "image/png": "[encoded data removed]",
      "text/plain": [
       "<Figure size 720x360 with 1 Axes>"
      ]
     },
     "metadata": {
      "needs_background": "light"
     },
     "output_type": "display_data"
    }
   ],
   "source": [
    "filtered_data = data[\n",
    "    (data['Power'] >= power_bounds[0]) & (data['Power'] <= power_bounds[1]) &\n",
    "    (data['Price'] >= price_bounds[0]) & (data['Price'] <= price_bounds[1]) &\n",
    "    (data['RegistrationYear'] >= year_bounds[0]) & (data['RegistrationYear'] <= year_bounds[1])\n",
    "]\n",
    "\n",
    "features_to_check = ['Power', 'Price', 'RegistrationYear']\n",
    "\n",
    "for feature in features_to_check:\n",
    "    plt.figure(figsize=(10, 5))\n",
    "    sns.boxplot(x=filtered_data[feature])\n",
    "    plt.title(f'Boxplot of {feature} after filtering')\n",
    "    plt.show()"
   ]
  },
  {
   "cell_type": "markdown",
   "metadata": {},
   "source": [
    "**Выводы:**\n",
    "\n",
    "* Общий объем данных 354369 записей 16 столбцов\n",
    "* Все столбцы имеют соответствующий тип данных\n",
    "\n",
    "* Пропущенные значения: столбцы VehicleType, Gearbox, Model, FuelType, и Repaired имеют пропущенные значения\n",
    "Используемые методы обработки: Для VehicleType, пропущенные значения были заменены.\n",
    "\n",
    "* Аномальные значения: Были обнаружены и обработаны аномалии в столбце Power, Price и RegistrationYear\n"
   ]
  },
  {
   "cell_type": "code",
   "execution_count": 20,
   "metadata": {},
   "outputs": [
    {
     "data": {
      "text/html": [
       "<div>\n",
       "<style scoped>\n",
       "    .dataframe tbody tr th:only-of-type {\n",
       "        vertical-align: middle;\n",
       "    }\n",
       "\n",
       "    .dataframe tbody tr th {\n",
       "        vertical-align: top;\n",
       "    }\n",
       "\n",
       "    .dataframe thead th {\n",
       "        text-align: right;\n",
       "    }\n",
       "</style>\n",
       "<table border=\"1\" class=\"dataframe\">\n",
       "  <thead>\n",
       "    <tr style=\"text-align: right;\">\n",
       "      <th></th>\n",
       "      <th>Price</th>\n",
       "      <th>VehicleType</th>\n",
       "      <th>RegistrationYear</th>\n",
       "      <th>Gearbox</th>\n",
       "      <th>Power</th>\n",
       "      <th>Model</th>\n",
       "      <th>Kilometer</th>\n",
       "      <th>FuelType</th>\n",
       "      <th>Brand</th>\n",
       "      <th>Repaired</th>\n",
       "    </tr>\n",
       "  </thead>\n",
       "  <tbody>\n",
       "    <tr>\n",
       "      <th>1</th>\n",
       "      <td>18300</td>\n",
       "      <td>coupe</td>\n",
       "      <td>2011</td>\n",
       "      <td>manual</td>\n",
       "      <td>190</td>\n",
       "      <td>golf</td>\n",
       "      <td>125000</td>\n",
       "      <td>gasoline</td>\n",
       "      <td>audi</td>\n",
       "      <td>yes</td>\n",
       "    </tr>\n",
       "    <tr>\n",
       "      <th>2</th>\n",
       "      <td>9800</td>\n",
       "      <td>suv</td>\n",
       "      <td>2004</td>\n",
       "      <td>auto</td>\n",
       "      <td>163</td>\n",
       "      <td>grand</td>\n",
       "      <td>125000</td>\n",
       "      <td>gasoline</td>\n",
       "      <td>jeep</td>\n",
       "      <td>no</td>\n",
       "    </tr>\n",
       "    <tr>\n",
       "      <th>3</th>\n",
       "      <td>1500</td>\n",
       "      <td>small</td>\n",
       "      <td>2001</td>\n",
       "      <td>manual</td>\n",
       "      <td>75</td>\n",
       "      <td>golf</td>\n",
       "      <td>150000</td>\n",
       "      <td>petrol</td>\n",
       "      <td>volkswagen</td>\n",
       "      <td>no</td>\n",
       "    </tr>\n",
       "    <tr>\n",
       "      <th>4</th>\n",
       "      <td>3600</td>\n",
       "      <td>small</td>\n",
       "      <td>2008</td>\n",
       "      <td>manual</td>\n",
       "      <td>69</td>\n",
       "      <td>fabia</td>\n",
       "      <td>90000</td>\n",
       "      <td>gasoline</td>\n",
       "      <td>skoda</td>\n",
       "      <td>no</td>\n",
       "    </tr>\n",
       "    <tr>\n",
       "      <th>5</th>\n",
       "      <td>650</td>\n",
       "      <td>sedan</td>\n",
       "      <td>1995</td>\n",
       "      <td>manual</td>\n",
       "      <td>102</td>\n",
       "      <td>3er</td>\n",
       "      <td>150000</td>\n",
       "      <td>petrol</td>\n",
       "      <td>bmw</td>\n",
       "      <td>yes</td>\n",
       "    </tr>\n",
       "    <tr>\n",
       "      <th>...</th>\n",
       "      <td>...</td>\n",
       "      <td>...</td>\n",
       "      <td>...</td>\n",
       "      <td>...</td>\n",
       "      <td>...</td>\n",
       "      <td>...</td>\n",
       "      <td>...</td>\n",
       "      <td>...</td>\n",
       "      <td>...</td>\n",
       "      <td>...</td>\n",
       "    </tr>\n",
       "    <tr>\n",
       "      <th>354361</th>\n",
       "      <td>5250</td>\n",
       "      <td>sedan</td>\n",
       "      <td>2016</td>\n",
       "      <td>auto</td>\n",
       "      <td>150</td>\n",
       "      <td>159</td>\n",
       "      <td>150000</td>\n",
       "      <td>petrol</td>\n",
       "      <td>alfa_romeo</td>\n",
       "      <td>no</td>\n",
       "    </tr>\n",
       "    <tr>\n",
       "      <th>354362</th>\n",
       "      <td>3200</td>\n",
       "      <td>sedan</td>\n",
       "      <td>2004</td>\n",
       "      <td>manual</td>\n",
       "      <td>225</td>\n",
       "      <td>leon</td>\n",
       "      <td>150000</td>\n",
       "      <td>petrol</td>\n",
       "      <td>seat</td>\n",
       "      <td>yes</td>\n",
       "    </tr>\n",
       "    <tr>\n",
       "      <th>354366</th>\n",
       "      <td>1199</td>\n",
       "      <td>convertible</td>\n",
       "      <td>2000</td>\n",
       "      <td>auto</td>\n",
       "      <td>101</td>\n",
       "      <td>fortwo</td>\n",
       "      <td>125000</td>\n",
       "      <td>petrol</td>\n",
       "      <td>smart</td>\n",
       "      <td>no</td>\n",
       "    </tr>\n",
       "    <tr>\n",
       "      <th>354367</th>\n",
       "      <td>9200</td>\n",
       "      <td>bus</td>\n",
       "      <td>1996</td>\n",
       "      <td>manual</td>\n",
       "      <td>102</td>\n",
       "      <td>transporter</td>\n",
       "      <td>150000</td>\n",
       "      <td>gasoline</td>\n",
       "      <td>volkswagen</td>\n",
       "      <td>no</td>\n",
       "    </tr>\n",
       "    <tr>\n",
       "      <th>354368</th>\n",
       "      <td>3400</td>\n",
       "      <td>wagon</td>\n",
       "      <td>2002</td>\n",
       "      <td>manual</td>\n",
       "      <td>100</td>\n",
       "      <td>golf</td>\n",
       "      <td>150000</td>\n",
       "      <td>gasoline</td>\n",
       "      <td>volkswagen</td>\n",
       "      <td>no</td>\n",
       "    </tr>\n",
       "  </tbody>\n",
       "</table>\n",
       "<p>240510 rows × 10 columns</p>\n",
       "</div>"
      ],
      "text/plain": [
       "        Price  VehicleType  RegistrationYear Gearbox  Power        Model  \\\n",
       "1       18300        coupe              2011  manual    190         golf   \n",
       "2        9800          suv              2004    auto    163        grand   \n",
       "3        1500        small              2001  manual     75         golf   \n",
       "4        3600        small              2008  manual     69        fabia   \n",
       "5         650        sedan              1995  manual    102          3er   \n",
       "...       ...          ...               ...     ...    ...          ...   \n",
       "354361   5250        sedan              2016    auto    150          159   \n",
       "354362   3200        sedan              2004  manual    225         leon   \n",
       "354366   1199  convertible              2000    auto    101       fortwo   \n",
       "354367   9200          bus              1996  manual    102  transporter   \n",
       "354368   3400        wagon              2002  manual    100         golf   \n",
       "\n",
       "        Kilometer  FuelType       Brand Repaired  \n",
       "1          125000  gasoline        audi      yes  \n",
       "2          125000  gasoline        jeep       no  \n",
       "3          150000    petrol  volkswagen       no  \n",
       "4           90000  gasoline       skoda       no  \n",
       "5          150000    petrol         bmw      yes  \n",
       "...           ...       ...         ...      ...  \n",
       "354361     150000    petrol  alfa_romeo       no  \n",
       "354362     150000    petrol        seat      yes  \n",
       "354366     125000    petrol       smart       no  \n",
       "354367     150000  gasoline  volkswagen       no  \n",
       "354368     150000  gasoline  volkswagen       no  \n",
       "\n",
       "[240510 rows x 10 columns]"
      ]
     },
     "metadata": {},
     "output_type": "display_data"
    }
   ],
   "source": [
    "display(filtered_data)"
   ]
  },
  {
   "cell_type": "markdown",
   "metadata": {},
   "source": [
    "## Обучение моделей"
   ]
  },
  {
   "cell_type": "markdown",
   "metadata": {},
   "source": [
    "**Разделение и кодировка**"
   ]
  },
  {
   "cell_type": "code",
   "execution_count": 22,
   "metadata": {},
   "outputs": [],
   "source": [
    "numeric_features = filtered_data.select_dtypes(include=['int64', 'float64']).columns.tolist()\n",
    "numeric_features.remove('Price')\n",
    "categorical_features = filtered_data.select_dtypes(include=['object']).columns.tolist()\n",
    "\n",
    "preprocessor = ColumnTransformer(\n",
    "    transformers=[\n",
    "        ('num', 'passthrough', numeric_features),\n",
    "        ('cat', OneHotEncoder(drop='first', handle_unknown='ignore', sparse=False), categorical_features)\n",
    "    ]\n",
    ")"
   ]
  },
  {
   "cell_type": "code",
   "execution_count": 23,
   "metadata": {},
   "outputs": [],
   "source": [
    "X = filtered_data.drop('Price', axis=1)\n",
    "y = filtered_data['Price']"
   ]
  },
  {
   "cell_type": "code",
   "execution_count": 24,
   "metadata": {},
   "outputs": [],
   "source": [
    "X_train, X_test, y_train, y_test = train_test_split(X, y, test_size=0.2, random_state=42)"
   ]
  },
  {
   "cell_type": "markdown",
   "metadata": {},
   "source": [
    "**Pipeline и параметры для поиска LGBM**"
   ]
  },
  {
   "cell_type": "code",
   "execution_count": 25,
   "metadata": {
    "scrolled": true
   },
   "outputs": [
    {
     "name": "stderr",
     "output_type": "stream",
     "text": [
      "/opt/conda/lib/python3.9/site-packages/sklearn/preprocessing/_encoders.py:975: FutureWarning: `sparse` was renamed to `sparse_output` in version 1.2 and will be removed in 1.4. `sparse_output` is ignored unless you leave `sparse` to its default value.\n",
      "  warnings.warn(\n"
     ]
    },
    {
     "name": "stdout",
     "output_type": "stream",
     "text": [
      "[LightGBM] [Warning] min_data_in_leaf is set=30, min_child_samples=20 will be ignored. Current value: min_data_in_leaf=30\n"
     ]
    },
    {
     "name": "stderr",
     "output_type": "stream",
     "text": [
      "/opt/conda/lib/python3.9/site-packages/sklearn/preprocessing/_encoders.py:975: FutureWarning: `sparse` was renamed to `sparse_output` in version 1.2 and will be removed in 1.4. `sparse_output` is ignored unless you leave `sparse` to its default value.\n",
      "  warnings.warn(\n"
     ]
    },
    {
     "name": "stdout",
     "output_type": "stream",
     "text": [
      "[LightGBM] [Warning] min_data_in_leaf is set=30, min_child_samples=20 will be ignored. Current value: min_data_in_leaf=30\n"
     ]
    },
    {
     "name": "stderr",
     "output_type": "stream",
     "text": [
      "/opt/conda/lib/python3.9/site-packages/sklearn/preprocessing/_encoders.py:975: FutureWarning: `sparse` was renamed to `sparse_output` in version 1.2 and will be removed in 1.4. `sparse_output` is ignored unless you leave `sparse` to its default value.\n",
      "  warnings.warn(\n"
     ]
    },
    {
     "name": "stdout",
     "output_type": "stream",
     "text": [
      "[LightGBM] [Warning] min_data_in_leaf is set=30, min_child_samples=20 will be ignored. Current value: min_data_in_leaf=30\n"
     ]
    },
    {
     "name": "stderr",
     "output_type": "stream",
     "text": [
      "/opt/conda/lib/python3.9/site-packages/sklearn/preprocessing/_encoders.py:975: FutureWarning: `sparse` was renamed to `sparse_output` in version 1.2 and will be removed in 1.4. `sparse_output` is ignored unless you leave `sparse` to its default value.\n",
      "  warnings.warn(\n"
     ]
    },
    {
     "name": "stdout",
     "output_type": "stream",
     "text": [
      "[LightGBM] [Warning] min_data_in_leaf is set=30, min_child_samples=20 will be ignored. Current value: min_data_in_leaf=30\n"
     ]
    },
    {
     "name": "stderr",
     "output_type": "stream",
     "text": [
      "/opt/conda/lib/python3.9/site-packages/sklearn/preprocessing/_encoders.py:228: UserWarning: Found unknown categories in columns [2] during transform. These unknown categories will be encoded as all zeros\n",
      "  warnings.warn(\n",
      "/opt/conda/lib/python3.9/site-packages/sklearn/preprocessing/_encoders.py:975: FutureWarning: `sparse` was renamed to `sparse_output` in version 1.2 and will be removed in 1.4. `sparse_output` is ignored unless you leave `sparse` to its default value.\n",
      "  warnings.warn(\n"
     ]
    },
    {
     "name": "stdout",
     "output_type": "stream",
     "text": [
      "[LightGBM] [Warning] min_data_in_leaf is set=30, min_child_samples=20 will be ignored. Current value: min_data_in_leaf=30\n"
     ]
    },
    {
     "name": "stderr",
     "output_type": "stream",
     "text": [
      "/opt/conda/lib/python3.9/site-packages/sklearn/preprocessing/_encoders.py:975: FutureWarning: `sparse` was renamed to `sparse_output` in version 1.2 and will be removed in 1.4. `sparse_output` is ignored unless you leave `sparse` to its default value.\n",
      "  warnings.warn(\n"
     ]
    },
    {
     "name": "stdout",
     "output_type": "stream",
     "text": [
      "[LightGBM] [Warning] min_data_in_leaf is set=30, min_child_samples=20 will be ignored. Current value: min_data_in_leaf=30\n"
     ]
    },
    {
     "name": "stderr",
     "output_type": "stream",
     "text": [
      "/opt/conda/lib/python3.9/site-packages/sklearn/preprocessing/_encoders.py:975: FutureWarning: `sparse` was renamed to `sparse_output` in version 1.2 and will be removed in 1.4. `sparse_output` is ignored unless you leave `sparse` to its default value.\n",
      "  warnings.warn(\n"
     ]
    },
    {
     "name": "stdout",
     "output_type": "stream",
     "text": [
      "[LightGBM] [Warning] min_data_in_leaf is set=30, min_child_samples=20 will be ignored. Current value: min_data_in_leaf=30\n"
     ]
    },
    {
     "name": "stderr",
     "output_type": "stream",
     "text": [
      "/opt/conda/lib/python3.9/site-packages/sklearn/preprocessing/_encoders.py:975: FutureWarning: `sparse` was renamed to `sparse_output` in version 1.2 and will be removed in 1.4. `sparse_output` is ignored unless you leave `sparse` to its default value.\n",
      "  warnings.warn(\n"
     ]
    },
    {
     "name": "stdout",
     "output_type": "stream",
     "text": [
      "[LightGBM] [Warning] min_data_in_leaf is set=30, min_child_samples=20 will be ignored. Current value: min_data_in_leaf=30\n"
     ]
    },
    {
     "name": "stderr",
     "output_type": "stream",
     "text": [
      "/opt/conda/lib/python3.9/site-packages/sklearn/preprocessing/_encoders.py:975: FutureWarning: `sparse` was renamed to `sparse_output` in version 1.2 and will be removed in 1.4. `sparse_output` is ignored unless you leave `sparse` to its default value.\n",
      "  warnings.warn(\n"
     ]
    },
    {
     "name": "stdout",
     "output_type": "stream",
     "text": [
      "[LightGBM] [Warning] min_data_in_leaf is set=30, min_child_samples=20 will be ignored. Current value: min_data_in_leaf=30\n"
     ]
    },
    {
     "name": "stderr",
     "output_type": "stream",
     "text": [
      "/opt/conda/lib/python3.9/site-packages/sklearn/preprocessing/_encoders.py:228: UserWarning: Found unknown categories in columns [2] during transform. These unknown categories will be encoded as all zeros\n",
      "  warnings.warn(\n",
      "/opt/conda/lib/python3.9/site-packages/sklearn/preprocessing/_encoders.py:975: FutureWarning: `sparse` was renamed to `sparse_output` in version 1.2 and will be removed in 1.4. `sparse_output` is ignored unless you leave `sparse` to its default value.\n",
      "  warnings.warn(\n"
     ]
    },
    {
     "name": "stdout",
     "output_type": "stream",
     "text": [
      "[LightGBM] [Warning] min_data_in_leaf is set=30, min_child_samples=20 will be ignored. Current value: min_data_in_leaf=30\n"
     ]
    },
    {
     "name": "stderr",
     "output_type": "stream",
     "text": [
      "/opt/conda/lib/python3.9/site-packages/sklearn/preprocessing/_encoders.py:975: FutureWarning: `sparse` was renamed to `sparse_output` in version 1.2 and will be removed in 1.4. `sparse_output` is ignored unless you leave `sparse` to its default value.\n",
      "  warnings.warn(\n"
     ]
    },
    {
     "name": "stdout",
     "output_type": "stream",
     "text": [
      "[LightGBM] [Warning] min_data_in_leaf is set=30, min_child_samples=20 will be ignored. Current value: min_data_in_leaf=30\n"
     ]
    },
    {
     "name": "stderr",
     "output_type": "stream",
     "text": [
      "/opt/conda/lib/python3.9/site-packages/sklearn/preprocessing/_encoders.py:975: FutureWarning: `sparse` was renamed to `sparse_output` in version 1.2 and will be removed in 1.4. `sparse_output` is ignored unless you leave `sparse` to its default value.\n",
      "  warnings.warn(\n"
     ]
    },
    {
     "name": "stdout",
     "output_type": "stream",
     "text": [
      "[LightGBM] [Warning] min_data_in_leaf is set=30, min_child_samples=20 will be ignored. Current value: min_data_in_leaf=30\n"
     ]
    },
    {
     "name": "stderr",
     "output_type": "stream",
     "text": [
      "/opt/conda/lib/python3.9/site-packages/sklearn/preprocessing/_encoders.py:975: FutureWarning: `sparse` was renamed to `sparse_output` in version 1.2 and will be removed in 1.4. `sparse_output` is ignored unless you leave `sparse` to its default value.\n",
      "  warnings.warn(\n"
     ]
    },
    {
     "name": "stdout",
     "output_type": "stream",
     "text": [
      "[LightGBM] [Warning] min_data_in_leaf is set=30, min_child_samples=20 will be ignored. Current value: min_data_in_leaf=30\n"
     ]
    },
    {
     "name": "stderr",
     "output_type": "stream",
     "text": [
      "/opt/conda/lib/python3.9/site-packages/sklearn/preprocessing/_encoders.py:975: FutureWarning: `sparse` was renamed to `sparse_output` in version 1.2 and will be removed in 1.4. `sparse_output` is ignored unless you leave `sparse` to its default value.\n",
      "  warnings.warn(\n"
     ]
    },
    {
     "name": "stdout",
     "output_type": "stream",
     "text": [
      "[LightGBM] [Warning] min_data_in_leaf is set=30, min_child_samples=20 will be ignored. Current value: min_data_in_leaf=30\n"
     ]
    },
    {
     "name": "stderr",
     "output_type": "stream",
     "text": [
      "/opt/conda/lib/python3.9/site-packages/sklearn/preprocessing/_encoders.py:228: UserWarning: Found unknown categories in columns [2] during transform. These unknown categories will be encoded as all zeros\n",
      "  warnings.warn(\n",
      "/opt/conda/lib/python3.9/site-packages/sklearn/preprocessing/_encoders.py:975: FutureWarning: `sparse` was renamed to `sparse_output` in version 1.2 and will be removed in 1.4. `sparse_output` is ignored unless you leave `sparse` to its default value.\n",
      "  warnings.warn(\n"
     ]
    },
    {
     "name": "stdout",
     "output_type": "stream",
     "text": [
      "[LightGBM] [Warning] min_data_in_leaf is set=30, min_child_samples=20 will be ignored. Current value: min_data_in_leaf=30\n"
     ]
    },
    {
     "name": "stderr",
     "output_type": "stream",
     "text": [
      "/opt/conda/lib/python3.9/site-packages/sklearn/preprocessing/_encoders.py:975: FutureWarning: `sparse` was renamed to `sparse_output` in version 1.2 and will be removed in 1.4. `sparse_output` is ignored unless you leave `sparse` to its default value.\n",
      "  warnings.warn(\n"
     ]
    },
    {
     "name": "stdout",
     "output_type": "stream",
     "text": [
      "[LightGBM] [Warning] min_data_in_leaf is set=30, min_child_samples=20 will be ignored. Current value: min_data_in_leaf=30\n"
     ]
    },
    {
     "name": "stderr",
     "output_type": "stream",
     "text": [
      "/opt/conda/lib/python3.9/site-packages/sklearn/preprocessing/_encoders.py:975: FutureWarning: `sparse` was renamed to `sparse_output` in version 1.2 and will be removed in 1.4. `sparse_output` is ignored unless you leave `sparse` to its default value.\n",
      "  warnings.warn(\n"
     ]
    },
    {
     "name": "stdout",
     "output_type": "stream",
     "text": [
      "[LightGBM] [Warning] min_data_in_leaf is set=30, min_child_samples=20 will be ignored. Current value: min_data_in_leaf=30\n"
     ]
    },
    {
     "name": "stderr",
     "output_type": "stream",
     "text": [
      "/opt/conda/lib/python3.9/site-packages/sklearn/preprocessing/_encoders.py:975: FutureWarning: `sparse` was renamed to `sparse_output` in version 1.2 and will be removed in 1.4. `sparse_output` is ignored unless you leave `sparse` to its default value.\n",
      "  warnings.warn(\n"
     ]
    },
    {
     "name": "stdout",
     "output_type": "stream",
     "text": [
      "[LightGBM] [Warning] min_data_in_leaf is set=30, min_child_samples=20 will be ignored. Current value: min_data_in_leaf=30\n"
     ]
    },
    {
     "name": "stderr",
     "output_type": "stream",
     "text": [
      "/opt/conda/lib/python3.9/site-packages/sklearn/preprocessing/_encoders.py:975: FutureWarning: `sparse` was renamed to `sparse_output` in version 1.2 and will be removed in 1.4. `sparse_output` is ignored unless you leave `sparse` to its default value.\n",
      "  warnings.warn(\n"
     ]
    },
    {
     "name": "stdout",
     "output_type": "stream",
     "text": [
      "[LightGBM] [Warning] min_data_in_leaf is set=30, min_child_samples=20 will be ignored. Current value: min_data_in_leaf=30\n"
     ]
    },
    {
     "name": "stderr",
     "output_type": "stream",
     "text": [
      "/opt/conda/lib/python3.9/site-packages/sklearn/preprocessing/_encoders.py:228: UserWarning: Found unknown categories in columns [2] during transform. These unknown categories will be encoded as all zeros\n",
      "  warnings.warn(\n",
      "/opt/conda/lib/python3.9/site-packages/sklearn/preprocessing/_encoders.py:975: FutureWarning: `sparse` was renamed to `sparse_output` in version 1.2 and will be removed in 1.4. `sparse_output` is ignored unless you leave `sparse` to its default value.\n",
      "  warnings.warn(\n"
     ]
    },
    {
     "name": "stdout",
     "output_type": "stream",
     "text": [
      "[LightGBM] [Warning] min_data_in_leaf is set=30, min_child_samples=20 will be ignored. Current value: min_data_in_leaf=30\n"
     ]
    },
    {
     "name": "stderr",
     "output_type": "stream",
     "text": [
      "/opt/conda/lib/python3.9/site-packages/sklearn/preprocessing/_encoders.py:975: FutureWarning: `sparse` was renamed to `sparse_output` in version 1.2 and will be removed in 1.4. `sparse_output` is ignored unless you leave `sparse` to its default value.\n",
      "  warnings.warn(\n"
     ]
    },
    {
     "name": "stdout",
     "output_type": "stream",
     "text": [
      "[LightGBM] [Warning] min_data_in_leaf is set=50, min_child_samples=20 will be ignored. Current value: min_data_in_leaf=50\n"
     ]
    },
    {
     "name": "stderr",
     "output_type": "stream",
     "text": [
      "/opt/conda/lib/python3.9/site-packages/sklearn/preprocessing/_encoders.py:975: FutureWarning: `sparse` was renamed to `sparse_output` in version 1.2 and will be removed in 1.4. `sparse_output` is ignored unless you leave `sparse` to its default value.\n",
      "  warnings.warn(\n"
     ]
    },
    {
     "name": "stdout",
     "output_type": "stream",
     "text": [
      "[LightGBM] [Warning] min_data_in_leaf is set=50, min_child_samples=20 will be ignored. Current value: min_data_in_leaf=50\n"
     ]
    },
    {
     "name": "stderr",
     "output_type": "stream",
     "text": [
      "/opt/conda/lib/python3.9/site-packages/sklearn/preprocessing/_encoders.py:975: FutureWarning: `sparse` was renamed to `sparse_output` in version 1.2 and will be removed in 1.4. `sparse_output` is ignored unless you leave `sparse` to its default value.\n",
      "  warnings.warn(\n"
     ]
    },
    {
     "name": "stdout",
     "output_type": "stream",
     "text": [
      "[LightGBM] [Warning] min_data_in_leaf is set=50, min_child_samples=20 will be ignored. Current value: min_data_in_leaf=50\n"
     ]
    },
    {
     "name": "stderr",
     "output_type": "stream",
     "text": [
      "/opt/conda/lib/python3.9/site-packages/sklearn/preprocessing/_encoders.py:975: FutureWarning: `sparse` was renamed to `sparse_output` in version 1.2 and will be removed in 1.4. `sparse_output` is ignored unless you leave `sparse` to its default value.\n",
      "  warnings.warn(\n"
     ]
    },
    {
     "name": "stdout",
     "output_type": "stream",
     "text": [
      "[LightGBM] [Warning] min_data_in_leaf is set=50, min_child_samples=20 will be ignored. Current value: min_data_in_leaf=50\n"
     ]
    },
    {
     "name": "stderr",
     "output_type": "stream",
     "text": [
      "/opt/conda/lib/python3.9/site-packages/sklearn/preprocessing/_encoders.py:228: UserWarning: Found unknown categories in columns [2] during transform. These unknown categories will be encoded as all zeros\n",
      "  warnings.warn(\n",
      "/opt/conda/lib/python3.9/site-packages/sklearn/preprocessing/_encoders.py:975: FutureWarning: `sparse` was renamed to `sparse_output` in version 1.2 and will be removed in 1.4. `sparse_output` is ignored unless you leave `sparse` to its default value.\n",
      "  warnings.warn(\n"
     ]
    },
    {
     "name": "stdout",
     "output_type": "stream",
     "text": [
      "[LightGBM] [Warning] min_data_in_leaf is set=50, min_child_samples=20 will be ignored. Current value: min_data_in_leaf=50\n"
     ]
    },
    {
     "name": "stderr",
     "output_type": "stream",
     "text": [
      "/opt/conda/lib/python3.9/site-packages/sklearn/preprocessing/_encoders.py:975: FutureWarning: `sparse` was renamed to `sparse_output` in version 1.2 and will be removed in 1.4. `sparse_output` is ignored unless you leave `sparse` to its default value.\n",
      "  warnings.warn(\n"
     ]
    },
    {
     "name": "stdout",
     "output_type": "stream",
     "text": [
      "[LightGBM] [Warning] min_data_in_leaf is set=50, min_child_samples=20 will be ignored. Current value: min_data_in_leaf=50\n"
     ]
    },
    {
     "name": "stderr",
     "output_type": "stream",
     "text": [
      "/opt/conda/lib/python3.9/site-packages/sklearn/preprocessing/_encoders.py:975: FutureWarning: `sparse` was renamed to `sparse_output` in version 1.2 and will be removed in 1.4. `sparse_output` is ignored unless you leave `sparse` to its default value.\n",
      "  warnings.warn(\n"
     ]
    },
    {
     "name": "stdout",
     "output_type": "stream",
     "text": [
      "[LightGBM] [Warning] min_data_in_leaf is set=50, min_child_samples=20 will be ignored. Current value: min_data_in_leaf=50\n"
     ]
    },
    {
     "name": "stderr",
     "output_type": "stream",
     "text": [
      "/opt/conda/lib/python3.9/site-packages/sklearn/preprocessing/_encoders.py:975: FutureWarning: `sparse` was renamed to `sparse_output` in version 1.2 and will be removed in 1.4. `sparse_output` is ignored unless you leave `sparse` to its default value.\n",
      "  warnings.warn(\n"
     ]
    },
    {
     "name": "stdout",
     "output_type": "stream",
     "text": [
      "[LightGBM] [Warning] min_data_in_leaf is set=50, min_child_samples=20 will be ignored. Current value: min_data_in_leaf=50\n"
     ]
    },
    {
     "name": "stderr",
     "output_type": "stream",
     "text": [
      "/opt/conda/lib/python3.9/site-packages/sklearn/preprocessing/_encoders.py:975: FutureWarning: `sparse` was renamed to `sparse_output` in version 1.2 and will be removed in 1.4. `sparse_output` is ignored unless you leave `sparse` to its default value.\n",
      "  warnings.warn(\n"
     ]
    },
    {
     "name": "stdout",
     "output_type": "stream",
     "text": [
      "[LightGBM] [Warning] min_data_in_leaf is set=50, min_child_samples=20 will be ignored. Current value: min_data_in_leaf=50\n"
     ]
    },
    {
     "name": "stderr",
     "output_type": "stream",
     "text": [
      "/opt/conda/lib/python3.9/site-packages/sklearn/preprocessing/_encoders.py:228: UserWarning: Found unknown categories in columns [2] during transform. These unknown categories will be encoded as all zeros\n",
      "  warnings.warn(\n",
      "/opt/conda/lib/python3.9/site-packages/sklearn/preprocessing/_encoders.py:975: FutureWarning: `sparse` was renamed to `sparse_output` in version 1.2 and will be removed in 1.4. `sparse_output` is ignored unless you leave `sparse` to its default value.\n",
      "  warnings.warn(\n"
     ]
    },
    {
     "name": "stdout",
     "output_type": "stream",
     "text": [
      "[LightGBM] [Warning] min_data_in_leaf is set=50, min_child_samples=20 will be ignored. Current value: min_data_in_leaf=50\n"
     ]
    },
    {
     "name": "stderr",
     "output_type": "stream",
     "text": [
      "/opt/conda/lib/python3.9/site-packages/sklearn/preprocessing/_encoders.py:975: FutureWarning: `sparse` was renamed to `sparse_output` in version 1.2 and will be removed in 1.4. `sparse_output` is ignored unless you leave `sparse` to its default value.\n",
      "  warnings.warn(\n"
     ]
    },
    {
     "name": "stdout",
     "output_type": "stream",
     "text": [
      "[LightGBM] [Warning] min_data_in_leaf is set=50, min_child_samples=20 will be ignored. Current value: min_data_in_leaf=50\n"
     ]
    },
    {
     "name": "stderr",
     "output_type": "stream",
     "text": [
      "/opt/conda/lib/python3.9/site-packages/sklearn/preprocessing/_encoders.py:975: FutureWarning: `sparse` was renamed to `sparse_output` in version 1.2 and will be removed in 1.4. `sparse_output` is ignored unless you leave `sparse` to its default value.\n",
      "  warnings.warn(\n"
     ]
    },
    {
     "name": "stdout",
     "output_type": "stream",
     "text": [
      "[LightGBM] [Warning] min_data_in_leaf is set=50, min_child_samples=20 will be ignored. Current value: min_data_in_leaf=50\n"
     ]
    },
    {
     "name": "stderr",
     "output_type": "stream",
     "text": [
      "/opt/conda/lib/python3.9/site-packages/sklearn/preprocessing/_encoders.py:975: FutureWarning: `sparse` was renamed to `sparse_output` in version 1.2 and will be removed in 1.4. `sparse_output` is ignored unless you leave `sparse` to its default value.\n",
      "  warnings.warn(\n"
     ]
    },
    {
     "name": "stdout",
     "output_type": "stream",
     "text": [
      "[LightGBM] [Warning] min_data_in_leaf is set=50, min_child_samples=20 will be ignored. Current value: min_data_in_leaf=50\n"
     ]
    },
    {
     "name": "stderr",
     "output_type": "stream",
     "text": [
      "/opt/conda/lib/python3.9/site-packages/sklearn/preprocessing/_encoders.py:975: FutureWarning: `sparse` was renamed to `sparse_output` in version 1.2 and will be removed in 1.4. `sparse_output` is ignored unless you leave `sparse` to its default value.\n",
      "  warnings.warn(\n"
     ]
    },
    {
     "name": "stdout",
     "output_type": "stream",
     "text": [
      "[LightGBM] [Warning] min_data_in_leaf is set=50, min_child_samples=20 will be ignored. Current value: min_data_in_leaf=50\n"
     ]
    },
    {
     "name": "stderr",
     "output_type": "stream",
     "text": [
      "/opt/conda/lib/python3.9/site-packages/sklearn/preprocessing/_encoders.py:228: UserWarning: Found unknown categories in columns [2] during transform. These unknown categories will be encoded as all zeros\n",
      "  warnings.warn(\n",
      "/opt/conda/lib/python3.9/site-packages/sklearn/preprocessing/_encoders.py:975: FutureWarning: `sparse` was renamed to `sparse_output` in version 1.2 and will be removed in 1.4. `sparse_output` is ignored unless you leave `sparse` to its default value.\n",
      "  warnings.warn(\n"
     ]
    },
    {
     "name": "stdout",
     "output_type": "stream",
     "text": [
      "[LightGBM] [Warning] min_data_in_leaf is set=50, min_child_samples=20 will be ignored. Current value: min_data_in_leaf=50\n"
     ]
    },
    {
     "name": "stderr",
     "output_type": "stream",
     "text": [
      "/opt/conda/lib/python3.9/site-packages/sklearn/preprocessing/_encoders.py:975: FutureWarning: `sparse` was renamed to `sparse_output` in version 1.2 and will be removed in 1.4. `sparse_output` is ignored unless you leave `sparse` to its default value.\n",
      "  warnings.warn(\n"
     ]
    },
    {
     "name": "stdout",
     "output_type": "stream",
     "text": [
      "[LightGBM] [Warning] min_data_in_leaf is set=50, min_child_samples=20 will be ignored. Current value: min_data_in_leaf=50\n"
     ]
    },
    {
     "name": "stderr",
     "output_type": "stream",
     "text": [
      "/opt/conda/lib/python3.9/site-packages/sklearn/preprocessing/_encoders.py:975: FutureWarning: `sparse` was renamed to `sparse_output` in version 1.2 and will be removed in 1.4. `sparse_output` is ignored unless you leave `sparse` to its default value.\n",
      "  warnings.warn(\n"
     ]
    },
    {
     "name": "stdout",
     "output_type": "stream",
     "text": [
      "[LightGBM] [Warning] min_data_in_leaf is set=50, min_child_samples=20 will be ignored. Current value: min_data_in_leaf=50\n"
     ]
    },
    {
     "name": "stderr",
     "output_type": "stream",
     "text": [
      "/opt/conda/lib/python3.9/site-packages/sklearn/preprocessing/_encoders.py:975: FutureWarning: `sparse` was renamed to `sparse_output` in version 1.2 and will be removed in 1.4. `sparse_output` is ignored unless you leave `sparse` to its default value.\n",
      "  warnings.warn(\n"
     ]
    },
    {
     "name": "stdout",
     "output_type": "stream",
     "text": [
      "[LightGBM] [Warning] min_data_in_leaf is set=50, min_child_samples=20 will be ignored. Current value: min_data_in_leaf=50\n"
     ]
    },
    {
     "name": "stderr",
     "output_type": "stream",
     "text": [
      "/opt/conda/lib/python3.9/site-packages/sklearn/preprocessing/_encoders.py:975: FutureWarning: `sparse` was renamed to `sparse_output` in version 1.2 and will be removed in 1.4. `sparse_output` is ignored unless you leave `sparse` to its default value.\n",
      "  warnings.warn(\n"
     ]
    },
    {
     "name": "stdout",
     "output_type": "stream",
     "text": [
      "[LightGBM] [Warning] min_data_in_leaf is set=50, min_child_samples=20 will be ignored. Current value: min_data_in_leaf=50\n"
     ]
    },
    {
     "name": "stderr",
     "output_type": "stream",
     "text": [
      "/opt/conda/lib/python3.9/site-packages/sklearn/preprocessing/_encoders.py:228: UserWarning: Found unknown categories in columns [2] during transform. These unknown categories will be encoded as all zeros\n",
      "  warnings.warn(\n",
      "/opt/conda/lib/python3.9/site-packages/sklearn/preprocessing/_encoders.py:975: FutureWarning: `sparse` was renamed to `sparse_output` in version 1.2 and will be removed in 1.4. `sparse_output` is ignored unless you leave `sparse` to its default value.\n",
      "  warnings.warn(\n"
     ]
    },
    {
     "name": "stdout",
     "output_type": "stream",
     "text": [
      "[LightGBM] [Warning] min_data_in_leaf is set=50, min_child_samples=20 will be ignored. Current value: min_data_in_leaf=50\n"
     ]
    },
    {
     "name": "stderr",
     "output_type": "stream",
     "text": [
      "/opt/conda/lib/python3.9/site-packages/sklearn/preprocessing/_encoders.py:975: FutureWarning: `sparse` was renamed to `sparse_output` in version 1.2 and will be removed in 1.4. `sparse_output` is ignored unless you leave `sparse` to its default value.\n",
      "  warnings.warn(\n"
     ]
    },
    {
     "name": "stdout",
     "output_type": "stream",
     "text": [
      "[LightGBM] [Warning] min_data_in_leaf is set=30, min_child_samples=20 will be ignored. Current value: min_data_in_leaf=30\n",
      "CPU times: user 9min 2s, sys: 25.6 s, total: 9min 27s\n",
      "Wall time: 9min 32s\n"
     ]
    },
    {
     "data": {
      "text/html": [
       "<style>#sk-container-id-1 {color: black;}#sk-container-id-1 pre{padding: 0;}#sk-container-id-1 div.sk-toggleable {background-color: white;}#sk-container-id-1 label.sk-toggleable__label {cursor: pointer;display: block;width: 100%;margin-bottom: 0;padding: 0.3em;box-sizing: border-box;text-align: center;}#sk-container-id-1 label.sk-toggleable__label-arrow:before {content: \"▸\";float: left;margin-right: 0.25em;color: #696969;}#sk-container-id-1 label.sk-toggleable__label-arrow:hover:before {color: black;}#sk-container-id-1 div.sk-estimator:hover label.sk-toggleable__label-arrow:before {color: black;}#sk-container-id-1 div.sk-toggleable__content {max-height: 0;max-width: 0;overflow: hidden;text-align: left;background-color: #f0f8ff;}#sk-container-id-1 div.sk-toggleable__content pre {margin: 0.2em;color: black;border-radius: 0.25em;background-color: #f0f8ff;}#sk-container-id-1 input.sk-toggleable__control:checked~div.sk-toggleable__content {max-height: 200px;max-width: 100%;overflow: auto;}#sk-container-id-1 input.sk-toggleable__control:checked~label.sk-toggleable__label-arrow:before {content: \"▾\";}#sk-container-id-1 div.sk-estimator input.sk-toggleable__control:checked~label.sk-toggleable__label {background-color: #d4ebff;}#sk-container-id-1 div.sk-label input.sk-toggleable__control:checked~label.sk-toggleable__label {background-color: #d4ebff;}#sk-container-id-1 input.sk-hidden--visually {border: 0;clip: rect(1px 1px 1px 1px);clip: rect(1px, 1px, 1px, 1px);height: 1px;margin: -1px;overflow: hidden;padding: 0;position: absolute;width: 1px;}#sk-container-id-1 div.sk-estimator {font-family: monospace;background-color: #f0f8ff;border: 1px dotted black;border-radius: 0.25em;box-sizing: border-box;margin-bottom: 0.5em;}#sk-container-id-1 div.sk-estimator:hover {background-color: #d4ebff;}#sk-container-id-1 div.sk-parallel-item::after {content: \"\";width: 100%;border-bottom: 1px solid gray;flex-grow: 1;}#sk-container-id-1 div.sk-label:hover label.sk-toggleable__label {background-color: #d4ebff;}#sk-container-id-1 div.sk-serial::before {content: \"\";position: absolute;border-left: 1px solid gray;box-sizing: border-box;top: 0;bottom: 0;left: 50%;z-index: 0;}#sk-container-id-1 div.sk-serial {display: flex;flex-direction: column;align-items: center;background-color: white;padding-right: 0.2em;padding-left: 0.2em;position: relative;}#sk-container-id-1 div.sk-item {position: relative;z-index: 1;}#sk-container-id-1 div.sk-parallel {display: flex;align-items: stretch;justify-content: center;background-color: white;position: relative;}#sk-container-id-1 div.sk-item::before, #sk-container-id-1 div.sk-parallel-item::before {content: \"\";position: absolute;border-left: 1px solid gray;box-sizing: border-box;top: 0;bottom: 0;left: 50%;z-index: -1;}#sk-container-id-1 div.sk-parallel-item {display: flex;flex-direction: column;z-index: 1;position: relative;background-color: white;}#sk-container-id-1 div.sk-parallel-item:first-child::after {align-self: flex-end;width: 50%;}#sk-container-id-1 div.sk-parallel-item:last-child::after {align-self: flex-start;width: 50%;}#sk-container-id-1 div.sk-parallel-item:only-child::after {width: 0;}#sk-container-id-1 div.sk-dashed-wrapped {border: 1px dashed gray;margin: 0 0.4em 0.5em 0.4em;box-sizing: border-box;padding-bottom: 0.4em;background-color: white;}#sk-container-id-1 div.sk-label label {font-family: monospace;font-weight: bold;display: inline-block;line-height: 1.2em;}#sk-container-id-1 div.sk-label-container {text-align: center;}#sk-container-id-1 div.sk-container {/* jupyter's `normalize.less` sets `[hidden] { display: none; }` but bootstrap.min.css set `[hidden] { display: none !important; }` so we also need the `!important` here to be able to override the default hidden behavior on the sphinx rendered scikit-learn.org. See: https://github.com/scikit-learn/scikit-learn/issues/21755 */display: inline-block !important;position: relative;}#sk-container-id-1 div.sk-text-repr-fallback {display: none;}</style><div id=\"sk-container-id-1\" class=\"sk-top-container\"><div class=\"sk-text-repr-fallback\"><pre>GridSearchCV(estimator=Pipeline(steps=[(&#x27;preprocessor&#x27;,\n",
       "                                        ColumnTransformer(transformers=[(&#x27;num&#x27;,\n",
       "                                                                         &#x27;passthrough&#x27;,\n",
       "                                                                         [&#x27;RegistrationYear&#x27;,\n",
       "                                                                          &#x27;Power&#x27;,\n",
       "                                                                          &#x27;Kilometer&#x27;]),\n",
       "                                                                        (&#x27;cat&#x27;,\n",
       "                                                                         OneHotEncoder(drop=&#x27;first&#x27;,\n",
       "                                                                                       handle_unknown=&#x27;ignore&#x27;,\n",
       "                                                                                       sparse=False),\n",
       "                                                                         [&#x27;VehicleType&#x27;,\n",
       "                                                                          &#x27;Gearbox&#x27;,\n",
       "                                                                          &#x27;Model&#x27;,\n",
       "                                                                          &#x27;FuelType&#x27;,\n",
       "                                                                          &#x27;Brand&#x27;,\n",
       "                                                                          &#x27;Repaired&#x27;])])),\n",
       "                                       (&#x27;model&#x27;,\n",
       "                                        LGBMRegressor(random_state=42))]),\n",
       "             n_jobs=-1,\n",
       "             param_grid={&#x27;model__min_data_in_leaf&#x27;: [30, 50],\n",
       "                         &#x27;model__num_leaves&#x27;: [31, 127],\n",
       "                         &#x27;model__reg_alpha&#x27;: [0.1, 0.5]},\n",
       "             scoring=&#x27;neg_mean_squared_error&#x27;)</pre><b>In a Jupyter environment, please rerun this cell to show the HTML representation or trust the notebook. <br />On GitHub, the HTML representation is unable to render, please try loading this page with nbviewer.org.</b></div><div class=\"sk-container\" hidden><div class=\"sk-item sk-dashed-wrapped\"><div class=\"sk-label-container\"><div class=\"sk-label sk-toggleable\"><input class=\"sk-toggleable__control sk-hidden--visually\" id=\"sk-estimator-id-1\" type=\"checkbox\" ><label for=\"sk-estimator-id-1\" class=\"sk-toggleable__label sk-toggleable__label-arrow\">GridSearchCV</label><div class=\"sk-toggleable__content\"><pre>GridSearchCV(estimator=Pipeline(steps=[(&#x27;preprocessor&#x27;,\n",
       "                                        ColumnTransformer(transformers=[(&#x27;num&#x27;,\n",
       "                                                                         &#x27;passthrough&#x27;,\n",
       "                                                                         [&#x27;RegistrationYear&#x27;,\n",
       "                                                                          &#x27;Power&#x27;,\n",
       "                                                                          &#x27;Kilometer&#x27;]),\n",
       "                                                                        (&#x27;cat&#x27;,\n",
       "                                                                         OneHotEncoder(drop=&#x27;first&#x27;,\n",
       "                                                                                       handle_unknown=&#x27;ignore&#x27;,\n",
       "                                                                                       sparse=False),\n",
       "                                                                         [&#x27;VehicleType&#x27;,\n",
       "                                                                          &#x27;Gearbox&#x27;,\n",
       "                                                                          &#x27;Model&#x27;,\n",
       "                                                                          &#x27;FuelType&#x27;,\n",
       "                                                                          &#x27;Brand&#x27;,\n",
       "                                                                          &#x27;Repaired&#x27;])])),\n",
       "                                       (&#x27;model&#x27;,\n",
       "                                        LGBMRegressor(random_state=42))]),\n",
       "             n_jobs=-1,\n",
       "             param_grid={&#x27;model__min_data_in_leaf&#x27;: [30, 50],\n",
       "                         &#x27;model__num_leaves&#x27;: [31, 127],\n",
       "                         &#x27;model__reg_alpha&#x27;: [0.1, 0.5]},\n",
       "             scoring=&#x27;neg_mean_squared_error&#x27;)</pre></div></div></div><div class=\"sk-parallel\"><div class=\"sk-parallel-item\"><div class=\"sk-item\"><div class=\"sk-label-container\"><div class=\"sk-label sk-toggleable\"><input class=\"sk-toggleable__control sk-hidden--visually\" id=\"sk-estimator-id-2\" type=\"checkbox\" ><label for=\"sk-estimator-id-2\" class=\"sk-toggleable__label sk-toggleable__label-arrow\">estimator: Pipeline</label><div class=\"sk-toggleable__content\"><pre>Pipeline(steps=[(&#x27;preprocessor&#x27;,\n",
       "                 ColumnTransformer(transformers=[(&#x27;num&#x27;, &#x27;passthrough&#x27;,\n",
       "                                                  [&#x27;RegistrationYear&#x27;, &#x27;Power&#x27;,\n",
       "                                                   &#x27;Kilometer&#x27;]),\n",
       "                                                 (&#x27;cat&#x27;,\n",
       "                                                  OneHotEncoder(drop=&#x27;first&#x27;,\n",
       "                                                                handle_unknown=&#x27;ignore&#x27;,\n",
       "                                                                sparse=False),\n",
       "                                                  [&#x27;VehicleType&#x27;, &#x27;Gearbox&#x27;,\n",
       "                                                   &#x27;Model&#x27;, &#x27;FuelType&#x27;, &#x27;Brand&#x27;,\n",
       "                                                   &#x27;Repaired&#x27;])])),\n",
       "                (&#x27;model&#x27;, LGBMRegressor(random_state=42))])</pre></div></div></div><div class=\"sk-serial\"><div class=\"sk-item\"><div class=\"sk-serial\"><div class=\"sk-item sk-dashed-wrapped\"><div class=\"sk-label-container\"><div class=\"sk-label sk-toggleable\"><input class=\"sk-toggleable__control sk-hidden--visually\" id=\"sk-estimator-id-3\" type=\"checkbox\" ><label for=\"sk-estimator-id-3\" class=\"sk-toggleable__label sk-toggleable__label-arrow\">preprocessor: ColumnTransformer</label><div class=\"sk-toggleable__content\"><pre>ColumnTransformer(transformers=[(&#x27;num&#x27;, &#x27;passthrough&#x27;,\n",
       "                                 [&#x27;RegistrationYear&#x27;, &#x27;Power&#x27;, &#x27;Kilometer&#x27;]),\n",
       "                                (&#x27;cat&#x27;,\n",
       "                                 OneHotEncoder(drop=&#x27;first&#x27;,\n",
       "                                               handle_unknown=&#x27;ignore&#x27;,\n",
       "                                               sparse=False),\n",
       "                                 [&#x27;VehicleType&#x27;, &#x27;Gearbox&#x27;, &#x27;Model&#x27;, &#x27;FuelType&#x27;,\n",
       "                                  &#x27;Brand&#x27;, &#x27;Repaired&#x27;])])</pre></div></div></div><div class=\"sk-parallel\"><div class=\"sk-parallel-item\"><div class=\"sk-item\"><div class=\"sk-label-container\"><div class=\"sk-label sk-toggleable\"><input class=\"sk-toggleable__control sk-hidden--visually\" id=\"sk-estimator-id-4\" type=\"checkbox\" ><label for=\"sk-estimator-id-4\" class=\"sk-toggleable__label sk-toggleable__label-arrow\">num</label><div class=\"sk-toggleable__content\"><pre>[&#x27;RegistrationYear&#x27;, &#x27;Power&#x27;, &#x27;Kilometer&#x27;]</pre></div></div></div><div class=\"sk-serial\"><div class=\"sk-item\"><div class=\"sk-estimator sk-toggleable\"><input class=\"sk-toggleable__control sk-hidden--visually\" id=\"sk-estimator-id-5\" type=\"checkbox\" ><label for=\"sk-estimator-id-5\" class=\"sk-toggleable__label sk-toggleable__label-arrow\">passthrough</label><div class=\"sk-toggleable__content\"><pre>passthrough</pre></div></div></div></div></div></div><div class=\"sk-parallel-item\"><div class=\"sk-item\"><div class=\"sk-label-container\"><div class=\"sk-label sk-toggleable\"><input class=\"sk-toggleable__control sk-hidden--visually\" id=\"sk-estimator-id-6\" type=\"checkbox\" ><label for=\"sk-estimator-id-6\" class=\"sk-toggleable__label sk-toggleable__label-arrow\">cat</label><div class=\"sk-toggleable__content\"><pre>[&#x27;VehicleType&#x27;, &#x27;Gearbox&#x27;, &#x27;Model&#x27;, &#x27;FuelType&#x27;, &#x27;Brand&#x27;, &#x27;Repaired&#x27;]</pre></div></div></div><div class=\"sk-serial\"><div class=\"sk-item\"><div class=\"sk-estimator sk-toggleable\"><input class=\"sk-toggleable__control sk-hidden--visually\" id=\"sk-estimator-id-7\" type=\"checkbox\" ><label for=\"sk-estimator-id-7\" class=\"sk-toggleable__label sk-toggleable__label-arrow\">OneHotEncoder</label><div class=\"sk-toggleable__content\"><pre>OneHotEncoder(drop=&#x27;first&#x27;, handle_unknown=&#x27;ignore&#x27;, sparse=False)</pre></div></div></div></div></div></div></div></div><div class=\"sk-item\"><div class=\"sk-estimator sk-toggleable\"><input class=\"sk-toggleable__control sk-hidden--visually\" id=\"sk-estimator-id-8\" type=\"checkbox\" ><label for=\"sk-estimator-id-8\" class=\"sk-toggleable__label sk-toggleable__label-arrow\">LGBMRegressor</label><div class=\"sk-toggleable__content\"><pre>LGBMRegressor(random_state=42)</pre></div></div></div></div></div></div></div></div></div></div></div></div>"
      ],
      "text/plain": [
       "GridSearchCV(estimator=Pipeline(steps=[('preprocessor',\n",
       "                                        ColumnTransformer(transformers=[('num',\n",
       "                                                                         'passthrough',\n",
       "                                                                         ['RegistrationYear',\n",
       "                                                                          'Power',\n",
       "                                                                          'Kilometer']),\n",
       "                                                                        ('cat',\n",
       "                                                                         OneHotEncoder(drop='first',\n",
       "                                                                                       handle_unknown='ignore',\n",
       "                                                                                       sparse=False),\n",
       "                                                                         ['VehicleType',\n",
       "                                                                          'Gearbox',\n",
       "                                                                          'Model',\n",
       "                                                                          'FuelType',\n",
       "                                                                          'Brand',\n",
       "                                                                          'Repaired'])])),\n",
       "                                       ('model',\n",
       "                                        LGBMRegressor(random_state=42))]),\n",
       "             n_jobs=-1,\n",
       "             param_grid={'model__min_data_in_leaf': [30, 50],\n",
       "                         'model__num_leaves': [31, 127],\n",
       "                         'model__reg_alpha': [0.1, 0.5]},\n",
       "             scoring='neg_mean_squared_error')"
      ]
     },
     "execution_count": 25,
     "metadata": {},
     "output_type": "execute_result"
    }
   ],
   "source": [
    "%%time\n",
    "lgbm_pipeline = Pipeline([\n",
    "    ('preprocessor', preprocessor),\n",
    "    ('model', lightgbm.LGBMRegressor(random_state=42))\n",
    "])\n",
    "\n",
    "param_grid_lgbm = {\n",
    "    'model__num_leaves': [31, 127],\n",
    "    'model__reg_alpha': [0.1, 0.5],\n",
    "    'model__min_data_in_leaf': [30, 50],\n",
    "}\n",
    "\n",
    "grid_search_lgbm = GridSearchCV(\n",
    "    estimator=lgbm_pipeline,\n",
    "    param_grid=param_grid_lgbm,\n",
    "    scoring='neg_mean_squared_error',\n",
    "    n_jobs=-1\n",
    ")\n",
    "\n",
    "grid_search_lgbm.fit(X_train, y_train)"
   ]
  },
  {
   "cell_type": "code",
   "execution_count": 26,
   "metadata": {
    "scrolled": true
   },
   "outputs": [
    {
     "name": "stdout",
     "output_type": "stream",
     "text": [
      "Лучшие параметры LGBMRegressor: {'model__min_data_in_leaf': 30, 'model__num_leaves': 127, 'model__reg_alpha': 0.5}\n",
      "Лучшая метрика LGBMRegressor: 1554.5172156160775\n"
     ]
    }
   ],
   "source": [
    "print(f\"Лучшие параметры LGBMRegressor: {grid_search_lgbm.best_params_}\")\n",
    "print(f\"Лучшая метрика LGBMRegressor: {math.sqrt(abs(grid_search_lgbm.best_score_))}\")"
   ]
  },
  {
   "cell_type": "markdown",
   "metadata": {},
   "source": [
    "**Линейная регрессия**"
   ]
  },
  {
   "cell_type": "code",
   "execution_count": 27,
   "metadata": {},
   "outputs": [
    {
     "name": "stderr",
     "output_type": "stream",
     "text": [
      "/opt/conda/lib/python3.9/site-packages/sklearn/preprocessing/_encoders.py:975: FutureWarning: `sparse` was renamed to `sparse_output` in version 1.2 and will be removed in 1.4. `sparse_output` is ignored unless you leave `sparse` to its default value.\n",
      "  warnings.warn(\n",
      "/opt/conda/lib/python3.9/site-packages/sklearn/preprocessing/_encoders.py:975: FutureWarning: `sparse` was renamed to `sparse_output` in version 1.2 and will be removed in 1.4. `sparse_output` is ignored unless you leave `sparse` to its default value.\n",
      "  warnings.warn(\n",
      "/opt/conda/lib/python3.9/site-packages/sklearn/preprocessing/_encoders.py:228: UserWarning: Found unknown categories in columns [2] during transform. These unknown categories will be encoded as all zeros\n",
      "  warnings.warn(\n",
      "/opt/conda/lib/python3.9/site-packages/sklearn/preprocessing/_encoders.py:975: FutureWarning: `sparse` was renamed to `sparse_output` in version 1.2 and will be removed in 1.4. `sparse_output` is ignored unless you leave `sparse` to its default value.\n",
      "  warnings.warn(\n",
      "/opt/conda/lib/python3.9/site-packages/sklearn/preprocessing/_encoders.py:975: FutureWarning: `sparse` was renamed to `sparse_output` in version 1.2 and will be removed in 1.4. `sparse_output` is ignored unless you leave `sparse` to its default value.\n",
      "  warnings.warn(\n",
      "/opt/conda/lib/python3.9/site-packages/sklearn/preprocessing/_encoders.py:975: FutureWarning: `sparse` was renamed to `sparse_output` in version 1.2 and will be removed in 1.4. `sparse_output` is ignored unless you leave `sparse` to its default value.\n",
      "  warnings.warn(\n",
      "/opt/conda/lib/python3.9/site-packages/sklearn/preprocessing/_encoders.py:228: UserWarning: Found unknown categories in columns [2] during transform. These unknown categories will be encoded as all zeros\n",
      "  warnings.warn(\n",
      "/opt/conda/lib/python3.9/site-packages/sklearn/preprocessing/_encoders.py:975: FutureWarning: `sparse` was renamed to `sparse_output` in version 1.2 and will be removed in 1.4. `sparse_output` is ignored unless you leave `sparse` to its default value.\n",
      "  warnings.warn(\n",
      "/opt/conda/lib/python3.9/site-packages/sklearn/preprocessing/_encoders.py:975: FutureWarning: `sparse` was renamed to `sparse_output` in version 1.2 and will be removed in 1.4. `sparse_output` is ignored unless you leave `sparse` to its default value.\n",
      "  warnings.warn(\n"
     ]
    },
    {
     "name": "stdout",
     "output_type": "stream",
     "text": [
      "CPU times: user 1min 11s, sys: 28.3 s, total: 1min 39s\n",
      "Wall time: 1min 40s\n"
     ]
    },
    {
     "data": {
      "text/html": [
       "<style>#sk-container-id-2 {color: black;}#sk-container-id-2 pre{padding: 0;}#sk-container-id-2 div.sk-toggleable {background-color: white;}#sk-container-id-2 label.sk-toggleable__label {cursor: pointer;display: block;width: 100%;margin-bottom: 0;padding: 0.3em;box-sizing: border-box;text-align: center;}#sk-container-id-2 label.sk-toggleable__label-arrow:before {content: \"▸\";float: left;margin-right: 0.25em;color: #696969;}#sk-container-id-2 label.sk-toggleable__label-arrow:hover:before {color: black;}#sk-container-id-2 div.sk-estimator:hover label.sk-toggleable__label-arrow:before {color: black;}#sk-container-id-2 div.sk-toggleable__content {max-height: 0;max-width: 0;overflow: hidden;text-align: left;background-color: #f0f8ff;}#sk-container-id-2 div.sk-toggleable__content pre {margin: 0.2em;color: black;border-radius: 0.25em;background-color: #f0f8ff;}#sk-container-id-2 input.sk-toggleable__control:checked~div.sk-toggleable__content {max-height: 200px;max-width: 100%;overflow: auto;}#sk-container-id-2 input.sk-toggleable__control:checked~label.sk-toggleable__label-arrow:before {content: \"▾\";}#sk-container-id-2 div.sk-estimator input.sk-toggleable__control:checked~label.sk-toggleable__label {background-color: #d4ebff;}#sk-container-id-2 div.sk-label input.sk-toggleable__control:checked~label.sk-toggleable__label {background-color: #d4ebff;}#sk-container-id-2 input.sk-hidden--visually {border: 0;clip: rect(1px 1px 1px 1px);clip: rect(1px, 1px, 1px, 1px);height: 1px;margin: -1px;overflow: hidden;padding: 0;position: absolute;width: 1px;}#sk-container-id-2 div.sk-estimator {font-family: monospace;background-color: #f0f8ff;border: 1px dotted black;border-radius: 0.25em;box-sizing: border-box;margin-bottom: 0.5em;}#sk-container-id-2 div.sk-estimator:hover {background-color: #d4ebff;}#sk-container-id-2 div.sk-parallel-item::after {content: \"\";width: 100%;border-bottom: 1px solid gray;flex-grow: 1;}#sk-container-id-2 div.sk-label:hover label.sk-toggleable__label {background-color: #d4ebff;}#sk-container-id-2 div.sk-serial::before {content: \"\";position: absolute;border-left: 1px solid gray;box-sizing: border-box;top: 0;bottom: 0;left: 50%;z-index: 0;}#sk-container-id-2 div.sk-serial {display: flex;flex-direction: column;align-items: center;background-color: white;padding-right: 0.2em;padding-left: 0.2em;position: relative;}#sk-container-id-2 div.sk-item {position: relative;z-index: 1;}#sk-container-id-2 div.sk-parallel {display: flex;align-items: stretch;justify-content: center;background-color: white;position: relative;}#sk-container-id-2 div.sk-item::before, #sk-container-id-2 div.sk-parallel-item::before {content: \"\";position: absolute;border-left: 1px solid gray;box-sizing: border-box;top: 0;bottom: 0;left: 50%;z-index: -1;}#sk-container-id-2 div.sk-parallel-item {display: flex;flex-direction: column;z-index: 1;position: relative;background-color: white;}#sk-container-id-2 div.sk-parallel-item:first-child::after {align-self: flex-end;width: 50%;}#sk-container-id-2 div.sk-parallel-item:last-child::after {align-self: flex-start;width: 50%;}#sk-container-id-2 div.sk-parallel-item:only-child::after {width: 0;}#sk-container-id-2 div.sk-dashed-wrapped {border: 1px dashed gray;margin: 0 0.4em 0.5em 0.4em;box-sizing: border-box;padding-bottom: 0.4em;background-color: white;}#sk-container-id-2 div.sk-label label {font-family: monospace;font-weight: bold;display: inline-block;line-height: 1.2em;}#sk-container-id-2 div.sk-label-container {text-align: center;}#sk-container-id-2 div.sk-container {/* jupyter's `normalize.less` sets `[hidden] { display: none; }` but bootstrap.min.css set `[hidden] { display: none !important; }` so we also need the `!important` here to be able to override the default hidden behavior on the sphinx rendered scikit-learn.org. See: https://github.com/scikit-learn/scikit-learn/issues/21755 */display: inline-block !important;position: relative;}#sk-container-id-2 div.sk-text-repr-fallback {display: none;}</style><div id=\"sk-container-id-2\" class=\"sk-top-container\"><div class=\"sk-text-repr-fallback\"><pre>GridSearchCV(cv=3,\n",
       "             estimator=Pipeline(steps=[(&#x27;preprocessor&#x27;,\n",
       "                                        ColumnTransformer(transformers=[(&#x27;num&#x27;,\n",
       "                                                                         &#x27;passthrough&#x27;,\n",
       "                                                                         [&#x27;RegistrationYear&#x27;,\n",
       "                                                                          &#x27;Power&#x27;,\n",
       "                                                                          &#x27;Kilometer&#x27;]),\n",
       "                                                                        (&#x27;cat&#x27;,\n",
       "                                                                         OneHotEncoder(drop=&#x27;first&#x27;,\n",
       "                                                                                       handle_unknown=&#x27;ignore&#x27;,\n",
       "                                                                                       sparse=False),\n",
       "                                                                         [&#x27;VehicleType&#x27;,\n",
       "                                                                          &#x27;Gearbox&#x27;,\n",
       "                                                                          &#x27;Model&#x27;,\n",
       "                                                                          &#x27;FuelType&#x27;,\n",
       "                                                                          &#x27;Brand&#x27;,\n",
       "                                                                          &#x27;Repaired&#x27;])])),\n",
       "                                       (&#x27;model&#x27;, LinearRegression())]),\n",
       "             param_grid={&#x27;model__fit_intercept&#x27;: [True, False]},\n",
       "             scoring=&#x27;neg_mean_squared_error&#x27;)</pre><b>In a Jupyter environment, please rerun this cell to show the HTML representation or trust the notebook. <br />On GitHub, the HTML representation is unable to render, please try loading this page with nbviewer.org.</b></div><div class=\"sk-container\" hidden><div class=\"sk-item sk-dashed-wrapped\"><div class=\"sk-label-container\"><div class=\"sk-label sk-toggleable\"><input class=\"sk-toggleable__control sk-hidden--visually\" id=\"sk-estimator-id-9\" type=\"checkbox\" ><label for=\"sk-estimator-id-9\" class=\"sk-toggleable__label sk-toggleable__label-arrow\">GridSearchCV</label><div class=\"sk-toggleable__content\"><pre>GridSearchCV(cv=3,\n",
       "             estimator=Pipeline(steps=[(&#x27;preprocessor&#x27;,\n",
       "                                        ColumnTransformer(transformers=[(&#x27;num&#x27;,\n",
       "                                                                         &#x27;passthrough&#x27;,\n",
       "                                                                         [&#x27;RegistrationYear&#x27;,\n",
       "                                                                          &#x27;Power&#x27;,\n",
       "                                                                          &#x27;Kilometer&#x27;]),\n",
       "                                                                        (&#x27;cat&#x27;,\n",
       "                                                                         OneHotEncoder(drop=&#x27;first&#x27;,\n",
       "                                                                                       handle_unknown=&#x27;ignore&#x27;,\n",
       "                                                                                       sparse=False),\n",
       "                                                                         [&#x27;VehicleType&#x27;,\n",
       "                                                                          &#x27;Gearbox&#x27;,\n",
       "                                                                          &#x27;Model&#x27;,\n",
       "                                                                          &#x27;FuelType&#x27;,\n",
       "                                                                          &#x27;Brand&#x27;,\n",
       "                                                                          &#x27;Repaired&#x27;])])),\n",
       "                                       (&#x27;model&#x27;, LinearRegression())]),\n",
       "             param_grid={&#x27;model__fit_intercept&#x27;: [True, False]},\n",
       "             scoring=&#x27;neg_mean_squared_error&#x27;)</pre></div></div></div><div class=\"sk-parallel\"><div class=\"sk-parallel-item\"><div class=\"sk-item\"><div class=\"sk-label-container\"><div class=\"sk-label sk-toggleable\"><input class=\"sk-toggleable__control sk-hidden--visually\" id=\"sk-estimator-id-10\" type=\"checkbox\" ><label for=\"sk-estimator-id-10\" class=\"sk-toggleable__label sk-toggleable__label-arrow\">estimator: Pipeline</label><div class=\"sk-toggleable__content\"><pre>Pipeline(steps=[(&#x27;preprocessor&#x27;,\n",
       "                 ColumnTransformer(transformers=[(&#x27;num&#x27;, &#x27;passthrough&#x27;,\n",
       "                                                  [&#x27;RegistrationYear&#x27;, &#x27;Power&#x27;,\n",
       "                                                   &#x27;Kilometer&#x27;]),\n",
       "                                                 (&#x27;cat&#x27;,\n",
       "                                                  OneHotEncoder(drop=&#x27;first&#x27;,\n",
       "                                                                handle_unknown=&#x27;ignore&#x27;,\n",
       "                                                                sparse=False),\n",
       "                                                  [&#x27;VehicleType&#x27;, &#x27;Gearbox&#x27;,\n",
       "                                                   &#x27;Model&#x27;, &#x27;FuelType&#x27;, &#x27;Brand&#x27;,\n",
       "                                                   &#x27;Repaired&#x27;])])),\n",
       "                (&#x27;model&#x27;, LinearRegression())])</pre></div></div></div><div class=\"sk-serial\"><div class=\"sk-item\"><div class=\"sk-serial\"><div class=\"sk-item sk-dashed-wrapped\"><div class=\"sk-label-container\"><div class=\"sk-label sk-toggleable\"><input class=\"sk-toggleable__control sk-hidden--visually\" id=\"sk-estimator-id-11\" type=\"checkbox\" ><label for=\"sk-estimator-id-11\" class=\"sk-toggleable__label sk-toggleable__label-arrow\">preprocessor: ColumnTransformer</label><div class=\"sk-toggleable__content\"><pre>ColumnTransformer(transformers=[(&#x27;num&#x27;, &#x27;passthrough&#x27;,\n",
       "                                 [&#x27;RegistrationYear&#x27;, &#x27;Power&#x27;, &#x27;Kilometer&#x27;]),\n",
       "                                (&#x27;cat&#x27;,\n",
       "                                 OneHotEncoder(drop=&#x27;first&#x27;,\n",
       "                                               handle_unknown=&#x27;ignore&#x27;,\n",
       "                                               sparse=False),\n",
       "                                 [&#x27;VehicleType&#x27;, &#x27;Gearbox&#x27;, &#x27;Model&#x27;, &#x27;FuelType&#x27;,\n",
       "                                  &#x27;Brand&#x27;, &#x27;Repaired&#x27;])])</pre></div></div></div><div class=\"sk-parallel\"><div class=\"sk-parallel-item\"><div class=\"sk-item\"><div class=\"sk-label-container\"><div class=\"sk-label sk-toggleable\"><input class=\"sk-toggleable__control sk-hidden--visually\" id=\"sk-estimator-id-12\" type=\"checkbox\" ><label for=\"sk-estimator-id-12\" class=\"sk-toggleable__label sk-toggleable__label-arrow\">num</label><div class=\"sk-toggleable__content\"><pre>[&#x27;RegistrationYear&#x27;, &#x27;Power&#x27;, &#x27;Kilometer&#x27;]</pre></div></div></div><div class=\"sk-serial\"><div class=\"sk-item\"><div class=\"sk-estimator sk-toggleable\"><input class=\"sk-toggleable__control sk-hidden--visually\" id=\"sk-estimator-id-13\" type=\"checkbox\" ><label for=\"sk-estimator-id-13\" class=\"sk-toggleable__label sk-toggleable__label-arrow\">passthrough</label><div class=\"sk-toggleable__content\"><pre>passthrough</pre></div></div></div></div></div></div><div class=\"sk-parallel-item\"><div class=\"sk-item\"><div class=\"sk-label-container\"><div class=\"sk-label sk-toggleable\"><input class=\"sk-toggleable__control sk-hidden--visually\" id=\"sk-estimator-id-14\" type=\"checkbox\" ><label for=\"sk-estimator-id-14\" class=\"sk-toggleable__label sk-toggleable__label-arrow\">cat</label><div class=\"sk-toggleable__content\"><pre>[&#x27;VehicleType&#x27;, &#x27;Gearbox&#x27;, &#x27;Model&#x27;, &#x27;FuelType&#x27;, &#x27;Brand&#x27;, &#x27;Repaired&#x27;]</pre></div></div></div><div class=\"sk-serial\"><div class=\"sk-item\"><div class=\"sk-estimator sk-toggleable\"><input class=\"sk-toggleable__control sk-hidden--visually\" id=\"sk-estimator-id-15\" type=\"checkbox\" ><label for=\"sk-estimator-id-15\" class=\"sk-toggleable__label sk-toggleable__label-arrow\">OneHotEncoder</label><div class=\"sk-toggleable__content\"><pre>OneHotEncoder(drop=&#x27;first&#x27;, handle_unknown=&#x27;ignore&#x27;, sparse=False)</pre></div></div></div></div></div></div></div></div><div class=\"sk-item\"><div class=\"sk-estimator sk-toggleable\"><input class=\"sk-toggleable__control sk-hidden--visually\" id=\"sk-estimator-id-16\" type=\"checkbox\" ><label for=\"sk-estimator-id-16\" class=\"sk-toggleable__label sk-toggleable__label-arrow\">LinearRegression</label><div class=\"sk-toggleable__content\"><pre>LinearRegression()</pre></div></div></div></div></div></div></div></div></div></div></div></div>"
      ],
      "text/plain": [
       "GridSearchCV(cv=3,\n",
       "             estimator=Pipeline(steps=[('preprocessor',\n",
       "                                        ColumnTransformer(transformers=[('num',\n",
       "                                                                         'passthrough',\n",
       "                                                                         ['RegistrationYear',\n",
       "                                                                          'Power',\n",
       "                                                                          'Kilometer']),\n",
       "                                                                        ('cat',\n",
       "                                                                         OneHotEncoder(drop='first',\n",
       "                                                                                       handle_unknown='ignore',\n",
       "                                                                                       sparse=False),\n",
       "                                                                         ['VehicleType',\n",
       "                                                                          'Gearbox',\n",
       "                                                                          'Model',\n",
       "                                                                          'FuelType',\n",
       "                                                                          'Brand',\n",
       "                                                                          'Repaired'])])),\n",
       "                                       ('model', LinearRegression())]),\n",
       "             param_grid={'model__fit_intercept': [True, False]},\n",
       "             scoring='neg_mean_squared_error')"
      ]
     },
     "execution_count": 27,
     "metadata": {},
     "output_type": "execute_result"
    }
   ],
   "source": [
    "%%time\n",
    "lin_reg_pipeline = Pipeline([\n",
    "    ('preprocessor', preprocessor),\n",
    "    ('model', LinearRegression())\n",
    "])\n",
    "\n",
    "param_grid = {'model__fit_intercept': [True, False]}\n",
    "\n",
    "grid_search_lin_reg = GridSearchCV(\n",
    "    estimator=lin_reg_pipeline,\n",
    "    param_grid=param_grid,\n",
    "    scoring='neg_mean_squared_error',\n",
    "    cv=3\n",
    ")\n",
    "\n",
    "grid_search_lin_reg.fit(X_train, y_train)"
   ]
  },
  {
   "cell_type": "code",
   "execution_count": 28,
   "metadata": {},
   "outputs": [
    {
     "name": "stdout",
     "output_type": "stream",
     "text": [
      "Лучшие параметры LinearRegression: {'model__fit_intercept': True}\n",
      "Лучшая метрика LinearRegression: 2468.8972109906827\n"
     ]
    }
   ],
   "source": [
    "print(f\"Лучшие параметры LinearRegression: {grid_search_lin_reg.best_params_}\")\n",
    "print(f\"Лучшая метрика LinearRegression: {math.sqrt(abs(grid_search_lin_reg.best_score_))}\")"
   ]
  },
  {
   "cell_type": "markdown",
   "metadata": {},
   "source": [
    "## Анализ моделей"
   ]
  },
  {
   "cell_type": "code",
   "execution_count": 30,
   "metadata": {},
   "outputs": [
    {
     "name": "stderr",
     "output_type": "stream",
     "text": [
      "/opt/conda/lib/python3.9/site-packages/sklearn/preprocessing/_encoders.py:975: FutureWarning: `sparse` was renamed to `sparse_output` in version 1.2 and will be removed in 1.4. `sparse_output` is ignored unless you leave `sparse` to its default value.\n",
      "  warnings.warn(\n",
      "/opt/conda/lib/python3.9/site-packages/sklearn/preprocessing/_encoders.py:975: FutureWarning: `sparse` was renamed to `sparse_output` in version 1.2 and will be removed in 1.4. `sparse_output` is ignored unless you leave `sparse` to its default value.\n",
      "  warnings.warn(\n"
     ]
    },
    {
     "data": {
      "text/html": [
       "<div>\n",
       "<style scoped>\n",
       "    .dataframe tbody tr th:only-of-type {\n",
       "        vertical-align: middle;\n",
       "    }\n",
       "\n",
       "    .dataframe tbody tr th {\n",
       "        vertical-align: top;\n",
       "    }\n",
       "\n",
       "    .dataframe thead th {\n",
       "        text-align: right;\n",
       "    }\n",
       "</style>\n",
       "<table border=\"1\" class=\"dataframe\">\n",
       "  <thead>\n",
       "    <tr style=\"text-align: right;\">\n",
       "      <th></th>\n",
       "      <th>Время_обучения</th>\n",
       "      <th>Время_предсказания</th>\n",
       "    </tr>\n",
       "  </thead>\n",
       "  <tbody>\n",
       "    <tr>\n",
       "      <th>Линейная_регрессия</th>\n",
       "      <td>24.433331</td>\n",
       "      <td>1.300099</td>\n",
       "    </tr>\n",
       "    <tr>\n",
       "      <th>LGBMRegressor</th>\n",
       "      <td>7.803679</td>\n",
       "      <td>2.902329</td>\n",
       "    </tr>\n",
       "  </tbody>\n",
       "</table>\n",
       "</div>"
      ],
      "text/plain": [
       "                   Время_обучения Время_предсказания\n",
       "Линейная_регрессия      24.433331           1.300099\n",
       "LGBMRegressor            7.803679           2.902329"
      ]
     },
     "metadata": {},
     "output_type": "display_data"
    }
   ],
   "source": [
    "import time\n",
    "results = pd.DataFrame(columns=['Время_обучения', 'Время_предсказания'],\n",
    "                       index=['Линейная_регрессия', 'LGBMRegressor'])\n",
    "\n",
    "models = {\n",
    "    'Линейная_регрессия': lin_reg_pipeline,\n",
    "    'LGBMRegressor': lgbm_pipeline\n",
    "}\n",
    "\n",
    "\n",
    "for model_name, pipeline in models.items():\n",
    "    start_time = time.time()\n",
    "    pipeline.fit(X_train, y_train)\n",
    "    end_time = time.time()\n",
    "\n",
    "    results.loc[model_name, 'Время_обучения'] = end_time - start_time\n",
    "\n",
    "    start_time = time.time()\n",
    "    predictions_train = pipeline.predict(X_train)\n",
    "    end_time = time.time()\n",
    "    \n",
    "    results.loc[model_name, 'Время_предсказания'] = end_time - start_time\n",
    "\n",
    "display(results)"
   ]
  },
  {
   "cell_type": "markdown",
   "metadata": {},
   "source": [
    "**Сравнение моделей и выбор лучшей**"
   ]
  },
  {
   "cell_type": "markdown",
   "metadata": {},
   "source": [
    "Сравнение моделей и выбор лучшей\n",
    "\n",
    "LGBMRegressor\n",
    "\n",
    "- Лучшие параметры: {'model__min_data_in_leaf': 30, 'model__num_leaves': 127, 'model__reg_alpha': 0.5}\n",
    "- Лучшая метрика (RMSE): 1560.3572365933378\n",
    "\n",
    "Linear Regression\n",
    "\n",
    "- Лучшие параметры: {'model__fit_intercept': True}\n",
    "- Лучшая метрика (RMSE): 2469.147434551371\n",
    "\n",
    "Видно, что LGBMRegressor показывает лучший результат. Далее, берем на тест"
   ]
  },
  {
   "cell_type": "markdown",
   "metadata": {},
   "source": [
    "**Финальная оценка лучшей модели на тестовых данных**"
   ]
  },
  {
   "cell_type": "code",
   "execution_count": 31,
   "metadata": {},
   "outputs": [
    {
     "name": "stderr",
     "output_type": "stream",
     "text": [
      "/opt/conda/lib/python3.9/site-packages/sklearn/preprocessing/_encoders.py:975: FutureWarning: `sparse` was renamed to `sparse_output` in version 1.2 and will be removed in 1.4. `sparse_output` is ignored unless you leave `sparse` to its default value.\n",
      "  warnings.warn(\n"
     ]
    },
    {
     "name": "stdout",
     "output_type": "stream",
     "text": [
      "[LightGBM] [Warning] min_data_in_leaf is set=30, min_child_samples=20 will be ignored. Current value: min_data_in_leaf=30\n",
      "Финальный RMSE на тестовых данных: 1552.2732289423209\n"
     ]
    }
   ],
   "source": [
    "best_model = grid_search_lgbm.best_estimator_\n",
    "best_model.fit(X_train, y_train)\n",
    "final_predictions = best_model.predict(X_test)\n",
    "final_rmse = np.sqrt(mean_squared_error(y_test, final_predictions))\n",
    "print(f\"Финальный RMSE на тестовых данных: {final_rmse}\")"
   ]
  },
  {
   "cell_type": "markdown",
   "metadata": {},
   "source": [
    "**DummyRegressor(Оценка константной модели)**"
   ]
  },
  {
   "cell_type": "code",
   "execution_count": 32,
   "metadata": {},
   "outputs": [
    {
     "name": "stdout",
     "output_type": "stream",
     "text": [
      "RMSE константной модели: 4693.308296505409\n"
     ]
    }
   ],
   "source": [
    "dummy_regr = DummyRegressor(strategy=\"mean\")\n",
    "dummy_regr.fit(X_train, y_train)\n",
    "dummy_pred = dummy_regr.predict(X_test)\n",
    "rmse_dummy = np.sqrt(mean_squared_error(y_test, dummy_pred))\n",
    "print(f\"RMSE константной модели: {rmse_dummy}\")"
   ]
  },
  {
   "cell_type": "markdown",
   "metadata": {},
   "source": [
    "**Итоговый вывод:**\n",
    "\n",
    "Основываясь на анализе моделей, можно заключить, что модель, построенная с использованием LGBM, будет наилучшим выбором, учитывая критерии заказчика.\n",
    "Модель с LGBM значительно уменьшает ошибку по сравнению с базовой моделью и линейной регрессией"
   ]
  }
 ],
 "metadata": {
  "ExecuteTimeLog": [
   {
    "duration": 1680,
    "start_time": "2023-10-03T12:59:10.476Z"
   },
   {
    "duration": 1125,
    "start_time": "2023-10-03T13:11:52.192Z"
   },
   {
    "duration": 218,
    "start_time": "2023-10-03T13:21:17.578Z"
   },
   {
    "duration": 145,
    "start_time": "2023-10-03T13:21:28.417Z"
   },
   {
    "duration": 214,
    "start_time": "2023-10-03T13:21:33.909Z"
   },
   {
    "duration": 212,
    "start_time": "2023-10-03T13:21:42.518Z"
   },
   {
    "duration": 213,
    "start_time": "2023-10-03T13:21:49.662Z"
   },
   {
    "duration": 193,
    "start_time": "2023-10-03T13:22:16.726Z"
   },
   {
    "duration": 183,
    "start_time": "2023-10-03T13:22:46.167Z"
   },
   {
    "duration": 215,
    "start_time": "2023-10-03T13:23:37.950Z"
   },
   {
    "duration": 1106,
    "start_time": "2023-10-03T13:24:38.665Z"
   },
   {
    "duration": 4,
    "start_time": "2023-10-03T14:18:25.687Z"
   },
   {
    "duration": 795,
    "start_time": "2023-10-03T14:18:27.668Z"
   },
   {
    "duration": 224,
    "start_time": "2023-10-03T14:18:31.152Z"
   },
   {
    "duration": 151,
    "start_time": "2023-10-03T14:18:34.563Z"
   },
   {
    "duration": 258,
    "start_time": "2023-10-03T14:18:35.889Z"
   },
   {
    "duration": 1020,
    "start_time": "2023-10-03T14:18:39.053Z"
   },
   {
    "duration": 1761,
    "start_time": "2023-10-03T14:26:37.837Z"
   },
   {
    "duration": 1681,
    "start_time": "2023-10-03T14:26:52.427Z"
   },
   {
    "duration": 1664,
    "start_time": "2023-10-03T14:27:06.942Z"
   },
   {
    "duration": 5020,
    "start_time": "2023-10-03T14:27:22.783Z"
   },
   {
    "duration": 641,
    "start_time": "2023-10-03T14:31:11.911Z"
   },
   {
    "duration": 38602,
    "start_time": "2023-10-03T14:32:13.750Z"
   },
   {
    "duration": 1640,
    "start_time": "2023-10-04T06:54:16.857Z"
   },
   {
    "duration": 1266,
    "start_time": "2023-10-04T06:54:18.499Z"
   },
   {
    "duration": 243,
    "start_time": "2023-10-04T06:54:19.766Z"
   },
   {
    "duration": 180,
    "start_time": "2023-10-04T06:54:20.011Z"
   },
   {
    "duration": 240,
    "start_time": "2023-10-04T06:54:20.193Z"
   },
   {
    "duration": 1030,
    "start_time": "2023-10-04T06:54:20.434Z"
   },
   {
    "duration": 1856,
    "start_time": "2023-10-04T06:54:21.466Z"
   },
   {
    "duration": 5758,
    "start_time": "2023-10-04T06:54:23.324Z"
   },
   {
    "duration": 706,
    "start_time": "2023-10-04T06:54:29.084Z"
   },
   {
    "duration": 68359,
    "start_time": "2023-10-04T06:54:29.791Z"
   },
   {
    "duration": 1681,
    "start_time": "2023-10-04T06:59:14.368Z"
   },
   {
    "duration": 986,
    "start_time": "2023-10-04T06:59:16.052Z"
   },
   {
    "duration": 286,
    "start_time": "2023-10-04T06:59:17.041Z"
   },
   {
    "duration": 206,
    "start_time": "2023-10-04T06:59:17.328Z"
   },
   {
    "duration": 1436,
    "start_time": "2023-10-04T06:59:17.538Z"
   },
   {
    "duration": 121,
    "start_time": "2023-10-04T06:59:18.983Z"
   },
   {
    "duration": 2104,
    "start_time": "2023-10-04T06:59:19.106Z"
   },
   {
    "duration": 6378,
    "start_time": "2023-10-04T06:59:21.211Z"
   },
   {
    "duration": 570,
    "start_time": "2023-10-04T06:59:27.590Z"
   },
   {
    "duration": 161,
    "start_time": "2023-10-04T06:59:28.162Z"
   },
   {
    "duration": 0,
    "start_time": "2023-10-04T06:59:28.325Z"
   },
   {
    "duration": 0,
    "start_time": "2023-10-04T06:59:28.327Z"
   },
   {
    "duration": 67665,
    "start_time": "2023-10-04T07:00:08.593Z"
   },
   {
    "duration": 559,
    "start_time": "2023-10-04T07:01:20.428Z"
   },
   {
    "duration": 1415,
    "start_time": "2023-10-04T08:52:00.598Z"
   },
   {
    "duration": 810,
    "start_time": "2023-10-04T08:52:02.015Z"
   },
   {
    "duration": 258,
    "start_time": "2023-10-04T08:52:02.827Z"
   },
   {
    "duration": 154,
    "start_time": "2023-10-04T08:52:03.087Z"
   },
   {
    "duration": 1033,
    "start_time": "2023-10-04T08:52:03.243Z"
   },
   {
    "duration": 103,
    "start_time": "2023-10-04T08:52:04.278Z"
   },
   {
    "duration": 1859,
    "start_time": "2023-10-04T08:52:04.383Z"
   },
   {
    "duration": 5074,
    "start_time": "2023-10-04T08:52:06.249Z"
   },
   {
    "duration": 531,
    "start_time": "2023-10-04T08:52:11.325Z"
   },
   {
    "duration": 25398,
    "start_time": "2023-10-04T08:52:11.858Z"
   },
   {
    "duration": 1537,
    "start_time": "2023-10-04T09:37:33.769Z"
   },
   {
    "duration": 912,
    "start_time": "2023-10-04T09:37:35.308Z"
   },
   {
    "duration": 273,
    "start_time": "2023-10-04T09:37:36.222Z"
   },
   {
    "duration": 465,
    "start_time": "2023-10-04T09:37:36.498Z"
   },
   {
    "duration": 170,
    "start_time": "2023-10-04T09:37:36.964Z"
   },
   {
    "duration": 1266,
    "start_time": "2023-10-04T09:37:37.135Z"
   },
   {
    "duration": 119,
    "start_time": "2023-10-04T09:37:38.403Z"
   },
   {
    "duration": 1671,
    "start_time": "2023-10-04T09:37:38.524Z"
   },
   {
    "duration": 5219,
    "start_time": "2023-10-04T09:37:40.197Z"
   },
   {
    "duration": 551,
    "start_time": "2023-10-04T09:37:45.419Z"
   },
   {
    "duration": 27191,
    "start_time": "2023-10-04T09:37:45.972Z"
   },
   {
    "duration": 1887,
    "start_time": "2023-10-04T11:27:42.634Z"
   },
   {
    "duration": 3219,
    "start_time": "2023-10-04T11:27:47.308Z"
   },
   {
    "duration": 282,
    "start_time": "2023-10-04T11:27:50.529Z"
   },
   {
    "duration": 540,
    "start_time": "2023-10-04T11:27:50.813Z"
   },
   {
    "duration": 673,
    "start_time": "2023-10-04T11:27:51.356Z"
   },
   {
    "duration": 708,
    "start_time": "2023-10-04T11:27:58.507Z"
   },
   {
    "duration": 186,
    "start_time": "2023-10-04T11:28:03.906Z"
   },
   {
    "duration": 1754,
    "start_time": "2023-10-04T11:28:05.350Z"
   },
   {
    "duration": 200,
    "start_time": "2023-10-04T11:28:07.929Z"
   },
   {
    "duration": 1884,
    "start_time": "2023-10-04T11:28:10.902Z"
   },
   {
    "duration": 6185,
    "start_time": "2023-10-04T11:28:15.782Z"
   },
   {
    "duration": 637,
    "start_time": "2023-10-04T11:28:21.969Z"
   },
   {
    "duration": 30592,
    "start_time": "2023-10-04T11:28:23.867Z"
   },
   {
    "duration": 16599,
    "start_time": "2023-10-04T11:28:54.463Z"
   },
   {
    "duration": 1592,
    "start_time": "2023-10-04T11:43:08.281Z"
   },
   {
    "duration": 997,
    "start_time": "2023-10-04T11:43:09.875Z"
   },
   {
    "duration": 285,
    "start_time": "2023-10-04T11:43:10.875Z"
   },
   {
    "duration": 545,
    "start_time": "2023-10-04T11:43:11.163Z"
   },
   {
    "duration": 607,
    "start_time": "2023-10-04T11:43:11.710Z"
   },
   {
    "duration": 195,
    "start_time": "2023-10-04T11:43:12.318Z"
   },
   {
    "duration": 1651,
    "start_time": "2023-10-04T11:43:12.515Z"
   },
   {
    "duration": 122,
    "start_time": "2023-10-04T11:43:14.168Z"
   },
   {
    "duration": 1879,
    "start_time": "2023-10-04T11:43:14.292Z"
   },
   {
    "duration": 6124,
    "start_time": "2023-10-04T11:43:16.174Z"
   },
   {
    "duration": 632,
    "start_time": "2023-10-04T11:43:22.300Z"
   },
   {
    "duration": 42165,
    "start_time": "2023-10-04T11:43:22.934Z"
   },
   {
    "duration": 29556,
    "start_time": "2023-10-04T11:44:05.101Z"
   },
   {
    "duration": 15404,
    "start_time": "2023-10-04T11:44:34.660Z"
   },
   {
    "duration": 4,
    "start_time": "2023-10-04T11:44:50.066Z"
   },
   {
    "duration": 130,
    "start_time": "2023-10-04T12:10:31.354Z"
   },
   {
    "duration": 21,
    "start_time": "2023-10-04T12:12:31.239Z"
   },
   {
    "duration": 20,
    "start_time": "2023-10-04T12:12:54.179Z"
   },
   {
    "duration": 185,
    "start_time": "2023-10-04T12:13:11.800Z"
   },
   {
    "duration": 33071,
    "start_time": "2023-10-04T12:13:18.140Z"
   },
   {
    "duration": 1685,
    "start_time": "2023-10-04T12:22:55.068Z"
   },
   {
    "duration": 1027,
    "start_time": "2023-10-04T12:22:56.755Z"
   },
   {
    "duration": 295,
    "start_time": "2023-10-04T12:22:57.784Z"
   },
   {
    "duration": 542,
    "start_time": "2023-10-04T12:22:58.082Z"
   },
   {
    "duration": 661,
    "start_time": "2023-10-04T12:22:58.625Z"
   },
   {
    "duration": 194,
    "start_time": "2023-10-04T12:22:59.287Z"
   },
   {
    "duration": 1677,
    "start_time": "2023-10-04T12:22:59.483Z"
   },
   {
    "duration": 121,
    "start_time": "2023-10-04T12:23:01.162Z"
   },
   {
    "duration": 1898,
    "start_time": "2023-10-04T12:23:01.285Z"
   },
   {
    "duration": 618,
    "start_time": "2023-10-04T12:23:03.186Z"
   },
   {
    "duration": 40617,
    "start_time": "2023-10-04T12:23:03.806Z"
   },
   {
    "duration": 26646,
    "start_time": "2023-10-04T12:23:44.425Z"
   },
   {
    "duration": 12810,
    "start_time": "2023-10-04T12:24:11.157Z"
   },
   {
    "duration": 3,
    "start_time": "2023-10-04T12:24:23.969Z"
   },
   {
    "duration": 107,
    "start_time": "2023-10-04T12:25:00.326Z"
   },
   {
    "duration": 1844,
    "start_time": "2023-10-04T12:28:01.402Z"
   },
   {
    "duration": 9951,
    "start_time": "2023-10-04T15:16:50.589Z"
   },
   {
    "duration": 1349,
    "start_time": "2023-10-04T15:17:00.543Z"
   },
   {
    "duration": 340,
    "start_time": "2023-10-04T15:17:01.894Z"
   },
   {
    "duration": 432,
    "start_time": "2023-10-04T15:17:02.237Z"
   },
   {
    "duration": 490,
    "start_time": "2023-10-04T15:17:02.671Z"
   },
   {
    "duration": 174,
    "start_time": "2023-10-04T15:17:03.163Z"
   },
   {
    "duration": 1184,
    "start_time": "2023-10-04T15:17:03.343Z"
   },
   {
    "duration": 84,
    "start_time": "2023-10-04T15:18:34.311Z"
   },
   {
    "duration": 3645,
    "start_time": "2023-10-04T15:18:51.907Z"
   },
   {
    "duration": 997,
    "start_time": "2023-10-04T15:18:55.554Z"
   },
   {
    "duration": 246,
    "start_time": "2023-10-04T15:18:56.553Z"
   },
   {
    "duration": 472,
    "start_time": "2023-10-04T15:18:56.801Z"
   },
   {
    "duration": 522,
    "start_time": "2023-10-04T15:18:57.275Z"
   },
   {
    "duration": 182,
    "start_time": "2023-10-04T15:18:57.799Z"
   },
   {
    "duration": 295,
    "start_time": "2023-10-04T15:18:57.983Z"
   },
   {
    "duration": 144,
    "start_time": "2023-10-04T15:18:58.280Z"
   },
   {
    "duration": 4102,
    "start_time": "2023-10-04T15:19:21.157Z"
   },
   {
    "duration": 984,
    "start_time": "2023-10-04T15:19:25.262Z"
   },
   {
    "duration": 287,
    "start_time": "2023-10-04T15:19:26.248Z"
   },
   {
    "duration": 439,
    "start_time": "2023-10-04T15:19:26.536Z"
   },
   {
    "duration": 483,
    "start_time": "2023-10-04T15:19:26.977Z"
   },
   {
    "duration": 181,
    "start_time": "2023-10-04T15:19:27.462Z"
   },
   {
    "duration": 135,
    "start_time": "2023-10-04T15:19:27.645Z"
   },
   {
    "duration": 169,
    "start_time": "2023-10-04T15:19:27.782Z"
   },
   {
    "duration": 139,
    "start_time": "2023-10-04T15:19:27.953Z"
   },
   {
    "duration": 47,
    "start_time": "2023-10-04T18:48:00.911Z"
   },
   {
    "duration": 1698,
    "start_time": "2023-10-04T18:48:08.813Z"
   },
   {
    "duration": 1283,
    "start_time": "2023-10-04T18:48:13.685Z"
   },
   {
    "duration": 237,
    "start_time": "2023-10-04T18:48:16.285Z"
   },
   {
    "duration": 470,
    "start_time": "2023-10-04T18:48:21.225Z"
   },
   {
    "duration": 520,
    "start_time": "2023-10-04T18:48:23.213Z"
   },
   {
    "duration": 1610,
    "start_time": "2023-10-05T05:03:36.039Z"
   },
   {
    "duration": 1181,
    "start_time": "2023-10-05T05:03:38.930Z"
   },
   {
    "duration": 229,
    "start_time": "2023-10-05T05:03:42.140Z"
   },
   {
    "duration": 487,
    "start_time": "2023-10-05T05:03:44.417Z"
   },
   {
    "duration": 532,
    "start_time": "2023-10-05T05:03:45.563Z"
   },
   {
    "duration": 196,
    "start_time": "2023-10-05T05:04:45.593Z"
   },
   {
    "duration": 79,
    "start_time": "2023-10-05T05:05:12.860Z"
   },
   {
    "duration": 131,
    "start_time": "2023-10-05T05:05:34.500Z"
   },
   {
    "duration": 131,
    "start_time": "2023-10-05T05:05:42.120Z"
   },
   {
    "duration": 1465,
    "start_time": "2023-10-05T05:35:21.395Z"
   },
   {
    "duration": 843,
    "start_time": "2023-10-05T05:35:22.862Z"
   },
   {
    "duration": 237,
    "start_time": "2023-10-05T05:35:23.706Z"
   },
   {
    "duration": 449,
    "start_time": "2023-10-05T05:35:23.948Z"
   },
   {
    "duration": 465,
    "start_time": "2023-10-05T05:35:24.399Z"
   },
   {
    "duration": 176,
    "start_time": "2023-10-05T05:35:24.866Z"
   },
   {
    "duration": 128,
    "start_time": "2023-10-05T05:35:25.043Z"
   },
   {
    "duration": 91,
    "start_time": "2023-10-05T05:35:25.173Z"
   },
   {
    "duration": 125,
    "start_time": "2023-10-05T05:35:25.266Z"
   },
   {
    "duration": 52,
    "start_time": "2023-10-05T05:35:25.394Z"
   },
   {
    "duration": 788,
    "start_time": "2023-10-05T05:35:25.448Z"
   },
   {
    "duration": 31,
    "start_time": "2023-10-05T05:35:26.238Z"
   },
   {
    "duration": 4,
    "start_time": "2023-10-05T05:35:26.271Z"
   },
   {
    "duration": 137,
    "start_time": "2023-10-05T05:35:26.277Z"
   },
   {
    "duration": 2,
    "start_time": "2023-10-05T05:35:26.416Z"
   },
   {
    "duration": 535,
    "start_time": "2023-10-05T05:35:26.420Z"
   },
   {
    "duration": 19,
    "start_time": "2023-10-05T05:35:26.957Z"
   },
   {
    "duration": 4,
    "start_time": "2023-10-05T05:35:26.978Z"
   },
   {
    "duration": 35060,
    "start_time": "2023-10-05T05:35:26.984Z"
   },
   {
    "duration": 2,
    "start_time": "2023-10-05T05:36:02.049Z"
   },
   {
    "duration": 30601,
    "start_time": "2023-10-05T05:36:02.053Z"
   },
   {
    "duration": 94,
    "start_time": "2023-10-05T05:36:32.656Z"
   },
   {
    "duration": 1395,
    "start_time": "2023-10-05T06:48:40.220Z"
   },
   {
    "duration": 868,
    "start_time": "2023-10-05T06:48:41.617Z"
   },
   {
    "duration": 235,
    "start_time": "2023-10-05T06:48:42.487Z"
   },
   {
    "duration": 448,
    "start_time": "2023-10-05T06:48:42.724Z"
   },
   {
    "duration": 492,
    "start_time": "2023-10-05T06:48:43.174Z"
   },
   {
    "duration": 191,
    "start_time": "2023-10-05T06:48:43.667Z"
   },
   {
    "duration": 137,
    "start_time": "2023-10-05T06:48:43.859Z"
   },
   {
    "duration": 96,
    "start_time": "2023-10-05T06:48:43.998Z"
   },
   {
    "duration": 135,
    "start_time": "2023-10-05T06:48:44.095Z"
   },
   {
    "duration": 53,
    "start_time": "2023-10-05T06:48:44.233Z"
   },
   {
    "duration": 193,
    "start_time": "2023-10-05T06:48:44.288Z"
   },
   {
    "duration": 847,
    "start_time": "2023-10-05T06:48:44.483Z"
   },
   {
    "duration": 33,
    "start_time": "2023-10-05T06:48:45.332Z"
   },
   {
    "duration": 3,
    "start_time": "2023-10-05T06:48:45.366Z"
   },
   {
    "duration": 119,
    "start_time": "2023-10-05T06:48:45.370Z"
   },
   {
    "duration": 3,
    "start_time": "2023-10-05T06:48:45.490Z"
   },
   {
    "duration": 536,
    "start_time": "2023-10-05T06:48:45.494Z"
   },
   {
    "duration": 32,
    "start_time": "2023-10-05T06:48:46.031Z"
   },
   {
    "duration": 4,
    "start_time": "2023-10-05T06:48:46.065Z"
   },
   {
    "duration": 1724,
    "start_time": "2023-10-05T06:51:50.489Z"
   },
   {
    "duration": 1241,
    "start_time": "2023-10-05T06:51:52.216Z"
   },
   {
    "duration": 235,
    "start_time": "2023-10-05T06:51:53.461Z"
   },
   {
    "duration": 451,
    "start_time": "2023-10-05T06:51:53.698Z"
   },
   {
    "duration": 482,
    "start_time": "2023-10-05T06:51:54.152Z"
   },
   {
    "duration": 193,
    "start_time": "2023-10-05T06:51:54.636Z"
   },
   {
    "duration": 155,
    "start_time": "2023-10-05T06:51:54.831Z"
   },
   {
    "duration": 155,
    "start_time": "2023-10-05T06:51:54.988Z"
   },
   {
    "duration": 139,
    "start_time": "2023-10-05T06:51:55.145Z"
   },
   {
    "duration": 81,
    "start_time": "2023-10-05T06:51:55.286Z"
   },
   {
    "duration": 173,
    "start_time": "2023-10-05T06:51:55.369Z"
   },
   {
    "duration": 858,
    "start_time": "2023-10-05T06:51:55.543Z"
   },
   {
    "duration": 23,
    "start_time": "2023-10-05T06:51:56.402Z"
   },
   {
    "duration": 3,
    "start_time": "2023-10-05T06:51:56.426Z"
   },
   {
    "duration": 132,
    "start_time": "2023-10-05T06:51:56.430Z"
   },
   {
    "duration": 4,
    "start_time": "2023-10-05T06:51:56.563Z"
   },
   {
    "duration": 561,
    "start_time": "2023-10-05T06:51:56.569Z"
   },
   {
    "duration": 38,
    "start_time": "2023-10-05T06:51:57.132Z"
   },
   {
    "duration": 21,
    "start_time": "2023-10-05T06:51:57.172Z"
   },
   {
    "duration": 37112,
    "start_time": "2023-10-05T06:51:57.195Z"
   },
   {
    "duration": 3,
    "start_time": "2023-10-05T06:52:34.308Z"
   },
   {
    "duration": 49343,
    "start_time": "2023-10-05T06:52:34.313Z"
   },
   {
    "duration": 6,
    "start_time": "2023-10-05T06:53:23.658Z"
   },
   {
    "duration": 1482,
    "start_time": "2023-10-05T06:53:43.829Z"
   },
   {
    "duration": 871,
    "start_time": "2023-10-05T06:53:51.658Z"
   },
   {
    "duration": 245,
    "start_time": "2023-10-05T06:53:54.085Z"
   },
   {
    "duration": 443,
    "start_time": "2023-10-05T06:53:57.620Z"
   },
   {
    "duration": 470,
    "start_time": "2023-10-05T06:53:59.265Z"
   },
   {
    "duration": 204,
    "start_time": "2023-10-05T06:54:01.970Z"
   },
   {
    "duration": 166,
    "start_time": "2023-10-05T06:54:12.070Z"
   },
   {
    "duration": 99,
    "start_time": "2023-10-05T06:54:15.059Z"
   },
   {
    "duration": 162,
    "start_time": "2023-10-05T06:54:16.899Z"
   },
   {
    "duration": 94,
    "start_time": "2023-10-05T06:54:46.039Z"
   },
   {
    "duration": 142,
    "start_time": "2023-10-05T06:54:47.157Z"
   },
   {
    "duration": 207,
    "start_time": "2023-10-05T07:08:54.964Z"
   },
   {
    "duration": 287,
    "start_time": "2023-10-05T07:09:31.839Z"
   },
   {
    "duration": 11,
    "start_time": "2023-10-05T07:09:44.161Z"
   },
   {
    "duration": 11,
    "start_time": "2023-10-05T07:09:46.519Z"
   },
   {
    "duration": 1511,
    "start_time": "2023-10-05T07:09:52.875Z"
   },
   {
    "duration": 867,
    "start_time": "2023-10-05T07:09:54.388Z"
   },
   {
    "duration": 246,
    "start_time": "2023-10-05T07:09:55.260Z"
   },
   {
    "duration": 521,
    "start_time": "2023-10-05T07:09:55.509Z"
   },
   {
    "duration": 547,
    "start_time": "2023-10-05T07:09:56.032Z"
   },
   {
    "duration": 193,
    "start_time": "2023-10-05T07:09:56.581Z"
   },
   {
    "duration": 135,
    "start_time": "2023-10-05T07:09:56.776Z"
   },
   {
    "duration": 103,
    "start_time": "2023-10-05T07:09:56.913Z"
   },
   {
    "duration": 151,
    "start_time": "2023-10-05T07:09:57.018Z"
   },
   {
    "duration": 222,
    "start_time": "2023-10-05T07:09:57.172Z"
   },
   {
    "duration": 309,
    "start_time": "2023-10-05T07:09:57.396Z"
   },
   {
    "duration": 702,
    "start_time": "2023-10-05T07:09:57.707Z"
   },
   {
    "duration": 22,
    "start_time": "2023-10-05T07:09:58.410Z"
   },
   {
    "duration": 29,
    "start_time": "2023-10-05T07:09:58.434Z"
   },
   {
    "duration": 108,
    "start_time": "2023-10-05T07:09:58.466Z"
   },
   {
    "duration": 3,
    "start_time": "2023-10-05T07:09:58.576Z"
   },
   {
    "duration": 506,
    "start_time": "2023-10-05T07:09:58.581Z"
   },
   {
    "duration": 19,
    "start_time": "2023-10-05T07:09:59.089Z"
   },
   {
    "duration": 4,
    "start_time": "2023-10-05T07:09:59.109Z"
   },
   {
    "duration": 36615,
    "start_time": "2023-10-05T07:09:59.115Z"
   },
   {
    "duration": 3,
    "start_time": "2023-10-05T07:10:35.731Z"
   },
   {
    "duration": 62918,
    "start_time": "2023-10-05T07:10:35.735Z"
   },
   {
    "duration": 5,
    "start_time": "2023-10-05T07:11:38.656Z"
   },
   {
    "duration": 1765,
    "start_time": "2023-10-05T07:12:47.966Z"
   },
   {
    "duration": 10,
    "start_time": "2023-10-05T07:12:55.137Z"
   },
   {
    "duration": 3,
    "start_time": "2023-10-05T07:13:01.069Z"
   },
   {
    "duration": 927,
    "start_time": "2023-10-05T07:13:03.547Z"
   },
   {
    "duration": 411,
    "start_time": "2023-10-05T07:13:05.914Z"
   },
   {
    "duration": 468,
    "start_time": "2023-10-05T07:13:08.550Z"
   },
   {
    "duration": 534,
    "start_time": "2023-10-05T07:13:09.937Z"
   },
   {
    "duration": 194,
    "start_time": "2023-10-05T07:13:12.469Z"
   },
   {
    "duration": 132,
    "start_time": "2023-10-05T07:13:15.262Z"
   },
   {
    "duration": 91,
    "start_time": "2023-10-05T07:13:17.075Z"
   },
   {
    "duration": 134,
    "start_time": "2023-10-05T07:13:18.261Z"
   },
   {
    "duration": 220,
    "start_time": "2023-10-05T07:13:20.909Z"
   },
   {
    "duration": 318,
    "start_time": "2023-10-05T07:13:22.710Z"
   },
   {
    "duration": 323,
    "start_time": "2023-10-05T07:13:27.330Z"
   },
   {
    "duration": 538,
    "start_time": "2023-10-05T07:22:59.709Z"
   },
   {
    "duration": 11,
    "start_time": "2023-10-05T07:23:40.825Z"
   },
   {
    "duration": 542,
    "start_time": "2023-10-05T07:23:47.506Z"
   },
   {
    "duration": 10,
    "start_time": "2023-10-05T07:23:48.822Z"
   },
   {
    "duration": 18427,
    "start_time": "2023-10-05T07:27:10.445Z"
   },
   {
    "duration": 3,
    "start_time": "2023-10-05T07:40:19.055Z"
   },
   {
    "duration": 18504,
    "start_time": "2023-10-05T07:40:58.256Z"
   },
   {
    "duration": 125,
    "start_time": "2023-10-05T07:41:38.945Z"
   },
   {
    "duration": 14,
    "start_time": "2023-10-05T07:42:32.681Z"
   },
   {
    "duration": 4,
    "start_time": "2023-10-05T07:43:13.865Z"
   },
   {
    "duration": 25305,
    "start_time": "2023-10-05T07:43:17.365Z"
   },
   {
    "duration": 386,
    "start_time": "2023-10-05T07:50:27.388Z"
   },
   {
    "duration": 429,
    "start_time": "2023-10-05T08:03:21.448Z"
   },
   {
    "duration": 389,
    "start_time": "2023-10-05T08:03:42.563Z"
   },
   {
    "duration": 385,
    "start_time": "2023-10-05T08:05:07.929Z"
   },
   {
    "duration": 522,
    "start_time": "2023-10-05T08:05:47.016Z"
   },
   {
    "duration": 433,
    "start_time": "2023-10-05T08:06:05.269Z"
   },
   {
    "duration": 253,
    "start_time": "2023-10-05T08:08:59.517Z"
   },
   {
    "duration": 464,
    "start_time": "2023-10-05T08:11:46.220Z"
   },
   {
    "duration": 15,
    "start_time": "2023-10-05T08:13:38.633Z"
   },
   {
    "duration": 21,
    "start_time": "2023-10-05T08:15:11.666Z"
   },
   {
    "duration": 3,
    "start_time": "2023-10-05T08:15:54.603Z"
   },
   {
    "duration": 4,
    "start_time": "2023-10-05T08:15:59.082Z"
   },
   {
    "duration": 16,
    "start_time": "2023-10-05T11:40:47.144Z"
   },
   {
    "duration": 916,
    "start_time": "2023-10-05T11:40:54.057Z"
   },
   {
    "duration": 273,
    "start_time": "2023-10-05T11:40:59.244Z"
   },
   {
    "duration": 433,
    "start_time": "2023-10-05T11:41:08.297Z"
   },
   {
    "duration": 452,
    "start_time": "2023-10-05T11:41:09.944Z"
   },
   {
    "duration": 188,
    "start_time": "2023-10-05T11:41:13.336Z"
   },
   {
    "duration": 128,
    "start_time": "2023-10-05T11:41:17.165Z"
   },
   {
    "duration": 85,
    "start_time": "2023-10-05T11:41:19.601Z"
   },
   {
    "duration": 125,
    "start_time": "2023-10-05T11:41:21.604Z"
   },
   {
    "duration": 197,
    "start_time": "2023-10-05T11:41:24.616Z"
   },
   {
    "duration": 294,
    "start_time": "2023-10-05T11:41:26.812Z"
   },
   {
    "duration": 414,
    "start_time": "2023-10-05T11:41:30.423Z"
   },
   {
    "duration": 400,
    "start_time": "2023-10-05T11:41:34.969Z"
   },
   {
    "duration": 260,
    "start_time": "2023-10-05T11:42:10.352Z"
   },
   {
    "duration": 385,
    "start_time": "2023-10-05T11:42:12.705Z"
   },
   {
    "duration": 112,
    "start_time": "2023-10-05T11:42:25.644Z"
   },
   {
    "duration": 92,
    "start_time": "2023-10-05T11:43:00.344Z"
   },
   {
    "duration": 3,
    "start_time": "2023-10-05T11:43:04.903Z"
   },
   {
    "duration": 3,
    "start_time": "2023-10-05T11:43:58.244Z"
   },
   {
    "duration": 3717,
    "start_time": "2023-10-05T11:44:04.024Z"
   },
   {
    "duration": 114,
    "start_time": "2023-10-05T11:45:18.756Z"
   },
   {
    "duration": 129,
    "start_time": "2023-10-05T11:46:36.186Z"
   },
   {
    "duration": 87,
    "start_time": "2023-10-05T11:47:43.022Z"
   },
   {
    "duration": 13,
    "start_time": "2023-10-05T11:49:09.035Z"
   },
   {
    "duration": 4,
    "start_time": "2023-10-05T11:49:42.163Z"
   },
   {
    "duration": 11649,
    "start_time": "2023-10-05T11:49:55.176Z"
   },
   {
    "duration": 3178,
    "start_time": "2023-10-05T11:52:14.763Z"
   },
   {
    "duration": 90,
    "start_time": "2023-10-05T12:47:26.067Z"
   },
   {
    "duration": 4,
    "start_time": "2023-10-05T12:48:11.398Z"
   },
   {
    "duration": 16,
    "start_time": "2023-10-05T12:48:32.703Z"
   },
   {
    "duration": 21,
    "start_time": "2023-10-05T12:49:21.340Z"
   },
   {
    "duration": 17,
    "start_time": "2023-10-05T12:53:57.274Z"
   },
   {
    "duration": 4,
    "start_time": "2023-10-05T13:13:04.827Z"
   },
   {
    "duration": 16,
    "start_time": "2023-10-05T13:13:05.873Z"
   },
   {
    "duration": 12,
    "start_time": "2023-10-05T13:18:26.773Z"
   },
   {
    "duration": 3,
    "start_time": "2023-10-05T13:18:50.850Z"
   },
   {
    "duration": 16,
    "start_time": "2023-10-05T13:19:12.910Z"
   },
   {
    "duration": 4,
    "start_time": "2023-10-05T13:20:25.594Z"
   },
   {
    "duration": 79,
    "start_time": "2023-10-05T13:20:32.849Z"
   },
   {
    "duration": 107,
    "start_time": "2023-10-05T13:24:34.186Z"
   },
   {
    "duration": 571,
    "start_time": "2023-10-05T13:26:59.887Z"
   },
   {
    "duration": 18,
    "start_time": "2023-10-05T13:27:53.039Z"
   },
   {
    "duration": 469,
    "start_time": "2023-10-05T13:27:54.341Z"
   },
   {
    "duration": 3,
    "start_time": "2023-10-05T13:28:44.337Z"
   },
   {
    "duration": 1518,
    "start_time": "2023-10-05T13:29:06.990Z"
   },
   {
    "duration": 860,
    "start_time": "2023-10-05T13:29:08.510Z"
   },
   {
    "duration": 304,
    "start_time": "2023-10-05T13:29:09.372Z"
   },
   {
    "duration": 461,
    "start_time": "2023-10-05T13:29:09.679Z"
   },
   {
    "duration": 478,
    "start_time": "2023-10-05T13:29:10.144Z"
   },
   {
    "duration": 178,
    "start_time": "2023-10-05T13:29:10.623Z"
   },
   {
    "duration": 133,
    "start_time": "2023-10-05T13:29:10.803Z"
   },
   {
    "duration": 88,
    "start_time": "2023-10-05T13:29:10.944Z"
   },
   {
    "duration": 131,
    "start_time": "2023-10-05T13:29:11.033Z"
   },
   {
    "duration": 200,
    "start_time": "2023-10-05T13:29:11.166Z"
   },
   {
    "duration": 292,
    "start_time": "2023-10-05T13:29:11.367Z"
   },
   {
    "duration": 402,
    "start_time": "2023-10-05T13:29:11.661Z"
   },
   {
    "duration": 397,
    "start_time": "2023-10-05T13:29:12.064Z"
   },
   {
    "duration": 250,
    "start_time": "2023-10-05T13:29:12.463Z"
   },
   {
    "duration": 374,
    "start_time": "2023-10-05T13:29:12.715Z"
   },
   {
    "duration": 105,
    "start_time": "2023-10-05T13:29:13.091Z"
   },
   {
    "duration": 111,
    "start_time": "2023-10-05T13:29:13.198Z"
   },
   {
    "duration": 0,
    "start_time": "2023-10-05T13:29:13.310Z"
   },
   {
    "duration": 0,
    "start_time": "2023-10-05T13:29:13.311Z"
   },
   {
    "duration": 0,
    "start_time": "2023-10-05T13:29:13.312Z"
   },
   {
    "duration": 0,
    "start_time": "2023-10-05T13:29:13.313Z"
   },
   {
    "duration": 0,
    "start_time": "2023-10-05T13:29:13.314Z"
   },
   {
    "duration": 0,
    "start_time": "2023-10-05T13:29:13.315Z"
   },
   {
    "duration": 0,
    "start_time": "2023-10-05T13:29:13.316Z"
   },
   {
    "duration": 0,
    "start_time": "2023-10-05T13:29:13.317Z"
   },
   {
    "duration": 9,
    "start_time": "2023-10-05T13:33:40.583Z"
   },
   {
    "duration": 526,
    "start_time": "2023-10-05T13:33:55.004Z"
   },
   {
    "duration": 457,
    "start_time": "2023-10-05T13:33:59.245Z"
   },
   {
    "duration": 10,
    "start_time": "2023-10-05T13:34:01.759Z"
   },
   {
    "duration": 3,
    "start_time": "2023-10-05T13:35:06.888Z"
   },
   {
    "duration": 24584,
    "start_time": "2023-10-05T13:35:12.760Z"
   },
   {
    "duration": 1419,
    "start_time": "2023-10-05T14:06:32.487Z"
   },
   {
    "duration": 923,
    "start_time": "2023-10-05T14:06:33.908Z"
   },
   {
    "duration": 263,
    "start_time": "2023-10-05T14:06:34.833Z"
   },
   {
    "duration": 449,
    "start_time": "2023-10-05T14:06:35.098Z"
   },
   {
    "duration": 462,
    "start_time": "2023-10-05T14:06:35.550Z"
   },
   {
    "duration": 191,
    "start_time": "2023-10-05T14:06:36.014Z"
   },
   {
    "duration": 147,
    "start_time": "2023-10-05T14:06:36.206Z"
   },
   {
    "duration": 95,
    "start_time": "2023-10-05T14:06:36.355Z"
   },
   {
    "duration": 128,
    "start_time": "2023-10-05T14:06:36.451Z"
   },
   {
    "duration": 211,
    "start_time": "2023-10-05T14:06:36.581Z"
   },
   {
    "duration": 298,
    "start_time": "2023-10-05T14:06:36.793Z"
   },
   {
    "duration": 402,
    "start_time": "2023-10-05T14:06:37.092Z"
   },
   {
    "duration": 385,
    "start_time": "2023-10-05T14:06:37.496Z"
   },
   {
    "duration": 262,
    "start_time": "2023-10-05T14:06:37.885Z"
   },
   {
    "duration": 372,
    "start_time": "2023-10-05T14:06:38.149Z"
   },
   {
    "duration": 498,
    "start_time": "2023-10-05T14:06:38.523Z"
   },
   {
    "duration": 443,
    "start_time": "2023-10-05T14:06:39.023Z"
   },
   {
    "duration": 4,
    "start_time": "2023-10-05T14:06:39.468Z"
   },
   {
    "duration": 33589,
    "start_time": "2023-10-05T14:06:39.474Z"
   },
   {
    "duration": 16081,
    "start_time": "2023-10-05T14:07:13.064Z"
   },
   {
    "duration": 9315,
    "start_time": "2023-10-05T14:07:29.147Z"
   },
   {
    "duration": 83,
    "start_time": "2023-10-05T14:07:38.463Z"
   },
   {
    "duration": 7853,
    "start_time": "2023-10-05T14:17:14.406Z"
   },
   {
    "duration": 113,
    "start_time": "2023-10-05T14:30:10.099Z"
   },
   {
    "duration": 12,
    "start_time": "2023-10-05T14:31:27.808Z"
   },
   {
    "duration": 1384,
    "start_time": "2023-10-05T15:10:10.985Z"
   },
   {
    "duration": 826,
    "start_time": "2023-10-05T15:10:12.371Z"
   },
   {
    "duration": 235,
    "start_time": "2023-10-05T15:10:13.198Z"
   },
   {
    "duration": 442,
    "start_time": "2023-10-05T15:10:13.435Z"
   },
   {
    "duration": 523,
    "start_time": "2023-10-05T15:10:13.879Z"
   },
   {
    "duration": 192,
    "start_time": "2023-10-05T15:10:14.404Z"
   },
   {
    "duration": 134,
    "start_time": "2023-10-05T15:10:14.597Z"
   },
   {
    "duration": 87,
    "start_time": "2023-10-05T15:10:14.732Z"
   },
   {
    "duration": 146,
    "start_time": "2023-10-05T15:10:14.821Z"
   },
   {
    "duration": 245,
    "start_time": "2023-10-05T15:10:14.969Z"
   },
   {
    "duration": 312,
    "start_time": "2023-10-05T15:10:15.216Z"
   },
   {
    "duration": 406,
    "start_time": "2023-10-05T15:10:15.529Z"
   },
   {
    "duration": 438,
    "start_time": "2023-10-05T15:10:15.936Z"
   },
   {
    "duration": 262,
    "start_time": "2023-10-05T15:10:16.377Z"
   },
   {
    "duration": 372,
    "start_time": "2023-10-05T15:10:16.643Z"
   },
   {
    "duration": 520,
    "start_time": "2023-10-05T15:10:17.016Z"
   },
   {
    "duration": 458,
    "start_time": "2023-10-05T15:10:17.538Z"
   },
   {
    "duration": 4,
    "start_time": "2023-10-05T15:10:17.998Z"
   },
   {
    "duration": 26943,
    "start_time": "2023-10-05T15:10:18.003Z"
   },
   {
    "duration": 6813,
    "start_time": "2023-10-05T15:10:44.948Z"
   },
   {
    "duration": 29282,
    "start_time": "2023-10-05T15:10:51.762Z"
   },
   {
    "duration": 106,
    "start_time": "2023-10-05T15:11:21.046Z"
   },
   {
    "duration": 0,
    "start_time": "2023-10-05T15:11:21.154Z"
   },
   {
    "duration": 4,
    "start_time": "2023-10-05T15:12:12.179Z"
   },
   {
    "duration": 1487,
    "start_time": "2023-10-05T15:56:59.893Z"
   },
   {
    "duration": 870,
    "start_time": "2023-10-05T15:57:01.382Z"
   },
   {
    "duration": 257,
    "start_time": "2023-10-05T15:57:02.253Z"
   },
   {
    "duration": 449,
    "start_time": "2023-10-05T15:57:02.512Z"
   },
   {
    "duration": 489,
    "start_time": "2023-10-05T15:57:02.963Z"
   },
   {
    "duration": 197,
    "start_time": "2023-10-05T15:57:03.454Z"
   },
   {
    "duration": 141,
    "start_time": "2023-10-05T15:57:03.653Z"
   },
   {
    "duration": 123,
    "start_time": "2023-10-05T15:57:03.795Z"
   },
   {
    "duration": 171,
    "start_time": "2023-10-05T15:57:03.920Z"
   },
   {
    "duration": 310,
    "start_time": "2023-10-05T15:57:04.094Z"
   },
   {
    "duration": 328,
    "start_time": "2023-10-05T15:57:04.406Z"
   },
   {
    "duration": 365,
    "start_time": "2023-10-05T15:57:04.735Z"
   },
   {
    "duration": 491,
    "start_time": "2023-10-05T15:57:05.102Z"
   },
   {
    "duration": 304,
    "start_time": "2023-10-05T15:57:05.596Z"
   },
   {
    "duration": 380,
    "start_time": "2023-10-05T15:57:05.902Z"
   },
   {
    "duration": 528,
    "start_time": "2023-10-05T15:57:06.284Z"
   },
   {
    "duration": 466,
    "start_time": "2023-10-05T15:57:06.814Z"
   },
   {
    "duration": 4,
    "start_time": "2023-10-05T15:57:07.282Z"
   },
   {
    "duration": 28665,
    "start_time": "2023-10-05T15:57:07.288Z"
   },
   {
    "duration": 7811,
    "start_time": "2023-10-05T15:57:35.955Z"
   },
   {
    "duration": 10888,
    "start_time": "2023-10-05T15:57:43.768Z"
   },
   {
    "duration": 1456,
    "start_time": "2023-10-07T17:05:35.232Z"
   },
   {
    "duration": 940,
    "start_time": "2023-10-07T17:05:37.162Z"
   },
   {
    "duration": 280,
    "start_time": "2023-10-07T17:05:39.622Z"
   },
   {
    "duration": 368,
    "start_time": "2023-10-07T17:05:41.955Z"
   },
   {
    "duration": 358,
    "start_time": "2023-10-07T17:05:43.492Z"
   },
   {
    "duration": 148,
    "start_time": "2023-10-07T17:05:46.497Z"
   },
   {
    "duration": 92,
    "start_time": "2023-10-07T17:05:49.156Z"
   },
   {
    "duration": 59,
    "start_time": "2023-10-07T17:05:50.657Z"
   },
   {
    "duration": 88,
    "start_time": "2023-10-07T17:05:51.411Z"
   },
   {
    "duration": 182,
    "start_time": "2023-10-07T17:05:54.641Z"
   },
   {
    "duration": 275,
    "start_time": "2023-10-07T17:05:57.217Z"
   },
   {
    "duration": 466,
    "start_time": "2023-10-07T17:06:12.437Z"
   },
   {
    "duration": 228,
    "start_time": "2023-10-07T17:06:13.896Z"
   },
   {
    "duration": 3,
    "start_time": "2023-10-07T17:06:16.392Z"
   },
   {
    "duration": 338,
    "start_time": "2023-10-07T17:06:19.491Z"
   },
   {
    "duration": 9,
    "start_time": "2023-10-07T17:06:28.176Z"
   },
   {
    "duration": 8,
    "start_time": "2023-10-07T17:08:38.552Z"
   },
   {
    "duration": 9,
    "start_time": "2023-10-07T17:14:54.369Z"
   },
   {
    "duration": 1573,
    "start_time": "2023-10-08T07:14:11.329Z"
   },
   {
    "duration": 1101,
    "start_time": "2023-10-08T07:14:13.231Z"
   },
   {
    "duration": 260,
    "start_time": "2023-10-08T07:14:15.316Z"
   },
   {
    "duration": 406,
    "start_time": "2023-10-08T07:14:17.816Z"
   },
   {
    "duration": 448,
    "start_time": "2023-10-08T07:14:19.136Z"
   },
   {
    "duration": 184,
    "start_time": "2023-10-08T07:14:22.017Z"
   },
   {
    "duration": 129,
    "start_time": "2023-10-08T07:14:24.897Z"
   },
   {
    "duration": 84,
    "start_time": "2023-10-08T07:14:27.281Z"
   },
   {
    "duration": 127,
    "start_time": "2023-10-08T07:14:30.309Z"
   },
   {
    "duration": 190,
    "start_time": "2023-10-08T07:14:33.599Z"
   },
   {
    "duration": 292,
    "start_time": "2023-10-08T07:14:35.162Z"
   },
   {
    "duration": 342,
    "start_time": "2023-10-08T07:14:36.261Z"
   },
   {
    "duration": 1391,
    "start_time": "2023-10-08T07:21:21.350Z"
   },
   {
    "duration": 9,
    "start_time": "2023-10-08T07:22:26.215Z"
   },
   {
    "duration": 4,
    "start_time": "2023-10-08T07:23:51.675Z"
   },
   {
    "duration": 1359,
    "start_time": "2023-10-08T07:24:06.396Z"
   },
   {
    "duration": 808,
    "start_time": "2023-10-08T07:24:11.216Z"
   },
   {
    "duration": 216,
    "start_time": "2023-10-08T07:24:26.536Z"
   },
   {
    "duration": 485,
    "start_time": "2023-10-08T07:24:45.851Z"
   },
   {
    "duration": 470,
    "start_time": "2023-10-08T07:24:48.151Z"
   },
   {
    "duration": 178,
    "start_time": "2023-10-08T07:24:50.875Z"
   },
   {
    "duration": 144,
    "start_time": "2023-10-08T07:24:56.417Z"
   },
   {
    "duration": 83,
    "start_time": "2023-10-08T07:25:05.015Z"
   },
   {
    "duration": 165,
    "start_time": "2023-10-08T07:25:05.911Z"
   },
   {
    "duration": 195,
    "start_time": "2023-10-08T07:25:09.771Z"
   },
   {
    "duration": 280,
    "start_time": "2023-10-08T07:25:10.764Z"
   },
   {
    "duration": 313,
    "start_time": "2023-10-08T07:25:14.531Z"
   },
   {
    "duration": 440,
    "start_time": "2023-10-08T07:25:33.311Z"
   },
   {
    "duration": 277,
    "start_time": "2023-10-08T07:25:40.901Z"
   },
   {
    "duration": 3,
    "start_time": "2023-10-08T07:25:45.835Z"
   },
   {
    "duration": 5,
    "start_time": "2023-10-08T07:25:51.451Z"
   },
   {
    "duration": 354,
    "start_time": "2023-10-08T07:25:55.140Z"
   },
   {
    "duration": 1446,
    "start_time": "2023-10-08T07:31:39.181Z"
   },
   {
    "duration": 1378,
    "start_time": "2023-10-08T07:31:58.618Z"
   },
   {
    "duration": 804,
    "start_time": "2023-10-08T07:32:00.904Z"
   },
   {
    "duration": 60,
    "start_time": "2023-10-08T07:32:08.643Z"
   },
   {
    "duration": 252,
    "start_time": "2023-10-08T07:32:15.910Z"
   },
   {
    "duration": 424,
    "start_time": "2023-10-08T07:32:18.803Z"
   },
   {
    "duration": 444,
    "start_time": "2023-10-08T07:32:19.813Z"
   },
   {
    "duration": 188,
    "start_time": "2023-10-08T07:32:22.079Z"
   },
   {
    "duration": 134,
    "start_time": "2023-10-08T07:32:24.842Z"
   },
   {
    "duration": 79,
    "start_time": "2023-10-08T07:32:26.530Z"
   },
   {
    "duration": 129,
    "start_time": "2023-10-08T07:32:28.572Z"
   },
   {
    "duration": 196,
    "start_time": "2023-10-08T07:32:31.075Z"
   },
   {
    "duration": 299,
    "start_time": "2023-10-08T07:32:32.255Z"
   },
   {
    "duration": 312,
    "start_time": "2023-10-08T07:32:33.583Z"
   },
   {
    "duration": 434,
    "start_time": "2023-10-08T07:32:59.853Z"
   },
   {
    "duration": 235,
    "start_time": "2023-10-08T07:33:02.125Z"
   },
   {
    "duration": 3,
    "start_time": "2023-10-08T07:33:07.233Z"
   },
   {
    "duration": 342,
    "start_time": "2023-10-08T07:33:10.023Z"
   },
   {
    "duration": 117,
    "start_time": "2023-10-08T07:34:17.553Z"
   },
   {
    "duration": 142,
    "start_time": "2023-10-08T07:34:35.357Z"
   },
   {
    "duration": 5546,
    "start_time": "2023-10-08T07:42:33.415Z"
   },
   {
    "duration": 73,
    "start_time": "2023-10-08T07:42:38.962Z"
   },
   {
    "duration": 66,
    "start_time": "2023-10-08T07:42:53.510Z"
   },
   {
    "duration": 6,
    "start_time": "2023-10-08T07:42:54.960Z"
   },
   {
    "duration": 54,
    "start_time": "2023-10-08T07:42:57.104Z"
   },
   {
    "duration": 3,
    "start_time": "2023-10-08T07:43:57.394Z"
   },
   {
    "duration": 10,
    "start_time": "2023-10-08T07:44:07.584Z"
   },
   {
    "duration": 22,
    "start_time": "2023-10-08T07:45:45.649Z"
   },
   {
    "duration": 486,
    "start_time": "2023-10-08T07:51:14.397Z"
   },
   {
    "duration": 446,
    "start_time": "2023-10-08T07:51:15.753Z"
   },
   {
    "duration": 6,
    "start_time": "2023-10-08T07:51:32.123Z"
   },
   {
    "duration": 90707,
    "start_time": "2023-10-08T07:51:49.152Z"
   },
   {
    "duration": 12,
    "start_time": "2023-10-08T07:54:16.124Z"
   },
   {
    "duration": 5,
    "start_time": "2023-10-08T07:54:42.045Z"
   },
   {
    "duration": 1406,
    "start_time": "2023-10-08T08:36:41.963Z"
   },
   {
    "duration": 853,
    "start_time": "2023-10-08T08:36:48.650Z"
   },
   {
    "duration": 257,
    "start_time": "2023-10-08T08:36:51.912Z"
   },
   {
    "duration": 433,
    "start_time": "2023-10-08T08:36:54.797Z"
   },
   {
    "duration": 511,
    "start_time": "2023-10-08T08:36:55.981Z"
   },
   {
    "duration": 176,
    "start_time": "2023-10-08T08:37:00.196Z"
   },
   {
    "duration": 140,
    "start_time": "2023-10-08T08:37:03.373Z"
   },
   {
    "duration": 80,
    "start_time": "2023-10-08T08:37:04.604Z"
   },
   {
    "duration": 142,
    "start_time": "2023-10-08T08:37:06.397Z"
   },
   {
    "duration": 208,
    "start_time": "2023-10-08T08:37:10.477Z"
   },
   {
    "duration": 294,
    "start_time": "2023-10-08T08:37:16.641Z"
   },
   {
    "duration": 308,
    "start_time": "2023-10-08T08:37:18.096Z"
   },
   {
    "duration": 462,
    "start_time": "2023-10-08T08:37:22.105Z"
   },
   {
    "duration": 243,
    "start_time": "2023-10-08T08:37:24.209Z"
   },
   {
    "duration": 3,
    "start_time": "2023-10-08T08:37:26.326Z"
   },
   {
    "duration": 364,
    "start_time": "2023-10-08T08:37:28.767Z"
   },
   {
    "duration": 4582,
    "start_time": "2023-10-08T08:37:35.085Z"
   },
   {
    "duration": 469,
    "start_time": "2023-10-08T08:37:43.833Z"
   },
   {
    "duration": 432,
    "start_time": "2023-10-08T08:37:45.526Z"
   },
   {
    "duration": 4,
    "start_time": "2023-10-08T08:37:47.603Z"
   },
   {
    "duration": 5,
    "start_time": "2023-10-08T08:37:50.476Z"
   },
   {
    "duration": 125,
    "start_time": "2023-10-08T08:37:54.470Z"
   },
   {
    "duration": 1456,
    "start_time": "2023-10-08T08:52:28.410Z"
   },
   {
    "duration": 926,
    "start_time": "2023-10-08T08:52:29.868Z"
   },
   {
    "duration": 255,
    "start_time": "2023-10-08T08:52:30.796Z"
   },
   {
    "duration": 463,
    "start_time": "2023-10-08T08:52:31.053Z"
   },
   {
    "duration": 481,
    "start_time": "2023-10-08T08:52:31.518Z"
   },
   {
    "duration": 179,
    "start_time": "2023-10-08T08:52:32.001Z"
   },
   {
    "duration": 152,
    "start_time": "2023-10-08T08:52:32.181Z"
   },
   {
    "duration": 184,
    "start_time": "2023-10-08T08:52:32.334Z"
   },
   {
    "duration": 139,
    "start_time": "2023-10-08T08:52:32.520Z"
   },
   {
    "duration": 216,
    "start_time": "2023-10-08T08:52:32.662Z"
   },
   {
    "duration": 290,
    "start_time": "2023-10-08T08:52:32.880Z"
   },
   {
    "duration": 348,
    "start_time": "2023-10-08T08:52:33.172Z"
   },
   {
    "duration": 481,
    "start_time": "2023-10-08T08:52:33.521Z"
   },
   {
    "duration": 259,
    "start_time": "2023-10-08T08:52:34.005Z"
   },
   {
    "duration": 4,
    "start_time": "2023-10-08T08:52:34.266Z"
   },
   {
    "duration": 416,
    "start_time": "2023-10-08T08:52:34.271Z"
   },
   {
    "duration": 4487,
    "start_time": "2023-10-08T08:52:34.688Z"
   },
   {
    "duration": 431,
    "start_time": "2023-10-08T08:52:39.176Z"
   },
   {
    "duration": 444,
    "start_time": "2023-10-08T08:52:39.609Z"
   },
   {
    "duration": 7,
    "start_time": "2023-10-08T08:52:40.056Z"
   },
   {
    "duration": 41,
    "start_time": "2023-10-08T08:52:40.065Z"
   },
   {
    "duration": 170,
    "start_time": "2023-10-08T08:52:40.108Z"
   },
   {
    "duration": 0,
    "start_time": "2023-10-08T08:52:40.279Z"
   },
   {
    "duration": 0,
    "start_time": "2023-10-08T08:52:40.281Z"
   },
   {
    "duration": 0,
    "start_time": "2023-10-08T08:52:40.281Z"
   },
   {
    "duration": 0,
    "start_time": "2023-10-08T08:52:40.282Z"
   },
   {
    "duration": 11,
    "start_time": "2023-10-08T08:53:23.690Z"
   },
   {
    "duration": 1400,
    "start_time": "2023-10-08T10:01:36.959Z"
   },
   {
    "duration": 795,
    "start_time": "2023-10-08T10:01:43.014Z"
   },
   {
    "duration": 224,
    "start_time": "2023-10-08T10:01:45.854Z"
   },
   {
    "duration": 392,
    "start_time": "2023-10-08T10:01:48.583Z"
   },
   {
    "duration": 438,
    "start_time": "2023-10-08T10:01:49.622Z"
   },
   {
    "duration": 173,
    "start_time": "2023-10-08T10:01:52.415Z"
   },
   {
    "duration": 130,
    "start_time": "2023-10-08T10:01:55.135Z"
   },
   {
    "duration": 80,
    "start_time": "2023-10-08T10:01:56.714Z"
   },
   {
    "duration": 123,
    "start_time": "2023-10-08T10:01:57.374Z"
   },
   {
    "duration": 206,
    "start_time": "2023-10-08T10:02:00.374Z"
   },
   {
    "duration": 288,
    "start_time": "2023-10-08T10:02:01.255Z"
   },
   {
    "duration": 303,
    "start_time": "2023-10-08T10:02:03.840Z"
   },
   {
    "duration": 449,
    "start_time": "2023-10-08T10:02:14.019Z"
   },
   {
    "duration": 280,
    "start_time": "2023-10-08T10:02:17.997Z"
   },
   {
    "duration": 4,
    "start_time": "2023-10-08T10:02:20.680Z"
   },
   {
    "duration": 350,
    "start_time": "2023-10-08T10:02:23.260Z"
   },
   {
    "duration": 3784,
    "start_time": "2023-10-08T10:02:30.085Z"
   },
   {
    "duration": 506,
    "start_time": "2023-10-08T10:02:35.635Z"
   },
   {
    "duration": 420,
    "start_time": "2023-10-08T10:02:36.482Z"
   },
   {
    "duration": 4,
    "start_time": "2023-10-08T10:02:38.375Z"
   },
   {
    "duration": 4,
    "start_time": "2023-10-08T10:02:39.188Z"
   },
   {
    "duration": 1353,
    "start_time": "2023-10-08T13:00:41.590Z"
   },
   {
    "duration": 833,
    "start_time": "2023-10-08T13:00:47.126Z"
   },
   {
    "duration": 219,
    "start_time": "2023-10-08T13:00:49.468Z"
   },
   {
    "duration": 441,
    "start_time": "2023-10-08T13:00:52.218Z"
   },
   {
    "duration": 461,
    "start_time": "2023-10-08T13:00:53.713Z"
   },
   {
    "duration": 185,
    "start_time": "2023-10-08T13:00:57.169Z"
   },
   {
    "duration": 141,
    "start_time": "2023-10-08T13:01:00.167Z"
   },
   {
    "duration": 88,
    "start_time": "2023-10-08T13:01:01.253Z"
   },
   {
    "duration": 127,
    "start_time": "2023-10-08T13:01:02.999Z"
   },
   {
    "duration": 199,
    "start_time": "2023-10-08T13:01:07.386Z"
   },
   {
    "duration": 309,
    "start_time": "2023-10-08T13:01:08.908Z"
   },
   {
    "duration": 334,
    "start_time": "2023-10-08T13:01:10.153Z"
   },
   {
    "duration": 490,
    "start_time": "2023-10-08T13:01:17.051Z"
   },
   {
    "duration": 261,
    "start_time": "2023-10-08T13:01:19.498Z"
   },
   {
    "duration": 3,
    "start_time": "2023-10-08T13:01:22.088Z"
   },
   {
    "duration": 367,
    "start_time": "2023-10-08T13:01:24.848Z"
   },
   {
    "duration": 542,
    "start_time": "2023-10-08T13:02:36.010Z"
   },
   {
    "duration": 441,
    "start_time": "2023-10-08T13:02:36.644Z"
   },
   {
    "duration": 4,
    "start_time": "2023-10-08T13:02:41.679Z"
   },
   {
    "duration": 5,
    "start_time": "2023-10-08T13:02:46.688Z"
   },
   {
    "duration": 1402,
    "start_time": "2023-10-08T13:12:50.825Z"
   },
   {
    "duration": 832,
    "start_time": "2023-10-08T13:12:52.229Z"
   },
   {
    "duration": 226,
    "start_time": "2023-10-08T13:12:53.063Z"
   },
   {
    "duration": 419,
    "start_time": "2023-10-08T13:12:53.291Z"
   },
   {
    "duration": 453,
    "start_time": "2023-10-08T13:12:53.712Z"
   },
   {
    "duration": 180,
    "start_time": "2023-10-08T13:12:54.167Z"
   },
   {
    "duration": 163,
    "start_time": "2023-10-08T13:12:54.349Z"
   },
   {
    "duration": 106,
    "start_time": "2023-10-08T13:12:54.514Z"
   },
   {
    "duration": 149,
    "start_time": "2023-10-08T13:12:54.622Z"
   },
   {
    "duration": 236,
    "start_time": "2023-10-08T13:12:54.774Z"
   },
   {
    "duration": 298,
    "start_time": "2023-10-08T13:12:55.011Z"
   },
   {
    "duration": 341,
    "start_time": "2023-10-08T13:12:55.311Z"
   },
   {
    "duration": 507,
    "start_time": "2023-10-08T13:12:55.654Z"
   },
   {
    "duration": 254,
    "start_time": "2023-10-08T13:12:56.163Z"
   },
   {
    "duration": 2,
    "start_time": "2023-10-08T13:12:56.419Z"
   },
   {
    "duration": 357,
    "start_time": "2023-10-08T13:12:56.422Z"
   },
   {
    "duration": 4195,
    "start_time": "2023-10-08T13:12:56.781Z"
   },
   {
    "duration": 454,
    "start_time": "2023-10-08T13:13:00.978Z"
   },
   {
    "duration": 444,
    "start_time": "2023-10-08T13:13:01.433Z"
   },
   {
    "duration": 4,
    "start_time": "2023-10-08T13:13:01.879Z"
   },
   {
    "duration": 79,
    "start_time": "2023-10-08T13:13:01.884Z"
   },
   {
    "duration": 1424,
    "start_time": "2023-10-08T13:18:31.446Z"
   },
   {
    "duration": 823,
    "start_time": "2023-10-08T13:18:32.871Z"
   },
   {
    "duration": 233,
    "start_time": "2023-10-08T13:18:33.696Z"
   },
   {
    "duration": 439,
    "start_time": "2023-10-08T13:18:33.931Z"
   },
   {
    "duration": 486,
    "start_time": "2023-10-08T13:18:34.373Z"
   },
   {
    "duration": 184,
    "start_time": "2023-10-08T13:18:34.861Z"
   },
   {
    "duration": 127,
    "start_time": "2023-10-08T13:18:35.050Z"
   },
   {
    "duration": 99,
    "start_time": "2023-10-08T13:18:35.178Z"
   },
   {
    "duration": 133,
    "start_time": "2023-10-08T13:18:35.279Z"
   },
   {
    "duration": 220,
    "start_time": "2023-10-08T13:18:35.415Z"
   },
   {
    "duration": 349,
    "start_time": "2023-10-08T13:18:35.636Z"
   },
   {
    "duration": 369,
    "start_time": "2023-10-08T13:18:35.987Z"
   },
   {
    "duration": 567,
    "start_time": "2023-10-08T13:18:36.359Z"
   },
   {
    "duration": 266,
    "start_time": "2023-10-08T13:18:36.928Z"
   },
   {
    "duration": 3,
    "start_time": "2023-10-08T13:18:37.195Z"
   },
   {
    "duration": 384,
    "start_time": "2023-10-08T13:18:37.199Z"
   },
   {
    "duration": 4802,
    "start_time": "2023-10-08T13:18:37.585Z"
   },
   {
    "duration": 603,
    "start_time": "2023-10-08T13:18:42.389Z"
   },
   {
    "duration": 466,
    "start_time": "2023-10-08T13:18:42.994Z"
   },
   {
    "duration": 4,
    "start_time": "2023-10-08T13:18:43.465Z"
   },
   {
    "duration": 18,
    "start_time": "2023-10-08T13:18:43.471Z"
   },
   {
    "duration": 1625,
    "start_time": "2023-10-08T13:39:12.319Z"
   },
   {
    "duration": 941,
    "start_time": "2023-10-08T13:39:13.946Z"
   },
   {
    "duration": 308,
    "start_time": "2023-10-08T13:39:14.889Z"
   },
   {
    "duration": 495,
    "start_time": "2023-10-08T13:39:15.200Z"
   },
   {
    "duration": 580,
    "start_time": "2023-10-08T13:39:15.697Z"
   },
   {
    "duration": 295,
    "start_time": "2023-10-08T13:39:16.281Z"
   },
   {
    "duration": 151,
    "start_time": "2023-10-08T13:39:16.578Z"
   },
   {
    "duration": 152,
    "start_time": "2023-10-08T13:39:16.731Z"
   },
   {
    "duration": 136,
    "start_time": "2023-10-08T13:39:16.885Z"
   },
   {
    "duration": 218,
    "start_time": "2023-10-08T13:39:17.023Z"
   },
   {
    "duration": 312,
    "start_time": "2023-10-08T13:39:17.242Z"
   },
   {
    "duration": 351,
    "start_time": "2023-10-08T13:39:17.556Z"
   },
   {
    "duration": 509,
    "start_time": "2023-10-08T13:39:17.909Z"
   },
   {
    "duration": 332,
    "start_time": "2023-10-08T13:39:18.421Z"
   },
   {
    "duration": 3,
    "start_time": "2023-10-08T13:39:18.755Z"
   },
   {
    "duration": 411,
    "start_time": "2023-10-08T13:39:18.760Z"
   },
   {
    "duration": 4703,
    "start_time": "2023-10-08T13:39:19.172Z"
   },
   {
    "duration": 6,
    "start_time": "2023-10-08T13:39:23.877Z"
   },
   {
    "duration": 16,
    "start_time": "2023-10-08T13:47:27.272Z"
   },
   {
    "duration": 43,
    "start_time": "2023-10-08T15:54:41.695Z"
   },
   {
    "duration": 1540,
    "start_time": "2023-10-08T15:54:57.574Z"
   },
   {
    "duration": 1047,
    "start_time": "2023-10-08T15:54:59.116Z"
   },
   {
    "duration": 196,
    "start_time": "2023-10-08T15:55:00.164Z"
   },
   {
    "duration": 372,
    "start_time": "2023-10-08T15:55:00.361Z"
   },
   {
    "duration": 413,
    "start_time": "2023-10-08T15:55:00.735Z"
   },
   {
    "duration": 163,
    "start_time": "2023-10-08T15:55:01.149Z"
   },
   {
    "duration": 107,
    "start_time": "2023-10-08T15:55:01.314Z"
   },
   {
    "duration": 134,
    "start_time": "2023-10-08T15:55:01.422Z"
   },
   {
    "duration": 116,
    "start_time": "2023-10-08T15:55:01.557Z"
   },
   {
    "duration": 223,
    "start_time": "2023-10-08T15:55:01.674Z"
   },
   {
    "duration": 308,
    "start_time": "2023-10-08T15:55:01.898Z"
   },
   {
    "duration": 356,
    "start_time": "2023-10-08T15:55:02.207Z"
   },
   {
    "duration": 481,
    "start_time": "2023-10-08T15:55:02.565Z"
   },
   {
    "duration": 251,
    "start_time": "2023-10-08T15:55:03.050Z"
   },
   {
    "duration": 3,
    "start_time": "2023-10-08T15:55:03.302Z"
   },
   {
    "duration": 389,
    "start_time": "2023-10-08T15:55:03.306Z"
   },
   {
    "duration": 15,
    "start_time": "2023-10-08T15:55:03.697Z"
   },
   {
    "duration": 159,
    "start_time": "2023-10-08T15:55:03.714Z"
   },
   {
    "duration": 0,
    "start_time": "2023-10-08T15:55:03.874Z"
   },
   {
    "duration": 2006,
    "start_time": "2023-10-08T15:57:43.284Z"
   },
   {
    "duration": 1945,
    "start_time": "2023-10-08T15:57:55.341Z"
   },
   {
    "duration": 619,
    "start_time": "2023-10-08T15:57:57.288Z"
   },
   {
    "duration": 54,
    "start_time": "2023-10-08T15:59:17.263Z"
   },
   {
    "duration": 1576,
    "start_time": "2023-10-08T16:01:11.843Z"
   },
   {
    "duration": 1284,
    "start_time": "2023-10-08T16:01:20.784Z"
   },
   {
    "duration": 765,
    "start_time": "2023-10-08T16:01:22.071Z"
   },
   {
    "duration": 211,
    "start_time": "2023-10-08T16:01:22.839Z"
   },
   {
    "duration": 372,
    "start_time": "2023-10-08T16:01:23.051Z"
   },
   {
    "duration": 407,
    "start_time": "2023-10-08T16:01:23.425Z"
   },
   {
    "duration": 179,
    "start_time": "2023-10-08T16:01:23.834Z"
   },
   {
    "duration": 105,
    "start_time": "2023-10-08T16:01:24.014Z"
   },
   {
    "duration": 1600,
    "start_time": "2023-10-08T16:01:24.121Z"
   },
   {
    "duration": 0,
    "start_time": "2023-10-08T16:01:25.722Z"
   },
   {
    "duration": 0,
    "start_time": "2023-10-08T16:01:25.724Z"
   },
   {
    "duration": 0,
    "start_time": "2023-10-08T16:01:25.725Z"
   },
   {
    "duration": 0,
    "start_time": "2023-10-08T16:01:25.725Z"
   },
   {
    "duration": 0,
    "start_time": "2023-10-08T16:01:25.726Z"
   },
   {
    "duration": 0,
    "start_time": "2023-10-08T16:01:25.727Z"
   },
   {
    "duration": 0,
    "start_time": "2023-10-08T16:01:25.728Z"
   },
   {
    "duration": 0,
    "start_time": "2023-10-08T16:01:25.729Z"
   },
   {
    "duration": 0,
    "start_time": "2023-10-08T16:01:25.730Z"
   },
   {
    "duration": 0,
    "start_time": "2023-10-08T16:01:25.731Z"
   },
   {
    "duration": 0,
    "start_time": "2023-10-08T16:01:25.732Z"
   },
   {
    "duration": 0,
    "start_time": "2023-10-08T16:01:25.733Z"
   },
   {
    "duration": 0,
    "start_time": "2023-10-08T16:01:25.734Z"
   },
   {
    "duration": 66,
    "start_time": "2023-10-08T16:19:49.913Z"
   },
   {
    "duration": 97,
    "start_time": "2023-10-08T16:19:51.674Z"
   },
   {
    "duration": 177,
    "start_time": "2023-10-08T16:20:18.912Z"
   },
   {
    "duration": 277,
    "start_time": "2023-10-08T16:20:21.958Z"
   },
   {
    "duration": 11,
    "start_time": "2023-10-08T16:20:24.247Z"
   },
   {
    "duration": 11,
    "start_time": "2023-10-08T16:20:54.398Z"
   },
   {
    "duration": 444,
    "start_time": "2023-10-08T16:21:04.247Z"
   },
   {
    "duration": 257,
    "start_time": "2023-10-08T16:21:12.767Z"
   },
   {
    "duration": 3,
    "start_time": "2023-10-08T16:21:18.367Z"
   },
   {
    "duration": 338,
    "start_time": "2023-10-08T16:21:20.522Z"
   },
   {
    "duration": 16,
    "start_time": "2023-10-08T16:21:30.503Z"
   },
   {
    "duration": 10,
    "start_time": "2023-10-08T16:21:47.826Z"
   },
   {
    "duration": 49,
    "start_time": "2023-10-08T16:22:09.015Z"
   },
   {
    "duration": 1509,
    "start_time": "2023-10-08T16:22:38.568Z"
   },
   {
    "duration": 778,
    "start_time": "2023-10-08T16:22:40.078Z"
   },
   {
    "duration": 216,
    "start_time": "2023-10-08T16:22:40.857Z"
   },
   {
    "duration": 380,
    "start_time": "2023-10-08T16:22:41.074Z"
   },
   {
    "duration": 419,
    "start_time": "2023-10-08T16:22:41.457Z"
   },
   {
    "duration": 190,
    "start_time": "2023-10-08T16:22:41.878Z"
   },
   {
    "duration": 106,
    "start_time": "2023-10-08T16:22:42.069Z"
   },
   {
    "duration": 163,
    "start_time": "2023-10-08T16:22:42.177Z"
   },
   {
    "duration": 87,
    "start_time": "2023-10-08T16:22:42.341Z"
   },
   {
    "duration": 188,
    "start_time": "2023-10-08T16:22:42.439Z"
   },
   {
    "duration": 361,
    "start_time": "2023-10-08T16:22:42.640Z"
   },
   {
    "duration": 216,
    "start_time": "2023-10-08T16:22:43.003Z"
   },
   {
    "duration": 284,
    "start_time": "2023-10-08T16:22:43.221Z"
   },
   {
    "duration": 440,
    "start_time": "2023-10-08T16:22:43.507Z"
   },
   {
    "duration": 264,
    "start_time": "2023-10-08T16:22:43.949Z"
   },
   {
    "duration": 3,
    "start_time": "2023-10-08T16:22:44.215Z"
   },
   {
    "duration": 461,
    "start_time": "2023-10-08T16:22:44.220Z"
   },
   {
    "duration": 19,
    "start_time": "2023-10-08T16:22:44.682Z"
   },
   {
    "duration": 189,
    "start_time": "2023-10-08T16:22:44.703Z"
   },
   {
    "duration": 0,
    "start_time": "2023-10-08T16:22:44.895Z"
   },
   {
    "duration": 0,
    "start_time": "2023-10-08T16:22:44.896Z"
   },
   {
    "duration": 156,
    "start_time": "2023-10-08T16:57:59.867Z"
   },
   {
    "duration": 49,
    "start_time": "2023-10-08T17:12:58.020Z"
   },
   {
    "duration": 9,
    "start_time": "2023-10-08T17:13:11.980Z"
   },
   {
    "duration": 32,
    "start_time": "2023-10-08T17:13:32.545Z"
   },
   {
    "duration": 5,
    "start_time": "2023-10-08T17:13:42.542Z"
   },
   {
    "duration": 39,
    "start_time": "2023-10-08T17:16:16.879Z"
   },
   {
    "duration": 35,
    "start_time": "2023-10-08T17:16:21.680Z"
   },
   {
    "duration": 3,
    "start_time": "2023-10-08T17:16:23.820Z"
   },
   {
    "duration": 36,
    "start_time": "2023-10-08T17:16:57.902Z"
   },
   {
    "duration": 164,
    "start_time": "2023-10-08T17:17:07.859Z"
   },
   {
    "duration": 5,
    "start_time": "2023-10-08T17:20:10.030Z"
   },
   {
    "duration": 88,
    "start_time": "2023-10-08T17:20:11.643Z"
   },
   {
    "duration": 5,
    "start_time": "2023-10-08T17:21:26.361Z"
   },
   {
    "duration": 87,
    "start_time": "2023-10-08T17:21:30.999Z"
   },
   {
    "duration": 77,
    "start_time": "2023-10-08T17:21:35.119Z"
   },
   {
    "duration": 109,
    "start_time": "2023-10-08T17:21:56.589Z"
   },
   {
    "duration": 82,
    "start_time": "2023-10-08T17:22:42.000Z"
   },
   {
    "duration": 9,
    "start_time": "2023-10-08T17:23:14.739Z"
   },
   {
    "duration": 15,
    "start_time": "2023-10-08T17:23:23.739Z"
   },
   {
    "duration": 9,
    "start_time": "2023-10-08T17:24:09.642Z"
   },
   {
    "duration": 67,
    "start_time": "2023-10-08T17:24:21.959Z"
   },
   {
    "duration": 233,
    "start_time": "2023-10-08T17:24:43.619Z"
   },
   {
    "duration": 223,
    "start_time": "2023-10-08T17:25:00.985Z"
   },
   {
    "duration": 152,
    "start_time": "2023-10-08T17:25:11.378Z"
   },
   {
    "duration": 34,
    "start_time": "2023-10-08T17:25:24.312Z"
   },
   {
    "duration": 29,
    "start_time": "2023-10-08T17:25:35.276Z"
   },
   {
    "duration": 148,
    "start_time": "2023-10-08T17:25:43.177Z"
   },
   {
    "duration": 163,
    "start_time": "2023-10-08T17:26:24.439Z"
   },
   {
    "duration": 38,
    "start_time": "2023-10-08T17:27:44.583Z"
   },
   {
    "duration": 97,
    "start_time": "2023-10-08T17:29:40.726Z"
   },
   {
    "duration": 28,
    "start_time": "2023-10-08T17:30:24.535Z"
   },
   {
    "duration": 4,
    "start_time": "2023-10-08T17:31:07.829Z"
   },
   {
    "duration": 5,
    "start_time": "2023-10-08T17:31:18.867Z"
   },
   {
    "duration": 1383,
    "start_time": "2023-10-08T17:44:56.408Z"
   },
   {
    "duration": 713,
    "start_time": "2023-10-08T17:44:57.792Z"
   },
   {
    "duration": 199,
    "start_time": "2023-10-08T17:44:58.506Z"
   },
   {
    "duration": 363,
    "start_time": "2023-10-08T17:44:58.707Z"
   },
   {
    "duration": 412,
    "start_time": "2023-10-08T17:44:59.072Z"
   },
   {
    "duration": 168,
    "start_time": "2023-10-08T17:44:59.485Z"
   },
   {
    "duration": 106,
    "start_time": "2023-10-08T17:44:59.655Z"
   },
   {
    "duration": 165,
    "start_time": "2023-10-08T17:44:59.763Z"
   },
   {
    "duration": 64,
    "start_time": "2023-10-08T17:44:59.929Z"
   },
   {
    "duration": 119,
    "start_time": "2023-10-08T17:44:59.996Z"
   },
   {
    "duration": 380,
    "start_time": "2023-10-08T17:45:00.116Z"
   },
   {
    "duration": 230,
    "start_time": "2023-10-08T17:45:00.498Z"
   },
   {
    "duration": 281,
    "start_time": "2023-10-08T17:45:00.729Z"
   },
   {
    "duration": 379,
    "start_time": "2023-10-08T17:45:01.012Z"
   },
   {
    "duration": 260,
    "start_time": "2023-10-08T17:45:01.392Z"
   },
   {
    "duration": 5,
    "start_time": "2023-10-08T17:45:01.654Z"
   },
   {
    "duration": 374,
    "start_time": "2023-10-08T17:45:01.660Z"
   },
   {
    "duration": 17,
    "start_time": "2023-10-08T17:45:02.039Z"
   },
   {
    "duration": 240,
    "start_time": "2023-10-08T17:45:02.058Z"
   },
   {
    "duration": 4,
    "start_time": "2023-10-08T17:45:02.300Z"
   },
   {
    "duration": 13,
    "start_time": "2023-10-08T17:45:02.306Z"
   },
   {
    "duration": 1401,
    "start_time": "2023-10-08T17:45:02.322Z"
   },
   {
    "duration": 3,
    "start_time": "2023-10-08T17:45:03.724Z"
   },
   {
    "duration": 248,
    "start_time": "2023-10-08T17:45:03.729Z"
   },
   {
    "duration": 133,
    "start_time": "2023-10-08T17:45:03.979Z"
   },
   {
    "duration": 84,
    "start_time": "2023-10-08T17:45:04.113Z"
   },
   {
    "duration": 83,
    "start_time": "2023-10-08T17:52:27.599Z"
   },
   {
    "duration": 6,
    "start_time": "2023-10-08T17:52:37.052Z"
   },
   {
    "duration": 7,
    "start_time": "2023-10-08T17:52:41.446Z"
   },
   {
    "duration": 85,
    "start_time": "2023-10-08T17:52:42.767Z"
   },
   {
    "duration": 13,
    "start_time": "2023-10-08T17:52:52.954Z"
   },
   {
    "duration": 10,
    "start_time": "2023-10-08T17:55:31.161Z"
   },
   {
    "duration": 14,
    "start_time": "2023-10-08T17:55:34.699Z"
   },
   {
    "duration": 13,
    "start_time": "2023-10-08T17:56:36.144Z"
   },
   {
    "duration": 13,
    "start_time": "2023-10-08T17:56:42.048Z"
   },
   {
    "duration": 11,
    "start_time": "2023-10-08T17:56:55.425Z"
   },
   {
    "duration": 86,
    "start_time": "2023-10-08T17:57:01.469Z"
   },
   {
    "duration": 11,
    "start_time": "2023-10-08T17:57:45.213Z"
   },
   {
    "duration": 592,
    "start_time": "2023-10-08T18:18:10.228Z"
   },
   {
    "duration": 5,
    "start_time": "2023-10-08T18:18:20.784Z"
   },
   {
    "duration": 1459,
    "start_time": "2023-10-08T18:49:03.637Z"
   },
   {
    "duration": 790,
    "start_time": "2023-10-08T18:49:05.098Z"
   },
   {
    "duration": 245,
    "start_time": "2023-10-08T18:49:05.890Z"
   },
   {
    "duration": 460,
    "start_time": "2023-10-08T18:49:06.136Z"
   },
   {
    "duration": 458,
    "start_time": "2023-10-08T18:49:06.599Z"
   },
   {
    "duration": 179,
    "start_time": "2023-10-08T18:49:07.058Z"
   },
   {
    "duration": 130,
    "start_time": "2023-10-08T18:49:07.238Z"
   },
   {
    "duration": 155,
    "start_time": "2023-10-08T18:49:07.370Z"
   },
   {
    "duration": 76,
    "start_time": "2023-10-08T18:49:07.527Z"
   },
   {
    "duration": 115,
    "start_time": "2023-10-08T18:49:07.605Z"
   },
   {
    "duration": 403,
    "start_time": "2023-10-08T18:49:07.722Z"
   },
   {
    "duration": 244,
    "start_time": "2023-10-08T18:49:08.127Z"
   },
   {
    "duration": 305,
    "start_time": "2023-10-08T18:49:08.372Z"
   },
   {
    "duration": 393,
    "start_time": "2023-10-08T18:49:08.680Z"
   },
   {
    "duration": 260,
    "start_time": "2023-10-08T18:49:09.075Z"
   },
   {
    "duration": 2,
    "start_time": "2023-10-08T18:49:09.337Z"
   },
   {
    "duration": 371,
    "start_time": "2023-10-08T18:49:09.341Z"
   },
   {
    "duration": 14,
    "start_time": "2023-10-08T18:49:09.714Z"
   },
   {
    "duration": 594,
    "start_time": "2023-10-08T18:49:09.739Z"
   },
   {
    "duration": 11,
    "start_time": "2023-10-08T18:49:10.335Z"
   },
   {
    "duration": 1635,
    "start_time": "2023-10-08T19:10:01.299Z"
   },
   {
    "duration": 871,
    "start_time": "2023-10-08T19:10:02.936Z"
   },
   {
    "duration": 257,
    "start_time": "2023-10-08T19:10:03.809Z"
   },
   {
    "duration": 433,
    "start_time": "2023-10-08T19:10:04.068Z"
   },
   {
    "duration": 461,
    "start_time": "2023-10-08T19:10:04.503Z"
   },
   {
    "duration": 174,
    "start_time": "2023-10-08T19:10:04.965Z"
   },
   {
    "duration": 261,
    "start_time": "2023-10-08T19:10:05.141Z"
   },
   {
    "duration": 225,
    "start_time": "2023-10-08T19:10:05.403Z"
   },
   {
    "duration": 69,
    "start_time": "2023-10-08T19:10:05.629Z"
   },
   {
    "duration": 119,
    "start_time": "2023-10-08T19:10:05.700Z"
   },
   {
    "duration": 407,
    "start_time": "2023-10-08T19:10:05.820Z"
   },
   {
    "duration": 292,
    "start_time": "2023-10-08T19:10:06.229Z"
   },
   {
    "duration": 303,
    "start_time": "2023-10-08T19:10:06.522Z"
   },
   {
    "duration": 458,
    "start_time": "2023-10-08T19:10:06.829Z"
   },
   {
    "duration": 254,
    "start_time": "2023-10-08T19:10:07.289Z"
   },
   {
    "duration": 42,
    "start_time": "2023-10-08T19:10:07.545Z"
   },
   {
    "duration": 488,
    "start_time": "2023-10-08T19:10:07.589Z"
   },
   {
    "duration": 16,
    "start_time": "2023-10-08T19:10:08.078Z"
   },
   {
    "duration": 684,
    "start_time": "2023-10-08T19:10:08.096Z"
   },
   {
    "duration": 5,
    "start_time": "2023-10-08T19:10:08.781Z"
   },
   {
    "duration": 1631,
    "start_time": "2023-10-09T09:58:57.642Z"
   },
   {
    "duration": 3015,
    "start_time": "2023-10-09T09:58:59.274Z"
   },
   {
    "duration": 236,
    "start_time": "2023-10-09T09:59:02.290Z"
   },
   {
    "duration": 429,
    "start_time": "2023-10-09T09:59:02.528Z"
   },
   {
    "duration": 473,
    "start_time": "2023-10-09T09:59:02.958Z"
   },
   {
    "duration": 186,
    "start_time": "2023-10-09T09:59:03.432Z"
   },
   {
    "duration": 135,
    "start_time": "2023-10-09T09:59:03.619Z"
   },
   {
    "duration": 168,
    "start_time": "2023-10-09T09:59:03.755Z"
   },
   {
    "duration": 80,
    "start_time": "2023-10-09T09:59:03.925Z"
   },
   {
    "duration": 179,
    "start_time": "2023-10-09T09:59:04.008Z"
   },
   {
    "duration": 464,
    "start_time": "2023-10-09T09:59:04.189Z"
   },
   {
    "duration": 228,
    "start_time": "2023-10-09T09:59:04.654Z"
   },
   {
    "duration": 291,
    "start_time": "2023-10-09T09:59:04.883Z"
   },
   {
    "duration": 394,
    "start_time": "2023-10-09T09:59:05.176Z"
   },
   {
    "duration": 257,
    "start_time": "2023-10-09T09:59:05.571Z"
   },
   {
    "duration": 2,
    "start_time": "2023-10-09T09:59:05.830Z"
   },
   {
    "duration": 387,
    "start_time": "2023-10-09T09:59:05.834Z"
   },
   {
    "duration": 23,
    "start_time": "2023-10-09T09:59:06.223Z"
   },
   {
    "duration": 766,
    "start_time": "2023-10-09T09:59:06.248Z"
   },
   {
    "duration": 5,
    "start_time": "2023-10-09T09:59:07.015Z"
   },
   {
    "duration": 3,
    "start_time": "2023-10-09T10:23:42.463Z"
   },
   {
    "duration": 13958,
    "start_time": "2023-10-09T10:24:01.506Z"
   },
   {
    "duration": 183,
    "start_time": "2023-10-09T10:24:15.467Z"
   },
   {
    "duration": 10,
    "start_time": "2023-10-09T10:24:35.033Z"
   },
   {
    "duration": 1402,
    "start_time": "2023-10-09T10:27:42.874Z"
   },
   {
    "duration": 817,
    "start_time": "2023-10-09T10:27:44.279Z"
   },
   {
    "duration": 272,
    "start_time": "2023-10-09T10:27:45.098Z"
   },
   {
    "duration": 436,
    "start_time": "2023-10-09T10:27:45.372Z"
   },
   {
    "duration": 469,
    "start_time": "2023-10-09T10:27:45.811Z"
   },
   {
    "duration": 193,
    "start_time": "2023-10-09T10:27:46.283Z"
   },
   {
    "duration": 133,
    "start_time": "2023-10-09T10:27:46.478Z"
   },
   {
    "duration": 174,
    "start_time": "2023-10-09T10:27:46.613Z"
   },
   {
    "duration": 82,
    "start_time": "2023-10-09T10:27:46.789Z"
   },
   {
    "duration": 128,
    "start_time": "2023-10-09T10:27:46.873Z"
   },
   {
    "duration": 345,
    "start_time": "2023-10-09T10:27:47.002Z"
   },
   {
    "duration": 240,
    "start_time": "2023-10-09T10:27:47.348Z"
   },
   {
    "duration": 272,
    "start_time": "2023-10-09T10:27:47.589Z"
   },
   {
    "duration": 440,
    "start_time": "2023-10-09T10:27:47.863Z"
   },
   {
    "duration": 248,
    "start_time": "2023-10-09T10:27:48.305Z"
   },
   {
    "duration": 2,
    "start_time": "2023-10-09T10:27:48.555Z"
   },
   {
    "duration": 353,
    "start_time": "2023-10-09T10:27:48.558Z"
   },
   {
    "duration": 18,
    "start_time": "2023-10-09T10:27:48.912Z"
   },
   {
    "duration": 764,
    "start_time": "2023-10-09T10:27:48.931Z"
   },
   {
    "duration": 4,
    "start_time": "2023-10-09T10:27:49.697Z"
   },
   {
    "duration": 25,
    "start_time": "2023-10-09T10:27:49.702Z"
   },
   {
    "duration": 14223,
    "start_time": "2023-10-09T10:27:49.728Z"
   },
   {
    "duration": 215198,
    "start_time": "2023-10-09T10:28:03.953Z"
   },
   {
    "duration": 11101,
    "start_time": "2023-10-09T10:31:39.152Z"
   },
   {
    "duration": 196,
    "start_time": "2023-10-09T10:31:50.254Z"
   },
   {
    "duration": 4,
    "start_time": "2023-10-09T10:31:50.451Z"
   },
   {
    "duration": 30,
    "start_time": "2023-10-09T10:31:50.456Z"
   },
   {
    "duration": 1399,
    "start_time": "2023-10-09T11:37:20.377Z"
   },
   {
    "duration": 892,
    "start_time": "2023-10-09T11:37:21.778Z"
   },
   {
    "duration": 257,
    "start_time": "2023-10-09T11:37:22.672Z"
   },
   {
    "duration": 461,
    "start_time": "2023-10-09T11:37:22.930Z"
   },
   {
    "duration": 499,
    "start_time": "2023-10-09T11:37:23.393Z"
   },
   {
    "duration": 208,
    "start_time": "2023-10-09T11:37:23.894Z"
   },
   {
    "duration": 200,
    "start_time": "2023-10-09T11:37:24.104Z"
   },
   {
    "duration": 176,
    "start_time": "2023-10-09T11:37:24.306Z"
   },
   {
    "duration": 85,
    "start_time": "2023-10-09T11:37:24.484Z"
   },
   {
    "duration": 145,
    "start_time": "2023-10-09T11:37:24.571Z"
   },
   {
    "duration": 372,
    "start_time": "2023-10-09T11:37:24.718Z"
   },
   {
    "duration": 246,
    "start_time": "2023-10-09T11:37:25.092Z"
   },
   {
    "duration": 274,
    "start_time": "2023-10-09T11:37:25.340Z"
   },
   {
    "duration": 456,
    "start_time": "2023-10-09T11:37:25.617Z"
   },
   {
    "duration": 256,
    "start_time": "2023-10-09T11:37:26.074Z"
   },
   {
    "duration": 3,
    "start_time": "2023-10-09T11:37:26.332Z"
   },
   {
    "duration": 359,
    "start_time": "2023-10-09T11:37:26.336Z"
   },
   {
    "duration": 16,
    "start_time": "2023-10-09T11:37:26.696Z"
   },
   {
    "duration": 826,
    "start_time": "2023-10-09T11:37:26.714Z"
   },
   {
    "duration": 6,
    "start_time": "2023-10-09T11:37:27.541Z"
   },
   {
    "duration": 27,
    "start_time": "2023-10-09T11:37:27.548Z"
   },
   {
    "duration": 19770,
    "start_time": "2023-10-09T11:37:27.576Z"
   },
   {
    "duration": 1422,
    "start_time": "2023-10-09T11:41:29.446Z"
   },
   {
    "duration": 859,
    "start_time": "2023-10-09T11:41:30.869Z"
   },
   {
    "duration": 260,
    "start_time": "2023-10-09T11:41:31.730Z"
   },
   {
    "duration": 458,
    "start_time": "2023-10-09T11:41:31.992Z"
   },
   {
    "duration": 479,
    "start_time": "2023-10-09T11:41:32.452Z"
   },
   {
    "duration": 190,
    "start_time": "2023-10-09T11:41:32.933Z"
   },
   {
    "duration": 137,
    "start_time": "2023-10-09T11:41:33.125Z"
   },
   {
    "duration": 184,
    "start_time": "2023-10-09T11:41:33.265Z"
   },
   {
    "duration": 80,
    "start_time": "2023-10-09T11:41:33.451Z"
   },
   {
    "duration": 132,
    "start_time": "2023-10-09T11:41:33.544Z"
   },
   {
    "duration": 382,
    "start_time": "2023-10-09T11:41:33.677Z"
   },
   {
    "duration": 313,
    "start_time": "2023-10-09T11:41:34.061Z"
   },
   {
    "duration": 280,
    "start_time": "2023-10-09T11:41:34.376Z"
   },
   {
    "duration": 478,
    "start_time": "2023-10-09T11:41:34.658Z"
   },
   {
    "duration": 273,
    "start_time": "2023-10-09T11:41:35.138Z"
   },
   {
    "duration": 3,
    "start_time": "2023-10-09T11:41:35.412Z"
   },
   {
    "duration": 400,
    "start_time": "2023-10-09T11:41:35.416Z"
   },
   {
    "duration": 28,
    "start_time": "2023-10-09T11:41:35.817Z"
   },
   {
    "duration": 780,
    "start_time": "2023-10-09T11:41:35.846Z"
   },
   {
    "duration": 5,
    "start_time": "2023-10-09T11:41:36.628Z"
   },
   {
    "duration": 1683,
    "start_time": "2023-10-09T11:42:16.647Z"
   },
   {
    "duration": 998,
    "start_time": "2023-10-09T11:42:18.332Z"
   },
   {
    "duration": 282,
    "start_time": "2023-10-09T11:42:19.332Z"
   },
   {
    "duration": 510,
    "start_time": "2023-10-09T11:42:19.616Z"
   },
   {
    "duration": 533,
    "start_time": "2023-10-09T11:42:20.128Z"
   },
   {
    "duration": 246,
    "start_time": "2023-10-09T11:42:20.663Z"
   },
   {
    "duration": 159,
    "start_time": "2023-10-09T11:42:20.912Z"
   },
   {
    "duration": 215,
    "start_time": "2023-10-09T11:42:21.073Z"
   },
   {
    "duration": 99,
    "start_time": "2023-10-09T11:42:21.290Z"
   },
   {
    "duration": 164,
    "start_time": "2023-10-09T11:42:21.391Z"
   },
   {
    "duration": 453,
    "start_time": "2023-10-09T11:42:21.557Z"
   },
   {
    "duration": 266,
    "start_time": "2023-10-09T11:42:22.012Z"
   },
   {
    "duration": 320,
    "start_time": "2023-10-09T11:42:22.280Z"
   },
   {
    "duration": 541,
    "start_time": "2023-10-09T11:42:22.603Z"
   },
   {
    "duration": 288,
    "start_time": "2023-10-09T11:42:23.146Z"
   },
   {
    "duration": 9,
    "start_time": "2023-10-09T11:42:23.436Z"
   },
   {
    "duration": 519,
    "start_time": "2023-10-09T11:42:23.447Z"
   },
   {
    "duration": 19,
    "start_time": "2023-10-09T11:42:23.968Z"
   },
   {
    "duration": 1112,
    "start_time": "2023-10-09T11:42:23.989Z"
   },
   {
    "duration": 5,
    "start_time": "2023-10-09T11:42:25.103Z"
   },
   {
    "duration": 9,
    "start_time": "2023-10-09T11:42:25.110Z"
   },
   {
    "duration": 26141,
    "start_time": "2023-10-09T11:42:25.120Z"
   },
   {
    "duration": 1521,
    "start_time": "2023-10-09T12:05:56.432Z"
   },
   {
    "duration": 854,
    "start_time": "2023-10-09T12:05:57.956Z"
   },
   {
    "duration": 249,
    "start_time": "2023-10-09T12:05:58.811Z"
   },
   {
    "duration": 447,
    "start_time": "2023-10-09T12:05:59.063Z"
   },
   {
    "duration": 506,
    "start_time": "2023-10-09T12:05:59.511Z"
   },
   {
    "duration": 206,
    "start_time": "2023-10-09T12:06:00.019Z"
   },
   {
    "duration": 144,
    "start_time": "2023-10-09T12:06:00.227Z"
   },
   {
    "duration": 229,
    "start_time": "2023-10-09T12:06:00.373Z"
   },
   {
    "duration": 86,
    "start_time": "2023-10-09T12:06:00.604Z"
   },
   {
    "duration": 174,
    "start_time": "2023-10-09T12:06:00.693Z"
   },
   {
    "duration": 455,
    "start_time": "2023-10-09T12:06:00.869Z"
   },
   {
    "duration": 256,
    "start_time": "2023-10-09T12:06:01.326Z"
   },
   {
    "duration": 303,
    "start_time": "2023-10-09T12:06:01.584Z"
   },
   {
    "duration": 945,
    "start_time": "2023-10-09T12:06:01.889Z"
   },
   {
    "duration": 268,
    "start_time": "2023-10-09T12:06:02.835Z"
   },
   {
    "duration": 3,
    "start_time": "2023-10-09T12:06:03.104Z"
   },
   {
    "duration": 395,
    "start_time": "2023-10-09T12:06:03.109Z"
   },
   {
    "duration": 17,
    "start_time": "2023-10-09T12:06:03.506Z"
   },
   {
    "duration": 835,
    "start_time": "2023-10-09T12:06:03.525Z"
   },
   {
    "duration": 7,
    "start_time": "2023-10-09T12:06:04.362Z"
   },
   {
    "duration": 10,
    "start_time": "2023-10-09T12:06:04.370Z"
   },
   {
    "duration": 23669,
    "start_time": "2023-10-09T12:06:04.382Z"
   },
   {
    "duration": 1477,
    "start_time": "2023-10-09T12:10:02.533Z"
   },
   {
    "duration": 948,
    "start_time": "2023-10-09T12:10:04.014Z"
   },
   {
    "duration": 266,
    "start_time": "2023-10-09T12:10:04.964Z"
   },
   {
    "duration": 488,
    "start_time": "2023-10-09T12:10:05.232Z"
   },
   {
    "duration": 519,
    "start_time": "2023-10-09T12:10:05.722Z"
   },
   {
    "duration": 207,
    "start_time": "2023-10-09T12:10:06.244Z"
   },
   {
    "duration": 149,
    "start_time": "2023-10-09T12:10:06.453Z"
   },
   {
    "duration": 192,
    "start_time": "2023-10-09T12:10:06.604Z"
   },
   {
    "duration": 87,
    "start_time": "2023-10-09T12:10:06.798Z"
   },
   {
    "duration": 149,
    "start_time": "2023-10-09T12:10:06.887Z"
   },
   {
    "duration": 374,
    "start_time": "2023-10-09T12:10:07.050Z"
   },
   {
    "duration": 268,
    "start_time": "2023-10-09T12:10:07.426Z"
   },
   {
    "duration": 303,
    "start_time": "2023-10-09T12:10:07.696Z"
   },
   {
    "duration": 481,
    "start_time": "2023-10-09T12:10:08.002Z"
   },
   {
    "duration": 282,
    "start_time": "2023-10-09T12:10:08.485Z"
   },
   {
    "duration": 3,
    "start_time": "2023-10-09T12:10:08.769Z"
   },
   {
    "duration": 416,
    "start_time": "2023-10-09T12:10:08.774Z"
   },
   {
    "duration": 18,
    "start_time": "2023-10-09T12:10:09.192Z"
   },
   {
    "duration": 792,
    "start_time": "2023-10-09T12:10:09.212Z"
   },
   {
    "duration": 6,
    "start_time": "2023-10-09T12:10:10.006Z"
   },
   {
    "duration": 53,
    "start_time": "2023-10-09T12:10:10.014Z"
   },
   {
    "duration": 159,
    "start_time": "2023-10-09T12:10:10.069Z"
   },
   {
    "duration": 0,
    "start_time": "2023-10-09T12:10:10.230Z"
   },
   {
    "duration": 0,
    "start_time": "2023-10-09T12:10:10.231Z"
   },
   {
    "duration": 0,
    "start_time": "2023-10-09T12:10:10.233Z"
   },
   {
    "duration": 0,
    "start_time": "2023-10-09T12:10:10.245Z"
   },
   {
    "duration": 0,
    "start_time": "2023-10-09T12:10:10.246Z"
   },
   {
    "duration": 96,
    "start_time": "2023-10-09T12:12:32.944Z"
   },
   {
    "duration": 21350,
    "start_time": "2023-10-09T12:13:24.013Z"
   },
   {
    "duration": 1486,
    "start_time": "2023-10-09T12:26:56.971Z"
   },
   {
    "duration": 859,
    "start_time": "2023-10-09T12:26:58.460Z"
   },
   {
    "duration": 301,
    "start_time": "2023-10-09T12:26:59.321Z"
   },
   {
    "duration": 490,
    "start_time": "2023-10-09T12:26:59.623Z"
   },
   {
    "duration": 550,
    "start_time": "2023-10-09T12:27:00.116Z"
   },
   {
    "duration": 189,
    "start_time": "2023-10-09T12:27:00.668Z"
   },
   {
    "duration": 143,
    "start_time": "2023-10-09T12:27:00.859Z"
   },
   {
    "duration": 281,
    "start_time": "2023-10-09T12:27:01.004Z"
   },
   {
    "duration": 89,
    "start_time": "2023-10-09T12:27:01.287Z"
   },
   {
    "duration": 141,
    "start_time": "2023-10-09T12:27:01.378Z"
   },
   {
    "duration": 511,
    "start_time": "2023-10-09T12:27:01.520Z"
   },
   {
    "duration": 264,
    "start_time": "2023-10-09T12:27:02.032Z"
   },
   {
    "duration": 298,
    "start_time": "2023-10-09T12:27:02.298Z"
   },
   {
    "duration": 456,
    "start_time": "2023-10-09T12:27:02.599Z"
   },
   {
    "duration": 257,
    "start_time": "2023-10-09T12:27:03.057Z"
   },
   {
    "duration": 3,
    "start_time": "2023-10-09T12:27:03.316Z"
   },
   {
    "duration": 406,
    "start_time": "2023-10-09T12:27:03.320Z"
   },
   {
    "duration": 22,
    "start_time": "2023-10-09T12:27:03.727Z"
   },
   {
    "duration": 819,
    "start_time": "2023-10-09T12:27:03.751Z"
   },
   {
    "duration": 5,
    "start_time": "2023-10-09T12:27:04.572Z"
   },
   {
    "duration": 77,
    "start_time": "2023-10-09T12:27:04.579Z"
   },
   {
    "duration": 16187,
    "start_time": "2023-10-09T12:27:04.658Z"
   },
   {
    "duration": 1502,
    "start_time": "2023-10-09T13:00:31.680Z"
   },
   {
    "duration": 875,
    "start_time": "2023-10-09T13:00:33.185Z"
   },
   {
    "duration": 333,
    "start_time": "2023-10-09T13:00:34.062Z"
   },
   {
    "duration": 501,
    "start_time": "2023-10-09T13:00:34.397Z"
   },
   {
    "duration": 538,
    "start_time": "2023-10-09T13:00:34.900Z"
   },
   {
    "duration": 205,
    "start_time": "2023-10-09T13:00:35.439Z"
   },
   {
    "duration": 135,
    "start_time": "2023-10-09T13:00:35.646Z"
   },
   {
    "duration": 201,
    "start_time": "2023-10-09T13:00:35.783Z"
   },
   {
    "duration": 84,
    "start_time": "2023-10-09T13:00:35.986Z"
   },
   {
    "duration": 147,
    "start_time": "2023-10-09T13:00:36.071Z"
   },
   {
    "duration": 401,
    "start_time": "2023-10-09T13:00:36.220Z"
   },
   {
    "duration": 268,
    "start_time": "2023-10-09T13:00:36.623Z"
   },
   {
    "duration": 284,
    "start_time": "2023-10-09T13:00:36.893Z"
   },
   {
    "duration": 462,
    "start_time": "2023-10-09T13:00:37.180Z"
   },
   {
    "duration": 258,
    "start_time": "2023-10-09T13:00:37.644Z"
   },
   {
    "duration": 3,
    "start_time": "2023-10-09T13:00:37.904Z"
   },
   {
    "duration": 368,
    "start_time": "2023-10-09T13:00:37.909Z"
   },
   {
    "duration": 19,
    "start_time": "2023-10-09T13:00:38.279Z"
   },
   {
    "duration": 790,
    "start_time": "2023-10-09T13:00:38.300Z"
   },
   {
    "duration": 6,
    "start_time": "2023-10-09T13:00:39.091Z"
   },
   {
    "duration": 38,
    "start_time": "2023-10-09T13:00:39.098Z"
   },
   {
    "duration": 14427,
    "start_time": "2023-10-09T13:00:39.137Z"
   },
   {
    "duration": 1514,
    "start_time": "2023-10-09T13:01:44.210Z"
   },
   {
    "duration": 871,
    "start_time": "2023-10-09T13:01:45.727Z"
   },
   {
    "duration": 245,
    "start_time": "2023-10-09T13:01:46.600Z"
   },
   {
    "duration": 488,
    "start_time": "2023-10-09T13:01:46.847Z"
   },
   {
    "duration": 504,
    "start_time": "2023-10-09T13:01:47.337Z"
   },
   {
    "duration": 179,
    "start_time": "2023-10-09T13:01:47.843Z"
   },
   {
    "duration": 131,
    "start_time": "2023-10-09T13:01:48.023Z"
   },
   {
    "duration": 173,
    "start_time": "2023-10-09T13:01:48.156Z"
   },
   {
    "duration": 76,
    "start_time": "2023-10-09T13:01:48.331Z"
   },
   {
    "duration": 138,
    "start_time": "2023-10-09T13:01:48.409Z"
   },
   {
    "duration": 363,
    "start_time": "2023-10-09T13:01:48.549Z"
   },
   {
    "duration": 261,
    "start_time": "2023-10-09T13:01:48.914Z"
   },
   {
    "duration": 294,
    "start_time": "2023-10-09T13:01:49.177Z"
   },
   {
    "duration": 473,
    "start_time": "2023-10-09T13:01:49.474Z"
   },
   {
    "duration": 272,
    "start_time": "2023-10-09T13:01:49.948Z"
   },
   {
    "duration": 5,
    "start_time": "2023-10-09T13:01:50.221Z"
   },
   {
    "duration": 365,
    "start_time": "2023-10-09T13:01:50.228Z"
   },
   {
    "duration": 17,
    "start_time": "2023-10-09T13:01:50.595Z"
   },
   {
    "duration": 777,
    "start_time": "2023-10-09T13:01:50.614Z"
   },
   {
    "duration": 5,
    "start_time": "2023-10-09T13:01:51.392Z"
   },
   {
    "duration": 17,
    "start_time": "2023-10-09T13:01:51.399Z"
   },
   {
    "duration": 13028,
    "start_time": "2023-10-09T13:01:51.418Z"
   },
   {
    "duration": 206506,
    "start_time": "2023-10-09T13:02:04.448Z"
   },
   {
    "duration": 9794,
    "start_time": "2023-10-09T13:05:30.956Z"
   },
   {
    "duration": 175,
    "start_time": "2023-10-09T13:05:40.752Z"
   },
   {
    "duration": 3,
    "start_time": "2023-10-09T13:05:40.929Z"
   },
   {
    "duration": 29,
    "start_time": "2023-10-09T13:05:40.934Z"
   },
   {
    "duration": 6,
    "start_time": "2023-10-09T13:17:54.149Z"
   },
   {
    "duration": 6,
    "start_time": "2023-10-09T13:18:05.889Z"
   },
   {
    "duration": 21712,
    "start_time": "2023-10-09T13:19:22.750Z"
   },
   {
    "duration": 30772,
    "start_time": "2023-10-09T13:27:22.974Z"
   },
   {
    "duration": 23497,
    "start_time": "2023-10-09T13:38:27.960Z"
   },
   {
    "duration": 26497,
    "start_time": "2023-10-09T13:38:51.459Z"
   },
   {
    "duration": 34976,
    "start_time": "2023-10-09T13:39:19.177Z"
   },
   {
    "duration": 4,
    "start_time": "2023-10-09T13:45:06.523Z"
   },
   {
    "duration": 27802,
    "start_time": "2023-10-09T13:46:40.651Z"
   },
   {
    "duration": 6,
    "start_time": "2023-10-09T13:48:59.137Z"
   },
   {
    "duration": 66,
    "start_time": "2023-10-10T13:16:38.273Z"
   },
   {
    "duration": 5,
    "start_time": "2023-10-10T13:17:10.501Z"
   },
   {
    "duration": 1737,
    "start_time": "2023-10-10T13:18:36.033Z"
   },
   {
    "duration": 1313,
    "start_time": "2023-10-10T13:18:37.773Z"
   },
   {
    "duration": 240,
    "start_time": "2023-10-10T13:18:39.087Z"
   },
   {
    "duration": 458,
    "start_time": "2023-10-10T13:18:39.328Z"
   },
   {
    "duration": 502,
    "start_time": "2023-10-10T13:18:39.789Z"
   },
   {
    "duration": 198,
    "start_time": "2023-10-10T13:18:40.293Z"
   },
   {
    "duration": 137,
    "start_time": "2023-10-10T13:18:40.493Z"
   },
   {
    "duration": 195,
    "start_time": "2023-10-10T13:18:40.632Z"
   },
   {
    "duration": 83,
    "start_time": "2023-10-10T13:18:40.829Z"
   },
   {
    "duration": 146,
    "start_time": "2023-10-10T13:18:40.914Z"
   },
   {
    "duration": 367,
    "start_time": "2023-10-10T13:18:41.061Z"
   },
   {
    "duration": 267,
    "start_time": "2023-10-10T13:18:41.430Z"
   },
   {
    "duration": 291,
    "start_time": "2023-10-10T13:18:41.699Z"
   },
   {
    "duration": 472,
    "start_time": "2023-10-10T13:18:41.993Z"
   },
   {
    "duration": 292,
    "start_time": "2023-10-10T13:18:42.469Z"
   },
   {
    "duration": 4,
    "start_time": "2023-10-10T13:18:42.767Z"
   },
   {
    "duration": 401,
    "start_time": "2023-10-10T13:18:42.772Z"
   },
   {
    "duration": 15,
    "start_time": "2023-10-10T13:18:43.175Z"
   },
   {
    "duration": 114,
    "start_time": "2023-10-10T13:18:43.192Z"
   },
   {
    "duration": 17,
    "start_time": "2023-10-10T13:18:43.308Z"
   },
   {
    "duration": 32,
    "start_time": "2023-10-10T13:18:43.326Z"
   },
   {
    "duration": 16,
    "start_time": "2023-10-10T13:18:43.360Z"
   },
   {
    "duration": 354,
    "start_time": "2023-10-10T13:18:43.378Z"
   },
   {
    "duration": 0,
    "start_time": "2023-10-10T13:18:43.734Z"
   },
   {
    "duration": 0,
    "start_time": "2023-10-10T13:18:43.736Z"
   },
   {
    "duration": 0,
    "start_time": "2023-10-10T13:18:43.737Z"
   },
   {
    "duration": 0,
    "start_time": "2023-10-10T13:18:43.738Z"
   },
   {
    "duration": 0,
    "start_time": "2023-10-10T13:18:43.740Z"
   },
   {
    "duration": 0,
    "start_time": "2023-10-10T13:18:43.741Z"
   },
   {
    "duration": 3,
    "start_time": "2023-10-10T13:26:37.989Z"
   },
   {
    "duration": 571,
    "start_time": "2023-10-10T13:26:40.012Z"
   },
   {
    "duration": 128,
    "start_time": "2023-10-10T13:27:35.789Z"
   },
   {
    "duration": 117,
    "start_time": "2023-10-10T13:27:38.203Z"
   },
   {
    "duration": 3,
    "start_time": "2023-10-10T13:27:40.227Z"
   },
   {
    "duration": 14,
    "start_time": "2023-10-10T13:27:43.734Z"
   },
   {
    "duration": 1560,
    "start_time": "2023-10-10T13:29:44.179Z"
   },
   {
    "duration": 1033,
    "start_time": "2023-10-10T13:29:45.742Z"
   },
   {
    "duration": 267,
    "start_time": "2023-10-10T13:29:46.778Z"
   },
   {
    "duration": 531,
    "start_time": "2023-10-10T13:29:47.046Z"
   },
   {
    "duration": 500,
    "start_time": "2023-10-10T13:29:47.579Z"
   },
   {
    "duration": 198,
    "start_time": "2023-10-10T13:29:48.081Z"
   },
   {
    "duration": 144,
    "start_time": "2023-10-10T13:29:48.280Z"
   },
   {
    "duration": 208,
    "start_time": "2023-10-10T13:29:48.425Z"
   },
   {
    "duration": 93,
    "start_time": "2023-10-10T13:29:48.635Z"
   },
   {
    "duration": 163,
    "start_time": "2023-10-10T13:29:48.730Z"
   },
   {
    "duration": 409,
    "start_time": "2023-10-10T13:29:48.895Z"
   },
   {
    "duration": 251,
    "start_time": "2023-10-10T13:29:49.305Z"
   },
   {
    "duration": 321,
    "start_time": "2023-10-10T13:29:49.557Z"
   },
   {
    "duration": 513,
    "start_time": "2023-10-10T13:29:49.881Z"
   },
   {
    "duration": 297,
    "start_time": "2023-10-10T13:29:50.396Z"
   },
   {
    "duration": 3,
    "start_time": "2023-10-10T13:29:50.695Z"
   },
   {
    "duration": 422,
    "start_time": "2023-10-10T13:29:50.699Z"
   },
   {
    "duration": 17,
    "start_time": "2023-10-10T13:29:51.122Z"
   },
   {
    "duration": 128,
    "start_time": "2023-10-10T13:29:51.150Z"
   },
   {
    "duration": 17,
    "start_time": "2023-10-10T13:29:51.280Z"
   },
   {
    "duration": 21,
    "start_time": "2023-10-10T13:29:51.298Z"
   },
   {
    "duration": 51,
    "start_time": "2023-10-10T13:29:51.321Z"
   },
   {
    "duration": 37,
    "start_time": "2023-10-10T13:29:51.373Z"
   },
   {
    "duration": 286,
    "start_time": "2023-10-10T13:29:51.411Z"
   },
   {
    "duration": 110,
    "start_time": "2023-10-10T13:29:51.698Z"
   },
   {
    "duration": 107,
    "start_time": "2023-10-10T13:29:51.810Z"
   },
   {
    "duration": 9,
    "start_time": "2023-10-10T13:29:51.919Z"
   },
   {
    "duration": 0,
    "start_time": "2023-10-10T13:29:51.929Z"
   },
   {
    "duration": 0,
    "start_time": "2023-10-10T13:29:51.930Z"
   },
   {
    "duration": 1471,
    "start_time": "2023-10-10T13:47:15.142Z"
   },
   {
    "duration": 852,
    "start_time": "2023-10-10T13:47:16.616Z"
   },
   {
    "duration": 250,
    "start_time": "2023-10-10T13:47:17.470Z"
   },
   {
    "duration": 460,
    "start_time": "2023-10-10T13:47:17.722Z"
   },
   {
    "duration": 480,
    "start_time": "2023-10-10T13:47:18.184Z"
   },
   {
    "duration": 171,
    "start_time": "2023-10-10T13:47:18.666Z"
   },
   {
    "duration": 143,
    "start_time": "2023-10-10T13:47:18.839Z"
   },
   {
    "duration": 189,
    "start_time": "2023-10-10T13:47:18.984Z"
   },
   {
    "duration": 80,
    "start_time": "2023-10-10T13:47:19.174Z"
   },
   {
    "duration": 133,
    "start_time": "2023-10-10T13:47:19.257Z"
   },
   {
    "duration": 345,
    "start_time": "2023-10-10T13:47:19.391Z"
   },
   {
    "duration": 249,
    "start_time": "2023-10-10T13:47:19.737Z"
   },
   {
    "duration": 278,
    "start_time": "2023-10-10T13:47:19.988Z"
   },
   {
    "duration": 470,
    "start_time": "2023-10-10T13:47:20.268Z"
   },
   {
    "duration": 265,
    "start_time": "2023-10-10T13:47:20.739Z"
   },
   {
    "duration": 3,
    "start_time": "2023-10-10T13:47:21.005Z"
   },
   {
    "duration": 553,
    "start_time": "2023-10-10T13:47:21.009Z"
   },
   {
    "duration": 16,
    "start_time": "2023-10-10T13:47:21.563Z"
   },
   {
    "duration": 103,
    "start_time": "2023-10-10T13:47:21.580Z"
   },
   {
    "duration": 121,
    "start_time": "2023-10-10T13:47:21.685Z"
   },
   {
    "duration": 0,
    "start_time": "2023-10-10T13:47:21.808Z"
   },
   {
    "duration": 0,
    "start_time": "2023-10-10T13:47:21.809Z"
   },
   {
    "duration": 0,
    "start_time": "2023-10-10T13:47:21.810Z"
   },
   {
    "duration": 0,
    "start_time": "2023-10-10T13:47:21.811Z"
   },
   {
    "duration": 0,
    "start_time": "2023-10-10T13:47:21.812Z"
   },
   {
    "duration": 0,
    "start_time": "2023-10-10T13:47:21.813Z"
   },
   {
    "duration": 0,
    "start_time": "2023-10-10T13:47:21.814Z"
   },
   {
    "duration": 0,
    "start_time": "2023-10-10T13:47:21.815Z"
   },
   {
    "duration": 0,
    "start_time": "2023-10-10T13:47:21.816Z"
   },
   {
    "duration": 0,
    "start_time": "2023-10-10T13:47:21.817Z"
   },
   {
    "duration": 5,
    "start_time": "2023-10-10T13:57:28.980Z"
   },
   {
    "duration": 3,
    "start_time": "2023-10-10T13:57:30.040Z"
   },
   {
    "duration": 3,
    "start_time": "2023-10-10T13:57:31.356Z"
   },
   {
    "duration": 2,
    "start_time": "2023-10-10T13:57:31.975Z"
   },
   {
    "duration": 299,
    "start_time": "2023-10-10T13:57:32.586Z"
   },
   {
    "duration": 115,
    "start_time": "2023-10-10T13:57:58.281Z"
   },
   {
    "duration": 72,
    "start_time": "2023-10-10T13:58:01.320Z"
   },
   {
    "duration": 83,
    "start_time": "2023-10-10T13:58:05.944Z"
   },
   {
    "duration": 13,
    "start_time": "2023-10-10T14:36:12.208Z"
   },
   {
    "duration": 4,
    "start_time": "2023-10-10T14:36:15.852Z"
   },
   {
    "duration": 3,
    "start_time": "2023-10-10T14:36:17.085Z"
   },
   {
    "duration": 3,
    "start_time": "2023-10-10T14:36:18.529Z"
   },
   {
    "duration": 3,
    "start_time": "2023-10-10T14:36:19.218Z"
   },
   {
    "duration": 108,
    "start_time": "2023-10-10T14:36:19.714Z"
   },
   {
    "duration": 4730,
    "start_time": "2023-10-10T14:36:52.111Z"
   },
   {
    "duration": 145,
    "start_time": "2023-10-10T14:37:12.158Z"
   },
   {
    "duration": 11,
    "start_time": "2023-10-10T14:37:13.486Z"
   },
   {
    "duration": 14,
    "start_time": "2023-10-10T14:39:03.609Z"
   },
   {
    "duration": 13,
    "start_time": "2023-10-10T14:39:12.771Z"
   },
   {
    "duration": 1364,
    "start_time": "2023-10-10T14:40:10.981Z"
   },
   {
    "duration": 843,
    "start_time": "2023-10-10T14:40:12.347Z"
   },
   {
    "duration": 286,
    "start_time": "2023-10-10T14:40:13.192Z"
   },
   {
    "duration": 454,
    "start_time": "2023-10-10T14:40:13.480Z"
   },
   {
    "duration": 536,
    "start_time": "2023-10-10T14:40:13.936Z"
   },
   {
    "duration": 190,
    "start_time": "2023-10-10T14:40:14.474Z"
   },
   {
    "duration": 135,
    "start_time": "2023-10-10T14:40:14.666Z"
   },
   {
    "duration": 188,
    "start_time": "2023-10-10T14:40:14.802Z"
   },
   {
    "duration": 86,
    "start_time": "2023-10-10T14:40:14.992Z"
   },
   {
    "duration": 197,
    "start_time": "2023-10-10T14:40:15.079Z"
   },
   {
    "duration": 420,
    "start_time": "2023-10-10T14:40:15.278Z"
   },
   {
    "duration": 260,
    "start_time": "2023-10-10T14:40:15.700Z"
   },
   {
    "duration": 350,
    "start_time": "2023-10-10T14:40:15.961Z"
   },
   {
    "duration": 487,
    "start_time": "2023-10-10T14:40:16.314Z"
   },
   {
    "duration": 264,
    "start_time": "2023-10-10T14:40:16.802Z"
   },
   {
    "duration": 3,
    "start_time": "2023-10-10T14:40:17.068Z"
   },
   {
    "duration": 377,
    "start_time": "2023-10-10T14:40:17.072Z"
   },
   {
    "duration": 16,
    "start_time": "2023-10-10T14:40:17.451Z"
   },
   {
    "duration": 113,
    "start_time": "2023-10-10T14:40:17.468Z"
   },
   {
    "duration": 18,
    "start_time": "2023-10-10T14:40:17.583Z"
   },
   {
    "duration": 20,
    "start_time": "2023-10-10T14:40:17.603Z"
   },
   {
    "duration": 16,
    "start_time": "2023-10-10T14:40:17.624Z"
   },
   {
    "duration": 17,
    "start_time": "2023-10-10T14:40:17.642Z"
   },
   {
    "duration": 38,
    "start_time": "2023-10-10T14:40:17.660Z"
   },
   {
    "duration": 189649,
    "start_time": "2023-10-10T14:40:17.700Z"
   },
   {
    "duration": 177,
    "start_time": "2023-10-10T14:43:27.352Z"
   },
   {
    "duration": 4467,
    "start_time": "2023-10-10T14:43:27.531Z"
   },
   {
    "duration": 159,
    "start_time": "2023-10-10T14:45:11.925Z"
   },
   {
    "duration": 132,
    "start_time": "2023-10-10T14:46:36.430Z"
   },
   {
    "duration": 6,
    "start_time": "2023-10-10T14:49:13.171Z"
   },
   {
    "duration": 9472,
    "start_time": "2023-10-10T14:49:23.684Z"
   },
   {
    "duration": 143,
    "start_time": "2023-10-10T14:51:21.484Z"
   },
   {
    "duration": 8828,
    "start_time": "2023-10-10T14:51:22.839Z"
   },
   {
    "duration": 39,
    "start_time": "2023-10-10T14:51:43.289Z"
   },
   {
    "duration": 9321,
    "start_time": "2023-10-10T14:52:01.232Z"
   },
   {
    "duration": 138,
    "start_time": "2023-10-10T14:52:36.152Z"
   },
   {
    "duration": 1502,
    "start_time": "2023-10-10T15:13:14.737Z"
   },
   {
    "duration": 888,
    "start_time": "2023-10-10T15:13:16.242Z"
   },
   {
    "duration": 239,
    "start_time": "2023-10-10T15:13:17.131Z"
   },
   {
    "duration": 462,
    "start_time": "2023-10-10T15:13:17.372Z"
   },
   {
    "duration": 523,
    "start_time": "2023-10-10T15:13:17.836Z"
   },
   {
    "duration": 194,
    "start_time": "2023-10-10T15:13:18.361Z"
   },
   {
    "duration": 133,
    "start_time": "2023-10-10T15:13:18.556Z"
   },
   {
    "duration": 190,
    "start_time": "2023-10-10T15:13:18.690Z"
   },
   {
    "duration": 86,
    "start_time": "2023-10-10T15:13:18.881Z"
   },
   {
    "duration": 142,
    "start_time": "2023-10-10T15:13:18.968Z"
   },
   {
    "duration": 374,
    "start_time": "2023-10-10T15:13:19.112Z"
   },
   {
    "duration": 261,
    "start_time": "2023-10-10T15:13:19.487Z"
   },
   {
    "duration": 273,
    "start_time": "2023-10-10T15:13:19.750Z"
   },
   {
    "duration": 458,
    "start_time": "2023-10-10T15:13:20.026Z"
   },
   {
    "duration": 258,
    "start_time": "2023-10-10T15:13:20.485Z"
   },
   {
    "duration": 2,
    "start_time": "2023-10-10T15:13:20.749Z"
   },
   {
    "duration": 376,
    "start_time": "2023-10-10T15:13:20.753Z"
   },
   {
    "duration": 21,
    "start_time": "2023-10-10T15:13:21.131Z"
   },
   {
    "duration": 113,
    "start_time": "2023-10-10T15:13:21.154Z"
   },
   {
    "duration": 17,
    "start_time": "2023-10-10T15:13:21.269Z"
   },
   {
    "duration": 11,
    "start_time": "2023-10-10T15:13:21.288Z"
   },
   {
    "duration": 7,
    "start_time": "2023-10-10T15:13:21.301Z"
   },
   {
    "duration": 38,
    "start_time": "2023-10-10T15:13:21.309Z"
   },
   {
    "duration": 26,
    "start_time": "2023-10-10T15:13:21.349Z"
   },
   {
    "duration": 154687,
    "start_time": "2023-10-10T15:13:21.377Z"
   },
   {
    "duration": 231,
    "start_time": "2023-10-10T15:15:56.066Z"
   },
   {
    "duration": 93,
    "start_time": "2023-10-10T15:15:56.298Z"
   },
   {
    "duration": 4555,
    "start_time": "2023-10-10T15:15:56.393Z"
   },
   {
    "duration": 94,
    "start_time": "2023-10-10T15:22:48.750Z"
   },
   {
    "duration": 98,
    "start_time": "2023-10-10T15:22:52.686Z"
   },
   {
    "duration": 44,
    "start_time": "2023-10-10T15:23:15.193Z"
   },
   {
    "duration": 161,
    "start_time": "2023-10-10T15:24:13.153Z"
   },
   {
    "duration": 1474,
    "start_time": "2023-10-10T15:26:06.558Z"
   },
   {
    "duration": 904,
    "start_time": "2023-10-10T15:26:08.035Z"
   },
   {
    "duration": 307,
    "start_time": "2023-10-10T15:26:08.941Z"
   },
   {
    "duration": 500,
    "start_time": "2023-10-10T15:26:09.250Z"
   },
   {
    "duration": 591,
    "start_time": "2023-10-10T15:26:09.753Z"
   },
   {
    "duration": 250,
    "start_time": "2023-10-10T15:26:10.346Z"
   },
   {
    "duration": 157,
    "start_time": "2023-10-10T15:26:10.597Z"
   },
   {
    "duration": 176,
    "start_time": "2023-10-10T15:26:10.756Z"
   },
   {
    "duration": 84,
    "start_time": "2023-10-10T15:26:10.934Z"
   },
   {
    "duration": 136,
    "start_time": "2023-10-10T15:26:11.020Z"
   },
   {
    "duration": 364,
    "start_time": "2023-10-10T15:26:11.157Z"
   },
   {
    "duration": 256,
    "start_time": "2023-10-10T15:26:11.523Z"
   },
   {
    "duration": 295,
    "start_time": "2023-10-10T15:26:11.782Z"
   },
   {
    "duration": 504,
    "start_time": "2023-10-10T15:26:12.081Z"
   },
   {
    "duration": 305,
    "start_time": "2023-10-10T15:26:12.586Z"
   },
   {
    "duration": 4,
    "start_time": "2023-10-10T15:26:12.892Z"
   },
   {
    "duration": 440,
    "start_time": "2023-10-10T15:26:12.898Z"
   },
   {
    "duration": 26,
    "start_time": "2023-10-10T15:26:13.340Z"
   },
   {
    "duration": 134,
    "start_time": "2023-10-10T15:26:13.368Z"
   },
   {
    "duration": 18,
    "start_time": "2023-10-10T15:26:13.504Z"
   },
   {
    "duration": 29,
    "start_time": "2023-10-10T15:26:13.524Z"
   },
   {
    "duration": 20,
    "start_time": "2023-10-10T15:26:13.555Z"
   },
   {
    "duration": 43,
    "start_time": "2023-10-10T15:26:13.577Z"
   },
   {
    "duration": 22,
    "start_time": "2023-10-10T15:26:13.622Z"
   },
   {
    "duration": 1538,
    "start_time": "2023-10-10T15:40:39.876Z"
   },
   {
    "duration": 975,
    "start_time": "2023-10-10T15:40:41.420Z"
   },
   {
    "duration": 320,
    "start_time": "2023-10-10T15:40:42.397Z"
   },
   {
    "duration": 517,
    "start_time": "2023-10-10T15:40:42.720Z"
   },
   {
    "duration": 530,
    "start_time": "2023-10-10T15:40:43.241Z"
   },
   {
    "duration": 207,
    "start_time": "2023-10-10T15:40:43.773Z"
   },
   {
    "duration": 150,
    "start_time": "2023-10-10T15:40:43.982Z"
   },
   {
    "duration": 196,
    "start_time": "2023-10-10T15:40:44.134Z"
   },
   {
    "duration": 90,
    "start_time": "2023-10-10T15:40:44.332Z"
   },
   {
    "duration": 162,
    "start_time": "2023-10-10T15:40:44.424Z"
   },
   {
    "duration": 401,
    "start_time": "2023-10-10T15:40:44.588Z"
   },
   {
    "duration": 264,
    "start_time": "2023-10-10T15:40:44.992Z"
   },
   {
    "duration": 346,
    "start_time": "2023-10-10T15:40:45.259Z"
   },
   {
    "duration": 520,
    "start_time": "2023-10-10T15:40:45.609Z"
   },
   {
    "duration": 354,
    "start_time": "2023-10-10T15:40:46.130Z"
   },
   {
    "duration": 4,
    "start_time": "2023-10-10T15:40:46.486Z"
   },
   {
    "duration": 497,
    "start_time": "2023-10-10T15:40:46.492Z"
   },
   {
    "duration": 22,
    "start_time": "2023-10-10T15:40:46.991Z"
   },
   {
    "duration": 138,
    "start_time": "2023-10-10T15:40:47.016Z"
   },
   {
    "duration": 22,
    "start_time": "2023-10-10T15:40:47.157Z"
   },
   {
    "duration": 35,
    "start_time": "2023-10-10T15:40:47.181Z"
   },
   {
    "duration": 16,
    "start_time": "2023-10-10T15:40:47.218Z"
   },
   {
    "duration": 23,
    "start_time": "2023-10-10T15:40:47.237Z"
   },
   {
    "duration": 18,
    "start_time": "2023-10-10T15:40:47.262Z"
   },
   {
    "duration": 202,
    "start_time": "2023-10-10T15:48:13.055Z"
   },
   {
    "duration": 4929,
    "start_time": "2023-10-10T15:48:13.258Z"
   },
   {
    "duration": 98,
    "start_time": "2023-10-10T15:49:09.176Z"
   },
   {
    "duration": 1977,
    "start_time": "2023-10-11T09:48:37.522Z"
   },
   {
    "duration": 1184,
    "start_time": "2023-10-11T09:48:39.503Z"
   },
   {
    "duration": 235,
    "start_time": "2023-10-11T09:48:40.689Z"
   },
   {
    "duration": 444,
    "start_time": "2023-10-11T09:48:40.925Z"
   },
   {
    "duration": 463,
    "start_time": "2023-10-11T09:48:41.371Z"
   },
   {
    "duration": 188,
    "start_time": "2023-10-11T09:48:41.835Z"
   },
   {
    "duration": 130,
    "start_time": "2023-10-11T09:48:42.025Z"
   },
   {
    "duration": 169,
    "start_time": "2023-10-11T09:48:42.157Z"
   },
   {
    "duration": 76,
    "start_time": "2023-10-11T09:48:42.327Z"
   },
   {
    "duration": 139,
    "start_time": "2023-10-11T09:48:42.404Z"
   },
   {
    "duration": 410,
    "start_time": "2023-10-11T09:48:42.545Z"
   },
   {
    "duration": 250,
    "start_time": "2023-10-11T09:48:42.957Z"
   },
   {
    "duration": 288,
    "start_time": "2023-10-11T09:48:43.209Z"
   },
   {
    "duration": 477,
    "start_time": "2023-10-11T09:48:43.501Z"
   },
   {
    "duration": 266,
    "start_time": "2023-10-11T09:48:43.980Z"
   },
   {
    "duration": 3,
    "start_time": "2023-10-11T09:48:44.248Z"
   },
   {
    "duration": 378,
    "start_time": "2023-10-11T09:48:44.253Z"
   },
   {
    "duration": 16,
    "start_time": "2023-10-11T09:48:44.632Z"
   },
   {
    "duration": 143,
    "start_time": "2023-10-11T09:48:44.650Z"
   },
   {
    "duration": 18,
    "start_time": "2023-10-11T09:48:44.795Z"
   },
   {
    "duration": 105,
    "start_time": "2023-10-11T09:48:44.814Z"
   },
   {
    "duration": 258,
    "start_time": "2023-10-11T09:48:44.921Z"
   },
   {
    "duration": 134,
    "start_time": "2023-10-11T09:48:45.181Z"
   },
   {
    "duration": 41,
    "start_time": "2023-10-11T09:48:45.317Z"
   },
   {
    "duration": 164078,
    "start_time": "2023-10-11T09:48:45.360Z"
   },
   {
    "duration": 252,
    "start_time": "2023-10-11T09:51:29.440Z"
   },
   {
    "duration": 4468,
    "start_time": "2023-10-11T09:51:29.694Z"
   },
   {
    "duration": 103,
    "start_time": "2023-10-11T09:58:20.698Z"
   },
   {
    "duration": 17,
    "start_time": "2023-10-11T09:58:44.241Z"
   },
   {
    "duration": 1456,
    "start_time": "2023-10-11T10:01:56.748Z"
   },
   {
    "duration": 1019,
    "start_time": "2023-10-11T10:01:58.207Z"
   },
   {
    "duration": 267,
    "start_time": "2023-10-11T10:01:59.228Z"
   },
   {
    "duration": 494,
    "start_time": "2023-10-11T10:01:59.497Z"
   },
   {
    "duration": 568,
    "start_time": "2023-10-11T10:01:59.994Z"
   },
   {
    "duration": 233,
    "start_time": "2023-10-11T10:02:00.564Z"
   },
   {
    "duration": 169,
    "start_time": "2023-10-11T10:02:00.798Z"
   },
   {
    "duration": 246,
    "start_time": "2023-10-11T10:02:00.969Z"
   },
   {
    "duration": 300,
    "start_time": "2023-10-11T10:02:01.217Z"
   },
   {
    "duration": 264,
    "start_time": "2023-10-11T10:02:01.519Z"
   },
   {
    "duration": 403,
    "start_time": "2023-10-11T10:02:01.785Z"
   },
   {
    "duration": 300,
    "start_time": "2023-10-11T10:02:02.190Z"
   },
   {
    "duration": 308,
    "start_time": "2023-10-11T10:02:02.492Z"
   },
   {
    "duration": 503,
    "start_time": "2023-10-11T10:02:02.803Z"
   },
   {
    "duration": 311,
    "start_time": "2023-10-11T10:02:03.308Z"
   },
   {
    "duration": 5,
    "start_time": "2023-10-11T10:02:03.624Z"
   },
   {
    "duration": 511,
    "start_time": "2023-10-11T10:02:03.631Z"
   },
   {
    "duration": 17,
    "start_time": "2023-10-11T10:02:04.144Z"
   },
   {
    "duration": 154,
    "start_time": "2023-10-11T10:02:04.163Z"
   },
   {
    "duration": 29,
    "start_time": "2023-10-11T10:02:04.320Z"
   },
   {
    "duration": 44,
    "start_time": "2023-10-11T10:02:04.351Z"
   },
   {
    "duration": 16,
    "start_time": "2023-10-11T10:02:04.397Z"
   },
   {
    "duration": 18,
    "start_time": "2023-10-11T10:02:04.415Z"
   },
   {
    "duration": 26,
    "start_time": "2023-10-11T10:02:04.436Z"
   },
   {
    "duration": 1528,
    "start_time": "2023-10-11T10:08:12.451Z"
   },
   {
    "duration": 995,
    "start_time": "2023-10-11T10:08:13.983Z"
   },
   {
    "duration": 259,
    "start_time": "2023-10-11T10:08:14.980Z"
   },
   {
    "duration": 547,
    "start_time": "2023-10-11T10:08:15.242Z"
   },
   {
    "duration": 608,
    "start_time": "2023-10-11T10:08:15.791Z"
   },
   {
    "duration": 211,
    "start_time": "2023-10-11T10:08:16.401Z"
   },
   {
    "duration": 168,
    "start_time": "2023-10-11T10:08:16.614Z"
   },
   {
    "duration": 190,
    "start_time": "2023-10-11T10:08:16.783Z"
   },
   {
    "duration": 79,
    "start_time": "2023-10-11T10:08:16.975Z"
   },
   {
    "duration": 139,
    "start_time": "2023-10-11T10:08:17.055Z"
   },
   {
    "duration": 361,
    "start_time": "2023-10-11T10:08:17.195Z"
   },
   {
    "duration": 243,
    "start_time": "2023-10-11T10:08:17.558Z"
   },
   {
    "duration": 292,
    "start_time": "2023-10-11T10:08:17.803Z"
   },
   {
    "duration": 488,
    "start_time": "2023-10-11T10:08:18.098Z"
   },
   {
    "duration": 263,
    "start_time": "2023-10-11T10:08:18.587Z"
   },
   {
    "duration": 4,
    "start_time": "2023-10-11T10:08:18.851Z"
   },
   {
    "duration": 593,
    "start_time": "2023-10-11T10:08:18.857Z"
   },
   {
    "duration": 20,
    "start_time": "2023-10-11T10:08:19.452Z"
   },
   {
    "duration": 278,
    "start_time": "2023-10-11T10:08:19.473Z"
   },
   {
    "duration": 1579,
    "start_time": "2023-10-11T10:12:15.045Z"
   },
   {
    "duration": 980,
    "start_time": "2023-10-11T10:12:16.630Z"
   },
   {
    "duration": 329,
    "start_time": "2023-10-11T10:12:17.612Z"
   },
   {
    "duration": 552,
    "start_time": "2023-10-11T10:12:17.944Z"
   },
   {
    "duration": 579,
    "start_time": "2023-10-11T10:12:18.498Z"
   },
   {
    "duration": 193,
    "start_time": "2023-10-11T10:12:19.078Z"
   },
   {
    "duration": 248,
    "start_time": "2023-10-11T10:12:19.273Z"
   },
   {
    "duration": 284,
    "start_time": "2023-10-11T10:12:19.524Z"
   },
   {
    "duration": 86,
    "start_time": "2023-10-11T10:12:19.810Z"
   },
   {
    "duration": 175,
    "start_time": "2023-10-11T10:12:19.898Z"
   },
   {
    "duration": 401,
    "start_time": "2023-10-11T10:12:20.075Z"
   },
   {
    "duration": 288,
    "start_time": "2023-10-11T10:12:20.478Z"
   },
   {
    "duration": 312,
    "start_time": "2023-10-11T10:12:20.767Z"
   },
   {
    "duration": 486,
    "start_time": "2023-10-11T10:12:21.082Z"
   },
   {
    "duration": 270,
    "start_time": "2023-10-11T10:12:21.570Z"
   },
   {
    "duration": 3,
    "start_time": "2023-10-11T10:12:21.842Z"
   },
   {
    "duration": 387,
    "start_time": "2023-10-11T10:12:21.847Z"
   },
   {
    "duration": 19,
    "start_time": "2023-10-11T10:12:22.236Z"
   },
   {
    "duration": 133,
    "start_time": "2023-10-11T10:12:22.257Z"
   },
   {
    "duration": 1645,
    "start_time": "2023-10-11T10:13:48.418Z"
   },
   {
    "duration": 962,
    "start_time": "2023-10-11T10:13:50.067Z"
   },
   {
    "duration": 300,
    "start_time": "2023-10-11T10:13:51.031Z"
   },
   {
    "duration": 502,
    "start_time": "2023-10-11T10:13:51.333Z"
   },
   {
    "duration": 585,
    "start_time": "2023-10-11T10:13:51.839Z"
   },
   {
    "duration": 215,
    "start_time": "2023-10-11T10:13:52.427Z"
   },
   {
    "duration": 162,
    "start_time": "2023-10-11T10:13:52.645Z"
   },
   {
    "duration": 234,
    "start_time": "2023-10-11T10:13:52.809Z"
   },
   {
    "duration": 107,
    "start_time": "2023-10-11T10:13:53.047Z"
   },
   {
    "duration": 202,
    "start_time": "2023-10-11T10:13:53.156Z"
   },
   {
    "duration": 427,
    "start_time": "2023-10-11T10:13:53.359Z"
   },
   {
    "duration": 287,
    "start_time": "2023-10-11T10:13:53.787Z"
   },
   {
    "duration": 381,
    "start_time": "2023-10-11T10:13:54.075Z"
   },
   {
    "duration": 680,
    "start_time": "2023-10-11T10:13:54.458Z"
   },
   {
    "duration": 280,
    "start_time": "2023-10-11T10:13:55.140Z"
   },
   {
    "duration": 5,
    "start_time": "2023-10-11T10:13:55.421Z"
   },
   {
    "duration": 429,
    "start_time": "2023-10-11T10:13:55.427Z"
   },
   {
    "duration": 21,
    "start_time": "2023-10-11T10:13:55.858Z"
   },
   {
    "duration": 125,
    "start_time": "2023-10-11T10:13:55.881Z"
   },
   {
    "duration": 1013317,
    "start_time": "2023-10-11T10:13:56.007Z"
   },
   {
    "duration": 0,
    "start_time": "2023-10-11T10:30:49.541Z"
   },
   {
    "duration": 0,
    "start_time": "2023-10-11T10:30:49.542Z"
   },
   {
    "duration": 29360,
    "start_time": "2023-10-11T10:40:31.506Z"
   },
   {
    "duration": 1206,
    "start_time": "2023-10-11T10:41:00.869Z"
   },
   {
    "duration": 128,
    "start_time": "2023-10-11T11:08:32.325Z"
   },
   {
    "duration": 1687,
    "start_time": "2023-10-11T11:12:17.266Z"
   },
   {
    "duration": 870,
    "start_time": "2023-10-11T11:12:18.956Z"
   },
   {
    "duration": 246,
    "start_time": "2023-10-11T11:12:19.827Z"
   },
   {
    "duration": 491,
    "start_time": "2023-10-11T11:12:20.075Z"
   },
   {
    "duration": 510,
    "start_time": "2023-10-11T11:12:20.568Z"
   },
   {
    "duration": 196,
    "start_time": "2023-10-11T11:12:21.081Z"
   },
   {
    "duration": 131,
    "start_time": "2023-10-11T11:12:21.279Z"
   },
   {
    "duration": 249,
    "start_time": "2023-10-11T11:12:21.412Z"
   },
   {
    "duration": 81,
    "start_time": "2023-10-11T11:12:21.663Z"
   },
   {
    "duration": 128,
    "start_time": "2023-10-11T11:12:21.746Z"
   },
   {
    "duration": 386,
    "start_time": "2023-10-11T11:12:21.876Z"
   },
   {
    "duration": 256,
    "start_time": "2023-10-11T11:12:22.264Z"
   },
   {
    "duration": 291,
    "start_time": "2023-10-11T11:12:22.523Z"
   },
   {
    "duration": 478,
    "start_time": "2023-10-11T11:12:22.817Z"
   },
   {
    "duration": 264,
    "start_time": "2023-10-11T11:12:23.296Z"
   },
   {
    "duration": 2,
    "start_time": "2023-10-11T11:12:23.562Z"
   },
   {
    "duration": 444,
    "start_time": "2023-10-11T11:12:23.566Z"
   },
   {
    "duration": 25,
    "start_time": "2023-10-11T11:12:24.012Z"
   },
   {
    "duration": 119,
    "start_time": "2023-10-11T11:12:24.038Z"
   },
   {
    "duration": 167268,
    "start_time": "2023-10-11T11:12:24.158Z"
   },
   {
    "duration": 28612,
    "start_time": "2023-10-11T11:15:11.428Z"
   },
   {
    "duration": 1362,
    "start_time": "2023-10-11T11:15:40.042Z"
   },
   {
    "duration": 1415,
    "start_time": "2023-10-11T11:23:35.673Z"
   },
   {
    "duration": 880,
    "start_time": "2023-10-11T11:23:37.091Z"
   },
   {
    "duration": 242,
    "start_time": "2023-10-11T11:23:37.972Z"
   },
   {
    "duration": 463,
    "start_time": "2023-10-11T11:23:38.216Z"
   },
   {
    "duration": 492,
    "start_time": "2023-10-11T11:23:38.682Z"
   },
   {
    "duration": 197,
    "start_time": "2023-10-11T11:23:39.176Z"
   },
   {
    "duration": 138,
    "start_time": "2023-10-11T11:23:39.375Z"
   },
   {
    "duration": 173,
    "start_time": "2023-10-11T11:23:39.515Z"
   },
   {
    "duration": 81,
    "start_time": "2023-10-11T11:23:39.689Z"
   },
   {
    "duration": 134,
    "start_time": "2023-10-11T11:23:39.772Z"
   },
   {
    "duration": 364,
    "start_time": "2023-10-11T11:23:39.908Z"
   },
   {
    "duration": 270,
    "start_time": "2023-10-11T11:23:40.276Z"
   },
   {
    "duration": 278,
    "start_time": "2023-10-11T11:23:40.548Z"
   },
   {
    "duration": 474,
    "start_time": "2023-10-11T11:23:40.829Z"
   },
   {
    "duration": 278,
    "start_time": "2023-10-11T11:23:41.305Z"
   },
   {
    "duration": 3,
    "start_time": "2023-10-11T11:23:41.585Z"
   },
   {
    "duration": 399,
    "start_time": "2023-10-11T11:23:41.589Z"
   },
   {
    "duration": 17,
    "start_time": "2023-10-11T11:23:41.989Z"
   },
   {
    "duration": 168,
    "start_time": "2023-10-11T11:23:42.007Z"
   },
   {
    "duration": 1275449,
    "start_time": "2023-10-11T11:23:42.177Z"
   },
   {
    "duration": 183747,
    "start_time": "2023-10-11T11:44:57.628Z"
   },
   {
    "duration": 14368,
    "start_time": "2023-10-11T11:48:01.376Z"
   },
   {
    "duration": 1881,
    "start_time": "2023-10-11T12:13:01.823Z"
   },
   {
    "duration": 890,
    "start_time": "2023-10-11T12:13:03.706Z"
   },
   {
    "duration": 256,
    "start_time": "2023-10-11T12:13:04.598Z"
   },
   {
    "duration": 510,
    "start_time": "2023-10-11T12:13:04.855Z"
   },
   {
    "duration": 534,
    "start_time": "2023-10-11T12:13:05.367Z"
   },
   {
    "duration": 221,
    "start_time": "2023-10-11T12:13:05.903Z"
   },
   {
    "duration": 138,
    "start_time": "2023-10-11T12:13:06.125Z"
   },
   {
    "duration": 206,
    "start_time": "2023-10-11T12:13:06.265Z"
   },
   {
    "duration": 78,
    "start_time": "2023-10-11T12:13:06.473Z"
   },
   {
    "duration": 147,
    "start_time": "2023-10-11T12:13:06.553Z"
   },
   {
    "duration": 404,
    "start_time": "2023-10-11T12:13:06.702Z"
   },
   {
    "duration": 251,
    "start_time": "2023-10-11T12:13:07.108Z"
   },
   {
    "duration": 299,
    "start_time": "2023-10-11T12:13:07.360Z"
   },
   {
    "duration": 503,
    "start_time": "2023-10-11T12:13:07.661Z"
   },
   {
    "duration": 273,
    "start_time": "2023-10-11T12:13:08.166Z"
   },
   {
    "duration": 4,
    "start_time": "2023-10-11T12:13:08.441Z"
   },
   {
    "duration": 543,
    "start_time": "2023-10-11T12:13:08.447Z"
   },
   {
    "duration": 17,
    "start_time": "2023-10-11T12:13:08.992Z"
   },
   {
    "duration": 64,
    "start_time": "2023-10-11T12:13:09.023Z"
   },
   {
    "duration": 88,
    "start_time": "2023-10-11T12:13:09.089Z"
   },
   {
    "duration": 112,
    "start_time": "2023-10-11T12:13:09.179Z"
   },
   {
    "duration": 0,
    "start_time": "2023-10-11T12:13:09.292Z"
   },
   {
    "duration": 5,
    "start_time": "2023-10-11T12:14:21.546Z"
   },
   {
    "duration": 5,
    "start_time": "2023-10-11T12:14:29.536Z"
   },
   {
    "duration": 222,
    "start_time": "2023-10-11T12:14:40.811Z"
   },
   {
    "duration": 6,
    "start_time": "2023-10-11T12:15:00.593Z"
   },
   {
    "duration": 3,
    "start_time": "2023-10-11T12:17:01.403Z"
   },
   {
    "duration": 4,
    "start_time": "2023-10-11T12:17:29.216Z"
   },
   {
    "duration": 183,
    "start_time": "2023-10-11T12:18:56.186Z"
   },
   {
    "duration": 895,
    "start_time": "2023-10-11T12:19:18.499Z"
   },
   {
    "duration": 6403,
    "start_time": "2023-10-11T12:19:35.627Z"
   },
   {
    "duration": 7,
    "start_time": "2023-10-11T12:20:08.286Z"
   },
   {
    "duration": 4,
    "start_time": "2023-10-11T12:23:49.016Z"
   },
   {
    "duration": 1451,
    "start_time": "2023-10-11T12:32:48.238Z"
   },
   {
    "duration": 923,
    "start_time": "2023-10-11T12:32:49.693Z"
   },
   {
    "duration": 259,
    "start_time": "2023-10-11T12:32:50.618Z"
   },
   {
    "duration": 486,
    "start_time": "2023-10-11T12:32:50.880Z"
   },
   {
    "duration": 526,
    "start_time": "2023-10-11T12:32:51.368Z"
   },
   {
    "duration": 203,
    "start_time": "2023-10-11T12:32:51.896Z"
   },
   {
    "duration": 140,
    "start_time": "2023-10-11T12:32:52.101Z"
   },
   {
    "duration": 226,
    "start_time": "2023-10-11T12:32:52.243Z"
   },
   {
    "duration": 90,
    "start_time": "2023-10-11T12:32:52.471Z"
   },
   {
    "duration": 205,
    "start_time": "2023-10-11T12:32:52.563Z"
   },
   {
    "duration": 370,
    "start_time": "2023-10-11T12:32:52.770Z"
   },
   {
    "duration": 272,
    "start_time": "2023-10-11T12:32:53.142Z"
   },
   {
    "duration": 289,
    "start_time": "2023-10-11T12:32:53.415Z"
   },
   {
    "duration": 486,
    "start_time": "2023-10-11T12:32:53.707Z"
   },
   {
    "duration": 277,
    "start_time": "2023-10-11T12:32:54.195Z"
   },
   {
    "duration": 3,
    "start_time": "2023-10-11T12:32:54.474Z"
   },
   {
    "duration": 537,
    "start_time": "2023-10-11T12:32:54.478Z"
   },
   {
    "duration": 17,
    "start_time": "2023-10-11T12:32:55.023Z"
   },
   {
    "duration": 95,
    "start_time": "2023-10-11T12:32:55.042Z"
   },
   {
    "duration": 102,
    "start_time": "2023-10-11T12:32:55.139Z"
   },
   {
    "duration": 121,
    "start_time": "2023-10-11T12:32:55.243Z"
   },
   {
    "duration": 0,
    "start_time": "2023-10-11T12:32:55.366Z"
   },
   {
    "duration": 0,
    "start_time": "2023-10-11T12:32:55.367Z"
   },
   {
    "duration": 0,
    "start_time": "2023-10-11T12:32:55.368Z"
   },
   {
    "duration": 0,
    "start_time": "2023-10-11T12:32:55.369Z"
   },
   {
    "duration": 0,
    "start_time": "2023-10-11T12:32:55.371Z"
   },
   {
    "duration": 11,
    "start_time": "2023-10-11T12:33:30.433Z"
   },
   {
    "duration": 1473,
    "start_time": "2023-10-11T12:38:18.145Z"
   },
   {
    "duration": 927,
    "start_time": "2023-10-11T12:38:19.624Z"
   },
   {
    "duration": 275,
    "start_time": "2023-10-11T12:38:20.553Z"
   },
   {
    "duration": 461,
    "start_time": "2023-10-11T12:38:20.835Z"
   },
   {
    "duration": 494,
    "start_time": "2023-10-11T12:38:21.298Z"
   },
   {
    "duration": 208,
    "start_time": "2023-10-11T12:38:21.794Z"
   },
   {
    "duration": 169,
    "start_time": "2023-10-11T12:38:22.003Z"
   },
   {
    "duration": 246,
    "start_time": "2023-10-11T12:38:22.173Z"
   },
   {
    "duration": 93,
    "start_time": "2023-10-11T12:38:22.420Z"
   },
   {
    "duration": 175,
    "start_time": "2023-10-11T12:38:22.514Z"
   },
   {
    "duration": 398,
    "start_time": "2023-10-11T12:38:22.691Z"
   },
   {
    "duration": 255,
    "start_time": "2023-10-11T12:38:23.090Z"
   },
   {
    "duration": 287,
    "start_time": "2023-10-11T12:38:23.347Z"
   },
   {
    "duration": 493,
    "start_time": "2023-10-11T12:38:23.636Z"
   },
   {
    "duration": 266,
    "start_time": "2023-10-11T12:38:24.131Z"
   },
   {
    "duration": 3,
    "start_time": "2023-10-11T12:38:24.399Z"
   },
   {
    "duration": 387,
    "start_time": "2023-10-11T12:38:24.403Z"
   },
   {
    "duration": 19,
    "start_time": "2023-10-11T12:38:24.792Z"
   },
   {
    "duration": 26,
    "start_time": "2023-10-11T12:38:24.824Z"
   },
   {
    "duration": 119,
    "start_time": "2023-10-11T12:38:24.852Z"
   },
   {
    "duration": 942,
    "start_time": "2023-10-11T12:38:24.973Z"
   },
   {
    "duration": 9321,
    "start_time": "2023-10-11T12:38:25.917Z"
   },
   {
    "duration": 4,
    "start_time": "2023-10-11T12:38:35.239Z"
   },
   {
    "duration": 72,
    "start_time": "2023-10-11T12:38:35.245Z"
   },
   {
    "duration": 122,
    "start_time": "2023-10-11T12:38:35.319Z"
   },
   {
    "duration": 164313,
    "start_time": "2023-10-11T12:39:05.427Z"
   },
   {
    "duration": 35789,
    "start_time": "2023-10-11T12:41:49.742Z"
   },
   {
    "duration": 30,
    "start_time": "2023-10-11T12:42:25.533Z"
   },
   {
    "duration": 173098,
    "start_time": "2023-10-11T12:43:29.243Z"
   },
   {
    "duration": 13774,
    "start_time": "2023-10-11T12:48:27.466Z"
   },
   {
    "duration": 1554,
    "start_time": "2023-10-11T13:09:35.360Z"
   },
   {
    "duration": 955,
    "start_time": "2023-10-11T13:09:36.918Z"
   },
   {
    "duration": 310,
    "start_time": "2023-10-11T13:09:37.876Z"
   },
   {
    "duration": 476,
    "start_time": "2023-10-11T13:09:38.188Z"
   },
   {
    "duration": 545,
    "start_time": "2023-10-11T13:09:38.665Z"
   },
   {
    "duration": 201,
    "start_time": "2023-10-11T13:09:39.211Z"
   },
   {
    "duration": 138,
    "start_time": "2023-10-11T13:09:39.413Z"
   },
   {
    "duration": 183,
    "start_time": "2023-10-11T13:09:39.553Z"
   },
   {
    "duration": 79,
    "start_time": "2023-10-11T13:09:39.738Z"
   },
   {
    "duration": 139,
    "start_time": "2023-10-11T13:09:39.825Z"
   },
   {
    "duration": 400,
    "start_time": "2023-10-11T13:09:39.965Z"
   },
   {
    "duration": 265,
    "start_time": "2023-10-11T13:09:40.367Z"
   },
   {
    "duration": 312,
    "start_time": "2023-10-11T13:09:40.634Z"
   },
   {
    "duration": 490,
    "start_time": "2023-10-11T13:09:40.949Z"
   },
   {
    "duration": 280,
    "start_time": "2023-10-11T13:09:41.441Z"
   },
   {
    "duration": 3,
    "start_time": "2023-10-11T13:09:41.723Z"
   },
   {
    "duration": 406,
    "start_time": "2023-10-11T13:09:41.727Z"
   },
   {
    "duration": 17,
    "start_time": "2023-10-11T13:09:42.134Z"
   },
   {
    "duration": 36,
    "start_time": "2023-10-11T13:09:42.153Z"
   },
   {
    "duration": 105,
    "start_time": "2023-10-11T13:09:42.190Z"
   },
   {
    "duration": 171137,
    "start_time": "2023-10-11T13:09:42.297Z"
   },
   {
    "duration": 1046,
    "start_time": "2023-10-11T13:12:33.436Z"
   },
   {
    "duration": 4550,
    "start_time": "2023-10-11T13:12:34.484Z"
   },
   {
    "duration": 4,
    "start_time": "2023-10-11T13:12:39.036Z"
   },
   {
    "duration": 220,
    "start_time": "2023-10-11T13:12:39.041Z"
   },
   {
    "duration": 14079,
    "start_time": "2023-10-11T13:12:39.262Z"
   },
   {
    "duration": 1532,
    "start_time": "2023-10-12T13:41:18.434Z"
   },
   {
    "duration": 1042,
    "start_time": "2023-10-12T13:41:19.969Z"
   },
   {
    "duration": 207,
    "start_time": "2023-10-12T13:41:21.012Z"
   },
   {
    "duration": 383,
    "start_time": "2023-10-12T13:41:21.220Z"
   },
   {
    "duration": 422,
    "start_time": "2023-10-12T13:41:21.605Z"
   },
   {
    "duration": 174,
    "start_time": "2023-10-12T13:41:22.028Z"
   },
   {
    "duration": 126,
    "start_time": "2023-10-12T13:41:22.204Z"
   },
   {
    "duration": 174,
    "start_time": "2023-10-12T13:41:22.339Z"
   },
   {
    "duration": 96,
    "start_time": "2023-10-12T13:41:22.515Z"
   },
   {
    "duration": 108,
    "start_time": "2023-10-12T13:41:22.613Z"
   },
   {
    "duration": 331,
    "start_time": "2023-10-12T13:41:22.722Z"
   },
   {
    "duration": 232,
    "start_time": "2023-10-12T13:41:23.055Z"
   },
   {
    "duration": 294,
    "start_time": "2023-10-12T13:41:23.289Z"
   },
   {
    "duration": 435,
    "start_time": "2023-10-12T13:41:23.585Z"
   },
   {
    "duration": 257,
    "start_time": "2023-10-12T13:41:24.021Z"
   },
   {
    "duration": 4,
    "start_time": "2023-10-12T13:41:24.279Z"
   },
   {
    "duration": 372,
    "start_time": "2023-10-12T13:41:24.284Z"
   },
   {
    "duration": 15,
    "start_time": "2023-10-12T13:41:24.657Z"
   },
   {
    "duration": 34,
    "start_time": "2023-10-12T13:41:24.673Z"
   },
   {
    "duration": 38,
    "start_time": "2023-10-12T13:41:24.708Z"
   },
   {
    "duration": 74,
    "start_time": "2023-10-12T13:41:24.747Z"
   },
   {
    "duration": 2,
    "start_time": "2023-10-12T13:41:24.823Z"
   },
   {
    "duration": 202521,
    "start_time": "2023-10-12T13:41:24.827Z"
   },
   {
    "duration": 943,
    "start_time": "2023-10-12T13:44:47.350Z"
   },
   {
    "duration": 5650,
    "start_time": "2023-10-12T13:44:48.295Z"
   },
   {
    "duration": 4,
    "start_time": "2023-10-12T13:44:53.947Z"
   },
   {
    "duration": 88,
    "start_time": "2023-10-12T13:44:53.952Z"
   },
   {
    "duration": 13898,
    "start_time": "2023-10-12T13:44:54.042Z"
   },
   {
    "duration": 848,
    "start_time": "2023-10-12T13:45:07.943Z"
   },
   {
    "duration": 784,
    "start_time": "2023-10-12T13:45:27.616Z"
   },
   {
    "duration": 3,
    "start_time": "2023-10-12T13:46:01.470Z"
   },
   {
    "duration": 16,
    "start_time": "2023-10-12T13:47:17.528Z"
   },
   {
    "duration": 13,
    "start_time": "2023-10-12T13:47:20.473Z"
   },
   {
    "duration": 63,
    "start_time": "2023-10-12T13:47:21.103Z"
   },
   {
    "duration": 3,
    "start_time": "2023-10-12T13:47:43.855Z"
   },
   {
    "duration": 493,
    "start_time": "2023-10-12T13:47:47.915Z"
   },
   {
    "duration": 162,
    "start_time": "2023-10-12T13:48:40.593Z"
   },
   {
    "duration": 8115,
    "start_time": "2023-10-12T13:56:21.526Z"
   },
   {
    "duration": 1193,
    "start_time": "2023-10-12T13:56:49.659Z"
   },
   {
    "duration": 762,
    "start_time": "2023-10-12T13:56:50.853Z"
   },
   {
    "duration": 252,
    "start_time": "2023-10-12T13:56:51.617Z"
   },
   {
    "duration": 396,
    "start_time": "2023-10-12T13:56:51.870Z"
   },
   {
    "duration": 507,
    "start_time": "2023-10-12T13:56:52.269Z"
   },
   {
    "duration": 177,
    "start_time": "2023-10-12T13:56:52.777Z"
   },
   {
    "duration": 112,
    "start_time": "2023-10-12T13:56:52.956Z"
   },
   {
    "duration": 157,
    "start_time": "2023-10-12T13:56:53.070Z"
   },
   {
    "duration": 67,
    "start_time": "2023-10-12T13:56:53.228Z"
   },
   {
    "duration": 111,
    "start_time": "2023-10-12T13:56:53.296Z"
   },
   {
    "duration": 339,
    "start_time": "2023-10-12T13:56:53.409Z"
   },
   {
    "duration": 251,
    "start_time": "2023-10-12T13:56:53.749Z"
   },
   {
    "duration": 310,
    "start_time": "2023-10-12T13:56:54.001Z"
   },
   {
    "duration": 440,
    "start_time": "2023-10-12T13:56:54.313Z"
   },
   {
    "duration": 256,
    "start_time": "2023-10-12T13:56:54.755Z"
   },
   {
    "duration": 2,
    "start_time": "2023-10-12T13:56:55.013Z"
   },
   {
    "duration": 467,
    "start_time": "2023-10-12T13:56:55.017Z"
   },
   {
    "duration": 15,
    "start_time": "2023-10-12T13:56:55.486Z"
   },
   {
    "duration": 4334,
    "start_time": "2023-10-12T13:56:55.502Z"
   },
   {
    "duration": 17,
    "start_time": "2023-10-12T13:56:59.838Z"
   },
   {
    "duration": 12,
    "start_time": "2023-10-12T13:56:59.857Z"
   },
   {
    "duration": 85,
    "start_time": "2023-10-12T13:56:59.870Z"
   },
   {
    "duration": 3,
    "start_time": "2023-10-12T13:56:59.956Z"
   },
   {
    "duration": 1230,
    "start_time": "2023-10-12T14:19:28.631Z"
   },
   {
    "duration": 760,
    "start_time": "2023-10-12T14:19:29.862Z"
   },
   {
    "duration": 252,
    "start_time": "2023-10-12T14:19:30.623Z"
   },
   {
    "duration": 388,
    "start_time": "2023-10-12T14:19:30.876Z"
   },
   {
    "duration": 443,
    "start_time": "2023-10-12T14:19:31.266Z"
   },
   {
    "duration": 171,
    "start_time": "2023-10-12T14:19:31.710Z"
   },
   {
    "duration": 104,
    "start_time": "2023-10-12T14:19:31.883Z"
   },
   {
    "duration": 157,
    "start_time": "2023-10-12T14:19:31.988Z"
   },
   {
    "duration": 60,
    "start_time": "2023-10-12T14:19:32.146Z"
   },
   {
    "duration": 108,
    "start_time": "2023-10-12T14:19:32.207Z"
   },
   {
    "duration": 377,
    "start_time": "2023-10-12T14:19:32.316Z"
   },
   {
    "duration": 226,
    "start_time": "2023-10-12T14:19:32.695Z"
   },
   {
    "duration": 291,
    "start_time": "2023-10-12T14:19:32.923Z"
   },
   {
    "duration": 450,
    "start_time": "2023-10-12T14:19:33.216Z"
   },
   {
    "duration": 253,
    "start_time": "2023-10-12T14:19:33.668Z"
   },
   {
    "duration": 2,
    "start_time": "2023-10-12T14:19:33.923Z"
   },
   {
    "duration": 350,
    "start_time": "2023-10-12T14:19:33.926Z"
   },
   {
    "duration": 15,
    "start_time": "2023-10-12T14:19:34.277Z"
   },
   {
    "duration": 4129,
    "start_time": "2023-10-12T14:19:34.293Z"
   },
   {
    "duration": 17,
    "start_time": "2023-10-12T14:19:38.423Z"
   },
   {
    "duration": 15,
    "start_time": "2023-10-12T14:19:38.442Z"
   },
   {
    "duration": 90,
    "start_time": "2023-10-12T14:19:38.459Z"
   },
   {
    "duration": 3,
    "start_time": "2023-10-12T14:19:38.551Z"
   },
   {
    "duration": 1254,
    "start_time": "2023-10-12T14:22:50.893Z"
   },
   {
    "duration": 856,
    "start_time": "2023-10-12T14:22:52.150Z"
   },
   {
    "duration": 254,
    "start_time": "2023-10-12T14:22:53.009Z"
   },
   {
    "duration": 401,
    "start_time": "2023-10-12T14:22:53.265Z"
   },
   {
    "duration": 425,
    "start_time": "2023-10-12T14:22:53.668Z"
   },
   {
    "duration": 177,
    "start_time": "2023-10-12T14:22:54.095Z"
   },
   {
    "duration": 104,
    "start_time": "2023-10-12T14:22:54.274Z"
   },
   {
    "duration": 150,
    "start_time": "2023-10-12T14:22:54.379Z"
   },
   {
    "duration": 65,
    "start_time": "2023-10-12T14:22:54.530Z"
   },
   {
    "duration": 106,
    "start_time": "2023-10-12T14:22:54.597Z"
   },
   {
    "duration": 324,
    "start_time": "2023-10-12T14:22:54.705Z"
   },
   {
    "duration": 237,
    "start_time": "2023-10-12T14:22:55.030Z"
   },
   {
    "duration": 288,
    "start_time": "2023-10-12T14:22:55.268Z"
   },
   {
    "duration": 449,
    "start_time": "2023-10-12T14:22:55.558Z"
   },
   {
    "duration": 273,
    "start_time": "2023-10-12T14:22:56.008Z"
   },
   {
    "duration": 3,
    "start_time": "2023-10-12T14:22:56.283Z"
   },
   {
    "duration": 373,
    "start_time": "2023-10-12T14:22:56.287Z"
   },
   {
    "duration": 14,
    "start_time": "2023-10-12T14:22:56.661Z"
   },
   {
    "duration": 4192,
    "start_time": "2023-10-12T14:22:56.677Z"
   },
   {
    "duration": 19,
    "start_time": "2023-10-12T14:23:00.870Z"
   },
   {
    "duration": 34,
    "start_time": "2023-10-12T14:23:00.890Z"
   },
   {
    "duration": 90,
    "start_time": "2023-10-12T14:23:00.926Z"
   },
   {
    "duration": 5,
    "start_time": "2023-10-12T14:23:01.017Z"
   },
   {
    "duration": 1408,
    "start_time": "2023-10-12T14:26:34.153Z"
   },
   {
    "duration": 762,
    "start_time": "2023-10-12T14:26:35.562Z"
   },
   {
    "duration": 259,
    "start_time": "2023-10-12T14:26:36.325Z"
   },
   {
    "duration": 396,
    "start_time": "2023-10-12T14:26:36.586Z"
   },
   {
    "duration": 447,
    "start_time": "2023-10-12T14:26:36.984Z"
   },
   {
    "duration": 178,
    "start_time": "2023-10-12T14:26:37.432Z"
   },
   {
    "duration": 112,
    "start_time": "2023-10-12T14:26:37.612Z"
   },
   {
    "duration": 156,
    "start_time": "2023-10-12T14:26:37.726Z"
   },
   {
    "duration": 73,
    "start_time": "2023-10-12T14:26:37.883Z"
   },
   {
    "duration": 101,
    "start_time": "2023-10-12T14:26:37.959Z"
   },
   {
    "duration": 338,
    "start_time": "2023-10-12T14:26:38.062Z"
   },
   {
    "duration": 238,
    "start_time": "2023-10-12T14:26:38.402Z"
   },
   {
    "duration": 298,
    "start_time": "2023-10-12T14:26:38.642Z"
   },
   {
    "duration": 438,
    "start_time": "2023-10-12T14:26:38.942Z"
   },
   {
    "duration": 260,
    "start_time": "2023-10-12T14:26:39.381Z"
   },
   {
    "duration": 2,
    "start_time": "2023-10-12T14:26:39.642Z"
   },
   {
    "duration": 373,
    "start_time": "2023-10-12T14:26:39.646Z"
   },
   {
    "duration": 19,
    "start_time": "2023-10-12T14:26:40.021Z"
   },
   {
    "duration": 4380,
    "start_time": "2023-10-12T14:26:40.042Z"
   },
   {
    "duration": 18,
    "start_time": "2023-10-12T14:26:44.424Z"
   },
   {
    "duration": 13,
    "start_time": "2023-10-12T14:26:44.444Z"
   },
   {
    "duration": 70,
    "start_time": "2023-10-12T14:26:44.458Z"
   },
   {
    "duration": 3,
    "start_time": "2023-10-12T14:26:44.539Z"
   },
   {
    "duration": 634399,
    "start_time": "2023-10-12T14:26:44.543Z"
   },
   {
    "duration": 264,
    "start_time": "2023-10-12T14:37:18.944Z"
   },
   {
    "duration": 5938,
    "start_time": "2023-10-12T14:37:19.210Z"
   },
   {
    "duration": 5999,
    "start_time": "2023-10-12T14:37:25.150Z"
   },
   {
    "duration": 10,
    "start_time": "2023-10-12T14:37:31.152Z"
   },
   {
    "duration": 0,
    "start_time": "2023-10-12T14:37:31.163Z"
   },
   {
    "duration": 0,
    "start_time": "2023-10-12T14:37:31.163Z"
   },
   {
    "duration": 99,
    "start_time": "2023-10-12T14:38:05.147Z"
   },
   {
    "duration": 92,
    "start_time": "2023-10-12T14:38:49.168Z"
   },
   {
    "duration": 3,
    "start_time": "2023-10-12T14:38:58.348Z"
   },
   {
    "duration": 94,
    "start_time": "2023-10-12T14:39:02.929Z"
   },
   {
    "duration": 8722,
    "start_time": "2023-10-12T16:41:24.570Z"
   },
   {
    "duration": 43,
    "start_time": "2023-10-12T16:41:33.294Z"
   },
   {
    "duration": 1410,
    "start_time": "2023-10-12T16:41:40.534Z"
   },
   {
    "duration": 1190,
    "start_time": "2023-10-12T16:41:41.946Z"
   },
   {
    "duration": 265,
    "start_time": "2023-10-12T16:41:43.138Z"
   },
   {
    "duration": 456,
    "start_time": "2023-10-12T16:41:43.405Z"
   },
   {
    "duration": 512,
    "start_time": "2023-10-12T16:41:43.863Z"
   },
   {
    "duration": 184,
    "start_time": "2023-10-12T16:41:44.376Z"
   },
   {
    "duration": 136,
    "start_time": "2023-10-12T16:41:44.562Z"
   },
   {
    "duration": 169,
    "start_time": "2023-10-12T16:41:44.699Z"
   },
   {
    "duration": 81,
    "start_time": "2023-10-12T16:41:44.869Z"
   },
   {
    "duration": 131,
    "start_time": "2023-10-12T16:41:44.952Z"
   },
   {
    "duration": 367,
    "start_time": "2023-10-12T16:41:45.085Z"
   },
   {
    "duration": 250,
    "start_time": "2023-10-12T16:41:45.453Z"
   },
   {
    "duration": 306,
    "start_time": "2023-10-12T16:41:45.705Z"
   },
   {
    "duration": 528,
    "start_time": "2023-10-12T16:41:46.014Z"
   },
   {
    "duration": 267,
    "start_time": "2023-10-12T16:41:46.543Z"
   },
   {
    "duration": 3,
    "start_time": "2023-10-12T16:41:46.811Z"
   },
   {
    "duration": 403,
    "start_time": "2023-10-12T16:41:46.816Z"
   },
   {
    "duration": 19,
    "start_time": "2023-10-12T16:41:47.221Z"
   },
   {
    "duration": 4517,
    "start_time": "2023-10-12T16:41:47.242Z"
   },
   {
    "duration": 19,
    "start_time": "2023-10-12T16:41:51.761Z"
   },
   {
    "duration": 21,
    "start_time": "2023-10-12T16:41:51.781Z"
   },
   {
    "duration": 100,
    "start_time": "2023-10-12T16:41:51.803Z"
   },
   {
    "duration": 3,
    "start_time": "2023-10-12T16:41:51.905Z"
   },
   {
    "duration": 159804,
    "start_time": "2023-10-12T16:41:51.910Z"
   },
   {
    "duration": 248,
    "start_time": "2023-10-12T16:44:31.716Z"
   },
   {
    "duration": 4658,
    "start_time": "2023-10-12T16:44:31.965Z"
   },
   {
    "duration": 6383,
    "start_time": "2023-10-12T16:44:36.625Z"
   },
   {
    "duration": 10,
    "start_time": "2023-10-12T16:44:43.010Z"
   },
   {
    "duration": 0,
    "start_time": "2023-10-12T16:44:43.021Z"
   },
   {
    "duration": 0,
    "start_time": "2023-10-12T16:44:43.022Z"
   },
   {
    "duration": 11,
    "start_time": "2023-10-12T16:45:47.757Z"
   },
   {
    "duration": 1336,
    "start_time": "2023-10-12T16:56:45.647Z"
   },
   {
    "duration": 905,
    "start_time": "2023-10-12T16:56:46.986Z"
   },
   {
    "duration": 318,
    "start_time": "2023-10-12T16:56:47.893Z"
   },
   {
    "duration": 465,
    "start_time": "2023-10-12T16:56:48.212Z"
   },
   {
    "duration": 521,
    "start_time": "2023-10-12T16:56:48.679Z"
   },
   {
    "duration": 202,
    "start_time": "2023-10-12T16:56:49.202Z"
   },
   {
    "duration": 151,
    "start_time": "2023-10-12T16:56:49.406Z"
   },
   {
    "duration": 214,
    "start_time": "2023-10-12T16:56:49.558Z"
   },
   {
    "duration": 75,
    "start_time": "2023-10-12T16:56:49.774Z"
   },
   {
    "duration": 137,
    "start_time": "2023-10-12T16:56:49.851Z"
   },
   {
    "duration": 393,
    "start_time": "2023-10-12T16:56:49.990Z"
   },
   {
    "duration": 244,
    "start_time": "2023-10-12T16:56:50.385Z"
   },
   {
    "duration": 287,
    "start_time": "2023-10-12T16:56:50.630Z"
   },
   {
    "duration": 466,
    "start_time": "2023-10-12T16:56:50.920Z"
   },
   {
    "duration": 271,
    "start_time": "2023-10-12T16:56:51.387Z"
   },
   {
    "duration": 3,
    "start_time": "2023-10-12T16:56:51.660Z"
   },
   {
    "duration": 383,
    "start_time": "2023-10-12T16:56:51.664Z"
   },
   {
    "duration": 18,
    "start_time": "2023-10-12T16:56:52.049Z"
   },
   {
    "duration": 4633,
    "start_time": "2023-10-12T16:56:52.069Z"
   },
   {
    "duration": 20,
    "start_time": "2023-10-12T16:56:56.704Z"
   },
   {
    "duration": 11,
    "start_time": "2023-10-12T16:56:56.726Z"
   },
   {
    "duration": 111,
    "start_time": "2023-10-12T16:56:56.739Z"
   },
   {
    "duration": 1284,
    "start_time": "2023-10-12T17:13:07.168Z"
   },
   {
    "duration": 893,
    "start_time": "2023-10-12T17:13:08.454Z"
   },
   {
    "duration": 297,
    "start_time": "2023-10-12T17:13:09.349Z"
   },
   {
    "duration": 477,
    "start_time": "2023-10-12T17:13:09.648Z"
   },
   {
    "duration": 541,
    "start_time": "2023-10-12T17:13:10.127Z"
   },
   {
    "duration": 194,
    "start_time": "2023-10-12T17:13:10.670Z"
   },
   {
    "duration": 141,
    "start_time": "2023-10-12T17:13:10.866Z"
   },
   {
    "duration": 175,
    "start_time": "2023-10-12T17:13:11.009Z"
   },
   {
    "duration": 76,
    "start_time": "2023-10-12T17:13:11.186Z"
   },
   {
    "duration": 144,
    "start_time": "2023-10-12T17:13:11.263Z"
   },
   {
    "duration": 353,
    "start_time": "2023-10-12T17:13:11.417Z"
   },
   {
    "duration": 251,
    "start_time": "2023-10-12T17:13:11.772Z"
   },
   {
    "duration": 278,
    "start_time": "2023-10-12T17:13:12.025Z"
   },
   {
    "duration": 474,
    "start_time": "2023-10-12T17:13:12.308Z"
   },
   {
    "duration": 264,
    "start_time": "2023-10-12T17:13:12.784Z"
   },
   {
    "duration": 3,
    "start_time": "2023-10-12T17:13:13.050Z"
   },
   {
    "duration": 382,
    "start_time": "2023-10-12T17:13:13.054Z"
   },
   {
    "duration": 17,
    "start_time": "2023-10-12T17:13:13.438Z"
   },
   {
    "duration": 4745,
    "start_time": "2023-10-12T17:13:13.457Z"
   },
   {
    "duration": 17,
    "start_time": "2023-10-12T17:13:18.204Z"
   },
   {
    "duration": 23,
    "start_time": "2023-10-12T17:13:18.222Z"
   },
   {
    "duration": 99,
    "start_time": "2023-10-12T17:13:18.246Z"
   },
   {
    "duration": 161575,
    "start_time": "2023-10-12T17:13:18.346Z"
   },
   {
    "duration": 185,
    "start_time": "2023-10-12T17:15:59.923Z"
   },
   {
    "duration": 0,
    "start_time": "2023-10-12T17:16:00.110Z"
   },
   {
    "duration": 0,
    "start_time": "2023-10-12T17:16:00.112Z"
   },
   {
    "duration": 0,
    "start_time": "2023-10-12T17:16:00.114Z"
   },
   {
    "duration": 0,
    "start_time": "2023-10-12T17:16:00.115Z"
   },
   {
    "duration": 0,
    "start_time": "2023-10-12T17:16:00.117Z"
   },
   {
    "duration": 3225,
    "start_time": "2023-10-12T17:19:12.690Z"
   },
   {
    "duration": 1095,
    "start_time": "2023-10-12T17:19:31.285Z"
   },
   {
    "duration": 5549,
    "start_time": "2023-10-12T17:19:39.373Z"
   },
   {
    "duration": 10,
    "start_time": "2023-10-12T17:19:50.324Z"
   },
   {
    "duration": 6,
    "start_time": "2023-10-12T17:20:19.592Z"
   },
   {
    "duration": 11052,
    "start_time": "2023-10-12T17:20:21.471Z"
   },
   {
    "duration": 10,
    "start_time": "2023-10-12T17:22:34.755Z"
   },
   {
    "duration": 5,
    "start_time": "2023-10-12T17:24:56.658Z"
   },
   {
    "duration": 1735,
    "start_time": "2023-10-13T00:56:34.437Z"
   },
   {
    "duration": 1290,
    "start_time": "2023-10-13T00:56:36.175Z"
   },
   {
    "duration": 277,
    "start_time": "2023-10-13T00:56:37.466Z"
   },
   {
    "duration": 545,
    "start_time": "2023-10-13T00:56:37.745Z"
   },
   {
    "duration": 544,
    "start_time": "2023-10-13T00:56:38.293Z"
   },
   {
    "duration": 211,
    "start_time": "2023-10-13T00:56:38.838Z"
   },
   {
    "duration": 150,
    "start_time": "2023-10-13T00:56:39.051Z"
   },
   {
    "duration": 181,
    "start_time": "2023-10-13T00:56:39.203Z"
   },
   {
    "duration": 83,
    "start_time": "2023-10-13T00:56:39.386Z"
   },
   {
    "duration": 149,
    "start_time": "2023-10-13T00:56:39.471Z"
   },
   {
    "duration": 397,
    "start_time": "2023-10-13T00:56:39.622Z"
   },
   {
    "duration": 276,
    "start_time": "2023-10-13T00:56:40.021Z"
   },
   {
    "duration": 319,
    "start_time": "2023-10-13T00:56:40.302Z"
   },
   {
    "duration": 537,
    "start_time": "2023-10-13T00:56:40.624Z"
   },
   {
    "duration": 331,
    "start_time": "2023-10-13T00:56:41.163Z"
   },
   {
    "duration": 6,
    "start_time": "2023-10-13T00:56:41.496Z"
   },
   {
    "duration": 417,
    "start_time": "2023-10-13T00:56:41.503Z"
   },
   {
    "duration": 20,
    "start_time": "2023-10-13T00:56:41.922Z"
   },
   {
    "duration": 8919,
    "start_time": "2023-10-13T00:56:41.944Z"
   },
   {
    "duration": 18,
    "start_time": "2023-10-13T00:56:50.866Z"
   },
   {
    "duration": 52,
    "start_time": "2023-10-13T00:56:50.886Z"
   },
   {
    "duration": 126,
    "start_time": "2023-10-13T00:56:50.940Z"
   },
   {
    "duration": 606,
    "start_time": "2023-10-13T00:56:51.068Z"
   },
   {
    "duration": 0,
    "start_time": "2023-10-13T00:56:51.676Z"
   },
   {
    "duration": 0,
    "start_time": "2023-10-13T00:56:51.678Z"
   },
   {
    "duration": 0,
    "start_time": "2023-10-13T00:56:51.679Z"
   },
   {
    "duration": 0,
    "start_time": "2023-10-13T00:56:51.680Z"
   },
   {
    "duration": 0,
    "start_time": "2023-10-13T00:56:51.682Z"
   },
   {
    "duration": 0,
    "start_time": "2023-10-13T00:56:51.683Z"
   },
   {
    "duration": 2000,
    "start_time": "2023-10-13T00:59:03.248Z"
   },
   {
    "duration": 959,
    "start_time": "2023-10-13T00:59:05.251Z"
   },
   {
    "duration": 330,
    "start_time": "2023-10-13T00:59:06.212Z"
   },
   {
    "duration": 514,
    "start_time": "2023-10-13T00:59:06.545Z"
   },
   {
    "duration": 546,
    "start_time": "2023-10-13T00:59:07.061Z"
   },
   {
    "duration": 242,
    "start_time": "2023-10-13T00:59:07.609Z"
   },
   {
    "duration": 148,
    "start_time": "2023-10-13T00:59:07.853Z"
   },
   {
    "duration": 184,
    "start_time": "2023-10-13T00:59:08.003Z"
   },
   {
    "duration": 82,
    "start_time": "2023-10-13T00:59:08.189Z"
   },
   {
    "duration": 149,
    "start_time": "2023-10-13T00:59:08.273Z"
   },
   {
    "duration": 407,
    "start_time": "2023-10-13T00:59:08.424Z"
   },
   {
    "duration": 274,
    "start_time": "2023-10-13T00:59:08.834Z"
   },
   {
    "duration": 301,
    "start_time": "2023-10-13T00:59:09.110Z"
   },
   {
    "duration": 510,
    "start_time": "2023-10-13T00:59:09.413Z"
   },
   {
    "duration": 283,
    "start_time": "2023-10-13T00:59:09.925Z"
   },
   {
    "duration": 3,
    "start_time": "2023-10-13T00:59:10.210Z"
   },
   {
    "duration": 444,
    "start_time": "2023-10-13T00:59:10.215Z"
   },
   {
    "duration": 19,
    "start_time": "2023-10-13T00:59:10.661Z"
   },
   {
    "duration": 5022,
    "start_time": "2023-10-13T00:59:10.682Z"
   },
   {
    "duration": 17,
    "start_time": "2023-10-13T00:59:15.706Z"
   },
   {
    "duration": 16,
    "start_time": "2023-10-13T00:59:15.725Z"
   },
   {
    "duration": 149,
    "start_time": "2023-10-13T00:59:15.743Z"
   },
   {
    "duration": 1272,
    "start_time": "2023-10-13T01:12:44.145Z"
   },
   {
    "duration": 954,
    "start_time": "2023-10-13T01:12:45.419Z"
   },
   {
    "duration": 363,
    "start_time": "2023-10-13T01:12:46.375Z"
   },
   {
    "duration": 520,
    "start_time": "2023-10-13T01:12:46.742Z"
   },
   {
    "duration": 566,
    "start_time": "2023-10-13T01:12:47.264Z"
   },
   {
    "duration": 211,
    "start_time": "2023-10-13T01:12:47.832Z"
   },
   {
    "duration": 165,
    "start_time": "2023-10-13T01:12:48.045Z"
   },
   {
    "duration": 195,
    "start_time": "2023-10-13T01:12:48.212Z"
   },
   {
    "duration": 94,
    "start_time": "2023-10-13T01:12:48.408Z"
   },
   {
    "duration": 152,
    "start_time": "2023-10-13T01:12:48.504Z"
   },
   {
    "duration": 397,
    "start_time": "2023-10-13T01:12:48.657Z"
   },
   {
    "duration": 275,
    "start_time": "2023-10-13T01:12:49.056Z"
   },
   {
    "duration": 299,
    "start_time": "2023-10-13T01:12:49.333Z"
   },
   {
    "duration": 525,
    "start_time": "2023-10-13T01:12:49.633Z"
   },
   {
    "duration": 284,
    "start_time": "2023-10-13T01:12:50.159Z"
   },
   {
    "duration": 3,
    "start_time": "2023-10-13T01:12:50.445Z"
   },
   {
    "duration": 408,
    "start_time": "2023-10-13T01:12:50.449Z"
   },
   {
    "duration": 18,
    "start_time": "2023-10-13T01:12:50.859Z"
   },
   {
    "duration": 5010,
    "start_time": "2023-10-13T01:12:50.878Z"
   },
   {
    "duration": 19,
    "start_time": "2023-10-13T01:12:55.894Z"
   },
   {
    "duration": 36,
    "start_time": "2023-10-13T01:12:55.915Z"
   },
   {
    "duration": 103,
    "start_time": "2023-10-13T01:12:55.953Z"
   },
   {
    "duration": 1471,
    "start_time": "2023-10-13T01:17:13.814Z"
   },
   {
    "duration": 994,
    "start_time": "2023-10-13T01:17:15.287Z"
   },
   {
    "duration": 337,
    "start_time": "2023-10-13T01:17:16.282Z"
   },
   {
    "duration": 517,
    "start_time": "2023-10-13T01:17:16.621Z"
   },
   {
    "duration": 613,
    "start_time": "2023-10-13T01:17:17.140Z"
   },
   {
    "duration": 235,
    "start_time": "2023-10-13T01:17:17.755Z"
   },
   {
    "duration": 162,
    "start_time": "2023-10-13T01:17:17.992Z"
   },
   {
    "duration": 199,
    "start_time": "2023-10-13T01:17:18.156Z"
   },
   {
    "duration": 102,
    "start_time": "2023-10-13T01:17:18.357Z"
   },
   {
    "duration": 170,
    "start_time": "2023-10-13T01:17:18.461Z"
   },
   {
    "duration": 408,
    "start_time": "2023-10-13T01:17:18.634Z"
   },
   {
    "duration": 278,
    "start_time": "2023-10-13T01:17:19.043Z"
   },
   {
    "duration": 331,
    "start_time": "2023-10-13T01:17:19.323Z"
   },
   {
    "duration": 526,
    "start_time": "2023-10-13T01:17:19.657Z"
   },
   {
    "duration": 288,
    "start_time": "2023-10-13T01:17:20.185Z"
   },
   {
    "duration": 2,
    "start_time": "2023-10-13T01:17:20.475Z"
   },
   {
    "duration": 436,
    "start_time": "2023-10-13T01:17:20.479Z"
   },
   {
    "duration": 18,
    "start_time": "2023-10-13T01:17:20.917Z"
   },
   {
    "duration": 5139,
    "start_time": "2023-10-13T01:17:20.937Z"
   },
   {
    "duration": 20,
    "start_time": "2023-10-13T01:17:26.079Z"
   },
   {
    "duration": 24,
    "start_time": "2023-10-13T01:17:26.103Z"
   },
   {
    "duration": 130,
    "start_time": "2023-10-13T01:17:26.128Z"
   },
   {
    "duration": 126,
    "start_time": "2023-10-13T01:17:26.260Z"
   },
   {
    "duration": 0,
    "start_time": "2023-10-13T01:17:26.388Z"
   },
   {
    "duration": 0,
    "start_time": "2023-10-13T01:17:26.389Z"
   },
   {
    "duration": 0,
    "start_time": "2023-10-13T01:17:26.390Z"
   },
   {
    "duration": 0,
    "start_time": "2023-10-13T01:17:26.391Z"
   },
   {
    "duration": 0,
    "start_time": "2023-10-13T01:17:26.392Z"
   },
   {
    "duration": 0,
    "start_time": "2023-10-13T01:17:26.403Z"
   },
   {
    "duration": 6923,
    "start_time": "2023-10-14T08:17:41.956Z"
   },
   {
    "duration": 1312,
    "start_time": "2023-10-14T08:22:10.400Z"
   },
   {
    "duration": 1051,
    "start_time": "2023-10-14T08:22:11.714Z"
   },
   {
    "duration": 238,
    "start_time": "2023-10-14T08:22:12.766Z"
   },
   {
    "duration": 380,
    "start_time": "2023-10-14T08:22:13.005Z"
   },
   {
    "duration": 436,
    "start_time": "2023-10-14T08:22:13.387Z"
   },
   {
    "duration": 169,
    "start_time": "2023-10-14T08:22:13.824Z"
   },
   {
    "duration": 105,
    "start_time": "2023-10-14T08:22:13.994Z"
   },
   {
    "duration": 146,
    "start_time": "2023-10-14T08:22:14.101Z"
   },
   {
    "duration": 59,
    "start_time": "2023-10-14T08:22:14.249Z"
   },
   {
    "duration": 107,
    "start_time": "2023-10-14T08:22:14.310Z"
   },
   {
    "duration": 338,
    "start_time": "2023-10-14T08:22:14.418Z"
   },
   {
    "duration": 228,
    "start_time": "2023-10-14T08:22:14.757Z"
   },
   {
    "duration": 288,
    "start_time": "2023-10-14T08:22:14.986Z"
   },
   {
    "duration": 447,
    "start_time": "2023-10-14T08:22:15.277Z"
   },
   {
    "duration": 259,
    "start_time": "2023-10-14T08:22:15.726Z"
   },
   {
    "duration": 2,
    "start_time": "2023-10-14T08:22:15.987Z"
   },
   {
    "duration": 387,
    "start_time": "2023-10-14T08:22:15.990Z"
   },
   {
    "duration": 17,
    "start_time": "2023-10-14T08:22:16.379Z"
   },
   {
    "duration": 2415,
    "start_time": "2023-10-14T08:22:16.398Z"
   },
   {
    "duration": 18,
    "start_time": "2023-10-14T08:22:18.815Z"
   },
   {
    "duration": 12,
    "start_time": "2023-10-14T08:22:18.834Z"
   },
   {
    "duration": 71,
    "start_time": "2023-10-14T08:22:18.848Z"
   },
   {
    "duration": 381422,
    "start_time": "2023-10-14T08:22:18.921Z"
   },
   {
    "duration": 0,
    "start_time": "2023-10-14T08:28:40.345Z"
   },
   {
    "duration": 0,
    "start_time": "2023-10-14T08:28:40.346Z"
   },
   {
    "duration": 0,
    "start_time": "2023-10-14T08:28:40.347Z"
   },
   {
    "duration": 0,
    "start_time": "2023-10-14T08:28:40.348Z"
   },
   {
    "duration": 0,
    "start_time": "2023-10-14T08:28:40.349Z"
   },
   {
    "duration": 692862,
    "start_time": "2023-10-14T08:35:01.989Z"
   },
   {
    "duration": 55,
    "start_time": "2023-10-14T08:59:42.065Z"
   },
   {
    "duration": 1210,
    "start_time": "2023-10-14T08:59:54.525Z"
   },
   {
    "duration": 753,
    "start_time": "2023-10-14T08:59:55.737Z"
   },
   {
    "duration": 248,
    "start_time": "2023-10-14T08:59:56.492Z"
   },
   {
    "duration": 391,
    "start_time": "2023-10-14T08:59:56.742Z"
   },
   {
    "duration": 433,
    "start_time": "2023-10-14T08:59:57.135Z"
   },
   {
    "duration": 176,
    "start_time": "2023-10-14T08:59:57.569Z"
   },
   {
    "duration": 111,
    "start_time": "2023-10-14T08:59:57.747Z"
   },
   {
    "duration": 150,
    "start_time": "2023-10-14T08:59:57.860Z"
   },
   {
    "duration": 71,
    "start_time": "2023-10-14T08:59:58.011Z"
   },
   {
    "duration": 129,
    "start_time": "2023-10-14T08:59:58.085Z"
   },
   {
    "duration": 359,
    "start_time": "2023-10-14T08:59:58.216Z"
   },
   {
    "duration": 250,
    "start_time": "2023-10-14T08:59:58.576Z"
   },
   {
    "duration": 285,
    "start_time": "2023-10-14T08:59:58.827Z"
   },
   {
    "duration": 441,
    "start_time": "2023-10-14T08:59:59.113Z"
   },
   {
    "duration": 263,
    "start_time": "2023-10-14T08:59:59.555Z"
   },
   {
    "duration": 2,
    "start_time": "2023-10-14T08:59:59.820Z"
   },
   {
    "duration": 366,
    "start_time": "2023-10-14T08:59:59.823Z"
   },
   {
    "duration": 16,
    "start_time": "2023-10-14T09:00:00.190Z"
   },
   {
    "duration": 2749,
    "start_time": "2023-10-14T09:00:00.207Z"
   },
   {
    "duration": 18,
    "start_time": "2023-10-14T09:00:02.957Z"
   },
   {
    "duration": 13,
    "start_time": "2023-10-14T09:00:02.977Z"
   },
   {
    "duration": 75,
    "start_time": "2023-10-14T09:00:02.991Z"
   },
   {
    "duration": 364280,
    "start_time": "2023-10-14T09:00:03.067Z"
   },
   {
    "duration": 137,
    "start_time": "2023-10-14T09:06:07.349Z"
   },
   {
    "duration": 0,
    "start_time": "2023-10-14T09:06:07.488Z"
   },
   {
    "duration": 0,
    "start_time": "2023-10-14T09:06:07.489Z"
   },
   {
    "duration": 0,
    "start_time": "2023-10-14T09:06:07.490Z"
   },
   {
    "duration": 0,
    "start_time": "2023-10-14T09:06:07.491Z"
   },
   {
    "duration": 52034,
    "start_time": "2023-10-14T09:06:27.945Z"
   },
   {
    "duration": 3,
    "start_time": "2023-10-14T09:08:58.291Z"
   },
   {
    "duration": 970604,
    "start_time": "2023-10-14T09:09:40.460Z"
   },
   {
    "duration": 12478,
    "start_time": "2023-10-14T09:25:51.066Z"
   },
   {
    "duration": 95,
    "start_time": "2023-10-14T09:26:03.546Z"
   },
   {
    "duration": 0,
    "start_time": "2023-10-14T09:26:03.643Z"
   },
   {
    "duration": 0,
    "start_time": "2023-10-14T09:26:03.645Z"
   },
   {
    "duration": 0,
    "start_time": "2023-10-14T09:26:03.647Z"
   },
   {
    "duration": 4,
    "start_time": "2023-10-14T10:00:49.209Z"
   },
   {
    "duration": 239867,
    "start_time": "2023-10-14T10:01:04.077Z"
   },
   {
    "duration": 10,
    "start_time": "2023-10-14T10:05:03.952Z"
   },
   {
    "duration": 4,
    "start_time": "2023-10-14T10:07:37.801Z"
   },
   {
    "duration": 64,
    "start_time": "2023-10-14T10:08:16.837Z"
   },
   {
    "duration": 6,
    "start_time": "2023-10-14T10:09:40.962Z"
   },
   {
    "duration": 1157,
    "start_time": "2023-10-14T10:10:09.671Z"
   },
   {
    "duration": 720,
    "start_time": "2023-10-14T10:10:10.830Z"
   },
   {
    "duration": 261,
    "start_time": "2023-10-14T10:10:11.552Z"
   },
   {
    "duration": 369,
    "start_time": "2023-10-14T10:10:11.815Z"
   },
   {
    "duration": 484,
    "start_time": "2023-10-14T10:10:12.186Z"
   },
   {
    "duration": 175,
    "start_time": "2023-10-14T10:10:12.672Z"
   },
   {
    "duration": 104,
    "start_time": "2023-10-14T10:10:12.849Z"
   },
   {
    "duration": 136,
    "start_time": "2023-10-14T10:10:12.954Z"
   },
   {
    "duration": 66,
    "start_time": "2023-10-14T10:10:13.091Z"
   },
   {
    "duration": 97,
    "start_time": "2023-10-14T10:10:13.159Z"
   },
   {
    "duration": 320,
    "start_time": "2023-10-14T10:10:13.258Z"
   },
   {
    "duration": 225,
    "start_time": "2023-10-14T10:10:13.579Z"
   },
   {
    "duration": 283,
    "start_time": "2023-10-14T10:10:13.805Z"
   },
   {
    "duration": 425,
    "start_time": "2023-10-14T10:10:14.089Z"
   },
   {
    "duration": 245,
    "start_time": "2023-10-14T10:10:14.515Z"
   },
   {
    "duration": 3,
    "start_time": "2023-10-14T10:10:14.761Z"
   },
   {
    "duration": 341,
    "start_time": "2023-10-14T10:10:14.765Z"
   },
   {
    "duration": 14,
    "start_time": "2023-10-14T10:10:15.108Z"
   },
   {
    "duration": 2374,
    "start_time": "2023-10-14T10:10:15.123Z"
   },
   {
    "duration": 18,
    "start_time": "2023-10-14T10:10:17.499Z"
   },
   {
    "duration": 17,
    "start_time": "2023-10-14T10:10:17.519Z"
   },
   {
    "duration": 72,
    "start_time": "2023-10-14T10:10:17.538Z"
   },
   {
    "duration": 708440,
    "start_time": "2023-10-14T10:10:17.611Z"
   },
   {
    "duration": 3,
    "start_time": "2023-10-14T10:22:06.052Z"
   },
   {
    "duration": 270,
    "start_time": "2023-10-14T10:22:06.056Z"
   },
   {
    "duration": 6122,
    "start_time": "2023-10-14T10:22:06.327Z"
   },
   {
    "duration": 9,
    "start_time": "2023-10-14T10:22:12.453Z"
   },
   {
    "duration": 0,
    "start_time": "2023-10-14T10:22:12.464Z"
   },
   {
    "duration": 0,
    "start_time": "2023-10-14T10:22:12.466Z"
   },
   {
    "duration": 14030,
    "start_time": "2023-10-14T10:24:22.211Z"
   },
   {
    "duration": 22101,
    "start_time": "2023-10-14T10:25:30.940Z"
   },
   {
    "duration": 60794,
    "start_time": "2023-10-14T10:25:53.047Z"
   },
   {
    "duration": 1132,
    "start_time": "2023-10-14T10:27:54.807Z"
   },
   {
    "duration": 735,
    "start_time": "2023-10-14T10:27:55.941Z"
   },
   {
    "duration": 230,
    "start_time": "2023-10-14T10:27:56.677Z"
   },
   {
    "duration": 365,
    "start_time": "2023-10-14T10:27:56.909Z"
   },
   {
    "duration": 416,
    "start_time": "2023-10-14T10:27:57.276Z"
   },
   {
    "duration": 168,
    "start_time": "2023-10-14T10:27:57.694Z"
   },
   {
    "duration": 104,
    "start_time": "2023-10-14T10:27:57.864Z"
   },
   {
    "duration": 141,
    "start_time": "2023-10-14T10:27:57.970Z"
   },
   {
    "duration": 65,
    "start_time": "2023-10-14T10:27:58.113Z"
   },
   {
    "duration": 97,
    "start_time": "2023-10-14T10:27:58.179Z"
   },
   {
    "duration": 315,
    "start_time": "2023-10-14T10:27:58.278Z"
   },
   {
    "duration": 229,
    "start_time": "2023-10-14T10:27:58.595Z"
   },
   {
    "duration": 277,
    "start_time": "2023-10-14T10:27:58.826Z"
   },
   {
    "duration": 421,
    "start_time": "2023-10-14T10:27:59.106Z"
   },
   {
    "duration": 243,
    "start_time": "2023-10-14T10:27:59.528Z"
   },
   {
    "duration": 2,
    "start_time": "2023-10-14T10:27:59.772Z"
   },
   {
    "duration": 342,
    "start_time": "2023-10-14T10:27:59.776Z"
   },
   {
    "duration": 21,
    "start_time": "2023-10-14T10:28:00.120Z"
   },
   {
    "duration": 2422,
    "start_time": "2023-10-14T10:28:00.143Z"
   },
   {
    "duration": 18,
    "start_time": "2023-10-14T10:28:02.567Z"
   },
   {
    "duration": 12,
    "start_time": "2023-10-14T10:28:02.587Z"
   },
   {
    "duration": 69,
    "start_time": "2023-10-14T10:28:02.601Z"
   },
   {
    "duration": 1001785,
    "start_time": "2023-10-14T10:28:02.672Z"
   },
   {
    "duration": 3,
    "start_time": "2023-10-14T10:44:44.459Z"
   },
   {
    "duration": 10677,
    "start_time": "2023-10-14T10:44:44.463Z"
   },
   {
    "duration": 53305,
    "start_time": "2023-10-14T10:44:55.141Z"
   },
   {
    "duration": 6802,
    "start_time": "2023-10-14T10:45:48.539Z"
   },
   {
    "duration": 143,
    "start_time": "2023-10-14T10:45:55.342Z"
   },
   {
    "duration": 0,
    "start_time": "2023-10-14T10:45:55.486Z"
   },
   {
    "duration": 0,
    "start_time": "2023-10-14T10:45:55.487Z"
   },
   {
    "duration": 11035,
    "start_time": "2023-10-14T10:46:43.610Z"
   },
   {
    "duration": 4,
    "start_time": "2023-10-14T10:48:02.882Z"
   },
   {
    "duration": 57729,
    "start_time": "2023-10-14T10:48:59.616Z"
   },
   {
    "duration": 10188,
    "start_time": "2023-10-14T10:50:48.352Z"
   },
   {
    "duration": 57612,
    "start_time": "2023-10-14T10:50:58.547Z"
   },
   {
    "duration": 3,
    "start_time": "2023-10-14T10:51:56.161Z"
   },
   {
    "duration": 63,
    "start_time": "2023-10-14T10:54:04.851Z"
   },
   {
    "duration": 6,
    "start_time": "2023-10-14T10:54:07.355Z"
   },
   {
    "duration": 68,
    "start_time": "2023-10-14T10:54:56.006Z"
   },
   {
    "duration": 9,
    "start_time": "2023-10-14T10:55:32.218Z"
   },
   {
    "duration": 63,
    "start_time": "2023-10-14T10:55:47.583Z"
   },
   {
    "duration": 4,
    "start_time": "2023-10-14T10:56:02.881Z"
   },
   {
    "duration": 61,
    "start_time": "2023-10-14T10:56:24.307Z"
   },
   {
    "duration": 5,
    "start_time": "2023-10-14T10:56:37.783Z"
   },
   {
    "duration": 61,
    "start_time": "2023-10-14T10:56:59.129Z"
   },
   {
    "duration": 63932,
    "start_time": "2023-10-14T11:03:50.520Z"
   },
   {
    "duration": 3,
    "start_time": "2023-10-14T11:05:56.286Z"
   },
   {
    "duration": 3,
    "start_time": "2023-10-14T11:11:03.417Z"
   },
   {
    "duration": 1200,
    "start_time": "2023-10-14T11:12:51.926Z"
   },
   {
    "duration": 733,
    "start_time": "2023-10-14T11:12:53.127Z"
   },
   {
    "duration": 238,
    "start_time": "2023-10-14T11:12:53.861Z"
   },
   {
    "duration": 394,
    "start_time": "2023-10-14T11:12:54.100Z"
   },
   {
    "duration": 430,
    "start_time": "2023-10-14T11:12:54.496Z"
   },
   {
    "duration": 166,
    "start_time": "2023-10-14T11:12:54.927Z"
   },
   {
    "duration": 107,
    "start_time": "2023-10-14T11:12:55.094Z"
   },
   {
    "duration": 151,
    "start_time": "2023-10-14T11:12:55.202Z"
   },
   {
    "duration": 58,
    "start_time": "2023-10-14T11:12:55.354Z"
   },
   {
    "duration": 101,
    "start_time": "2023-10-14T11:12:55.415Z"
   },
   {
    "duration": 331,
    "start_time": "2023-10-14T11:12:55.517Z"
   },
   {
    "duration": 222,
    "start_time": "2023-10-14T11:12:55.850Z"
   },
   {
    "duration": 302,
    "start_time": "2023-10-14T11:12:56.074Z"
   },
   {
    "duration": 424,
    "start_time": "2023-10-14T11:12:56.377Z"
   },
   {
    "duration": 246,
    "start_time": "2023-10-14T11:12:56.803Z"
   },
   {
    "duration": 3,
    "start_time": "2023-10-14T11:12:57.051Z"
   },
   {
    "duration": 347,
    "start_time": "2023-10-14T11:12:57.055Z"
   },
   {
    "duration": 16,
    "start_time": "2023-10-14T11:12:57.404Z"
   },
   {
    "duration": 2485,
    "start_time": "2023-10-14T11:12:57.421Z"
   },
   {
    "duration": 16,
    "start_time": "2023-10-14T11:12:59.908Z"
   },
   {
    "duration": 11,
    "start_time": "2023-10-14T11:12:59.926Z"
   },
   {
    "duration": 70,
    "start_time": "2023-10-14T11:12:59.939Z"
   },
   {
    "duration": 121,
    "start_time": "2023-10-14T11:13:00.010Z"
   },
   {
    "duration": 0,
    "start_time": "2023-10-14T11:13:00.133Z"
   },
   {
    "duration": 0,
    "start_time": "2023-10-14T11:13:00.134Z"
   },
   {
    "duration": 0,
    "start_time": "2023-10-14T11:13:00.135Z"
   },
   {
    "duration": 0,
    "start_time": "2023-10-14T11:13:00.136Z"
   },
   {
    "duration": 0,
    "start_time": "2023-10-14T11:13:00.139Z"
   },
   {
    "duration": 0,
    "start_time": "2023-10-14T11:13:00.140Z"
   },
   {
    "duration": 0,
    "start_time": "2023-10-14T11:13:00.141Z"
   },
   {
    "duration": 1159,
    "start_time": "2023-10-14T11:24:45.378Z"
   },
   {
    "duration": 729,
    "start_time": "2023-10-14T11:24:46.540Z"
   },
   {
    "duration": 236,
    "start_time": "2023-10-14T11:24:47.270Z"
   },
   {
    "duration": 387,
    "start_time": "2023-10-14T11:24:47.508Z"
   },
   {
    "duration": 435,
    "start_time": "2023-10-14T11:24:47.896Z"
   },
   {
    "duration": 172,
    "start_time": "2023-10-14T11:24:48.332Z"
   },
   {
    "duration": 144,
    "start_time": "2023-10-14T11:24:48.505Z"
   },
   {
    "duration": 148,
    "start_time": "2023-10-14T11:24:48.650Z"
   },
   {
    "duration": 63,
    "start_time": "2023-10-14T11:24:48.799Z"
   },
   {
    "duration": 102,
    "start_time": "2023-10-14T11:24:48.865Z"
   },
   {
    "duration": 310,
    "start_time": "2023-10-14T11:24:48.968Z"
   },
   {
    "duration": 233,
    "start_time": "2023-10-14T11:24:49.280Z"
   },
   {
    "duration": 300,
    "start_time": "2023-10-14T11:24:49.515Z"
   },
   {
    "duration": 430,
    "start_time": "2023-10-14T11:24:49.817Z"
   },
   {
    "duration": 256,
    "start_time": "2023-10-14T11:24:50.249Z"
   },
   {
    "duration": 2,
    "start_time": "2023-10-14T11:24:50.506Z"
   },
   {
    "duration": 364,
    "start_time": "2023-10-14T11:24:50.509Z"
   },
   {
    "duration": 15,
    "start_time": "2023-10-14T11:24:50.875Z"
   },
   {
    "duration": 2499,
    "start_time": "2023-10-14T11:24:50.891Z"
   },
   {
    "duration": 17,
    "start_time": "2023-10-14T11:24:53.392Z"
   },
   {
    "duration": 14,
    "start_time": "2023-10-14T11:24:53.410Z"
   },
   {
    "duration": 71,
    "start_time": "2023-10-14T11:24:53.425Z"
   },
   {
    "duration": 1166,
    "start_time": "2023-10-14T11:40:43.244Z"
   },
   {
    "duration": 719,
    "start_time": "2023-10-14T11:40:44.411Z"
   },
   {
    "duration": 242,
    "start_time": "2023-10-14T11:40:45.131Z"
   },
   {
    "duration": 377,
    "start_time": "2023-10-14T11:40:45.374Z"
   },
   {
    "duration": 428,
    "start_time": "2023-10-14T11:40:45.753Z"
   },
   {
    "duration": 189,
    "start_time": "2023-10-14T11:40:46.182Z"
   },
   {
    "duration": 108,
    "start_time": "2023-10-14T11:40:46.373Z"
   },
   {
    "duration": 148,
    "start_time": "2023-10-14T11:40:46.482Z"
   },
   {
    "duration": 58,
    "start_time": "2023-10-14T11:40:46.631Z"
   },
   {
    "duration": 102,
    "start_time": "2023-10-14T11:40:46.690Z"
   },
   {
    "duration": 336,
    "start_time": "2023-10-14T11:40:46.793Z"
   },
   {
    "duration": 229,
    "start_time": "2023-10-14T11:40:47.131Z"
   },
   {
    "duration": 289,
    "start_time": "2023-10-14T11:40:47.362Z"
   },
   {
    "duration": 424,
    "start_time": "2023-10-14T11:40:47.653Z"
   },
   {
    "duration": 243,
    "start_time": "2023-10-14T11:40:48.078Z"
   },
   {
    "duration": 3,
    "start_time": "2023-10-14T11:40:48.322Z"
   },
   {
    "duration": 346,
    "start_time": "2023-10-14T11:40:48.326Z"
   },
   {
    "duration": 16,
    "start_time": "2023-10-14T11:40:48.673Z"
   },
   {
    "duration": 2389,
    "start_time": "2023-10-14T11:40:48.690Z"
   },
   {
    "duration": 16,
    "start_time": "2023-10-14T11:40:51.081Z"
   },
   {
    "duration": 11,
    "start_time": "2023-10-14T11:40:51.099Z"
   },
   {
    "duration": 74,
    "start_time": "2023-10-14T11:40:51.111Z"
   },
   {
    "duration": 1140,
    "start_time": "2023-10-14T11:43:26.794Z"
   },
   {
    "duration": 723,
    "start_time": "2023-10-14T11:43:27.935Z"
   },
   {
    "duration": 254,
    "start_time": "2023-10-14T11:43:28.659Z"
   },
   {
    "duration": 362,
    "start_time": "2023-10-14T11:43:28.914Z"
   },
   {
    "duration": 427,
    "start_time": "2023-10-14T11:43:29.278Z"
   },
   {
    "duration": 166,
    "start_time": "2023-10-14T11:43:29.707Z"
   },
   {
    "duration": 116,
    "start_time": "2023-10-14T11:43:29.875Z"
   },
   {
    "duration": 151,
    "start_time": "2023-10-14T11:43:29.992Z"
   },
   {
    "duration": 59,
    "start_time": "2023-10-14T11:43:30.145Z"
   },
   {
    "duration": 105,
    "start_time": "2023-10-14T11:43:30.205Z"
   },
   {
    "duration": 319,
    "start_time": "2023-10-14T11:43:30.312Z"
   },
   {
    "duration": 238,
    "start_time": "2023-10-14T11:43:30.632Z"
   },
   {
    "duration": 280,
    "start_time": "2023-10-14T11:43:30.871Z"
   },
   {
    "duration": 429,
    "start_time": "2023-10-14T11:43:31.154Z"
   },
   {
    "duration": 242,
    "start_time": "2023-10-14T11:43:31.585Z"
   },
   {
    "duration": 2,
    "start_time": "2023-10-14T11:43:31.829Z"
   },
   {
    "duration": 340,
    "start_time": "2023-10-14T11:43:31.840Z"
   },
   {
    "duration": 15,
    "start_time": "2023-10-14T11:43:32.181Z"
   },
   {
    "duration": 2418,
    "start_time": "2023-10-14T11:43:32.197Z"
   },
   {
    "duration": 16,
    "start_time": "2023-10-14T11:43:34.617Z"
   },
   {
    "duration": 11,
    "start_time": "2023-10-14T11:43:34.635Z"
   },
   {
    "duration": 66,
    "start_time": "2023-10-14T11:43:34.648Z"
   },
   {
    "duration": 456644,
    "start_time": "2023-10-14T11:43:34.715Z"
   },
   {
    "duration": 3,
    "start_time": "2023-10-14T11:51:11.360Z"
   },
   {
    "duration": 181,
    "start_time": "2023-10-14T11:51:11.365Z"
   },
   {
    "duration": 7,
    "start_time": "2023-10-14T11:51:11.548Z"
   },
   {
    "duration": 0,
    "start_time": "2023-10-14T11:51:11.557Z"
   },
   {
    "duration": 0,
    "start_time": "2023-10-14T11:51:11.558Z"
   },
   {
    "duration": 0,
    "start_time": "2023-10-14T11:51:11.558Z"
   },
   {
    "duration": 62225,
    "start_time": "2023-10-14T11:53:05.542Z"
   },
   {
    "duration": 3,
    "start_time": "2023-10-14T11:54:07.769Z"
   },
   {
    "duration": 9,
    "start_time": "2023-10-14T11:56:56.847Z"
   },
   {
    "duration": 68,
    "start_time": "2023-10-14T11:59:57.068Z"
   },
   {
    "duration": 70,
    "start_time": "2023-10-14T12:00:13.269Z"
   },
   {
    "duration": 9,
    "start_time": "2023-10-14T12:00:18.719Z"
   },
   {
    "duration": 16343,
    "start_time": "2023-10-14T12:01:22.499Z"
   },
   {
    "duration": 1182,
    "start_time": "2023-10-14T12:05:05.464Z"
   },
   {
    "duration": 3,
    "start_time": "2023-10-14T12:13:27.353Z"
   },
   {
    "duration": 3,
    "start_time": "2023-10-14T12:13:40.814Z"
   },
   {
    "duration": 65,
    "start_time": "2023-10-14T12:16:05.016Z"
   },
   {
    "duration": 66,
    "start_time": "2023-10-14T12:17:05.923Z"
   },
   {
    "duration": 3,
    "start_time": "2023-10-14T12:17:08.409Z"
   },
   {
    "duration": 74,
    "start_time": "2023-10-14T12:18:32.289Z"
   },
   {
    "duration": 13107,
    "start_time": "2023-10-14T12:24:50.047Z"
   },
   {
    "duration": 13600,
    "start_time": "2023-10-14T12:25:59.241Z"
   },
   {
    "duration": 40,
    "start_time": "2023-10-14T12:32:42.593Z"
   },
   {
    "duration": 4,
    "start_time": "2023-10-14T12:32:46.444Z"
   },
   {
    "duration": 8,
    "start_time": "2023-10-14T12:58:27.996Z"
   },
   {
    "duration": 1257,
    "start_time": "2023-10-14T13:03:42.812Z"
   },
   {
    "duration": 746,
    "start_time": "2023-10-14T13:03:44.071Z"
   },
   {
    "duration": 247,
    "start_time": "2023-10-14T13:03:44.819Z"
   },
   {
    "duration": 399,
    "start_time": "2023-10-14T13:03:45.068Z"
   },
   {
    "duration": 463,
    "start_time": "2023-10-14T13:03:45.469Z"
   },
   {
    "duration": 180,
    "start_time": "2023-10-14T13:03:45.933Z"
   },
   {
    "duration": 122,
    "start_time": "2023-10-14T13:03:46.114Z"
   },
   {
    "duration": 178,
    "start_time": "2023-10-14T13:03:46.239Z"
   },
   {
    "duration": 70,
    "start_time": "2023-10-14T13:03:46.418Z"
   },
   {
    "duration": 113,
    "start_time": "2023-10-14T13:03:46.489Z"
   },
   {
    "duration": 367,
    "start_time": "2023-10-14T13:03:46.604Z"
   },
   {
    "duration": 244,
    "start_time": "2023-10-14T13:03:46.973Z"
   },
   {
    "duration": 300,
    "start_time": "2023-10-14T13:03:47.218Z"
   },
   {
    "duration": 488,
    "start_time": "2023-10-14T13:03:47.521Z"
   },
   {
    "duration": 273,
    "start_time": "2023-10-14T13:03:48.011Z"
   },
   {
    "duration": 2,
    "start_time": "2023-10-14T13:03:48.285Z"
   },
   {
    "duration": 380,
    "start_time": "2023-10-14T13:03:48.289Z"
   },
   {
    "duration": 15,
    "start_time": "2023-10-14T13:03:48.670Z"
   },
   {
    "duration": 2530,
    "start_time": "2023-10-14T13:03:48.686Z"
   },
   {
    "duration": 20,
    "start_time": "2023-10-14T13:03:51.218Z"
   },
   {
    "duration": 36,
    "start_time": "2023-10-14T13:03:51.240Z"
   },
   {
    "duration": 80,
    "start_time": "2023-10-14T13:03:51.278Z"
   },
   {
    "duration": 118,
    "start_time": "2023-10-14T13:03:51.361Z"
   },
   {
    "duration": 0,
    "start_time": "2023-10-14T13:03:51.480Z"
   },
   {
    "duration": 0,
    "start_time": "2023-10-14T13:03:51.481Z"
   },
   {
    "duration": 0,
    "start_time": "2023-10-14T13:03:51.482Z"
   },
   {
    "duration": 0,
    "start_time": "2023-10-14T13:03:51.483Z"
   },
   {
    "duration": 1,
    "start_time": "2023-10-14T13:03:51.484Z"
   },
   {
    "duration": 0,
    "start_time": "2023-10-14T13:03:51.485Z"
   },
   {
    "duration": 0,
    "start_time": "2023-10-14T13:03:51.486Z"
   },
   {
    "duration": 82,
    "start_time": "2023-10-14T13:07:46.944Z"
   },
   {
    "duration": 407999,
    "start_time": "2023-10-14T13:12:52.961Z"
   },
   {
    "duration": 8,
    "start_time": "2023-10-14T13:19:40.962Z"
   },
   {
    "duration": 1175,
    "start_time": "2023-10-14T13:27:43.551Z"
   },
   {
    "duration": 754,
    "start_time": "2023-10-14T13:27:44.727Z"
   },
   {
    "duration": 252,
    "start_time": "2023-10-14T13:27:45.483Z"
   },
   {
    "duration": 413,
    "start_time": "2023-10-14T13:27:45.737Z"
   },
   {
    "duration": 482,
    "start_time": "2023-10-14T13:27:46.151Z"
   },
   {
    "duration": 174,
    "start_time": "2023-10-14T13:27:46.635Z"
   },
   {
    "duration": 112,
    "start_time": "2023-10-14T13:27:46.811Z"
   },
   {
    "duration": 150,
    "start_time": "2023-10-14T13:27:46.925Z"
   },
   {
    "duration": 68,
    "start_time": "2023-10-14T13:27:47.077Z"
   },
   {
    "duration": 101,
    "start_time": "2023-10-14T13:27:47.148Z"
   },
   {
    "duration": 340,
    "start_time": "2023-10-14T13:27:47.250Z"
   },
   {
    "duration": 237,
    "start_time": "2023-10-14T13:27:47.592Z"
   },
   {
    "duration": 283,
    "start_time": "2023-10-14T13:27:47.830Z"
   },
   {
    "duration": 446,
    "start_time": "2023-10-14T13:27:48.114Z"
   },
   {
    "duration": 254,
    "start_time": "2023-10-14T13:27:48.561Z"
   },
   {
    "duration": 2,
    "start_time": "2023-10-14T13:27:48.817Z"
   },
   {
    "duration": 351,
    "start_time": "2023-10-14T13:27:48.820Z"
   },
   {
    "duration": 15,
    "start_time": "2023-10-14T13:27:49.173Z"
   },
   {
    "duration": 2374,
    "start_time": "2023-10-14T13:27:49.189Z"
   },
   {
    "duration": 19,
    "start_time": "2023-10-14T13:27:51.565Z"
   },
   {
    "duration": 14,
    "start_time": "2023-10-14T13:27:51.586Z"
   },
   {
    "duration": 78,
    "start_time": "2023-10-14T13:27:51.602Z"
   },
   {
    "duration": 332490,
    "start_time": "2023-10-14T13:27:51.682Z"
   },
   {
    "duration": 74,
    "start_time": "2023-10-14T13:33:24.174Z"
   },
   {
    "duration": 0,
    "start_time": "2023-10-14T13:33:24.249Z"
   },
   {
    "duration": 0,
    "start_time": "2023-10-14T13:33:24.250Z"
   },
   {
    "duration": 0,
    "start_time": "2023-10-14T13:33:24.252Z"
   },
   {
    "duration": 0,
    "start_time": "2023-10-14T13:33:24.253Z"
   },
   {
    "duration": 0,
    "start_time": "2023-10-14T13:33:24.253Z"
   },
   {
    "duration": 0,
    "start_time": "2023-10-14T13:33:24.254Z"
   },
   {
    "duration": 0,
    "start_time": "2023-10-14T13:33:24.255Z"
   },
   {
    "duration": 3,
    "start_time": "2023-10-14T13:35:02.382Z"
   },
   {
    "duration": 50,
    "start_time": "2023-10-14T13:35:05.479Z"
   },
   {
    "duration": 65959,
    "start_time": "2023-10-14T13:35:23.300Z"
   },
   {
    "duration": 2,
    "start_time": "2023-10-14T13:36:29.261Z"
   },
   {
    "duration": 81,
    "start_time": "2023-10-14T13:36:29.265Z"
   },
   {
    "duration": 3,
    "start_time": "2023-10-14T13:36:29.348Z"
   },
   {
    "duration": 14894,
    "start_time": "2023-10-14T13:36:29.352Z"
   },
   {
    "duration": 5,
    "start_time": "2023-10-14T13:36:44.247Z"
   },
   {
    "duration": 165,
    "start_time": "2023-10-14T13:36:44.254Z"
   },
   {
    "duration": 18344,
    "start_time": "2023-10-14T13:37:45.600Z"
   },
   {
    "duration": 18164,
    "start_time": "2023-10-14T13:42:53.177Z"
   },
   {
    "duration": 102398,
    "start_time": "2023-10-14T13:43:38.345Z"
   },
   {
    "duration": 3,
    "start_time": "2023-10-14T13:48:04.717Z"
   },
   {
    "duration": 12,
    "start_time": "2023-10-14T13:48:16.177Z"
   },
   {
    "duration": 18691,
    "start_time": "2023-10-14T13:48:53.066Z"
   },
   {
    "duration": 18244,
    "start_time": "2023-10-14T13:49:50.902Z"
   },
   {
    "duration": 22282,
    "start_time": "2023-10-14T13:52:59.067Z"
   },
   {
    "duration": 18474,
    "start_time": "2023-10-14T13:53:33.167Z"
   },
   {
    "duration": 3,
    "start_time": "2023-10-14T14:06:32.993Z"
   },
   {
    "duration": 22111,
    "start_time": "2023-10-14T14:10:35.153Z"
   },
   {
    "duration": 18189,
    "start_time": "2023-10-14T14:31:28.155Z"
   },
   {
    "duration": 21354,
    "start_time": "2023-10-14T14:32:01.393Z"
   },
   {
    "duration": 70,
    "start_time": "2023-10-14T14:41:18.592Z"
   },
   {
    "duration": 1797,
    "start_time": "2023-10-15T15:46:42.500Z"
   },
   {
    "duration": 1465,
    "start_time": "2023-10-15T15:48:07.629Z"
   },
   {
    "duration": 1291,
    "start_time": "2023-10-15T15:48:09.098Z"
   },
   {
    "duration": 263,
    "start_time": "2023-10-15T15:48:10.390Z"
   },
   {
    "duration": 469,
    "start_time": "2023-10-15T15:48:10.659Z"
   },
   {
    "duration": 474,
    "start_time": "2023-10-15T15:48:11.129Z"
   },
   {
    "duration": 209,
    "start_time": "2023-10-15T15:48:11.604Z"
   },
   {
    "duration": 150,
    "start_time": "2023-10-15T15:48:11.815Z"
   },
   {
    "duration": 205,
    "start_time": "2023-10-15T15:48:11.967Z"
   },
   {
    "duration": 90,
    "start_time": "2023-10-15T15:48:12.173Z"
   },
   {
    "duration": 144,
    "start_time": "2023-10-15T15:48:12.266Z"
   },
   {
    "duration": 376,
    "start_time": "2023-10-15T15:48:12.412Z"
   },
   {
    "duration": 248,
    "start_time": "2023-10-15T15:48:12.789Z"
   },
   {
    "duration": 325,
    "start_time": "2023-10-15T15:48:13.039Z"
   },
   {
    "duration": 520,
    "start_time": "2023-10-15T15:48:13.366Z"
   },
   {
    "duration": 283,
    "start_time": "2023-10-15T15:48:13.887Z"
   },
   {
    "duration": 3,
    "start_time": "2023-10-15T15:48:14.171Z"
   },
   {
    "duration": 451,
    "start_time": "2023-10-15T15:48:14.175Z"
   },
   {
    "duration": 27,
    "start_time": "2023-10-15T15:48:14.629Z"
   },
   {
    "duration": 7617,
    "start_time": "2023-10-15T15:48:14.657Z"
   },
   {
    "duration": 18,
    "start_time": "2023-10-15T15:48:22.275Z"
   },
   {
    "duration": 12,
    "start_time": "2023-10-15T15:48:22.295Z"
   },
   {
    "duration": 113,
    "start_time": "2023-10-15T15:48:22.309Z"
   },
   {
    "duration": 877,
    "start_time": "2023-10-15T15:48:22.424Z"
   },
   {
    "duration": 4,
    "start_time": "2023-10-15T15:48:23.303Z"
   },
   {
    "duration": 130,
    "start_time": "2023-10-15T15:48:23.308Z"
   },
   {
    "duration": 22,
    "start_time": "2023-10-15T15:48:23.439Z"
   },
   {
    "duration": 0,
    "start_time": "2023-10-15T15:48:23.463Z"
   },
   {
    "duration": 0,
    "start_time": "2023-10-15T15:48:23.464Z"
   },
   {
    "duration": 0,
    "start_time": "2023-10-15T15:48:23.466Z"
   },
   {
    "duration": 0,
    "start_time": "2023-10-15T15:48:23.467Z"
   },
   {
    "duration": 1362,
    "start_time": "2023-10-15T16:03:18.000Z"
   },
   {
    "duration": 954,
    "start_time": "2023-10-15T16:03:19.365Z"
   },
   {
    "duration": 329,
    "start_time": "2023-10-15T16:03:20.320Z"
   },
   {
    "duration": 517,
    "start_time": "2023-10-15T16:03:20.652Z"
   },
   {
    "duration": 618,
    "start_time": "2023-10-15T16:03:21.172Z"
   },
   {
    "duration": 218,
    "start_time": "2023-10-15T16:03:21.792Z"
   },
   {
    "duration": 166,
    "start_time": "2023-10-15T16:03:22.012Z"
   },
   {
    "duration": 202,
    "start_time": "2023-10-15T16:03:22.179Z"
   },
   {
    "duration": 99,
    "start_time": "2023-10-15T16:03:22.383Z"
   },
   {
    "duration": 161,
    "start_time": "2023-10-15T16:03:22.484Z"
   },
   {
    "duration": 395,
    "start_time": "2023-10-15T16:03:22.650Z"
   },
   {
    "duration": 280,
    "start_time": "2023-10-15T16:03:23.047Z"
   },
   {
    "duration": 312,
    "start_time": "2023-10-15T16:03:23.329Z"
   },
   {
    "duration": 538,
    "start_time": "2023-10-15T16:03:23.654Z"
   },
   {
    "duration": 307,
    "start_time": "2023-10-15T16:03:24.193Z"
   },
   {
    "duration": 3,
    "start_time": "2023-10-15T16:03:24.504Z"
   },
   {
    "duration": 511,
    "start_time": "2023-10-15T16:03:24.510Z"
   },
   {
    "duration": 29,
    "start_time": "2023-10-15T16:03:25.023Z"
   },
   {
    "duration": 2905,
    "start_time": "2023-10-15T16:03:25.057Z"
   },
   {
    "duration": 18,
    "start_time": "2023-10-15T16:03:27.964Z"
   },
   {
    "duration": 55,
    "start_time": "2023-10-15T16:03:27.984Z"
   },
   {
    "duration": 119,
    "start_time": "2023-10-15T16:03:28.041Z"
   },
   {
    "duration": 1282819,
    "start_time": "2023-10-15T16:03:28.162Z"
   },
   {
    "duration": 3,
    "start_time": "2023-10-15T16:24:50.982Z"
   },
   {
    "duration": 107397,
    "start_time": "2023-10-15T16:24:50.987Z"
   },
   {
    "duration": 4,
    "start_time": "2023-10-15T16:26:38.386Z"
   },
   {
    "duration": 125,
    "start_time": "2023-10-15T16:26:38.392Z"
   },
   {
    "duration": 4,
    "start_time": "2023-10-15T16:26:38.520Z"
   },
   {
    "duration": 126,
    "start_time": "2023-10-15T16:26:38.526Z"
   },
   {
    "duration": 0,
    "start_time": "2023-10-15T16:26:38.654Z"
   },
   {
    "duration": 21982,
    "start_time": "2023-10-15T16:28:28.572Z"
   },
   {
    "duration": 999,
    "start_time": "2023-10-15T16:28:50.556Z"
   },
   {
    "duration": 6,
    "start_time": "2023-10-15T16:28:51.557Z"
   },
   {
    "duration": 14794,
    "start_time": "2023-10-15T16:30:55.252Z"
   },
   {
    "duration": 6,
    "start_time": "2023-10-15T16:34:09.917Z"
   },
   {
    "duration": 1260,
    "start_time": "2023-10-15T16:35:28.261Z"
   },
   {
    "duration": 872,
    "start_time": "2023-10-15T16:35:29.523Z"
   },
   {
    "duration": 291,
    "start_time": "2023-10-15T16:35:30.397Z"
   },
   {
    "duration": 500,
    "start_time": "2023-10-15T16:35:30.690Z"
   },
   {
    "duration": 525,
    "start_time": "2023-10-15T16:35:31.191Z"
   },
   {
    "duration": 187,
    "start_time": "2023-10-15T16:35:31.718Z"
   },
   {
    "duration": 144,
    "start_time": "2023-10-15T16:35:31.907Z"
   },
   {
    "duration": 173,
    "start_time": "2023-10-15T16:35:32.053Z"
   },
   {
    "duration": 90,
    "start_time": "2023-10-15T16:35:32.228Z"
   },
   {
    "duration": 188,
    "start_time": "2023-10-15T16:35:32.320Z"
   },
   {
    "duration": 362,
    "start_time": "2023-10-15T16:35:32.510Z"
   },
   {
    "duration": 263,
    "start_time": "2023-10-15T16:35:32.874Z"
   },
   {
    "duration": 293,
    "start_time": "2023-10-15T16:35:33.143Z"
   },
   {
    "duration": 529,
    "start_time": "2023-10-15T16:35:33.440Z"
   },
   {
    "duration": 275,
    "start_time": "2023-10-15T16:35:33.970Z"
   },
   {
    "duration": 3,
    "start_time": "2023-10-15T16:35:34.247Z"
   },
   {
    "duration": 412,
    "start_time": "2023-10-15T16:35:34.252Z"
   },
   {
    "duration": 23,
    "start_time": "2023-10-15T16:35:34.667Z"
   },
   {
    "duration": 2574,
    "start_time": "2023-10-15T16:35:34.692Z"
   },
   {
    "duration": 18,
    "start_time": "2023-10-15T16:35:37.268Z"
   },
   {
    "duration": 23,
    "start_time": "2023-10-15T16:35:37.288Z"
   },
   {
    "duration": 102,
    "start_time": "2023-10-15T16:35:37.313Z"
   },
   {
    "duration": 491532,
    "start_time": "2023-10-15T16:35:37.418Z"
   },
   {
    "duration": 4,
    "start_time": "2023-10-15T16:43:48.951Z"
   },
   {
    "duration": 80714,
    "start_time": "2023-10-15T16:43:48.956Z"
   },
   {
    "duration": 4,
    "start_time": "2023-10-15T16:45:09.671Z"
   },
   {
    "duration": 24188,
    "start_time": "2023-10-15T16:45:09.676Z"
   },
   {
    "duration": 14494,
    "start_time": "2023-10-15T16:45:33.866Z"
   },
   {
    "duration": 1001,
    "start_time": "2023-10-15T16:45:48.362Z"
   },
   {
    "duration": 84,
    "start_time": "2023-10-15T16:45:49.365Z"
   },
   {
    "duration": 1643,
    "start_time": "2023-10-16T08:27:08.628Z"
   },
   {
    "duration": 1164,
    "start_time": "2023-10-16T08:27:10.274Z"
   },
   {
    "duration": 228,
    "start_time": "2023-10-16T08:27:11.440Z"
   },
   {
    "duration": 459,
    "start_time": "2023-10-16T08:27:11.670Z"
   },
   {
    "duration": 469,
    "start_time": "2023-10-16T08:27:12.131Z"
   },
   {
    "duration": 173,
    "start_time": "2023-10-16T08:27:12.602Z"
   },
   {
    "duration": 136,
    "start_time": "2023-10-16T08:27:12.776Z"
   },
   {
    "duration": 163,
    "start_time": "2023-10-16T08:27:12.914Z"
   },
   {
    "duration": 80,
    "start_time": "2023-10-16T08:27:13.078Z"
   },
   {
    "duration": 136,
    "start_time": "2023-10-16T08:27:13.161Z"
   },
   {
    "duration": 369,
    "start_time": "2023-10-16T08:27:13.299Z"
   },
   {
    "duration": 234,
    "start_time": "2023-10-16T08:27:13.669Z"
   },
   {
    "duration": 279,
    "start_time": "2023-10-16T08:27:13.904Z"
   },
   {
    "duration": 450,
    "start_time": "2023-10-16T08:27:14.185Z"
   },
   {
    "duration": 261,
    "start_time": "2023-10-16T08:27:14.637Z"
   },
   {
    "duration": 2,
    "start_time": "2023-10-16T08:27:14.900Z"
   },
   {
    "duration": 355,
    "start_time": "2023-10-16T08:27:14.903Z"
   },
   {
    "duration": 16,
    "start_time": "2023-10-16T08:27:15.260Z"
   },
   {
    "duration": 6740,
    "start_time": "2023-10-16T08:27:15.277Z"
   },
   {
    "duration": 20,
    "start_time": "2023-10-16T08:27:22.019Z"
   },
   {
    "duration": 119,
    "start_time": "2023-10-16T08:27:22.040Z"
   },
   {
    "duration": 58,
    "start_time": "2023-10-16T08:27:22.161Z"
   },
   {
    "duration": 1091,
    "start_time": "2023-10-16T08:27:22.222Z"
   },
   {
    "duration": 3,
    "start_time": "2023-10-16T08:27:23.314Z"
   },
   {
    "duration": 209,
    "start_time": "2023-10-16T08:27:23.319Z"
   },
   {
    "duration": 12,
    "start_time": "2023-10-16T08:27:23.530Z"
   },
   {
    "duration": 0,
    "start_time": "2023-10-16T08:27:23.544Z"
   },
   {
    "duration": 0,
    "start_time": "2023-10-16T08:27:23.545Z"
   },
   {
    "duration": 0,
    "start_time": "2023-10-16T08:27:23.546Z"
   },
   {
    "duration": 0,
    "start_time": "2023-10-16T08:27:23.548Z"
   },
   {
    "duration": 1281,
    "start_time": "2023-10-16T08:28:13.105Z"
   },
   {
    "duration": 865,
    "start_time": "2023-10-16T08:28:14.387Z"
   },
   {
    "duration": 277,
    "start_time": "2023-10-16T08:28:15.254Z"
   },
   {
    "duration": 448,
    "start_time": "2023-10-16T08:28:15.533Z"
   },
   {
    "duration": 506,
    "start_time": "2023-10-16T08:28:15.983Z"
   },
   {
    "duration": 190,
    "start_time": "2023-10-16T08:28:16.490Z"
   },
   {
    "duration": 142,
    "start_time": "2023-10-16T08:28:16.681Z"
   },
   {
    "duration": 177,
    "start_time": "2023-10-16T08:28:16.824Z"
   },
   {
    "duration": 84,
    "start_time": "2023-10-16T08:28:17.002Z"
   },
   {
    "duration": 187,
    "start_time": "2023-10-16T08:28:17.090Z"
   },
   {
    "duration": 397,
    "start_time": "2023-10-16T08:28:17.279Z"
   },
   {
    "duration": 247,
    "start_time": "2023-10-16T08:28:17.678Z"
   },
   {
    "duration": 279,
    "start_time": "2023-10-16T08:28:17.927Z"
   },
   {
    "duration": 467,
    "start_time": "2023-10-16T08:28:18.208Z"
   },
   {
    "duration": 251,
    "start_time": "2023-10-16T08:28:18.676Z"
   },
   {
    "duration": 3,
    "start_time": "2023-10-16T08:28:18.929Z"
   },
   {
    "duration": 359,
    "start_time": "2023-10-16T08:28:18.933Z"
   },
   {
    "duration": 22,
    "start_time": "2023-10-16T08:28:19.294Z"
   },
   {
    "duration": 2713,
    "start_time": "2023-10-16T08:28:19.318Z"
   },
   {
    "duration": 18,
    "start_time": "2023-10-16T08:28:22.033Z"
   },
   {
    "duration": 15,
    "start_time": "2023-10-16T08:28:22.053Z"
   },
   {
    "duration": 52,
    "start_time": "2023-10-16T08:28:22.070Z"
   },
   {
    "duration": 440495,
    "start_time": "2023-10-16T08:28:22.123Z"
   },
   {
    "duration": 3,
    "start_time": "2023-10-16T08:35:42.619Z"
   },
   {
    "duration": 121507,
    "start_time": "2023-10-16T08:35:42.624Z"
   },
   {
    "duration": 4,
    "start_time": "2023-10-16T08:37:44.133Z"
   },
   {
    "duration": 29782,
    "start_time": "2023-10-16T08:37:44.138Z"
   },
   {
    "duration": 102795,
    "start_time": "2023-10-16T08:38:13.923Z"
   },
   {
    "duration": 993,
    "start_time": "2023-10-16T08:39:56.720Z"
   },
   {
    "duration": 6,
    "start_time": "2023-10-16T08:39:57.715Z"
   },
   {
    "duration": 10603,
    "start_time": "2023-10-16T10:21:24.027Z"
   },
   {
    "duration": 1457,
    "start_time": "2023-10-16T10:21:49.248Z"
   },
   {
    "duration": 2588,
    "start_time": "2023-10-16T10:21:50.707Z"
   },
   {
    "duration": 1174,
    "start_time": "2023-10-16T10:21:53.296Z"
   },
   {
    "duration": 272,
    "start_time": "2023-10-16T10:21:54.471Z"
   },
   {
    "duration": 469,
    "start_time": "2023-10-16T10:21:54.746Z"
   },
   {
    "duration": 516,
    "start_time": "2023-10-16T10:21:55.216Z"
   },
   {
    "duration": 213,
    "start_time": "2023-10-16T10:21:55.733Z"
   },
   {
    "duration": 346,
    "start_time": "2023-10-16T10:21:55.948Z"
   },
   {
    "duration": 296,
    "start_time": "2023-10-16T10:21:56.295Z"
   },
   {
    "duration": 84,
    "start_time": "2023-10-16T10:21:56.593Z"
   },
   {
    "duration": 162,
    "start_time": "2023-10-16T10:21:56.679Z"
   },
   {
    "duration": 412,
    "start_time": "2023-10-16T10:21:56.843Z"
   },
   {
    "duration": 283,
    "start_time": "2023-10-16T10:21:57.257Z"
   },
   {
    "duration": 329,
    "start_time": "2023-10-16T10:21:57.542Z"
   },
   {
    "duration": 474,
    "start_time": "2023-10-16T10:21:57.873Z"
   },
   {
    "duration": 270,
    "start_time": "2023-10-16T10:21:58.348Z"
   },
   {
    "duration": 3,
    "start_time": "2023-10-16T10:21:58.620Z"
   },
   {
    "duration": 374,
    "start_time": "2023-10-16T10:21:58.624Z"
   },
   {
    "duration": 24,
    "start_time": "2023-10-16T10:21:59.000Z"
   },
   {
    "duration": 2662,
    "start_time": "2023-10-16T10:21:59.026Z"
   },
   {
    "duration": 18,
    "start_time": "2023-10-16T10:22:01.690Z"
   },
   {
    "duration": 122,
    "start_time": "2023-10-16T10:22:01.710Z"
   },
   {
    "duration": 97,
    "start_time": "2023-10-16T10:22:01.834Z"
   },
   {
    "duration": 2732,
    "start_time": "2023-10-16T10:26:45.008Z"
   },
   {
    "duration": 1240,
    "start_time": "2023-10-16T10:26:47.742Z"
   },
   {
    "duration": 5,
    "start_time": "2023-10-16T10:26:48.983Z"
   },
   {
    "duration": 890,
    "start_time": "2023-10-16T10:26:48.990Z"
   },
   {
    "duration": 301,
    "start_time": "2023-10-16T10:26:49.881Z"
   },
   {
    "duration": 449,
    "start_time": "2023-10-16T10:26:50.184Z"
   },
   {
    "duration": 501,
    "start_time": "2023-10-16T10:26:50.635Z"
   },
   {
    "duration": 224,
    "start_time": "2023-10-16T10:26:51.138Z"
   },
   {
    "duration": 161,
    "start_time": "2023-10-16T10:26:51.364Z"
   },
   {
    "duration": 176,
    "start_time": "2023-10-16T10:26:51.527Z"
   },
   {
    "duration": 78,
    "start_time": "2023-10-16T10:26:51.706Z"
   },
   {
    "duration": 138,
    "start_time": "2023-10-16T10:26:51.786Z"
   },
   {
    "duration": 358,
    "start_time": "2023-10-16T10:26:51.926Z"
   },
   {
    "duration": 245,
    "start_time": "2023-10-16T10:26:52.285Z"
   },
   {
    "duration": 282,
    "start_time": "2023-10-16T10:26:52.532Z"
   },
   {
    "duration": 472,
    "start_time": "2023-10-16T10:26:52.816Z"
   },
   {
    "duration": 312,
    "start_time": "2023-10-16T10:26:53.290Z"
   },
   {
    "duration": 3,
    "start_time": "2023-10-16T10:26:53.606Z"
   },
   {
    "duration": 370,
    "start_time": "2023-10-16T10:26:53.611Z"
   },
   {
    "duration": 25,
    "start_time": "2023-10-16T10:26:53.983Z"
   },
   {
    "duration": 2675,
    "start_time": "2023-10-16T10:26:54.010Z"
   },
   {
    "duration": 18,
    "start_time": "2023-10-16T10:26:56.687Z"
   },
   {
    "duration": 28,
    "start_time": "2023-10-16T10:26:56.706Z"
   },
   {
    "duration": 57,
    "start_time": "2023-10-16T10:26:56.736Z"
   },
   {
    "duration": 572548,
    "start_time": "2023-10-16T10:26:56.795Z"
   },
   {
    "duration": 4,
    "start_time": "2023-10-16T10:36:29.345Z"
   },
   {
    "duration": 100496,
    "start_time": "2023-10-16T10:36:29.350Z"
   },
   {
    "duration": 3,
    "start_time": "2023-10-16T10:38:09.850Z"
   },
   {
    "duration": 166,
    "start_time": "2023-10-16T10:38:09.855Z"
   },
   {
    "duration": 0,
    "start_time": "2023-10-16T10:38:10.023Z"
   },
   {
    "duration": 0,
    "start_time": "2023-10-16T10:38:10.025Z"
   },
   {
    "duration": 36452,
    "start_time": "2023-10-16T10:40:59.474Z"
   },
   {
    "duration": 15496,
    "start_time": "2023-10-16T10:41:35.927Z"
   },
   {
    "duration": 6,
    "start_time": "2023-10-16T10:41:51.425Z"
   }
  ],
  "kernelspec": {
   "display_name": "Python 3 (ipykernel)",
   "language": "python",
   "name": "python3"
  },
  "language_info": {
   "codemirror_mode": {
    "name": "ipython",
    "version": 3
   },
   "file_extension": ".py",
   "mimetype": "text/x-python",
   "name": "python",
   "nbconvert_exporter": "python",
   "pygments_lexer": "ipython3",
   "version": "3.9.13"
  },
  "toc": {
   "base_numbering": 1,
   "nav_menu": {},
   "number_sections": true,
   "sideBar": true,
   "skip_h1_title": true,
   "title_cell": "Table of Contents",
   "title_sidebar": "Contents",
   "toc_cell": false,
   "toc_position": {},
   "toc_section_display": true,
   "toc_window_display": false
  }
 },
 "nbformat": 4,
 "nbformat_minor": 2
}
