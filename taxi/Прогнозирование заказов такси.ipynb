{
 "cells": [
  {
   "cell_type": "markdown",
   "metadata": {
    "toc": true
   },
   "source": [
    "<h1>Содержание<span class=\"tocSkip\"></span></h1>\n",
    "<div class=\"toc\"><ul class=\"toc-item\"><li><span><a href=\"#Подготовка\" data-toc-modified-id=\"Подготовка-1\"><span class=\"toc-item-num\">1&nbsp;&nbsp;</span>Подготовка</a></span></li><li><span><a href=\"#Анализ\" data-toc-modified-id=\"Анализ-2\"><span class=\"toc-item-num\">2&nbsp;&nbsp;</span>Анализ</a></span></li><li><span><a href=\"#Обучение\" data-toc-modified-id=\"Обучение-3\"><span class=\"toc-item-num\">3&nbsp;&nbsp;</span>Обучение</a></span></li><li><span><a href=\"#Тестирование\" data-toc-modified-id=\"Тестирование-4\"><span class=\"toc-item-num\">4&nbsp;&nbsp;</span>Тестирование</a></span></li><li><span><a href=\"#Чек-лист-проверки\" data-toc-modified-id=\"Чек-лист-проверки-5\"><span class=\"toc-item-num\">5&nbsp;&nbsp;</span>Чек-лист проверки</a></span></li></ul></div>"
   ]
  },
  {
   "cell_type": "markdown",
   "metadata": {},
   "source": [
    "#  Прогнозирование заказов такси"
   ]
  },
  {
   "cell_type": "markdown",
   "metadata": {},
   "source": [
    "Компания «Чётенькое такси» собрала исторические данные о заказах такси в аэропортах. Чтобы привлекать больше водителей в период пиковой нагрузки, нужно спрогнозировать количество заказов такси на следующий час. Постройте модель для такого предсказания.\n",
    "\n",
    "Значение метрики *RMSE* на тестовой выборке должно быть не больше 48.\n",
    "\n",
    "Вам нужно:\n",
    "\n",
    "1. Загрузить данные и выполнить их ресемплирование по одному часу.\n",
    "2. Проанализировать данные.\n",
    "3. Обучить разные модели с различными гиперпараметрами. Сделать тестовую выборку размером 10% от исходных данных.\n",
    "4. Проверить данные на тестовой выборке и сделать выводы.\n",
    "\n",
    "\n",
    "Данные лежат в файле `taxi.csv`. Количество заказов находится в столбце `num_orders` (от англ. *number of orders*, «число заказов»)."
   ]
  },
  {
   "cell_type": "code",
   "execution_count": 1,
   "metadata": {},
   "outputs": [],
   "source": [
    "import pandas as pd\n",
    "import numpy as np\n",
    "import time\n",
    "import matplotlib.pyplot as plt\n",
    "from statsmodels.tsa.seasonal import seasonal_decompose\n",
    "from sklearn.model_selection import train_test_split\n",
    "from sklearn.metrics import mean_squared_error\n",
    "from sklearn.linear_model import LinearRegression\n",
    "from sklearn.ensemble import RandomForestRegressor\n",
    "from catboost import CatBoostRegressor\n",
    "from lightgbm import LGBMRegressor\n",
    "from sklearn.model_selection import GridSearchCV, TimeSeriesSplit\n",
    "import lightgbm as lgb"
   ]
  },
  {
   "cell_type": "markdown",
   "metadata": {},
   "source": [
    "## Подготовка"
   ]
  },
  {
   "cell_type": "code",
   "execution_count": 2,
   "metadata": {},
   "outputs": [],
   "source": [
    "data = pd.read_csv('/datasets/taxi.csv', index_col=[0], parse_dates=[0])"
   ]
  },
  {
   "cell_type": "code",
   "execution_count": 3,
   "metadata": {},
   "outputs": [
    {
     "name": "stdout",
     "output_type": "stream",
     "text": [
      "                     num_orders\n",
      "datetime                       \n",
      "2018-03-01 00:00:00           9\n",
      "2018-03-01 00:10:00          14\n",
      "2018-03-01 00:20:00          28\n",
      "2018-03-01 00:30:00          20\n",
      "2018-03-01 00:40:00          32\n"
     ]
    }
   ],
   "source": [
    "print(data.head())"
   ]
  },
  {
   "cell_type": "code",
   "execution_count": 4,
   "metadata": {
    "scrolled": true
   },
   "outputs": [
    {
     "data": {
      "text/html": [
       "<div>\n",
       "<style scoped>\n",
       "    .dataframe tbody tr th:only-of-type {\n",
       "        vertical-align: middle;\n",
       "    }\n",
       "\n",
       "    .dataframe tbody tr th {\n",
       "        vertical-align: top;\n",
       "    }\n",
       "\n",
       "    .dataframe thead th {\n",
       "        text-align: right;\n",
       "    }\n",
       "</style>\n",
       "<table border=\"1\" class=\"dataframe\">\n",
       "  <thead>\n",
       "    <tr style=\"text-align: right;\">\n",
       "      <th></th>\n",
       "      <th>num_orders</th>\n",
       "    </tr>\n",
       "  </thead>\n",
       "  <tbody>\n",
       "    <tr>\n",
       "      <th>count</th>\n",
       "      <td>26496.000000</td>\n",
       "    </tr>\n",
       "    <tr>\n",
       "      <th>mean</th>\n",
       "      <td>14.070463</td>\n",
       "    </tr>\n",
       "    <tr>\n",
       "      <th>std</th>\n",
       "      <td>9.211330</td>\n",
       "    </tr>\n",
       "    <tr>\n",
       "      <th>min</th>\n",
       "      <td>0.000000</td>\n",
       "    </tr>\n",
       "    <tr>\n",
       "      <th>25%</th>\n",
       "      <td>8.000000</td>\n",
       "    </tr>\n",
       "    <tr>\n",
       "      <th>50%</th>\n",
       "      <td>13.000000</td>\n",
       "    </tr>\n",
       "    <tr>\n",
       "      <th>75%</th>\n",
       "      <td>19.000000</td>\n",
       "    </tr>\n",
       "    <tr>\n",
       "      <th>max</th>\n",
       "      <td>119.000000</td>\n",
       "    </tr>\n",
       "  </tbody>\n",
       "</table>\n",
       "</div>"
      ],
      "text/plain": [
       "         num_orders\n",
       "count  26496.000000\n",
       "mean      14.070463\n",
       "std        9.211330\n",
       "min        0.000000\n",
       "25%        8.000000\n",
       "50%       13.000000\n",
       "75%       19.000000\n",
       "max      119.000000"
      ]
     },
     "execution_count": 4,
     "metadata": {},
     "output_type": "execute_result"
    }
   ],
   "source": [
    "data.describe()"
   ]
  },
  {
   "cell_type": "code",
   "execution_count": 5,
   "metadata": {
    "scrolled": true
   },
   "outputs": [
    {
     "name": "stdout",
     "output_type": "stream",
     "text": [
      "<class 'pandas.core.frame.DataFrame'>\n",
      "DatetimeIndex: 26496 entries, 2018-03-01 00:00:00 to 2018-08-31 23:50:00\n",
      "Data columns (total 1 columns):\n",
      " #   Column      Non-Null Count  Dtype\n",
      "---  ------      --------------  -----\n",
      " 0   num_orders  26496 non-null  int64\n",
      "dtypes: int64(1)\n",
      "memory usage: 414.0 KB\n"
     ]
    }
   ],
   "source": [
    "data.info()"
   ]
  },
  {
   "cell_type": "markdown",
   "metadata": {},
   "source": [
    "**Выводы**\n",
    "\n",
    "- Данные содержат информацию о заказах такси с марта 2018 года по август 2018 года.\n",
    "- Таблица содержит 1 стоблец и 26496 строк\n",
    "- Данные полные, пропусков нет."
   ]
  },
  {
   "cell_type": "markdown",
   "metadata": {},
   "source": [
    "**Ресемплирование по одному часу**"
   ]
  },
  {
   "cell_type": "code",
   "execution_count": 6,
   "metadata": {},
   "outputs": [],
   "source": [
    "data = data.resample('1H').sum()"
   ]
  },
  {
   "cell_type": "markdown",
   "metadata": {},
   "source": [
    "После ресемплирования данные агрегированы по часу"
   ]
  },
  {
   "cell_type": "markdown",
   "metadata": {},
   "source": [
    "## Анализ"
   ]
  },
  {
   "cell_type": "code",
   "execution_count": 7,
   "metadata": {
    "scrolled": true
   },
   "outputs": [
    {
     "data": {
      "image/png": "[encoded data removed]",
      "text/plain": [
       "<Figure size 864x576 with 3 Axes>"
      ]
     },
     "metadata": {
      "needs_background": "light"
     },
     "output_type": "display_data"
    }
   ],
   "source": [
    "decomposed = seasonal_decompose(data)\n",
    "\n",
    "plt.figure(figsize=(12, 8))\n",
    "\n",
    "plt.subplot(311)\n",
    "decomposed.trend.plot(ax=plt.gca())\n",
    "plt.title('Тренд')\n",
    "\n",
    "plt.subplot(312)\n",
    "decomposed.seasonal['2018-03-01':'2018-03-02'].plot(ax=plt.gca())\n",
    "plt.title('Визуализация сезонности')\n",
    "\n",
    "plt.subplot(313)\n",
    "decomposed.resid.plot(ax=plt.gca())\n",
    "plt.title('Визуализация шума')\n",
    "\n",
    "plt.tight_layout()"
   ]
  },
  {
   "cell_type": "code",
   "execution_count": 8,
   "metadata": {
    "scrolled": true
   },
   "outputs": [
    {
     "data": {
      "image/png": "[encoded data removed]",
      "text/plain": [
       "<Figure size 1080x360 with 1 Axes>"
      ]
     },
     "metadata": {
      "needs_background": "light"
     },
     "output_type": "display_data"
    },
    {
     "data": {
      "image/png": "[encoded data removed]",
      "text/plain": [
       "<Figure size 1080x360 with 1 Axes>"
      ]
     },
     "metadata": {
      "needs_background": "light"
     },
     "output_type": "display_data"
    },
    {
     "data": {
      "image/png": "[encoded data removed]",
      "text/plain": [
       "<Figure size 1080x360 with 1 Axes>"
      ]
     },
     "metadata": {
      "needs_background": "light"
     },
     "output_type": "display_data"
    }
   ],
   "source": [
    "#за сутки\n",
    "decomposed.seasonal['2018-05-01':'2018-05-02'].plot(figsize=(15,5))\n",
    "plt.title('Сезонность заказов такси за сутки')\n",
    "plt.show()\n",
    "\n",
    "#неделя\n",
    "decomposed.seasonal['2018-05-01':'2018-05-08'].plot(figsize=(15,5))\n",
    "plt.title('Сезонность заказов такси за неделю')\n",
    "plt.show()\n",
    "\n",
    "#месяц\n",
    "decomposed.seasonal['2018-05-01':'2018-06-01'].plot(figsize=(15,5))\n",
    "plt.title('Сезонность заказов такси за месяц')\n",
    "plt.show()"
   ]
  },
  {
   "cell_type": "markdown",
   "metadata": {},
   "source": [
    "**Выводы**\n",
    "1. Тренд заказов такси растет, это указывает на увеличение популярности услуги такси\n",
    "2. Сезонность заказов такси за сутки:\n",
    " - Пик приходится на полночь, думаю связано с тем, что, это единственный способ передвижения на общественном транспорте =) \n",
    " - Начиная с 00:00 и до 06:00, спрос на такси снижается, что, вероятно, связано с ночными часами.\n",
    " - С 06:00 до 12:00 спрос растет, достигая пика ближе к полудню. Это может быть связано с людьми, которые едут на работу или другие утренние дела\n",
    " - После обеда наблюдается второй пик, который может быть связан с окончанием рабочего дня и возвращением домой =)"
   ]
  },
  {
   "cell_type": "markdown",
   "metadata": {},
   "source": [
    "**Подготовка данных**\n",
    "\n",
    "Создание признаков"
   ]
  },
  {
   "cell_type": "code",
   "execution_count": 9,
   "metadata": {},
   "outputs": [],
   "source": [
    "def make_features_optimized(data, max_lag, rolling_mean_size):\n",
    "    data['day'] = data.index.day\n",
    "    data['hour'] = data.index.hour\n",
    "    \n",
    "    for lag in range(1, max_lag + 1):\n",
    "        data['lag_{}'.format(lag)] = data['num_orders'].shift(lag)\n",
    "\n",
    "    data['rolling_mean'] = data['num_orders'].shift().rolling(rolling_mean_size).mean()\n",
    "    data['rolling_std'] = data['num_orders'].shift().rolling(rolling_mean_size).std()\n",
    "\n",
    "make_features_optimized(data, 168, 2)"
   ]
  },
  {
   "cell_type": "markdown",
   "metadata": {},
   "source": [
    "Выбор 168 часов равно 7 дням. Таким образом, учитывая временной ряд с часовой дискретизацией, выбор лага в 168 позволяет модели учитывать недельную сезонность данных"
   ]
  },
  {
   "cell_type": "markdown",
   "metadata": {},
   "source": [
    "**Разделение данных**"
   ]
  },
  {
   "cell_type": "code",
   "execution_count": 10,
   "metadata": {},
   "outputs": [],
   "source": [
    "features = data.drop('num_orders', axis=1)\n",
    "target = data['num_orders']\n",
    "\n",
    "features_train, features_test, target_train, target_test = train_test_split(\n",
    "    features, target, test_size=0.1, shuffle=False\n",
    ")\n",
    "\n",
    "features_train = features_train.dropna()\n",
    "target_train = target_train[features_train.index]\n",
    "\n",
    "features_test = features_test.dropna()\n",
    "target_test = target_test[features_test.index]\n",
    "\n",
    "n_splits = 5\n",
    "tscv = TimeSeriesSplit(n_splits=n_splits)"
   ]
  },
  {
   "cell_type": "markdown",
   "metadata": {},
   "source": [
    "## Обучение"
   ]
  },
  {
   "cell_type": "markdown",
   "metadata": {},
   "source": [
    "**Линейная регрессия**"
   ]
  },
  {
   "cell_type": "code",
   "execution_count": 11,
   "metadata": {},
   "outputs": [
    {
     "name": "stdout",
     "output_type": "stream",
     "text": [
      "Линейная регрессия RMSE: 22.603116399252077\n",
      "CPU times: user 3.76 s, sys: 4.71 s, total: 8.47 s\n",
      "Wall time: 8.46 s\n"
     ]
    }
   ],
   "source": [
    "%%time\n",
    "lr_params = {\n",
    "    'fit_intercept': [True, False],\n",
    "    'normalize': [True, False]\n",
    "}\n",
    "\n",
    "lr_grid = GridSearchCV(LinearRegression(), lr_params, cv=tscv, scoring='neg_root_mean_squared_error', n_jobs=-1)\n",
    "lr_grid.fit(features_train, target_train)\n",
    "\n",
    "lr_rmse = -lr_grid.best_score_\n",
    "print('Линейная регрессия RMSE:', lr_rmse)"
   ]
  },
  {
   "cell_type": "markdown",
   "metadata": {},
   "source": [
    "**CatBoostRegressor**"
   ]
  },
  {
   "cell_type": "code",
   "execution_count": 12,
   "metadata": {},
   "outputs": [
    {
     "name": "stdout",
     "output_type": "stream",
     "text": [
      "CatBoost RMSE: 22.744097862186685\n",
      "CPU times: user 9min 57s, sys: 3.18 s, total: 10min\n",
      "Wall time: 10min 20s\n"
     ]
    }
   ],
   "source": [
    "%%time\n",
    "cb_params = {\n",
    "    'iterations': [500],\n",
    "    'depth': [5, 8],\n",
    "    'learning_rate': [0.01, 0.1],\n",
    "    'loss_function': ['RMSE']\n",
    "}\n",
    "\n",
    "cb_grid = GridSearchCV(CatBoostRegressor(verbose=0, random_state=42), cb_params, cv=tscv, scoring='neg_root_mean_squared_error', n_jobs=-1)\n",
    "cb_grid.fit(features_train, target_train)\n",
    "\n",
    "cb_rmse = -cb_grid.best_score_\n",
    "print('CatBoost RMSE:', cb_rmse)"
   ]
  },
  {
   "cell_type": "markdown",
   "metadata": {},
   "source": [
    "**Оценка лучшей модели на тестовой выборке**"
   ]
  },
  {
   "cell_type": "code",
   "execution_count": 13,
   "metadata": {
    "scrolled": true
   },
   "outputs": [
    {
     "name": "stdout",
     "output_type": "stream",
     "text": [
      "                       RMSE\n",
      "LinearRegression  22.603116\n",
      "CatBoost          22.744098\n"
     ]
    }
   ],
   "source": [
    "results = {\n",
    "    'LinearRegression': lr_rmse,\n",
    "    'CatBoost': cb_rmse,\n",
    "}\n",
    "\n",
    "results_df = pd.DataFrame.from_dict(results, orient='index', columns=['RMSE'])\n",
    "results_df = results_df.sort_values(by='RMSE')\n",
    "print(results_df)"
   ]
  },
  {
   "cell_type": "code",
   "execution_count": 14,
   "metadata": {},
   "outputs": [
    {
     "name": "stdout",
     "output_type": "stream",
     "text": [
      "Лучшая модель: Линейная регрессия\n"
     ]
    }
   ],
   "source": [
    "models = {\n",
    "    'Линейная регрессия': lr_grid,\n",
    "    'CatBoost': cb_grid,\n",
    "}\n",
    "\n",
    "best_model_name = min(models, key=lambda k: np.sqrt(-models[k].best_score_))\n",
    "best_model = models[best_model_name].best_estimator_\n",
    "\n",
    "print(f\"Лучшая модель: {best_model_name}\")"
   ]
  },
  {
   "cell_type": "markdown",
   "metadata": {},
   "source": [
    "## Тестирование"
   ]
  },
  {
   "cell_type": "code",
   "execution_count": 15,
   "metadata": {},
   "outputs": [
    {
     "name": "stdout",
     "output_type": "stream",
     "text": [
      "RMSE на тестовой выборке для Линейная регрессия: 34.46815409088631\n"
     ]
    }
   ],
   "source": [
    "predictions = best_model.predict(features_test)\n",
    "test_rmse = np.sqrt(mean_squared_error(target_test, predictions))\n",
    "print(f\"RMSE на тестовой выборке для {best_model_name}: {test_rmse}\")"
   ]
  },
  {
   "cell_type": "markdown",
   "metadata": {},
   "source": [
    "**Итоговый вывод**\n",
    "\n",
    "В рамках анализа были рассмотрены две модели: линейная регрессия и CatBoost. Целью было предсказать количество заказов такси на следующий час. Для улучшения качества предсказаний были созданы дополнительные признаки, такие как отставания и скользящие статистики.\n",
    "\n",
    "С помощью метода кросс-валидации и поиска параметров GridSearchCV были найдены оптимальные гиперпараметры для каждой из моделей.\n",
    "- LinearRegression  22.603116\n",
    "- CatBoost          22.744098\n",
    "\n",
    "RMSE на тестовой выборке для Линейная регрессия показала ~34, что соотвествует условиям заказчика."
   ]
  }
 ],
 "metadata": {
  "ExecuteTimeLog": [
   {
    "duration": 1435,
    "start_time": "2023-10-18T12:14:50.672Z"
   },
   {
    "duration": 149,
    "start_time": "2023-10-18T12:15:03.543Z"
   },
   {
    "duration": 8,
    "start_time": "2023-10-18T12:15:23.602Z"
   },
   {
    "duration": 11,
    "start_time": "2023-10-18T12:15:28.531Z"
   },
   {
    "duration": 924,
    "start_time": "2023-10-18T12:15:50.053Z"
   },
   {
    "duration": 53,
    "start_time": "2023-10-19T10:34:28.122Z"
   },
   {
    "duration": 1499,
    "start_time": "2023-10-19T10:35:02.776Z"
   },
   {
    "duration": 128,
    "start_time": "2023-10-19T10:35:05.119Z"
   },
   {
    "duration": 8,
    "start_time": "2023-10-19T10:35:07.481Z"
   },
   {
    "duration": 10,
    "start_time": "2023-10-19T10:35:15.019Z"
   },
   {
    "duration": 904,
    "start_time": "2023-10-19T10:35:18.782Z"
   },
   {
    "duration": 634,
    "start_time": "2023-10-19T10:44:39.021Z"
   },
   {
    "duration": 74,
    "start_time": "2023-10-19T10:45:44.173Z"
   },
   {
    "duration": 7,
    "start_time": "2023-10-19T10:46:29.414Z"
   },
   {
    "duration": 761,
    "start_time": "2023-10-19T10:46:34.883Z"
   },
   {
    "duration": 12,
    "start_time": "2023-10-19T10:46:43.922Z"
   },
   {
    "duration": 95,
    "start_time": "2023-10-19T10:47:39.033Z"
   },
   {
    "duration": 211,
    "start_time": "2023-10-19T10:47:45.736Z"
   },
   {
    "duration": 7,
    "start_time": "2023-10-19T10:48:40.443Z"
   },
   {
    "duration": 212,
    "start_time": "2023-10-19T10:48:43.532Z"
   },
   {
    "duration": 14,
    "start_time": "2023-10-19T10:49:24.456Z"
   },
   {
    "duration": 7,
    "start_time": "2023-10-19T10:49:38.002Z"
   },
   {
    "duration": 13,
    "start_time": "2023-10-19T10:49:45.340Z"
   },
   {
    "duration": 151,
    "start_time": "2023-10-19T10:50:07.895Z"
   },
   {
    "duration": 7,
    "start_time": "2023-10-19T10:50:11.514Z"
   },
   {
    "duration": 12,
    "start_time": "2023-10-19T10:52:12.259Z"
   },
   {
    "duration": 7,
    "start_time": "2023-10-19T10:52:35.403Z"
   },
   {
    "duration": 9,
    "start_time": "2023-10-19T10:52:41.669Z"
   },
   {
    "duration": 1881,
    "start_time": "2023-10-19T11:23:54.634Z"
   },
   {
    "duration": 6,
    "start_time": "2023-10-19T11:27:07.533Z"
   },
   {
    "duration": 10,
    "start_time": "2023-10-19T11:27:23.041Z"
   },
   {
    "duration": 696,
    "start_time": "2023-10-19T12:00:23.418Z"
   },
   {
    "duration": 731,
    "start_time": "2023-10-19T12:03:15.550Z"
   },
   {
    "duration": 19,
    "start_time": "2023-10-19T12:04:32.075Z"
   },
   {
    "duration": 626,
    "start_time": "2023-10-19T12:04:55.754Z"
   },
   {
    "duration": 11,
    "start_time": "2023-10-19T12:05:16.522Z"
   },
   {
    "duration": 60,
    "start_time": "2023-10-19T12:06:00.086Z"
   },
   {
    "duration": 3044,
    "start_time": "2023-10-19T12:06:15.373Z"
   },
   {
    "duration": 29,
    "start_time": "2023-10-19T12:11:54.517Z"
   },
   {
    "duration": 13,
    "start_time": "2023-10-19T12:12:05.072Z"
   },
   {
    "duration": 3,
    "start_time": "2023-10-19T12:12:12.220Z"
   },
   {
    "duration": 3,
    "start_time": "2023-10-19T12:12:33.637Z"
   },
   {
    "duration": 14,
    "start_time": "2023-10-19T12:12:38.996Z"
   },
   {
    "duration": 120,
    "start_time": "2023-10-19T12:15:50.771Z"
   },
   {
    "duration": 96,
    "start_time": "2023-10-19T12:16:08.069Z"
   },
   {
    "duration": 61,
    "start_time": "2023-10-19T12:16:50.024Z"
   },
   {
    "duration": 4537,
    "start_time": "2023-10-19T12:17:35.395Z"
   },
   {
    "duration": 25,
    "start_time": "2023-10-19T12:18:18.584Z"
   },
   {
    "duration": 4,
    "start_time": "2023-10-19T13:02:52.923Z"
   },
   {
    "duration": 143,
    "start_time": "2023-10-19T13:03:03.038Z"
   },
   {
    "duration": 0,
    "start_time": "2023-10-19T13:03:03.184Z"
   },
   {
    "duration": 0,
    "start_time": "2023-10-19T13:03:03.186Z"
   },
   {
    "duration": 0,
    "start_time": "2023-10-19T13:03:03.187Z"
   },
   {
    "duration": 0,
    "start_time": "2023-10-19T13:03:03.188Z"
   },
   {
    "duration": 0,
    "start_time": "2023-10-19T13:03:03.190Z"
   },
   {
    "duration": 0,
    "start_time": "2023-10-19T13:03:03.192Z"
   },
   {
    "duration": 0,
    "start_time": "2023-10-19T13:03:03.193Z"
   },
   {
    "duration": 0,
    "start_time": "2023-10-19T13:03:03.194Z"
   },
   {
    "duration": 0,
    "start_time": "2023-10-19T13:03:03.196Z"
   },
   {
    "duration": 0,
    "start_time": "2023-10-19T13:03:03.197Z"
   },
   {
    "duration": 1,
    "start_time": "2023-10-19T13:03:03.198Z"
   },
   {
    "duration": 0,
    "start_time": "2023-10-19T13:03:03.200Z"
   },
   {
    "duration": 0,
    "start_time": "2023-10-19T13:03:03.201Z"
   },
   {
    "duration": 5237,
    "start_time": "2023-10-19T13:03:46.151Z"
   },
   {
    "duration": 4905,
    "start_time": "2023-10-19T13:03:56.082Z"
   },
   {
    "duration": 1725,
    "start_time": "2023-10-19T13:04:00.990Z"
   },
   {
    "duration": 54,
    "start_time": "2023-10-19T13:04:02.717Z"
   },
   {
    "duration": 6,
    "start_time": "2023-10-19T13:04:02.773Z"
   },
   {
    "duration": 61,
    "start_time": "2023-10-19T13:04:02.782Z"
   },
   {
    "duration": 82,
    "start_time": "2023-10-19T13:04:02.845Z"
   },
   {
    "duration": 21,
    "start_time": "2023-10-19T13:04:02.929Z"
   },
   {
    "duration": 841,
    "start_time": "2023-10-19T13:04:02.952Z"
   },
   {
    "duration": 17,
    "start_time": "2023-10-19T13:04:03.795Z"
   },
   {
    "duration": 33,
    "start_time": "2023-10-19T13:04:03.813Z"
   },
   {
    "duration": 298,
    "start_time": "2023-10-19T13:04:03.849Z"
   },
   {
    "duration": 3066,
    "start_time": "2023-10-19T13:04:04.149Z"
   },
   {
    "duration": 4558,
    "start_time": "2023-10-19T13:04:07.217Z"
   },
   {
    "duration": 5428,
    "start_time": "2023-10-19T13:09:59.826Z"
   },
   {
    "duration": 1658,
    "start_time": "2023-10-19T13:10:05.257Z"
   },
   {
    "duration": 62,
    "start_time": "2023-10-19T13:10:06.917Z"
   },
   {
    "duration": 6,
    "start_time": "2023-10-19T13:10:06.981Z"
   },
   {
    "duration": 44,
    "start_time": "2023-10-19T13:10:06.989Z"
   },
   {
    "duration": 23,
    "start_time": "2023-10-19T13:10:07.035Z"
   },
   {
    "duration": 31,
    "start_time": "2023-10-19T13:10:07.061Z"
   },
   {
    "duration": 984,
    "start_time": "2023-10-19T13:10:07.094Z"
   },
   {
    "duration": 6,
    "start_time": "2023-10-19T13:10:08.079Z"
   },
   {
    "duration": 44,
    "start_time": "2023-10-19T13:10:08.087Z"
   },
   {
    "duration": 30,
    "start_time": "2023-10-19T13:10:08.133Z"
   },
   {
    "duration": 373,
    "start_time": "2023-10-19T13:10:08.166Z"
   },
   {
    "duration": 3068,
    "start_time": "2023-10-19T13:10:08.541Z"
   },
   {
    "duration": 4421,
    "start_time": "2023-10-19T13:10:11.611Z"
   },
   {
    "duration": 52,
    "start_time": "2023-10-19T13:12:29.805Z"
   },
   {
    "duration": 3242,
    "start_time": "2023-10-19T13:15:03.345Z"
   },
   {
    "duration": 212,
    "start_time": "2023-10-19T13:15:19.587Z"
   },
   {
    "duration": 4226,
    "start_time": "2023-10-19T13:15:46.949Z"
   },
   {
    "duration": 14,
    "start_time": "2023-10-19T13:17:34.678Z"
   },
   {
    "duration": 4,
    "start_time": "2023-10-19T13:18:28.749Z"
   },
   {
    "duration": 9,
    "start_time": "2023-10-19T13:18:31.442Z"
   },
   {
    "duration": 9,
    "start_time": "2023-10-19T13:18:43.649Z"
   },
   {
    "duration": 4822,
    "start_time": "2023-10-19T13:18:55.265Z"
   },
   {
    "duration": 1580,
    "start_time": "2023-10-19T13:19:00.089Z"
   },
   {
    "duration": 51,
    "start_time": "2023-10-19T13:19:01.671Z"
   },
   {
    "duration": 73,
    "start_time": "2023-10-19T13:19:01.725Z"
   },
   {
    "duration": 112,
    "start_time": "2023-10-19T13:19:01.800Z"
   },
   {
    "duration": 48,
    "start_time": "2023-10-19T13:19:01.914Z"
   },
   {
    "duration": 183,
    "start_time": "2023-10-19T13:19:01.964Z"
   },
   {
    "duration": 82,
    "start_time": "2023-10-19T13:19:02.149Z"
   },
   {
    "duration": 953,
    "start_time": "2023-10-19T13:19:02.233Z"
   },
   {
    "duration": 17,
    "start_time": "2023-10-19T13:19:03.188Z"
   },
   {
    "duration": 28,
    "start_time": "2023-10-19T13:19:03.207Z"
   },
   {
    "duration": 375,
    "start_time": "2023-10-19T13:19:03.237Z"
   },
   {
    "duration": 3067,
    "start_time": "2023-10-19T13:19:03.613Z"
   },
   {
    "duration": 4397,
    "start_time": "2023-10-19T13:19:06.681Z"
   },
   {
    "duration": 10,
    "start_time": "2023-10-19T13:47:16.158Z"
   },
   {
    "duration": 11,
    "start_time": "2023-10-19T13:47:26.004Z"
   },
   {
    "duration": 186,
    "start_time": "2023-10-19T13:47:28.203Z"
   },
   {
    "duration": 8,
    "start_time": "2023-10-19T13:47:56.437Z"
   },
   {
    "duration": 111,
    "start_time": "2023-10-19T13:48:05.534Z"
   },
   {
    "duration": 7,
    "start_time": "2023-10-19T13:48:36.788Z"
   },
   {
    "duration": 101,
    "start_time": "2023-10-19T13:48:52.852Z"
   },
   {
    "duration": 11,
    "start_time": "2023-10-19T13:49:39.589Z"
   },
   {
    "duration": 196,
    "start_time": "2023-10-19T13:49:41.155Z"
   },
   {
    "duration": 16,
    "start_time": "2023-10-19T13:49:59.663Z"
   },
   {
    "duration": 3396,
    "start_time": "2023-10-19T13:50:03.198Z"
   },
   {
    "duration": 3210,
    "start_time": "2023-10-19T13:50:24.719Z"
   },
   {
    "duration": 3117,
    "start_time": "2023-10-19T13:50:36.394Z"
   },
   {
    "duration": 4796,
    "start_time": "2023-10-19T13:50:51.970Z"
   },
   {
    "duration": 57097,
    "start_time": "2023-10-19T13:50:59.759Z"
   },
   {
    "duration": 99,
    "start_time": "2023-10-19T13:51:56.858Z"
   },
   {
    "duration": 6454,
    "start_time": "2023-10-19T13:52:27.300Z"
   },
   {
    "duration": 62,
    "start_time": "2023-10-19T13:52:35.184Z"
   },
   {
    "duration": 6618,
    "start_time": "2023-10-19T13:52:39.434Z"
   },
   {
    "duration": 6897,
    "start_time": "2023-10-19T14:09:03.870Z"
   },
   {
    "duration": 8,
    "start_time": "2023-10-19T14:21:17.866Z"
   },
   {
    "duration": 8,
    "start_time": "2023-10-19T14:21:49.722Z"
   },
   {
    "duration": 32,
    "start_time": "2023-10-19T14:21:51.984Z"
   },
   {
    "duration": 5237,
    "start_time": "2023-10-19T14:21:59.719Z"
   },
   {
    "duration": 1679,
    "start_time": "2023-10-19T14:22:04.959Z"
   },
   {
    "duration": 51,
    "start_time": "2023-10-19T14:22:06.640Z"
   },
   {
    "duration": 6,
    "start_time": "2023-10-19T14:22:06.693Z"
   },
   {
    "duration": 39,
    "start_time": "2023-10-19T14:22:06.701Z"
   },
   {
    "duration": 11,
    "start_time": "2023-10-19T14:22:06.742Z"
   },
   {
    "duration": 34,
    "start_time": "2023-10-19T14:22:06.755Z"
   },
   {
    "duration": 14,
    "start_time": "2023-10-19T14:22:06.792Z"
   },
   {
    "duration": 11,
    "start_time": "2023-10-19T14:22:06.808Z"
   },
   {
    "duration": 819,
    "start_time": "2023-10-19T14:22:06.821Z"
   },
   {
    "duration": 17,
    "start_time": "2023-10-19T14:22:07.642Z"
   },
   {
    "duration": 10,
    "start_time": "2023-10-19T14:22:07.661Z"
   },
   {
    "duration": 81,
    "start_time": "2023-10-19T14:22:07.673Z"
   },
   {
    "duration": 444,
    "start_time": "2023-10-19T14:22:07.757Z"
   },
   {
    "duration": 2556,
    "start_time": "2023-10-19T14:22:08.203Z"
   },
   {
    "duration": 4198,
    "start_time": "2023-10-19T14:22:10.761Z"
   },
   {
    "duration": 4399,
    "start_time": "2023-10-19T14:22:14.961Z"
   },
   {
    "duration": 106,
    "start_time": "2023-10-19T14:22:19.361Z"
   },
   {
    "duration": 1559,
    "start_time": "2023-10-19T14:31:17.810Z"
   },
   {
    "duration": 56,
    "start_time": "2023-10-19T14:31:19.371Z"
   },
   {
    "duration": 8,
    "start_time": "2023-10-19T14:31:19.428Z"
   },
   {
    "duration": 45,
    "start_time": "2023-10-19T14:31:19.438Z"
   },
   {
    "duration": 10,
    "start_time": "2023-10-19T14:31:19.485Z"
   },
   {
    "duration": 10,
    "start_time": "2023-10-19T14:31:19.497Z"
   },
   {
    "duration": 19,
    "start_time": "2023-10-19T14:31:19.509Z"
   },
   {
    "duration": 27,
    "start_time": "2023-10-19T14:31:19.530Z"
   },
   {
    "duration": 845,
    "start_time": "2023-10-19T14:31:19.559Z"
   },
   {
    "duration": 17,
    "start_time": "2023-10-19T14:31:20.407Z"
   },
   {
    "duration": 34,
    "start_time": "2023-10-19T14:31:20.426Z"
   },
   {
    "duration": 94,
    "start_time": "2023-10-19T14:31:20.463Z"
   },
   {
    "duration": 466,
    "start_time": "2023-10-19T14:31:20.559Z"
   },
   {
    "duration": 2484,
    "start_time": "2023-10-19T14:31:21.027Z"
   },
   {
    "duration": 29835,
    "start_time": "2023-10-19T14:31:23.513Z"
   },
   {
    "duration": 33807,
    "start_time": "2023-10-19T14:31:53.353Z"
   },
   {
    "duration": 99,
    "start_time": "2023-10-19T14:32:27.161Z"
   },
   {
    "duration": 11,
    "start_time": "2023-10-19T14:38:08.729Z"
   },
   {
    "duration": 1773,
    "start_time": "2023-10-19T14:39:00.063Z"
   },
   {
    "duration": 63,
    "start_time": "2023-10-19T14:39:01.838Z"
   },
   {
    "duration": 29,
    "start_time": "2023-10-19T14:39:01.903Z"
   },
   {
    "duration": 74,
    "start_time": "2023-10-19T14:39:01.934Z"
   },
   {
    "duration": 53,
    "start_time": "2023-10-19T14:39:02.011Z"
   },
   {
    "duration": 147,
    "start_time": "2023-10-19T14:39:02.066Z"
   },
   {
    "duration": 1043,
    "start_time": "2023-10-19T14:39:02.215Z"
   },
   {
    "duration": 27,
    "start_time": "2023-10-19T14:39:03.260Z"
   },
   {
    "duration": 14,
    "start_time": "2023-10-19T14:39:03.289Z"
   },
   {
    "duration": 159,
    "start_time": "2023-10-19T14:39:03.305Z"
   },
   {
    "duration": 3318,
    "start_time": "2023-10-19T14:39:03.466Z"
   },
   {
    "duration": 5202,
    "start_time": "2023-10-19T14:39:06.786Z"
   },
   {
    "duration": 213672,
    "start_time": "2023-10-19T14:39:11.991Z"
   },
   {
    "duration": 53995,
    "start_time": "2023-10-19T14:42:45.666Z"
   },
   {
    "duration": 92,
    "start_time": "2023-10-19T14:43:39.663Z"
   },
   {
    "duration": 12,
    "start_time": "2023-10-19T14:43:39.760Z"
   },
   {
    "duration": 9,
    "start_time": "2023-10-19T14:47:36.381Z"
   },
   {
    "duration": 8,
    "start_time": "2023-10-19T14:47:42.554Z"
   },
   {
    "duration": 1657,
    "start_time": "2023-10-19T14:48:07.120Z"
   },
   {
    "duration": 51,
    "start_time": "2023-10-19T14:48:08.779Z"
   },
   {
    "duration": 7,
    "start_time": "2023-10-19T14:48:08.832Z"
   },
   {
    "duration": 17,
    "start_time": "2023-10-19T14:48:08.840Z"
   },
   {
    "duration": 11,
    "start_time": "2023-10-19T14:48:08.859Z"
   },
   {
    "duration": 18,
    "start_time": "2023-10-19T14:48:08.872Z"
   },
   {
    "duration": 10,
    "start_time": "2023-10-19T14:48:08.891Z"
   },
   {
    "duration": 31,
    "start_time": "2023-10-19T14:48:08.903Z"
   },
   {
    "duration": 796,
    "start_time": "2023-10-19T14:48:08.936Z"
   },
   {
    "duration": 26,
    "start_time": "2023-10-19T14:48:09.733Z"
   },
   {
    "duration": 14,
    "start_time": "2023-10-19T14:48:09.761Z"
   },
   {
    "duration": 170,
    "start_time": "2023-10-19T14:48:09.777Z"
   },
   {
    "duration": 348,
    "start_time": "2023-10-19T14:48:09.949Z"
   },
   {
    "duration": 2306,
    "start_time": "2023-10-19T14:48:10.300Z"
   },
   {
    "duration": 4148,
    "start_time": "2023-10-19T14:48:12.608Z"
   },
   {
    "duration": 4392,
    "start_time": "2023-10-19T14:48:16.758Z"
   },
   {
    "duration": 97,
    "start_time": "2023-10-19T14:48:21.152Z"
   },
   {
    "duration": 11,
    "start_time": "2023-10-19T14:48:21.251Z"
   },
   {
    "duration": 1736,
    "start_time": "2023-10-19T14:53:04.991Z"
   },
   {
    "duration": 52,
    "start_time": "2023-10-19T14:53:06.729Z"
   },
   {
    "duration": 6,
    "start_time": "2023-10-19T14:53:06.783Z"
   },
   {
    "duration": 27,
    "start_time": "2023-10-19T14:53:06.790Z"
   },
   {
    "duration": 11,
    "start_time": "2023-10-19T14:53:06.819Z"
   },
   {
    "duration": 22,
    "start_time": "2023-10-19T14:53:06.832Z"
   },
   {
    "duration": 850,
    "start_time": "2023-10-19T14:53:06.856Z"
   },
   {
    "duration": 18,
    "start_time": "2023-10-19T14:53:07.708Z"
   },
   {
    "duration": 13,
    "start_time": "2023-10-19T14:53:07.727Z"
   },
   {
    "duration": 112,
    "start_time": "2023-10-19T14:53:07.742Z"
   },
   {
    "duration": 3522,
    "start_time": "2023-10-19T14:53:07.857Z"
   },
   {
    "duration": 4616,
    "start_time": "2023-10-19T14:53:11.381Z"
   },
   {
    "duration": 106357,
    "start_time": "2023-10-19T14:53:16.000Z"
   },
   {
    "duration": 67105,
    "start_time": "2023-10-19T14:55:02.360Z"
   },
   {
    "duration": 106,
    "start_time": "2023-10-19T14:56:09.548Z"
   },
   {
    "duration": 12,
    "start_time": "2023-10-19T14:56:09.656Z"
   },
   {
    "duration": 126,
    "start_time": "2023-10-19T14:56:39.507Z"
   },
   {
    "duration": 624,
    "start_time": "2023-10-19T15:07:18.978Z"
   },
   {
    "duration": 369,
    "start_time": "2023-10-19T15:17:06.061Z"
   },
   {
    "duration": 372,
    "start_time": "2023-10-19T15:20:45.537Z"
   },
   {
    "duration": 406,
    "start_time": "2023-10-19T15:21:01.824Z"
   },
   {
    "duration": 4,
    "start_time": "2023-10-19T15:49:32.760Z"
   },
   {
    "duration": 10,
    "start_time": "2023-10-19T15:53:39.360Z"
   },
   {
    "duration": 27856,
    "start_time": "2023-10-19T15:55:39.947Z"
   },
   {
    "duration": 70658,
    "start_time": "2023-10-19T15:56:07.805Z"
   },
   {
    "duration": 66392,
    "start_time": "2023-10-19T15:57:18.465Z"
   },
   {
    "duration": 1671,
    "start_time": "2023-10-19T16:12:07.161Z"
   },
   {
    "duration": 50,
    "start_time": "2023-10-19T16:12:08.834Z"
   },
   {
    "duration": 7,
    "start_time": "2023-10-19T16:12:08.886Z"
   },
   {
    "duration": 20,
    "start_time": "2023-10-19T16:12:08.894Z"
   },
   {
    "duration": 15,
    "start_time": "2023-10-19T16:12:08.917Z"
   },
   {
    "duration": 144,
    "start_time": "2023-10-19T16:12:08.934Z"
   },
   {
    "duration": 0,
    "start_time": "2023-10-19T16:12:09.080Z"
   },
   {
    "duration": 0,
    "start_time": "2023-10-19T16:12:09.082Z"
   },
   {
    "duration": 0,
    "start_time": "2023-10-19T16:12:09.083Z"
   },
   {
    "duration": 0,
    "start_time": "2023-10-19T16:12:09.084Z"
   },
   {
    "duration": 0,
    "start_time": "2023-10-19T16:12:09.085Z"
   },
   {
    "duration": 0,
    "start_time": "2023-10-19T16:12:09.087Z"
   },
   {
    "duration": 0,
    "start_time": "2023-10-19T16:12:09.089Z"
   },
   {
    "duration": 0,
    "start_time": "2023-10-19T16:12:09.090Z"
   },
   {
    "duration": 0,
    "start_time": "2023-10-19T16:12:09.091Z"
   },
   {
    "duration": 11,
    "start_time": "2023-10-19T16:12:30.538Z"
   },
   {
    "duration": 1579,
    "start_time": "2023-10-19T16:12:37.162Z"
   },
   {
    "duration": 53,
    "start_time": "2023-10-19T16:12:38.743Z"
   },
   {
    "duration": 6,
    "start_time": "2023-10-19T16:12:38.798Z"
   },
   {
    "duration": 36,
    "start_time": "2023-10-19T16:12:38.805Z"
   },
   {
    "duration": 10,
    "start_time": "2023-10-19T16:12:38.843Z"
   },
   {
    "duration": 20,
    "start_time": "2023-10-19T16:12:38.854Z"
   },
   {
    "duration": 825,
    "start_time": "2023-10-19T16:12:38.876Z"
   },
   {
    "duration": 376,
    "start_time": "2023-10-19T16:12:39.703Z"
   },
   {
    "duration": 17,
    "start_time": "2023-10-19T16:12:40.081Z"
   },
   {
    "duration": 139,
    "start_time": "2023-10-19T16:12:40.099Z"
   },
   {
    "duration": 0,
    "start_time": "2023-10-19T16:12:40.240Z"
   },
   {
    "duration": 0,
    "start_time": "2023-10-19T16:12:40.247Z"
   },
   {
    "duration": 0,
    "start_time": "2023-10-19T16:12:40.248Z"
   },
   {
    "duration": 0,
    "start_time": "2023-10-19T16:12:40.249Z"
   },
   {
    "duration": 0,
    "start_time": "2023-10-19T16:12:40.250Z"
   },
   {
    "duration": 25,
    "start_time": "2023-10-19T16:20:19.070Z"
   },
   {
    "duration": 11,
    "start_time": "2023-10-19T16:20:22.053Z"
   },
   {
    "duration": 15,
    "start_time": "2023-10-19T16:24:28.509Z"
   },
   {
    "duration": 10,
    "start_time": "2023-10-19T16:24:34.623Z"
   },
   {
    "duration": 46,
    "start_time": "2023-10-19T16:24:55.745Z"
   },
   {
    "duration": 197,
    "start_time": "2023-10-19T16:25:03.410Z"
   },
   {
    "duration": 96096,
    "start_time": "2023-10-19T16:25:15.761Z"
   },
   {
    "duration": 89399,
    "start_time": "2023-10-19T16:26:51.859Z"
   },
   {
    "duration": 127,
    "start_time": "2023-10-19T16:28:21.261Z"
   },
   {
    "duration": 5,
    "start_time": "2023-10-19T17:47:13.950Z"
   },
   {
    "duration": 97,
    "start_time": "2023-10-19T17:47:19.667Z"
   },
   {
    "duration": 80,
    "start_time": "2023-10-19T17:47:31.502Z"
   },
   {
    "duration": 71,
    "start_time": "2023-10-19T17:48:01.171Z"
   },
   {
    "duration": 5,
    "start_time": "2023-10-19T17:51:02.711Z"
   },
   {
    "duration": 45,
    "start_time": "2023-10-19T17:51:17.338Z"
   },
   {
    "duration": 1612,
    "start_time": "2023-10-19T19:22:23.320Z"
   },
   {
    "duration": 52,
    "start_time": "2023-10-19T19:22:24.934Z"
   },
   {
    "duration": 7,
    "start_time": "2023-10-19T19:22:24.988Z"
   },
   {
    "duration": 31,
    "start_time": "2023-10-19T19:22:24.997Z"
   },
   {
    "duration": 11,
    "start_time": "2023-10-19T19:22:25.031Z"
   },
   {
    "duration": 28,
    "start_time": "2023-10-19T19:22:25.044Z"
   },
   {
    "duration": 949,
    "start_time": "2023-10-19T19:22:25.073Z"
   },
   {
    "duration": 379,
    "start_time": "2023-10-19T19:22:26.024Z"
   },
   {
    "duration": 27,
    "start_time": "2023-10-19T19:22:26.405Z"
   },
   {
    "duration": 28,
    "start_time": "2023-10-19T19:22:26.433Z"
   },
   {
    "duration": 22,
    "start_time": "2023-10-19T19:22:26.463Z"
   },
   {
    "duration": 10,
    "start_time": "2023-10-19T19:22:26.486Z"
   },
   {
    "duration": 171,
    "start_time": "2023-10-19T19:22:26.498Z"
   },
   {
    "duration": 0,
    "start_time": "2023-10-19T19:22:26.671Z"
   },
   {
    "duration": 0,
    "start_time": "2023-10-19T19:22:26.672Z"
   },
   {
    "duration": 0,
    "start_time": "2023-10-19T19:22:26.674Z"
   },
   {
    "duration": 0,
    "start_time": "2023-10-19T19:22:26.675Z"
   },
   {
    "duration": 45,
    "start_time": "2023-10-20T09:20:35.387Z"
   },
   {
    "duration": 1615,
    "start_time": "2023-10-20T09:20:57.775Z"
   },
   {
    "duration": 108,
    "start_time": "2023-10-20T09:20:59.392Z"
   },
   {
    "duration": 7,
    "start_time": "2023-10-20T09:20:59.501Z"
   },
   {
    "duration": 19,
    "start_time": "2023-10-20T09:20:59.509Z"
   },
   {
    "duration": 22,
    "start_time": "2023-10-20T09:20:59.531Z"
   },
   {
    "duration": 8,
    "start_time": "2023-10-20T09:20:59.555Z"
   },
   {
    "duration": 790,
    "start_time": "2023-10-20T09:20:59.565Z"
   },
   {
    "duration": 328,
    "start_time": "2023-10-20T09:21:00.356Z"
   },
   {
    "duration": 19,
    "start_time": "2023-10-20T09:21:00.685Z"
   },
   {
    "duration": 47,
    "start_time": "2023-10-20T09:21:00.705Z"
   },
   {
    "duration": 201,
    "start_time": "2023-10-20T09:21:00.754Z"
   },
   {
    "duration": 431,
    "start_time": "2023-10-20T09:22:04.753Z"
   },
   {
    "duration": 103585,
    "start_time": "2023-10-20T09:22:27.453Z"
   },
   {
    "duration": 1441,
    "start_time": "2023-10-20T09:25:03.215Z"
   },
   {
    "duration": 45,
    "start_time": "2023-10-20T09:25:04.658Z"
   },
   {
    "duration": 7,
    "start_time": "2023-10-20T09:25:04.704Z"
   },
   {
    "duration": 14,
    "start_time": "2023-10-20T09:25:04.713Z"
   },
   {
    "duration": 8,
    "start_time": "2023-10-20T09:25:04.728Z"
   },
   {
    "duration": 17,
    "start_time": "2023-10-20T09:25:04.738Z"
   },
   {
    "duration": 800,
    "start_time": "2023-10-20T09:25:04.757Z"
   },
   {
    "duration": 316,
    "start_time": "2023-10-20T09:25:05.559Z"
   },
   {
    "duration": 18,
    "start_time": "2023-10-20T09:25:05.876Z"
   },
   {
    "duration": 14,
    "start_time": "2023-10-20T09:25:05.896Z"
   },
   {
    "duration": 15,
    "start_time": "2023-10-20T09:25:05.911Z"
   },
   {
    "duration": 3437,
    "start_time": "2023-10-20T09:25:05.927Z"
   },
   {
    "duration": 224166,
    "start_time": "2023-10-20T09:25:09.366Z"
   },
   {
    "duration": 100446,
    "start_time": "2023-10-20T09:28:53.533Z"
   },
   {
    "duration": 1326,
    "start_time": "2023-10-20T09:44:04.112Z"
   },
   {
    "duration": 46,
    "start_time": "2023-10-20T09:44:05.452Z"
   },
   {
    "duration": 5,
    "start_time": "2023-10-20T09:44:05.500Z"
   },
   {
    "duration": 20,
    "start_time": "2023-10-20T09:44:05.506Z"
   },
   {
    "duration": 9,
    "start_time": "2023-10-20T09:44:05.528Z"
   },
   {
    "duration": 23,
    "start_time": "2023-10-20T09:44:05.539Z"
   },
   {
    "duration": 774,
    "start_time": "2023-10-20T09:44:05.564Z"
   },
   {
    "duration": 360,
    "start_time": "2023-10-20T09:44:06.339Z"
   },
   {
    "duration": 18,
    "start_time": "2023-10-20T09:44:06.701Z"
   },
   {
    "duration": 32,
    "start_time": "2023-10-20T09:44:06.721Z"
   },
   {
    "duration": 10,
    "start_time": "2023-10-20T09:44:06.754Z"
   },
   {
    "duration": 3396,
    "start_time": "2023-10-20T09:44:06.765Z"
   },
   {
    "duration": 227407,
    "start_time": "2023-10-20T09:44:10.162Z"
   },
   {
    "duration": 101222,
    "start_time": "2023-10-20T09:47:57.571Z"
   },
   {
    "duration": 1435,
    "start_time": "2023-10-20T10:28:14.536Z"
   },
   {
    "duration": 46,
    "start_time": "2023-10-20T10:28:15.973Z"
   },
   {
    "duration": 5,
    "start_time": "2023-10-20T10:28:16.021Z"
   },
   {
    "duration": 21,
    "start_time": "2023-10-20T10:28:16.027Z"
   },
   {
    "duration": 9,
    "start_time": "2023-10-20T10:28:16.050Z"
   },
   {
    "duration": 8,
    "start_time": "2023-10-20T10:28:16.060Z"
   },
   {
    "duration": 724,
    "start_time": "2023-10-20T10:28:16.069Z"
   },
   {
    "duration": 312,
    "start_time": "2023-10-20T10:28:16.795Z"
   },
   {
    "duration": 30,
    "start_time": "2023-10-20T10:28:17.109Z"
   },
   {
    "duration": 16,
    "start_time": "2023-10-20T10:28:17.145Z"
   },
   {
    "duration": 9,
    "start_time": "2023-10-20T10:28:17.162Z"
   },
   {
    "duration": 3290,
    "start_time": "2023-10-20T10:28:17.172Z"
   },
   {
    "duration": 228219,
    "start_time": "2023-10-20T10:28:20.463Z"
   },
   {
    "duration": 97686,
    "start_time": "2023-10-20T10:32:08.684Z"
   },
   {
    "duration": 1331,
    "start_time": "2023-10-20T10:45:46.804Z"
   },
   {
    "duration": 49,
    "start_time": "2023-10-20T10:45:48.137Z"
   },
   {
    "duration": 5,
    "start_time": "2023-10-20T10:45:48.188Z"
   },
   {
    "duration": 41,
    "start_time": "2023-10-20T10:45:48.196Z"
   },
   {
    "duration": 24,
    "start_time": "2023-10-20T10:45:48.239Z"
   },
   {
    "duration": 20,
    "start_time": "2023-10-20T10:45:48.265Z"
   },
   {
    "duration": 750,
    "start_time": "2023-10-20T10:45:48.287Z"
   },
   {
    "duration": 328,
    "start_time": "2023-10-20T10:45:49.038Z"
   },
   {
    "duration": 18,
    "start_time": "2023-10-20T10:45:49.368Z"
   },
   {
    "duration": 26,
    "start_time": "2023-10-20T10:45:49.388Z"
   },
   {
    "duration": 12,
    "start_time": "2023-10-20T10:45:49.415Z"
   },
   {
    "duration": 3532,
    "start_time": "2023-10-20T10:45:49.428Z"
   },
   {
    "duration": 1359,
    "start_time": "2023-10-20T10:48:24.399Z"
   },
   {
    "duration": 46,
    "start_time": "2023-10-20T10:48:25.761Z"
   },
   {
    "duration": 5,
    "start_time": "2023-10-20T10:48:25.809Z"
   },
   {
    "duration": 21,
    "start_time": "2023-10-20T10:48:25.816Z"
   },
   {
    "duration": 24,
    "start_time": "2023-10-20T10:48:25.838Z"
   },
   {
    "duration": 23,
    "start_time": "2023-10-20T10:48:25.863Z"
   },
   {
    "duration": 737,
    "start_time": "2023-10-20T10:48:25.888Z"
   },
   {
    "duration": 337,
    "start_time": "2023-10-20T10:48:26.627Z"
   },
   {
    "duration": 18,
    "start_time": "2023-10-20T10:48:26.966Z"
   },
   {
    "duration": 11,
    "start_time": "2023-10-20T10:48:26.987Z"
   },
   {
    "duration": 21,
    "start_time": "2023-10-20T10:48:26.999Z"
   },
   {
    "duration": 3839,
    "start_time": "2023-10-20T10:48:27.021Z"
   },
   {
    "duration": 1514,
    "start_time": "2023-10-20T10:49:01.100Z"
   },
   {
    "duration": 63,
    "start_time": "2023-10-20T10:49:02.616Z"
   },
   {
    "duration": 6,
    "start_time": "2023-10-20T10:49:02.681Z"
   },
   {
    "duration": 23,
    "start_time": "2023-10-20T10:49:02.689Z"
   },
   {
    "duration": 17,
    "start_time": "2023-10-20T10:49:02.714Z"
   },
   {
    "duration": 20,
    "start_time": "2023-10-20T10:49:02.732Z"
   },
   {
    "duration": 763,
    "start_time": "2023-10-20T10:49:02.754Z"
   },
   {
    "duration": 338,
    "start_time": "2023-10-20T10:49:03.518Z"
   },
   {
    "duration": 19,
    "start_time": "2023-10-20T10:49:03.858Z"
   },
   {
    "duration": 11,
    "start_time": "2023-10-20T10:49:03.879Z"
   },
   {
    "duration": 7,
    "start_time": "2023-10-20T10:49:03.892Z"
   },
   {
    "duration": 4446,
    "start_time": "2023-10-20T10:49:03.900Z"
   },
   {
    "duration": 254795,
    "start_time": "2023-10-20T10:49:08.347Z"
   },
   {
    "duration": 97503,
    "start_time": "2023-10-20T10:53:23.145Z"
   },
   {
    "duration": 5,
    "start_time": "2023-10-20T10:55:00.653Z"
   },
   {
    "duration": 21,
    "start_time": "2023-10-20T10:55:00.659Z"
   },
   {
    "duration": 136,
    "start_time": "2023-10-20T11:03:02.724Z"
   },
   {
    "duration": 11,
    "start_time": "2023-10-20T11:03:25.774Z"
   },
   {
    "duration": 12,
    "start_time": "2023-10-20T11:03:57.583Z"
   },
   {
    "duration": 1453,
    "start_time": "2023-10-20T11:04:15.353Z"
   },
   {
    "duration": 48,
    "start_time": "2023-10-20T11:04:18.150Z"
   },
   {
    "duration": 5,
    "start_time": "2023-10-20T11:04:19.390Z"
   },
   {
    "duration": 13,
    "start_time": "2023-10-20T11:04:21.906Z"
   },
   {
    "duration": 11,
    "start_time": "2023-10-20T11:04:24.251Z"
   },
   {
    "duration": 4,
    "start_time": "2023-10-20T11:04:25.781Z"
   },
   {
    "duration": 123,
    "start_time": "2023-10-20T11:08:21.935Z"
   },
   {
    "duration": 9,
    "start_time": "2023-10-20T11:08:37.381Z"
   },
   {
    "duration": 1438,
    "start_time": "2023-10-20T11:08:57.549Z"
   },
   {
    "duration": 47,
    "start_time": "2023-10-20T11:08:58.988Z"
   },
   {
    "duration": 5,
    "start_time": "2023-10-20T11:08:59.037Z"
   },
   {
    "duration": 25,
    "start_time": "2023-10-20T11:08:59.048Z"
   },
   {
    "duration": 10,
    "start_time": "2023-10-20T11:08:59.075Z"
   },
   {
    "duration": 8,
    "start_time": "2023-10-20T11:08:59.086Z"
   },
   {
    "duration": 710,
    "start_time": "2023-10-20T11:08:59.095Z"
   },
   {
    "duration": 330,
    "start_time": "2023-10-20T11:08:59.807Z"
   },
   {
    "duration": 29,
    "start_time": "2023-10-20T11:09:00.142Z"
   },
   {
    "duration": 21,
    "start_time": "2023-10-20T11:09:00.172Z"
   },
   {
    "duration": 30,
    "start_time": "2023-10-20T11:09:00.195Z"
   },
   {
    "duration": 4338,
    "start_time": "2023-10-20T11:09:00.226Z"
   },
   {
    "duration": 255255,
    "start_time": "2023-10-20T11:09:04.566Z"
   },
   {
    "duration": 99836,
    "start_time": "2023-10-20T11:13:19.823Z"
   },
   {
    "duration": 4,
    "start_time": "2023-10-20T11:14:59.660Z"
   },
   {
    "duration": 10,
    "start_time": "2023-10-20T11:14:59.665Z"
   },
   {
    "duration": 11,
    "start_time": "2023-10-20T12:16:05.089Z"
   },
   {
    "duration": 10,
    "start_time": "2023-10-20T12:16:07.069Z"
   },
   {
    "duration": 8,
    "start_time": "2023-10-20T12:16:08.399Z"
   },
   {
    "duration": 3219,
    "start_time": "2023-10-20T12:16:10.744Z"
   },
   {
    "duration": 1378,
    "start_time": "2023-10-20T12:19:16.875Z"
   },
   {
    "duration": 45,
    "start_time": "2023-10-20T12:19:18.255Z"
   },
   {
    "duration": 5,
    "start_time": "2023-10-20T12:19:18.302Z"
   },
   {
    "duration": 15,
    "start_time": "2023-10-20T12:19:18.308Z"
   },
   {
    "duration": 7,
    "start_time": "2023-10-20T12:19:18.325Z"
   },
   {
    "duration": 15,
    "start_time": "2023-10-20T12:19:18.334Z"
   },
   {
    "duration": 802,
    "start_time": "2023-10-20T12:19:18.350Z"
   },
   {
    "duration": 323,
    "start_time": "2023-10-20T12:19:19.154Z"
   },
   {
    "duration": 20,
    "start_time": "2023-10-20T12:19:19.479Z"
   },
   {
    "duration": 11,
    "start_time": "2023-10-20T12:19:19.501Z"
   },
   {
    "duration": 7,
    "start_time": "2023-10-20T12:19:19.513Z"
   },
   {
    "duration": 3724,
    "start_time": "2023-10-20T12:19:19.522Z"
   },
   {
    "duration": 247242,
    "start_time": "2023-10-20T12:19:23.248Z"
   },
   {
    "duration": 100033,
    "start_time": "2023-10-20T12:23:30.493Z"
   },
   {
    "duration": 3,
    "start_time": "2023-10-20T12:25:10.528Z"
   },
   {
    "duration": 25,
    "start_time": "2023-10-20T12:25:10.532Z"
   },
   {
    "duration": 109,
    "start_time": "2023-10-20T12:25:40.968Z"
   },
   {
    "duration": 25,
    "start_time": "2023-10-20T12:29:45.856Z"
   },
   {
    "duration": 24,
    "start_time": "2023-10-20T12:29:48.938Z"
   },
   {
    "duration": 8,
    "start_time": "2023-10-20T12:29:50.486Z"
   },
   {
    "duration": 5096,
    "start_time": "2023-10-20T12:29:52.444Z"
   },
   {
    "duration": 1475,
    "start_time": "2023-10-20T12:31:13.927Z"
   },
   {
    "duration": 52,
    "start_time": "2023-10-20T12:31:15.404Z"
   },
   {
    "duration": 7,
    "start_time": "2023-10-20T12:31:15.457Z"
   },
   {
    "duration": 19,
    "start_time": "2023-10-20T12:31:15.465Z"
   },
   {
    "duration": 8,
    "start_time": "2023-10-20T12:31:15.486Z"
   },
   {
    "duration": 7,
    "start_time": "2023-10-20T12:31:15.495Z"
   },
   {
    "duration": 702,
    "start_time": "2023-10-20T12:31:15.503Z"
   },
   {
    "duration": 342,
    "start_time": "2023-10-20T12:31:16.207Z"
   },
   {
    "duration": 20,
    "start_time": "2023-10-20T12:31:16.550Z"
   },
   {
    "duration": 11,
    "start_time": "2023-10-20T12:31:16.571Z"
   },
   {
    "duration": 8,
    "start_time": "2023-10-20T12:31:16.583Z"
   },
   {
    "duration": 2867,
    "start_time": "2023-10-20T12:31:16.592Z"
   },
   {
    "duration": 246300,
    "start_time": "2023-10-20T12:31:19.462Z"
   },
   {
    "duration": 100787,
    "start_time": "2023-10-20T12:35:25.765Z"
   },
   {
    "duration": 115,
    "start_time": "2023-10-20T12:37:06.553Z"
   },
   {
    "duration": 0,
    "start_time": "2023-10-20T12:37:06.669Z"
   },
   {
    "duration": 0,
    "start_time": "2023-10-20T12:37:06.670Z"
   },
   {
    "duration": 14,
    "start_time": "2023-10-20T12:39:29.151Z"
   },
   {
    "duration": 6,
    "start_time": "2023-10-20T12:39:30.765Z"
   },
   {
    "duration": 92,
    "start_time": "2023-10-20T12:40:11.392Z"
   },
   {
    "duration": 26,
    "start_time": "2023-10-20T12:40:12.753Z"
   },
   {
    "duration": 10,
    "start_time": "2023-10-20T12:40:14.408Z"
   },
   {
    "duration": 18502,
    "start_time": "2023-10-20T12:40:16.259Z"
   },
   {
    "duration": 1575,
    "start_time": "2023-10-20T12:42:27.974Z"
   },
   {
    "duration": 46,
    "start_time": "2023-10-20T12:42:29.551Z"
   },
   {
    "duration": 5,
    "start_time": "2023-10-20T12:42:29.599Z"
   },
   {
    "duration": 30,
    "start_time": "2023-10-20T12:42:29.606Z"
   },
   {
    "duration": 14,
    "start_time": "2023-10-20T12:42:29.638Z"
   },
   {
    "duration": 8,
    "start_time": "2023-10-20T12:42:29.653Z"
   },
   {
    "duration": 739,
    "start_time": "2023-10-20T12:42:29.662Z"
   },
   {
    "duration": 317,
    "start_time": "2023-10-20T12:42:30.403Z"
   },
   {
    "duration": 104,
    "start_time": "2023-10-20T12:42:30.721Z"
   },
   {
    "duration": 36,
    "start_time": "2023-10-20T12:42:30.826Z"
   },
   {
    "duration": 25,
    "start_time": "2023-10-20T12:42:30.863Z"
   },
   {
    "duration": 13665,
    "start_time": "2023-10-20T12:42:30.890Z"
   },
   {
    "duration": 1388295,
    "start_time": "2023-10-20T12:42:44.561Z"
   },
   {
    "duration": 1317,
    "start_time": "2023-10-20T13:06:33.795Z"
   },
   {
    "duration": 50,
    "start_time": "2023-10-20T13:06:35.113Z"
   },
   {
    "duration": 5,
    "start_time": "2023-10-20T13:06:35.164Z"
   },
   {
    "duration": 20,
    "start_time": "2023-10-20T13:06:35.171Z"
   },
   {
    "duration": 12,
    "start_time": "2023-10-20T13:06:35.193Z"
   },
   {
    "duration": 17,
    "start_time": "2023-10-20T13:06:35.207Z"
   },
   {
    "duration": 680,
    "start_time": "2023-10-20T13:06:35.225Z"
   },
   {
    "duration": 315,
    "start_time": "2023-10-20T13:06:35.906Z"
   },
   {
    "duration": 106,
    "start_time": "2023-10-20T13:06:36.222Z"
   },
   {
    "duration": 38,
    "start_time": "2023-10-20T13:06:36.330Z"
   },
   {
    "duration": 13,
    "start_time": "2023-10-20T13:06:36.369Z"
   },
   {
    "duration": 16865,
    "start_time": "2023-10-20T13:06:36.383Z"
   },
   {
    "duration": 550271,
    "start_time": "2023-10-20T13:06:53.249Z"
   },
   {
    "duration": 6,
    "start_time": "2023-10-20T13:16:03.521Z"
   },
   {
    "duration": 27,
    "start_time": "2023-10-20T13:16:03.529Z"
   },
   {
    "duration": 34,
    "start_time": "2023-10-20T13:16:03.557Z"
   },
   {
    "duration": 1531,
    "start_time": "2023-10-20T13:29:26.952Z"
   },
   {
    "duration": 71,
    "start_time": "2023-10-20T13:29:28.485Z"
   },
   {
    "duration": 5,
    "start_time": "2023-10-20T13:29:28.558Z"
   },
   {
    "duration": 21,
    "start_time": "2023-10-20T13:29:28.565Z"
   },
   {
    "duration": 10,
    "start_time": "2023-10-20T13:29:28.587Z"
   },
   {
    "duration": 10,
    "start_time": "2023-10-20T13:29:28.599Z"
   },
   {
    "duration": 790,
    "start_time": "2023-10-20T13:29:28.611Z"
   },
   {
    "duration": 356,
    "start_time": "2023-10-20T13:29:29.403Z"
   },
   {
    "duration": 112,
    "start_time": "2023-10-20T13:29:29.760Z"
   },
   {
    "duration": 28,
    "start_time": "2023-10-20T13:29:29.873Z"
   },
   {
    "duration": 13,
    "start_time": "2023-10-20T13:29:29.903Z"
   },
   {
    "duration": 17025,
    "start_time": "2023-10-20T13:29:29.917Z"
   },
   {
    "duration": 1339,
    "start_time": "2023-10-20T14:08:24.813Z"
   },
   {
    "duration": 47,
    "start_time": "2023-10-20T14:08:26.155Z"
   },
   {
    "duration": 5,
    "start_time": "2023-10-20T14:08:26.204Z"
   },
   {
    "duration": 39,
    "start_time": "2023-10-20T14:08:26.211Z"
   },
   {
    "duration": 12,
    "start_time": "2023-10-20T14:08:26.253Z"
   },
   {
    "duration": 35,
    "start_time": "2023-10-20T14:08:26.267Z"
   },
   {
    "duration": 718,
    "start_time": "2023-10-20T14:08:26.303Z"
   },
   {
    "duration": 329,
    "start_time": "2023-10-20T14:08:27.023Z"
   },
   {
    "duration": 97,
    "start_time": "2023-10-20T14:08:27.354Z"
   },
   {
    "duration": 27,
    "start_time": "2023-10-20T14:08:27.453Z"
   },
   {
    "duration": 10,
    "start_time": "2023-10-20T14:08:27.481Z"
   },
   {
    "duration": 11567,
    "start_time": "2023-10-20T14:08:27.492Z"
   },
   {
    "duration": 1497,
    "start_time": "2023-10-20T14:22:27.974Z"
   },
   {
    "duration": 48,
    "start_time": "2023-10-20T14:22:29.473Z"
   },
   {
    "duration": 5,
    "start_time": "2023-10-20T14:22:29.522Z"
   },
   {
    "duration": 27,
    "start_time": "2023-10-20T14:22:29.529Z"
   },
   {
    "duration": 8,
    "start_time": "2023-10-20T14:22:29.558Z"
   },
   {
    "duration": 17,
    "start_time": "2023-10-20T14:22:29.567Z"
   },
   {
    "duration": 768,
    "start_time": "2023-10-20T14:22:29.585Z"
   },
   {
    "duration": 338,
    "start_time": "2023-10-20T14:22:30.355Z"
   },
   {
    "duration": 167,
    "start_time": "2023-10-20T14:22:30.694Z"
   },
   {
    "duration": 29,
    "start_time": "2023-10-20T14:22:30.862Z"
   },
   {
    "duration": 13,
    "start_time": "2023-10-20T14:22:30.893Z"
   },
   {
    "duration": 16555,
    "start_time": "2023-10-20T14:22:30.908Z"
   },
   {
    "duration": 1509,
    "start_time": "2023-10-20T14:41:28.614Z"
   },
   {
    "duration": 50,
    "start_time": "2023-10-20T14:41:30.124Z"
   },
   {
    "duration": 6,
    "start_time": "2023-10-20T14:41:30.175Z"
   },
   {
    "duration": 44,
    "start_time": "2023-10-20T14:41:30.183Z"
   },
   {
    "duration": 38,
    "start_time": "2023-10-20T14:41:30.229Z"
   },
   {
    "duration": 43,
    "start_time": "2023-10-20T14:41:30.268Z"
   },
   {
    "duration": 812,
    "start_time": "2023-10-20T14:41:30.313Z"
   },
   {
    "duration": 332,
    "start_time": "2023-10-20T14:41:31.127Z"
   },
   {
    "duration": 104,
    "start_time": "2023-10-20T14:41:31.461Z"
   },
   {
    "duration": 28,
    "start_time": "2023-10-20T14:41:31.567Z"
   },
   {
    "duration": 13,
    "start_time": "2023-10-20T14:41:31.596Z"
   },
   {
    "duration": 7630,
    "start_time": "2023-10-20T14:41:31.611Z"
   },
   {
    "duration": 549237,
    "start_time": "2023-10-20T14:41:39.243Z"
   },
   {
    "duration": 5,
    "start_time": "2023-10-20T14:50:48.482Z"
   },
   {
    "duration": 7,
    "start_time": "2023-10-20T14:50:48.489Z"
   },
   {
    "duration": 18,
    "start_time": "2023-10-20T14:50:48.498Z"
   },
   {
    "duration": 1483,
    "start_time": "2023-10-20T15:00:07.788Z"
   },
   {
    "duration": 45,
    "start_time": "2023-10-20T15:00:09.272Z"
   },
   {
    "duration": 6,
    "start_time": "2023-10-20T15:00:09.319Z"
   },
   {
    "duration": 36,
    "start_time": "2023-10-20T15:00:09.327Z"
   },
   {
    "duration": 16,
    "start_time": "2023-10-20T15:00:09.365Z"
   },
   {
    "duration": 20,
    "start_time": "2023-10-20T15:00:09.382Z"
   },
   {
    "duration": 706,
    "start_time": "2023-10-20T15:00:09.403Z"
   },
   {
    "duration": 324,
    "start_time": "2023-10-20T15:00:10.111Z"
   },
   {
    "duration": 91,
    "start_time": "2023-10-20T15:00:10.439Z"
   },
   {
    "duration": 30,
    "start_time": "2023-10-20T15:00:10.540Z"
   },
   {
    "duration": 18,
    "start_time": "2023-10-20T15:00:10.572Z"
   },
   {
    "duration": 7874,
    "start_time": "2023-10-20T15:00:10.592Z"
   },
   {
    "duration": 549537,
    "start_time": "2023-10-20T15:00:18.540Z"
   },
   {
    "duration": 6,
    "start_time": "2023-10-20T15:09:28.079Z"
   },
   {
    "duration": 7,
    "start_time": "2023-10-20T15:09:28.086Z"
   },
   {
    "duration": 14,
    "start_time": "2023-10-20T15:09:28.094Z"
   },
   {
    "duration": 1511,
    "start_time": "2023-10-20T15:30:58.950Z"
   },
   {
    "duration": 47,
    "start_time": "2023-10-20T15:31:00.463Z"
   },
   {
    "duration": 25,
    "start_time": "2023-10-20T15:31:00.511Z"
   },
   {
    "duration": 38,
    "start_time": "2023-10-20T15:31:00.538Z"
   },
   {
    "duration": 22,
    "start_time": "2023-10-20T15:31:00.578Z"
   },
   {
    "duration": 22,
    "start_time": "2023-10-20T15:31:00.601Z"
   },
   {
    "duration": 776,
    "start_time": "2023-10-20T15:31:00.625Z"
   },
   {
    "duration": 315,
    "start_time": "2023-10-20T15:31:01.403Z"
   },
   {
    "duration": 104,
    "start_time": "2023-10-20T15:31:01.720Z"
   },
   {
    "duration": 33,
    "start_time": "2023-10-20T15:31:01.826Z"
   },
   {
    "duration": 47,
    "start_time": "2023-10-20T15:31:01.860Z"
   },
   {
    "duration": 8932,
    "start_time": "2023-10-20T15:31:01.909Z"
   },
   {
    "duration": 525562,
    "start_time": "2023-10-20T15:31:10.843Z"
   },
   {
    "duration": 6,
    "start_time": "2023-10-20T15:39:56.407Z"
   },
   {
    "duration": 11,
    "start_time": "2023-10-20T15:39:56.415Z"
   },
   {
    "duration": 22,
    "start_time": "2023-10-20T15:39:56.428Z"
   },
   {
    "duration": 2475,
    "start_time": "2023-10-20T19:46:14.611Z"
   },
   {
    "duration": 125,
    "start_time": "2023-10-20T19:46:17.088Z"
   },
   {
    "duration": 6,
    "start_time": "2023-10-20T19:46:17.215Z"
   },
   {
    "duration": 18,
    "start_time": "2023-10-20T19:46:17.222Z"
   },
   {
    "duration": 13,
    "start_time": "2023-10-20T19:46:17.243Z"
   },
   {
    "duration": 9,
    "start_time": "2023-10-20T19:46:17.258Z"
   },
   {
    "duration": 736,
    "start_time": "2023-10-20T19:46:17.269Z"
   },
   {
    "duration": 316,
    "start_time": "2023-10-20T19:46:18.008Z"
   },
   {
    "duration": 98,
    "start_time": "2023-10-20T19:46:18.325Z"
   },
   {
    "duration": 30,
    "start_time": "2023-10-20T19:46:18.424Z"
   },
   {
    "duration": 4,
    "start_time": "2023-10-20T19:46:18.455Z"
   },
   {
    "duration": 127,
    "start_time": "2023-10-21T08:13:57.470Z"
   },
   {
    "duration": 48,
    "start_time": "2023-10-21T08:15:43.933Z"
   },
   {
    "duration": 1758,
    "start_time": "2023-10-21T08:15:57.511Z"
   },
   {
    "duration": 122,
    "start_time": "2023-10-21T08:15:59.271Z"
   },
   {
    "duration": 8,
    "start_time": "2023-10-21T08:15:59.395Z"
   },
   {
    "duration": 44,
    "start_time": "2023-10-21T08:15:59.405Z"
   },
   {
    "duration": 21,
    "start_time": "2023-10-21T08:15:59.453Z"
   },
   {
    "duration": 16,
    "start_time": "2023-10-21T08:15:59.476Z"
   },
   {
    "duration": 852,
    "start_time": "2023-10-21T08:15:59.494Z"
   },
   {
    "duration": 618,
    "start_time": "2023-10-21T08:16:00.349Z"
   },
   {
    "duration": 121,
    "start_time": "2023-10-21T08:16:00.969Z"
   },
   {
    "duration": 39,
    "start_time": "2023-10-21T08:16:01.091Z"
   },
   {
    "duration": 49,
    "start_time": "2023-10-21T08:16:01.132Z"
   },
   {
    "duration": 7720,
    "start_time": "2023-10-21T08:16:01.183Z"
   },
   {
    "duration": 2739051,
    "start_time": "2023-10-21T08:16:08.905Z"
   },
   {
    "duration": 7,
    "start_time": "2023-10-21T09:01:47.959Z"
   },
   {
    "duration": 48,
    "start_time": "2023-10-21T09:01:47.968Z"
   },
   {
    "duration": 34,
    "start_time": "2023-10-21T09:01:48.018Z"
   },
   {
    "duration": 674,
    "start_time": "2023-10-21T09:01:48.054Z"
   },
   {
    "duration": 49,
    "start_time": "2023-10-21T09:01:48.730Z"
   },
   {
    "duration": 22,
    "start_time": "2023-10-21T09:01:48.805Z"
   },
   {
    "duration": 20,
    "start_time": "2023-10-21T09:04:30.999Z"
   },
   {
    "duration": 10,
    "start_time": "2023-10-21T09:06:19.366Z"
   },
   {
    "duration": 27,
    "start_time": "2023-10-21T09:06:27.115Z"
   },
   {
    "duration": 1612,
    "start_time": "2023-10-21T09:09:02.457Z"
   },
   {
    "duration": 60,
    "start_time": "2023-10-21T09:09:04.072Z"
   },
   {
    "duration": 7,
    "start_time": "2023-10-21T09:09:04.133Z"
   },
   {
    "duration": 41,
    "start_time": "2023-10-21T09:09:04.142Z"
   },
   {
    "duration": 13,
    "start_time": "2023-10-21T09:09:04.187Z"
   },
   {
    "duration": 17,
    "start_time": "2023-10-21T09:09:04.203Z"
   },
   {
    "duration": 963,
    "start_time": "2023-10-21T09:09:04.223Z"
   },
   {
    "duration": 681,
    "start_time": "2023-10-21T09:09:05.188Z"
   },
   {
    "duration": 143,
    "start_time": "2023-10-21T09:09:05.871Z"
   },
   {
    "duration": 22,
    "start_time": "2023-10-21T09:09:06.016Z"
   },
   {
    "duration": 71,
    "start_time": "2023-10-21T09:09:06.039Z"
   },
   {
    "duration": 24,
    "start_time": "2023-10-21T09:09:06.112Z"
   },
   {
    "duration": 229,
    "start_time": "2023-10-21T09:09:06.138Z"
   },
   {
    "duration": 83,
    "start_time": "2023-10-21T09:09:06.370Z"
   },
   {
    "duration": 13,
    "start_time": "2023-10-21T09:09:06.455Z"
   },
   {
    "duration": 0,
    "start_time": "2023-10-21T09:09:06.470Z"
   },
   {
    "duration": 0,
    "start_time": "2023-10-21T09:09:06.471Z"
   },
   {
    "duration": 135,
    "start_time": "2023-10-21T09:11:07.874Z"
   },
   {
    "duration": 12,
    "start_time": "2023-10-21T09:12:23.190Z"
   },
   {
    "duration": 522,
    "start_time": "2023-10-21T09:12:39.043Z"
   },
   {
    "duration": 32,
    "start_time": "2023-10-21T09:12:45.218Z"
   },
   {
    "duration": 127,
    "start_time": "2023-10-21T09:12:50.565Z"
   },
   {
    "duration": 14,
    "start_time": "2023-10-21T09:30:31.762Z"
   },
   {
    "duration": 4,
    "start_time": "2023-10-21T09:31:01.515Z"
   },
   {
    "duration": 10,
    "start_time": "2023-10-21T09:33:12.671Z"
   },
   {
    "duration": 4,
    "start_time": "2023-10-21T09:33:55.836Z"
   },
   {
    "duration": 2192,
    "start_time": "2023-10-21T09:34:09.180Z"
   },
   {
    "duration": 1731,
    "start_time": "2023-10-21T09:35:03.667Z"
   },
   {
    "duration": 51,
    "start_time": "2023-10-21T09:35:05.400Z"
   },
   {
    "duration": 7,
    "start_time": "2023-10-21T09:35:05.453Z"
   },
   {
    "duration": 51,
    "start_time": "2023-10-21T09:35:05.462Z"
   },
   {
    "duration": 22,
    "start_time": "2023-10-21T09:35:05.515Z"
   },
   {
    "duration": 14,
    "start_time": "2023-10-21T09:35:05.538Z"
   },
   {
    "duration": 908,
    "start_time": "2023-10-21T09:35:05.554Z"
   },
   {
    "duration": 658,
    "start_time": "2023-10-21T09:35:06.464Z"
   },
   {
    "duration": 145,
    "start_time": "2023-10-21T09:35:07.124Z"
   },
   {
    "duration": 20,
    "start_time": "2023-10-21T09:35:07.271Z"
   },
   {
    "duration": 38,
    "start_time": "2023-10-21T09:35:07.293Z"
   },
   {
    "duration": 14,
    "start_time": "2023-10-21T09:35:07.333Z"
   },
   {
    "duration": 13,
    "start_time": "2023-10-21T09:35:07.349Z"
   },
   {
    "duration": 286,
    "start_time": "2023-10-21T09:35:07.364Z"
   },
   {
    "duration": 102,
    "start_time": "2023-10-21T09:35:07.652Z"
   },
   {
    "duration": 11,
    "start_time": "2023-10-21T09:35:07.756Z"
   },
   {
    "duration": 0,
    "start_time": "2023-10-21T09:35:07.768Z"
   },
   {
    "duration": 0,
    "start_time": "2023-10-21T09:35:07.770Z"
   },
   {
    "duration": 124,
    "start_time": "2023-10-21T09:36:05.568Z"
   },
   {
    "duration": 144,
    "start_time": "2023-10-21T09:36:25.990Z"
   },
   {
    "duration": 142,
    "start_time": "2023-10-21T09:36:58.734Z"
   },
   {
    "duration": 47,
    "start_time": "2023-10-21T09:38:05.877Z"
   },
   {
    "duration": 17,
    "start_time": "2023-10-21T09:40:11.311Z"
   },
   {
    "duration": 139,
    "start_time": "2023-10-21T09:40:14.396Z"
   },
   {
    "duration": 1640,
    "start_time": "2023-10-21T09:40:32.369Z"
   },
   {
    "duration": 53,
    "start_time": "2023-10-21T09:40:34.011Z"
   },
   {
    "duration": 7,
    "start_time": "2023-10-21T09:40:34.066Z"
   },
   {
    "duration": 26,
    "start_time": "2023-10-21T09:40:34.074Z"
   },
   {
    "duration": 11,
    "start_time": "2023-10-21T09:40:34.102Z"
   },
   {
    "duration": 15,
    "start_time": "2023-10-21T09:40:34.114Z"
   },
   {
    "duration": 955,
    "start_time": "2023-10-21T09:40:34.131Z"
   },
   {
    "duration": 630,
    "start_time": "2023-10-21T09:40:35.088Z"
   },
   {
    "duration": 132,
    "start_time": "2023-10-21T09:40:35.720Z"
   },
   {
    "duration": 21,
    "start_time": "2023-10-21T09:40:35.854Z"
   },
   {
    "duration": 73,
    "start_time": "2023-10-21T09:40:35.877Z"
   },
   {
    "duration": 32,
    "start_time": "2023-10-21T09:40:35.952Z"
   },
   {
    "duration": 28,
    "start_time": "2023-10-21T09:40:35.986Z"
   },
   {
    "duration": 33,
    "start_time": "2023-10-21T09:40:36.017Z"
   },
   {
    "duration": 239,
    "start_time": "2023-10-21T09:40:36.052Z"
   },
   {
    "duration": 105,
    "start_time": "2023-10-21T09:40:36.292Z"
   },
   {
    "duration": 11,
    "start_time": "2023-10-21T09:40:36.399Z"
   },
   {
    "duration": 0,
    "start_time": "2023-10-21T09:40:36.412Z"
   },
   {
    "duration": 0,
    "start_time": "2023-10-21T09:40:36.413Z"
   },
   {
    "duration": 4,
    "start_time": "2023-10-21T09:41:28.833Z"
   },
   {
    "duration": 1542,
    "start_time": "2023-10-21T09:42:04.432Z"
   },
   {
    "duration": 52,
    "start_time": "2023-10-21T09:42:05.976Z"
   },
   {
    "duration": 10,
    "start_time": "2023-10-21T09:42:06.029Z"
   },
   {
    "duration": 34,
    "start_time": "2023-10-21T09:42:06.041Z"
   },
   {
    "duration": 28,
    "start_time": "2023-10-21T09:42:06.078Z"
   },
   {
    "duration": 27,
    "start_time": "2023-10-21T09:42:06.108Z"
   },
   {
    "duration": 849,
    "start_time": "2023-10-21T09:42:06.137Z"
   },
   {
    "duration": 648,
    "start_time": "2023-10-21T09:42:06.988Z"
   },
   {
    "duration": 140,
    "start_time": "2023-10-21T09:42:07.638Z"
   },
   {
    "duration": 30,
    "start_time": "2023-10-21T09:42:07.780Z"
   },
   {
    "duration": 58,
    "start_time": "2023-10-21T09:42:07.811Z"
   },
   {
    "duration": 19,
    "start_time": "2023-10-21T09:42:07.871Z"
   },
   {
    "duration": 17,
    "start_time": "2023-10-21T09:42:07.892Z"
   },
   {
    "duration": 460,
    "start_time": "2023-10-21T09:42:07.912Z"
   },
   {
    "duration": 129,
    "start_time": "2023-10-21T09:42:08.373Z"
   },
   {
    "duration": 13,
    "start_time": "2023-10-21T09:42:08.504Z"
   },
   {
    "duration": 0,
    "start_time": "2023-10-21T09:42:08.519Z"
   },
   {
    "duration": 0,
    "start_time": "2023-10-21T09:42:08.520Z"
   },
   {
    "duration": 120,
    "start_time": "2023-10-21T09:43:23.110Z"
   },
   {
    "duration": 149,
    "start_time": "2023-10-21T09:53:37.461Z"
   },
   {
    "duration": 53,
    "start_time": "2023-10-21T14:54:32.490Z"
   },
   {
    "duration": 1927,
    "start_time": "2023-10-21T14:55:46.067Z"
   },
   {
    "duration": 130,
    "start_time": "2023-10-21T14:55:47.996Z"
   },
   {
    "duration": 8,
    "start_time": "2023-10-21T14:55:48.128Z"
   },
   {
    "duration": 26,
    "start_time": "2023-10-21T14:55:48.138Z"
   },
   {
    "duration": 11,
    "start_time": "2023-10-21T14:55:48.166Z"
   },
   {
    "duration": 30,
    "start_time": "2023-10-21T14:55:48.179Z"
   },
   {
    "duration": 987,
    "start_time": "2023-10-21T14:55:48.211Z"
   },
   {
    "duration": 699,
    "start_time": "2023-10-21T14:55:49.200Z"
   },
   {
    "duration": 140,
    "start_time": "2023-10-21T14:55:49.901Z"
   },
   {
    "duration": 37,
    "start_time": "2023-10-21T14:55:50.042Z"
   },
   {
    "duration": 23985,
    "start_time": "2023-10-21T14:55:50.081Z"
   },
   {
    "duration": 319,
    "start_time": "2023-10-21T14:56:14.068Z"
   },
   {
    "duration": 136,
    "start_time": "2023-10-21T14:56:14.389Z"
   },
   {
    "duration": 11,
    "start_time": "2023-10-21T14:56:14.527Z"
   },
   {
    "duration": 0,
    "start_time": "2023-10-21T14:56:14.540Z"
   },
   {
    "duration": 0,
    "start_time": "2023-10-21T14:56:14.541Z"
   },
   {
    "duration": 1787,
    "start_time": "2023-10-21T14:58:29.190Z"
   },
   {
    "duration": 52,
    "start_time": "2023-10-21T14:58:30.979Z"
   },
   {
    "duration": 6,
    "start_time": "2023-10-21T14:58:31.033Z"
   },
   {
    "duration": 38,
    "start_time": "2023-10-21T14:58:31.041Z"
   },
   {
    "duration": 47,
    "start_time": "2023-10-21T14:58:31.081Z"
   },
   {
    "duration": 50,
    "start_time": "2023-10-21T14:58:31.130Z"
   },
   {
    "duration": 948,
    "start_time": "2023-10-21T14:58:31.182Z"
   },
   {
    "duration": 693,
    "start_time": "2023-10-21T14:58:32.132Z"
   },
   {
    "duration": 157,
    "start_time": "2023-10-21T14:58:32.828Z"
   },
   {
    "duration": 32,
    "start_time": "2023-10-21T14:58:32.987Z"
   },
   {
    "duration": 21139,
    "start_time": "2023-10-21T14:58:33.021Z"
   },
   {
    "duration": 1751,
    "start_time": "2023-10-21T15:06:45.814Z"
   },
   {
    "duration": 52,
    "start_time": "2023-10-21T15:06:47.567Z"
   },
   {
    "duration": 7,
    "start_time": "2023-10-21T15:06:47.621Z"
   },
   {
    "duration": 32,
    "start_time": "2023-10-21T15:06:47.630Z"
   },
   {
    "duration": 19,
    "start_time": "2023-10-21T15:06:47.663Z"
   },
   {
    "duration": 28,
    "start_time": "2023-10-21T15:06:47.684Z"
   },
   {
    "duration": 900,
    "start_time": "2023-10-21T15:06:47.713Z"
   },
   {
    "duration": 716,
    "start_time": "2023-10-21T15:06:48.616Z"
   },
   {
    "duration": 141,
    "start_time": "2023-10-21T15:06:49.334Z"
   },
   {
    "duration": 33,
    "start_time": "2023-10-21T15:06:49.478Z"
   },
   {
    "duration": 18946,
    "start_time": "2023-10-21T15:06:49.513Z"
   },
   {
    "duration": 1579,
    "start_time": "2023-10-21T15:28:17.198Z"
   },
   {
    "duration": 51,
    "start_time": "2023-10-21T15:28:18.779Z"
   },
   {
    "duration": 7,
    "start_time": "2023-10-21T15:28:18.832Z"
   },
   {
    "duration": 37,
    "start_time": "2023-10-21T15:28:18.840Z"
   },
   {
    "duration": 11,
    "start_time": "2023-10-21T15:28:18.879Z"
   },
   {
    "duration": 17,
    "start_time": "2023-10-21T15:28:18.892Z"
   },
   {
    "duration": 919,
    "start_time": "2023-10-21T15:28:18.911Z"
   },
   {
    "duration": 724,
    "start_time": "2023-10-21T15:28:19.832Z"
   },
   {
    "duration": 142,
    "start_time": "2023-10-21T15:28:20.558Z"
   },
   {
    "duration": 55,
    "start_time": "2023-10-21T15:28:20.701Z"
   },
   {
    "duration": 15998,
    "start_time": "2023-10-21T15:28:20.758Z"
   },
   {
    "duration": 1593,
    "start_time": "2023-10-21T15:34:52.289Z"
   },
   {
    "duration": 54,
    "start_time": "2023-10-21T15:34:53.884Z"
   },
   {
    "duration": 7,
    "start_time": "2023-10-21T15:34:53.939Z"
   },
   {
    "duration": 48,
    "start_time": "2023-10-21T15:34:53.951Z"
   },
   {
    "duration": 28,
    "start_time": "2023-10-21T15:34:54.002Z"
   },
   {
    "duration": 31,
    "start_time": "2023-10-21T15:34:54.032Z"
   },
   {
    "duration": 856,
    "start_time": "2023-10-21T15:34:54.065Z"
   },
   {
    "duration": 755,
    "start_time": "2023-10-21T15:34:54.923Z"
   },
   {
    "duration": 145,
    "start_time": "2023-10-21T15:34:55.680Z"
   },
   {
    "duration": 44,
    "start_time": "2023-10-21T15:34:55.827Z"
   },
   {
    "duration": 18495,
    "start_time": "2023-10-21T15:34:55.872Z"
   },
   {
    "duration": 649543,
    "start_time": "2023-10-21T15:35:14.370Z"
   },
   {
    "duration": 9,
    "start_time": "2023-10-21T15:46:03.916Z"
   },
   {
    "duration": 69,
    "start_time": "2023-10-21T15:46:03.929Z"
   },
   {
    "duration": 46,
    "start_time": "2023-10-21T15:46:03.999Z"
   },
   {
    "duration": 8049,
    "start_time": "2023-10-21T16:01:48.915Z"
   },
   {
    "duration": 1646,
    "start_time": "2023-10-21T16:02:57.910Z"
   },
   {
    "duration": 50,
    "start_time": "2023-10-21T16:02:59.558Z"
   },
   {
    "duration": 6,
    "start_time": "2023-10-21T16:02:59.610Z"
   },
   {
    "duration": 56,
    "start_time": "2023-10-21T16:02:59.618Z"
   },
   {
    "duration": 32,
    "start_time": "2023-10-21T16:02:59.676Z"
   },
   {
    "duration": 28,
    "start_time": "2023-10-21T16:02:59.710Z"
   },
   {
    "duration": 875,
    "start_time": "2023-10-21T16:02:59.739Z"
   },
   {
    "duration": 668,
    "start_time": "2023-10-21T16:03:00.616Z"
   },
   {
    "duration": 132,
    "start_time": "2023-10-21T16:03:01.287Z"
   },
   {
    "duration": 46,
    "start_time": "2023-10-21T16:03:01.422Z"
   },
   {
    "duration": 8482,
    "start_time": "2023-10-21T16:03:01.470Z"
   },
   {
    "duration": 620821,
    "start_time": "2023-10-21T16:03:09.957Z"
   },
   {
    "duration": 7,
    "start_time": "2023-10-21T16:13:30.779Z"
   },
   {
    "duration": 42,
    "start_time": "2023-10-21T16:13:30.788Z"
   },
   {
    "duration": 43,
    "start_time": "2023-10-21T16:13:30.832Z"
   },
   {
    "duration": 141,
    "start_time": "2023-10-21T16:17:01.697Z"
   },
   {
    "duration": 3039,
    "start_time": "2023-10-21T20:05:35.234Z"
   },
   {
    "duration": 117,
    "start_time": "2023-10-21T20:05:38.275Z"
   },
   {
    "duration": 6,
    "start_time": "2023-10-21T20:05:38.394Z"
   },
   {
    "duration": 17,
    "start_time": "2023-10-21T20:05:38.402Z"
   },
   {
    "duration": 10,
    "start_time": "2023-10-21T20:05:38.421Z"
   },
   {
    "duration": 15,
    "start_time": "2023-10-21T20:05:38.433Z"
   },
   {
    "duration": 895,
    "start_time": "2023-10-21T20:05:38.450Z"
   },
   {
    "duration": 641,
    "start_time": "2023-10-21T20:05:39.347Z"
   },
   {
    "duration": 135,
    "start_time": "2023-10-21T20:05:39.990Z"
   },
   {
    "duration": 40,
    "start_time": "2023-10-21T20:05:40.127Z"
   },
   {
    "duration": 25,
    "start_time": "2023-10-21T20:05:40.169Z"
   }
  ],
  "kernelspec": {
   "display_name": "Python 3 (ipykernel)",
   "language": "python",
   "name": "python3"
  },
  "language_info": {
   "codemirror_mode": {
    "name": "ipython",
    "version": 3
   },
   "file_extension": ".py",
   "mimetype": "text/x-python",
   "name": "python",
   "nbconvert_exporter": "python",
   "pygments_lexer": "ipython3",
   "version": "3.9.13"
  },
  "toc": {
   "base_numbering": 1,
   "nav_menu": {},
   "number_sections": true,
   "sideBar": true,
   "skip_h1_title": true,
   "title_cell": "Содержание",
   "title_sidebar": "Contents",
   "toc_cell": true,
   "toc_position": {},
   "toc_section_display": true,
   "toc_window_display": true
  }
 },
 "nbformat": 4,
 "nbformat_minor": 2
}
