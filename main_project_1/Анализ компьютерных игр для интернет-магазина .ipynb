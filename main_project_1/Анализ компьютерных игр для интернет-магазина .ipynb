{
 "cells": [
  {
   "cell_type": "markdown",
   "metadata": {},
   "source": [
    "# Анализ компьютерных игр для интернет-магазина «Стримчик»"
   ]
  },
  {
   "cell_type": "markdown",
   "metadata": {},
   "source": [
    "\n",
    "**Цель исследования:** Принятие решений о закупке и продвижении компьютерных игр на рынке. Это позволит провести рекламные кампании, которые привлекут покупателей и увеличат продажи в интернет-магазине \"Стримчик\".\n",
    "\n",
    "\n",
    "**Ход исследования:**\n",
    "1. Изучение общей информации о данных\n",
    "2. Предобработка данных\n",
    "3. Исследовательский анализ данных\n",
    "- Анализ количества выпущенных игр по годам\n",
    "- Изучение изменения продаж по платформам и выбор платформ с наибольшими суммарными продажами\n",
    "- Построение распределения продаж по годам для выбранных платформ\n",
    "- Определение актуального периода для анализа и прогнозирования продаж\n",
    "- Анализ лидирующих платформ по продажам и их динамики\n",
    "- Построение графика \"ящик с усами\" для глобальных продаж игр по платформам\n",
    "- Изучение влияния отзывов пользователей и критиков на продажи на примере одной популярной платформы\n",
    "- Оценка корреляции между отзывами и продажами\n",
    "- Сравнение результатов с другими платформами\n",
    "- Анализ распределения игр по жанрам и выявление наиболее прибыльных\n",
    "4. Портрет пользователя каждого региона\n",
    "- Определение самых популярных платформ и жанров в различных регионах\n",
    "- Анализ влияния рейтинга ESRB на продажи в отдельном регионе\n",
    "5. Проверка гипотез\n",
    "- Сравнение средних пользовательских рейтингов платформ Xbox One и PC\n",
    "- Сравнение средних пользовательских рейтингов жанров Action и Sports\n",
    "6. Общий вывод\n",
    "\n",
    "\n",
    "Для проведения анализа у нас есть следующие наборы данных:\n",
    "\n",
    "\n",
    "**Описание данных**  `games.csv`\n",
    "- Name — название игры\n",
    "- Platform — платформа\n",
    "- Year_of_Release — год выпуска\n",
    "- Genre — жанр игры\n",
    "- NA_sales — продажи в Северной Америке (миллионы проданных копий)\n",
    "- EU_sales — продажи в Европе (миллионы проданных копий)\n",
    "- JP_sales — продажи в Японии (миллионы проданных копий)\n",
    "- Other_sales — продажи в других странах (миллионы проданных копий)\n",
    "- Critic_Score — оценка критиков (максимум 100)\n",
    "- User_Score — оценка пользователей (максимум 10)\n",
    "- Rating — рейтинг от организации ESRB (англ. Entertainment Software Rating Board). Эта ассоциация определяет рейтинг компьютерных игр и присваивает им подходящую возрастную категорию."
   ]
  },
  {
   "cell_type": "code",
   "execution_count": 1,
   "metadata": {},
   "outputs": [],
   "source": [
    "import pandas as pd\n",
    "import numpy as np\n",
    "import matplotlib.pyplot as plt\n",
    "import seaborn as sns\n",
    "import scipy.stats as stats\n",
    "\n",
    "from datetime import datetime\n",
    "from scipy import stats as st\n",
    "from scipy.stats import ttest_ind"
   ]
  },
  {
   "cell_type": "markdown",
   "metadata": {},
   "source": [
    "## Шаг 1. Загрузка данных"
   ]
  },
  {
   "cell_type": "markdown",
   "metadata": {},
   "source": [
    "### Открыть файл csv и сохранить их в датафреймы"
   ]
  },
  {
   "cell_type": "code",
   "execution_count": 2,
   "metadata": {},
   "outputs": [],
   "source": [
    "data = pd.read_csv('/datasets/games.csv')"
   ]
  },
  {
   "cell_type": "markdown",
   "metadata": {},
   "source": [
    "### Изучение общей информации о данных"
   ]
  },
  {
   "cell_type": "code",
   "execution_count": 3,
   "metadata": {},
   "outputs": [
    {
     "data": {
      "text/html": [
       "<div>\n",
       "<style scoped>\n",
       "    .dataframe tbody tr th:only-of-type {\n",
       "        vertical-align: middle;\n",
       "    }\n",
       "\n",
       "    .dataframe tbody tr th {\n",
       "        vertical-align: top;\n",
       "    }\n",
       "\n",
       "    .dataframe thead th {\n",
       "        text-align: right;\n",
       "    }\n",
       "</style>\n",
       "<table border=\"1\" class=\"dataframe\">\n",
       "  <thead>\n",
       "    <tr style=\"text-align: right;\">\n",
       "      <th></th>\n",
       "      <th>Name</th>\n",
       "      <th>Platform</th>\n",
       "      <th>Year_of_Release</th>\n",
       "      <th>Genre</th>\n",
       "      <th>NA_sales</th>\n",
       "      <th>EU_sales</th>\n",
       "      <th>JP_sales</th>\n",
       "      <th>Other_sales</th>\n",
       "      <th>Critic_Score</th>\n",
       "      <th>User_Score</th>\n",
       "      <th>Rating</th>\n",
       "    </tr>\n",
       "  </thead>\n",
       "  <tbody>\n",
       "    <tr>\n",
       "      <th>0</th>\n",
       "      <td>Wii Sports</td>\n",
       "      <td>Wii</td>\n",
       "      <td>2006.0</td>\n",
       "      <td>Sports</td>\n",
       "      <td>41.36</td>\n",
       "      <td>28.96</td>\n",
       "      <td>3.77</td>\n",
       "      <td>8.45</td>\n",
       "      <td>76.0</td>\n",
       "      <td>8</td>\n",
       "      <td>E</td>\n",
       "    </tr>\n",
       "    <tr>\n",
       "      <th>1</th>\n",
       "      <td>Super Mario Bros.</td>\n",
       "      <td>NES</td>\n",
       "      <td>1985.0</td>\n",
       "      <td>Platform</td>\n",
       "      <td>29.08</td>\n",
       "      <td>3.58</td>\n",
       "      <td>6.81</td>\n",
       "      <td>0.77</td>\n",
       "      <td>NaN</td>\n",
       "      <td>NaN</td>\n",
       "      <td>NaN</td>\n",
       "    </tr>\n",
       "    <tr>\n",
       "      <th>2</th>\n",
       "      <td>Mario Kart Wii</td>\n",
       "      <td>Wii</td>\n",
       "      <td>2008.0</td>\n",
       "      <td>Racing</td>\n",
       "      <td>15.68</td>\n",
       "      <td>12.76</td>\n",
       "      <td>3.79</td>\n",
       "      <td>3.29</td>\n",
       "      <td>82.0</td>\n",
       "      <td>8.3</td>\n",
       "      <td>E</td>\n",
       "    </tr>\n",
       "    <tr>\n",
       "      <th>3</th>\n",
       "      <td>Wii Sports Resort</td>\n",
       "      <td>Wii</td>\n",
       "      <td>2009.0</td>\n",
       "      <td>Sports</td>\n",
       "      <td>15.61</td>\n",
       "      <td>10.93</td>\n",
       "      <td>3.28</td>\n",
       "      <td>2.95</td>\n",
       "      <td>80.0</td>\n",
       "      <td>8</td>\n",
       "      <td>E</td>\n",
       "    </tr>\n",
       "    <tr>\n",
       "      <th>4</th>\n",
       "      <td>Pokemon Red/Pokemon Blue</td>\n",
       "      <td>GB</td>\n",
       "      <td>1996.0</td>\n",
       "      <td>Role-Playing</td>\n",
       "      <td>11.27</td>\n",
       "      <td>8.89</td>\n",
       "      <td>10.22</td>\n",
       "      <td>1.00</td>\n",
       "      <td>NaN</td>\n",
       "      <td>NaN</td>\n",
       "      <td>NaN</td>\n",
       "    </tr>\n",
       "  </tbody>\n",
       "</table>\n",
       "</div>"
      ],
      "text/plain": [
       "                       Name Platform  Year_of_Release         Genre  NA_sales  \\\n",
       "0                Wii Sports      Wii           2006.0        Sports     41.36   \n",
       "1         Super Mario Bros.      NES           1985.0      Platform     29.08   \n",
       "2            Mario Kart Wii      Wii           2008.0        Racing     15.68   \n",
       "3         Wii Sports Resort      Wii           2009.0        Sports     15.61   \n",
       "4  Pokemon Red/Pokemon Blue       GB           1996.0  Role-Playing     11.27   \n",
       "\n",
       "   EU_sales  JP_sales  Other_sales  Critic_Score User_Score Rating  \n",
       "0     28.96      3.77         8.45          76.0          8      E  \n",
       "1      3.58      6.81         0.77           NaN        NaN    NaN  \n",
       "2     12.76      3.79         3.29          82.0        8.3      E  \n",
       "3     10.93      3.28         2.95          80.0          8      E  \n",
       "4      8.89     10.22         1.00           NaN        NaN    NaN  "
      ]
     },
     "execution_count": 3,
     "metadata": {},
     "output_type": "execute_result"
    }
   ],
   "source": [
    "data.head()"
   ]
  },
  {
   "cell_type": "code",
   "execution_count": 4,
   "metadata": {},
   "outputs": [
    {
     "name": "stdout",
     "output_type": "stream",
     "text": [
      "<class 'pandas.core.frame.DataFrame'>\n",
      "RangeIndex: 16715 entries, 0 to 16714\n",
      "Data columns (total 11 columns):\n",
      " #   Column           Non-Null Count  Dtype  \n",
      "---  ------           --------------  -----  \n",
      " 0   Name             16713 non-null  object \n",
      " 1   Platform         16715 non-null  object \n",
      " 2   Year_of_Release  16446 non-null  float64\n",
      " 3   Genre            16713 non-null  object \n",
      " 4   NA_sales         16715 non-null  float64\n",
      " 5   EU_sales         16715 non-null  float64\n",
      " 6   JP_sales         16715 non-null  float64\n",
      " 7   Other_sales      16715 non-null  float64\n",
      " 8   Critic_Score     8137 non-null   float64\n",
      " 9   User_Score       10014 non-null  object \n",
      " 10  Rating           9949 non-null   object \n",
      "dtypes: float64(6), object(5)\n",
      "memory usage: 1.4+ MB\n"
     ]
    }
   ],
   "source": [
    "data.info() #Общая информация "
   ]
  },
  {
   "cell_type": "code",
   "execution_count": 5,
   "metadata": {
    "scrolled": true
   },
   "outputs": [
    {
     "data": {
      "text/plain": [
       "Critic_Score       8578\n",
       "Rating             6766\n",
       "User_Score         6701\n",
       "Year_of_Release     269\n",
       "Name                  2\n",
       "Genre                 2\n",
       "Platform              0\n",
       "NA_sales              0\n",
       "EU_sales              0\n",
       "JP_sales              0\n",
       "Other_sales           0\n",
       "dtype: int64"
      ]
     },
     "execution_count": 5,
     "metadata": {},
     "output_type": "execute_result"
    }
   ],
   "source": [
    "data.isna().sum().sort_values(ascending=False) #проверка пропусков "
   ]
  },
  {
   "cell_type": "markdown",
   "metadata": {},
   "source": [
    "<div class=\"alert alert-warning\">\n",
    "    <h2> Комментарий ревьюера v1 <a class=\"tocSkip\"> </h2>\n",
    "    \n",
    "<b>Небольшие замечания и рекомендации💡:</b> Таблицы советую сортировать) "
   ]
  },
  {
   "cell_type": "code",
   "execution_count": 6,
   "metadata": {},
   "outputs": [
    {
     "data": {
      "text/html": [
       "<div>\n",
       "<style scoped>\n",
       "    .dataframe tbody tr th:only-of-type {\n",
       "        vertical-align: middle;\n",
       "    }\n",
       "\n",
       "    .dataframe tbody tr th {\n",
       "        vertical-align: top;\n",
       "    }\n",
       "\n",
       "    .dataframe thead th {\n",
       "        text-align: right;\n",
       "    }\n",
       "</style>\n",
       "<table border=\"1\" class=\"dataframe\">\n",
       "  <thead>\n",
       "    <tr style=\"text-align: right;\">\n",
       "      <th></th>\n",
       "      <th>Year_of_Release</th>\n",
       "      <th>NA_sales</th>\n",
       "      <th>EU_sales</th>\n",
       "      <th>JP_sales</th>\n",
       "      <th>Other_sales</th>\n",
       "      <th>Critic_Score</th>\n",
       "    </tr>\n",
       "  </thead>\n",
       "  <tbody>\n",
       "    <tr>\n",
       "      <th>count</th>\n",
       "      <td>16446.000000</td>\n",
       "      <td>16715.000000</td>\n",
       "      <td>16715.000000</td>\n",
       "      <td>16715.000000</td>\n",
       "      <td>16715.000000</td>\n",
       "      <td>8137.000000</td>\n",
       "    </tr>\n",
       "    <tr>\n",
       "      <th>mean</th>\n",
       "      <td>2006.484616</td>\n",
       "      <td>0.263377</td>\n",
       "      <td>0.145060</td>\n",
       "      <td>0.077617</td>\n",
       "      <td>0.047342</td>\n",
       "      <td>68.967679</td>\n",
       "    </tr>\n",
       "    <tr>\n",
       "      <th>std</th>\n",
       "      <td>5.877050</td>\n",
       "      <td>0.813604</td>\n",
       "      <td>0.503339</td>\n",
       "      <td>0.308853</td>\n",
       "      <td>0.186731</td>\n",
       "      <td>13.938165</td>\n",
       "    </tr>\n",
       "    <tr>\n",
       "      <th>min</th>\n",
       "      <td>1980.000000</td>\n",
       "      <td>0.000000</td>\n",
       "      <td>0.000000</td>\n",
       "      <td>0.000000</td>\n",
       "      <td>0.000000</td>\n",
       "      <td>13.000000</td>\n",
       "    </tr>\n",
       "    <tr>\n",
       "      <th>25%</th>\n",
       "      <td>2003.000000</td>\n",
       "      <td>0.000000</td>\n",
       "      <td>0.000000</td>\n",
       "      <td>0.000000</td>\n",
       "      <td>0.000000</td>\n",
       "      <td>60.000000</td>\n",
       "    </tr>\n",
       "    <tr>\n",
       "      <th>50%</th>\n",
       "      <td>2007.000000</td>\n",
       "      <td>0.080000</td>\n",
       "      <td>0.020000</td>\n",
       "      <td>0.000000</td>\n",
       "      <td>0.010000</td>\n",
       "      <td>71.000000</td>\n",
       "    </tr>\n",
       "    <tr>\n",
       "      <th>75%</th>\n",
       "      <td>2010.000000</td>\n",
       "      <td>0.240000</td>\n",
       "      <td>0.110000</td>\n",
       "      <td>0.040000</td>\n",
       "      <td>0.030000</td>\n",
       "      <td>79.000000</td>\n",
       "    </tr>\n",
       "    <tr>\n",
       "      <th>max</th>\n",
       "      <td>2016.000000</td>\n",
       "      <td>41.360000</td>\n",
       "      <td>28.960000</td>\n",
       "      <td>10.220000</td>\n",
       "      <td>10.570000</td>\n",
       "      <td>98.000000</td>\n",
       "    </tr>\n",
       "  </tbody>\n",
       "</table>\n",
       "</div>"
      ],
      "text/plain": [
       "       Year_of_Release      NA_sales      EU_sales      JP_sales  \\\n",
       "count     16446.000000  16715.000000  16715.000000  16715.000000   \n",
       "mean       2006.484616      0.263377      0.145060      0.077617   \n",
       "std           5.877050      0.813604      0.503339      0.308853   \n",
       "min        1980.000000      0.000000      0.000000      0.000000   \n",
       "25%        2003.000000      0.000000      0.000000      0.000000   \n",
       "50%        2007.000000      0.080000      0.020000      0.000000   \n",
       "75%        2010.000000      0.240000      0.110000      0.040000   \n",
       "max        2016.000000     41.360000     28.960000     10.220000   \n",
       "\n",
       "        Other_sales  Critic_Score  \n",
       "count  16715.000000   8137.000000  \n",
       "mean       0.047342     68.967679  \n",
       "std        0.186731     13.938165  \n",
       "min        0.000000     13.000000  \n",
       "25%        0.000000     60.000000  \n",
       "50%        0.010000     71.000000  \n",
       "75%        0.030000     79.000000  \n",
       "max       10.570000     98.000000  "
      ]
     },
     "execution_count": 6,
     "metadata": {},
     "output_type": "execute_result"
    }
   ],
   "source": [
    "data.describe() #проверка значении в стобцах min max среднее "
   ]
  },
  {
   "cell_type": "code",
   "execution_count": 7,
   "metadata": {
    "scrolled": true
   },
   "outputs": [
    {
     "data": {
      "image/png": "[encoded data removed]",
      "text/plain": [
       "<Figure size 1080x1440 with 6 Axes>"
      ]
     },
     "metadata": {
      "needs_background": "light"
     },
     "output_type": "display_data"
    }
   ],
   "source": [
    "data.hist(figsize=(15, 20))\n",
    "plt.tight_layout()  #расположение графиков на странице\n",
    "plt.subplots_adjust(top=0.95)  # пространство над графиками\n",
    "for ax in plt.gcf().get_axes():\n",
    "    ax.set_xlabel('Значение')\n",
    "    ax.set_ylabel('Частота')"
   ]
  },
  {
   "cell_type": "code",
   "execution_count": 8,
   "metadata": {},
   "outputs": [
    {
     "data": {
      "text/plain": [
       "array(['Sports', 'Platform', 'Racing', 'Role-Playing', 'Puzzle', 'Misc',\n",
       "       'Shooter', 'Simulation', 'Action', 'Fighting', 'Adventure',\n",
       "       'Strategy', nan], dtype=object)"
      ]
     },
     "execution_count": 8,
     "metadata": {},
     "output_type": "execute_result"
    }
   ],
   "source": [
    "data['Genre'].unique()"
   ]
  },
  {
   "cell_type": "code",
   "execution_count": 9,
   "metadata": {},
   "outputs": [
    {
     "data": {
      "text/plain": [
       "array(['8', nan, '8.3', '8.5', '6.6', '8.4', '8.6', '7.7', '6.3', '7.4',\n",
       "       '8.2', '9', '7.9', '8.1', '8.7', '7.1', '3.4', '5.3', '4.8', '3.2',\n",
       "       '8.9', '6.4', '7.8', '7.5', '2.6', '7.2', '9.2', '7', '7.3', '4.3',\n",
       "       '7.6', '5.7', '5', '9.1', '6.5', 'tbd', '8.8', '6.9', '9.4', '6.8',\n",
       "       '6.1', '6.7', '5.4', '4', '4.9', '4.5', '9.3', '6.2', '4.2', '6',\n",
       "       '3.7', '4.1', '5.8', '5.6', '5.5', '4.4', '4.6', '5.9', '3.9',\n",
       "       '3.1', '2.9', '5.2', '3.3', '4.7', '5.1', '3.5', '2.5', '1.9', '3',\n",
       "       '2.7', '2.2', '2', '9.5', '2.1', '3.6', '2.8', '1.8', '3.8', '0',\n",
       "       '1.6', '9.6', '2.4', '1.7', '1.1', '0.3', '1.5', '0.7', '1.2',\n",
       "       '2.3', '0.5', '1.3', '0.2', '0.6', '1.4', '0.9', '1', '9.7'],\n",
       "      dtype=object)"
      ]
     },
     "execution_count": 9,
     "metadata": {},
     "output_type": "execute_result"
    }
   ],
   "source": [
    "data['User_Score'].unique()"
   ]
  },
  {
   "cell_type": "code",
   "execution_count": 10,
   "metadata": {},
   "outputs": [
    {
     "data": {
      "text/plain": [
       "array(['E', nan, 'M', 'T', 'E10+', 'K-A', 'AO', 'EC', 'RP'], dtype=object)"
      ]
     },
     "execution_count": 10,
     "metadata": {},
     "output_type": "execute_result"
    }
   ],
   "source": [
    "data['Rating'].unique()"
   ]
  },
  {
   "cell_type": "code",
   "execution_count": 11,
   "metadata": {},
   "outputs": [
    {
     "data": {
      "text/plain": [
       "0"
      ]
     },
     "execution_count": 11,
     "metadata": {},
     "output_type": "execute_result"
    }
   ],
   "source": [
    "data.duplicated().sum()"
   ]
  },
  {
   "cell_type": "markdown",
   "metadata": {},
   "source": [
    "**Общая информация:** \n",
    "* **Количество строк:** 16715\n",
    "* **Количество столбцов:** 11\n",
    "* **Минимальное и максимальное значения:** есть аномалии и выбросы в столбцах \n",
    "* **Наличие отрицательных значений:** аномалии нет\n",
    "* **Есть пропущенные значение в столбцах, которые нужно обработать после анализа.**\n",
    "* **Изменить формат столбцов** Year_of_Release из float64 на datetime \n",
    "* **Явных дубликатов нет**"
   ]
  },
  {
   "cell_type": "markdown",
   "metadata": {},
   "source": [
    "## Шаг 2. Предобработка данных"
   ]
  },
  {
   "cell_type": "markdown",
   "metadata": {},
   "source": [
    "### Анализ и обработка пропущенных значении"
   ]
  },
  {
   "cell_type": "markdown",
   "metadata": {},
   "source": [
    "#### Замените названия столбцов (приведите к нижнему регистру)"
   ]
  },
  {
   "cell_type": "code",
   "execution_count": 12,
   "metadata": {},
   "outputs": [],
   "source": [
    "data.columns = data.columns.str.lower()# Замена названий столбцов"
   ]
  },
  {
   "cell_type": "markdown",
   "metadata": {},
   "source": [
    "#### Преобразуйте данные в нужные типы. Опишите, в каких столбцах заменили тип данных и почему;"
   ]
  },
  {
   "cell_type": "code",
   "execution_count": 13,
   "metadata": {},
   "outputs": [],
   "source": [
    "# Преобразование формат столбцов\n",
    "data['year_of_release'] = pd.to_datetime(data['year_of_release'], format='%Y')\n",
    "data['user_score'] = pd.to_numeric(data['user_score'], errors='coerce')"
   ]
  },
  {
   "cell_type": "markdown",
   "metadata": {},
   "source": [
    "#### Обработайте пропуски при необходимости:\n",
    "- Объясните, почему заполнили пропуски определённым образом или почему не стали это делать;\n",
    "- Опишите причины, которые могли привести к пропускам;\n",
    "- Обратите внимание на аббревиатуру 'tbd' в столбце с оценкой пользователей. Отдельно разберите это значение и опишите, как его обработать;"
   ]
  },
  {
   "cell_type": "code",
   "execution_count": 14,
   "metadata": {},
   "outputs": [],
   "source": [
    "# Заполнение пропусков \n",
    "data['name'].fillna('Unknown', inplace=True)\n",
    "data['genre'].fillna('Unknown', inplace=True)\n",
    "data['rating'].fillna('Unknown', inplace=True)"
   ]
  },
  {
   "cell_type": "code",
   "execution_count": 15,
   "metadata": {},
   "outputs": [],
   "source": [
    "# Подсчет суммарных продаж во всех регионах\n",
    "data['total_sales'] = data['na_sales'] + data['eu_sales'] + data['jp_sales'] + data['other_sales']"
   ]
  },
  {
   "cell_type": "code",
   "execution_count": 16,
   "metadata": {},
   "outputs": [
    {
     "name": "stdout",
     "output_type": "stream",
     "text": [
      "<class 'pandas.core.frame.DataFrame'>\n",
      "RangeIndex: 16715 entries, 0 to 16714\n",
      "Data columns (total 12 columns):\n",
      " #   Column           Non-Null Count  Dtype         \n",
      "---  ------           --------------  -----         \n",
      " 0   name             16715 non-null  object        \n",
      " 1   platform         16715 non-null  object        \n",
      " 2   year_of_release  16446 non-null  datetime64[ns]\n",
      " 3   genre            16715 non-null  object        \n",
      " 4   na_sales         16715 non-null  float64       \n",
      " 5   eu_sales         16715 non-null  float64       \n",
      " 6   jp_sales         16715 non-null  float64       \n",
      " 7   other_sales      16715 non-null  float64       \n",
      " 8   critic_score     8137 non-null   float64       \n",
      " 9   user_score       7590 non-null   float64       \n",
      " 10  rating           16715 non-null  object        \n",
      " 11  total_sales      16715 non-null  float64       \n",
      "dtypes: datetime64[ns](1), float64(7), object(4)\n",
      "memory usage: 1.5+ MB\n"
     ]
    },
    {
     "data": {
      "text/plain": [
       "name                  0\n",
       "platform              0\n",
       "year_of_release     269\n",
       "genre                 0\n",
       "na_sales              0\n",
       "eu_sales              0\n",
       "jp_sales              0\n",
       "other_sales           0\n",
       "critic_score       8578\n",
       "user_score         9125\n",
       "rating                0\n",
       "total_sales           0\n",
       "dtype: int64"
      ]
     },
     "execution_count": 16,
     "metadata": {},
     "output_type": "execute_result"
    }
   ],
   "source": [
    "# Промежуточный вывод обновленной инфы\n",
    "data.info()\n",
    "data.isna().sum()"
   ]
  },
  {
   "cell_type": "code",
   "execution_count": 17,
   "metadata": {},
   "outputs": [
    {
     "data": {
      "text/plain": [
       "0"
      ]
     },
     "execution_count": 17,
     "metadata": {},
     "output_type": "execute_result"
    }
   ],
   "source": [
    "data[data['user_score'] == 'tbd']['user_score'].count()"
   ]
  },
  {
   "cell_type": "markdown",
   "metadata": {},
   "source": [
    "#### Выводы\n",
    "1. **Преобразование формата столбцов** year_of_release и user_score:\n",
    "- Преобразование в формат datetime позволит работать с датами для фильтрации данных по году или вычисление временных интервалов\n",
    "- Преобразование столбца 'user_core' в числовой формат позволит нам выполнять математические операции, вычислять статистику и проводить анализ данных, errors='coerce позволит избежать ошибки из-за аббревиатуры 'tbd' \n",
    "2. **Замена пропусков** 'name','genre' и 'rating'\n",
    "- в столбце 'name' были 2 пропуска, без названия вся информация безполезна, я немного боюсь удалять(если в дальнейшем есть возможность восстановить) и заполнила значение на \"Unknown\"  \n",
    "- 'genre' и 'rating' - заполнение значением 'Unknown' помогает сохранить информацию о пропущенных значениях и продолжить анализ данных без искажений \n",
    "3. **Предположительные причины пропусков:**\n",
    "- Технические причины - Пропуски могли возникнуть из-за неполадок в системе записи данных\n",
    "- Ручные ошибки - Ошибки при заполнении форм \n",
    "- Ошибки в процессе сбора данных - Проблем с доступом к определенной информации\n",
    "4. **Остальные пропуски:** Для обработки пропусков в столбцах year_of_release, critic_score, user_score требуется тщательный анализ, показатели которых влияет на общую статистику и расчеты"
   ]
  },
  {
   "cell_type": "markdown",
   "metadata": {},
   "source": [
    "## Шаг 3. Исследовательский анализ данных"
   ]
  },
  {
   "cell_type": "markdown",
   "metadata": {},
   "source": [
    "### Посмотрите, сколько игр выпускалось в разные годы. Важны ли данные за все периоды?"
   ]
  },
  {
   "cell_type": "code",
   "execution_count": 18,
   "metadata": {},
   "outputs": [
    {
     "data": {
      "text/plain": [
       "Text(0, 0.5, 'Количество')"
      ]
     },
     "execution_count": 18,
     "metadata": {},
     "output_type": "execute_result"
    },
    {
     "data": {
      "image/png": "[encoded data removed]",
      "text/plain": [
       "<Figure size 864x432 with 1 Axes>"
      ]
     },
     "metadata": {},
     "output_type": "display_data"
    }
   ],
   "source": [
    "games_per_year = data['year_of_release'].value_counts().sort_index()\n",
    "\n",
    "\n",
    "sns.set(style=\"whitegrid\")\n",
    "plt.figure(figsize=(12, 6))\n",
    "sns.lineplot(data=games_per_year, marker='o', color='blue')\n",
    "\n",
    "plt.title('Количество игр по годам', fontsize=16)\n",
    "plt.xlabel('Год', fontsize=12)\n",
    "plt.ylabel('Количество', fontsize=12)"
   ]
  },
  {
   "cell_type": "markdown",
   "metadata": {},
   "source": [
    "**Ответ на вопрос** Все зависеть от целей и задач исследования. Но, если анализ ограничен определенным временным периодом или конкретными вопросами, данные за более далекие годы могут быть менее значимыми"
   ]
  },
  {
   "cell_type": "markdown",
   "metadata": {},
   "source": [
    "### Посмотрите, как менялись продажи по платформам. Выберите платформы с наибольшими суммарными продажами и постройте распределение по годам. За какой характерный срок появляются новые и исчезают старые платформы?"
   ]
  },
  {
   "cell_type": "code",
   "execution_count": 19,
   "metadata": {
    "scrolled": true
   },
   "outputs": [
    {
     "data": {
      "text/plain": [
       "<matplotlib.legend.Legend at 0x7f92962bbf70>"
      ]
     },
     "execution_count": 19,
     "metadata": {},
     "output_type": "execute_result"
    },
    {
     "data": {
      "image/png": "[encoded data removed]",
      "text/plain": [
       "<Figure size 864x432 with 1 Axes>"
      ]
     },
     "metadata": {},
     "output_type": "display_data"
    }
   ],
   "source": [
    "# Рассчет сумм от продаж\n",
    "platform_sales = data.groupby('platform')['total_sales'].sum().sort_values(ascending=False)\n",
    "\n",
    "# платформы с наибольшим суммарными продажами\n",
    "top_platforms = platform_sales.head(5)\n",
    "\n",
    "# Фильтрация данных для выбранных платформ\n",
    "top_platforms_data = data[data['platform'].isin(top_platforms.index)]\n",
    "\n",
    "# Распределение по годам\n",
    "platform_sales_by_year = top_platforms_data.groupby(['platform', 'year_of_release'])['total_sales'].sum().reset_index()\n",
    "\n",
    "# Визуализация\n",
    "plt.figure(figsize=(12, 6))\n",
    "sns.lineplot(x='year_of_release', y='total_sales', hue='platform', data=platform_sales_by_year)\n",
    "plt.title('Продажи по платформам по годам')\n",
    "plt.xlabel('Год')\n",
    "plt.ylabel('Суммарные продажи')\n",
    "plt.legend()"
   ]
  },
  {
   "cell_type": "code",
   "execution_count": 20,
   "metadata": {},
   "outputs": [
    {
     "data": {
      "text/plain": [
       "platform\n",
       "PS2     1255.77\n",
       "X360     971.42\n",
       "PS3      939.65\n",
       "Wii      907.51\n",
       "DS       806.12\n",
       "Name: total_sales, dtype: float64"
      ]
     },
     "execution_count": 20,
     "metadata": {},
     "output_type": "execute_result"
    }
   ],
   "source": [
    "platform_sales.head(5)"
   ]
  },
  {
   "cell_type": "markdown",
   "metadata": {},
   "source": [
    "Топ платформы с наибольшими суммарными продажами:\n",
    "\n",
    "- PS2 \n",
    "- X360\n",
    "- PS3\n",
    "- Wii\n",
    "- DS \n",
    "\n",
    "Жизненный цикл платформы составляет примерно от 4 до 10 лет. После этого периода платформы часто устаревают и заменяются новыми моделями или конкурирующими платформами."
   ]
  },
  {
   "cell_type": "markdown",
   "metadata": {},
   "source": [
    "### Возьмите данные за соответствующий актуальный период. Актуальный период определите самостоятельно в результате исследования предыдущих вопросов. Основной фактор — эти данные помогут построить прогноз на 2017 год."
   ]
  },
  {
   "cell_type": "code",
   "execution_count": 21,
   "metadata": {},
   "outputs": [
    {
     "data": {
      "text/html": [
       "<div>\n",
       "<style scoped>\n",
       "    .dataframe tbody tr th:only-of-type {\n",
       "        vertical-align: middle;\n",
       "    }\n",
       "\n",
       "    .dataframe tbody tr th {\n",
       "        vertical-align: top;\n",
       "    }\n",
       "\n",
       "    .dataframe thead th {\n",
       "        text-align: right;\n",
       "    }\n",
       "</style>\n",
       "<table border=\"1\" class=\"dataframe\">\n",
       "  <thead>\n",
       "    <tr style=\"text-align: right;\">\n",
       "      <th></th>\n",
       "      <th>name</th>\n",
       "      <th>platform</th>\n",
       "      <th>year_of_release</th>\n",
       "      <th>genre</th>\n",
       "      <th>na_sales</th>\n",
       "      <th>eu_sales</th>\n",
       "      <th>jp_sales</th>\n",
       "      <th>other_sales</th>\n",
       "      <th>critic_score</th>\n",
       "      <th>user_score</th>\n",
       "      <th>rating</th>\n",
       "      <th>total_sales</th>\n",
       "    </tr>\n",
       "  </thead>\n",
       "  <tbody>\n",
       "    <tr>\n",
       "      <th>16</th>\n",
       "      <td>Grand Theft Auto V</td>\n",
       "      <td>PS3</td>\n",
       "      <td>2013-01-01</td>\n",
       "      <td>Action</td>\n",
       "      <td>7.02</td>\n",
       "      <td>9.09</td>\n",
       "      <td>0.98</td>\n",
       "      <td>3.96</td>\n",
       "      <td>97.0</td>\n",
       "      <td>8.2</td>\n",
       "      <td>M</td>\n",
       "      <td>21.05</td>\n",
       "    </tr>\n",
       "    <tr>\n",
       "      <th>23</th>\n",
       "      <td>Grand Theft Auto V</td>\n",
       "      <td>X360</td>\n",
       "      <td>2013-01-01</td>\n",
       "      <td>Action</td>\n",
       "      <td>9.66</td>\n",
       "      <td>5.14</td>\n",
       "      <td>0.06</td>\n",
       "      <td>1.41</td>\n",
       "      <td>97.0</td>\n",
       "      <td>8.1</td>\n",
       "      <td>M</td>\n",
       "      <td>16.27</td>\n",
       "    </tr>\n",
       "    <tr>\n",
       "      <th>31</th>\n",
       "      <td>Call of Duty: Black Ops 3</td>\n",
       "      <td>PS4</td>\n",
       "      <td>2015-01-01</td>\n",
       "      <td>Shooter</td>\n",
       "      <td>6.03</td>\n",
       "      <td>5.86</td>\n",
       "      <td>0.36</td>\n",
       "      <td>2.38</td>\n",
       "      <td>NaN</td>\n",
       "      <td>NaN</td>\n",
       "      <td>Unknown</td>\n",
       "      <td>14.63</td>\n",
       "    </tr>\n",
       "    <tr>\n",
       "      <th>33</th>\n",
       "      <td>Pokemon X/Pokemon Y</td>\n",
       "      <td>3DS</td>\n",
       "      <td>2013-01-01</td>\n",
       "      <td>Role-Playing</td>\n",
       "      <td>5.28</td>\n",
       "      <td>4.19</td>\n",
       "      <td>4.35</td>\n",
       "      <td>0.78</td>\n",
       "      <td>NaN</td>\n",
       "      <td>NaN</td>\n",
       "      <td>Unknown</td>\n",
       "      <td>14.60</td>\n",
       "    </tr>\n",
       "    <tr>\n",
       "      <th>42</th>\n",
       "      <td>Grand Theft Auto V</td>\n",
       "      <td>PS4</td>\n",
       "      <td>2014-01-01</td>\n",
       "      <td>Action</td>\n",
       "      <td>3.96</td>\n",
       "      <td>6.31</td>\n",
       "      <td>0.38</td>\n",
       "      <td>1.97</td>\n",
       "      <td>97.0</td>\n",
       "      <td>8.3</td>\n",
       "      <td>M</td>\n",
       "      <td>12.62</td>\n",
       "    </tr>\n",
       "  </tbody>\n",
       "</table>\n",
       "</div>"
      ],
      "text/plain": [
       "                         name platform year_of_release         genre  \\\n",
       "16         Grand Theft Auto V      PS3      2013-01-01        Action   \n",
       "23         Grand Theft Auto V     X360      2013-01-01        Action   \n",
       "31  Call of Duty: Black Ops 3      PS4      2015-01-01       Shooter   \n",
       "33        Pokemon X/Pokemon Y      3DS      2013-01-01  Role-Playing   \n",
       "42         Grand Theft Auto V      PS4      2014-01-01        Action   \n",
       "\n",
       "    na_sales  eu_sales  jp_sales  other_sales  critic_score  user_score  \\\n",
       "16      7.02      9.09      0.98         3.96          97.0         8.2   \n",
       "23      9.66      5.14      0.06         1.41          97.0         8.1   \n",
       "31      6.03      5.86      0.36         2.38           NaN         NaN   \n",
       "33      5.28      4.19      4.35         0.78           NaN         NaN   \n",
       "42      3.96      6.31      0.38         1.97          97.0         8.3   \n",
       "\n",
       "     rating  total_sales  \n",
       "16        M        21.05  \n",
       "23        M        16.27  \n",
       "31  Unknown        14.63  \n",
       "33  Unknown        14.60  \n",
       "42        M        12.62  "
      ]
     },
     "execution_count": 21,
     "metadata": {},
     "output_type": "execute_result"
    }
   ],
   "source": [
    "# Актуальный период\n",
    "actual_period = data[data['year_of_release'].between(pd.to_datetime('2013'), pd.to_datetime('2016'))]\n",
    "actual_period.head()"
   ]
  },
  {
   "cell_type": "markdown",
   "metadata": {},
   "source": [
    "**В результате проведенного исследования предыдущих вопросов были получены следующие выводы:**\n",
    "\n",
    "1. Количество выпускаемых игр: Наблюдается рост количества выпускаемых игр с начала 2000-х годов до 2008 года. После этого происходит постепенное снижение. Основные данные после 2013 года, позволяют более точно прогнозировать продажи в ближайшем будущем\n",
    "\n",
    "2. Продажи по платформам с наибольшими суммарными продажами: Это платформы PS2, Xbox360, PS3, Wii и DS. Они имеют активное присутствие на рынке в последние годы\n",
    "\n",
    "3. Характерный срок появления и исчезновения платформ: развиваются в течение 5-10 лет\n",
    " \n",
    " \n",
    "Актуальным периодом может быть период с 2013г - по 2016г. для построения прогноза на 2017г"
   ]
  },
  {
   "cell_type": "markdown",
   "metadata": {},
   "source": [
    "### Какие платформы лидируют по продажам, растут или падают? Выберите несколько потенциально прибыльных платформ."
   ]
  },
  {
   "cell_type": "code",
   "execution_count": 22,
   "metadata": {},
   "outputs": [
    {
     "data": {
      "text/plain": [
       "<matplotlib.legend.Legend at 0x7f92964173d0>"
      ]
     },
     "execution_count": 22,
     "metadata": {},
     "output_type": "execute_result"
    },
    {
     "data": {
      "image/png": "[encoded data removed]",
      "text/plain": [
       "<Figure size 864x432 with 1 Axes>"
      ]
     },
     "metadata": {},
     "output_type": "display_data"
    }
   ],
   "source": [
    "# Рассчет сумм продаж по платформам\n",
    "platform_sales = actual_period.groupby('platform')['total_sales'].sum().sort_values(ascending=False)\n",
    "\n",
    "# Платформы с наибольшими суммарными продажами\n",
    "top_platforms = platform_sales.head(5)\n",
    "\n",
    "# Определение тренда для каждой платформы\n",
    "platform_trends = actual_period.pivot_table(index='year_of_release', columns='platform', values='total_sales', aggfunc='sum')\n",
    "\n",
    "# Визуализация трендов по платформам\n",
    "platform_trends[top_platforms.index].plot(figsize=(12, 6))\n",
    "plt.title('Тренды продаж по платформам')\n",
    "plt.xlabel('Год')\n",
    "plt.ylabel('Глобальные продажи, млн. копий')\n",
    "plt.legend(title='Платформа')"
   ]
  },
  {
   "cell_type": "markdown",
   "metadata": {},
   "source": [
    "**Вывод:** Исходя из анализа графиков, можно сделать вывод, что некоторые платформы видеоигр в последние годы имеют тенденцию к снижению продаж, но все же остаются значимыми. Наиболее прибыльными платформами на текущий момент являются PS4 и Xbox One. Платформы PS3 и Xbox 360 уже устарели и имеют незначительные продажи. Платформа 3DS имеет некоторую активность, но её прибыльность не так высока, как у других платформ. Это свидетельствует о необходимости адаптации к рыночным трендам и выборе наиболее перспективных платформ для разработки и выпуска игр."
   ]
  },
  {
   "cell_type": "markdown",
   "metadata": {},
   "source": [
    "### График «ящик с усами» по глобальным продажам игр в разбивке по платформам"
   ]
  },
  {
   "cell_type": "code",
   "execution_count": 23,
   "metadata": {},
   "outputs": [
    {
     "data": {
      "text/plain": [
       "(0.0, 2.0)"
      ]
     },
     "execution_count": 23,
     "metadata": {},
     "output_type": "execute_result"
    },
    {
     "data": {
      "image/png": "[encoded data removed]",
      "text/plain": [
       "<Figure size 864x432 with 1 Axes>"
      ]
     },
     "metadata": {},
     "output_type": "display_data"
    }
   ],
   "source": [
    "plt.figure(figsize=(12, 6))\n",
    "sns.boxplot(data=actual_period, x='platform', y='total_sales')\n",
    "plt.title('Глобальные продажи игр по платформам')\n",
    "plt.xlabel('Платформа')\n",
    "plt.ylabel('Глобальные продажи, млн. копий')\n",
    "plt.ylim(0, 2)  # Указать диапазон значений для оси y"
   ]
  },
  {
   "cell_type": "markdown",
   "metadata": {},
   "source": [
    "**Результат:** \n",
    "\n",
    "Наибольшие медианные продажи наблюдаются у платформы PS4, а также у Xbox One и Wii.\n",
    "Усы у PS4 и Xbox One простираются дальше остальных платформ, что указывает на наличие выбросов - игр с очень высокими продажами.\n",
    "Платформы 3DS и PSV имеют наименьшие медианные продажи и более узкий размах, что говорит о меньшей популярности \n"
   ]
  },
  {
   "cell_type": "markdown",
   "metadata": {},
   "source": [
    "### Посмотрите, как влияют на продажи внутри одной популярной платформы отзывы пользователей и критиков. Постройте диаграмму рассеяния и посчитайте корреляцию между отзывами и продажами. Сформулируйте выводы"
   ]
  },
  {
   "cell_type": "code",
   "execution_count": 24,
   "metadata": {},
   "outputs": [
    {
     "name": "stdout",
     "output_type": "stream",
     "text": [
      "Корреляция отзывов пользователей и продаж: -0.03\n"
     ]
    },
    {
     "data": {
      "image/png": "[encoded data removed]",
      "text/plain": [
       "<Figure size 576x432 with 1 Axes>"
      ]
     },
     "metadata": {},
     "output_type": "display_data"
    }
   ],
   "source": [
    "# Диаграмму рассеяния для отзывов пользователей\n",
    "ps4_data = actual_period[actual_period['platform'] == 'PS4']\n",
    "\n",
    "plt.figure(figsize=(8, 6))\n",
    "plt.scatter(ps4_data['user_score'], ps4_data['total_sales'], s=ps4_data['total_sales']*10, alpha=0.5)\n",
    "plt.title('Зависимость отзывов пользователей от продаж (PS4)')\n",
    "plt.xlabel('Отзывы пользователей')\n",
    "plt.ylabel('Продажи')\n",
    "\n",
    "user_correlation = ps4_data['user_score'].corr(ps4_data['total_sales'])\n",
    "print('Корреляция отзывов пользователей и продаж: {:.2f}'.format(user_correlation))"
   ]
  },
  {
   "cell_type": "code",
   "execution_count": 26,
   "metadata": {},
   "outputs": [
    {
     "name": "stdout",
     "output_type": "stream",
     "text": [
      "Корреляция отзывов критиков и продаж: 0.41\n"
     ]
    },
    {
     "data": {
      "image/png": "[encoded data removed]",
      "text/plain": [
       "<Figure size 576x432 with 1 Axes>"
      ]
     },
     "metadata": {},
     "output_type": "display_data"
    }
   ],
   "source": [
    "# Критики\n",
    "plt.figure(figsize=(8, 6))\n",
    "plt.scatter(ps4_data['critic_score'], ps4_data['total_sales'], s=ps4_data['total_sales']*10, alpha=0.5)\n",
    "plt.title('Зависимость отзывов критиков от продаж (PS4)')\n",
    "plt.xlabel('Отзывы критиков')\n",
    "plt.ylabel('Продажи')\n",
    "\n",
    "# Корреляции между отзывами критиков и продажами\n",
    "critic_correlation = ps4_data['critic_score'].corr(ps4_data['total_sales'])\n",
    "print('Корреляция отзывов критиков и продаж: {:.2f}'.format(critic_correlation))"
   ]
  },
  {
   "cell_type": "code",
   "execution_count": 27,
   "metadata": {},
   "outputs": [
    {
     "data": {
      "text/plain": [
       "Text(0, 0.5, 'Продажи')"
      ]
     },
     "execution_count": 27,
     "metadata": {},
     "output_type": "execute_result"
    },
    {
     "data": {
      "image/png": "[encoded data removed]",
      "text/plain": [
       "<Figure size 576x432 with 1 Axes>"
      ]
     },
     "metadata": {},
     "output_type": "display_data"
    },
    {
     "data": {
      "image/png": "[encoded data removed]",
      "text/plain": [
       "<Figure size 576x432 with 1 Axes>"
      ]
     },
     "metadata": {},
     "output_type": "display_data"
    }
   ],
   "source": [
    "# Перспективные платформы\n",
    "platforms = ['PS4', 'XOne', 'NS']\n",
    "platforms_data = actual_period[actual_period['platform'].isin(platforms)]\n",
    "\n",
    "# Зависимость отзывов пользователей от продаж\n",
    "plt.figure(figsize=(8, 6))\n",
    "sns.scatterplot(data=platforms_data, x='user_score', y='total_sales', hue='platform', size='total_sales', sizes=(50, 500), alpha=0.5)\n",
    "plt.title('Зависимость отзывов пользователей от продаж')\n",
    "plt.xlabel('Отзывы пользователей')\n",
    "plt.ylabel('Продажи')\n",
    "\n",
    "# Зависимость отзывов критиков от продаж\n",
    "plt.figure(figsize=(8, 6))\n",
    "sns.scatterplot(data=platforms_data, x='critic_score', y='total_sales', hue='platform', size='total_sales', sizes=(50, 500), alpha=0.5)\n",
    "plt.title('Зависимость отзывов критиков от продаж')\n",
    "plt.xlabel('Отзывы критиков')\n",
    "plt.ylabel('Продажи')"
   ]
  },
  {
   "cell_type": "markdown",
   "metadata": {},
   "source": [
    "**Из диаграммы рассеяния и вычисленной корреляции можно сделать следующие выводы:**\n",
    "Платформа PS4:\n",
    "\n",
    "- Наблюдается положительная корреляция между отзывами пользователей и продажами игр для PS4.\n",
    "- Умеренная положительная корреляция между отзывами критиков и продажами игр для PS4. Игры, получившие высокие оценки критиков, склонны высоким продажам.\n",
    "\n",
    "Другие перспективные платформы ('PS4', 'XOne', 'NS'):\n",
    "\n",
    "- Для других перспективных платформ также наблюдается положительная корреляция между отзывами пользователей и продажами игр.\n",
    "\n",
    "В целом, оценки отзывов пользователей и критиков могут влиять на объем продаж игр, но степень этого влияния может различаться в зависимости от платформы."
   ]
  },
  {
   "cell_type": "code",
   "execution_count": 28,
   "metadata": {},
   "outputs": [
    {
     "data": {
      "image/png": "[encoded data removed]",
      "text/plain": [
       "<Figure size 864x432 with 1 Axes>"
      ]
     },
     "metadata": {},
     "output_type": "display_data"
    }
   ],
   "source": [
    "genre_sales = actual_period.groupby('genre')['total_sales'].sum().sort_values(ascending=False)\n",
    "# Визуализация\n",
    "plt.figure(figsize=(12, 6))\n",
    "sns.barplot(x=genre_sales.index, y=genre_sales.values)\n",
    "plt.title('Распределение пб жанрам')\n",
    "plt.xlabel('Жанр')\n",
    "plt.ylabel('Продажи')\n",
    "plt.xticks(rotation=45)\n",
    "\n",
    "# Топ самых прибыльных жанров\n",
    "top_genres = genre_sales.head(5)"
   ]
  },
  {
   "cell_type": "markdown",
   "metadata": {},
   "source": [
    "**Выводы** Изучив эти данные, можно определить жанры, которые приносят наибольшую прибыль. \n",
    "Жанры с высокими продажами это - экшн, шутеры, спортивные и ролевые игры. \n",
    "Также можно выделить жанры с низкими продажами жто - стратегии, головоломки и приключенческие игры. \n",
    "\n",
    "Предположительно, игры с динамичным сюжетом, высокой графикой и высоким бюджетом более привлекательны для аудитории и могут успешно конкурировать на рынке. Однако, стоит учитывать, что каждый жанр имеет свою уникальность и специфику"
   ]
  },
  {
   "cell_type": "code",
   "execution_count": 29,
   "metadata": {},
   "outputs": [
    {
     "data": {
      "text/plain": [
       "(array([ 0,  1,  2,  3,  4,  5,  6,  7,  8,  9, 10, 11]),\n",
       " [Text(0, 0, 'Shooter'),\n",
       "  Text(1, 0, 'Sports'),\n",
       "  Text(2, 0, 'Platform'),\n",
       "  Text(3, 0, 'Role-Playing'),\n",
       "  Text(4, 0, 'Fighting'),\n",
       "  Text(5, 0, 'Racing'),\n",
       "  Text(6, 0, 'Action'),\n",
       "  Text(7, 0, 'Simulation'),\n",
       "  Text(8, 0, 'Misc'),\n",
       "  Text(9, 0, 'Strategy'),\n",
       "  Text(10, 0, 'Puzzle'),\n",
       "  Text(11, 0, 'Adventure')])"
      ]
     },
     "execution_count": 29,
     "metadata": {},
     "output_type": "execute_result"
    },
    {
     "data": {
      "image/png": "[encoded data removed]",
      "text/plain": [
       "<Figure size 864x432 with 2 Axes>"
      ]
     },
     "metadata": {},
     "output_type": "display_data"
    }
   ],
   "source": [
    "# Рассчитываем средние продажи по жанрам\n",
    "genre_mean_sales = actual_period.groupby('genre')['total_sales'].mean().sort_values(ascending=False)\n",
    "\n",
    "# Рассчитываем медианные продажи по жанрам\n",
    "genre_median_sales = actual_period.groupby('genre')['total_sales'].median().sort_values(ascending=False)\n",
    "\n",
    "# Создаем графики для сравнения\n",
    "plt.figure(figsize=(12, 6))\n",
    "\n",
    "# Средние продажи\n",
    "plt.subplot(1, 2, 1)\n",
    "sns.barplot(x=genre_mean_sales.index, y=genre_mean_sales.values)\n",
    "plt.title('Средние продажи')\n",
    "plt.xlabel('Жанр')\n",
    "plt.ylabel('Средние продажи')\n",
    "plt.xticks(rotation=45)\n",
    "\n",
    "# Медианные продажи\n",
    "plt.subplot(1, 2, 2)\n",
    "sns.barplot(x=genre_median_sales.index, y=genre_median_sales.values)\n",
    "plt.title('Медианные продажи')\n",
    "plt.xlabel('Жанр')\n",
    "plt.ylabel('Медианные продажи')\n",
    "plt.xticks(rotation=45)"
   ]
  },
  {
   "cell_type": "markdown",
   "metadata": {},
   "source": [
    "## Шаг 4. Портрет пользователя каждого региона"
   ]
  },
  {
   "cell_type": "code",
   "execution_count": 30,
   "metadata": {},
   "outputs": [
    {
     "data": {
      "text/html": [
       "<div>\n",
       "<style scoped>\n",
       "    .dataframe tbody tr th:only-of-type {\n",
       "        vertical-align: middle;\n",
       "    }\n",
       "\n",
       "    .dataframe tbody tr th {\n",
       "        vertical-align: top;\n",
       "    }\n",
       "\n",
       "    .dataframe thead th {\n",
       "        text-align: right;\n",
       "    }\n",
       "</style>\n",
       "<table border=\"1\" class=\"dataframe\">\n",
       "  <thead>\n",
       "    <tr style=\"text-align: right;\">\n",
       "      <th></th>\n",
       "      <th>name</th>\n",
       "      <th>platform</th>\n",
       "      <th>year_of_release</th>\n",
       "      <th>genre</th>\n",
       "      <th>na_sales</th>\n",
       "      <th>eu_sales</th>\n",
       "      <th>jp_sales</th>\n",
       "      <th>other_sales</th>\n",
       "      <th>critic_score</th>\n",
       "      <th>user_score</th>\n",
       "      <th>rating</th>\n",
       "      <th>total_sales</th>\n",
       "    </tr>\n",
       "  </thead>\n",
       "  <tbody>\n",
       "    <tr>\n",
       "      <th>0</th>\n",
       "      <td>Wii Sports</td>\n",
       "      <td>Wii</td>\n",
       "      <td>2006-01-01</td>\n",
       "      <td>Sports</td>\n",
       "      <td>41.36</td>\n",
       "      <td>28.96</td>\n",
       "      <td>3.77</td>\n",
       "      <td>8.45</td>\n",
       "      <td>76.0</td>\n",
       "      <td>8.0</td>\n",
       "      <td>E</td>\n",
       "      <td>82.54</td>\n",
       "    </tr>\n",
       "    <tr>\n",
       "      <th>1</th>\n",
       "      <td>Super Mario Bros.</td>\n",
       "      <td>NES</td>\n",
       "      <td>1985-01-01</td>\n",
       "      <td>Platform</td>\n",
       "      <td>29.08</td>\n",
       "      <td>3.58</td>\n",
       "      <td>6.81</td>\n",
       "      <td>0.77</td>\n",
       "      <td>NaN</td>\n",
       "      <td>NaN</td>\n",
       "      <td>Unknown</td>\n",
       "      <td>40.24</td>\n",
       "    </tr>\n",
       "    <tr>\n",
       "      <th>2</th>\n",
       "      <td>Mario Kart Wii</td>\n",
       "      <td>Wii</td>\n",
       "      <td>2008-01-01</td>\n",
       "      <td>Racing</td>\n",
       "      <td>15.68</td>\n",
       "      <td>12.76</td>\n",
       "      <td>3.79</td>\n",
       "      <td>3.29</td>\n",
       "      <td>82.0</td>\n",
       "      <td>8.3</td>\n",
       "      <td>E</td>\n",
       "      <td>35.52</td>\n",
       "    </tr>\n",
       "    <tr>\n",
       "      <th>3</th>\n",
       "      <td>Wii Sports Resort</td>\n",
       "      <td>Wii</td>\n",
       "      <td>2009-01-01</td>\n",
       "      <td>Sports</td>\n",
       "      <td>15.61</td>\n",
       "      <td>10.93</td>\n",
       "      <td>3.28</td>\n",
       "      <td>2.95</td>\n",
       "      <td>80.0</td>\n",
       "      <td>8.0</td>\n",
       "      <td>E</td>\n",
       "      <td>32.77</td>\n",
       "    </tr>\n",
       "    <tr>\n",
       "      <th>4</th>\n",
       "      <td>Pokemon Red/Pokemon Blue</td>\n",
       "      <td>GB</td>\n",
       "      <td>1996-01-01</td>\n",
       "      <td>Role-Playing</td>\n",
       "      <td>11.27</td>\n",
       "      <td>8.89</td>\n",
       "      <td>10.22</td>\n",
       "      <td>1.00</td>\n",
       "      <td>NaN</td>\n",
       "      <td>NaN</td>\n",
       "      <td>Unknown</td>\n",
       "      <td>31.38</td>\n",
       "    </tr>\n",
       "  </tbody>\n",
       "</table>\n",
       "</div>"
      ],
      "text/plain": [
       "                       name platform year_of_release         genre  na_sales  \\\n",
       "0                Wii Sports      Wii      2006-01-01        Sports     41.36   \n",
       "1         Super Mario Bros.      NES      1985-01-01      Platform     29.08   \n",
       "2            Mario Kart Wii      Wii      2008-01-01        Racing     15.68   \n",
       "3         Wii Sports Resort      Wii      2009-01-01        Sports     15.61   \n",
       "4  Pokemon Red/Pokemon Blue       GB      1996-01-01  Role-Playing     11.27   \n",
       "\n",
       "   eu_sales  jp_sales  other_sales  critic_score  user_score   rating  \\\n",
       "0     28.96      3.77         8.45          76.0         8.0        E   \n",
       "1      3.58      6.81         0.77           NaN         NaN  Unknown   \n",
       "2     12.76      3.79         3.29          82.0         8.3        E   \n",
       "3     10.93      3.28         2.95          80.0         8.0        E   \n",
       "4      8.89     10.22         1.00           NaN         NaN  Unknown   \n",
       "\n",
       "   total_sales  \n",
       "0        82.54  \n",
       "1        40.24  \n",
       "2        35.52  \n",
       "3        32.77  \n",
       "4        31.38  "
      ]
     },
     "execution_count": 30,
     "metadata": {},
     "output_type": "execute_result"
    }
   ],
   "source": [
    "data.head()"
   ]
  },
  {
   "cell_type": "markdown",
   "metadata": {},
   "source": [
    "### Определите для пользователя каждого региона (NA, EU, JP):\n",
    "- Самые популярные платформы (топ-5). Опишите различия в долях продаж.\n",
    "- Самые популярные жанры (топ-5). Поясните разницу.\n",
    "- Влияет ли рейтинг ESRB на продажи в отдельном регионе?"
   ]
  },
  {
   "cell_type": "markdown",
   "metadata": {},
   "source": [
    "#### Самые популярные платформы (топ-5). Опишите различия в долях продаж."
   ]
  },
  {
   "cell_type": "code",
   "execution_count": 31,
   "metadata": {},
   "outputs": [
    {
     "name": "stdout",
     "output_type": "stream",
     "text": [
      "Самые популярные платформы в регионе NA:\n",
      "platform\n",
      "PS4     98.61\n",
      "XOne    81.27\n",
      "X360    28.30\n",
      "3DS     22.64\n",
      "PS3     22.05\n",
      "Name: na_sales, dtype: float64\n",
      "Доли продаж в регионе NA:\n",
      "platform\n",
      "PS4     38.996322\n",
      "XOne    32.139044\n",
      "X360    11.191521\n",
      "3DS      8.953217\n",
      "PS3      8.719896\n",
      "Name: na_sales, dtype: float64\n",
      "\n",
      "Самые популярные платформы в регионе EU:\n",
      "platform\n",
      "PS4     130.04\n",
      "XOne     46.25\n",
      "PS3      25.54\n",
      "PC       17.97\n",
      "3DS      16.12\n",
      "Name: eu_sales, dtype: float64\n",
      "Доли продаж в регионе EU:\n",
      "platform\n",
      "PS4     55.120380\n",
      "XOne    19.604103\n",
      "PS3     10.825704\n",
      "PC       7.616989\n",
      "3DS      6.832825\n",
      "Name: eu_sales, dtype: float64\n",
      "\n",
      "Самые популярные платформы в регионе JP:\n",
      "platform\n",
      "3DS     44.24\n",
      "PS4     15.02\n",
      "PSV     14.54\n",
      "PS3     11.22\n",
      "WiiU     7.31\n",
      "Name: jp_sales, dtype: float64\n",
      "Доли продаж в регионе JP:\n",
      "platform\n",
      "3DS     47.915087\n",
      "PS4     16.267735\n",
      "PSV     15.747861\n",
      "PS3     12.152063\n",
      "WiiU     7.917253\n",
      "Name: jp_sales, dtype: float64\n"
     ]
    }
   ],
   "source": [
    "def get_top_platforms(region):\n",
    "    region_data = data[data['year_of_release'].between('2014', '2016')]\n",
    "    top_platforms = region_data.groupby('platform')[region+'_sales'].sum().sort_values(ascending=False).head(5)\n",
    "    platform_sales_share = (top_platforms / top_platforms.sum()) * 100\n",
    "    return top_platforms, platform_sales_share\n",
    "\n",
    "#NA\n",
    "top_platforms_na, platform_sales_share_na = get_top_platforms('na')\n",
    "print(\"Самые популярные платформы в регионе NA:\")\n",
    "print(top_platforms_na)\n",
    "print(\"Доли продаж в регионе NA:\")\n",
    "print(platform_sales_share_na)\n",
    "print()\n",
    "\n",
    "#EU\n",
    "top_platforms_eu, platform_sales_share_eu = get_top_platforms('eu')\n",
    "print(\"Самые популярные платформы в регионе EU:\")\n",
    "print(top_platforms_eu)\n",
    "print(\"Доли продаж в регионе EU:\")\n",
    "print(platform_sales_share_eu)\n",
    "print()\n",
    "\n",
    "#JP\n",
    "top_platforms_jp, platform_sales_share_jp = get_top_platforms('jp')\n",
    "print(\"Самые популярные платформы в регионе JP:\")\n",
    "print(top_platforms_jp)\n",
    "print(\"Доли продаж в регионе JP:\")\n",
    "print(platform_sales_share_jp)"
   ]
  },
  {
   "cell_type": "code",
   "execution_count": 31,
   "metadata": {},
   "outputs": [
    {
     "data": {
      "image/png": "[encoded data removed]",
      "text/plain": [
       "<Figure size 864x432 with 1 Axes>"
      ]
     },
     "metadata": {},
     "output_type": "display_data"
    },
    {
     "data": {
      "image/png": "[encoded data removed]",
      "text/plain": [
       "<Figure size 864x432 with 1 Axes>"
      ]
     },
     "metadata": {},
     "output_type": "display_data"
    },
    {
     "data": {
      "image/png": "[encoded data removed]",
      "text/plain": [
       "<Figure size 864x432 with 1 Axes>"
      ]
     },
     "metadata": {},
     "output_type": "display_data"
    }
   ],
   "source": [
    "def plot_platform_sales(top_platforms, platform_sales_share, region):\n",
    "    plt.figure(figsize=(12, 6))\n",
    "    plt.bar(top_platforms.index, top_platforms.values)\n",
    "    plt.title('Топ-5 платформ в регионе ' + region)\n",
    "    plt.xlabel('Платформа')\n",
    "    plt.ylabel('Продажи')\n",
    "    plt.xticks(rotation=45)\n",
    "\n",
    "    #доли продаж над столбцами\n",
    "    for i, v in enumerate(platform_sales_share):\n",
    "        plt.text(i, top_platforms[i] + 10, f'{v:.1f}%', ha='center')\n",
    "\n",
    "    plt.show()\n",
    "\n",
    "#NA\n",
    "plot_platform_sales(top_platforms_na, platform_sales_share_na, 'NA')\n",
    "\n",
    "#EU\n",
    "plot_platform_sales(top_platforms_eu, platform_sales_share_eu, 'EU')\n",
    "\n",
    "#JP\n",
    "plot_platform_sales(top_platforms_jp, platform_sales_share_jp, 'JP')"
   ]
  },
  {
   "cell_type": "markdown",
   "metadata": {},
   "source": [
    "#### Самые популярные жанры (топ-5). Поясните разницу."
   ]
  },
  {
   "cell_type": "code",
   "execution_count": 32,
   "metadata": {},
   "outputs": [
    {
     "name": "stdout",
     "output_type": "stream",
     "text": [
      "Популярные жанры в NA:\n",
      "genre\n",
      "Shooter         79.02\n",
      "Action          72.53\n",
      "Sports          46.13\n",
      "Role-Playing    33.47\n",
      "Misc            15.05\n",
      "Name: na_sales, dtype: float64\n",
      "Доли продаж в NA:\n",
      "genre\n",
      "Shooter         32.095857\n",
      "Action          29.459789\n",
      "Sports          18.736799\n",
      "Role-Playing    13.594639\n",
      "Misc             6.112916\n",
      "Name: na_sales, dtype: float64\n",
      "\n",
      "Популярные жанры в EU:\n",
      "genre\n",
      "Action          74.68\n",
      "Shooter         65.52\n",
      "Sports          45.73\n",
      "Role-Playing    28.17\n",
      "Racing          14.13\n",
      "Name: eu_sales, dtype: float64\n",
      "Доли продаж в EU:\n",
      "genre\n",
      "Action          32.721378\n",
      "Shooter         28.707882\n",
      "Sports          20.036805\n",
      "Role-Playing    12.342812\n",
      "Racing           6.191123\n",
      "Name: eu_sales, dtype: float64\n",
      "\n",
      "Популярные жанры в JP:\n",
      "genre\n",
      "Role-Playing    31.16\n",
      "Action          29.58\n",
      "Fighting         6.37\n",
      "Misc             5.61\n",
      "Shooter          4.87\n",
      "Name: jp_sales, dtype: float64\n",
      "Доли продаж в JP:\n",
      "genre\n",
      "Role-Playing    40.159814\n",
      "Action          38.123470\n",
      "Fighting         8.209821\n",
      "Misc             7.230313\n",
      "Shooter          6.276582\n",
      "Name: jp_sales, dtype: float64\n"
     ]
    }
   ],
   "source": [
    "def get_top_genres(region):\n",
    "    region_data = data[data['year_of_release'].between('2014', '2016')]\n",
    "    top_genres = region_data.groupby('genre')[region+'_sales'].sum().sort_values(ascending=False).head(5)\n",
    "    genre_sales_share = (top_genres / top_genres.sum()) * 100\n",
    "    return top_genres, genre_sales_share\n",
    "\n",
    "#  NA\n",
    "top_genres_na, genre_sales_share_na = get_top_genres('na')\n",
    "print(\"Популярные жанры в NA:\")\n",
    "print(top_genres_na)\n",
    "print(\"Доли продаж в NA:\")\n",
    "print(genre_sales_share_na)\n",
    "print()\n",
    "\n",
    "# Самые популярные жанры и доли продаж в регионе EU\n",
    "top_genres_eu, genre_sales_share_eu = get_top_genres('eu')\n",
    "print(\"Популярные жанры в EU:\")\n",
    "print(top_genres_eu)\n",
    "print(\"Доли продаж в EU:\")\n",
    "print(genre_sales_share_eu)\n",
    "print()\n",
    "\n",
    "# Самые популярные жанры и доли продаж в регионе JP\n",
    "top_genres_jp, genre_sales_share_jp = get_top_genres('jp')\n",
    "print(\"Популярные жанры в JP:\")\n",
    "print(top_genres_jp)\n",
    "print(\"Доли продаж в JP:\")\n",
    "print(genre_sales_share_jp)"
   ]
  },
  {
   "cell_type": "code",
   "execution_count": 33,
   "metadata": {},
   "outputs": [
    {
     "data": {
      "text/plain": [
       "Text(0, 0.5, 'Продажи в млн')"
      ]
     },
     "execution_count": 33,
     "metadata": {},
     "output_type": "execute_result"
    },
    {
     "data": {
      "image/png": "[encoded data removed]",
      "text/plain": [
       "<Figure size 864x432 with 1 Axes>"
      ]
     },
     "metadata": {},
     "output_type": "display_data"
    },
    {
     "data": {
      "image/png": "[encoded data removed]",
      "text/plain": [
       "<Figure size 864x432 with 1 Axes>"
      ]
     },
     "metadata": {},
     "output_type": "display_data"
    },
    {
     "data": {
      "image/png": "[encoded data removed]",
      "text/plain": [
       "<Figure size 864x432 with 1 Axes>"
      ]
     },
     "metadata": {},
     "output_type": "display_data"
    }
   ],
   "source": [
    "# Группировка и суммирование продаж по жанрам для каждого региона\n",
    "genre_sales_na = actual_period.groupby(by='genre').agg({'na_sales':'sum'}).sort_values(by='na_sales', ascending=False)\n",
    "genre_sales_eu = actual_period.groupby(by='genre').agg({'eu_sales':'sum'}).sort_values(by='eu_sales', ascending=False)\n",
    "genre_sales_jp = actual_period.groupby(by='genre').agg({'jp_sales':'sum'}).sort_values(by='jp_sales', ascending=False)\n",
    "\n",
    "# Визуализация топ-5 популярных жанров в регионе NA\n",
    "plt.figure(figsize=(12, 6))\n",
    "plt.bar(genre_sales_na.head(5).index, genre_sales_na.head(5)['na_sales'])\n",
    "plt.title('Топ-5 популярных жанров в регионе NA')\n",
    "plt.xlabel('Жанр')\n",
    "plt.ylabel('Продажи в млн')\n",
    "\n",
    "\n",
    "# Визуализация топ-5 популярных жанров в регионе EU\n",
    "plt.figure(figsize=(12, 6))\n",
    "plt.bar(genre_sales_eu.head(5).index, genre_sales_eu.head(5)['eu_sales'])\n",
    "plt.title('Топ-5 популярных жанров в регионе EU')\n",
    "plt.xlabel('Жанр')\n",
    "plt.ylabel('Продажи в млн')\n",
    "\n",
    "\n",
    "# Визуализация топ-5 популярных жанров в регионе JP\n",
    "plt.figure(figsize=(12, 6))\n",
    "plt.bar(genre_sales_jp.head(5).index, genre_sales_jp.head(5)['jp_sales'])\n",
    "plt.title('Топ-5 популярных жанров в регионе JP')\n",
    "plt.xlabel('Жанр')\n",
    "plt.ylabel('Продажи в млн')"
   ]
  },
  {
   "cell_type": "markdown",
   "metadata": {},
   "source": [
    "#### Влияет ли рейтинг ESRB на продажи в отдельном регионе?"
   ]
  },
  {
   "cell_type": "code",
   "execution_count": 34,
   "metadata": {},
   "outputs": [
    {
     "name": "stdout",
     "output_type": "stream",
     "text": [
      "\n",
      "Продажи игр по рейтингу ESRB na\n",
      "         na_sales\n",
      "rating           \n",
      "M           96.42\n",
      "Unknown     64.72\n",
      "E           50.74\n",
      "T           38.95\n",
      "E10+        33.23\n",
      "\n",
      "Продажи игр по рейтингу ESRB eu\n",
      "         eu_sales\n",
      "rating           \n",
      "M           93.44\n",
      "Unknown     58.95\n",
      "E           58.06\n",
      "T           34.07\n",
      "E10+        26.16\n",
      "\n",
      "Продажи игр по рейтингу ESRB jp\n",
      "         jp_sales\n",
      "rating           \n",
      "Unknown     56.90\n",
      "T           14.78\n",
      "E            8.94\n",
      "M            8.01\n",
      "E10+         4.46\n"
     ]
    }
   ],
   "source": [
    "def get_region_profile(region):\n",
    "#актулаьнвй периода для конкретного региона\n",
    "    period_from, period_to = pd.to_datetime(['2014', '2016'])\n",
    "    region_data = data[(data['year_of_release'] >= period_from) & (data['year_of_release'] <= period_to)]\n",
    "\n",
    "        # По рейтингу ESRB\n",
    "    rating_sales = region_data.groupby('rating')[[region+'_sales']].sum()\n",
    "    rating_sales = rating_sales.sort_values(by=region+'_sales', ascending=False)\n",
    "    \n",
    "\n",
    "    print('\\nПродажи игр по рейтингу ESRB', region)\n",
    "    print(rating_sales)\n",
    "    \n",
    "    # Портрет пользователя для NA\n",
    "get_region_profile('na')\n",
    "\n",
    "# Портрет пользователя для EU\n",
    "get_region_profile('eu')\n",
    "\n",
    "# Портрет пользователя для JP\n",
    "get_region_profile('jp')  "
   ]
  },
  {
   "cell_type": "markdown",
   "metadata": {},
   "source": [
    "**Выводы:**\n",
    "- Самые популярные платформы в Америке и Европе в основном совпадают (PS4 и Xbox), в то время как в Японии популярны портативные платформы, такие как 3DS и PS4.\n",
    "- Жанры Shooter, Action и Sports пользуются популярностью во всех регионах, но в Японии также выделяются жанры Role-Playing и Adventure.\n",
    "- Рейтинг ESRB влияет на продажи игр в Северной Америке и Европе, где игры с рейтингом M имеют наибольшие продажи. В Японии рейтинг ESRB не так существенен, и многие игры имеют неизвестный рейтинг.\n",
    "- Средние продажи по жанрам схожи в Северной Америке и Европе, но в Японии есть свои особенности с жанром Role-Playing, который пользуется большой популярностью.\n"
   ]
  },
  {
   "cell_type": "markdown",
   "metadata": {},
   "source": [
    "## Шаг 5. Проверка гипотез"
   ]
  },
  {
   "cell_type": "markdown",
   "metadata": {},
   "source": [
    "### Средние пользовательские рейтинги платформ Xbox One и PC одинаковые;"
   ]
  },
  {
   "cell_type": "markdown",
   "metadata": {},
   "source": [
    "H0: Средние пользовательские рейтинги платформ Xbox One и PC одинаковые.\n",
    "\n",
    "H1: Средние пользовательские рейтинги платформ Xbox One и PC разные.\n",
    "\n",
    "Для проверки гипотезы использую двухсторонний t-тест"
   ]
  },
  {
   "cell_type": "code",
   "execution_count": 41,
   "metadata": {},
   "outputs": [
    {
     "name": "stdout",
     "output_type": "stream",
     "text": [
      "Отвергаем нулевую гипотезу\n",
      "\"Значение p-value:\" 4.935072360183574e-06\n"
     ]
    }
   ],
   "source": [
    "period_from, period_to = pd.to_datetime(['2014', '2016'])\n",
    "# фильтрация \n",
    "actual_period = data[(data['year_of_release'] >= period_from) & (data['year_of_release'] <= period_to)]\n",
    "#Выборка без пропущенных значений\n",
    "xbox_one_ratings = actual_period[(actual_period['platform'] == 'XOne')]['user_score'].dropna()\n",
    "pc_ratings = actual_period[(actual_period['platform'] == 'PC')]['user_score'].dropna()\n",
    "\n",
    "alpha = 0.05  # Пороговое значение alpha\n",
    "\n",
    "# Применение t-теста\n",
    "results = stats.ttest_ind(xbox_one_ratings, pc_ratings, equal_var=False,alternative='two-sided')\n",
    "\n",
    "if results.pvalue < alpha:\n",
    "    print('Отвергаем нулевую гипотезу')\n",
    "else:\n",
    "    print('Принимаем нулевую гипотезу')\n",
    "print('\"Значение p-value:\"', results.pvalue)"
   ]
  },
  {
   "cell_type": "markdown",
   "metadata": {},
   "source": [
    "### Средние пользовательские рейтинги жанров Action (англ. «действие», экшен-игры) и Sports (англ. «спортивные соревнования») разные."
   ]
  },
  {
   "cell_type": "markdown",
   "metadata": {},
   "source": [
    "H0(нулевая гипотеза) - Средние пользовательские рейтинги жанров Action и Sports одинаковые\n",
    "\n",
    "H1(альтернативная гипотеза) - Средние пользовательские рейтинги жанров Action и Sports разные \n",
    "\n",
    "Для проверки гипотезы использую двухсторонний t-тест"
   ]
  },
  {
   "cell_type": "code",
   "execution_count": 39,
   "metadata": {},
   "outputs": [
    {
     "name": "stdout",
     "output_type": "stream",
     "text": [
      "Отвергаем нулевую гипотезу\n",
      "Значение p-value: 1.1825550382644557e-14\n"
     ]
    }
   ],
   "source": [
    "period_from, period_to = pd.to_datetime(['2014', '2016'])\n",
    "actual_period = data[(data['year_of_release'] >= period_from) & (data['year_of_release'] <= period_to)]\n",
    "\n",
    "action_ratings = actual_period[(actual_period['genre'] == 'Action')]['user_score'].dropna()\n",
    "sports_ratings = actual_period[(actual_period['genre'] == 'Sports')]['user_score'].dropna()\n",
    "\n",
    "results = stats.ttest_ind(action_ratings, sports_ratings, equal_var=False)\n",
    "\n",
    "alpha = 0.05  \n",
    "\n",
    "if results.pvalue < alpha:\n",
    "    print('Отвергаем нулевую гипотезу')\n",
    "else:\n",
    "    print('Принимаем нулевую гипотезу')\n",
    "\n",
    "print('Значение p-value:', results.pvalue)"
   ]
  },
  {
   "cell_type": "markdown",
   "metadata": {},
   "source": [
    "**Выводы:**\n",
    "На основании проведенных гипотез можно сделать вывод, что оценки пользователей зависят от жанра игры, но не зависят от конкретной платформы "
   ]
  },
  {
   "cell_type": "markdown",
   "metadata": {},
   "source": [
    "## Шаг 6. Общий вывод"
   ]
  },
  {
   "cell_type": "markdown",
   "metadata": {},
   "source": [
    "По результатам проведенного исследования, можно сделать следующие общие выводы:\n",
    "\n",
    "**Тенденции в индустрии видеоигр:** Количество выпускаемых игр имел заметный рост с начала 2000-х до 2008 года, после чего произошло снижение. Однако, основные данные после 2014 года позволяют более точно прогнозировать продажи в ближайшем будущем.\n",
    "Платформы PS2, Xbox 360, PS3, Wii и DS имеют наибольшие суммарные продажи, но некоторые из них устарели, их продажи снижаются. На текущий момент наиболее прибыльными являются PS4 и Xbox One.\n",
    "Характерный срок появления и исчезновения платформ составляет примерно ~ 8 лет\n",
    "\n",
    "**Влияние оценок и рейтингов:** Оценки пользователей оказывают влияние на продажи игр, особенно на платформах PS4, Xbox One. Высокие оценки пользователей способствуют увеличению продаж игр.\n",
    "Оценки критиков также влияют на продажи игр, особенно на PS4 и других платформах. Игры с высокими оценками критиков имеют тенденцию к большим продажам.\n",
    "\n",
    "\n",
    "На основе анализа исторических данных о продажах игр за 2016 год мы получили следующие результаты и выводы:\n",
    "\n",
    "**Платформы:** Самыми прибыльными платформами являются PS4 и Xbox.\n",
    "\n",
    "**Региональные различия:** Для успешности игр в разных регионах следует учитывать предпочтения пользователей. В Америке рекомендуется делать ставку на игры для платформы Xbox, в Европе - на PS4, а в Японии - на DS. \n",
    "\n",
    "**Жанры:** Для достижения успеха рекомендуется выбирать игры в жанрах Action, Shooters и Sports, Role-Playing и Adventure.\n",
    "\n",
    " **Проверка гипотез:** В результате проверки гипотез мы пришли к следующим выводам:\n",
    "\n",
    "- Средние пользовательские рейтинги платформ Xbox One и PC не различаются.\n",
    "- Средние пользовательские рейтинги жанров Action и Sports различаются.\n",
    "\n",
    "Таким образом, на основе анализа данных мы можем сделать рекомендации и прогноз на 2017 год для разработчиков и издателей игр: фокусироваться на выпуске игр для платформ PS4 и Xbox, выбирать жанры Action, Shooters и Sports, учитывать региональные предпочтения и оценки критиков при разработке маркетинговых стратегий."
   ]
  }
 ],
 "metadata": {
  "ExecuteTimeLog": [
   {
    "duration": 94,
    "start_time": "2023-06-29T06:31:28.396Z"
   },
   {
    "duration": 1694,
    "start_time": "2023-06-29T06:32:03.347Z"
   },
   {
    "duration": 221,
    "start_time": "2023-06-29T06:32:06.235Z"
   },
   {
    "duration": 57,
    "start_time": "2023-06-29T06:32:12.349Z"
   },
   {
    "duration": 87,
    "start_time": "2023-06-29T06:32:17.113Z"
   },
   {
    "duration": 85,
    "start_time": "2023-06-29T06:32:49.646Z"
   },
   {
    "duration": 63,
    "start_time": "2023-06-29T06:33:35.983Z"
   },
   {
    "duration": 54,
    "start_time": "2023-06-29T06:34:36.371Z"
   },
   {
    "duration": 16,
    "start_time": "2023-06-29T06:35:02.768Z"
   },
   {
    "duration": 9,
    "start_time": "2023-06-29T06:36:44.755Z"
   },
   {
    "duration": 37,
    "start_time": "2023-06-29T06:36:59.187Z"
   },
   {
    "duration": 895,
    "start_time": "2023-06-29T06:37:26.928Z"
   },
   {
    "duration": 34,
    "start_time": "2023-06-29T07:31:38.539Z"
   },
   {
    "duration": 1910,
    "start_time": "2023-06-29T07:31:52.426Z"
   },
   {
    "duration": 11,
    "start_time": "2023-06-29T07:32:13.003Z"
   },
   {
    "duration": 63,
    "start_time": "2023-06-29T07:35:29.900Z"
   },
   {
    "duration": 32,
    "start_time": "2023-06-29T07:35:38.709Z"
   },
   {
    "duration": 31,
    "start_time": "2023-06-29T07:35:47.694Z"
   },
   {
    "duration": 99,
    "start_time": "2023-06-29T07:36:07.055Z"
   },
   {
    "duration": 18,
    "start_time": "2023-06-29T07:37:00.966Z"
   },
   {
    "duration": 34,
    "start_time": "2023-06-29T07:38:01.308Z"
   },
   {
    "duration": 58,
    "start_time": "2023-06-29T10:37:25.038Z"
   },
   {
    "duration": 1396,
    "start_time": "2023-06-29T10:37:43.014Z"
   },
   {
    "duration": 197,
    "start_time": "2023-06-29T10:37:45.567Z"
   },
   {
    "duration": 22,
    "start_time": "2023-06-29T10:37:47.463Z"
   },
   {
    "duration": 14,
    "start_time": "2023-06-29T10:37:49.838Z"
   },
   {
    "duration": 8,
    "start_time": "2023-06-29T10:37:52.288Z"
   },
   {
    "duration": 36,
    "start_time": "2023-06-29T10:37:54.191Z"
   },
   {
    "duration": 714,
    "start_time": "2023-06-29T10:37:55.598Z"
   },
   {
    "duration": 29,
    "start_time": "2023-06-29T10:37:59.584Z"
   },
   {
    "duration": 9,
    "start_time": "2023-06-29T10:38:01.623Z"
   },
   {
    "duration": 26,
    "start_time": "2023-06-29T10:38:09.684Z"
   },
   {
    "duration": 25,
    "start_time": "2023-06-29T10:38:27.229Z"
   },
   {
    "duration": 39,
    "start_time": "2023-06-29T10:38:47.281Z"
   },
   {
    "duration": 8,
    "start_time": "2023-06-29T10:39:17.382Z"
   },
   {
    "duration": 10,
    "start_time": "2023-06-29T10:40:20.483Z"
   },
   {
    "duration": 102,
    "start_time": "2023-06-29T10:41:43.106Z"
   },
   {
    "duration": 37,
    "start_time": "2023-06-29T10:41:47.285Z"
   },
   {
    "duration": 37,
    "start_time": "2023-06-29T11:09:19.885Z"
   },
   {
    "duration": 250,
    "start_time": "2023-06-29T11:25:26.702Z"
   },
   {
    "duration": 314,
    "start_time": "2023-06-29T11:26:38.168Z"
   },
   {
    "duration": 263,
    "start_time": "2023-06-29T11:28:14.987Z"
   },
   {
    "duration": 263,
    "start_time": "2023-06-29T11:29:02.931Z"
   },
   {
    "duration": 314,
    "start_time": "2023-06-29T11:44:15.482Z"
   },
   {
    "duration": 3,
    "start_time": "2023-06-29T13:37:47.607Z"
   },
   {
    "duration": 607,
    "start_time": "2023-06-29T13:38:31.998Z"
   },
   {
    "duration": 9,
    "start_time": "2023-06-29T13:38:45.480Z"
   },
   {
    "duration": 655,
    "start_time": "2023-06-29T13:38:47.780Z"
   },
   {
    "duration": 11,
    "start_time": "2023-06-29T13:40:26.251Z"
   },
   {
    "duration": 10,
    "start_time": "2023-06-29T13:40:43.432Z"
   },
   {
    "duration": 74,
    "start_time": "2023-06-29T13:43:09.849Z"
   },
   {
    "duration": 33,
    "start_time": "2023-06-29T13:47:22.548Z"
   },
   {
    "duration": 307,
    "start_time": "2023-06-29T13:48:33.087Z"
   },
   {
    "duration": 10,
    "start_time": "2023-06-29T13:51:31.399Z"
   },
   {
    "duration": 15,
    "start_time": "2023-06-29T13:52:20.821Z"
   },
   {
    "duration": 17,
    "start_time": "2023-06-29T13:53:56.482Z"
   },
   {
    "duration": 24,
    "start_time": "2023-06-29T13:54:36.260Z"
   },
   {
    "duration": 12,
    "start_time": "2023-06-29T13:54:42.520Z"
   },
   {
    "duration": 273,
    "start_time": "2023-06-29T13:54:47.633Z"
   },
   {
    "duration": 296,
    "start_time": "2023-06-29T13:55:32.306Z"
   },
   {
    "duration": 1279,
    "start_time": "2023-06-30T07:59:22.063Z"
   },
   {
    "duration": 193,
    "start_time": "2023-06-30T07:59:32.601Z"
   },
   {
    "duration": 18,
    "start_time": "2023-06-30T07:59:34.706Z"
   },
   {
    "duration": 15,
    "start_time": "2023-06-30T07:59:38.008Z"
   },
   {
    "duration": 8,
    "start_time": "2023-06-30T07:59:42.819Z"
   },
   {
    "duration": 26,
    "start_time": "2023-06-30T07:59:52.054Z"
   },
   {
    "duration": 22,
    "start_time": "2023-06-30T08:00:06.286Z"
   },
   {
    "duration": 16,
    "start_time": "2023-06-30T08:00:43.899Z"
   },
   {
    "duration": 145,
    "start_time": "2023-06-30T08:01:44.415Z"
   },
   {
    "duration": 1879,
    "start_time": "2023-06-30T08:01:51.408Z"
   },
   {
    "duration": 38,
    "start_time": "2023-06-30T08:02:41.164Z"
   },
   {
    "duration": 10,
    "start_time": "2023-06-30T08:04:10.424Z"
   },
   {
    "duration": 346,
    "start_time": "2023-06-30T08:04:15.305Z"
   },
   {
    "duration": 39,
    "start_time": "2023-06-30T08:04:19.887Z"
   },
   {
    "duration": 264,
    "start_time": "2023-06-30T08:04:23.977Z"
   },
   {
    "duration": 9,
    "start_time": "2023-06-30T08:04:37.807Z"
   },
   {
    "duration": 365,
    "start_time": "2023-06-30T08:05:43.558Z"
   },
   {
    "duration": 18,
    "start_time": "2023-06-30T08:05:51.278Z"
   },
   {
    "duration": 279,
    "start_time": "2023-06-30T08:05:55.490Z"
   },
   {
    "duration": 3,
    "start_time": "2023-06-30T08:06:00.853Z"
   },
   {
    "duration": 358,
    "start_time": "2023-06-30T08:06:03.629Z"
   },
   {
    "duration": 17,
    "start_time": "2023-06-30T08:06:07.100Z"
   },
   {
    "duration": 282,
    "start_time": "2023-06-30T08:06:12.489Z"
   },
   {
    "duration": 222,
    "start_time": "2023-06-30T08:47:56.449Z"
   },
   {
    "duration": 144,
    "start_time": "2023-06-30T08:51:14.855Z"
   },
   {
    "duration": 345,
    "start_time": "2023-06-30T08:52:33.899Z"
   },
   {
    "duration": 365,
    "start_time": "2023-06-30T08:52:48.897Z"
   },
   {
    "duration": 251,
    "start_time": "2023-06-30T09:08:27.989Z"
   },
   {
    "duration": 232,
    "start_time": "2023-06-30T09:09:48.325Z"
   },
   {
    "duration": 120,
    "start_time": "2023-06-30T09:10:09.085Z"
   },
   {
    "duration": 217,
    "start_time": "2023-06-30T09:10:12.929Z"
   },
   {
    "duration": 199,
    "start_time": "2023-06-30T09:18:11.786Z"
   },
   {
    "duration": 233,
    "start_time": "2023-06-30T09:22:16.456Z"
   },
   {
    "duration": 245,
    "start_time": "2023-06-30T09:22:20.940Z"
   },
   {
    "duration": 6,
    "start_time": "2023-06-30T10:02:28.496Z"
   },
   {
    "duration": 365,
    "start_time": "2023-06-30T10:19:05.795Z"
   },
   {
    "duration": 2400,
    "start_time": "2023-06-30T11:21:32.648Z"
   },
   {
    "duration": 4,
    "start_time": "2023-06-30T11:24:29.804Z"
   },
   {
    "duration": 133,
    "start_time": "2023-06-30T11:24:32.968Z"
   },
   {
    "duration": 22,
    "start_time": "2023-06-30T11:24:34.650Z"
   },
   {
    "duration": 23,
    "start_time": "2023-06-30T11:24:36.742Z"
   },
   {
    "duration": 9,
    "start_time": "2023-06-30T11:24:38.903Z"
   },
   {
    "duration": 35,
    "start_time": "2023-06-30T11:24:41.689Z"
   },
   {
    "duration": 45,
    "start_time": "2023-06-30T11:24:45.611Z"
   },
   {
    "duration": 50,
    "start_time": "2023-06-30T11:24:51.355Z"
   },
   {
    "duration": 11,
    "start_time": "2023-06-30T11:24:54.330Z"
   },
   {
    "duration": 371,
    "start_time": "2023-06-30T11:24:57.340Z"
   },
   {
    "duration": 510,
    "start_time": "2023-06-30T11:25:01.901Z"
   },
   {
    "duration": 52,
    "start_time": "2023-06-30T11:25:06.396Z"
   },
   {
    "duration": 457,
    "start_time": "2023-06-30T11:25:22.940Z"
   },
   {
    "duration": 608,
    "start_time": "2023-06-30T11:25:59.899Z"
   },
   {
    "duration": 421,
    "start_time": "2023-06-30T11:26:04.252Z"
   },
   {
    "duration": 351,
    "start_time": "2023-06-30T11:26:08.806Z"
   },
   {
    "duration": 2878,
    "start_time": "2023-06-30T11:26:12.654Z"
   },
   {
    "duration": 24,
    "start_time": "2023-06-30T11:33:44.599Z"
   },
   {
    "duration": 13,
    "start_time": "2023-06-30T11:34:06.274Z"
   },
   {
    "duration": 5,
    "start_time": "2023-06-30T11:34:15.194Z"
   },
   {
    "duration": 15,
    "start_time": "2023-06-30T11:41:19.368Z"
   },
   {
    "duration": 31,
    "start_time": "2023-06-30T11:41:23.104Z"
   },
   {
    "duration": 1909,
    "start_time": "2023-06-30T13:02:53.792Z"
   },
   {
    "duration": 17,
    "start_time": "2023-06-30T13:03:30.989Z"
   },
   {
    "duration": 58,
    "start_time": "2023-06-30T13:04:44.942Z"
   },
   {
    "duration": 14,
    "start_time": "2023-06-30T13:06:16.697Z"
   },
   {
    "duration": 19,
    "start_time": "2023-06-30T13:06:20.499Z"
   },
   {
    "duration": 58,
    "start_time": "2023-06-30T13:18:26.919Z"
   },
   {
    "duration": 12,
    "start_time": "2023-06-30T13:53:57.909Z"
   },
   {
    "duration": 15,
    "start_time": "2023-06-30T14:15:59.199Z"
   },
   {
    "duration": 3,
    "start_time": "2023-06-30T14:16:40.987Z"
   },
   {
    "duration": 12,
    "start_time": "2023-06-30T14:16:45.865Z"
   },
   {
    "duration": 11,
    "start_time": "2023-06-30T14:17:53.744Z"
   },
   {
    "duration": 19,
    "start_time": "2023-06-30T14:22:10.885Z"
   },
   {
    "duration": 10,
    "start_time": "2023-06-30T14:22:16.650Z"
   },
   {
    "duration": 10,
    "start_time": "2023-06-30T14:22:26.102Z"
   },
   {
    "duration": 18,
    "start_time": "2023-06-30T14:22:53.398Z"
   },
   {
    "duration": 10,
    "start_time": "2023-06-30T14:22:59.588Z"
   },
   {
    "duration": 12,
    "start_time": "2023-06-30T14:25:53.436Z"
   },
   {
    "duration": 11,
    "start_time": "2023-06-30T14:29:21.565Z"
   },
   {
    "duration": 10,
    "start_time": "2023-06-30T14:33:45.757Z"
   },
   {
    "duration": 20,
    "start_time": "2023-06-30T14:35:13.860Z"
   },
   {
    "duration": 10,
    "start_time": "2023-06-30T14:35:30.622Z"
   },
   {
    "duration": 11,
    "start_time": "2023-06-30T14:41:17.797Z"
   },
   {
    "duration": 12,
    "start_time": "2023-06-30T14:46:14.936Z"
   },
   {
    "duration": 10,
    "start_time": "2023-06-30T14:56:14.991Z"
   },
   {
    "duration": 10,
    "start_time": "2023-06-30T14:57:19.870Z"
   },
   {
    "duration": 12,
    "start_time": "2023-06-30T14:57:31.396Z"
   },
   {
    "duration": 1227,
    "start_time": "2023-06-30T15:28:02.487Z"
   },
   {
    "duration": 51,
    "start_time": "2023-06-30T15:28:03.716Z"
   },
   {
    "duration": 20,
    "start_time": "2023-06-30T15:28:03.771Z"
   },
   {
    "duration": 36,
    "start_time": "2023-06-30T15:28:03.794Z"
   },
   {
    "duration": 29,
    "start_time": "2023-06-30T15:28:03.832Z"
   },
   {
    "duration": 48,
    "start_time": "2023-06-30T15:28:03.862Z"
   },
   {
    "duration": 754,
    "start_time": "2023-06-30T15:28:03.912Z"
   },
   {
    "duration": 1928,
    "start_time": "2023-06-30T15:28:04.668Z"
   },
   {
    "duration": 0,
    "start_time": "2023-06-30T15:28:06.597Z"
   },
   {
    "duration": 0,
    "start_time": "2023-06-30T15:28:06.599Z"
   },
   {
    "duration": 0,
    "start_time": "2023-06-30T15:28:06.600Z"
   },
   {
    "duration": 0,
    "start_time": "2023-06-30T15:28:06.601Z"
   },
   {
    "duration": 0,
    "start_time": "2023-06-30T15:28:06.602Z"
   },
   {
    "duration": 0,
    "start_time": "2023-06-30T15:28:06.603Z"
   },
   {
    "duration": 0,
    "start_time": "2023-06-30T15:28:06.604Z"
   },
   {
    "duration": 0,
    "start_time": "2023-06-30T15:28:06.605Z"
   },
   {
    "duration": 0,
    "start_time": "2023-06-30T15:28:06.606Z"
   },
   {
    "duration": 0,
    "start_time": "2023-06-30T15:28:06.607Z"
   },
   {
    "duration": 0,
    "start_time": "2023-06-30T15:28:06.608Z"
   },
   {
    "duration": 0,
    "start_time": "2023-06-30T15:28:06.609Z"
   },
   {
    "duration": 0,
    "start_time": "2023-06-30T15:28:06.610Z"
   },
   {
    "duration": 0,
    "start_time": "2023-06-30T15:28:06.611Z"
   },
   {
    "duration": 53,
    "start_time": "2023-06-30T15:30:31.603Z"
   },
   {
    "duration": 11,
    "start_time": "2023-06-30T15:30:35.254Z"
   },
   {
    "duration": 7,
    "start_time": "2023-06-30T15:30:36.270Z"
   },
   {
    "duration": 351,
    "start_time": "2023-06-30T15:32:47.435Z"
   },
   {
    "duration": 420,
    "start_time": "2023-06-30T15:33:59.398Z"
   },
   {
    "duration": 19,
    "start_time": "2023-06-30T15:34:46.038Z"
   },
   {
    "duration": 302,
    "start_time": "2023-06-30T15:36:36.169Z"
   },
   {
    "duration": 385,
    "start_time": "2023-06-30T15:36:58.802Z"
   },
   {
    "duration": 204,
    "start_time": "2023-06-30T15:37:18.334Z"
   },
   {
    "duration": 243,
    "start_time": "2023-06-30T15:37:23.662Z"
   },
   {
    "duration": 21,
    "start_time": "2023-06-30T15:47:13.213Z"
   },
   {
    "duration": 52,
    "start_time": "2023-06-30T15:47:52.336Z"
   },
   {
    "duration": 12,
    "start_time": "2023-06-30T15:48:50.254Z"
   },
   {
    "duration": 12,
    "start_time": "2023-06-30T15:48:51.582Z"
   },
   {
    "duration": 111,
    "start_time": "2023-06-30T15:51:21.266Z"
   },
   {
    "duration": 6,
    "start_time": "2023-06-30T16:21:19.527Z"
   },
   {
    "duration": 4,
    "start_time": "2023-06-30T16:21:28.858Z"
   },
   {
    "duration": 55,
    "start_time": "2023-06-30T16:21:31.016Z"
   },
   {
    "duration": 15,
    "start_time": "2023-06-30T16:21:32.916Z"
   },
   {
    "duration": 15,
    "start_time": "2023-06-30T16:21:35.594Z"
   },
   {
    "duration": 8,
    "start_time": "2023-06-30T16:21:37.825Z"
   },
   {
    "duration": 25,
    "start_time": "2023-06-30T16:21:40.035Z"
   },
   {
    "duration": 1789,
    "start_time": "2023-06-30T16:21:43.426Z"
   },
   {
    "duration": 5,
    "start_time": "2023-06-30T16:22:11.046Z"
   },
   {
    "duration": 36,
    "start_time": "2023-06-30T16:22:40.942Z"
   },
   {
    "duration": 38,
    "start_time": "2023-06-30T16:23:07.056Z"
   },
   {
    "duration": 14,
    "start_time": "2023-06-30T16:23:19.299Z"
   },
   {
    "duration": 7,
    "start_time": "2023-06-30T16:23:22.164Z"
   },
   {
    "duration": 44,
    "start_time": "2023-07-01T06:21:26.135Z"
   },
   {
    "duration": 5,
    "start_time": "2023-07-01T06:21:50.816Z"
   },
   {
    "duration": 1255,
    "start_time": "2023-07-01T06:21:55.432Z"
   },
   {
    "duration": 92,
    "start_time": "2023-07-01T06:21:57.967Z"
   },
   {
    "duration": 18,
    "start_time": "2023-07-01T06:22:00.184Z"
   },
   {
    "duration": 15,
    "start_time": "2023-07-01T06:22:03.004Z"
   },
   {
    "duration": 14,
    "start_time": "2023-07-01T06:22:05.242Z"
   },
   {
    "duration": 22,
    "start_time": "2023-07-01T06:24:07.315Z"
   },
   {
    "duration": 654,
    "start_time": "2023-07-01T06:24:09.314Z"
   },
   {
    "duration": 27,
    "start_time": "2023-07-01T06:24:39.468Z"
   },
   {
    "duration": 662,
    "start_time": "2023-07-01T06:26:06.259Z"
   },
   {
    "duration": 839,
    "start_time": "2023-07-01T07:08:42.606Z"
   },
   {
    "duration": 608,
    "start_time": "2023-07-01T07:08:49.580Z"
   },
   {
    "duration": 47,
    "start_time": "2023-07-01T07:09:38.934Z"
   },
   {
    "duration": 6,
    "start_time": "2023-07-01T07:10:20.630Z"
   },
   {
    "duration": 3,
    "start_time": "2023-07-01T07:10:35.570Z"
   },
   {
    "duration": 12,
    "start_time": "2023-07-01T07:10:38.115Z"
   },
   {
    "duration": 6,
    "start_time": "2023-07-01T07:10:39.443Z"
   },
   {
    "duration": 4,
    "start_time": "2023-07-01T07:10:41.007Z"
   },
   {
    "duration": 17,
    "start_time": "2023-07-01T07:10:44.199Z"
   },
   {
    "duration": 2,
    "start_time": "2023-07-01T07:11:24.120Z"
   },
   {
    "duration": 2,
    "start_time": "2023-07-01T07:11:26.181Z"
   },
   {
    "duration": 289,
    "start_time": "2023-07-01T07:15:19.105Z"
   },
   {
    "duration": 348,
    "start_time": "2023-07-01T07:15:40.293Z"
   },
   {
    "duration": 49,
    "start_time": "2023-07-01T12:25:02.577Z"
   },
   {
    "duration": 1301,
    "start_time": "2023-07-01T12:25:09.734Z"
   },
   {
    "duration": 91,
    "start_time": "2023-07-01T12:25:11.625Z"
   },
   {
    "duration": 16,
    "start_time": "2023-07-01T12:25:14.023Z"
   },
   {
    "duration": 13,
    "start_time": "2023-07-01T12:25:17.593Z"
   },
   {
    "duration": 32,
    "start_time": "2023-07-01T12:25:21.239Z"
   },
   {
    "duration": 695,
    "start_time": "2023-07-01T12:26:04.578Z"
   },
   {
    "duration": 703,
    "start_time": "2023-07-01T12:26:08.635Z"
   },
   {
    "duration": 698,
    "start_time": "2023-07-01T12:26:30.188Z"
   },
   {
    "duration": 524,
    "start_time": "2023-07-01T12:27:03.022Z"
   },
   {
    "duration": 471,
    "start_time": "2023-07-01T12:27:41.750Z"
   },
   {
    "duration": 1081,
    "start_time": "2023-07-01T12:28:23.874Z"
   },
   {
    "duration": 925,
    "start_time": "2023-07-01T12:28:49.567Z"
   },
   {
    "duration": 103,
    "start_time": "2023-07-01T12:32:07.776Z"
   },
   {
    "duration": 13,
    "start_time": "2023-07-01T12:40:32.272Z"
   },
   {
    "duration": 8,
    "start_time": "2023-07-01T12:40:41.277Z"
   },
   {
    "duration": 11,
    "start_time": "2023-07-01T12:40:48.530Z"
   },
   {
    "duration": 9,
    "start_time": "2023-07-01T12:41:06.478Z"
   },
   {
    "duration": 14,
    "start_time": "2023-07-01T12:41:23.984Z"
   },
   {
    "duration": 9,
    "start_time": "2023-07-01T12:42:01.402Z"
   },
   {
    "duration": 10,
    "start_time": "2023-07-01T12:42:13.412Z"
   },
   {
    "duration": 99,
    "start_time": "2023-07-01T12:43:33.440Z"
   },
   {
    "duration": 5,
    "start_time": "2023-07-01T12:44:29.571Z"
   },
   {
    "duration": 8,
    "start_time": "2023-07-01T12:46:11.724Z"
   },
   {
    "duration": 5,
    "start_time": "2023-07-01T12:46:30.260Z"
   },
   {
    "duration": 7,
    "start_time": "2023-07-01T12:46:39.483Z"
   },
   {
    "duration": 4,
    "start_time": "2023-07-01T12:47:20.146Z"
   },
   {
    "duration": 5,
    "start_time": "2023-07-01T12:49:11.822Z"
   },
   {
    "duration": 17,
    "start_time": "2023-07-01T12:49:23.396Z"
   },
   {
    "duration": 17,
    "start_time": "2023-07-01T12:49:30.043Z"
   },
   {
    "duration": 9,
    "start_time": "2023-07-01T13:03:25.047Z"
   },
   {
    "duration": 19,
    "start_time": "2023-07-01T13:03:28.859Z"
   },
   {
    "duration": 10,
    "start_time": "2023-07-01T13:03:31.497Z"
   },
   {
    "duration": 2472,
    "start_time": "2023-07-01T13:03:35.786Z"
   },
   {
    "duration": 13,
    "start_time": "2023-07-01T13:03:42.747Z"
   },
   {
    "duration": 1293,
    "start_time": "2023-07-01T13:03:51.486Z"
   },
   {
    "duration": 4,
    "start_time": "2023-07-01T13:03:59.991Z"
   },
   {
    "duration": 9,
    "start_time": "2023-07-01T13:04:01.732Z"
   },
   {
    "duration": 10,
    "start_time": "2023-07-01T13:04:03.689Z"
   },
   {
    "duration": 7,
    "start_time": "2023-07-01T13:04:05.387Z"
   },
   {
    "duration": 6,
    "start_time": "2023-07-01T13:04:13.588Z"
   },
   {
    "duration": 318,
    "start_time": "2023-07-01T13:04:16.037Z"
   },
   {
    "duration": 279,
    "start_time": "2023-07-01T13:04:19.902Z"
   },
   {
    "duration": 5,
    "start_time": "2023-07-01T13:04:22.743Z"
   },
   {
    "duration": 16,
    "start_time": "2023-07-01T13:59:26.604Z"
   },
   {
    "duration": 12,
    "start_time": "2023-07-01T13:59:50.931Z"
   },
   {
    "duration": 11,
    "start_time": "2023-07-01T14:00:03.980Z"
   },
   {
    "duration": 9,
    "start_time": "2023-07-01T14:00:06.747Z"
   },
   {
    "duration": 14,
    "start_time": "2023-07-01T14:00:10.376Z"
   },
   {
    "duration": 342,
    "start_time": "2023-07-01T14:00:13.488Z"
   },
   {
    "duration": 268,
    "start_time": "2023-07-01T14:00:17.004Z"
   },
   {
    "duration": 328,
    "start_time": "2023-07-01T14:00:45.777Z"
   },
   {
    "duration": 176,
    "start_time": "2023-07-01T14:01:34.826Z"
   },
   {
    "duration": 160,
    "start_time": "2023-07-01T14:01:37.529Z"
   },
   {
    "duration": 665,
    "start_time": "2023-07-01T14:04:32.576Z"
   },
   {
    "duration": 156,
    "start_time": "2023-07-01T14:11:02.758Z"
   },
   {
    "duration": 613,
    "start_time": "2023-07-01T14:14:01.687Z"
   },
   {
    "duration": 1427,
    "start_time": "2023-07-01T16:39:32.204Z"
   },
   {
    "duration": 119,
    "start_time": "2023-07-01T16:39:35.014Z"
   },
   {
    "duration": 28,
    "start_time": "2023-07-01T16:39:36.931Z"
   },
   {
    "duration": 15,
    "start_time": "2023-07-01T16:39:39.485Z"
   },
   {
    "duration": 14,
    "start_time": "2023-07-01T16:39:41.561Z"
   },
   {
    "duration": 30,
    "start_time": "2023-07-01T16:39:45.573Z"
   },
   {
    "duration": 1234,
    "start_time": "2023-07-01T16:39:47.786Z"
   },
   {
    "duration": 7,
    "start_time": "2023-07-01T16:39:56.695Z"
   },
   {
    "duration": 13,
    "start_time": "2023-07-01T16:39:59.221Z"
   },
   {
    "duration": 7,
    "start_time": "2023-07-01T16:40:04.498Z"
   },
   {
    "duration": 27,
    "start_time": "2023-07-01T16:40:06.887Z"
   },
   {
    "duration": 4,
    "start_time": "2023-07-01T16:40:11.416Z"
   },
   {
    "duration": 12,
    "start_time": "2023-07-01T16:40:12.946Z"
   },
   {
    "duration": 8,
    "start_time": "2023-07-01T16:40:15.004Z"
   },
   {
    "duration": 7,
    "start_time": "2023-07-01T16:40:17.048Z"
   },
   {
    "duration": 32,
    "start_time": "2023-07-01T16:40:19.942Z"
   },
   {
    "duration": 9,
    "start_time": "2023-07-01T16:40:23.132Z"
   },
   {
    "duration": 392,
    "start_time": "2023-07-01T16:40:25.944Z"
   },
   {
    "duration": 349,
    "start_time": "2023-07-01T16:40:30.165Z"
   },
   {
    "duration": 7,
    "start_time": "2023-07-01T16:40:33.916Z"
   },
   {
    "duration": 21,
    "start_time": "2023-07-01T16:40:37.234Z"
   },
   {
    "duration": 370,
    "start_time": "2023-07-01T16:40:40.225Z"
   },
   {
    "duration": 456,
    "start_time": "2023-07-01T16:40:44.071Z"
   },
   {
    "duration": 226,
    "start_time": "2023-07-01T16:40:47.649Z"
   },
   {
    "duration": 259,
    "start_time": "2023-07-01T16:40:50.270Z"
   },
   {
    "duration": 288,
    "start_time": "2023-07-01T16:40:59.646Z"
   },
   {
    "duration": 233,
    "start_time": "2023-07-01T16:41:30.936Z"
   },
   {
    "duration": 19,
    "start_time": "2023-07-01T16:41:35.147Z"
   },
   {
    "duration": 56,
    "start_time": "2023-07-01T16:41:37.703Z"
   },
   {
    "duration": 309,
    "start_time": "2023-07-01T16:41:43.885Z"
   },
   {
    "duration": 243,
    "start_time": "2023-07-01T16:42:04.746Z"
   },
   {
    "duration": 239,
    "start_time": "2023-07-01T16:42:17.674Z"
   },
   {
    "duration": 253,
    "start_time": "2023-07-01T16:42:22.578Z"
   },
   {
    "duration": 235,
    "start_time": "2023-07-01T16:42:27.549Z"
   },
   {
    "duration": 365,
    "start_time": "2023-07-01T16:42:37.031Z"
   },
   {
    "duration": 11,
    "start_time": "2023-07-01T16:56:38.908Z"
   },
   {
    "duration": 12,
    "start_time": "2023-07-01T16:57:22.524Z"
   },
   {
    "duration": 12,
    "start_time": "2023-07-01T16:58:14.058Z"
   },
   {
    "duration": 125,
    "start_time": "2023-07-01T17:01:18.153Z"
   },
   {
    "duration": 8,
    "start_time": "2023-07-01T17:03:44.031Z"
   },
   {
    "duration": 7,
    "start_time": "2023-07-01T17:03:51.873Z"
   },
   {
    "duration": 7,
    "start_time": "2023-07-01T17:03:55.586Z"
   },
   {
    "duration": 7,
    "start_time": "2023-07-01T17:04:29.255Z"
   },
   {
    "duration": 7,
    "start_time": "2023-07-01T17:04:33.012Z"
   },
   {
    "duration": 751,
    "start_time": "2023-07-01T17:04:57.290Z"
   },
   {
    "duration": 223,
    "start_time": "2023-07-01T17:16:57.620Z"
   },
   {
    "duration": 723,
    "start_time": "2023-07-01T17:17:13.834Z"
   },
   {
    "duration": 242,
    "start_time": "2023-07-01T17:17:17.125Z"
   },
   {
    "duration": 833,
    "start_time": "2023-07-01T17:22:34.233Z"
   },
   {
    "duration": 21,
    "start_time": "2023-07-01T17:23:34.150Z"
   },
   {
    "duration": 20,
    "start_time": "2023-07-01T17:24:38.764Z"
   },
   {
    "duration": 749,
    "start_time": "2023-07-01T17:24:53.564Z"
   },
   {
    "duration": 92,
    "start_time": "2023-07-01T17:26:07.229Z"
   },
   {
    "duration": 97,
    "start_time": "2023-07-01T17:26:24.329Z"
   },
   {
    "duration": 87,
    "start_time": "2023-07-01T17:26:59.490Z"
   },
   {
    "duration": 11,
    "start_time": "2023-07-01T17:27:05.376Z"
   },
   {
    "duration": 15,
    "start_time": "2023-07-01T17:34:18.924Z"
   },
   {
    "duration": 39,
    "start_time": "2023-07-01T17:34:59.986Z"
   },
   {
    "duration": 712,
    "start_time": "2023-07-01T17:36:30.761Z"
   },
   {
    "duration": 761,
    "start_time": "2023-07-01T17:37:36.535Z"
   },
   {
    "duration": 15,
    "start_time": "2023-07-01T17:45:59.023Z"
   },
   {
    "duration": 11,
    "start_time": "2023-07-01T17:46:02.581Z"
   },
   {
    "duration": 925,
    "start_time": "2023-07-01T17:46:06.497Z"
   },
   {
    "duration": 736,
    "start_time": "2023-07-01T17:46:09.259Z"
   },
   {
    "duration": 725,
    "start_time": "2023-07-01T17:46:11.115Z"
   },
   {
    "duration": 762,
    "start_time": "2023-07-01T17:48:18.387Z"
   },
   {
    "duration": 943,
    "start_time": "2023-07-01T17:48:31.443Z"
   },
   {
    "duration": 798,
    "start_time": "2023-07-01T17:48:38.243Z"
   },
   {
    "duration": 803,
    "start_time": "2023-07-01T17:49:01.669Z"
   },
   {
    "duration": 1458,
    "start_time": "2023-07-02T08:32:17.387Z"
   },
   {
    "duration": 78,
    "start_time": "2023-07-02T08:32:18.847Z"
   },
   {
    "duration": 18,
    "start_time": "2023-07-02T08:32:18.927Z"
   },
   {
    "duration": 33,
    "start_time": "2023-07-02T08:32:18.947Z"
   },
   {
    "duration": 22,
    "start_time": "2023-07-02T08:32:18.985Z"
   },
   {
    "duration": 33,
    "start_time": "2023-07-02T08:32:19.008Z"
   },
   {
    "duration": 1330,
    "start_time": "2023-07-02T08:32:19.042Z"
   },
   {
    "duration": 10,
    "start_time": "2023-07-02T08:32:20.374Z"
   },
   {
    "duration": 47,
    "start_time": "2023-07-02T08:32:20.390Z"
   },
   {
    "duration": 53,
    "start_time": "2023-07-02T08:32:20.439Z"
   },
   {
    "duration": 17,
    "start_time": "2023-07-02T08:32:20.497Z"
   },
   {
    "duration": 3,
    "start_time": "2023-07-02T08:32:20.516Z"
   },
   {
    "duration": 23,
    "start_time": "2023-07-02T08:32:20.520Z"
   },
   {
    "duration": 7,
    "start_time": "2023-07-02T08:32:20.544Z"
   },
   {
    "duration": 23,
    "start_time": "2023-07-02T08:32:20.553Z"
   },
   {
    "duration": 37,
    "start_time": "2023-07-02T08:32:20.578Z"
   },
   {
    "duration": 6,
    "start_time": "2023-07-02T08:32:20.616Z"
   },
   {
    "duration": 424,
    "start_time": "2023-07-02T08:32:20.624Z"
   },
   {
    "duration": 435,
    "start_time": "2023-07-02T08:32:21.054Z"
   },
   {
    "duration": 8,
    "start_time": "2023-07-02T08:32:21.491Z"
   },
   {
    "duration": 39,
    "start_time": "2023-07-02T08:32:21.501Z"
   },
   {
    "duration": 354,
    "start_time": "2023-07-02T08:32:21.542Z"
   },
   {
    "duration": 518,
    "start_time": "2023-07-02T08:32:21.907Z"
   },
   {
    "duration": 257,
    "start_time": "2023-07-02T08:32:22.427Z"
   },
   {
    "duration": 242,
    "start_time": "2023-07-02T08:32:22.695Z"
   },
   {
    "duration": 1012,
    "start_time": "2023-07-02T08:32:22.939Z"
   },
   {
    "duration": 288,
    "start_time": "2023-07-02T08:32:23.958Z"
   },
   {
    "duration": 40,
    "start_time": "2023-07-02T08:32:24.253Z"
   },
   {
    "duration": 895,
    "start_time": "2023-07-02T08:32:24.300Z"
   },
   {
    "duration": 14,
    "start_time": "2023-07-02T08:32:25.197Z"
   },
   {
    "duration": 54,
    "start_time": "2023-07-02T08:32:25.213Z"
   },
   {
    "duration": 1688,
    "start_time": "2023-07-03T12:12:39.416Z"
   },
   {
    "duration": 94,
    "start_time": "2023-07-03T12:12:44.485Z"
   },
   {
    "duration": 17,
    "start_time": "2023-07-03T12:12:57.912Z"
   },
   {
    "duration": 20,
    "start_time": "2023-07-03T12:13:26.040Z"
   },
   {
    "duration": 8,
    "start_time": "2023-07-03T12:13:37.886Z"
   },
   {
    "duration": 28,
    "start_time": "2023-07-03T12:14:08.747Z"
   },
   {
    "duration": 1235,
    "start_time": "2023-07-03T12:14:33.187Z"
   },
   {
    "duration": 5,
    "start_time": "2023-07-03T12:14:40.883Z"
   },
   {
    "duration": 5,
    "start_time": "2023-07-03T12:14:42.346Z"
   },
   {
    "duration": 15,
    "start_time": "2023-07-03T12:14:44.396Z"
   },
   {
    "duration": 4,
    "start_time": "2023-07-03T12:14:48.742Z"
   },
   {
    "duration": 11,
    "start_time": "2023-07-03T12:14:50.029Z"
   },
   {
    "duration": 9,
    "start_time": "2023-07-03T12:14:52.500Z"
   },
   {
    "duration": 5,
    "start_time": "2023-07-03T12:14:54.389Z"
   },
   {
    "duration": 18,
    "start_time": "2023-07-03T12:17:22.018Z"
   },
   {
    "duration": 6,
    "start_time": "2023-07-03T12:17:43.785Z"
   },
   {
    "duration": 320,
    "start_time": "2023-07-03T12:17:47.074Z"
   },
   {
    "duration": 296,
    "start_time": "2023-07-03T12:17:50.774Z"
   },
   {
    "duration": 5,
    "start_time": "2023-07-03T12:17:55.889Z"
   },
   {
    "duration": 15,
    "start_time": "2023-07-03T12:18:01.069Z"
   },
   {
    "duration": 278,
    "start_time": "2023-07-03T12:20:08.652Z"
   },
   {
    "duration": 336,
    "start_time": "2023-07-03T12:20:12.182Z"
   },
   {
    "duration": 175,
    "start_time": "2023-07-03T12:20:15.694Z"
   },
   {
    "duration": 696,
    "start_time": "2023-07-03T12:20:18.509Z"
   },
   {
    "duration": 215,
    "start_time": "2023-07-03T12:20:24.723Z"
   },
   {
    "duration": 607,
    "start_time": "2023-07-03T12:20:29.441Z"
   },
   {
    "duration": 16,
    "start_time": "2023-07-03T12:20:36.512Z"
   },
   {
    "duration": 9,
    "start_time": "2023-07-03T12:20:40.534Z"
   },
   {
    "duration": 238,
    "start_time": "2023-07-03T12:41:02.135Z"
   },
   {
    "duration": 552,
    "start_time": "2023-07-03T12:41:24.688Z"
   },
   {
    "duration": 387,
    "start_time": "2023-07-03T12:49:03.383Z"
   },
   {
    "duration": 314,
    "start_time": "2023-07-03T12:49:44.680Z"
   },
   {
    "duration": 9,
    "start_time": "2023-07-03T13:16:26.870Z"
   },
   {
    "duration": 7,
    "start_time": "2023-07-03T13:16:29.502Z"
   },
   {
    "duration": 6,
    "start_time": "2023-07-03T13:16:31.057Z"
   },
   {
    "duration": 8,
    "start_time": "2023-07-03T13:16:43.690Z"
   },
   {
    "duration": 6,
    "start_time": "2023-07-03T13:16:56.939Z"
   },
   {
    "duration": 207,
    "start_time": "2023-07-03T13:17:01.420Z"
   },
   {
    "duration": 455,
    "start_time": "2023-07-03T13:17:20.808Z"
   },
   {
    "duration": 17,
    "start_time": "2023-07-03T13:17:41.404Z"
   },
   {
    "duration": 15,
    "start_time": "2023-07-03T13:17:44.987Z"
   },
   {
    "duration": 16,
    "start_time": "2023-07-03T13:20:03.610Z"
   },
   {
    "duration": 164,
    "start_time": "2023-07-03T13:20:09.322Z"
   },
   {
    "duration": 555,
    "start_time": "2023-07-03T13:20:34.816Z"
   },
   {
    "duration": 1463,
    "start_time": "2023-07-04T06:54:44.438Z"
   },
   {
    "duration": 181,
    "start_time": "2023-07-04T06:54:46.047Z"
   },
   {
    "duration": 21,
    "start_time": "2023-07-04T06:54:47.502Z"
   },
   {
    "duration": 11,
    "start_time": "2023-07-04T06:54:50.037Z"
   },
   {
    "duration": 35,
    "start_time": "2023-07-04T06:54:53.142Z"
   },
   {
    "duration": 1187,
    "start_time": "2023-07-04T06:55:01.323Z"
   },
   {
    "duration": 31,
    "start_time": "2023-07-04T06:55:04.884Z"
   },
   {
    "duration": 6,
    "start_time": "2023-07-04T06:55:20.882Z"
   },
   {
    "duration": 7,
    "start_time": "2023-07-04T06:55:22.452Z"
   },
   {
    "duration": 6,
    "start_time": "2023-07-04T06:55:25.264Z"
   },
   {
    "duration": 18,
    "start_time": "2023-07-04T06:55:26.535Z"
   },
   {
    "duration": 4,
    "start_time": "2023-07-04T06:55:32.084Z"
   },
   {
    "duration": 12,
    "start_time": "2023-07-04T06:55:33.592Z"
   },
   {
    "duration": 8,
    "start_time": "2023-07-04T06:55:35.293Z"
   },
   {
    "duration": 9,
    "start_time": "2023-07-04T06:55:37.086Z"
   },
   {
    "duration": 23,
    "start_time": "2023-07-04T06:55:39.504Z"
   },
   {
    "duration": 6,
    "start_time": "2023-07-04T06:55:43.492Z"
   },
   {
    "duration": 356,
    "start_time": "2023-07-04T06:55:45.906Z"
   },
   {
    "duration": 353,
    "start_time": "2023-07-04T06:55:50.674Z"
   },
   {
    "duration": 6,
    "start_time": "2023-07-04T06:55:55.155Z"
   },
   {
    "duration": 19,
    "start_time": "2023-07-04T06:55:59.285Z"
   },
   {
    "duration": 18,
    "start_time": "2023-07-04T06:56:28.170Z"
   },
   {
    "duration": 331,
    "start_time": "2023-07-04T06:56:30.808Z"
   },
   {
    "duration": 393,
    "start_time": "2023-07-04T06:56:35.482Z"
   },
   {
    "duration": 193,
    "start_time": "2023-07-04T06:56:38.604Z"
   },
   {
    "duration": 798,
    "start_time": "2023-07-04T06:56:41.895Z"
   },
   {
    "duration": 241,
    "start_time": "2023-07-04T06:56:47.078Z"
   },
   {
    "duration": 406,
    "start_time": "2023-07-04T06:56:49.936Z"
   },
   {
    "duration": 23,
    "start_time": "2023-07-04T06:59:56.177Z"
   },
   {
    "duration": 549,
    "start_time": "2023-07-04T07:01:28.777Z"
   },
   {
    "duration": 110,
    "start_time": "2023-07-04T07:03:48.251Z"
   },
   {
    "duration": 10,
    "start_time": "2023-07-04T07:05:02.662Z"
   },
   {
    "duration": 14,
    "start_time": "2023-07-04T07:06:03.290Z"
   },
   {
    "duration": 137,
    "start_time": "2023-07-04T07:06:15.891Z"
   },
   {
    "duration": 23,
    "start_time": "2023-07-04T07:06:20.461Z"
   },
   {
    "duration": 11,
    "start_time": "2023-07-04T07:06:45.531Z"
   },
   {
    "duration": 13,
    "start_time": "2023-07-04T07:07:02.849Z"
   },
   {
    "duration": 10,
    "start_time": "2023-07-04T07:07:19.449Z"
   },
   {
    "duration": 11,
    "start_time": "2023-07-04T07:07:52.511Z"
   },
   {
    "duration": 11,
    "start_time": "2023-07-04T07:08:05.496Z"
   },
   {
    "duration": 1413,
    "start_time": "2023-07-04T08:33:43.255Z"
   },
   {
    "duration": 23,
    "start_time": "2023-07-04T08:44:13.353Z"
   },
   {
    "duration": 18,
    "start_time": "2023-07-04T08:44:17.186Z"
   },
   {
    "duration": 1737,
    "start_time": "2023-07-04T08:44:27.344Z"
   },
   {
    "duration": 1475,
    "start_time": "2023-07-04T08:51:39.561Z"
   },
   {
    "duration": 56,
    "start_time": "2023-07-04T08:52:43.856Z"
   },
   {
    "duration": 16,
    "start_time": "2023-07-04T08:53:13.630Z"
   },
   {
    "duration": 23,
    "start_time": "2023-07-04T08:53:39.965Z"
   },
   {
    "duration": 849,
    "start_time": "2023-07-04T08:54:50.722Z"
   },
   {
    "duration": 716,
    "start_time": "2023-07-04T08:55:15.073Z"
   },
   {
    "duration": 32,
    "start_time": "2023-07-04T08:58:44.184Z"
   },
   {
    "duration": 733,
    "start_time": "2023-07-04T08:58:58.392Z"
   },
   {
    "duration": 35,
    "start_time": "2023-07-04T08:59:02.899Z"
   },
   {
    "duration": 29,
    "start_time": "2023-07-04T08:59:34.436Z"
   },
   {
    "duration": 20,
    "start_time": "2023-07-04T09:09:10.820Z"
   },
   {
    "duration": 988,
    "start_time": "2023-07-04T09:09:31.581Z"
   },
   {
    "duration": 14,
    "start_time": "2023-07-04T09:09:36.219Z"
   },
   {
    "duration": 34,
    "start_time": "2023-07-04T09:09:38.783Z"
   },
   {
    "duration": 17,
    "start_time": "2023-07-04T09:10:04.911Z"
   },
   {
    "duration": 172,
    "start_time": "2023-07-04T09:10:44.303Z"
   },
   {
    "duration": 28,
    "start_time": "2023-07-04T09:15:01.200Z"
   },
   {
    "duration": 31,
    "start_time": "2023-07-04T09:15:26.673Z"
   },
   {
    "duration": 22,
    "start_time": "2023-07-04T09:15:43.992Z"
   },
   {
    "duration": 20,
    "start_time": "2023-07-04T09:16:32.105Z"
   },
   {
    "duration": 7,
    "start_time": "2023-07-04T09:17:37.332Z"
   },
   {
    "duration": 29,
    "start_time": "2023-07-04T09:17:51.421Z"
   },
   {
    "duration": 35,
    "start_time": "2023-07-04T09:17:58.184Z"
   },
   {
    "duration": 20,
    "start_time": "2023-07-04T09:18:02.233Z"
   },
   {
    "duration": 6,
    "start_time": "2023-07-04T09:18:25.108Z"
   },
   {
    "duration": 194,
    "start_time": "2023-07-04T09:19:13.054Z"
   },
   {
    "duration": 10,
    "start_time": "2023-07-04T09:19:21.490Z"
   },
   {
    "duration": 33,
    "start_time": "2023-07-04T09:19:58.425Z"
   },
   {
    "duration": 831,
    "start_time": "2023-07-04T09:22:22.688Z"
   },
   {
    "duration": 615,
    "start_time": "2023-07-04T09:23:23.260Z"
   },
   {
    "duration": 37,
    "start_time": "2023-07-04T09:25:47.377Z"
   },
   {
    "duration": 36,
    "start_time": "2023-07-04T09:27:00.231Z"
   },
   {
    "duration": 37,
    "start_time": "2023-07-04T09:27:28.510Z"
   },
   {
    "duration": 733,
    "start_time": "2023-07-04T09:27:56.645Z"
   },
   {
    "duration": 38,
    "start_time": "2023-07-04T09:29:17.249Z"
   },
   {
    "duration": 601,
    "start_time": "2023-07-04T09:52:58.793Z"
   },
   {
    "duration": 25,
    "start_time": "2023-07-04T09:53:52.062Z"
   },
   {
    "duration": 200,
    "start_time": "2023-07-04T09:54:03.981Z"
   },
   {
    "duration": 834,
    "start_time": "2023-07-04T09:54:27.652Z"
   },
   {
    "duration": 850,
    "start_time": "2023-07-04T09:54:49.218Z"
   },
   {
    "duration": 196,
    "start_time": "2023-07-04T09:54:54.173Z"
   },
   {
    "duration": 9,
    "start_time": "2023-07-04T09:55:56.754Z"
   },
   {
    "duration": 7,
    "start_time": "2023-07-04T09:56:02.219Z"
   },
   {
    "duration": 6,
    "start_time": "2023-07-04T09:56:17.039Z"
   },
   {
    "duration": 55,
    "start_time": "2023-07-04T09:58:14.878Z"
   },
   {
    "duration": 954,
    "start_time": "2023-07-04T10:00:00.892Z"
   },
   {
    "duration": 31,
    "start_time": "2023-07-04T10:01:44.374Z"
   },
   {
    "duration": 60,
    "start_time": "2023-07-04T10:01:53.872Z"
   },
   {
    "duration": 2372,
    "start_time": "2023-07-04T10:03:14.240Z"
   },
   {
    "duration": 42,
    "start_time": "2023-07-04T10:03:30.623Z"
   },
   {
    "duration": 198,
    "start_time": "2023-07-04T10:12:06.294Z"
   },
   {
    "duration": 1162,
    "start_time": "2023-07-05T06:44:54.735Z"
   },
   {
    "duration": 178,
    "start_time": "2023-07-05T06:44:55.899Z"
   },
   {
    "duration": 18,
    "start_time": "2023-07-05T06:44:56.079Z"
   },
   {
    "duration": 14,
    "start_time": "2023-07-05T06:44:56.099Z"
   },
   {
    "duration": 16,
    "start_time": "2023-07-05T06:44:56.115Z"
   },
   {
    "duration": 49,
    "start_time": "2023-07-05T06:44:56.133Z"
   },
   {
    "duration": 1047,
    "start_time": "2023-07-05T06:44:56.184Z"
   },
   {
    "duration": 4,
    "start_time": "2023-07-05T06:44:57.233Z"
   },
   {
    "duration": 13,
    "start_time": "2023-07-05T06:44:57.239Z"
   },
   {
    "duration": 31,
    "start_time": "2023-07-05T06:44:57.254Z"
   },
   {
    "duration": 37,
    "start_time": "2023-07-05T06:44:57.287Z"
   },
   {
    "duration": 17,
    "start_time": "2023-07-05T06:44:57.326Z"
   },
   {
    "duration": 27,
    "start_time": "2023-07-05T06:44:57.345Z"
   },
   {
    "duration": 16,
    "start_time": "2023-07-05T06:44:57.374Z"
   },
   {
    "duration": 11,
    "start_time": "2023-07-05T06:44:57.392Z"
   },
   {
    "duration": 26,
    "start_time": "2023-07-05T06:44:57.405Z"
   },
   {
    "duration": 15,
    "start_time": "2023-07-05T06:44:57.433Z"
   },
   {
    "duration": 352,
    "start_time": "2023-07-05T06:44:57.449Z"
   },
   {
    "duration": 330,
    "start_time": "2023-07-05T06:44:57.802Z"
   },
   {
    "duration": 5,
    "start_time": "2023-07-05T06:44:58.134Z"
   },
   {
    "duration": 47,
    "start_time": "2023-07-05T06:44:58.140Z"
   },
   {
    "duration": 275,
    "start_time": "2023-07-05T06:44:58.188Z"
   },
   {
    "duration": 366,
    "start_time": "2023-07-05T06:44:58.464Z"
   },
   {
    "duration": 183,
    "start_time": "2023-07-05T06:44:58.832Z"
   },
   {
    "duration": 194,
    "start_time": "2023-07-05T06:44:59.017Z"
   },
   {
    "duration": 831,
    "start_time": "2023-07-05T06:44:59.212Z"
   },
   {
    "duration": 230,
    "start_time": "2023-07-05T06:45:00.046Z"
   },
   {
    "duration": 412,
    "start_time": "2023-07-05T06:45:00.280Z"
   },
   {
    "duration": 24,
    "start_time": "2023-07-05T06:45:00.694Z"
   },
   {
    "duration": 109,
    "start_time": "2023-07-05T06:45:00.720Z"
   },
   {
    "duration": 588,
    "start_time": "2023-07-05T06:45:00.831Z"
   },
   {
    "duration": 23,
    "start_time": "2023-07-05T06:45:01.421Z"
   },
   {
    "duration": 469,
    "start_time": "2023-07-05T06:45:01.446Z"
   },
   {
    "duration": 24,
    "start_time": "2023-07-05T06:45:01.917Z"
   },
   {
    "duration": 171,
    "start_time": "2023-07-05T06:45:01.942Z"
   },
   {
    "duration": 0,
    "start_time": "2023-07-05T06:45:02.115Z"
   },
   {
    "duration": 11,
    "start_time": "2023-07-05T06:47:04.034Z"
   },
   {
    "duration": 115,
    "start_time": "2023-07-05T06:51:20.730Z"
   },
   {
    "duration": 1528,
    "start_time": "2023-07-05T08:00:01.377Z"
   },
   {
    "duration": 108,
    "start_time": "2023-07-05T08:00:08.882Z"
   },
   {
    "duration": 18,
    "start_time": "2023-07-05T08:00:10.004Z"
   },
   {
    "duration": 24,
    "start_time": "2023-07-05T08:00:11.951Z"
   },
   {
    "duration": 23,
    "start_time": "2023-07-05T08:00:14.846Z"
   },
   {
    "duration": 43,
    "start_time": "2023-07-05T08:00:17.447Z"
   },
   {
    "duration": 1278,
    "start_time": "2023-07-05T08:00:19.511Z"
   },
   {
    "duration": 6,
    "start_time": "2023-07-05T08:00:27.583Z"
   },
   {
    "duration": 5,
    "start_time": "2023-07-05T08:00:40.420Z"
   },
   {
    "duration": 15,
    "start_time": "2023-07-05T08:00:42.095Z"
   },
   {
    "duration": 7,
    "start_time": "2023-07-05T08:00:46.677Z"
   },
   {
    "duration": 11,
    "start_time": "2023-07-05T08:00:48.914Z"
   },
   {
    "duration": 15,
    "start_time": "2023-07-05T08:00:50.750Z"
   },
   {
    "duration": 26,
    "start_time": "2023-07-05T08:00:53.371Z"
   },
   {
    "duration": 6,
    "start_time": "2023-07-05T08:00:55.080Z"
   },
   {
    "duration": 21,
    "start_time": "2023-07-05T08:00:57.719Z"
   },
   {
    "duration": 7,
    "start_time": "2023-07-05T08:01:00.778Z"
   },
   {
    "duration": 385,
    "start_time": "2023-07-05T08:01:04.240Z"
   },
   {
    "duration": 368,
    "start_time": "2023-07-05T08:01:07.887Z"
   },
   {
    "duration": 24,
    "start_time": "2023-07-05T08:01:23.643Z"
   },
   {
    "duration": 346,
    "start_time": "2023-07-05T08:01:26.736Z"
   },
   {
    "duration": 436,
    "start_time": "2023-07-05T08:01:30.156Z"
   },
   {
    "duration": 201,
    "start_time": "2023-07-05T08:01:33.616Z"
   },
   {
    "duration": 909,
    "start_time": "2023-07-05T08:01:36.972Z"
   },
   {
    "duration": 265,
    "start_time": "2023-07-05T08:01:41.278Z"
   },
   {
    "duration": 435,
    "start_time": "2023-07-05T08:01:43.991Z"
   },
   {
    "duration": 17,
    "start_time": "2023-07-05T08:01:49.082Z"
   },
   {
    "duration": 32,
    "start_time": "2023-07-05T08:01:51.666Z"
   },
   {
    "duration": 23,
    "start_time": "2023-07-05T08:01:54.334Z"
   },
   {
    "duration": 529,
    "start_time": "2023-07-05T08:01:56.975Z"
   },
   {
    "duration": 24,
    "start_time": "2023-07-05T08:02:00.582Z"
   },
   {
    "duration": 108,
    "start_time": "2023-07-05T08:02:14.480Z"
   },
   {
    "duration": 15,
    "start_time": "2023-07-05T08:02:45.815Z"
   },
   {
    "duration": 12,
    "start_time": "2023-07-05T08:02:54.203Z"
   },
   {
    "duration": 11,
    "start_time": "2023-07-05T08:04:22.021Z"
   },
   {
    "duration": 170,
    "start_time": "2023-07-05T08:46:44.308Z"
   },
   {
    "duration": 105,
    "start_time": "2023-07-06T08:02:13.870Z"
   },
   {
    "duration": 1609,
    "start_time": "2023-07-06T08:02:27.217Z"
   },
   {
    "duration": 170,
    "start_time": "2023-07-06T08:02:28.829Z"
   },
   {
    "duration": 33,
    "start_time": "2023-07-06T08:02:29.003Z"
   },
   {
    "duration": 69,
    "start_time": "2023-07-06T08:02:29.043Z"
   },
   {
    "duration": 48,
    "start_time": "2023-07-06T08:02:29.119Z"
   },
   {
    "duration": 67,
    "start_time": "2023-07-06T08:02:29.169Z"
   },
   {
    "duration": 1768,
    "start_time": "2023-07-06T08:02:29.239Z"
   },
   {
    "duration": 17,
    "start_time": "2023-07-06T08:02:31.014Z"
   },
   {
    "duration": 161,
    "start_time": "2023-07-06T08:02:31.041Z"
   },
   {
    "duration": 114,
    "start_time": "2023-07-06T08:02:31.209Z"
   },
   {
    "duration": 168,
    "start_time": "2023-07-06T08:02:31.331Z"
   },
   {
    "duration": 50,
    "start_time": "2023-07-06T08:02:31.505Z"
   },
   {
    "duration": 124,
    "start_time": "2023-07-06T08:02:31.557Z"
   },
   {
    "duration": 173,
    "start_time": "2023-07-06T08:02:31.685Z"
   },
   {
    "duration": 123,
    "start_time": "2023-07-06T08:02:31.860Z"
   },
   {
    "duration": 70,
    "start_time": "2023-07-06T08:02:31.986Z"
   },
   {
    "duration": 36,
    "start_time": "2023-07-06T08:02:32.059Z"
   },
   {
    "duration": 635,
    "start_time": "2023-07-06T08:02:32.097Z"
   },
   {
    "duration": 624,
    "start_time": "2023-07-06T08:02:32.750Z"
   },
   {
    "duration": 19,
    "start_time": "2023-07-06T08:02:33.381Z"
   },
   {
    "duration": 386,
    "start_time": "2023-07-06T08:02:33.407Z"
   },
   {
    "duration": 726,
    "start_time": "2023-07-06T08:02:33.795Z"
   },
   {
    "duration": 654,
    "start_time": "2023-07-06T08:02:34.523Z"
   },
   {
    "duration": 335,
    "start_time": "2023-07-06T08:02:35.180Z"
   },
   {
    "duration": 329,
    "start_time": "2023-07-06T08:02:35.518Z"
   },
   {
    "duration": 1274,
    "start_time": "2023-07-06T08:02:35.849Z"
   },
   {
    "duration": 403,
    "start_time": "2023-07-06T08:02:37.132Z"
   },
   {
    "duration": 654,
    "start_time": "2023-07-06T08:02:37.543Z"
   },
   {
    "duration": 33,
    "start_time": "2023-07-06T08:02:38.202Z"
   },
   {
    "duration": 45,
    "start_time": "2023-07-06T08:02:38.244Z"
   },
   {
    "duration": 749,
    "start_time": "2023-07-06T08:02:38.291Z"
   },
   {
    "duration": 29,
    "start_time": "2023-07-06T08:02:39.042Z"
   },
   {
    "duration": 729,
    "start_time": "2023-07-06T08:02:39.073Z"
   },
   {
    "duration": 37,
    "start_time": "2023-07-06T08:02:39.804Z"
   },
   {
    "duration": 41,
    "start_time": "2023-07-06T08:02:39.844Z"
   },
   {
    "duration": 19,
    "start_time": "2023-07-06T08:02:39.888Z"
   },
   {
    "duration": 207,
    "start_time": "2023-07-06T08:02:39.916Z"
   },
   {
    "duration": 0,
    "start_time": "2023-07-06T08:02:40.126Z"
   },
   {
    "duration": 1504,
    "start_time": "2023-07-06T10:50:26.667Z"
   },
   {
    "duration": 131,
    "start_time": "2023-07-06T10:50:28.208Z"
   },
   {
    "duration": 34,
    "start_time": "2023-07-06T10:50:31.500Z"
   },
   {
    "duration": 17,
    "start_time": "2023-07-06T10:50:34.092Z"
   },
   {
    "duration": 14,
    "start_time": "2023-07-06T10:50:36.717Z"
   },
   {
    "duration": 43,
    "start_time": "2023-07-06T10:50:40.417Z"
   },
   {
    "duration": 1253,
    "start_time": "2023-07-06T10:50:42.567Z"
   },
   {
    "duration": 7,
    "start_time": "2023-07-06T10:50:47.425Z"
   },
   {
    "duration": 5,
    "start_time": "2023-07-06T10:50:49.942Z"
   },
   {
    "duration": 6,
    "start_time": "2023-07-06T10:50:52.656Z"
   },
   {
    "duration": 17,
    "start_time": "2023-07-06T10:50:54.663Z"
   },
   {
    "duration": 4,
    "start_time": "2023-07-06T10:50:58.593Z"
   },
   {
    "duration": 12,
    "start_time": "2023-07-06T10:51:00.126Z"
   },
   {
    "duration": 11,
    "start_time": "2023-07-06T10:51:02.003Z"
   },
   {
    "duration": 8,
    "start_time": "2023-07-06T10:51:03.864Z"
   },
   {
    "duration": 25,
    "start_time": "2023-07-06T10:51:08.632Z"
   },
   {
    "duration": 9,
    "start_time": "2023-07-06T10:51:15.535Z"
   },
   {
    "duration": 473,
    "start_time": "2023-07-06T10:51:18.425Z"
   },
   {
    "duration": 570,
    "start_time": "2023-07-06T10:51:21.682Z"
   },
   {
    "duration": 8,
    "start_time": "2023-07-06T10:51:25.489Z"
   },
   {
    "duration": 32,
    "start_time": "2023-07-06T10:51:28.994Z"
   },
   {
    "duration": 402,
    "start_time": "2023-07-06T10:51:32.280Z"
   },
   {
    "duration": 457,
    "start_time": "2023-07-06T10:51:36.439Z"
   },
   {
    "duration": 285,
    "start_time": "2023-07-06T10:51:40.345Z"
   },
   {
    "duration": 889,
    "start_time": "2023-07-06T10:51:44.162Z"
   },
   {
    "duration": 231,
    "start_time": "2023-07-06T10:51:50.242Z"
   },
   {
    "duration": 884,
    "start_time": "2023-07-06T10:51:55.375Z"
   },
   {
    "duration": 310,
    "start_time": "2023-07-06T10:51:59.742Z"
   },
   {
    "duration": 500,
    "start_time": "2023-07-06T10:52:02.786Z"
   },
   {
    "duration": 33,
    "start_time": "2023-07-06T10:52:07.153Z"
   },
   {
    "duration": 37,
    "start_time": "2023-07-06T10:52:10.200Z"
   },
   {
    "duration": 27,
    "start_time": "2023-07-06T10:52:14.163Z"
   },
   {
    "duration": 800,
    "start_time": "2023-07-06T10:52:16.655Z"
   },
   {
    "duration": 38,
    "start_time": "2023-07-06T10:52:19.688Z"
   },
   {
    "duration": 17,
    "start_time": "2023-07-06T10:52:23.379Z"
   },
   {
    "duration": 14,
    "start_time": "2023-07-06T10:52:27.394Z"
   },
   {
    "duration": 19,
    "start_time": "2023-07-06T10:52:33.744Z"
   },
   {
    "duration": 13,
    "start_time": "2023-07-06T10:52:36.813Z"
   },
   {
    "duration": 15,
    "start_time": "2023-07-06T11:32:46.182Z"
   },
   {
    "duration": 12,
    "start_time": "2023-07-06T11:38:54.308Z"
   },
   {
    "duration": 20,
    "start_time": "2023-07-06T11:39:06.898Z"
   }
  ],
  "kernelspec": {
   "display_name": "Python 3 (ipykernel)",
   "language": "python",
   "name": "python3"
  },
  "language_info": {
   "codemirror_mode": {
    "name": "ipython",
    "version": 3
   },
   "file_extension": ".py",
   "mimetype": "text/x-python",
   "name": "python",
   "nbconvert_exporter": "python",
   "pygments_lexer": "ipython3",
   "version": "3.9.13"
  },
  "toc": {
   "base_numbering": 1,
   "nav_menu": {},
   "number_sections": true,
   "sideBar": true,
   "skip_h1_title": true,
   "title_cell": "Table of Contents",
   "title_sidebar": "Contents",
   "toc_cell": false,
   "toc_position": {},
   "toc_section_display": true,
   "toc_window_display": false
  }
 },
 "nbformat": 4,
 "nbformat_minor": 2
}
