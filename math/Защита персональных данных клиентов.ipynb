{
 "cells": [
  {
   "cell_type": "markdown",
   "metadata": {
    "toc": true
   },
   "source": [
    "<h1>Содержание<span class=\"tocSkip\"></span></h1>\n",
    "<div class=\"toc\"><ul class=\"toc-item\"><li><span><a href=\"#Загрузка-данных\" data-toc-modified-id=\"Загрузка-данных-1\"><span class=\"toc-item-num\">1&nbsp;&nbsp;</span>Загрузка данных</a></span></li><li><span><a href=\"#Умножение-матриц\" data-toc-modified-id=\"Умножение-матриц-2\"><span class=\"toc-item-num\">2&nbsp;&nbsp;</span>Умножение матриц</a></span></li><li><span><a href=\"#Алгоритм-преобразования\" data-toc-modified-id=\"Алгоритм-преобразования-3\"><span class=\"toc-item-num\">3&nbsp;&nbsp;</span>Алгоритм преобразования</a></span></li><li><span><a href=\"#Проверка-алгоритма\" data-toc-modified-id=\"Проверка-алгоритма-4\"><span class=\"toc-item-num\">4&nbsp;&nbsp;</span>Проверка алгоритма</a></span></li><li><span><a href=\"#Чек-лист-проверки\" data-toc-modified-id=\"Чек-лист-проверки-5\"><span class=\"toc-item-num\">5&nbsp;&nbsp;</span>Чек-лист проверки</a></span></li></ul></div>"
   ]
  },
  {
   "cell_type": "markdown",
   "metadata": {},
   "source": [
    "# Защита персональных данных клиентов"
   ]
  },
  {
   "cell_type": "markdown",
   "metadata": {},
   "source": [
    "Вам нужно защитить данные клиентов страховой компании «Хоть потоп». Разработайте такой метод преобразования данных, чтобы по ним было сложно восстановить персональную информацию. Обоснуйте корректность его работы.\n",
    "\n",
    "Нужно защитить данные, чтобы при преобразовании качество моделей машинного обучения не ухудшилось. Подбирать наилучшую модель не требуется.\n",
    "\n",
    "**Описание данных**\n",
    "Набор данных находится в файле `insurance.csv`.\n",
    "\n",
    "**Признаки:** пол, возраст и зарплата застрахованного, количество членов его семьи.\n",
    "\n",
    "**Целевой признак:** количество страховых выплат клиенту за последние 5 лет."
   ]
  },
  {
   "cell_type": "code",
   "execution_count": 1,
   "metadata": {},
   "outputs": [],
   "source": [
    "import pandas as pd\n",
    "import numpy as np\n",
    "from sklearn.linear_model import LinearRegression\n",
    "from sklearn.datasets import make_regression\n",
    "from sklearn.metrics import r2_score\n",
    "from sklearn.model_selection import train_test_split"
   ]
  },
  {
   "cell_type": "markdown",
   "metadata": {},
   "source": [
    "## Загрузка данных"
   ]
  },
  {
   "cell_type": "code",
   "execution_count": 2,
   "metadata": {
    "scrolled": true
   },
   "outputs": [
    {
     "data": {
      "text/html": [
       "<div>\n",
       "<style scoped>\n",
       "    .dataframe tbody tr th:only-of-type {\n",
       "        vertical-align: middle;\n",
       "    }\n",
       "\n",
       "    .dataframe tbody tr th {\n",
       "        vertical-align: top;\n",
       "    }\n",
       "\n",
       "    .dataframe thead th {\n",
       "        text-align: right;\n",
       "    }\n",
       "</style>\n",
       "<table border=\"1\" class=\"dataframe\">\n",
       "  <thead>\n",
       "    <tr style=\"text-align: right;\">\n",
       "      <th></th>\n",
       "      <th>Пол</th>\n",
       "      <th>Возраст</th>\n",
       "      <th>Зарплата</th>\n",
       "      <th>Члены семьи</th>\n",
       "      <th>Страховые выплаты</th>\n",
       "    </tr>\n",
       "  </thead>\n",
       "  <tbody>\n",
       "    <tr>\n",
       "      <th>0</th>\n",
       "      <td>1</td>\n",
       "      <td>41.0</td>\n",
       "      <td>49600.0</td>\n",
       "      <td>1</td>\n",
       "      <td>0</td>\n",
       "    </tr>\n",
       "    <tr>\n",
       "      <th>1</th>\n",
       "      <td>0</td>\n",
       "      <td>46.0</td>\n",
       "      <td>38000.0</td>\n",
       "      <td>1</td>\n",
       "      <td>1</td>\n",
       "    </tr>\n",
       "    <tr>\n",
       "      <th>2</th>\n",
       "      <td>0</td>\n",
       "      <td>29.0</td>\n",
       "      <td>21000.0</td>\n",
       "      <td>0</td>\n",
       "      <td>0</td>\n",
       "    </tr>\n",
       "    <tr>\n",
       "      <th>3</th>\n",
       "      <td>0</td>\n",
       "      <td>21.0</td>\n",
       "      <td>41700.0</td>\n",
       "      <td>2</td>\n",
       "      <td>0</td>\n",
       "    </tr>\n",
       "    <tr>\n",
       "      <th>4</th>\n",
       "      <td>1</td>\n",
       "      <td>28.0</td>\n",
       "      <td>26100.0</td>\n",
       "      <td>0</td>\n",
       "      <td>0</td>\n",
       "    </tr>\n",
       "  </tbody>\n",
       "</table>\n",
       "</div>"
      ],
      "text/plain": [
       "   Пол  Возраст  Зарплата  Члены семьи  Страховые выплаты\n",
       "0    1     41.0   49600.0            1                  0\n",
       "1    0     46.0   38000.0            1                  1\n",
       "2    0     29.0   21000.0            0                  0\n",
       "3    0     21.0   41700.0            2                  0\n",
       "4    1     28.0   26100.0            0                  0"
      ]
     },
     "metadata": {},
     "output_type": "display_data"
    },
    {
     "name": "stdout",
     "output_type": "stream",
     "text": [
      "<class 'pandas.core.frame.DataFrame'>\n",
      "RangeIndex: 5000 entries, 0 to 4999\n",
      "Data columns (total 5 columns):\n",
      " #   Column             Non-Null Count  Dtype  \n",
      "---  ------             --------------  -----  \n",
      " 0   Пол                5000 non-null   int64  \n",
      " 1   Возраст            5000 non-null   float64\n",
      " 2   Зарплата           5000 non-null   float64\n",
      " 3   Члены семьи        5000 non-null   int64  \n",
      " 4   Страховые выплаты  5000 non-null   int64  \n",
      "dtypes: float64(2), int64(3)\n",
      "memory usage: 195.4 KB\n",
      "None\n"
     ]
    }
   ],
   "source": [
    "data = pd.read_csv('/datasets/insurance.csv')\n",
    "display(data.head())\n",
    "print(data.info())"
   ]
  },
  {
   "cell_type": "code",
   "execution_count": 3,
   "metadata": {
    "scrolled": true
   },
   "outputs": [
    {
     "data": {
      "text/html": [
       "<div>\n",
       "<style scoped>\n",
       "    .dataframe tbody tr th:only-of-type {\n",
       "        vertical-align: middle;\n",
       "    }\n",
       "\n",
       "    .dataframe tbody tr th {\n",
       "        vertical-align: top;\n",
       "    }\n",
       "\n",
       "    .dataframe thead th {\n",
       "        text-align: right;\n",
       "    }\n",
       "</style>\n",
       "<table border=\"1\" class=\"dataframe\">\n",
       "  <thead>\n",
       "    <tr style=\"text-align: right;\">\n",
       "      <th></th>\n",
       "      <th>Пол</th>\n",
       "      <th>Возраст</th>\n",
       "      <th>Зарплата</th>\n",
       "      <th>Члены семьи</th>\n",
       "      <th>Страховые выплаты</th>\n",
       "    </tr>\n",
       "  </thead>\n",
       "  <tbody>\n",
       "    <tr>\n",
       "      <th>count</th>\n",
       "      <td>5000.000000</td>\n",
       "      <td>5000.000000</td>\n",
       "      <td>5000.000000</td>\n",
       "      <td>5000.000000</td>\n",
       "      <td>5000.000000</td>\n",
       "    </tr>\n",
       "    <tr>\n",
       "      <th>mean</th>\n",
       "      <td>0.499000</td>\n",
       "      <td>30.952800</td>\n",
       "      <td>39916.360000</td>\n",
       "      <td>1.194200</td>\n",
       "      <td>0.148000</td>\n",
       "    </tr>\n",
       "    <tr>\n",
       "      <th>std</th>\n",
       "      <td>0.500049</td>\n",
       "      <td>8.440807</td>\n",
       "      <td>9900.083569</td>\n",
       "      <td>1.091387</td>\n",
       "      <td>0.463183</td>\n",
       "    </tr>\n",
       "    <tr>\n",
       "      <th>min</th>\n",
       "      <td>0.000000</td>\n",
       "      <td>18.000000</td>\n",
       "      <td>5300.000000</td>\n",
       "      <td>0.000000</td>\n",
       "      <td>0.000000</td>\n",
       "    </tr>\n",
       "    <tr>\n",
       "      <th>25%</th>\n",
       "      <td>0.000000</td>\n",
       "      <td>24.000000</td>\n",
       "      <td>33300.000000</td>\n",
       "      <td>0.000000</td>\n",
       "      <td>0.000000</td>\n",
       "    </tr>\n",
       "    <tr>\n",
       "      <th>50%</th>\n",
       "      <td>0.000000</td>\n",
       "      <td>30.000000</td>\n",
       "      <td>40200.000000</td>\n",
       "      <td>1.000000</td>\n",
       "      <td>0.000000</td>\n",
       "    </tr>\n",
       "    <tr>\n",
       "      <th>75%</th>\n",
       "      <td>1.000000</td>\n",
       "      <td>37.000000</td>\n",
       "      <td>46600.000000</td>\n",
       "      <td>2.000000</td>\n",
       "      <td>0.000000</td>\n",
       "    </tr>\n",
       "    <tr>\n",
       "      <th>max</th>\n",
       "      <td>1.000000</td>\n",
       "      <td>65.000000</td>\n",
       "      <td>79000.000000</td>\n",
       "      <td>6.000000</td>\n",
       "      <td>5.000000</td>\n",
       "    </tr>\n",
       "  </tbody>\n",
       "</table>\n",
       "</div>"
      ],
      "text/plain": [
       "               Пол      Возраст      Зарплата  Члены семьи  Страховые выплаты\n",
       "count  5000.000000  5000.000000   5000.000000  5000.000000        5000.000000\n",
       "mean      0.499000    30.952800  39916.360000     1.194200           0.148000\n",
       "std       0.500049     8.440807   9900.083569     1.091387           0.463183\n",
       "min       0.000000    18.000000   5300.000000     0.000000           0.000000\n",
       "25%       0.000000    24.000000  33300.000000     0.000000           0.000000\n",
       "50%       0.000000    30.000000  40200.000000     1.000000           0.000000\n",
       "75%       1.000000    37.000000  46600.000000     2.000000           0.000000\n",
       "max       1.000000    65.000000  79000.000000     6.000000           5.000000"
      ]
     },
     "execution_count": 3,
     "metadata": {},
     "output_type": "execute_result"
    }
   ],
   "source": [
    "data.describe()"
   ]
  },
  {
   "cell_type": "markdown",
   "metadata": {},
   "source": [
    "**Выводы:**\n",
    "- Общий объем данных 5000 записей\n",
    "- Все столбцы имеют соответствующий тип данных\n",
    "- Пропущенные значения отсутствуют\n",
    "- Аномальные значения не выявлены"
   ]
  },
  {
   "cell_type": "markdown",
   "metadata": {},
   "source": [
    "## Умножение матриц"
   ]
  },
  {
   "cell_type": "markdown",
   "metadata": {},
   "source": [
    "В этом задании вы можете записывать формулы в *Jupyter Notebook.*\n",
    "\n",
    "Чтобы записать формулу внутри текста, окружите её символами доллара \\\\$; если снаружи —  двойными символами \\\\$\\\\$. Эти формулы записываются на языке вёрстки *LaTeX.* \n",
    "\n",
    "Для примера мы записали формулы линейной регрессии. Можете их скопировать и отредактировать, чтобы решить задачу.\n",
    "\n",
    "Работать в *LaTeX* необязательно."
   ]
  },
  {
   "cell_type": "markdown",
   "metadata": {},
   "source": [
    "Обозначения:\n",
    "\n",
    "- $X$ — матрица признаков (нулевой столбец состоит из единиц)\n",
    "\n",
    "- $y$ — вектор целевого признака\n",
    "\n",
    "- $P$ — матрица, на которую умножаются признаки\n",
    "\n",
    "- $w$ — вектор весов линейной регрессии (нулевой элемент равен сдвигу)"
   ]
  },
  {
   "cell_type": "markdown",
   "metadata": {},
   "source": [
    "Предсказания:\n",
    "\n",
    "$$\n",
    "a = Xw\n",
    "$$\n",
    "\n",
    "Задача обучения:\n",
    "\n",
    "$$\n",
    "w = \\arg\\min_w MSE(Xw, y)\n",
    "$$\n",
    "\n",
    "Формула обучения:\n",
    "\n",
    "$$\n",
    "w = (X^T X)^{-1} X^T y\n",
    "$$"
   ]
  },
  {
   "cell_type": "markdown",
   "metadata": {},
   "source": [
    "Для проверки подтверждаем, что линейная регрессия в scikit-learn действительно вычисляет веса согласно указанной формуле:\n",
    "- Обучить линейную регрессию на исходных данных.\n",
    "- Вручную вычислить веса $w$ с помощью упомянутой формулы.\n",
    "- Сравнить результаты с весами, полученными от модели scikit-learn."
   ]
  },
  {
   "cell_type": "code",
   "execution_count": 4,
   "metadata": {},
   "outputs": [
    {
     "name": "stdout",
     "output_type": "stream",
     "text": [
      "Веса из scikit-learn: 0.011651153205267661 [41.76806101]\n",
      "Расчетные веса: 0.011651153205270992 [41.76806101]\n"
     ]
    }
   ],
   "source": [
    "X, y = make_regression(n_samples=100, n_features=1, noise=0.1, random_state=42)\n",
    "model = LinearRegression().fit(X, y)\n",
    "print(\"Веса из scikit-learn:\", model.intercept_, model.coef_)\n",
    "\n",
    "X_with_bias = np.c_[np.ones(X.shape[0]), X] # Расширяем матрицу X для учета смещения\n",
    "\n",
    "# Вычисление веса вручную с помощью формулы\n",
    "w_manual = np.linalg.inv(X_with_bias.T.dot(X_with_bias)).dot(X_with_bias.T).dot(y)\n",
    "print(\"Расчетные веса:\", w_manual[0], w_manual[1:])"
   ]
  },
  {
   "cell_type": "markdown",
   "metadata": {},
   "source": [
    "**Ответ:** b. Качество линейной регрессии не изменится при умножении признаков на обратимую матрицу\n",
    "\n",
    "\n",
    "**Обоснование:** Формула для вычисления весов $w$ в линейной регрессии имеет вид: $w = (X^T X)^{-1} X^T y$\n",
    "\n",
    "Допустим, мы умножили нашу матрицу признаков $X$ на обратимую матрицу $P$, тогда новая матрица признаков будет $XP$. $X′ =XP$\n",
    "\n",
    "**Обучение на преобразованных данных:**\n",
    "$w′ =(X′^T X′ )^{−1} X′^T y$\n",
    " \n",
    "Подставим выражение для $X′$:\n",
    "$w′ =(P^T X^T XP)^{−1} P^T X^T y$\n",
    "\n",
    "Далее, если мы рассмотрим выражение для предсказания и подставим наше выражение для $w′$, мы получим:\n",
    "$a′ =XP(P^T X^T XP)^{−1} P^T X^T y$\n",
    "\n",
    "Для умножения матриц :\n",
    "$(AB)^{−1}=B^{−1} A^{−1}$\n",
    "\n",
    "Подставим в формулу обучения:\n",
    "$a′ =XPP^{−1} (X^T X)^{−1} X^T y$\n",
    "\n",
    "Поскольку $PP^{−1}$ является единичной матрицей, это упрощается до:\n",
    "$a′ =X(X^T X)^{−1} X^T y$\n",
    "\n",
    "Что ровно:\n",
    "$a′ =Xw$"
   ]
  },
  {
   "cell_type": "markdown",
   "metadata": {},
   "source": [
    "## Алгоритм преобразования"
   ]
  },
  {
   "cell_type": "markdown",
   "metadata": {},
   "source": [
    "**Алгоритм**\n",
    "- Сгенерируем случайную обратимую матрицу размером, равным количеству признаков.\n",
    "- Умножим матрицу признаков на эту обратимую матрицу.\n",
    "- Данные будут преобразованы, но при обучении модели на преобразованных данных качество линейной регрессии останется прежним."
   ]
  },
  {
   "cell_type": "markdown",
   "metadata": {},
   "source": [
    "**Обоснование**\n",
    "Предположим, что у нас есть матрица признаков $X$ и обратимая матрица $P$. После умножения, наша новая матрица признаков будет $X′=XP$\n",
    "\n",
    "Теперь, рассмотрим формулу обучения весов линейной регрессии:\n",
    "$w=(X^TX)^{−1}X^Ty$\n",
    "\n",
    "Если мы применяем это для преобразованных данных, то:\n",
    "\n",
    "$w′=(X′^TX′)^{−1}X′^T y$\n",
    "\n",
    "$w′=((XP)^T XP)^{−1}(XP)^T y$\n",
    "\n",
    "$w′=(P^T X^T XP)^{−1}P^T X^T y$\n",
    "\n",
    "Теперь, из свойств матриц:\n",
    "\n",
    "$(AB)^T=B^T A^T$\n",
    "$(AB)^{−1} =B^{−1} A^{−1}$\n",
    "\n",
    "Таким образом, если $A=X^T X$ и$B=P^T P$, то:\n",
    "\n",
    "$w′=(P^T X^T XP)^{−1}P ^T X^T y = (P^T (X^T X)P)^{−1}P ^T X^T y$\n",
    "\n",
    "Так как умножение матрицы на её обратную дает единичную матрицу, и умножение на единичную матрицу не влияет на результат, качество линейной регрессии не изменится"
   ]
  },
  {
   "cell_type": "markdown",
   "metadata": {},
   "source": [
    "Раскроем скобки, с учетом свойства $(AB)^{−1} =B^{−1} A^{−1}$:\n",
    "\n",
    "$w′ =P^{−1} (X^T X) ^{−1} P^{−T} P^T X^T y$\n",
    "\n",
    "$P^{−T} P^T$ дают единичную матрицу, поскольку произведение матрицы и её обратной равно единичной матрице:\n",
    "\n",
    "$w′ =P^{−1} (X^T X)^{−1} X^T y$\n",
    "\n",
    "Известно что: \n",
    "$w=(X^T X)^{−1} X^T y$\n",
    "\n",
    "Таким образом, получаем:\n",
    "$w′ =P^{−1} w$\n",
    "\n",
    "Предсказания для оригинальных данных:\n",
    "$a=Xw$\n",
    "\n",
    "Для преобразованных данных:\n",
    "$a′ =X′ w′ =XPP^{−1} w=Xw=a$"
   ]
  },
  {
   "cell_type": "markdown",
   "metadata": {},
   "source": [
    "Таким образом,  𝑎′\n",
    "  =  𝑎\n",
    "  и предсказания не изменятся после умножения на обратимую матрицу. Качество линейной регрессии останется неизменным."
   ]
  },
  {
   "cell_type": "markdown",
   "metadata": {},
   "source": [
    "## Проверка алгоритма"
   ]
  },
  {
   "cell_type": "markdown",
   "metadata": {},
   "source": [
    "1. Создадим и обучим модель линейной регрессии на оригинальных данных.\n",
    "2. Сгенерируем обратимую матрицу и умножим на неё наши данные.\n",
    "3. Обучим новую модель линейной регрессии на преобразованных данных.\n",
    "4. Сравним метрики R2 обеих моделей на оригинальных и преобразованных данных."
   ]
  },
  {
   "cell_type": "code",
   "execution_count": 5,
   "metadata": {},
   "outputs": [
    {
     "name": "stdout",
     "output_type": "stream",
     "text": [
      "R2 оригинальной модели: 0.9999994020795202\n",
      "R2 модели на преобразованных данных: 0.9999994020795202\n"
     ]
    }
   ],
   "source": [
    "X, y = make_regression(n_samples=1000, n_features=5, noise=0.1)\n",
    "\n",
    "# Обучение модели на оригинальных данных\n",
    "model_original = LinearRegression().fit(X, y)\n",
    "predictions_original = model_original.predict(X)\n",
    "r2_original = r2_score(y, predictions_original)\n",
    " # Генерация обратимой матрицы\n",
    "P = np.random.rand(X.shape[1], X.shape[1])\n",
    "while np.linalg.det(P) == 0:\n",
    "    P = np.random.rand(X.shape[1], X.shape[1])\n",
    "\n",
    "X_transformed = X.dot(P)\n",
    "\n",
    "model_transformed = LinearRegression().fit(X_transformed, y)\n",
    "predictions_transformed = model_transformed.predict(X_transformed)\n",
    "r2_transformed = r2_score(y, predictions_transformed)\n",
    "\n",
    "print(f\"R2 оригинальной модели: {r2_original}\")\n",
    "print(f\"R2 модели на преобразованных данных: {r2_transformed}\")"
   ]
  },
  {
   "cell_type": "code",
   "execution_count": 6,
   "metadata": {},
   "outputs": [
    {
     "name": "stdout",
     "output_type": "stream",
     "text": [
      "R2 оригинальной модели: 0.4249455028666801\n",
      "R2 модели на преобразованных данных: 0.4249455028659693\n"
     ]
    }
   ],
   "source": [
    "X = data.drop('Страховые выплаты', axis=1 )\n",
    "y = data['Страховые выплаты']\n",
    "\n",
    "model_original = LinearRegression().fit(X, y)\n",
    "predictions_original = model_original.predict(X)\n",
    "r2_original = r2_score(y, predictions_original)\n",
    "\n",
    "# Генерация обратимой матрицы\n",
    "P = np.random.rand(X.shape[1], X.shape[1])\n",
    "while np.linalg.det(P) == 0:\n",
    "    P = np.random.rand(X.shape[1], X.shape[1])\n",
    "\n",
    "X_transformed = X.dot(P)\n",
    "\n",
    "model_transformed = LinearRegression().fit(X_transformed, y)\n",
    "predictions_transformed = model_transformed.predict(X_transformed)\n",
    "r2_transformed = r2_score(y, predictions_transformed)\n",
    "\n",
    "print(f\"R2 оригинальной модели: {r2_original}\")\n",
    "print(f\"R2 модели на преобразованных данных: {r2_transformed}\")"
   ]
  },
  {
   "cell_type": "markdown",
   "metadata": {},
   "source": [
    "**Общие выводы:**\n",
    "\n",
    "R2 оригинальной модели и модели на преобразованных данных совпадает. Это подтверждает что преобразование признаков с использованием обратимой матрицы не влияет на качество линейной регрессии.\n",
    "\n",
    "Таким образом, можно безопасно преобразовывать данные клиентов с целью их шифрования, сохраняя при этом качество модели. \n",
    "\n",
    "Для достижения этой цели использовали алгоритм, который многократно умножает данные на случайную обратимую матрицу. \n",
    "\n",
    "Теоретически обосновали, что это преобразование не изменяет качества линейной регрессии."
   ]
  }
 ],
 "metadata": {
  "ExecuteTimeLog": [
   {
    "duration": 524,
    "start_time": "2023-09-15T11:38:41.842Z"
   },
   {
    "duration": 55,
    "start_time": "2023-09-15T11:56:43.091Z"
   },
   {
    "duration": 64,
    "start_time": "2023-09-15T11:56:52.782Z"
   },
   {
    "duration": 41,
    "start_time": "2023-09-15T11:56:58.068Z"
   },
   {
    "duration": 1245,
    "start_time": "2023-09-16T04:00:14.103Z"
   },
   {
    "duration": 102,
    "start_time": "2023-09-16T04:00:24.621Z"
   },
   {
    "duration": 9,
    "start_time": "2023-09-16T04:00:29.362Z"
   },
   {
    "duration": 7,
    "start_time": "2023-09-16T04:03:31.192Z"
   },
   {
    "duration": 159,
    "start_time": "2023-09-16T04:04:29.954Z"
   },
   {
    "duration": 3,
    "start_time": "2023-09-16T04:38:14.977Z"
   },
   {
    "duration": 10,
    "start_time": "2023-09-16T05:07:04.954Z"
   },
   {
    "duration": 10,
    "start_time": "2023-09-16T05:19:05.606Z"
   },
   {
    "duration": 151,
    "start_time": "2023-09-16T05:19:48.471Z"
   },
   {
    "duration": 49,
    "start_time": "2023-09-16T05:19:59.604Z"
   },
   {
    "duration": 31,
    "start_time": "2023-09-16T05:20:07.151Z"
   },
   {
    "duration": 10,
    "start_time": "2023-09-16T05:23:02.805Z"
   },
   {
    "duration": 1188,
    "start_time": "2023-09-16T05:23:10.982Z"
   },
   {
    "duration": 50,
    "start_time": "2023-09-16T05:23:12.172Z"
   },
   {
    "duration": 31,
    "start_time": "2023-09-16T05:23:12.224Z"
   },
   {
    "duration": 10,
    "start_time": "2023-09-16T05:23:12.257Z"
   },
   {
    "duration": 38,
    "start_time": "2023-09-16T05:23:12.269Z"
   },
   {
    "duration": 11,
    "start_time": "2023-09-16T05:23:38.625Z"
   },
   {
    "duration": 1921,
    "start_time": "2023-09-16T07:03:24.662Z"
   },
   {
    "duration": 113,
    "start_time": "2023-09-16T07:03:26.585Z"
   },
   {
    "duration": 23,
    "start_time": "2023-09-16T07:03:26.699Z"
   },
   {
    "duration": 9,
    "start_time": "2023-09-16T07:03:26.724Z"
   },
   {
    "duration": 14,
    "start_time": "2023-09-16T07:03:26.734Z"
   },
   {
    "duration": 5,
    "start_time": "2023-09-16T07:22:54.545Z"
   },
   {
    "duration": 17,
    "start_time": "2023-09-16T07:23:17.372Z"
   },
   {
    "duration": 6,
    "start_time": "2023-09-16T07:24:42.666Z"
   },
   {
    "duration": 7,
    "start_time": "2023-09-16T07:24:48.548Z"
   },
   {
    "duration": 7,
    "start_time": "2023-09-16T07:25:00.964Z"
   },
   {
    "duration": 5,
    "start_time": "2023-09-16T07:25:02.953Z"
   },
   {
    "duration": 5,
    "start_time": "2023-09-16T07:25:10.209Z"
   },
   {
    "duration": 4,
    "start_time": "2023-09-16T07:27:43.215Z"
   },
   {
    "duration": 6,
    "start_time": "2023-09-16T07:40:38.154Z"
   },
   {
    "duration": 7,
    "start_time": "2023-09-16T07:40:46.402Z"
   },
   {
    "duration": 2173,
    "start_time": "2023-09-16T07:41:19.910Z"
   },
   {
    "duration": 62,
    "start_time": "2023-09-16T07:41:22.086Z"
   },
   {
    "duration": 30,
    "start_time": "2023-09-16T07:41:22.151Z"
   },
   {
    "duration": 23,
    "start_time": "2023-09-16T07:41:22.183Z"
   },
   {
    "duration": 102,
    "start_time": "2023-09-16T07:41:22.207Z"
   },
   {
    "duration": 5,
    "start_time": "2023-09-16T07:44:04.255Z"
   },
   {
    "duration": 13,
    "start_time": "2023-09-16T07:44:13.266Z"
   },
   {
    "duration": 4,
    "start_time": "2023-09-16T07:44:19.170Z"
   },
   {
    "duration": 5,
    "start_time": "2023-09-16T07:44:54.843Z"
   },
   {
    "duration": 1281,
    "start_time": "2023-09-16T11:38:54.478Z"
   },
   {
    "duration": 117,
    "start_time": "2023-09-16T11:39:23.438Z"
   },
   {
    "duration": 26,
    "start_time": "2023-09-16T11:39:27.155Z"
   },
   {
    "duration": 293,
    "start_time": "2023-09-18T05:41:07.363Z"
   },
   {
    "duration": 1277,
    "start_time": "2023-09-18T05:50:51.478Z"
   },
   {
    "duration": 97,
    "start_time": "2023-09-18T05:50:52.757Z"
   },
   {
    "duration": 24,
    "start_time": "2023-09-18T05:50:52.856Z"
   },
   {
    "duration": 37,
    "start_time": "2023-09-18T05:50:52.883Z"
   },
   {
    "duration": 43,
    "start_time": "2023-09-18T05:50:52.922Z"
   },
   {
    "duration": 117,
    "start_time": "2023-09-18T05:51:08.707Z"
   },
   {
    "duration": 77,
    "start_time": "2023-09-18T05:52:44.073Z"
   },
   {
    "duration": 72,
    "start_time": "2023-09-18T05:53:56.376Z"
   },
   {
    "duration": 98,
    "start_time": "2023-09-18T05:58:11.749Z"
   },
   {
    "duration": 1999,
    "start_time": "2023-09-18T11:05:35.173Z"
   },
   {
    "duration": 54,
    "start_time": "2023-09-18T11:05:37.175Z"
   },
   {
    "duration": 25,
    "start_time": "2023-09-18T11:05:37.230Z"
   },
   {
    "duration": 10,
    "start_time": "2023-09-18T11:05:37.257Z"
   },
   {
    "duration": 17,
    "start_time": "2023-09-18T11:05:37.269Z"
   },
   {
    "duration": 99,
    "start_time": "2023-09-18T11:05:37.288Z"
   },
   {
    "duration": 1770,
    "start_time": "2023-09-19T11:27:45.056Z"
   },
   {
    "duration": 95,
    "start_time": "2023-09-19T11:27:46.827Z"
   },
   {
    "duration": 20,
    "start_time": "2023-09-19T11:27:46.923Z"
   },
   {
    "duration": 7,
    "start_time": "2023-09-19T11:27:46.945Z"
   },
   {
    "duration": 17,
    "start_time": "2023-09-19T11:27:46.954Z"
   },
   {
    "duration": 82,
    "start_time": "2023-09-19T11:27:46.973Z"
   }
  ],
  "kernelspec": {
   "display_name": "Python 3 (ipykernel)",
   "language": "python",
   "name": "python3"
  },
  "language_info": {
   "codemirror_mode": {
    "name": "ipython",
    "version": 3
   },
   "file_extension": ".py",
   "mimetype": "text/x-python",
   "name": "python",
   "nbconvert_exporter": "python",
   "pygments_lexer": "ipython3",
   "version": "3.9.13"
  },
  "toc": {
   "base_numbering": 1,
   "nav_menu": {},
   "number_sections": true,
   "sideBar": true,
   "skip_h1_title": true,
   "title_cell": "Содержание",
   "title_sidebar": "Contents",
   "toc_cell": true,
   "toc_position": {},
   "toc_section_display": true,
   "toc_window_display": true
  }
 },
 "nbformat": 4,
 "nbformat_minor": 2
}
