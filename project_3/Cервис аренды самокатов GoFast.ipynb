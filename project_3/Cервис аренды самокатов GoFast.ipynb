{
 "cells": [
  {
   "cell_type": "markdown",
   "id": "54ede01b",
   "metadata": {},
   "source": [
    "# Анализ данных сервиса аренды самокатов GoFast"
   ]
  },
  {
   "cell_type": "markdown",
   "id": "8c9341dd",
   "metadata": {},
   "source": [
    " В данном проекте проведен анализ данных сервиса аренды самокатов GoFast. \n",
    " \n",
    " \n",
    "**Цель исследования** — Увеличить основные факторы, влияющие на прибыльность сервиса, для улучшения бизнес-показателей\n",
    " \n",
    "\n",
    "**Ход исследования:**\n",
    "1. Загрузка данных\n",
    "2. Предобработка данных\n",
    "3. Исследовательский анализ данных\n",
    "4. Объединение данных\n",
    "5. Подсчёт выручки\n",
    "6. Проверка гипотез:\n",
    "- Проверка гипотезы о времени поездок пользователей с подпиской и без подписки\n",
    "- Проверка гипотезы о расстоянии поездок пользователей с подпиской\n",
    "- Проверка гипотезы о выручке от пользователей с подпиской и без подписки\n",
    "- Предложение теста для проверки гипотезы о снижении количества обращений в техподдержку\n",
    "\n",
    "Для проведения анализа у нас есть следующие наборы данных:\n",
    "\n",
    "Пользователи `users_go.csv`\n",
    "- user_id: уникальный идентификатор пользователя\n",
    "- name: имя пользователя\n",
    "- age: возраст пользователя\n",
    "- city: город, в котором проживает пользователь\n",
    "- subscription_type: тип подписки пользователя (free, ultra)\n",
    "\n",
    "Поездки `rides_go.csv`\n",
    "- user_id: уникальный идентификатор пользователя\n",
    "- distance: расстояние, которое пользователь проехал в текущей поездке (в метрах)\n",
    "- duration: продолжительность поездки (в минутах) - время с момента начала поездки до момента ее завершения\n",
    "- date: дата совершения поездки\n",
    "\n",
    "Подписки `subscriptions_go.csv`\n",
    "- subscription_type: тип подписки\n",
    "- minute_price: стоимость одной минуты поездки для данной подписки\n",
    "- start_ride_price: стоимость начала поездки\n",
    "- subscription_fee: стоимость ежемесячного платежа за подписку\n"
   ]
  },
  {
   "cell_type": "code",
   "execution_count": 2,
   "id": "72576667",
   "metadata": {},
   "outputs": [],
   "source": [
    "import pandas as pd\n",
    "import numpy as np\n",
    "import matplotlib.pyplot as plt\n",
    "import seaborn as sns\n",
    "\n",
    "\n",
    "from datetime import datetime\n",
    "from scipy import stats as st\n",
    "from scipy.stats import ttest_ind"
   ]
  },
  {
   "cell_type": "markdown",
   "id": "c42cbe00",
   "metadata": {},
   "source": [
    "#### Шаг 1. Загрузка данных"
   ]
  },
  {
   "cell_type": "markdown",
   "id": "a014af49",
   "metadata": {},
   "source": [
    "##### Считайте CSV-файлы с данными с помощью библиотеки pandas и сохраните их в датафреймы"
   ]
  },
  {
   "cell_type": "code",
   "execution_count": 3,
   "id": "eff9f206",
   "metadata": {},
   "outputs": [],
   "source": [
    "# Загрузка данных\n",
    "users = pd.read_csv('/datasets/users_go.csv')\n",
    "rides = pd.read_csv('/datasets/rides_go.csv')\n",
    "subscriptions = pd.read_csv('/datasets/subscriptions_go.csv')"
   ]
  },
  {
   "cell_type": "markdown",
   "id": "9eeb56d0",
   "metadata": {},
   "source": [
    "##### Выведите первые строки каждого набора данных"
   ]
  },
  {
   "cell_type": "code",
   "execution_count": 4,
   "id": "c9f0b6d6",
   "metadata": {},
   "outputs": [
    {
     "data": {
      "text/html": [
       "<div>\n",
       "<style scoped>\n",
       "    .dataframe tbody tr th:only-of-type {\n",
       "        vertical-align: middle;\n",
       "    }\n",
       "\n",
       "    .dataframe tbody tr th {\n",
       "        vertical-align: top;\n",
       "    }\n",
       "\n",
       "    .dataframe thead th {\n",
       "        text-align: right;\n",
       "    }\n",
       "</style>\n",
       "<table border=\"1\" class=\"dataframe\">\n",
       "  <thead>\n",
       "    <tr style=\"text-align: right;\">\n",
       "      <th></th>\n",
       "      <th>user_id</th>\n",
       "      <th>name</th>\n",
       "      <th>age</th>\n",
       "      <th>city</th>\n",
       "      <th>subscription_type</th>\n",
       "    </tr>\n",
       "  </thead>\n",
       "  <tbody>\n",
       "    <tr>\n",
       "      <th>0</th>\n",
       "      <td>1</td>\n",
       "      <td>Кира</td>\n",
       "      <td>22</td>\n",
       "      <td>Тюмень</td>\n",
       "      <td>ultra</td>\n",
       "    </tr>\n",
       "    <tr>\n",
       "      <th>1</th>\n",
       "      <td>2</td>\n",
       "      <td>Станислав</td>\n",
       "      <td>31</td>\n",
       "      <td>Омск</td>\n",
       "      <td>ultra</td>\n",
       "    </tr>\n",
       "    <tr>\n",
       "      <th>2</th>\n",
       "      <td>3</td>\n",
       "      <td>Алексей</td>\n",
       "      <td>20</td>\n",
       "      <td>Москва</td>\n",
       "      <td>ultra</td>\n",
       "    </tr>\n",
       "    <tr>\n",
       "      <th>3</th>\n",
       "      <td>4</td>\n",
       "      <td>Константин</td>\n",
       "      <td>26</td>\n",
       "      <td>Ростов-на-Дону</td>\n",
       "      <td>ultra</td>\n",
       "    </tr>\n",
       "    <tr>\n",
       "      <th>4</th>\n",
       "      <td>5</td>\n",
       "      <td>Адель</td>\n",
       "      <td>28</td>\n",
       "      <td>Омск</td>\n",
       "      <td>ultra</td>\n",
       "    </tr>\n",
       "  </tbody>\n",
       "</table>\n",
       "</div>"
      ],
      "text/plain": [
       "   user_id        name  age            city subscription_type\n",
       "0        1        Кира   22          Тюмень             ultra\n",
       "1        2   Станислав   31            Омск             ultra\n",
       "2        3     Алексей   20          Москва             ultra\n",
       "3        4  Константин   26  Ростов-на-Дону             ultra\n",
       "4        5       Адель   28            Омск             ultra"
      ]
     },
     "execution_count": 4,
     "metadata": {},
     "output_type": "execute_result"
    }
   ],
   "source": [
    "users.head()"
   ]
  },
  {
   "cell_type": "code",
   "execution_count": 5,
   "id": "f6537bad",
   "metadata": {},
   "outputs": [
    {
     "data": {
      "text/html": [
       "<div>\n",
       "<style scoped>\n",
       "    .dataframe tbody tr th:only-of-type {\n",
       "        vertical-align: middle;\n",
       "    }\n",
       "\n",
       "    .dataframe tbody tr th {\n",
       "        vertical-align: top;\n",
       "    }\n",
       "\n",
       "    .dataframe thead th {\n",
       "        text-align: right;\n",
       "    }\n",
       "</style>\n",
       "<table border=\"1\" class=\"dataframe\">\n",
       "  <thead>\n",
       "    <tr style=\"text-align: right;\">\n",
       "      <th></th>\n",
       "      <th>user_id</th>\n",
       "      <th>distance</th>\n",
       "      <th>duration</th>\n",
       "      <th>date</th>\n",
       "    </tr>\n",
       "  </thead>\n",
       "  <tbody>\n",
       "    <tr>\n",
       "      <th>0</th>\n",
       "      <td>1</td>\n",
       "      <td>4409.919140</td>\n",
       "      <td>25.599769</td>\n",
       "      <td>2021-01-01</td>\n",
       "    </tr>\n",
       "    <tr>\n",
       "      <th>1</th>\n",
       "      <td>1</td>\n",
       "      <td>2617.592153</td>\n",
       "      <td>15.816871</td>\n",
       "      <td>2021-01-18</td>\n",
       "    </tr>\n",
       "    <tr>\n",
       "      <th>2</th>\n",
       "      <td>1</td>\n",
       "      <td>754.159807</td>\n",
       "      <td>6.232113</td>\n",
       "      <td>2021-04-20</td>\n",
       "    </tr>\n",
       "    <tr>\n",
       "      <th>3</th>\n",
       "      <td>1</td>\n",
       "      <td>2694.783254</td>\n",
       "      <td>18.511000</td>\n",
       "      <td>2021-08-11</td>\n",
       "    </tr>\n",
       "    <tr>\n",
       "      <th>4</th>\n",
       "      <td>1</td>\n",
       "      <td>4028.687306</td>\n",
       "      <td>26.265803</td>\n",
       "      <td>2021-08-28</td>\n",
       "    </tr>\n",
       "  </tbody>\n",
       "</table>\n",
       "</div>"
      ],
      "text/plain": [
       "   user_id     distance   duration        date\n",
       "0        1  4409.919140  25.599769  2021-01-01\n",
       "1        1  2617.592153  15.816871  2021-01-18\n",
       "2        1   754.159807   6.232113  2021-04-20\n",
       "3        1  2694.783254  18.511000  2021-08-11\n",
       "4        1  4028.687306  26.265803  2021-08-28"
      ]
     },
     "execution_count": 5,
     "metadata": {},
     "output_type": "execute_result"
    }
   ],
   "source": [
    "rides.head()"
   ]
  },
  {
   "cell_type": "code",
   "execution_count": 9,
   "id": "c1415779",
   "metadata": {},
   "outputs": [
    {
     "data": {
      "text/html": [
       "<div>\n",
       "<style scoped>\n",
       "    .dataframe tbody tr th:only-of-type {\n",
       "        vertical-align: middle;\n",
       "    }\n",
       "\n",
       "    .dataframe tbody tr th {\n",
       "        vertical-align: top;\n",
       "    }\n",
       "\n",
       "    .dataframe thead th {\n",
       "        text-align: right;\n",
       "    }\n",
       "</style>\n",
       "<table border=\"1\" class=\"dataframe\">\n",
       "  <thead>\n",
       "    <tr style=\"text-align: right;\">\n",
       "      <th></th>\n",
       "      <th>subscription_type</th>\n",
       "      <th>minute_price</th>\n",
       "      <th>start_ride_price</th>\n",
       "      <th>subscription_fee</th>\n",
       "    </tr>\n",
       "  </thead>\n",
       "  <tbody>\n",
       "    <tr>\n",
       "      <th>0</th>\n",
       "      <td>free</td>\n",
       "      <td>8</td>\n",
       "      <td>50</td>\n",
       "      <td>0</td>\n",
       "    </tr>\n",
       "    <tr>\n",
       "      <th>1</th>\n",
       "      <td>ultra</td>\n",
       "      <td>6</td>\n",
       "      <td>0</td>\n",
       "      <td>199</td>\n",
       "    </tr>\n",
       "  </tbody>\n",
       "</table>\n",
       "</div>"
      ],
      "text/plain": [
       "  subscription_type  minute_price  start_ride_price  subscription_fee\n",
       "0              free             8                50                 0\n",
       "1             ultra             6                 0               199"
      ]
     },
     "execution_count": 9,
     "metadata": {},
     "output_type": "execute_result"
    }
   ],
   "source": [
    "subscriptions.head()"
   ]
  },
  {
   "cell_type": "markdown",
   "id": "3a884f38",
   "metadata": {},
   "source": [
    "##### Изучите общую информацию о каждом датафрейме"
   ]
  },
  {
   "cell_type": "code",
   "execution_count": 10,
   "id": "6be59149",
   "metadata": {},
   "outputs": [
    {
     "name": "stdout",
     "output_type": "stream",
     "text": [
      "<class 'pandas.core.frame.DataFrame'>\n",
      "RangeIndex: 1565 entries, 0 to 1564\n",
      "Data columns (total 5 columns):\n",
      " #   Column             Non-Null Count  Dtype \n",
      "---  ------             --------------  ----- \n",
      " 0   user_id            1565 non-null   int64 \n",
      " 1   name               1565 non-null   object\n",
      " 2   age                1565 non-null   int64 \n",
      " 3   city               1565 non-null   object\n",
      " 4   subscription_type  1565 non-null   object\n",
      "dtypes: int64(2), object(3)\n",
      "memory usage: 61.3+ KB\n"
     ]
    },
    {
     "data": {
      "text/html": [
       "<div>\n",
       "<style scoped>\n",
       "    .dataframe tbody tr th:only-of-type {\n",
       "        vertical-align: middle;\n",
       "    }\n",
       "\n",
       "    .dataframe tbody tr th {\n",
       "        vertical-align: top;\n",
       "    }\n",
       "\n",
       "    .dataframe thead th {\n",
       "        text-align: right;\n",
       "    }\n",
       "</style>\n",
       "<table border=\"1\" class=\"dataframe\">\n",
       "  <thead>\n",
       "    <tr style=\"text-align: right;\">\n",
       "      <th></th>\n",
       "      <th>user_id</th>\n",
       "      <th>age</th>\n",
       "    </tr>\n",
       "  </thead>\n",
       "  <tbody>\n",
       "    <tr>\n",
       "      <th>count</th>\n",
       "      <td>1565.000000</td>\n",
       "      <td>1565.000000</td>\n",
       "    </tr>\n",
       "    <tr>\n",
       "      <th>mean</th>\n",
       "      <td>762.633866</td>\n",
       "      <td>24.922045</td>\n",
       "    </tr>\n",
       "    <tr>\n",
       "      <th>std</th>\n",
       "      <td>443.260155</td>\n",
       "      <td>4.553496</td>\n",
       "    </tr>\n",
       "    <tr>\n",
       "      <th>min</th>\n",
       "      <td>1.000000</td>\n",
       "      <td>12.000000</td>\n",
       "    </tr>\n",
       "    <tr>\n",
       "      <th>25%</th>\n",
       "      <td>378.000000</td>\n",
       "      <td>22.000000</td>\n",
       "    </tr>\n",
       "    <tr>\n",
       "      <th>50%</th>\n",
       "      <td>762.000000</td>\n",
       "      <td>25.000000</td>\n",
       "    </tr>\n",
       "    <tr>\n",
       "      <th>75%</th>\n",
       "      <td>1146.000000</td>\n",
       "      <td>28.000000</td>\n",
       "    </tr>\n",
       "    <tr>\n",
       "      <th>max</th>\n",
       "      <td>1534.000000</td>\n",
       "      <td>43.000000</td>\n",
       "    </tr>\n",
       "  </tbody>\n",
       "</table>\n",
       "</div>"
      ],
      "text/plain": [
       "           user_id          age\n",
       "count  1565.000000  1565.000000\n",
       "mean    762.633866    24.922045\n",
       "std     443.260155     4.553496\n",
       "min       1.000000    12.000000\n",
       "25%     378.000000    22.000000\n",
       "50%     762.000000    25.000000\n",
       "75%    1146.000000    28.000000\n",
       "max    1534.000000    43.000000"
      ]
     },
     "execution_count": 10,
     "metadata": {},
     "output_type": "execute_result"
    }
   ],
   "source": [
    "users.info()\n",
    "users.describe()"
   ]
  },
  {
   "cell_type": "code",
   "execution_count": 11,
   "id": "26115e9b",
   "metadata": {},
   "outputs": [
    {
     "name": "stdout",
     "output_type": "stream",
     "text": [
      "<class 'pandas.core.frame.DataFrame'>\n",
      "RangeIndex: 18068 entries, 0 to 18067\n",
      "Data columns (total 4 columns):\n",
      " #   Column    Non-Null Count  Dtype  \n",
      "---  ------    --------------  -----  \n",
      " 0   user_id   18068 non-null  int64  \n",
      " 1   distance  18068 non-null  float64\n",
      " 2   duration  18068 non-null  float64\n",
      " 3   date      18068 non-null  object \n",
      "dtypes: float64(2), int64(1), object(1)\n",
      "memory usage: 564.8+ KB\n"
     ]
    },
    {
     "data": {
      "text/html": [
       "<div>\n",
       "<style scoped>\n",
       "    .dataframe tbody tr th:only-of-type {\n",
       "        vertical-align: middle;\n",
       "    }\n",
       "\n",
       "    .dataframe tbody tr th {\n",
       "        vertical-align: top;\n",
       "    }\n",
       "\n",
       "    .dataframe thead th {\n",
       "        text-align: right;\n",
       "    }\n",
       "</style>\n",
       "<table border=\"1\" class=\"dataframe\">\n",
       "  <thead>\n",
       "    <tr style=\"text-align: right;\">\n",
       "      <th></th>\n",
       "      <th>user_id</th>\n",
       "      <th>distance</th>\n",
       "      <th>duration</th>\n",
       "    </tr>\n",
       "  </thead>\n",
       "  <tbody>\n",
       "    <tr>\n",
       "      <th>count</th>\n",
       "      <td>18068.000000</td>\n",
       "      <td>18068.000000</td>\n",
       "      <td>18068.000000</td>\n",
       "    </tr>\n",
       "    <tr>\n",
       "      <th>mean</th>\n",
       "      <td>842.869936</td>\n",
       "      <td>3070.659976</td>\n",
       "      <td>17.805011</td>\n",
       "    </tr>\n",
       "    <tr>\n",
       "      <th>std</th>\n",
       "      <td>434.734317</td>\n",
       "      <td>1116.831209</td>\n",
       "      <td>6.091051</td>\n",
       "    </tr>\n",
       "    <tr>\n",
       "      <th>min</th>\n",
       "      <td>1.000000</td>\n",
       "      <td>0.855683</td>\n",
       "      <td>0.500000</td>\n",
       "    </tr>\n",
       "    <tr>\n",
       "      <th>25%</th>\n",
       "      <td>487.000000</td>\n",
       "      <td>2543.226360</td>\n",
       "      <td>13.597563</td>\n",
       "    </tr>\n",
       "    <tr>\n",
       "      <th>50%</th>\n",
       "      <td>889.000000</td>\n",
       "      <td>3133.609994</td>\n",
       "      <td>17.678395</td>\n",
       "    </tr>\n",
       "    <tr>\n",
       "      <th>75%</th>\n",
       "      <td>1213.250000</td>\n",
       "      <td>3776.222735</td>\n",
       "      <td>21.724800</td>\n",
       "    </tr>\n",
       "    <tr>\n",
       "      <th>max</th>\n",
       "      <td>1534.000000</td>\n",
       "      <td>7211.007745</td>\n",
       "      <td>40.823963</td>\n",
       "    </tr>\n",
       "  </tbody>\n",
       "</table>\n",
       "</div>"
      ],
      "text/plain": [
       "            user_id      distance      duration\n",
       "count  18068.000000  18068.000000  18068.000000\n",
       "mean     842.869936   3070.659976     17.805011\n",
       "std      434.734317   1116.831209      6.091051\n",
       "min        1.000000      0.855683      0.500000\n",
       "25%      487.000000   2543.226360     13.597563\n",
       "50%      889.000000   3133.609994     17.678395\n",
       "75%     1213.250000   3776.222735     21.724800\n",
       "max     1534.000000   7211.007745     40.823963"
      ]
     },
     "execution_count": 11,
     "metadata": {},
     "output_type": "execute_result"
    }
   ],
   "source": [
    "rides.info()\n",
    "rides.describe()"
   ]
  },
  {
   "cell_type": "code",
   "execution_count": 12,
   "id": "8bf840d9",
   "metadata": {
    "scrolled": true
   },
   "outputs": [
    {
     "name": "stdout",
     "output_type": "stream",
     "text": [
      "<class 'pandas.core.frame.DataFrame'>\n",
      "RangeIndex: 2 entries, 0 to 1\n",
      "Data columns (total 4 columns):\n",
      " #   Column             Non-Null Count  Dtype \n",
      "---  ------             --------------  ----- \n",
      " 0   subscription_type  2 non-null      object\n",
      " 1   minute_price       2 non-null      int64 \n",
      " 2   start_ride_price   2 non-null      int64 \n",
      " 3   subscription_fee   2 non-null      int64 \n",
      "dtypes: int64(3), object(1)\n",
      "memory usage: 192.0+ bytes\n"
     ]
    },
    {
     "data": {
      "text/html": [
       "<div>\n",
       "<style scoped>\n",
       "    .dataframe tbody tr th:only-of-type {\n",
       "        vertical-align: middle;\n",
       "    }\n",
       "\n",
       "    .dataframe tbody tr th {\n",
       "        vertical-align: top;\n",
       "    }\n",
       "\n",
       "    .dataframe thead th {\n",
       "        text-align: right;\n",
       "    }\n",
       "</style>\n",
       "<table border=\"1\" class=\"dataframe\">\n",
       "  <thead>\n",
       "    <tr style=\"text-align: right;\">\n",
       "      <th></th>\n",
       "      <th>minute_price</th>\n",
       "      <th>start_ride_price</th>\n",
       "      <th>subscription_fee</th>\n",
       "    </tr>\n",
       "  </thead>\n",
       "  <tbody>\n",
       "    <tr>\n",
       "      <th>count</th>\n",
       "      <td>2.000000</td>\n",
       "      <td>2.000000</td>\n",
       "      <td>2.000000</td>\n",
       "    </tr>\n",
       "    <tr>\n",
       "      <th>mean</th>\n",
       "      <td>7.000000</td>\n",
       "      <td>25.000000</td>\n",
       "      <td>99.500000</td>\n",
       "    </tr>\n",
       "    <tr>\n",
       "      <th>std</th>\n",
       "      <td>1.414214</td>\n",
       "      <td>35.355339</td>\n",
       "      <td>140.714249</td>\n",
       "    </tr>\n",
       "    <tr>\n",
       "      <th>min</th>\n",
       "      <td>6.000000</td>\n",
       "      <td>0.000000</td>\n",
       "      <td>0.000000</td>\n",
       "    </tr>\n",
       "    <tr>\n",
       "      <th>25%</th>\n",
       "      <td>6.500000</td>\n",
       "      <td>12.500000</td>\n",
       "      <td>49.750000</td>\n",
       "    </tr>\n",
       "    <tr>\n",
       "      <th>50%</th>\n",
       "      <td>7.000000</td>\n",
       "      <td>25.000000</td>\n",
       "      <td>99.500000</td>\n",
       "    </tr>\n",
       "    <tr>\n",
       "      <th>75%</th>\n",
       "      <td>7.500000</td>\n",
       "      <td>37.500000</td>\n",
       "      <td>149.250000</td>\n",
       "    </tr>\n",
       "    <tr>\n",
       "      <th>max</th>\n",
       "      <td>8.000000</td>\n",
       "      <td>50.000000</td>\n",
       "      <td>199.000000</td>\n",
       "    </tr>\n",
       "  </tbody>\n",
       "</table>\n",
       "</div>"
      ],
      "text/plain": [
       "       minute_price  start_ride_price  subscription_fee\n",
       "count      2.000000          2.000000          2.000000\n",
       "mean       7.000000         25.000000         99.500000\n",
       "std        1.414214         35.355339        140.714249\n",
       "min        6.000000          0.000000          0.000000\n",
       "25%        6.500000         12.500000         49.750000\n",
       "50%        7.000000         25.000000         99.500000\n",
       "75%        7.500000         37.500000        149.250000\n",
       "max        8.000000         50.000000        199.000000"
      ]
     },
     "execution_count": 12,
     "metadata": {},
     "output_type": "execute_result"
    }
   ],
   "source": [
    "subscriptions.info()\n",
    "subscriptions.describe()"
   ]
  },
  {
   "cell_type": "code",
   "execution_count": 13,
   "id": "b4051e03",
   "metadata": {},
   "outputs": [],
   "source": [
    "#users.isna().sum()\n",
    "#rides.isna().sum()\n",
    "#subscriptions.isna().sum()"
   ]
  },
  {
   "cell_type": "markdown",
   "id": "563e0301",
   "metadata": {},
   "source": [
    "**Вывод:** \n",
    "Мы имеем информацию о пользователях, их подписках и истории поездок. Дальнейший анализ может включать изучение связей между типом подписки и поведением пользователей, а также определение факторов, влияющих на продолжительность и расстояние поездок."
   ]
  },
  {
   "cell_type": "markdown",
   "id": "e95ebca7",
   "metadata": {},
   "source": [
    "#### Шаг 2. Предобработка данных"
   ]
  },
  {
   "cell_type": "markdown",
   "id": "b24bb952",
   "metadata": {},
   "source": [
    "##### Приведите столбец date к типу даты pandas"
   ]
  },
  {
   "cell_type": "code",
   "execution_count": 14,
   "id": "af6d202c",
   "metadata": {},
   "outputs": [],
   "source": [
    "rides['date'] = pd.to_datetime(rides['date'], format=\"%Y-%m-%d\")"
   ]
  },
  {
   "cell_type": "markdown",
   "id": "009bf00e",
   "metadata": {},
   "source": [
    "##### Создайте новый столбец с номером месяца на основе столбца date"
   ]
  },
  {
   "cell_type": "code",
   "execution_count": 15,
   "id": "4852129b",
   "metadata": {},
   "outputs": [
    {
     "data": {
      "text/html": [
       "<div>\n",
       "<style scoped>\n",
       "    .dataframe tbody tr th:only-of-type {\n",
       "        vertical-align: middle;\n",
       "    }\n",
       "\n",
       "    .dataframe tbody tr th {\n",
       "        vertical-align: top;\n",
       "    }\n",
       "\n",
       "    .dataframe thead th {\n",
       "        text-align: right;\n",
       "    }\n",
       "</style>\n",
       "<table border=\"1\" class=\"dataframe\">\n",
       "  <thead>\n",
       "    <tr style=\"text-align: right;\">\n",
       "      <th></th>\n",
       "      <th>user_id</th>\n",
       "      <th>distance</th>\n",
       "      <th>duration</th>\n",
       "      <th>date</th>\n",
       "      <th>month</th>\n",
       "    </tr>\n",
       "  </thead>\n",
       "  <tbody>\n",
       "    <tr>\n",
       "      <th>0</th>\n",
       "      <td>1</td>\n",
       "      <td>4409.919140</td>\n",
       "      <td>25.599769</td>\n",
       "      <td>2021-01-01</td>\n",
       "      <td>1</td>\n",
       "    </tr>\n",
       "    <tr>\n",
       "      <th>1</th>\n",
       "      <td>1</td>\n",
       "      <td>2617.592153</td>\n",
       "      <td>15.816871</td>\n",
       "      <td>2021-01-18</td>\n",
       "      <td>1</td>\n",
       "    </tr>\n",
       "    <tr>\n",
       "      <th>2</th>\n",
       "      <td>1</td>\n",
       "      <td>754.159807</td>\n",
       "      <td>6.232113</td>\n",
       "      <td>2021-04-20</td>\n",
       "      <td>4</td>\n",
       "    </tr>\n",
       "    <tr>\n",
       "      <th>3</th>\n",
       "      <td>1</td>\n",
       "      <td>2694.783254</td>\n",
       "      <td>18.511000</td>\n",
       "      <td>2021-08-11</td>\n",
       "      <td>8</td>\n",
       "    </tr>\n",
       "    <tr>\n",
       "      <th>4</th>\n",
       "      <td>1</td>\n",
       "      <td>4028.687306</td>\n",
       "      <td>26.265803</td>\n",
       "      <td>2021-08-28</td>\n",
       "      <td>8</td>\n",
       "    </tr>\n",
       "  </tbody>\n",
       "</table>\n",
       "</div>"
      ],
      "text/plain": [
       "   user_id     distance   duration       date  month\n",
       "0        1  4409.919140  25.599769 2021-01-01      1\n",
       "1        1  2617.592153  15.816871 2021-01-18      1\n",
       "2        1   754.159807   6.232113 2021-04-20      4\n",
       "3        1  2694.783254  18.511000 2021-08-11      8\n",
       "4        1  4028.687306  26.265803 2021-08-28      8"
      ]
     },
     "execution_count": 15,
     "metadata": {},
     "output_type": "execute_result"
    }
   ],
   "source": [
    "rides['month'] = rides['date'].dt.month\n",
    "rides.head()"
   ]
  },
  {
   "cell_type": "code",
   "execution_count": 16,
   "id": "3a6901d3",
   "metadata": {},
   "outputs": [
    {
     "data": {
      "text/plain": [
       "('Период данных: от',\n",
       " Timestamp('2021-01-01 00:00:00'),\n",
       " 'до',\n",
       " Timestamp('2021-12-30 00:00:00'))"
      ]
     },
     "execution_count": 16,
     "metadata": {},
     "output_type": "execute_result"
    }
   ],
   "source": [
    "min_date = rides['date'].min()\n",
    "max_date = rides['date'].max()\n",
    "\"Период данных: от\", min_date, \"до\", max_date"
   ]
  },
  {
   "cell_type": "markdown",
   "id": "117c2b5a",
   "metadata": {},
   "source": [
    "##### Проверьте наличие пропущенных значений и дубликатов в датафреймах. Обработайте их, если такие значения присутствуют."
   ]
  },
  {
   "cell_type": "code",
   "execution_count": 17,
   "id": "95cd98c4",
   "metadata": {},
   "outputs": [
    {
     "name": "stdout",
     "output_type": "stream",
     "text": [
      "Пропущенные значения в users:\n",
      "user_id              0\n",
      "name                 0\n",
      "age                  0\n",
      "city                 0\n",
      "subscription_type    0\n",
      "dtype: int64\n",
      "\n",
      "Пропущенные значения в rides:\n",
      "user_id     0\n",
      "distance    0\n",
      "duration    0\n",
      "date        0\n",
      "month       0\n",
      "dtype: int64\n",
      "\n",
      "Пропущенные значения в subscriptions:\n",
      "subscription_type    0\n",
      "minute_price         0\n",
      "start_ride_price     0\n",
      "subscription_fee     0\n",
      "dtype: int64\n",
      "\n",
      " Дубликаты в users: 31\n",
      "Дубликаты в rides 0\n",
      "Дубликат в subscriptions: 0\n"
     ]
    }
   ],
   "source": [
    "print(\"Пропущенные значения в users:\")\n",
    "print(users.isnull().sum())\n",
    "\n",
    "print(\"\\nПропущенные значения в rides:\")\n",
    "print(rides.isnull().sum())\n",
    "\n",
    "print(\"\\nПропущенные значения в subscriptions:\")\n",
    "print(subscriptions.isnull().sum())\n",
    "\n",
    "# Проверка дубликатов\n",
    "print(\"\\n Дубликаты в users:\", users.duplicated().sum())\n",
    "print(\"Дубликаты в rides\", rides.duplicated().sum())\n",
    "print(\"Дубликат в subscriptions:\", subscriptions.duplicated().sum())"
   ]
  },
  {
   "cell_type": "code",
   "execution_count": 18,
   "id": "7e15c2bd",
   "metadata": {},
   "outputs": [
    {
     "name": "stdout",
     "output_type": "stream",
     "text": [
      "\n",
      " Дубликаты в users: 0\n"
     ]
    }
   ],
   "source": [
    "# Удаление дубликатов\n",
    "users = users.drop_duplicates()\n",
    "print(\"\\n Дубликаты в users:\", users.duplicated().sum())"
   ]
  },
  {
   "cell_type": "markdown",
   "id": "b2d26bb2",
   "metadata": {},
   "source": [
    "**Вывод:** На этом этапе была выполнена предобработка данных, включающая преобразование типа данных, создание нового столбца и обработку дубликатов. Данные готовы к дальнейшему анализу и исследованию."
   ]
  },
  {
   "cell_type": "markdown",
   "id": "212593c7",
   "metadata": {},
   "source": [
    "#### Шаг 3. Исследовательский анализ данных"
   ]
  },
  {
   "cell_type": "markdown",
   "id": "17c0b93a",
   "metadata": {},
   "source": [
    "##### Частота встречаемости городов"
   ]
  },
  {
   "cell_type": "code",
   "execution_count": 19,
   "id": "dbbef2cb",
   "metadata": {
    "scrolled": true
   },
   "outputs": [
    {
     "data": {
      "text/html": [
       "<div>\n",
       "<style scoped>\n",
       "    .dataframe tbody tr th:only-of-type {\n",
       "        vertical-align: middle;\n",
       "    }\n",
       "\n",
       "    .dataframe tbody tr th {\n",
       "        vertical-align: top;\n",
       "    }\n",
       "\n",
       "    .dataframe thead th {\n",
       "        text-align: right;\n",
       "    }\n",
       "</style>\n",
       "<table border=\"1\" class=\"dataframe\">\n",
       "  <thead>\n",
       "    <tr style=\"text-align: right;\">\n",
       "      <th></th>\n",
       "      <th>Город</th>\n",
       "      <th>Количество</th>\n",
       "    </tr>\n",
       "  </thead>\n",
       "  <tbody>\n",
       "    <tr>\n",
       "      <th>0</th>\n",
       "      <td>Пятигорск</td>\n",
       "      <td>219</td>\n",
       "    </tr>\n",
       "    <tr>\n",
       "      <th>1</th>\n",
       "      <td>Екатеринбург</td>\n",
       "      <td>204</td>\n",
       "    </tr>\n",
       "    <tr>\n",
       "      <th>2</th>\n",
       "      <td>Ростов-на-Дону</td>\n",
       "      <td>198</td>\n",
       "    </tr>\n",
       "    <tr>\n",
       "      <th>3</th>\n",
       "      <td>Краснодар</td>\n",
       "      <td>193</td>\n",
       "    </tr>\n",
       "    <tr>\n",
       "      <th>4</th>\n",
       "      <td>Сочи</td>\n",
       "      <td>189</td>\n",
       "    </tr>\n",
       "    <tr>\n",
       "      <th>5</th>\n",
       "      <td>Омск</td>\n",
       "      <td>183</td>\n",
       "    </tr>\n",
       "    <tr>\n",
       "      <th>6</th>\n",
       "      <td>Тюмень</td>\n",
       "      <td>180</td>\n",
       "    </tr>\n",
       "    <tr>\n",
       "      <th>7</th>\n",
       "      <td>Москва</td>\n",
       "      <td>168</td>\n",
       "    </tr>\n",
       "  </tbody>\n",
       "</table>\n",
       "</div>"
      ],
      "text/plain": [
       "            Город  Количество\n",
       "0       Пятигорск         219\n",
       "1    Екатеринбург         204\n",
       "2  Ростов-на-Дону         198\n",
       "3       Краснодар         193\n",
       "4            Сочи         189\n",
       "5            Омск         183\n",
       "6          Тюмень         180\n",
       "7          Москва         168"
      ]
     },
     "metadata": {},
     "output_type": "display_data"
    },
    {
     "data": {
      "text/plain": [
       "<AxesSubplot:title={'center':'Частота встречаемости городов'}, xlabel='Город', ylabel='Количество'>"
      ]
     },
     "execution_count": 19,
     "metadata": {},
     "output_type": "execute_result"
    },
    {
     "data": {
      "image/png": "[encoded data removed]",
      "text/plain": [
       "<Figure size 720x432 with 1 Axes>"
      ]
     },
     "metadata": {
      "needs_background": "light"
     },
     "output_type": "display_data"
    }
   ],
   "source": [
    "city_counts = users['city'].value_counts()\n",
    "city_counts_table = pd.DataFrame({'Город': city_counts.index, 'Количество': city_counts.values})\n",
    "display(city_counts_table)\n",
    "users['city'].value_counts().plot(kind = 'bar', figsize=(10, 6), title = 'Частота встречаемости городов', xlabel = 'Город',\n",
    "ylabel = 'Количество', color='pink', rot =0)"
   ]
  },
  {
   "cell_type": "code",
   "execution_count": 20,
   "id": "6def1abb",
   "metadata": {},
   "outputs": [
    {
     "data": {
      "image/png": "[encoded data removed]",
      "text/plain": [
       "<Figure size 864x360 with 1 Axes>"
      ]
     },
     "metadata": {
      "needs_background": "light"
     },
     "output_type": "display_data"
    }
   ],
   "source": [
    "users['city'].value_counts(ascending = True).plot(kind = 'barh', figsize=(12, 5), \n",
    "                                                  title = 'Частота встречаемости городов')\n",
    "plt.ylabel('Город')\n",
    "plt.xlabel('Количество')\n",
    "plt.show()"
   ]
  },
  {
   "cell_type": "markdown",
   "id": "a12ef3b3",
   "metadata": {},
   "source": [
    "##### Соотношение пользователей с подпиской и без подписки"
   ]
  },
  {
   "cell_type": "code",
   "execution_count": 21,
   "id": "16b18a02",
   "metadata": {},
   "outputs": [
    {
     "data": {
      "text/plain": [
       "<AxesSubplot:title={'center':'Соотношение пользователей с подпиской и без подписки'}, ylabel='subscription_type'>"
      ]
     },
     "execution_count": 21,
     "metadata": {},
     "output_type": "execute_result"
    },
    {
     "data": {
      "image/png": "[encoded data removed]",
      "text/plain": [
       "<Figure size 576x576 with 1 Axes>"
      ]
     },
     "metadata": {},
     "output_type": "display_data"
    }
   ],
   "source": [
    "users['subscription_type'].value_counts().plot(kind='pie', autopct='%1.1f%%', figsize=(8, 8), title = 'Соотношение пользователей с подпиской и без подписки', legend = ['free', 'ultra'])\n",
    "#(autopct='%1.1f%%') отображают процентное соотношение каждой категории на диаграмме\n",
    "# Для понимания добавила легенду, что бы понять, какой сектор относится к какой категории подписки"
   ]
  },
  {
   "cell_type": "markdown",
   "id": "1b88b28c",
   "metadata": {},
   "source": [
    "##### Возраст пользователей"
   ]
  },
  {
   "cell_type": "code",
   "execution_count": 22,
   "id": "32b23417",
   "metadata": {},
   "outputs": [
    {
     "data": {
      "text/plain": [
       "Text(0, 0.5, 'Количество')"
      ]
     },
     "execution_count": 22,
     "metadata": {},
     "output_type": "execute_result"
    },
    {
     "data": {
      "image/png": "[encoded data removed]",
      "text/plain": [
       "<Figure size 720x432 with 1 Axes>"
      ]
     },
     "metadata": {
      "needs_background": "light"
     },
     "output_type": "display_data"
    }
   ],
   "source": [
    "users['age'].plot(kind='hist', bins=35, figsize=(10, 6), title = 'Возраст пользователей')\n",
    "plt.xlabel('Возраст')\n",
    "plt.ylabel('Количество')"
   ]
  },
  {
   "cell_type": "markdown",
   "id": "fac8b30a",
   "metadata": {},
   "source": [
    "##### Расстояние, которое пользователь преодолел за одну поездку"
   ]
  },
  {
   "cell_type": "code",
   "execution_count": 23,
   "id": "7411792d",
   "metadata": {},
   "outputs": [
    {
     "data": {
      "text/plain": [
       "Text(0, 0.5, 'Количество')"
      ]
     },
     "execution_count": 23,
     "metadata": {},
     "output_type": "execute_result"
    },
    {
     "data": {
      "image/png": "[encoded data removed]",
      "text/plain": [
       "<Figure size 720x432 with 1 Axes>"
      ]
     },
     "metadata": {
      "needs_background": "light"
     },
     "output_type": "display_data"
    }
   ],
   "source": [
    "rides['distance'].plot(kind='hist', bins=20, figsize=(10, 6), title='Расстояние поездок')\n",
    "plt.xlabel('Расстояние')\n",
    "plt.ylabel('Количество')"
   ]
  },
  {
   "cell_type": "code",
   "execution_count": 24,
   "id": "712ca92e",
   "metadata": {},
   "outputs": [
    {
     "name": "stdout",
     "output_type": "stream",
     "text": [
      "Статистика по расстоянию:\n",
      "count    18068.000000\n",
      "mean      3070.659976\n",
      "std       1116.831209\n",
      "min          0.855683\n",
      "25%       2543.226360\n",
      "50%       3133.609994\n",
      "75%       3776.222735\n",
      "max       7211.007745\n",
      "Name: distance, dtype: float64\n"
     ]
    }
   ],
   "source": [
    "distance_stats = rides['distance'].describe()\n",
    "\n",
    "print(\"Статистика по расстоянию:\")\n",
    "print(distance_stats)"
   ]
  },
  {
   "cell_type": "markdown",
   "id": "3f73e810",
   "metadata": {},
   "source": [
    "##### Продолжительность поездок"
   ]
  },
  {
   "cell_type": "code",
   "execution_count": 25,
   "id": "45470b28",
   "metadata": {},
   "outputs": [
    {
     "data": {
      "text/plain": [
       "Text(0, 0.5, 'Количество')"
      ]
     },
     "execution_count": 25,
     "metadata": {},
     "output_type": "execute_result"
    },
    {
     "data": {
      "image/png": "[encoded data removed]",
      "text/plain": [
       "<Figure size 720x432 with 1 Axes>"
      ]
     },
     "metadata": {
      "needs_background": "light"
     },
     "output_type": "display_data"
    }
   ],
   "source": [
    "rides['duration'].plot(kind='hist', bins=20, figsize=(10, 6), title ='Продолжительность поездок')\n",
    "plt.xlabel('Продолжительность')\n",
    "plt.ylabel('Количество')"
   ]
  },
  {
   "cell_type": "code",
   "execution_count": 26,
   "id": "3e7bc722",
   "metadata": {},
   "outputs": [
    {
     "name": "stdout",
     "output_type": "stream",
     "text": [
      "\n",
      "Статистика по продолжительности:\n",
      "count    18068.000000\n",
      "mean        17.805011\n",
      "std          6.091051\n",
      "min          0.500000\n",
      "25%         13.597563\n",
      "50%         17.678395\n",
      "75%         21.724800\n",
      "max         40.823963\n",
      "Name: duration, dtype: float64\n"
     ]
    }
   ],
   "source": [
    "duration_stats = rides['duration'].describe()\n",
    "\n",
    "print(\"\\nСтатистика по продолжительности:\")\n",
    "print(duration_stats)"
   ]
  },
  {
   "cell_type": "markdown",
   "id": "547ff733",
   "metadata": {},
   "source": [
    "**На основе проведенного исследовательского анализа данных, можно сделать следующие выводы:** \n",
    "\n",
    "1. Частота встречаемости городов: Большинство пользователей проживает в Москве, Санкт-Петербурге \n",
    "\n",
    "2. Соотношение пользователей с подпиской и без подписки: Около 54% пользователей имееют подписку, а остальные пользователи без подписки.\n",
    "\n",
    "3. Возраст пользователей: Большинство пользователей находятся в возрастной группе от 20 до 30 лет."
   ]
  },
  {
   "cell_type": "markdown",
   "id": "b0f334cc",
   "metadata": {},
   "source": [
    "**Дополнение после комментария**\n",
    "1. Расстояние, которое пользователь преодолел за одну поездку:\n",
    "\n",
    "* Основной диапазон от 0.85 до 7211.01,.\n",
    "* Минимальное значение 0.85\n",
    "* Максимальное значение 7211\n",
    "* Наличие аномальных значений или выбросов не замечено, значения в предалах нормы\n",
    "2.  Продолжительность поездок:\n",
    "\n",
    "* Основной диапазон от 0.50 до 41.\n",
    "* Минимальное значение 0.50\n",
    "* Максимальное значение 41\n",
    "* Наличие аномальных значений или выбросов не замечено, значения в предалах нормы"
   ]
  },
  {
   "cell_type": "markdown",
   "id": "4ef51331",
   "metadata": {},
   "source": [
    "#### Шаг 4. Объединение данных"
   ]
  },
  {
   "cell_type": "markdown",
   "id": "5f01d3d2",
   "metadata": {},
   "source": [
    "##### Объедините данные о пользователях, поездках и подписках в один датафрейм. Для этого воспользуйтесь методом merge()"
   ]
  },
  {
   "cell_type": "code",
   "execution_count": 27,
   "id": "46d0b1b5",
   "metadata": {},
   "outputs": [
    {
     "data": {
      "text/html": [
       "<div>\n",
       "<style scoped>\n",
       "    .dataframe tbody tr th:only-of-type {\n",
       "        vertical-align: middle;\n",
       "    }\n",
       "\n",
       "    .dataframe tbody tr th {\n",
       "        vertical-align: top;\n",
       "    }\n",
       "\n",
       "    .dataframe thead th {\n",
       "        text-align: right;\n",
       "    }\n",
       "</style>\n",
       "<table border=\"1\" class=\"dataframe\">\n",
       "  <thead>\n",
       "    <tr style=\"text-align: right;\">\n",
       "      <th></th>\n",
       "      <th>user_id</th>\n",
       "      <th>distance</th>\n",
       "      <th>duration</th>\n",
       "      <th>date</th>\n",
       "      <th>month</th>\n",
       "      <th>name</th>\n",
       "      <th>age</th>\n",
       "      <th>city</th>\n",
       "      <th>subscription_type</th>\n",
       "      <th>minute_price</th>\n",
       "      <th>start_ride_price</th>\n",
       "      <th>subscription_fee</th>\n",
       "    </tr>\n",
       "  </thead>\n",
       "  <tbody>\n",
       "    <tr>\n",
       "      <th>0</th>\n",
       "      <td>1</td>\n",
       "      <td>4409.919140</td>\n",
       "      <td>25.599769</td>\n",
       "      <td>2021-01-01</td>\n",
       "      <td>1</td>\n",
       "      <td>Кира</td>\n",
       "      <td>22</td>\n",
       "      <td>Тюмень</td>\n",
       "      <td>ultra</td>\n",
       "      <td>6</td>\n",
       "      <td>0</td>\n",
       "      <td>199</td>\n",
       "    </tr>\n",
       "    <tr>\n",
       "      <th>1</th>\n",
       "      <td>1</td>\n",
       "      <td>2617.592153</td>\n",
       "      <td>15.816871</td>\n",
       "      <td>2021-01-18</td>\n",
       "      <td>1</td>\n",
       "      <td>Кира</td>\n",
       "      <td>22</td>\n",
       "      <td>Тюмень</td>\n",
       "      <td>ultra</td>\n",
       "      <td>6</td>\n",
       "      <td>0</td>\n",
       "      <td>199</td>\n",
       "    </tr>\n",
       "    <tr>\n",
       "      <th>2</th>\n",
       "      <td>1</td>\n",
       "      <td>754.159807</td>\n",
       "      <td>6.232113</td>\n",
       "      <td>2021-04-20</td>\n",
       "      <td>4</td>\n",
       "      <td>Кира</td>\n",
       "      <td>22</td>\n",
       "      <td>Тюмень</td>\n",
       "      <td>ultra</td>\n",
       "      <td>6</td>\n",
       "      <td>0</td>\n",
       "      <td>199</td>\n",
       "    </tr>\n",
       "    <tr>\n",
       "      <th>3</th>\n",
       "      <td>1</td>\n",
       "      <td>2694.783254</td>\n",
       "      <td>18.511000</td>\n",
       "      <td>2021-08-11</td>\n",
       "      <td>8</td>\n",
       "      <td>Кира</td>\n",
       "      <td>22</td>\n",
       "      <td>Тюмень</td>\n",
       "      <td>ultra</td>\n",
       "      <td>6</td>\n",
       "      <td>0</td>\n",
       "      <td>199</td>\n",
       "    </tr>\n",
       "    <tr>\n",
       "      <th>4</th>\n",
       "      <td>1</td>\n",
       "      <td>4028.687306</td>\n",
       "      <td>26.265803</td>\n",
       "      <td>2021-08-28</td>\n",
       "      <td>8</td>\n",
       "      <td>Кира</td>\n",
       "      <td>22</td>\n",
       "      <td>Тюмень</td>\n",
       "      <td>ultra</td>\n",
       "      <td>6</td>\n",
       "      <td>0</td>\n",
       "      <td>199</td>\n",
       "    </tr>\n",
       "  </tbody>\n",
       "</table>\n",
       "</div>"
      ],
      "text/plain": [
       "   user_id     distance   duration       date  month  name  age    city  \\\n",
       "0        1  4409.919140  25.599769 2021-01-01      1  Кира   22  Тюмень   \n",
       "1        1  2617.592153  15.816871 2021-01-18      1  Кира   22  Тюмень   \n",
       "2        1   754.159807   6.232113 2021-04-20      4  Кира   22  Тюмень   \n",
       "3        1  2694.783254  18.511000 2021-08-11      8  Кира   22  Тюмень   \n",
       "4        1  4028.687306  26.265803 2021-08-28      8  Кира   22  Тюмень   \n",
       "\n",
       "  subscription_type  minute_price  start_ride_price  subscription_fee  \n",
       "0             ultra             6                 0               199  \n",
       "1             ultra             6                 0               199  \n",
       "2             ultra             6                 0               199  \n",
       "3             ultra             6                 0               199  \n",
       "4             ultra             6                 0               199  "
      ]
     },
     "execution_count": 27,
     "metadata": {},
     "output_type": "execute_result"
    }
   ],
   "source": [
    "# Объединение данных\n",
    "merged_data = rides.merge(users, on='user_id').merge(subscriptions, on='subscription_type')\n",
    "merged_data.head()"
   ]
  },
  {
   "cell_type": "markdown",
   "id": "c7c3aaeb",
   "metadata": {},
   "source": [
    "##### Создайте ещё два датафрейма из датафрейма, созданного на этапе 4.1:\n",
    "* С данными о пользователях без подписки\n",
    "* С данными о пользователях с подпиской\n"
   ]
  },
  {
   "cell_type": "code",
   "execution_count": 28,
   "id": "ed8219ef",
   "metadata": {},
   "outputs": [],
   "source": [
    "# Без подписки\n",
    "users_without_subscription = merged_data[merged_data['subscription_type'] == 'free']\n",
    "\n",
    "# С подпиской\n",
    "users_with_subscription = merged_data[merged_data['subscription_type'] == 'ultra']"
   ]
  },
  {
   "cell_type": "code",
   "execution_count": 24,
   "id": "7f581887",
   "metadata": {},
   "outputs": [
    {
     "data": {
      "text/plain": [
       "18068"
      ]
     },
     "metadata": {},
     "output_type": "display_data"
    },
    {
     "data": {
      "text/plain": [
       "11568"
      ]
     },
     "metadata": {},
     "output_type": "display_data"
    },
    {
     "data": {
      "text/plain": [
       "6500"
      ]
     },
     "execution_count": 24,
     "metadata": {},
     "output_type": "execute_result"
    }
   ],
   "source": [
    "# Код ревьюера\n",
    "display(merged_data.shape[0])\n",
    "display(users_without_subscription.shape[0])\n",
    "users_with_subscription.shape[0]"
   ]
  },
  {
   "cell_type": "markdown",
   "id": "9fca0469",
   "metadata": {},
   "source": [
    "##### Визуализируйте информацию о расстоянии и времени поездок для пользователей обеих категорий"
   ]
  },
  {
   "cell_type": "code",
   "execution_count": 29,
   "id": "e1259098",
   "metadata": {
    "scrolled": false
   },
   "outputs": [
    {
     "data": {
      "text/plain": [
       "<matplotlib.legend.Legend at 0x7f5e238ab760>"
      ]
     },
     "execution_count": 29,
     "metadata": {},
     "output_type": "execute_result"
    },
    {
     "data": {
      "image/png": "[encoded data removed]",
      "text/plain": [
       "<Figure size 720x432 with 1 Axes>"
      ]
     },
     "metadata": {
      "needs_background": "light"
     },
     "output_type": "display_data"
    }
   ],
   "source": [
    "users_with_subscription['distance'].hist(bins=20, alpha=0.5, label='Подписка', figsize=(10, 6))\n",
    "users_without_subscription['distance'].hist(figsize=(10, 6), bins=20, alpha=0.5, label='Без подписки')\n",
    "plt.xlabel('Расстояние')\n",
    "plt.ylabel('Количество')\n",
    "plt.title('Распределение расстояния поездок')\n",
    "plt.legend()"
   ]
  },
  {
   "cell_type": "code",
   "execution_count": 26,
   "id": "39bac243",
   "metadata": {},
   "outputs": [
    {
     "data": {
      "text/plain": [
       "<matplotlib.legend.Legend at 0x7f5551e7e550>"
      ]
     },
     "execution_count": 26,
     "metadata": {},
     "output_type": "execute_result"
    },
    {
     "data": {
      "image/png": "[encoded data removed]",
      "text/plain": [
       "<Figure size 720x432 with 1 Axes>"
      ]
     },
     "metadata": {
      "needs_background": "light"
     },
     "output_type": "display_data"
    }
   ],
   "source": [
    "users_with_subscription['duration'].hist(bins=20, alpha=0.5, label='Подписка',  figsize=(10, 6))\n",
    "users_without_subscription['duration'].hist(bins=20, alpha=0.5, label='Без подписки', figsize=(10, 6))\n",
    "\n",
    "plt.xlabel('Продолжительность')\n",
    "plt.title('Продолжительнось поездок')\n",
    "plt.legend()"
   ]
  },
  {
   "cell_type": "code",
   "execution_count": 30,
   "id": "a3330727",
   "metadata": {},
   "outputs": [
    {
     "data": {
      "text/plain": [
       "Text(0, 0.5, 'Продолжительность')"
      ]
     },
     "execution_count": 30,
     "metadata": {},
     "output_type": "execute_result"
    },
    {
     "data": {
      "image/png": "[encoded data removed]",
      "text/plain": [
       "<Figure size 432x288 with 1 Axes>"
      ]
     },
     "metadata": {
      "needs_background": "light"
     },
     "output_type": "display_data"
    }
   ],
   "source": [
    "sns.boxplot(data=[users_with_subscription['duration'], users_without_subscription['duration']], orient='v')\n",
    "plt.ylabel('Продолжительность')"
   ]
  },
  {
   "cell_type": "code",
   "execution_count": 28,
   "id": "f0422629",
   "metadata": {},
   "outputs": [
    {
     "data": {
      "text/plain": [
       "Text(0, 0.5, 'Продолжительность')"
      ]
     },
     "execution_count": 28,
     "metadata": {},
     "output_type": "execute_result"
    },
    {
     "data": {
      "image/png": "[encoded data removed]",
      "text/plain": [
       "<Figure size 432x288 with 1 Axes>"
      ]
     },
     "metadata": {
      "needs_background": "light"
     },
     "output_type": "display_data"
    }
   ],
   "source": [
    "sns.boxplot(data=[users_with_subscription['distance'], users_without_subscription['distance']], orient='v')\n",
    "plt.ylabel('Продолжительность')"
   ]
  },
  {
   "cell_type": "markdown",
   "id": "c67e141a",
   "metadata": {},
   "source": [
    "**Выводы:** Объединение данных позволило получить более полную информацию о пользователях, их поездках и подписках. Визуализация данных подтверждает различия между пользователями с подпиской и без подписки в расстоянии и продолжительности поездок. \n",
    "\n",
    "* Пользователи с подпиской имеют более широкий диапазон расстояний по сравнению с пользователями без подписки. Пользователи без подписки в основном совершают более короткие поездки.\n",
    "* Боксплот \"Распределение времени поездок\" показывает, что пользователи с подпиской имеют большую медианную продолжительность поездок и более широкий интерквартильный размах по сравнению с пользователями без подписки."
   ]
  },
  {
   "cell_type": "markdown",
   "id": "402d620f",
   "metadata": {},
   "source": [
    "#### Шаг 5. Подсчёт выручки"
   ]
  },
  {
   "cell_type": "code",
   "execution_count": 31,
   "id": "af4b2741",
   "metadata": {},
   "outputs": [
    {
     "data": {
      "text/html": [
       "<div>\n",
       "<style scoped>\n",
       "    .dataframe tbody tr th:only-of-type {\n",
       "        vertical-align: middle;\n",
       "    }\n",
       "\n",
       "    .dataframe tbody tr th {\n",
       "        vertical-align: top;\n",
       "    }\n",
       "\n",
       "    .dataframe thead th {\n",
       "        text-align: right;\n",
       "    }\n",
       "</style>\n",
       "<table border=\"1\" class=\"dataframe\">\n",
       "  <thead>\n",
       "    <tr style=\"text-align: right;\">\n",
       "      <th></th>\n",
       "      <th>user_id</th>\n",
       "      <th>distance</th>\n",
       "      <th>duration</th>\n",
       "      <th>date</th>\n",
       "      <th>month</th>\n",
       "      <th>name</th>\n",
       "      <th>age</th>\n",
       "      <th>city</th>\n",
       "      <th>subscription_type</th>\n",
       "      <th>minute_price</th>\n",
       "      <th>start_ride_price</th>\n",
       "      <th>subscription_fee</th>\n",
       "    </tr>\n",
       "  </thead>\n",
       "  <tbody>\n",
       "    <tr>\n",
       "      <th>0</th>\n",
       "      <td>1</td>\n",
       "      <td>4409.919140</td>\n",
       "      <td>25.599769</td>\n",
       "      <td>2021-01-01</td>\n",
       "      <td>1</td>\n",
       "      <td>Кира</td>\n",
       "      <td>22</td>\n",
       "      <td>Тюмень</td>\n",
       "      <td>ultra</td>\n",
       "      <td>6</td>\n",
       "      <td>0</td>\n",
       "      <td>199</td>\n",
       "    </tr>\n",
       "    <tr>\n",
       "      <th>1</th>\n",
       "      <td>1</td>\n",
       "      <td>2617.592153</td>\n",
       "      <td>15.816871</td>\n",
       "      <td>2021-01-18</td>\n",
       "      <td>1</td>\n",
       "      <td>Кира</td>\n",
       "      <td>22</td>\n",
       "      <td>Тюмень</td>\n",
       "      <td>ultra</td>\n",
       "      <td>6</td>\n",
       "      <td>0</td>\n",
       "      <td>199</td>\n",
       "    </tr>\n",
       "    <tr>\n",
       "      <th>2</th>\n",
       "      <td>1</td>\n",
       "      <td>754.159807</td>\n",
       "      <td>6.232113</td>\n",
       "      <td>2021-04-20</td>\n",
       "      <td>4</td>\n",
       "      <td>Кира</td>\n",
       "      <td>22</td>\n",
       "      <td>Тюмень</td>\n",
       "      <td>ultra</td>\n",
       "      <td>6</td>\n",
       "      <td>0</td>\n",
       "      <td>199</td>\n",
       "    </tr>\n",
       "    <tr>\n",
       "      <th>3</th>\n",
       "      <td>1</td>\n",
       "      <td>2694.783254</td>\n",
       "      <td>18.511000</td>\n",
       "      <td>2021-08-11</td>\n",
       "      <td>8</td>\n",
       "      <td>Кира</td>\n",
       "      <td>22</td>\n",
       "      <td>Тюмень</td>\n",
       "      <td>ultra</td>\n",
       "      <td>6</td>\n",
       "      <td>0</td>\n",
       "      <td>199</td>\n",
       "    </tr>\n",
       "    <tr>\n",
       "      <th>4</th>\n",
       "      <td>1</td>\n",
       "      <td>4028.687306</td>\n",
       "      <td>26.265803</td>\n",
       "      <td>2021-08-28</td>\n",
       "      <td>8</td>\n",
       "      <td>Кира</td>\n",
       "      <td>22</td>\n",
       "      <td>Тюмень</td>\n",
       "      <td>ultra</td>\n",
       "      <td>6</td>\n",
       "      <td>0</td>\n",
       "      <td>199</td>\n",
       "    </tr>\n",
       "  </tbody>\n",
       "</table>\n",
       "</div>"
      ],
      "text/plain": [
       "   user_id     distance   duration       date  month  name  age    city  \\\n",
       "0        1  4409.919140  25.599769 2021-01-01      1  Кира   22  Тюмень   \n",
       "1        1  2617.592153  15.816871 2021-01-18      1  Кира   22  Тюмень   \n",
       "2        1   754.159807   6.232113 2021-04-20      4  Кира   22  Тюмень   \n",
       "3        1  2694.783254  18.511000 2021-08-11      8  Кира   22  Тюмень   \n",
       "4        1  4028.687306  26.265803 2021-08-28      8  Кира   22  Тюмень   \n",
       "\n",
       "  subscription_type  minute_price  start_ride_price  subscription_fee  \n",
       "0             ultra             6                 0               199  \n",
       "1             ultra             6                 0               199  \n",
       "2             ultra             6                 0               199  \n",
       "3             ultra             6                 0               199  \n",
       "4             ultra             6                 0               199  "
      ]
     },
     "execution_count": 31,
     "metadata": {},
     "output_type": "execute_result"
    }
   ],
   "source": [
    "merged_data.head()"
   ]
  },
  {
   "cell_type": "markdown",
   "id": "89b1ee29",
   "metadata": {},
   "source": [
    "##### Создайте датафрейм с агрегированными данными о поездках на основе датафрейма с объединёнными данными из шага 4: найдите суммарное расстояние, количество поездок и суммарное время для каждого пользователя за каждый месяц"
   ]
  },
  {
   "cell_type": "code",
   "execution_count": 32,
   "id": "a5e3f735",
   "metadata": {},
   "outputs": [],
   "source": [
    "# Округление продолжительности каждой поездки вверх\n",
    "merged_data['duration'] = np.ceil(merged_data['duration'])\n",
    "\n",
    "# Создание датафрейма с агрегированными данными о поездках и суммарного времени для каждого пользователя за каждый месяц\n",
    "monthly_summary = merged_data.groupby(['user_id', 'month']).agg({\n",
    "    'distance': 'sum',\n",
    "    'duration': 'sum',\n",
    "    'date': 'count',\n",
    "    'subscription_type': 'first',  # Добавляем столбец с типом подписки\n",
    "    'start_ride_price': 'first',  # Добавляем столбец с ценой старта поездки\n",
    "    'minute_price': 'first',  # Добавляем столбец с ценой за минуту поездки\n",
    "}).reset_index()\n"
   ]
  },
  {
   "cell_type": "markdown",
   "id": "37dc3a2a",
   "metadata": {},
   "source": [
    "##### В этот же датафрейм добавьте столбец с помесячной выручкой, которую принёс каждый пользователь. Для этого обратитесь к информации об условиях оплаты для подписчиков и тех, у кого нет подписки. Продолжительность каждой поездки в каждой строке исходного датафрейма для подсчёта стоимости округляется до следующего целого числа: например, значения 25.3, 25.5 и 26.0 должны быть преобразованы к 26"
   ]
  },
  {
   "cell_type": "code",
   "execution_count": 33,
   "id": "42d142a5",
   "metadata": {},
   "outputs": [
    {
     "data": {
      "text/html": [
       "<div>\n",
       "<style scoped>\n",
       "    .dataframe tbody tr th:only-of-type {\n",
       "        vertical-align: middle;\n",
       "    }\n",
       "\n",
       "    .dataframe tbody tr th {\n",
       "        vertical-align: top;\n",
       "    }\n",
       "\n",
       "    .dataframe thead th {\n",
       "        text-align: right;\n",
       "    }\n",
       "</style>\n",
       "<table border=\"1\" class=\"dataframe\">\n",
       "  <thead>\n",
       "    <tr style=\"text-align: right;\">\n",
       "      <th></th>\n",
       "      <th>user_id</th>\n",
       "      <th>month</th>\n",
       "      <th>distance</th>\n",
       "      <th>duration</th>\n",
       "      <th>date</th>\n",
       "      <th>subscription_type</th>\n",
       "      <th>start_ride_price</th>\n",
       "      <th>minute_price</th>\n",
       "      <th>revenue</th>\n",
       "    </tr>\n",
       "  </thead>\n",
       "  <tbody>\n",
       "    <tr>\n",
       "      <th>0</th>\n",
       "      <td>1</td>\n",
       "      <td>1</td>\n",
       "      <td>7027.511294</td>\n",
       "      <td>42.0</td>\n",
       "      <td>2</td>\n",
       "      <td>ultra</td>\n",
       "      <td>0</td>\n",
       "      <td>6</td>\n",
       "      <td>451.0</td>\n",
       "    </tr>\n",
       "    <tr>\n",
       "      <th>1</th>\n",
       "      <td>1</td>\n",
       "      <td>4</td>\n",
       "      <td>754.159807</td>\n",
       "      <td>7.0</td>\n",
       "      <td>1</td>\n",
       "      <td>ultra</td>\n",
       "      <td>0</td>\n",
       "      <td>6</td>\n",
       "      <td>241.0</td>\n",
       "    </tr>\n",
       "    <tr>\n",
       "      <th>2</th>\n",
       "      <td>1</td>\n",
       "      <td>8</td>\n",
       "      <td>6723.470560</td>\n",
       "      <td>46.0</td>\n",
       "      <td>2</td>\n",
       "      <td>ultra</td>\n",
       "      <td>0</td>\n",
       "      <td>6</td>\n",
       "      <td>475.0</td>\n",
       "    </tr>\n",
       "    <tr>\n",
       "      <th>3</th>\n",
       "      <td>1</td>\n",
       "      <td>10</td>\n",
       "      <td>5809.911100</td>\n",
       "      <td>32.0</td>\n",
       "      <td>2</td>\n",
       "      <td>ultra</td>\n",
       "      <td>0</td>\n",
       "      <td>6</td>\n",
       "      <td>391.0</td>\n",
       "    </tr>\n",
       "    <tr>\n",
       "      <th>4</th>\n",
       "      <td>1</td>\n",
       "      <td>11</td>\n",
       "      <td>7003.499363</td>\n",
       "      <td>56.0</td>\n",
       "      <td>3</td>\n",
       "      <td>ultra</td>\n",
       "      <td>0</td>\n",
       "      <td>6</td>\n",
       "      <td>535.0</td>\n",
       "    </tr>\n",
       "    <tr>\n",
       "      <th>...</th>\n",
       "      <td>...</td>\n",
       "      <td>...</td>\n",
       "      <td>...</td>\n",
       "      <td>...</td>\n",
       "      <td>...</td>\n",
       "      <td>...</td>\n",
       "      <td>...</td>\n",
       "      <td>...</td>\n",
       "      <td>...</td>\n",
       "    </tr>\n",
       "    <tr>\n",
       "      <th>11326</th>\n",
       "      <td>1534</td>\n",
       "      <td>6</td>\n",
       "      <td>3409.468534</td>\n",
       "      <td>26.0</td>\n",
       "      <td>2</td>\n",
       "      <td>free</td>\n",
       "      <td>50</td>\n",
       "      <td>8</td>\n",
       "      <td>308.0</td>\n",
       "    </tr>\n",
       "    <tr>\n",
       "      <th>11327</th>\n",
       "      <td>1534</td>\n",
       "      <td>8</td>\n",
       "      <td>7622.453034</td>\n",
       "      <td>48.0</td>\n",
       "      <td>2</td>\n",
       "      <td>free</td>\n",
       "      <td>50</td>\n",
       "      <td>8</td>\n",
       "      <td>484.0</td>\n",
       "    </tr>\n",
       "    <tr>\n",
       "      <th>11328</th>\n",
       "      <td>1534</td>\n",
       "      <td>9</td>\n",
       "      <td>4928.173852</td>\n",
       "      <td>23.0</td>\n",
       "      <td>1</td>\n",
       "      <td>free</td>\n",
       "      <td>50</td>\n",
       "      <td>8</td>\n",
       "      <td>234.0</td>\n",
       "    </tr>\n",
       "    <tr>\n",
       "      <th>11329</th>\n",
       "      <td>1534</td>\n",
       "      <td>11</td>\n",
       "      <td>13350.015305</td>\n",
       "      <td>78.0</td>\n",
       "      <td>4</td>\n",
       "      <td>free</td>\n",
       "      <td>50</td>\n",
       "      <td>8</td>\n",
       "      <td>824.0</td>\n",
       "    </tr>\n",
       "    <tr>\n",
       "      <th>11330</th>\n",
       "      <td>1534</td>\n",
       "      <td>12</td>\n",
       "      <td>2371.711192</td>\n",
       "      <td>16.0</td>\n",
       "      <td>1</td>\n",
       "      <td>free</td>\n",
       "      <td>50</td>\n",
       "      <td>8</td>\n",
       "      <td>178.0</td>\n",
       "    </tr>\n",
       "  </tbody>\n",
       "</table>\n",
       "<p>11331 rows × 9 columns</p>\n",
       "</div>"
      ],
      "text/plain": [
       "       user_id  month      distance  duration  date subscription_type  \\\n",
       "0            1      1   7027.511294      42.0     2             ultra   \n",
       "1            1      4    754.159807       7.0     1             ultra   \n",
       "2            1      8   6723.470560      46.0     2             ultra   \n",
       "3            1     10   5809.911100      32.0     2             ultra   \n",
       "4            1     11   7003.499363      56.0     3             ultra   \n",
       "...        ...    ...           ...       ...   ...               ...   \n",
       "11326     1534      6   3409.468534      26.0     2              free   \n",
       "11327     1534      8   7622.453034      48.0     2              free   \n",
       "11328     1534      9   4928.173852      23.0     1              free   \n",
       "11329     1534     11  13350.015305      78.0     4              free   \n",
       "11330     1534     12   2371.711192      16.0     1              free   \n",
       "\n",
       "       start_ride_price  minute_price  revenue  \n",
       "0                     0             6    451.0  \n",
       "1                     0             6    241.0  \n",
       "2                     0             6    475.0  \n",
       "3                     0             6    391.0  \n",
       "4                     0             6    535.0  \n",
       "...                 ...           ...      ...  \n",
       "11326                50             8    308.0  \n",
       "11327                50             8    484.0  \n",
       "11328                50             8    234.0  \n",
       "11329                50             8    824.0  \n",
       "11330                50             8    178.0  \n",
       "\n",
       "[11331 rows x 9 columns]"
      ]
     },
     "metadata": {},
     "output_type": "display_data"
    }
   ],
   "source": [
    "def calculate_revenue(row):\n",
    "    if row['subscription_type'] == 'free':\n",
    "        start_price = 50 \n",
    "        minute_price = 8\n",
    "        subscription_fee = 0\n",
    "    else:\n",
    "        start_price = 0 \n",
    "        minute_price = 6\n",
    "        subscription_fee = 199\n",
    "    duration = np.ceil(row['duration'])\n",
    "    \n",
    "    if row['subscription_type'] == 'ultra':\n",
    "        revenue = subscription_fee + (minute_price * duration)\n",
    "    else:\n",
    "        revenue = (start_price * row['date']) + (minute_price * duration)\n",
    "    return revenue\n",
    "\n",
    "monthly_summary['revenue'] = monthly_summary.apply(calculate_revenue, axis=1)\n",
    "display(monthly_summary)"
   ]
  },
  {
   "cell_type": "code",
   "execution_count": 34,
   "id": "fa799f27",
   "metadata": {},
   "outputs": [
    {
     "name": "stdout",
     "output_type": "stream",
     "text": [
      "subscription_type\n",
      "free     328.641365\n",
      "ultra    362.792191\n",
      "Name: revenue, dtype: float64\n"
     ]
    },
    {
     "data": {
      "text/html": [
       "<div>\n",
       "<style scoped>\n",
       "    .dataframe tbody tr th:only-of-type {\n",
       "        vertical-align: middle;\n",
       "    }\n",
       "\n",
       "    .dataframe tbody tr th {\n",
       "        vertical-align: top;\n",
       "    }\n",
       "\n",
       "    .dataframe thead th {\n",
       "        text-align: right;\n",
       "    }\n",
       "</style>\n",
       "<table border=\"1\" class=\"dataframe\">\n",
       "  <thead>\n",
       "    <tr style=\"text-align: right;\">\n",
       "      <th></th>\n",
       "      <th>user_id</th>\n",
       "      <th>month</th>\n",
       "      <th>distance</th>\n",
       "      <th>duration</th>\n",
       "      <th>date</th>\n",
       "      <th>subscription_type</th>\n",
       "      <th>start_ride_price</th>\n",
       "      <th>minute_price</th>\n",
       "      <th>revenue</th>\n",
       "    </tr>\n",
       "  </thead>\n",
       "  <tbody>\n",
       "    <tr>\n",
       "      <th>0</th>\n",
       "      <td>1</td>\n",
       "      <td>1</td>\n",
       "      <td>7027.511294</td>\n",
       "      <td>42.0</td>\n",
       "      <td>2</td>\n",
       "      <td>ultra</td>\n",
       "      <td>0</td>\n",
       "      <td>6</td>\n",
       "      <td>451.0</td>\n",
       "    </tr>\n",
       "    <tr>\n",
       "      <th>1</th>\n",
       "      <td>1</td>\n",
       "      <td>4</td>\n",
       "      <td>754.159807</td>\n",
       "      <td>7.0</td>\n",
       "      <td>1</td>\n",
       "      <td>ultra</td>\n",
       "      <td>0</td>\n",
       "      <td>6</td>\n",
       "      <td>241.0</td>\n",
       "    </tr>\n",
       "    <tr>\n",
       "      <th>2</th>\n",
       "      <td>1</td>\n",
       "      <td>8</td>\n",
       "      <td>6723.470560</td>\n",
       "      <td>46.0</td>\n",
       "      <td>2</td>\n",
       "      <td>ultra</td>\n",
       "      <td>0</td>\n",
       "      <td>6</td>\n",
       "      <td>475.0</td>\n",
       "    </tr>\n",
       "    <tr>\n",
       "      <th>3</th>\n",
       "      <td>1</td>\n",
       "      <td>10</td>\n",
       "      <td>5809.911100</td>\n",
       "      <td>32.0</td>\n",
       "      <td>2</td>\n",
       "      <td>ultra</td>\n",
       "      <td>0</td>\n",
       "      <td>6</td>\n",
       "      <td>391.0</td>\n",
       "    </tr>\n",
       "    <tr>\n",
       "      <th>4</th>\n",
       "      <td>1</td>\n",
       "      <td>11</td>\n",
       "      <td>7003.499363</td>\n",
       "      <td>56.0</td>\n",
       "      <td>3</td>\n",
       "      <td>ultra</td>\n",
       "      <td>0</td>\n",
       "      <td>6</td>\n",
       "      <td>535.0</td>\n",
       "    </tr>\n",
       "  </tbody>\n",
       "</table>\n",
       "</div>"
      ],
      "text/plain": [
       "   user_id  month     distance  duration  date subscription_type  \\\n",
       "0        1      1  7027.511294      42.0     2             ultra   \n",
       "1        1      4   754.159807       7.0     1             ultra   \n",
       "2        1      8  6723.470560      46.0     2             ultra   \n",
       "3        1     10  5809.911100      32.0     2             ultra   \n",
       "4        1     11  7003.499363      56.0     3             ultra   \n",
       "\n",
       "   start_ride_price  minute_price  revenue  \n",
       "0                 0             6    451.0  \n",
       "1                 0             6    241.0  \n",
       "2                 0             6    475.0  \n",
       "3                 0             6    391.0  \n",
       "4                 0             6    535.0  "
      ]
     },
     "execution_count": 34,
     "metadata": {},
     "output_type": "execute_result"
    }
   ],
   "source": [
    "# Код ревьюера\n",
    "print(monthly_summary.groupby('subscription_type')['revenue'].mean())\n",
    "\n",
    "monthly_summary.head()"
   ]
  },
  {
   "cell_type": "markdown",
   "id": "1ce9f352",
   "metadata": {},
   "source": [
    "**Выводы**\n",
    "\n",
    "1. По условию создан датафрейм monthly_summary, содержащий данные о поездках для каждого пользователя за каждый месяц. Включены следующие столбцы: user_id, month, distance, duration, date, subscription_type, start_ride_price, minute_price.\n",
    "\n",
    "2. Добавлен столбец revenue, который содержит информацию о помесячной выручке, принесенной каждым пользователем. Выручка рассчитывается на основе условий оплаты для подписчиков и пользователей без подписки."
   ]
  },
  {
   "cell_type": "markdown",
   "id": "41545ac0",
   "metadata": {},
   "source": [
    "#### Шаг 6. Проверка гипотез"
   ]
  },
  {
   "cell_type": "markdown",
   "id": "bd383777",
   "metadata": {},
   "source": [
    "Продакт-менеджеры сервиса хотят увеличить количество пользователей с подпиской. Для этого они будут проводить различные акции, но сначала нужно выяснить несколько важных моментов."
   ]
  },
  {
   "cell_type": "markdown",
   "id": "7b55029b",
   "metadata": {},
   "source": [
    "#####  Важно понять, тратят ли пользователи с подпиской больше времени на поездки? Если да, то пользователи с подпиской могут быть «выгоднее» для компании. Проверьте гипотезу. Используйте исходные данные о продолжительности каждой сессии — отдельно для подписчиков и тех, у кого нет подписки."
   ]
  },
  {
   "cell_type": "markdown",
   "id": "fd9d734f",
   "metadata": {},
   "source": [
    "**Нулевая гипотеза**- Среднее время поездки пользователей с подпиской равно среднему времени поездик пользователей без подписки\n",
    "**Альтернативная гипотеза** - Среднее время поездки пользователей с подпиской больше среднего времени поездок пользователей без подписки"
   ]
  },
  {
   "cell_type": "code",
   "execution_count": 35,
   "id": "156bda2f",
   "metadata": {},
   "outputs": [
    {
     "name": "stdout",
     "output_type": "stream",
     "text": [
      "Гипотеза что подписчики тратят больше времени на поездки, подтверждается.\n"
     ]
    }
   ],
   "source": [
    "# Выборка у подписчиков\n",
    "duration_subscribers = merged_data[merged_data['subscription_type'] == 'ultra']['duration']\n",
    "\n",
    "# без подписки\n",
    "duration_non_subscribers = merged_data[merged_data['subscription_type'] == 'free']['duration']\n",
    "\n",
    "# Проверка гипотезы с помощью t-теста\n",
    "t_statistic, p_value = ttest_ind(duration_subscribers, duration_non_subscribers, alternative='greater', equal_var=False)\n",
    "\n",
    "if p_value < 0.05:\n",
    "    print(\"Гипотеза что подписчики тратят больше времени на поездки, подтверждается.\")\n",
    "else:\n",
    "    print(\"Нет достаточных оснований для подтверждения гипотезы\")"
   ]
  },
  {
   "cell_type": "markdown",
   "id": "8aec71ed",
   "metadata": {},
   "source": [
    "##### Расстояние одной поездки в 3130 метров — оптимальное с точки зрения износа самоката. Можно ли сказать, что расстояние, которое проезжают пользователи с подпиской за одну поездку, не превышает 3130 метров? Проверьте гипотезу и сделайте выводы."
   ]
  },
  {
   "cell_type": "markdown",
   "id": "3f514794",
   "metadata": {},
   "source": [
    "**Нулевая гипотеза** - Среднее расстояние с подпиской == или < 3130 метров.\n",
    "**Альтернативная гипотеза** - среднее расстояние поездок подписчиков > 3130 метров.\n",
    "Для проверки гипотезы использую одностороннюю t-тест с альтернативной гипотезой \"less\" (односторонняя,  в меньшую сторону от нулевой гипотезы)"
   ]
  },
  {
   "cell_type": "code",
   "execution_count": 37,
   "id": "4b635bdc",
   "metadata": {},
   "outputs": [
    {
     "name": "stdout",
     "output_type": "stream",
     "text": [
      "Нет достаточных оснований что с подпиской за одну поездку, превышает 3130 м\n",
      "Значение p-value: 0.9195368847849785\n"
     ]
    }
   ],
   "source": [
    "from scipy.stats import ttest_1samp\n",
    "\n",
    "distance_subscribers = merged_data[merged_data['subscription_type'] == 'ultra']['distance']\n",
    "\n",
    "t_statistic, p_value = ttest_1samp(distance_subscribers, 3130, alternative='greater')\n",
    "\n",
    "if p_value < 0.05:\n",
    "    print(\"Гипотеза что расстояние не превышает 3130 м, отвергается\")\n",
    "else:\n",
    "    print(\"Нет достаточных оснований что с подпиской за одну поездку, превышает 3130 м\")\n",
    "\n",
    "print(\"Значение p-value:\", p_value)"
   ]
  },
  {
   "cell_type": "markdown",
   "id": "868cc82c",
   "metadata": {},
   "source": [
    "##### Проверьте гипотезу о том, будет ли помесячная выручка от пользователей с подпиской по месяцам выше, чем выручка от пользователей без подписки. Сделайте вывод."
   ]
  },
  {
   "cell_type": "markdown",
   "id": "fcc0a638",
   "metadata": {},
   "source": [
    "Нулевая гипотеза - Помесячная выручка от пользователей с подпиской не превышает выручку от пользователей без подписки.\n",
    "\n",
    "Альтернативная гипотеза - Помесячная выручка от пользователей с подпиской выше, чем выручка от пользователей без подписки.\n",
    "\n",
    "Для проверки гипотезы использую одностороннюю t-тест с альтернативной гипотезой \"greater\" (односторонняя, больше)"
   ]
  },
  {
   "cell_type": "code",
   "execution_count": 38,
   "id": "027933cb",
   "metadata": {},
   "outputs": [
    {
     "name": "stdout",
     "output_type": "stream",
     "text": [
      "Гипотеза помесячная выручка от пользователей с подпиской по месяцам выше, чем выручка от пользователей без подписки, подтверждается\n"
     ]
    }
   ],
   "source": [
    "revenue_sub = monthly_summary[monthly_summary['subscription_type'] == 'ultra']['revenue']\n",
    "\n",
    "# Выборка без подписки\n",
    "revenue_non_sub = monthly_summary[monthly_summary['subscription_type'] == 'free']['revenue']\n",
    "t_statistic, p_value = ttest_ind(revenue_sub, revenue_non_sub, equal_var=False, alternative='greater')\n",
    "\n",
    "# Вывод результатов\n",
    "if p_value < 0.05:\n",
    "    print(\"Гипотеза помесячная выручка от пользователей с подпиской по месяцам выше, чем выручка от пользователей без подписки, подтверждается\")\n",
    "else:\n",
    "    print(\"Нет достаточных оснований для подтверждения гипотезы\")"
   ]
  },
  {
   "cell_type": "markdown",
   "id": "0529b205",
   "metadata": {},
   "source": [
    "##### Представьте такую ситуацию: техническая команда сервиса обновила сервера, с которыми взаимодействует мобильное приложение. Она надеется, что из-за этого количество обращений в техподдержку значимо снизилось. Некоторый файл содержит для каждого пользователя данные о количестве обращений до обновления и после него. Какой тест вам понадобился бы для проверки этой гипотезы?"
   ]
  },
  {
   "cell_type": "markdown",
   "id": "7ef8cdc9",
   "metadata": {},
   "source": [
    "Для проверки гипотезы можно использовать парный t-тест для зависимых выборок\n",
    "* Нулевая гипотеза - Обновление серверов не привело к значимому снижению количества обращений в техподдержку.\n",
    "* Альтернативная гипотеза будет односторонней - Обновление серверов привело к значимому снижению количества обращений в техподдержку."
   ]
  },
  {
   "cell_type": "raw",
   "id": "bfca8e2f",
   "metadata": {},
   "source": [
    "#Выборка количества обращений до обновления\n",
    "before_update=data['before_update']\n",
    "\n",
    "#Выборка количества обращений после обновления\n",
    "after_update=data['after_update']\n",
    "\n",
    "#Проверка гипотезы с помощью парного t-теста\n",
    "t_statistic, p_value = ttest_rel(before_update, after_update)\n",
    "\n",
    "#Вывод результатов\n",
    "if p_value< 0.05:\n",
    "    print(\"Гипотеза подтверждается\")\n",
    "else:\n",
    "    print(\"Нет достаточных оснований для подтверждения гипотезы\")"
   ]
  },
  {
   "cell_type": "markdown",
   "id": "b3f1b83c",
   "metadata": {},
   "source": [
    "**Подтверждение гипотез**\n",
    "6.1: Гипотеза что пользователи с подпиской тратят больше времени на поездки, подтверждается\n",
    "\n",
    "6.2: Результаты t-теста показали, что  нет достаточных оснований для вывода о том, что расстояние, которое проезжают пользователи с подпиской за одну поездку, превышает 3130 метров\n",
    "\n",
    "6.3: Гипотеза о том, что помесячная выручка от пользователей с подпиской выше, чем выручка от пользователей без подписки, подтверждается. "
   ]
  },
  {
   "cell_type": "markdown",
   "id": "61213c5e",
   "metadata": {},
   "source": [
    "#### Шаг 7. Распределения"
   ]
  },
  {
   "cell_type": "markdown",
   "id": "38814ddc",
   "metadata": {},
   "source": [
    "##### Отделу маркетинга GoFast поставили задачу: нужно провести акцию с раздачей промокодов на один бесплатный месяц подписки, в рамках которой как минимум 100 существующих клиентов должны продлить эту подписку. То есть по завершении периода действия подписки пользователь может либо отказаться от неё, либо продлить, совершив соответствующий платёж. Эта акция уже проводилась ранее и по итогу выяснилось, что после бесплатного пробного периода подписку продлевают 10 % пользователей. Выясните, какое минимальное количество промокодов нужно разослать, чтобы вероятность не выполнить план была примерно 5 %. Подберите параметры распределения, описывающего эту ситуацию, постройте график распределения и сформулируйте ответ на вопрос о количестве промокодов.\n"
   ]
  },
  {
   "cell_type": "code",
   "execution_count": 54,
   "id": "a1a06516",
   "metadata": {},
   "outputs": [
    {
     "name": "stdout",
     "output_type": "stream",
     "text": [
      "Минимальное количество промокодов: [1161]\n"
     ]
    },
    {
     "data": {
      "image/png": "[encoded data removed]",
      "text/plain": [
       "<Figure size 432x288 with 1 Axes>"
      ]
     },
     "metadata": {
      "needs_background": "light"
     },
     "output_type": "display_data"
    }
   ],
   "source": [
    "p = 0.1  \n",
    "n = np.arange(0, 2000)  \n",
    "\n",
    "\n",
    "min_promo = []\n",
    "\n",
    "\n",
    "for promo in n:\n",
    "    prob = binom.cdf(99, promo, p)\n",
    "    if prob <= 0.05:\n",
    "        min_promo.append(promo)\n",
    "        break\n",
    "\n",
    "plt.bar(range(0, len(prob_list)), prob_list)\n",
    "\n",
    "print(\"Минимальное количество промокодов:\", min_promo)"
   ]
  },
  {
   "cell_type": "markdown",
   "id": "cfa69450",
   "metadata": {},
   "source": [
    "##### Отдел маркетинга рассылает клиентам push-уведомления в мобильном приложении. Клиенты могут открыть его или не открывать. Известно, что уведомления открывают около 40 % получивших клиентов. Отдел планирует разослать 1 млн уведомлений. С помощью аппроксимации постройте примерный график распределения и оцените вероятность того, что уведомление откроют не более 399,5 тыс. пользователей."
   ]
  },
  {
   "cell_type": "code",
   "execution_count": 37,
   "id": "c4a2d3a4",
   "metadata": {},
   "outputs": [
    {
     "name": "stdout",
     "output_type": "stream",
     "text": [
      "Вероятность того, что уведомление откроют не более 399,5 тыс. пользователей: 15.371708296369768 %\n"
     ]
    }
   ],
   "source": [
    "from scipy.stats import norm\n",
    "\n",
    "p = 0.4  # Вероятность открытия \n",
    "n = 1000000  # количество уведомлений\n",
    "\n",
    "mean = n * p\n",
    "std = np.sqrt(n * p * (1 - p))\n",
    "\n",
    "# Оценка вероятности\n",
    "prob = norm.cdf(399500, mean, std)\n",
    "print(\"Вероятность того, что уведомление откроют не более 399,5 тыс. пользователей:\", prob * 100, \"%\")"
   ]
  },
  {
   "cell_type": "code",
   "execution_count": 38,
   "id": "f1856791",
   "metadata": {},
   "outputs": [
    {
     "name": "stdout",
     "output_type": "stream",
     "text": [
      "Вероятность того, что уведомление откроют не более 399,5 тыс. пользователей: 15.371661464935887 %\n"
     ]
    }
   ],
   "source": [
    "import scipy.stats as stats\n",
    "\n",
    "mu = 400000\n",
    "sigma = 489.897\n",
    "x = 399500\n",
    "\n",
    "prob = stats.norm.cdf(x, mu, sigma)\n",
    "print(\"Вероятность того, что уведомление откроют не более 399,5 тыс. пользователей:\", prob * 100, \"%\")"
   ]
  },
  {
   "cell_type": "markdown",
   "id": "d659941b",
   "metadata": {},
   "source": [
    "#### Общие выводы "
   ]
  },
  {
   "cell_type": "markdown",
   "id": "686b56d2",
   "metadata": {},
   "source": [
    "**По результатам анализа данных GoFast можно сделать следующие общие выводы:**\n",
    "\n",
    "1. Частота встречаемости городов: Большинство пользователей проживает в Москве и Санкт-Петербурге, что указывает на популярность сервиса в крупных городах.\n",
    "\n",
    "2. Распределение по типу пользователя: Большинство пользователей GoFast не имеют подписки и используют сервис в режиме оплаты за каждую поездку. Однако количество пользователей с подпиской также растет.\n",
    "\n",
    "3. Возраст пользователей: Большинство пользователей находятся в возрастной группе от 20 до 30 лет.\n",
    "\n",
    "4. Продолжительность и расстояние поездок: Средняя продолжительность поездок пользователей с подпиской выше, чем у пользователей без подписки. Однако среднее расстояние поездок для обеих групп примерно одинаково и не превышает оптимальное расстояние.\n",
    "\n",
    "5. Помесячная выручка: Пользователи с подпиской приносят больше выручки, чем пользователи без подписки. Это связано с тем, что пользователи с подпиской платят фиксированную сумму каждый месяц, а также могут совершать дополнительные поездки, которые увеличивают сумму в выручке.\n",
    "\n",
    "Таким образом, пользователи с подпиской являются более выгодными для компании, так как они не только приносят стабильную выручку, но и более активно пользуются сервисом. \n",
    "\n",
    "\n",
    "Рекомендуется направлять маркетинговые усилия на увеличение количества подписчиков и повышение их удержания в системе."
   ]
  }
 ],
 "metadata": {
  "ExecuteTimeLog": [
   {
    "duration": 1466,
    "start_time": "2023-06-25T11:33:36.936Z"
   },
   {
    "duration": 530,
    "start_time": "2023-06-25T11:33:39.058Z"
   },
   {
    "duration": 66,
    "start_time": "2023-06-25T11:34:14.881Z"
   },
   {
    "duration": 11,
    "start_time": "2023-06-25T11:35:00.922Z"
   },
   {
    "duration": 31,
    "start_time": "2023-06-25T11:35:52.663Z"
   },
   {
    "duration": 50,
    "start_time": "2023-06-25T11:35:55.027Z"
   },
   {
    "duration": 34,
    "start_time": "2023-06-25T11:35:57.911Z"
   },
   {
    "duration": 38,
    "start_time": "2023-06-25T11:37:55.756Z"
   },
   {
    "duration": 37,
    "start_time": "2023-06-25T11:38:15.986Z"
   },
   {
    "duration": 73,
    "start_time": "2023-06-25T11:39:06.176Z"
   },
   {
    "duration": 8,
    "start_time": "2023-06-25T11:39:43.748Z"
   },
   {
    "duration": 11,
    "start_time": "2023-06-25T11:39:50.616Z"
   },
   {
    "duration": 8,
    "start_time": "2023-06-25T11:40:28.000Z"
   },
   {
    "duration": 8,
    "start_time": "2023-06-25T11:40:30.700Z"
   },
   {
    "duration": 8,
    "start_time": "2023-06-25T11:40:35.996Z"
   },
   {
    "duration": 6,
    "start_time": "2023-06-25T11:40:40.365Z"
   },
   {
    "duration": 10,
    "start_time": "2023-06-25T11:43:50.020Z"
   },
   {
    "duration": 11,
    "start_time": "2023-06-25T11:44:01.312Z"
   },
   {
    "duration": 10,
    "start_time": "2023-06-25T11:44:15.006Z"
   },
   {
    "duration": 7,
    "start_time": "2023-06-25T11:46:21.614Z"
   },
   {
    "duration": 98,
    "start_time": "2023-06-25T11:47:08.012Z"
   },
   {
    "duration": 7,
    "start_time": "2023-06-25T11:47:15.939Z"
   },
   {
    "duration": 16,
    "start_time": "2023-06-25T11:47:54.973Z"
   },
   {
    "duration": 13,
    "start_time": "2023-06-25T11:48:50.637Z"
   },
   {
    "duration": 14,
    "start_time": "2023-06-25T11:48:52.814Z"
   },
   {
    "duration": 23,
    "start_time": "2023-06-25T11:50:26.115Z"
   },
   {
    "duration": 26,
    "start_time": "2023-06-25T11:50:51.465Z"
   },
   {
    "duration": 24,
    "start_time": "2023-06-25T11:50:53.798Z"
   },
   {
    "duration": 21,
    "start_time": "2023-06-25T11:51:04.940Z"
   },
   {
    "duration": 7,
    "start_time": "2023-06-25T11:51:11.417Z"
   },
   {
    "duration": 26,
    "start_time": "2023-06-25T11:51:14.007Z"
   },
   {
    "duration": 30,
    "start_time": "2023-06-25T11:51:20.780Z"
   },
   {
    "duration": 24,
    "start_time": "2023-06-25T11:51:23.452Z"
   },
   {
    "duration": 6,
    "start_time": "2023-06-25T11:55:14.883Z"
   },
   {
    "duration": 7,
    "start_time": "2023-06-25T11:55:25.550Z"
   },
   {
    "duration": 6,
    "start_time": "2023-06-25T11:55:30.874Z"
   },
   {
    "duration": 20,
    "start_time": "2023-06-25T11:56:25.769Z"
   },
   {
    "duration": 17,
    "start_time": "2023-06-25T11:58:33.896Z"
   },
   {
    "duration": 17,
    "start_time": "2023-06-25T12:00:45.575Z"
   },
   {
    "duration": 17,
    "start_time": "2023-06-25T12:01:04.168Z"
   },
   {
    "duration": 17,
    "start_time": "2023-06-25T12:01:19.922Z"
   },
   {
    "duration": 15,
    "start_time": "2023-06-25T12:01:57.762Z"
   },
   {
    "duration": 6,
    "start_time": "2023-06-25T12:02:58.085Z"
   },
   {
    "duration": 9,
    "start_time": "2023-06-25T12:03:18.837Z"
   },
   {
    "duration": 177,
    "start_time": "2023-06-25T12:05:17.944Z"
   },
   {
    "duration": 15,
    "start_time": "2023-06-25T12:08:52.988Z"
   },
   {
    "duration": 13,
    "start_time": "2023-06-25T12:09:07.340Z"
   },
   {
    "duration": 16,
    "start_time": "2023-06-25T12:09:13.525Z"
   },
   {
    "duration": 151,
    "start_time": "2023-06-25T12:10:26.044Z"
   },
   {
    "duration": 144,
    "start_time": "2023-06-25T12:11:18.776Z"
   },
   {
    "duration": 155,
    "start_time": "2023-06-25T12:11:29.797Z"
   },
   {
    "duration": 144,
    "start_time": "2023-06-25T12:11:34.411Z"
   },
   {
    "duration": 140,
    "start_time": "2023-06-25T12:11:40.489Z"
   },
   {
    "duration": 141,
    "start_time": "2023-06-25T12:12:49.493Z"
   },
   {
    "duration": 142,
    "start_time": "2023-06-25T12:13:20.777Z"
   },
   {
    "duration": 1824,
    "start_time": "2023-06-25T12:16:01.824Z"
   },
   {
    "duration": 1749,
    "start_time": "2023-06-25T12:16:42.554Z"
   },
   {
    "duration": 226,
    "start_time": "2023-06-25T12:19:24.177Z"
   },
   {
    "duration": 142,
    "start_time": "2023-06-25T12:19:29.336Z"
   },
   {
    "duration": 147,
    "start_time": "2023-06-25T12:19:46.063Z"
   },
   {
    "duration": 139,
    "start_time": "2023-06-25T12:21:09.016Z"
   },
   {
    "duration": 142,
    "start_time": "2023-06-25T12:21:22.093Z"
   },
   {
    "duration": 94,
    "start_time": "2023-06-25T12:21:44.381Z"
   },
   {
    "duration": 135,
    "start_time": "2023-06-25T12:22:11.076Z"
   },
   {
    "duration": 140,
    "start_time": "2023-06-25T12:23:39.309Z"
   },
   {
    "duration": 149,
    "start_time": "2023-06-25T12:53:05.304Z"
   },
   {
    "duration": 164,
    "start_time": "2023-06-25T12:53:24.540Z"
   },
   {
    "duration": 158,
    "start_time": "2023-06-25T12:54:30.521Z"
   },
   {
    "duration": 155,
    "start_time": "2023-06-25T12:54:41.281Z"
   },
   {
    "duration": 148,
    "start_time": "2023-06-25T12:55:18.558Z"
   },
   {
    "duration": 229,
    "start_time": "2023-06-25T12:57:34.293Z"
   },
   {
    "duration": 159,
    "start_time": "2023-06-25T12:58:46.992Z"
   },
   {
    "duration": 161,
    "start_time": "2023-06-25T12:59:11.226Z"
   },
   {
    "duration": 194,
    "start_time": "2023-06-25T12:59:15.721Z"
   },
   {
    "duration": 156,
    "start_time": "2023-06-25T12:59:32.377Z"
   },
   {
    "duration": 168,
    "start_time": "2023-06-25T13:00:32.429Z"
   },
   {
    "duration": 149,
    "start_time": "2023-06-25T13:03:21.192Z"
   },
   {
    "duration": 162,
    "start_time": "2023-06-25T13:03:36.291Z"
   },
   {
    "duration": 13,
    "start_time": "2023-06-25T13:05:05.040Z"
   },
   {
    "duration": 168,
    "start_time": "2023-06-25T13:05:16.230Z"
   },
   {
    "duration": 152,
    "start_time": "2023-06-25T13:05:50.803Z"
   },
   {
    "duration": 107,
    "start_time": "2023-06-25T13:06:09.588Z"
   },
   {
    "duration": 109,
    "start_time": "2023-06-25T13:07:24.764Z"
   },
   {
    "duration": 157,
    "start_time": "2023-06-25T13:07:32.364Z"
   },
   {
    "duration": 137,
    "start_time": "2023-06-25T13:07:46.293Z"
   },
   {
    "duration": 19,
    "start_time": "2023-06-25T13:13:48.389Z"
   },
   {
    "duration": 18,
    "start_time": "2023-06-25T13:15:26.333Z"
   },
   {
    "duration": 10,
    "start_time": "2023-06-25T13:17:25.129Z"
   },
   {
    "duration": 125,
    "start_time": "2023-06-25T13:19:04.851Z"
   },
   {
    "duration": 10,
    "start_time": "2023-06-25T13:22:58.018Z"
   },
   {
    "duration": 234,
    "start_time": "2023-06-25T13:23:15.111Z"
   },
   {
    "duration": 79,
    "start_time": "2023-06-25T13:23:36.800Z"
   },
   {
    "duration": 112,
    "start_time": "2023-06-25T13:23:56.391Z"
   },
   {
    "duration": 116,
    "start_time": "2023-06-25T13:24:18.354Z"
   },
   {
    "duration": 107,
    "start_time": "2023-06-25T13:26:09.614Z"
   },
   {
    "duration": 22,
    "start_time": "2023-06-25T13:27:30.194Z"
   },
   {
    "duration": 16,
    "start_time": "2023-06-25T13:27:45.745Z"
   },
   {
    "duration": 229,
    "start_time": "2023-06-25T13:28:14.891Z"
   },
   {
    "duration": 196,
    "start_time": "2023-06-25T13:30:50.291Z"
   },
   {
    "duration": 226,
    "start_time": "2023-06-25T13:31:28.489Z"
   },
   {
    "duration": 19,
    "start_time": "2023-06-25T13:53:58.565Z"
   },
   {
    "duration": 34,
    "start_time": "2023-06-25T13:55:20.658Z"
   },
   {
    "duration": 14,
    "start_time": "2023-06-25T13:55:33.047Z"
   },
   {
    "duration": 14,
    "start_time": "2023-06-25T13:59:03.263Z"
   },
   {
    "duration": 15,
    "start_time": "2023-06-25T14:03:09.241Z"
   },
   {
    "duration": 9,
    "start_time": "2023-06-25T14:03:50.510Z"
   },
   {
    "duration": 26,
    "start_time": "2023-06-25T14:05:23.102Z"
   },
   {
    "duration": 15,
    "start_time": "2023-06-25T14:10:24.107Z"
   },
   {
    "duration": 2229,
    "start_time": "2023-06-25T14:10:42.161Z"
   },
   {
    "duration": 12,
    "start_time": "2023-06-25T14:12:07.641Z"
   },
   {
    "duration": 2362,
    "start_time": "2023-06-25T14:13:18.143Z"
   },
   {
    "duration": 17,
    "start_time": "2023-06-25T14:13:54.333Z"
   },
   {
    "duration": 20,
    "start_time": "2023-06-25T14:13:58.007Z"
   },
   {
    "duration": 14,
    "start_time": "2023-06-25T14:14:40.894Z"
   },
   {
    "duration": 9,
    "start_time": "2023-06-25T14:14:50.445Z"
   },
   {
    "duration": 20,
    "start_time": "2023-06-25T14:15:02.202Z"
   },
   {
    "duration": 2300,
    "start_time": "2023-06-25T14:16:00.852Z"
   },
   {
    "duration": 2124,
    "start_time": "2023-06-25T14:20:13.303Z"
   },
   {
    "duration": 1528,
    "start_time": "2023-06-26T06:19:51.288Z"
   },
   {
    "duration": 247,
    "start_time": "2023-06-26T06:20:00.445Z"
   },
   {
    "duration": 17,
    "start_time": "2023-06-26T06:20:02.972Z"
   },
   {
    "duration": 19,
    "start_time": "2023-06-26T06:20:05.652Z"
   },
   {
    "duration": 12,
    "start_time": "2023-06-26T06:20:07.721Z"
   },
   {
    "duration": 37,
    "start_time": "2023-06-26T06:20:10.037Z"
   },
   {
    "duration": 50,
    "start_time": "2023-06-26T06:20:12.238Z"
   },
   {
    "duration": 48,
    "start_time": "2023-06-26T06:20:15.420Z"
   },
   {
    "duration": 28,
    "start_time": "2023-06-26T06:20:27.953Z"
   },
   {
    "duration": 57,
    "start_time": "2023-06-26T06:20:37.748Z"
   },
   {
    "duration": 6,
    "start_time": "2023-06-26T06:21:10.843Z"
   },
   {
    "duration": 11,
    "start_time": "2023-06-26T06:21:35.402Z"
   },
   {
    "duration": 13,
    "start_time": "2023-06-26T06:22:03.478Z"
   },
   {
    "duration": 21,
    "start_time": "2023-06-26T06:22:08.946Z"
   },
   {
    "duration": 10,
    "start_time": "2023-06-26T06:22:32.681Z"
   },
   {
    "duration": 28,
    "start_time": "2023-06-26T06:22:34.079Z"
   },
   {
    "duration": 21,
    "start_time": "2023-06-26T06:22:37.227Z"
   },
   {
    "duration": 11,
    "start_time": "2023-06-26T06:22:45.403Z"
   },
   {
    "duration": 211,
    "start_time": "2023-06-26T06:22:49.618Z"
   },
   {
    "duration": 196,
    "start_time": "2023-06-26T06:22:52.344Z"
   },
   {
    "duration": 221,
    "start_time": "2023-06-26T06:22:56.019Z"
   },
   {
    "duration": 236,
    "start_time": "2023-06-26T06:23:02.523Z"
   },
   {
    "duration": 271,
    "start_time": "2023-06-26T06:23:05.700Z"
   },
   {
    "duration": 29,
    "start_time": "2023-06-26T06:23:09.599Z"
   },
   {
    "duration": 35,
    "start_time": "2023-06-26T06:23:31.675Z"
   },
   {
    "duration": 12,
    "start_time": "2023-06-26T06:23:34.015Z"
   },
   {
    "duration": 350,
    "start_time": "2023-06-26T06:23:38.880Z"
   },
   {
    "duration": 162,
    "start_time": "2023-06-26T06:23:42.535Z"
   },
   {
    "duration": 14,
    "start_time": "2023-06-26T06:23:54.005Z"
   },
   {
    "duration": 16,
    "start_time": "2023-06-26T06:23:59.487Z"
   },
   {
    "duration": 2794,
    "start_time": "2023-06-26T07:04:17.230Z"
   },
   {
    "duration": 2339,
    "start_time": "2023-06-26T07:04:26.744Z"
   },
   {
    "duration": 20,
    "start_time": "2023-06-26T07:04:32.242Z"
   },
   {
    "duration": 330,
    "start_time": "2023-06-26T07:07:17.478Z"
   },
   {
    "duration": 25,
    "start_time": "2023-06-26T07:08:19.299Z"
   },
   {
    "duration": 302,
    "start_time": "2023-06-26T07:08:24.232Z"
   },
   {
    "duration": 345,
    "start_time": "2023-06-26T07:08:45.348Z"
   },
   {
    "duration": 2177,
    "start_time": "2023-06-26T07:08:56.096Z"
   },
   {
    "duration": 37,
    "start_time": "2023-06-26T07:10:35.283Z"
   },
   {
    "duration": 3741,
    "start_time": "2023-06-26T07:10:38.009Z"
   },
   {
    "duration": 154,
    "start_time": "2023-06-26T07:11:25.047Z"
   },
   {
    "duration": 237,
    "start_time": "2023-06-26T07:11:33.226Z"
   },
   {
    "duration": 2206,
    "start_time": "2023-06-26T07:12:29.707Z"
   },
   {
    "duration": 206,
    "start_time": "2023-06-26T07:12:36.100Z"
   },
   {
    "duration": 27,
    "start_time": "2023-06-26T08:21:55.431Z"
   },
   {
    "duration": 4,
    "start_time": "2023-06-26T08:22:21.874Z"
   },
   {
    "duration": 12,
    "start_time": "2023-06-26T08:22:27.708Z"
   },
   {
    "duration": 22,
    "start_time": "2023-06-26T08:23:01.157Z"
   },
   {
    "duration": 16,
    "start_time": "2023-06-26T08:24:00.400Z"
   },
   {
    "duration": 42,
    "start_time": "2023-06-26T08:24:29.339Z"
   },
   {
    "duration": 189,
    "start_time": "2023-06-26T08:37:43.940Z"
   },
   {
    "duration": 370,
    "start_time": "2023-06-26T08:38:37.387Z"
   },
   {
    "duration": 11,
    "start_time": "2023-06-26T10:10:27.973Z"
   },
   {
    "duration": 149,
    "start_time": "2023-06-26T10:19:46.550Z"
   },
   {
    "duration": 1248,
    "start_time": "2023-06-26T13:28:08.338Z"
   },
   {
    "duration": 287,
    "start_time": "2023-06-26T13:28:09.588Z"
   },
   {
    "duration": 11,
    "start_time": "2023-06-26T13:28:09.877Z"
   },
   {
    "duration": 8,
    "start_time": "2023-06-26T13:28:09.890Z"
   },
   {
    "duration": 24,
    "start_time": "2023-06-26T13:28:09.899Z"
   },
   {
    "duration": 24,
    "start_time": "2023-06-26T13:28:09.926Z"
   },
   {
    "duration": 21,
    "start_time": "2023-06-26T13:28:09.951Z"
   },
   {
    "duration": 20,
    "start_time": "2023-06-26T13:28:09.973Z"
   },
   {
    "duration": 2,
    "start_time": "2023-06-26T13:28:09.994Z"
   },
   {
    "duration": 8,
    "start_time": "2023-06-26T13:28:10.007Z"
   },
   {
    "duration": 14,
    "start_time": "2023-06-26T13:28:10.016Z"
   },
   {
    "duration": 20,
    "start_time": "2023-06-26T13:28:10.031Z"
   },
   {
    "duration": 6,
    "start_time": "2023-06-26T13:28:10.052Z"
   },
   {
    "duration": 167,
    "start_time": "2023-06-26T13:28:10.059Z"
   },
   {
    "duration": 131,
    "start_time": "2023-06-26T13:28:10.228Z"
   },
   {
    "duration": 150,
    "start_time": "2023-06-26T13:28:10.361Z"
   },
   {
    "duration": 154,
    "start_time": "2023-06-26T13:28:10.512Z"
   },
   {
    "duration": 151,
    "start_time": "2023-06-26T13:28:10.667Z"
   },
   {
    "duration": 20,
    "start_time": "2023-06-26T13:28:10.819Z"
   },
   {
    "duration": 7,
    "start_time": "2023-06-26T13:28:10.841Z"
   },
   {
    "duration": 215,
    "start_time": "2023-06-26T13:28:10.850Z"
   },
   {
    "duration": 104,
    "start_time": "2023-06-26T13:28:11.066Z"
   },
   {
    "duration": 10,
    "start_time": "2023-06-26T13:28:11.172Z"
   },
   {
    "duration": 29,
    "start_time": "2023-06-26T13:28:11.183Z"
   },
   {
    "duration": 155,
    "start_time": "2023-06-26T13:28:11.213Z"
   },
   {
    "duration": 8,
    "start_time": "2023-06-26T13:28:11.369Z"
   },
   {
    "duration": 7,
    "start_time": "2023-06-26T13:28:11.379Z"
   },
   {
    "duration": 18,
    "start_time": "2023-06-26T13:28:11.388Z"
   },
   {
    "duration": 120,
    "start_time": "2023-06-26T13:28:11.407Z"
   },
   {
    "duration": 186,
    "start_time": "2023-06-26T13:28:11.529Z"
   },
   {
    "duration": 6,
    "start_time": "2023-06-26T13:34:38.729Z"
   },
   {
    "duration": 6,
    "start_time": "2023-06-26T13:37:58.109Z"
   },
   {
    "duration": 12,
    "start_time": "2023-06-26T13:38:56.247Z"
   },
   {
    "duration": 62,
    "start_time": "2023-06-27T12:40:49.725Z"
   },
   {
    "duration": 1661,
    "start_time": "2023-06-27T12:41:00.050Z"
   },
   {
    "duration": 245,
    "start_time": "2023-06-27T12:41:04.147Z"
   },
   {
    "duration": 15,
    "start_time": "2023-06-27T12:41:06.377Z"
   },
   {
    "duration": 10,
    "start_time": "2023-06-27T12:41:09.521Z"
   },
   {
    "duration": 10,
    "start_time": "2023-06-27T12:41:11.535Z"
   },
   {
    "duration": 33,
    "start_time": "2023-06-27T12:41:13.953Z"
   },
   {
    "duration": 32,
    "start_time": "2023-06-27T12:41:17.124Z"
   },
   {
    "duration": 32,
    "start_time": "2023-06-27T12:41:19.561Z"
   },
   {
    "duration": 7,
    "start_time": "2023-06-27T12:41:30.117Z"
   },
   {
    "duration": 23,
    "start_time": "2023-06-27T12:41:32.241Z"
   },
   {
    "duration": 8,
    "start_time": "2023-06-27T12:41:34.237Z"
   },
   {
    "duration": 84,
    "start_time": "2023-06-27T12:44:42.763Z"
   },
   {
    "duration": 219,
    "start_time": "2023-06-27T12:52:26.021Z"
   },
   {
    "duration": 250,
    "start_time": "2023-06-27T12:52:51.238Z"
   },
   {
    "duration": 200,
    "start_time": "2023-06-27T12:53:08.940Z"
   },
   {
    "duration": 179,
    "start_time": "2023-06-27T12:54:28.733Z"
   },
   {
    "duration": 190,
    "start_time": "2023-06-27T12:54:43.666Z"
   },
   {
    "duration": 192,
    "start_time": "2023-06-27T12:55:48.427Z"
   },
   {
    "duration": 179,
    "start_time": "2023-06-27T13:00:03.230Z"
   },
   {
    "duration": 246,
    "start_time": "2023-06-27T13:00:37.950Z"
   },
   {
    "duration": 290,
    "start_time": "2023-06-27T13:01:01.814Z"
   },
   {
    "duration": 15,
    "start_time": "2023-06-27T13:04:15.953Z"
   },
   {
    "duration": 10,
    "start_time": "2023-06-27T13:04:18.906Z"
   },
   {
    "duration": 19,
    "start_time": "2023-06-27T13:04:23.379Z"
   },
   {
    "duration": 25,
    "start_time": "2023-06-27T13:04:26.415Z"
   },
   {
    "duration": 9,
    "start_time": "2023-06-27T13:04:29.938Z"
   },
   {
    "duration": 7,
    "start_time": "2023-06-27T13:04:31.918Z"
   },
   {
    "duration": 281,
    "start_time": "2023-06-27T13:04:34.941Z"
   },
   {
    "duration": 132,
    "start_time": "2023-06-27T13:04:39.116Z"
   },
   {
    "duration": 16,
    "start_time": "2023-06-27T13:04:44.329Z"
   },
   {
    "duration": 26,
    "start_time": "2023-06-27T13:04:47.129Z"
   },
   {
    "duration": 252,
    "start_time": "2023-06-27T13:04:49.526Z"
   },
   {
    "duration": 25,
    "start_time": "2023-06-27T13:04:57.850Z"
   },
   {
    "duration": 8,
    "start_time": "2023-06-27T13:15:01.241Z"
   },
   {
    "duration": 21,
    "start_time": "2023-06-27T13:15:19.049Z"
   },
   {
    "duration": 135,
    "start_time": "2023-06-27T13:28:29.766Z"
   },
   {
    "duration": 469,
    "start_time": "2023-06-27T13:30:46.929Z"
   },
   {
    "duration": 152,
    "start_time": "2023-06-27T13:33:16.635Z"
   },
   {
    "duration": 171,
    "start_time": "2023-06-27T13:33:54.336Z"
   },
   {
    "duration": 149,
    "start_time": "2023-06-27T13:34:09.415Z"
   },
   {
    "duration": 297,
    "start_time": "2023-06-27T13:34:16.515Z"
   },
   {
    "duration": 317,
    "start_time": "2023-06-27T13:34:48.018Z"
   },
   {
    "duration": 395,
    "start_time": "2023-06-27T13:34:58.618Z"
   },
   {
    "duration": 124,
    "start_time": "2023-06-27T13:35:33.473Z"
   },
   {
    "duration": 155,
    "start_time": "2023-06-27T13:35:41.137Z"
   },
   {
    "duration": 283,
    "start_time": "2023-06-27T13:39:29.636Z"
   },
   {
    "duration": 160,
    "start_time": "2023-06-27T13:40:29.261Z"
   },
   {
    "duration": 294,
    "start_time": "2023-06-27T13:42:01.442Z"
   },
   {
    "duration": 275,
    "start_time": "2023-06-27T13:42:33.943Z"
   },
   {
    "duration": 172,
    "start_time": "2023-06-27T13:43:22.578Z"
   },
   {
    "duration": 167,
    "start_time": "2023-06-27T13:43:31.523Z"
   },
   {
    "duration": 276,
    "start_time": "2023-06-27T13:44:19.333Z"
   },
   {
    "duration": 371,
    "start_time": "2023-06-27T13:44:44.158Z"
   },
   {
    "duration": 360,
    "start_time": "2023-06-27T13:44:52.640Z"
   },
   {
    "duration": 271,
    "start_time": "2023-06-27T13:45:28.117Z"
   },
   {
    "duration": 30,
    "start_time": "2023-06-27T13:53:02.558Z"
   },
   {
    "duration": 16,
    "start_time": "2023-06-27T13:53:06.332Z"
   },
   {
    "duration": 289,
    "start_time": "2023-06-27T13:58:44.332Z"
   },
   {
    "duration": 288,
    "start_time": "2023-06-27T14:02:26.081Z"
   },
   {
    "duration": 323,
    "start_time": "2023-06-27T14:04:49.839Z"
   },
   {
    "duration": 269,
    "start_time": "2023-06-27T14:05:28.078Z"
   },
   {
    "duration": 270,
    "start_time": "2023-06-27T14:11:03.417Z"
   },
   {
    "duration": 44,
    "start_time": "2023-06-27T14:11:43.232Z"
   },
   {
    "duration": 23,
    "start_time": "2023-06-27T14:12:07.227Z"
   },
   {
    "duration": 289,
    "start_time": "2023-06-27T14:12:21.331Z"
   },
   {
    "duration": 11,
    "start_time": "2023-06-27T14:23:39.919Z"
   },
   {
    "duration": 12,
    "start_time": "2023-06-27T14:26:27.227Z"
   },
   {
    "duration": 11,
    "start_time": "2023-06-27T14:32:02.126Z"
   },
   {
    "duration": 8,
    "start_time": "2023-06-27T14:33:47.211Z"
   },
   {
    "duration": 8,
    "start_time": "2023-06-27T14:36:19.012Z"
   },
   {
    "duration": 9,
    "start_time": "2023-06-27T14:41:16.105Z"
   },
   {
    "duration": 10,
    "start_time": "2023-06-27T14:41:50.845Z"
   },
   {
    "duration": 10,
    "start_time": "2023-06-27T14:41:58.325Z"
   },
   {
    "duration": 163,
    "start_time": "2023-06-27T15:57:54.846Z"
   },
   {
    "duration": 157,
    "start_time": "2023-06-27T15:58:11.248Z"
   },
   {
    "duration": 142,
    "start_time": "2023-06-27T16:00:15.580Z"
   },
   {
    "duration": 161,
    "start_time": "2023-06-27T16:02:16.221Z"
   },
   {
    "duration": 169,
    "start_time": "2023-06-27T16:02:57.012Z"
   },
   {
    "duration": 227,
    "start_time": "2023-06-27T16:15:36.141Z"
   },
   {
    "duration": 157,
    "start_time": "2023-06-27T16:17:25.640Z"
   },
   {
    "duration": 13,
    "start_time": "2023-06-27T16:17:48.215Z"
   },
   {
    "duration": 15,
    "start_time": "2023-06-27T16:20:48.227Z"
   },
   {
    "duration": 13,
    "start_time": "2023-06-27T16:21:01.647Z"
   },
   {
    "duration": 5,
    "start_time": "2023-06-27T16:21:38.050Z"
   },
   {
    "duration": 170,
    "start_time": "2023-06-27T16:22:00.163Z"
   },
   {
    "duration": 15,
    "start_time": "2023-06-27T16:22:29.990Z"
   },
   {
    "duration": 193,
    "start_time": "2023-06-27T16:22:53.422Z"
   },
   {
    "duration": 149,
    "start_time": "2023-06-27T16:23:14.427Z"
   },
   {
    "duration": 157,
    "start_time": "2023-06-27T16:23:20.820Z"
   },
   {
    "duration": 138,
    "start_time": "2023-06-27T16:23:24.823Z"
   },
   {
    "duration": 122,
    "start_time": "2023-06-27T16:23:29.448Z"
   },
   {
    "duration": 156,
    "start_time": "2023-06-27T16:23:35.577Z"
   },
   {
    "duration": 139,
    "start_time": "2023-06-27T16:25:29.871Z"
   },
   {
    "duration": 287,
    "start_time": "2023-06-27T16:42:45.831Z"
   },
   {
    "duration": 287,
    "start_time": "2023-06-27T16:46:36.763Z"
   },
   {
    "duration": 167,
    "start_time": "2023-06-27T16:47:47.738Z"
   },
   {
    "duration": 308,
    "start_time": "2023-06-27T16:47:54.553Z"
   },
   {
    "duration": 243,
    "start_time": "2023-06-27T16:50:58.089Z"
   },
   {
    "duration": 276,
    "start_time": "2023-06-27T16:51:10.569Z"
   },
   {
    "duration": 885,
    "start_time": "2023-06-27T16:54:31.703Z"
   },
   {
    "duration": 10,
    "start_time": "2023-06-27T16:54:43.210Z"
   },
   {
    "duration": 11,
    "start_time": "2023-06-27T16:55:37.414Z"
   },
   {
    "duration": 273,
    "start_time": "2023-06-27T16:55:50.715Z"
   },
   {
    "duration": 280,
    "start_time": "2023-06-27T16:55:53.693Z"
   },
   {
    "duration": 81,
    "start_time": "2023-06-27T16:57:43.862Z"
   },
   {
    "duration": 13,
    "start_time": "2023-06-27T16:57:47.591Z"
   },
   {
    "duration": 10,
    "start_time": "2023-06-27T16:58:21.247Z"
   },
   {
    "duration": 10,
    "start_time": "2023-06-27T16:58:44.324Z"
   },
   {
    "duration": 4,
    "start_time": "2023-06-27T16:59:10.504Z"
   },
   {
    "duration": 5,
    "start_time": "2023-06-27T16:59:55.602Z"
   },
   {
    "duration": 5,
    "start_time": "2023-06-27T17:00:31.806Z"
   },
   {
    "duration": 5,
    "start_time": "2023-06-27T17:04:09.427Z"
   },
   {
    "duration": 161,
    "start_time": "2023-06-27T17:38:04.227Z"
   },
   {
    "duration": 1847,
    "start_time": "2023-06-28T07:56:12.805Z"
   },
   {
    "duration": 459,
    "start_time": "2023-06-28T07:56:14.666Z"
   },
   {
    "duration": 14,
    "start_time": "2023-06-28T07:56:15.127Z"
   },
   {
    "duration": 10,
    "start_time": "2023-06-28T07:56:15.142Z"
   },
   {
    "duration": 20,
    "start_time": "2023-06-28T07:56:15.157Z"
   },
   {
    "duration": 35,
    "start_time": "2023-06-28T07:56:15.187Z"
   },
   {
    "duration": 34,
    "start_time": "2023-06-28T07:56:15.224Z"
   },
   {
    "duration": 53,
    "start_time": "2023-06-28T07:56:15.262Z"
   },
   {
    "duration": 3,
    "start_time": "2023-06-28T07:56:15.318Z"
   },
   {
    "duration": 9,
    "start_time": "2023-06-28T07:56:15.323Z"
   },
   {
    "duration": 24,
    "start_time": "2023-06-28T07:56:15.334Z"
   },
   {
    "duration": 19,
    "start_time": "2023-06-28T07:56:15.361Z"
   },
   {
    "duration": 40,
    "start_time": "2023-06-28T07:56:15.382Z"
   },
   {
    "duration": 60,
    "start_time": "2023-06-28T07:56:15.426Z"
   },
   {
    "duration": 321,
    "start_time": "2023-06-28T07:56:15.493Z"
   },
   {
    "duration": 219,
    "start_time": "2023-06-28T07:56:15.817Z"
   },
   {
    "duration": 285,
    "start_time": "2023-06-28T07:56:16.038Z"
   },
   {
    "duration": 294,
    "start_time": "2023-06-28T07:56:16.327Z"
   },
   {
    "duration": 9,
    "start_time": "2023-06-28T07:56:16.625Z"
   },
   {
    "duration": 305,
    "start_time": "2023-06-28T07:56:16.636Z"
   },
   {
    "duration": 8,
    "start_time": "2023-06-28T07:56:16.943Z"
   },
   {
    "duration": 61,
    "start_time": "2023-06-28T07:56:16.952Z"
   },
   {
    "duration": 10,
    "start_time": "2023-06-28T07:56:17.016Z"
   },
   {
    "duration": 8,
    "start_time": "2023-06-28T07:56:17.028Z"
   },
   {
    "duration": 395,
    "start_time": "2023-06-28T07:56:17.038Z"
   },
   {
    "duration": 415,
    "start_time": "2023-06-28T07:56:17.435Z"
   },
   {
    "duration": 199,
    "start_time": "2023-06-28T07:56:17.852Z"
   },
   {
    "duration": 285,
    "start_time": "2023-06-28T07:56:18.053Z"
   },
   {
    "duration": 16,
    "start_time": "2023-06-28T07:56:18.339Z"
   },
   {
    "duration": 52,
    "start_time": "2023-06-28T07:56:18.361Z"
   },
   {
    "duration": 332,
    "start_time": "2023-06-28T07:56:18.415Z"
   },
   {
    "duration": 46,
    "start_time": "2023-06-28T07:56:18.748Z"
   },
   {
    "duration": 20,
    "start_time": "2023-06-28T07:56:18.796Z"
   },
   {
    "duration": 9,
    "start_time": "2023-06-28T07:56:18.818Z"
   },
   {
    "duration": 9,
    "start_time": "2023-06-28T07:56:18.829Z"
   },
   {
    "duration": 247,
    "start_time": "2023-06-28T07:56:18.840Z"
   },
   {
    "duration": 16,
    "start_time": "2023-06-28T07:56:19.097Z"
   },
   {
    "duration": 8,
    "start_time": "2023-06-28T07:56:19.114Z"
   },
   {
    "duration": 189,
    "start_time": "2023-06-28T07:58:46.452Z"
   },
   {
    "duration": 125,
    "start_time": "2023-06-28T07:58:54.934Z"
   },
   {
    "duration": 170,
    "start_time": "2023-06-28T07:59:01.277Z"
   },
   {
    "duration": 248,
    "start_time": "2023-06-28T08:00:07.412Z"
   },
   {
    "duration": 187,
    "start_time": "2023-06-28T08:03:52.314Z"
   },
   {
    "duration": 146,
    "start_time": "2023-06-28T08:06:19.385Z"
   },
   {
    "duration": 193,
    "start_time": "2023-06-28T08:11:34.682Z"
   },
   {
    "duration": 184,
    "start_time": "2023-06-28T08:11:42.322Z"
   },
   {
    "duration": 778,
    "start_time": "2023-06-28T08:57:22.065Z"
   },
   {
    "duration": 877,
    "start_time": "2023-06-28T08:57:46.328Z"
   },
   {
    "duration": 200,
    "start_time": "2023-06-28T08:58:11.157Z"
   },
   {
    "duration": 16,
    "start_time": "2023-06-28T08:58:13.416Z"
   },
   {
    "duration": 8,
    "start_time": "2023-06-28T08:58:15.617Z"
   },
   {
    "duration": 9,
    "start_time": "2023-06-28T08:58:18.649Z"
   },
   {
    "duration": 24,
    "start_time": "2023-06-28T08:58:21.294Z"
   },
   {
    "duration": 23,
    "start_time": "2023-06-28T08:58:24.713Z"
   },
   {
    "duration": 8,
    "start_time": "2023-06-28T08:58:28.902Z"
   },
   {
    "duration": 24,
    "start_time": "2023-06-28T08:58:31.721Z"
   },
   {
    "duration": 28,
    "start_time": "2023-06-28T08:58:34.363Z"
   },
   {
    "duration": 26,
    "start_time": "2023-06-28T08:58:36.922Z"
   },
   {
    "duration": 2,
    "start_time": "2023-06-28T08:58:39.818Z"
   },
   {
    "duration": 8,
    "start_time": "2023-06-28T08:58:42.726Z"
   },
   {
    "duration": 13,
    "start_time": "2023-06-28T08:58:45.539Z"
   },
   {
    "duration": 7,
    "start_time": "2023-06-28T08:58:48.906Z"
   },
   {
    "duration": 20,
    "start_time": "2023-06-28T08:58:53.313Z"
   },
   {
    "duration": 9,
    "start_time": "2023-06-28T08:58:57.800Z"
   },
   {
    "duration": 182,
    "start_time": "2023-06-28T08:59:09.920Z"
   },
   {
    "duration": 175,
    "start_time": "2023-06-28T08:59:19.732Z"
   },
   {
    "duration": 167,
    "start_time": "2023-06-28T08:59:40.376Z"
   },
   {
    "duration": 199,
    "start_time": "2023-06-28T08:59:54.666Z"
   },
   {
    "duration": 187,
    "start_time": "2023-06-28T09:00:02.049Z"
   },
   {
    "duration": 8,
    "start_time": "2023-06-28T09:00:04.875Z"
   },
   {
    "duration": 200,
    "start_time": "2023-06-28T09:00:07.110Z"
   },
   {
    "duration": 9,
    "start_time": "2023-06-28T09:00:09.816Z"
   },
   {
    "duration": 34,
    "start_time": "2023-06-28T09:00:13.622Z"
   },
   {
    "duration": 14,
    "start_time": "2023-06-28T09:00:16.516Z"
   },
   {
    "duration": 279,
    "start_time": "2023-06-28T09:00:25.452Z"
   },
   {
    "duration": 122,
    "start_time": "2023-06-28T09:00:28.716Z"
   },
   {
    "duration": 17,
    "start_time": "2023-06-28T09:00:33.373Z"
   },
   {
    "duration": 27,
    "start_time": "2023-06-28T09:00:36.768Z"
   },
   {
    "duration": 254,
    "start_time": "2023-06-28T09:00:39.428Z"
   },
   {
    "duration": 13,
    "start_time": "2023-06-28T09:00:45.532Z"
   },
   {
    "duration": 11,
    "start_time": "2023-06-28T09:01:07.204Z"
   },
   {
    "duration": 9,
    "start_time": "2023-06-28T09:01:23.503Z"
   },
   {
    "duration": 11,
    "start_time": "2023-06-28T09:01:39.806Z"
   },
   {
    "duration": 9,
    "start_time": "2023-06-28T09:01:51.099Z"
   },
   {
    "duration": 146,
    "start_time": "2023-06-28T09:02:21.538Z"
   },
   {
    "duration": 352,
    "start_time": "2023-06-28T09:06:33.628Z"
   },
   {
    "duration": 239,
    "start_time": "2023-06-28T09:07:28.365Z"
   },
   {
    "duration": 140,
    "start_time": "2023-06-28T09:08:41.914Z"
   },
   {
    "duration": 12,
    "start_time": "2023-06-28T09:09:19.268Z"
   },
   {
    "duration": 158,
    "start_time": "2023-06-28T09:09:23.349Z"
   },
   {
    "duration": 143,
    "start_time": "2023-06-28T09:09:40.164Z"
   },
   {
    "duration": 143,
    "start_time": "2023-06-28T09:10:10.758Z"
   },
   {
    "duration": 273,
    "start_time": "2023-06-28T09:12:55.339Z"
   },
   {
    "duration": 296,
    "start_time": "2023-06-28T09:13:04.207Z"
   },
   {
    "duration": 292,
    "start_time": "2023-06-28T09:23:29.854Z"
   },
   {
    "duration": 398,
    "start_time": "2023-06-28T09:27:50.367Z"
   },
   {
    "duration": 307,
    "start_time": "2023-06-28T09:28:09.373Z"
   },
   {
    "duration": 277,
    "start_time": "2023-06-28T09:28:44.394Z"
   },
   {
    "duration": 271,
    "start_time": "2023-06-28T09:35:57.796Z"
   },
   {
    "duration": 2946,
    "start_time": "2023-06-28T09:39:33.666Z"
   }
  ],
  "kernelspec": {
   "display_name": "Python 3 (ipykernel)",
   "language": "python",
   "name": "python3"
  },
  "language_info": {
   "codemirror_mode": {
    "name": "ipython",
    "version": 3
   },
   "file_extension": ".py",
   "mimetype": "text/x-python",
   "name": "python",
   "nbconvert_exporter": "python",
   "pygments_lexer": "ipython3",
   "version": "3.9.13"
  },
  "toc": {
   "base_numbering": 1,
   "nav_menu": {},
   "number_sections": true,
   "sideBar": true,
   "skip_h1_title": true,
   "title_cell": "Table of Contents",
   "title_sidebar": "Contents",
   "toc_cell": false,
   "toc_position": {
    "height": "calc(100% - 180px)",
    "left": "10px",
    "top": "150px",
    "width": "302.4px"
   },
   "toc_section_display": true,
   "toc_window_display": true
  }
 },
 "nbformat": 4,
 "nbformat_minor": 5
}
