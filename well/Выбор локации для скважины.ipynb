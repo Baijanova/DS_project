{
 "cells": [
  {
   "cell_type": "markdown",
   "metadata": {},
   "source": [
    "# Выбор локации для скважины"
   ]
  },
  {
   "cell_type": "markdown",
   "metadata": {},
   "source": [
    "Допустим, вы работаете в добывающей компании «ГлавРосГосНефть». Нужно решить, где бурить новую скважину.\n",
    "\n",
    "Вам предоставлены пробы нефти в трёх регионах: в каждом 10 000 месторождений, где измерили качество нефти и объём её запасов. Постройте модель машинного обучения, которая поможет определить регион, где добыча принесёт наибольшую прибыль. Проанализируйте возможную прибыль и риски техникой *Bootstrap.*\n",
    "\n",
    "Шаги для выбора локации:\n",
    "\n",
    "- В избранном регионе ищут месторождения, для каждого определяют значения признаков;\n",
    "- Строят модель и оценивают объём запасов;\n",
    "- Выбирают месторождения с самым высокими оценками значений. Количество месторождений зависит от бюджета компании и стоимости разработки одной скважины;\n",
    "- Прибыль равна суммарной прибыли отобранных месторождений."
   ]
  },
  {
   "cell_type": "markdown",
   "metadata": {},
   "source": [
    "## Загрузка и подготовка данных"
   ]
  },
  {
   "cell_type": "code",
   "execution_count": 1,
   "metadata": {},
   "outputs": [],
   "source": [
    "import pandas as pd\n",
    "import numpy as np\n",
    "from sklearn.model_selection import train_test_split\n",
    "from sklearn.linear_model import LinearRegression\n",
    "from sklearn.metrics import mean_squared_error\n",
    "import seaborn as sns\n",
    "import matplotlib.pyplot as plt"
   ]
  },
  {
   "cell_type": "code",
   "execution_count": 2,
   "metadata": {},
   "outputs": [],
   "source": [
    "data_0 = pd.read_csv('/datasets/geo_data_0.csv')\n",
    "data_1 = pd.read_csv('/datasets/geo_data_1.csv')\n",
    "data_2 = pd.read_csv('/datasets/geo_data_2.csv')"
   ]
  },
  {
   "cell_type": "code",
   "execution_count": 3,
   "metadata": {},
   "outputs": [
    {
     "data": {
      "text/html": [
       "<div>\n",
       "<style scoped>\n",
       "    .dataframe tbody tr th:only-of-type {\n",
       "        vertical-align: middle;\n",
       "    }\n",
       "\n",
       "    .dataframe tbody tr th {\n",
       "        vertical-align: top;\n",
       "    }\n",
       "\n",
       "    .dataframe thead th {\n",
       "        text-align: right;\n",
       "    }\n",
       "</style>\n",
       "<table border=\"1\" class=\"dataframe\">\n",
       "  <thead>\n",
       "    <tr style=\"text-align: right;\">\n",
       "      <th></th>\n",
       "      <th>id</th>\n",
       "      <th>f0</th>\n",
       "      <th>f1</th>\n",
       "      <th>f2</th>\n",
       "      <th>product</th>\n",
       "    </tr>\n",
       "  </thead>\n",
       "  <tbody>\n",
       "    <tr>\n",
       "      <th>0</th>\n",
       "      <td>txEyH</td>\n",
       "      <td>0.705745</td>\n",
       "      <td>-0.497823</td>\n",
       "      <td>1.221170</td>\n",
       "      <td>105.280062</td>\n",
       "    </tr>\n",
       "    <tr>\n",
       "      <th>1</th>\n",
       "      <td>2acmU</td>\n",
       "      <td>1.334711</td>\n",
       "      <td>-0.340164</td>\n",
       "      <td>4.365080</td>\n",
       "      <td>73.037750</td>\n",
       "    </tr>\n",
       "    <tr>\n",
       "      <th>2</th>\n",
       "      <td>409Wp</td>\n",
       "      <td>1.022732</td>\n",
       "      <td>0.151990</td>\n",
       "      <td>1.419926</td>\n",
       "      <td>85.265647</td>\n",
       "    </tr>\n",
       "    <tr>\n",
       "      <th>3</th>\n",
       "      <td>iJLyR</td>\n",
       "      <td>-0.032172</td>\n",
       "      <td>0.139033</td>\n",
       "      <td>2.978566</td>\n",
       "      <td>168.620776</td>\n",
       "    </tr>\n",
       "    <tr>\n",
       "      <th>4</th>\n",
       "      <td>Xdl7t</td>\n",
       "      <td>1.988431</td>\n",
       "      <td>0.155413</td>\n",
       "      <td>4.751769</td>\n",
       "      <td>154.036647</td>\n",
       "    </tr>\n",
       "  </tbody>\n",
       "</table>\n",
       "</div>"
      ],
      "text/plain": [
       "      id        f0        f1        f2     product\n",
       "0  txEyH  0.705745 -0.497823  1.221170  105.280062\n",
       "1  2acmU  1.334711 -0.340164  4.365080   73.037750\n",
       "2  409Wp  1.022732  0.151990  1.419926   85.265647\n",
       "3  iJLyR -0.032172  0.139033  2.978566  168.620776\n",
       "4  Xdl7t  1.988431  0.155413  4.751769  154.036647"
      ]
     },
     "metadata": {},
     "output_type": "display_data"
    },
    {
     "data": {
      "text/html": [
       "<div>\n",
       "<style scoped>\n",
       "    .dataframe tbody tr th:only-of-type {\n",
       "        vertical-align: middle;\n",
       "    }\n",
       "\n",
       "    .dataframe tbody tr th {\n",
       "        vertical-align: top;\n",
       "    }\n",
       "\n",
       "    .dataframe thead th {\n",
       "        text-align: right;\n",
       "    }\n",
       "</style>\n",
       "<table border=\"1\" class=\"dataframe\">\n",
       "  <thead>\n",
       "    <tr style=\"text-align: right;\">\n",
       "      <th></th>\n",
       "      <th>id</th>\n",
       "      <th>f0</th>\n",
       "      <th>f1</th>\n",
       "      <th>f2</th>\n",
       "      <th>product</th>\n",
       "    </tr>\n",
       "  </thead>\n",
       "  <tbody>\n",
       "    <tr>\n",
       "      <th>0</th>\n",
       "      <td>kBEdx</td>\n",
       "      <td>-15.001348</td>\n",
       "      <td>-8.276000</td>\n",
       "      <td>-0.005876</td>\n",
       "      <td>3.179103</td>\n",
       "    </tr>\n",
       "    <tr>\n",
       "      <th>1</th>\n",
       "      <td>62mP7</td>\n",
       "      <td>14.272088</td>\n",
       "      <td>-3.475083</td>\n",
       "      <td>0.999183</td>\n",
       "      <td>26.953261</td>\n",
       "    </tr>\n",
       "    <tr>\n",
       "      <th>2</th>\n",
       "      <td>vyE1P</td>\n",
       "      <td>6.263187</td>\n",
       "      <td>-5.948386</td>\n",
       "      <td>5.001160</td>\n",
       "      <td>134.766305</td>\n",
       "    </tr>\n",
       "    <tr>\n",
       "      <th>3</th>\n",
       "      <td>KcrkZ</td>\n",
       "      <td>-13.081196</td>\n",
       "      <td>-11.506057</td>\n",
       "      <td>4.999415</td>\n",
       "      <td>137.945408</td>\n",
       "    </tr>\n",
       "    <tr>\n",
       "      <th>4</th>\n",
       "      <td>AHL4O</td>\n",
       "      <td>12.702195</td>\n",
       "      <td>-8.147433</td>\n",
       "      <td>5.004363</td>\n",
       "      <td>134.766305</td>\n",
       "    </tr>\n",
       "  </tbody>\n",
       "</table>\n",
       "</div>"
      ],
      "text/plain": [
       "      id         f0         f1        f2     product\n",
       "0  kBEdx -15.001348  -8.276000 -0.005876    3.179103\n",
       "1  62mP7  14.272088  -3.475083  0.999183   26.953261\n",
       "2  vyE1P   6.263187  -5.948386  5.001160  134.766305\n",
       "3  KcrkZ -13.081196 -11.506057  4.999415  137.945408\n",
       "4  AHL4O  12.702195  -8.147433  5.004363  134.766305"
      ]
     },
     "metadata": {},
     "output_type": "display_data"
    },
    {
     "data": {
      "text/html": [
       "<div>\n",
       "<style scoped>\n",
       "    .dataframe tbody tr th:only-of-type {\n",
       "        vertical-align: middle;\n",
       "    }\n",
       "\n",
       "    .dataframe tbody tr th {\n",
       "        vertical-align: top;\n",
       "    }\n",
       "\n",
       "    .dataframe thead th {\n",
       "        text-align: right;\n",
       "    }\n",
       "</style>\n",
       "<table border=\"1\" class=\"dataframe\">\n",
       "  <thead>\n",
       "    <tr style=\"text-align: right;\">\n",
       "      <th></th>\n",
       "      <th>id</th>\n",
       "      <th>f0</th>\n",
       "      <th>f1</th>\n",
       "      <th>f2</th>\n",
       "      <th>product</th>\n",
       "    </tr>\n",
       "  </thead>\n",
       "  <tbody>\n",
       "    <tr>\n",
       "      <th>0</th>\n",
       "      <td>fwXo0</td>\n",
       "      <td>-1.146987</td>\n",
       "      <td>0.963328</td>\n",
       "      <td>-0.828965</td>\n",
       "      <td>27.758673</td>\n",
       "    </tr>\n",
       "    <tr>\n",
       "      <th>1</th>\n",
       "      <td>WJtFt</td>\n",
       "      <td>0.262778</td>\n",
       "      <td>0.269839</td>\n",
       "      <td>-2.530187</td>\n",
       "      <td>56.069697</td>\n",
       "    </tr>\n",
       "    <tr>\n",
       "      <th>2</th>\n",
       "      <td>ovLUW</td>\n",
       "      <td>0.194587</td>\n",
       "      <td>0.289035</td>\n",
       "      <td>-5.586433</td>\n",
       "      <td>62.871910</td>\n",
       "    </tr>\n",
       "    <tr>\n",
       "      <th>3</th>\n",
       "      <td>q6cA6</td>\n",
       "      <td>2.236060</td>\n",
       "      <td>-0.553760</td>\n",
       "      <td>0.930038</td>\n",
       "      <td>114.572842</td>\n",
       "    </tr>\n",
       "    <tr>\n",
       "      <th>4</th>\n",
       "      <td>WPMUX</td>\n",
       "      <td>-0.515993</td>\n",
       "      <td>1.716266</td>\n",
       "      <td>5.899011</td>\n",
       "      <td>149.600746</td>\n",
       "    </tr>\n",
       "  </tbody>\n",
       "</table>\n",
       "</div>"
      ],
      "text/plain": [
       "      id        f0        f1        f2     product\n",
       "0  fwXo0 -1.146987  0.963328 -0.828965   27.758673\n",
       "1  WJtFt  0.262778  0.269839 -2.530187   56.069697\n",
       "2  ovLUW  0.194587  0.289035 -5.586433   62.871910\n",
       "3  q6cA6  2.236060 -0.553760  0.930038  114.572842\n",
       "4  WPMUX -0.515993  1.716266  5.899011  149.600746"
      ]
     },
     "metadata": {},
     "output_type": "display_data"
    }
   ],
   "source": [
    "display(data_0.head())\n",
    "display(data_1.head())\n",
    "display(data_2.head())"
   ]
  },
  {
   "cell_type": "code",
   "execution_count": 4,
   "metadata": {
    "scrolled": true
   },
   "outputs": [
    {
     "data": {
      "text/plain": [
       "'Количество дубликатов:'"
      ]
     },
     "metadata": {},
     "output_type": "display_data"
    },
    {
     "data": {
      "text/plain": [
       "0"
      ]
     },
     "metadata": {},
     "output_type": "display_data"
    },
    {
     "data": {
      "text/plain": [
       "'Количество дубликатов:'"
      ]
     },
     "metadata": {},
     "output_type": "display_data"
    },
    {
     "data": {
      "text/plain": [
       "0"
      ]
     },
     "metadata": {},
     "output_type": "display_data"
    },
    {
     "data": {
      "text/plain": [
       "'Количество дубликатов:'"
      ]
     },
     "metadata": {},
     "output_type": "display_data"
    },
    {
     "data": {
      "text/plain": [
       "0"
      ]
     },
     "metadata": {},
     "output_type": "display_data"
    }
   ],
   "source": [
    "display(\"Количество дубликатов:\", data_0.duplicated().sum())\n",
    "display(\"Количество дубликатов:\", data_1.duplicated().sum())\n",
    "display(\"Количество дубликатов:\", data_2.duplicated().sum())"
   ]
  },
  {
   "cell_type": "code",
   "execution_count": 5,
   "metadata": {},
   "outputs": [
    {
     "name": "stdout",
     "output_type": "stream",
     "text": [
      "<class 'pandas.core.frame.DataFrame'>\n",
      "RangeIndex: 100000 entries, 0 to 99999\n",
      "Data columns (total 5 columns):\n",
      " #   Column   Non-Null Count   Dtype  \n",
      "---  ------   --------------   -----  \n",
      " 0   id       100000 non-null  object \n",
      " 1   f0       100000 non-null  float64\n",
      " 2   f1       100000 non-null  float64\n",
      " 3   f2       100000 non-null  float64\n",
      " 4   product  100000 non-null  float64\n",
      "dtypes: float64(4), object(1)\n",
      "memory usage: 3.8+ MB\n"
     ]
    },
    {
     "data": {
      "text/plain": [
       "None"
      ]
     },
     "metadata": {},
     "output_type": "display_data"
    },
    {
     "name": "stdout",
     "output_type": "stream",
     "text": [
      "<class 'pandas.core.frame.DataFrame'>\n",
      "RangeIndex: 100000 entries, 0 to 99999\n",
      "Data columns (total 5 columns):\n",
      " #   Column   Non-Null Count   Dtype  \n",
      "---  ------   --------------   -----  \n",
      " 0   id       100000 non-null  object \n",
      " 1   f0       100000 non-null  float64\n",
      " 2   f1       100000 non-null  float64\n",
      " 3   f2       100000 non-null  float64\n",
      " 4   product  100000 non-null  float64\n",
      "dtypes: float64(4), object(1)\n",
      "memory usage: 3.8+ MB\n"
     ]
    },
    {
     "data": {
      "text/plain": [
       "None"
      ]
     },
     "metadata": {},
     "output_type": "display_data"
    },
    {
     "name": "stdout",
     "output_type": "stream",
     "text": [
      "<class 'pandas.core.frame.DataFrame'>\n",
      "RangeIndex: 100000 entries, 0 to 99999\n",
      "Data columns (total 5 columns):\n",
      " #   Column   Non-Null Count   Dtype  \n",
      "---  ------   --------------   -----  \n",
      " 0   id       100000 non-null  object \n",
      " 1   f0       100000 non-null  float64\n",
      " 2   f1       100000 non-null  float64\n",
      " 3   f2       100000 non-null  float64\n",
      " 4   product  100000 non-null  float64\n",
      "dtypes: float64(4), object(1)\n",
      "memory usage: 3.8+ MB\n"
     ]
    },
    {
     "data": {
      "text/plain": [
       "None"
      ]
     },
     "metadata": {},
     "output_type": "display_data"
    }
   ],
   "source": [
    "display(data_0.info())\n",
    "display(data_1.info())\n",
    "display(data_2.info())"
   ]
  },
  {
   "cell_type": "code",
   "execution_count": 6,
   "metadata": {
    "scrolled": true
   },
   "outputs": [
    {
     "data": {
      "text/html": [
       "<div>\n",
       "<style scoped>\n",
       "    .dataframe tbody tr th:only-of-type {\n",
       "        vertical-align: middle;\n",
       "    }\n",
       "\n",
       "    .dataframe tbody tr th {\n",
       "        vertical-align: top;\n",
       "    }\n",
       "\n",
       "    .dataframe thead th {\n",
       "        text-align: right;\n",
       "    }\n",
       "</style>\n",
       "<table border=\"1\" class=\"dataframe\">\n",
       "  <thead>\n",
       "    <tr style=\"text-align: right;\">\n",
       "      <th></th>\n",
       "      <th>f0</th>\n",
       "      <th>f1</th>\n",
       "      <th>f2</th>\n",
       "      <th>product</th>\n",
       "    </tr>\n",
       "  </thead>\n",
       "  <tbody>\n",
       "    <tr>\n",
       "      <th>count</th>\n",
       "      <td>100000.000000</td>\n",
       "      <td>100000.000000</td>\n",
       "      <td>100000.000000</td>\n",
       "      <td>100000.000000</td>\n",
       "    </tr>\n",
       "    <tr>\n",
       "      <th>mean</th>\n",
       "      <td>0.500419</td>\n",
       "      <td>0.250143</td>\n",
       "      <td>2.502647</td>\n",
       "      <td>92.500000</td>\n",
       "    </tr>\n",
       "    <tr>\n",
       "      <th>std</th>\n",
       "      <td>0.871832</td>\n",
       "      <td>0.504433</td>\n",
       "      <td>3.248248</td>\n",
       "      <td>44.288691</td>\n",
       "    </tr>\n",
       "    <tr>\n",
       "      <th>min</th>\n",
       "      <td>-1.408605</td>\n",
       "      <td>-0.848218</td>\n",
       "      <td>-12.088328</td>\n",
       "      <td>0.000000</td>\n",
       "    </tr>\n",
       "    <tr>\n",
       "      <th>25%</th>\n",
       "      <td>-0.072580</td>\n",
       "      <td>-0.200881</td>\n",
       "      <td>0.287748</td>\n",
       "      <td>56.497507</td>\n",
       "    </tr>\n",
       "    <tr>\n",
       "      <th>50%</th>\n",
       "      <td>0.502360</td>\n",
       "      <td>0.250252</td>\n",
       "      <td>2.515969</td>\n",
       "      <td>91.849972</td>\n",
       "    </tr>\n",
       "    <tr>\n",
       "      <th>75%</th>\n",
       "      <td>1.073581</td>\n",
       "      <td>0.700646</td>\n",
       "      <td>4.715088</td>\n",
       "      <td>128.564089</td>\n",
       "    </tr>\n",
       "    <tr>\n",
       "      <th>max</th>\n",
       "      <td>2.362331</td>\n",
       "      <td>1.343769</td>\n",
       "      <td>16.003790</td>\n",
       "      <td>185.364347</td>\n",
       "    </tr>\n",
       "  </tbody>\n",
       "</table>\n",
       "</div>"
      ],
      "text/plain": [
       "                  f0             f1             f2        product\n",
       "count  100000.000000  100000.000000  100000.000000  100000.000000\n",
       "mean        0.500419       0.250143       2.502647      92.500000\n",
       "std         0.871832       0.504433       3.248248      44.288691\n",
       "min        -1.408605      -0.848218     -12.088328       0.000000\n",
       "25%        -0.072580      -0.200881       0.287748      56.497507\n",
       "50%         0.502360       0.250252       2.515969      91.849972\n",
       "75%         1.073581       0.700646       4.715088     128.564089\n",
       "max         2.362331       1.343769      16.003790     185.364347"
      ]
     },
     "metadata": {},
     "output_type": "display_data"
    },
    {
     "data": {
      "text/html": [
       "<div>\n",
       "<style scoped>\n",
       "    .dataframe tbody tr th:only-of-type {\n",
       "        vertical-align: middle;\n",
       "    }\n",
       "\n",
       "    .dataframe tbody tr th {\n",
       "        vertical-align: top;\n",
       "    }\n",
       "\n",
       "    .dataframe thead th {\n",
       "        text-align: right;\n",
       "    }\n",
       "</style>\n",
       "<table border=\"1\" class=\"dataframe\">\n",
       "  <thead>\n",
       "    <tr style=\"text-align: right;\">\n",
       "      <th></th>\n",
       "      <th>f0</th>\n",
       "      <th>f1</th>\n",
       "      <th>f2</th>\n",
       "      <th>product</th>\n",
       "    </tr>\n",
       "  </thead>\n",
       "  <tbody>\n",
       "    <tr>\n",
       "      <th>count</th>\n",
       "      <td>100000.000000</td>\n",
       "      <td>100000.000000</td>\n",
       "      <td>100000.000000</td>\n",
       "      <td>100000.000000</td>\n",
       "    </tr>\n",
       "    <tr>\n",
       "      <th>mean</th>\n",
       "      <td>1.141296</td>\n",
       "      <td>-4.796579</td>\n",
       "      <td>2.494541</td>\n",
       "      <td>68.825000</td>\n",
       "    </tr>\n",
       "    <tr>\n",
       "      <th>std</th>\n",
       "      <td>8.965932</td>\n",
       "      <td>5.119872</td>\n",
       "      <td>1.703572</td>\n",
       "      <td>45.944423</td>\n",
       "    </tr>\n",
       "    <tr>\n",
       "      <th>min</th>\n",
       "      <td>-31.609576</td>\n",
       "      <td>-26.358598</td>\n",
       "      <td>-0.018144</td>\n",
       "      <td>0.000000</td>\n",
       "    </tr>\n",
       "    <tr>\n",
       "      <th>25%</th>\n",
       "      <td>-6.298551</td>\n",
       "      <td>-8.267985</td>\n",
       "      <td>1.000021</td>\n",
       "      <td>26.953261</td>\n",
       "    </tr>\n",
       "    <tr>\n",
       "      <th>50%</th>\n",
       "      <td>1.153055</td>\n",
       "      <td>-4.813172</td>\n",
       "      <td>2.011479</td>\n",
       "      <td>57.085625</td>\n",
       "    </tr>\n",
       "    <tr>\n",
       "      <th>75%</th>\n",
       "      <td>8.621015</td>\n",
       "      <td>-1.332816</td>\n",
       "      <td>3.999904</td>\n",
       "      <td>107.813044</td>\n",
       "    </tr>\n",
       "    <tr>\n",
       "      <th>max</th>\n",
       "      <td>29.421755</td>\n",
       "      <td>18.734063</td>\n",
       "      <td>5.019721</td>\n",
       "      <td>137.945408</td>\n",
       "    </tr>\n",
       "  </tbody>\n",
       "</table>\n",
       "</div>"
      ],
      "text/plain": [
       "                  f0             f1             f2        product\n",
       "count  100000.000000  100000.000000  100000.000000  100000.000000\n",
       "mean        1.141296      -4.796579       2.494541      68.825000\n",
       "std         8.965932       5.119872       1.703572      45.944423\n",
       "min       -31.609576     -26.358598      -0.018144       0.000000\n",
       "25%        -6.298551      -8.267985       1.000021      26.953261\n",
       "50%         1.153055      -4.813172       2.011479      57.085625\n",
       "75%         8.621015      -1.332816       3.999904     107.813044\n",
       "max        29.421755      18.734063       5.019721     137.945408"
      ]
     },
     "metadata": {},
     "output_type": "display_data"
    },
    {
     "data": {
      "text/html": [
       "<div>\n",
       "<style scoped>\n",
       "    .dataframe tbody tr th:only-of-type {\n",
       "        vertical-align: middle;\n",
       "    }\n",
       "\n",
       "    .dataframe tbody tr th {\n",
       "        vertical-align: top;\n",
       "    }\n",
       "\n",
       "    .dataframe thead th {\n",
       "        text-align: right;\n",
       "    }\n",
       "</style>\n",
       "<table border=\"1\" class=\"dataframe\">\n",
       "  <thead>\n",
       "    <tr style=\"text-align: right;\">\n",
       "      <th></th>\n",
       "      <th>f0</th>\n",
       "      <th>f1</th>\n",
       "      <th>f2</th>\n",
       "      <th>product</th>\n",
       "    </tr>\n",
       "  </thead>\n",
       "  <tbody>\n",
       "    <tr>\n",
       "      <th>count</th>\n",
       "      <td>100000.000000</td>\n",
       "      <td>100000.000000</td>\n",
       "      <td>100000.000000</td>\n",
       "      <td>100000.000000</td>\n",
       "    </tr>\n",
       "    <tr>\n",
       "      <th>mean</th>\n",
       "      <td>0.002023</td>\n",
       "      <td>-0.002081</td>\n",
       "      <td>2.495128</td>\n",
       "      <td>95.000000</td>\n",
       "    </tr>\n",
       "    <tr>\n",
       "      <th>std</th>\n",
       "      <td>1.732045</td>\n",
       "      <td>1.730417</td>\n",
       "      <td>3.473445</td>\n",
       "      <td>44.749921</td>\n",
       "    </tr>\n",
       "    <tr>\n",
       "      <th>min</th>\n",
       "      <td>-8.760004</td>\n",
       "      <td>-7.084020</td>\n",
       "      <td>-11.970335</td>\n",
       "      <td>0.000000</td>\n",
       "    </tr>\n",
       "    <tr>\n",
       "      <th>25%</th>\n",
       "      <td>-1.162288</td>\n",
       "      <td>-1.174820</td>\n",
       "      <td>0.130359</td>\n",
       "      <td>59.450441</td>\n",
       "    </tr>\n",
       "    <tr>\n",
       "      <th>50%</th>\n",
       "      <td>0.009424</td>\n",
       "      <td>-0.009482</td>\n",
       "      <td>2.484236</td>\n",
       "      <td>94.925613</td>\n",
       "    </tr>\n",
       "    <tr>\n",
       "      <th>75%</th>\n",
       "      <td>1.158535</td>\n",
       "      <td>1.163678</td>\n",
       "      <td>4.858794</td>\n",
       "      <td>130.595027</td>\n",
       "    </tr>\n",
       "    <tr>\n",
       "      <th>max</th>\n",
       "      <td>7.238262</td>\n",
       "      <td>7.844801</td>\n",
       "      <td>16.739402</td>\n",
       "      <td>190.029838</td>\n",
       "    </tr>\n",
       "  </tbody>\n",
       "</table>\n",
       "</div>"
      ],
      "text/plain": [
       "                  f0             f1             f2        product\n",
       "count  100000.000000  100000.000000  100000.000000  100000.000000\n",
       "mean        0.002023      -0.002081       2.495128      95.000000\n",
       "std         1.732045       1.730417       3.473445      44.749921\n",
       "min        -8.760004      -7.084020     -11.970335       0.000000\n",
       "25%        -1.162288      -1.174820       0.130359      59.450441\n",
       "50%         0.009424      -0.009482       2.484236      94.925613\n",
       "75%         1.158535       1.163678       4.858794     130.595027\n",
       "max         7.238262       7.844801      16.739402     190.029838"
      ]
     },
     "metadata": {},
     "output_type": "display_data"
    }
   ],
   "source": [
    "display(data_0.describe())\n",
    "display(data_1.describe())\n",
    "display(data_2.describe())"
   ]
  },
  {
   "cell_type": "code",
   "execution_count": 7,
   "metadata": {},
   "outputs": [],
   "source": [
    "data = (data_0, data_1, data_2)"
   ]
  },
  {
   "cell_type": "code",
   "execution_count": 8,
   "metadata": {},
   "outputs": [
    {
     "name": "stdout",
     "output_type": "stream",
     "text": [
      "Уникальные id 1: False\n",
      "Уникальные id 2: False\n",
      "Уникальные id 3: False\n"
     ]
    }
   ],
   "source": [
    "for idx, df in enumerate(data):\n",
    "    unique_ids = df['id'].unique()\n",
    "    unique_check = unique_ids.shape[0] == df.shape[0]\n",
    "    print(f'Уникальные id {idx + 1}: {unique_check}')"
   ]
  },
  {
   "cell_type": "code",
   "execution_count": 9,
   "metadata": {},
   "outputs": [],
   "source": [
    "for df in data:\n",
    "    df.drop('id', axis=1, inplace=True)"
   ]
  },
  {
   "cell_type": "code",
   "execution_count": 10,
   "metadata": {},
   "outputs": [
    {
     "data": {
      "image/png": "[encoded data removed]",
      "text/plain": [
       "<Figure size 576x432 with 2 Axes>"
      ]
     },
     "metadata": {
      "needs_background": "light"
     },
     "output_type": "display_data"
    },
    {
     "data": {
      "image/png": "[encoded data removed]",
      "text/plain": [
       "<Figure size 576x432 with 2 Axes>"
      ]
     },
     "metadata": {
      "needs_background": "light"
     },
     "output_type": "display_data"
    },
    {
     "data": {
      "image/png": "[encoded data removed]",
      "text/plain": [
       "<Figure size 576x432 with 2 Axes>"
      ]
     },
     "metadata": {
      "needs_background": "light"
     },
     "output_type": "display_data"
    }
   ],
   "source": [
    "for idx, df in enumerate(data):\n",
    "    corr_matrix = df.corr()\n",
    "    plt.figure(figsize=(8, 6))\n",
    "    sns.heatmap(corr_matrix, annot=True, cmap='coolwarm', center=0)\n",
    "    plt.title(f\" Dataset {idx + 1}\")\n",
    "    plt.show()"
   ]
  },
  {
   "cell_type": "markdown",
   "metadata": {},
   "source": [
    "**Выводы:**\n",
    "Выполнила необходимые действия по подготовке данных для решения задачи предсказания оттока клиентов.\n",
    "\n",
    "- Все столбцы имеют соответствующий тип данных\n",
    "- В данных не было выявлено пропущенных значений\n",
    "- Удалила ненужные признаки, которые не нужны для дальнейшего анализа\n",
    "- Аномальные значения не выявлены\n",
    "- На основе матрицы корреляций можно сделать следующие выводы:Столбцы f0, f1 и f2 во всех трех наборах данных слабо коррелируют между собой. Корреляция между признаками и целевой переменной product довольно низкая.\n",
    "\n",
    "Данные готовы для дальнейшего анализа и исследовании."
   ]
  },
  {
   "cell_type": "markdown",
   "metadata": {},
   "source": [
    "## Обучение и проверка модели"
   ]
  },
  {
   "cell_type": "markdown",
   "metadata": {},
   "source": [
    "### Разбейте данные на обучающую и валидационную выборки в соотношении 75:25."
   ]
  },
  {
   "cell_type": "code",
   "execution_count": 11,
   "metadata": {},
   "outputs": [],
   "source": [
    "region_predictions = {}\n",
    "for idx, df in enumerate(data):\n",
    "    features = df.drop('product', axis=1)\n",
    "    target = df['product']\n",
    "    \n",
    "    features_train, features_valid, target_train, target_valid = train_test_split(\n",
    "        features, target, test_size=0.25, random_state=12345)\n",
    "    \n",
    "    region_predictions[idx] = {\n",
    "        'features_train': features_train,\n",
    "        'features_valid': features_valid,\n",
    "        'target_train': target_train,\n",
    "        'target_valid': target_valid\n",
    "    }"
   ]
  },
  {
   "cell_type": "markdown",
   "metadata": {},
   "source": [
    "### Обучите модель и сделайте предсказания на валидационной выборке."
   ]
  },
  {
   "cell_type": "code",
   "execution_count": 12,
   "metadata": {},
   "outputs": [],
   "source": [
    "for idx, df in enumerate(data):\n",
    "    features_train = region_predictions[idx]['features_train']\n",
    "    target_train = region_predictions[idx]['target_train']\n",
    "    features_valid = region_predictions[idx]['features_valid']\n",
    "    \n",
    "    model = LinearRegression()\n",
    "    model.fit(features_train, target_train)\n",
    "    predictions_valid = model.predict(features_valid)\n",
    "    \n",
    "    region_predictions[idx]['predictions_valid'] = predictions_valid"
   ]
  },
  {
   "cell_type": "markdown",
   "metadata": {},
   "source": [
    "### Сохраните предсказания и правильные ответы на валидационной выборке."
   ]
  },
  {
   "cell_type": "code",
   "execution_count": 13,
   "metadata": {},
   "outputs": [],
   "source": [
    "for idx, df in enumerate(data):\n",
    "    target_valid = region_predictions[idx]['target_valid']\n",
    "    predictions_valid = region_predictions[idx]['predictions_valid']\n",
    "    \n",
    "    region_predictions[idx]['target_valid'] = target_valid\n",
    "    region_predictions[idx]['predictions_valid'] = predictions_valid\n",
    "    \n",
    "    mean_predicted_product = predictions_valid.mean()\n",
    "    rmse = mean_squared_error(target_valid, predictions_valid, squared=False)\n",
    "    \n",
    "    region_predictions[idx]['mean_predicted_product'] = mean_predicted_product\n",
    "    region_predictions[idx]['rmse'] = rmse"
   ]
  },
  {
   "cell_type": "markdown",
   "metadata": {},
   "source": [
    "### Напечатайте на экране средний запас предсказанного сырья и RMSE модели."
   ]
  },
  {
   "cell_type": "code",
   "execution_count": 14,
   "metadata": {
    "scrolled": false
   },
   "outputs": [
    {
     "name": "stdout",
     "output_type": "stream",
     "text": [
      "Для региона 1:\n",
      "Средний запас предсказанного сырья: 92.59\n",
      "RMSE модели: 37.58\n",
      "\n",
      "Для региона 2:\n",
      "Средний запас предсказанного сырья: 68.73\n",
      "RMSE модели: 0.89\n",
      "\n",
      "Для региона 3:\n",
      "Средний запас предсказанного сырья: 94.97\n",
      "RMSE модели: 40.03\n",
      "\n"
     ]
    }
   ],
   "source": [
    "for idx, df in enumerate(data):\n",
    "    print(f\"Для региона {idx + 1}:\")\n",
    "    print(f\"Средний запас предсказанного сырья: {region_predictions[idx]['mean_predicted_product']:.2f}\")\n",
    "    print(f\"RMSE модели: {region_predictions[idx]['rmse']:.2f}\")\n",
    "    print()"
   ]
  },
  {
   "cell_type": "markdown",
   "metadata": {},
   "source": [
    "### Проанализируйте результаты."
   ]
  },
  {
   "cell_type": "markdown",
   "metadata": {},
   "source": [
    "На данном этапе выполнены все необходимые действия для обучения и оценки моделей в каждом регионе. \n",
    "- Для каждого региона был проведен процесс разбиения данных на обучающую и валидационную выборки в соотношении 75:25 с использованием функции train_test_split. \n",
    "- Для каждого региона была создана и обучена модель линейной регрессии с помощью класса LinearRegression. Модель была обучена на обучающей выборке, а затем использована для получения предсказаний на валидационной выборке.\n",
    "- Был создан DataFrame с предсказаниями и правильными ответами на валидационной выборке для каждого региона. \n",
    "- Были вычислены средний запас предсказанного сырья и RMSE модели. Средний запас предсказанного сырья: 94.97\n",
    "RMSE модели: 40.03"
   ]
  },
  {
   "cell_type": "markdown",
   "metadata": {},
   "source": [
    "## Подготовка к расчёту прибыли"
   ]
  },
  {
   "cell_type": "markdown",
   "metadata": {},
   "source": [
    "### Все ключевые значения для расчётов сохраните в отдельных переменных."
   ]
  },
  {
   "cell_type": "code",
   "execution_count": 15,
   "metadata": {},
   "outputs": [
    {
     "name": "stdout",
     "output_type": "stream",
     "text": [
      "Мин. объём сырья для безубыточной разработки новой скважины: 111.11\n"
     ]
    }
   ],
   "source": [
    "EXPLORATION_POINTS = 500\n",
    "BEST_RESEARCH_POINT = 200\n",
    "BUDGET = 10_000_000_000\n",
    "REVENUE_PER_UNIT = 450_000\n",
    "NUM_WELLS = 200\n",
    "MAX_PROBABILITY_OF_LOSS = 0.025\n",
    "CONFIDENCE_INTERVAL = 0.95\n",
    "\n",
    "budget_per_point = BUDGET / BEST_RESEARCH_POINT\n",
    "min_product = budget_per_point / REVENUE_PER_UNIT\n",
    "\n",
    "print(f\"Мин. объём сырья для безубыточной разработки новой скважины: {min_product:.2f}\")"
   ]
  },
  {
   "cell_type": "markdown",
   "metadata": {},
   "source": [
    "### Рассчитайте достаточный объём сырья для безубыточной разработки новой скважины. Сравните полученный объём сырья со средним запасом в каждом регионе. "
   ]
  },
  {
   "cell_type": "code",
   "execution_count": 16,
   "metadata": {
    "scrolled": true
   },
   "outputs": [
    {
     "name": "stdout",
     "output_type": "stream",
     "text": [
      "Регион 1:\n",
      "Средний запас сырья: 92.59\n",
      "Средний запас в регионе недостаточен для безубыточной разработки новой скважины\n",
      "Регион 2:\n",
      "Средний запас сырья: 68.73\n",
      "Средний запас в регионе недостаточен для безубыточной разработки новой скважины\n",
      "Регион 3:\n",
      "Средний запас сырья: 94.97\n",
      "Средний запас в регионе недостаточен для безубыточной разработки новой скважины\n"
     ]
    }
   ],
   "source": [
    "for idx, region_data in enumerate(region_predictions.values()):\n",
    "    region_name = idx + 1\n",
    "    target_valid = region_data['target_valid']\n",
    "    mean_predicted_product = region_data['predictions_valid'].mean()\n",
    "\n",
    "    print(f\"Регион {region_name}:\")\n",
    "    print(f\"Средний запас сырья: {mean_predicted_product:.2f}\")\n",
    "    \n",
    "\n",
    "    if min_product > mean_predicted_product:\n",
    "        print(\"Средний запас в регионе недостаточен для безубыточной разработки новой скважины\")\n",
    "    else:\n",
    "        print(\"Средний запас в регионе превосходит для безубыточной разработки новой скважины\")"
   ]
  },
  {
   "cell_type": "markdown",
   "metadata": {},
   "source": [
    "### Напишите выводы по этапу подготовки расчёта прибыли"
   ]
  },
  {
   "cell_type": "markdown",
   "metadata": {},
   "source": [
    "**Выводы:**\n",
    "\n",
    "По результатам расчета достаточного объема сырья для безубыточной разработки новой скважины выяснилось, что минимальный объем сырья для безубыточной разработки составляет 111.11 тысячи баррелей. Далее, было выполнено сравнение объема среднего запаса сырья в каждом из трех регионов с минимальным объемам сырья для безубыточной. \n",
    "\n",
    "- В первом регионе ср.запас сырья ~ 92.59 тыс.баррелей, что недостаточно для безубыточной разработки новой скважины.\n",
    "\n",
    "- В втором  ср.запас сырья ~ 68.73 тыс.баррелей, что также недостаточно для безубыточной разработки новой скважины.\n",
    "\n",
    "- В третьем ср.запас сырья ~ 94.97 тыс.баррелей, также недостаточно для безубыточной разработки новой скважины."
   ]
  },
  {
   "cell_type": "markdown",
   "metadata": {},
   "source": [
    "## Расчёт прибыли и рисков "
   ]
  },
  {
   "cell_type": "code",
   "execution_count": 42,
   "metadata": {},
   "outputs": [
    {
     "name": "stdout",
     "output_type": "stream",
     "text": [
      "Регион 1:\n",
      "Прибыль: 3320826043.14\n",
      "\n",
      "Регион 2:\n",
      "Прибыль: 2415086696.68\n",
      "\n",
      "Регион 3:\n",
      "Прибыль: 2710349963.60\n",
      "\n"
     ]
    }
   ],
   "source": [
    "def calculate_profit(target, predictions, count):\n",
    "# 4.1. Выберите скважины с максимальными значениями предсказаний\n",
    "    top_index = predictions.argsort()[-count:][::-1]\n",
    "# 4.2 Просуммируйте целевое значение объёма сырья, соответствующее этим предсказаниям\n",
    "    selected_target = target.iloc[top_index]\n",
    "# 4.3 Рассчитайте прибыль для полученного объёма сырья\n",
    "    revenue = selected_target.sum() * REVENUE_PER_UNIT\n",
    "    profit = revenue - BUDGET\n",
    "    return profit\n",
    "\n",
    "for idx, region_data in enumerate(region_predictions.values()):\n",
    "    target_valid = region_data['target_valid']\n",
    "    predictions_valid = pd.Series(region_data['predictions_valid'])\n",
    "    \n",
    "    region_profit = calculate_profit(target_valid, predictions_valid, NUM_WELLS)\n",
    "    \n",
    "    print(f\"Регион {idx + 1}:\")\n",
    "    print(f\"Прибыль: {region_profit:.2f}\\n\")"
   ]
  },
  {
   "cell_type": "markdown",
   "metadata": {},
   "source": [
    "## Посчитайте риски и прибыль для каждого региона:"
   ]
  },
  {
   "cell_type": "code",
   "execution_count": 43,
   "metadata": {},
   "outputs": [
    {
     "name": "stdout",
     "output_type": "stream",
     "text": [
      "Регион 1:\n",
      "Средняя прибыль: 396164984.80\n",
      "95% доверительный интервал: от -111215545.89 до 909766941.55\n",
      "Риск убытков: 0.07\n",
      "\n",
      "Регион 2:\n",
      "Средняя прибыль: 461155817.28\n",
      "95% доверительный интервал: от 78050810.75 до 862952060.26\n",
      "Риск убытков: 0.01\n",
      "\n",
      "Регион 3:\n",
      "Средняя прибыль: 392950475.17\n",
      "95% доверительный интервал: от -112227625.38 до 934562914.55\n",
      "Риск убытков: 0.07\n",
      "\n"
     ]
    }
   ],
   "source": [
    "bootstrap_samples = 1000\n",
    "state = np.random.RandomState(12345)\n",
    "\n",
    "for idx, region_data in enumerate(region_predictions.values()):\n",
    "    target_valid = region_data['target_valid'].reset_index(drop=True)\n",
    "    predictions_valid = pd.Series(region_data['predictions_valid'])\n",
    "\n",
    "    profits = []\n",
    "    #средняя прибыль 95%-й доверительный интервал и риск убытков\n",
    "    for i in range(bootstrap_samples):\n",
    "        subsample_target = target_valid.sample(n=EXPLORATION_POINTS, replace=True, random_state=state)\n",
    "        subsample_predictions = predictions_valid.iloc[subsample_target.index]\n",
    "        profits.append(profit(subsample_target, subsample_predictions, BEST_RESEARCH_POINT))\n",
    "    \n",
    "    profits = pd.Series(profits)\n",
    "    lower = profits.quantile((1 - CONFIDENCE_INTERVAL) / 2)\n",
    "    upper = profits.quantile((1 + CONFIDENCE_INTERVAL) / 2)\n",
    "    mean_profit = profits.mean()\n",
    "    risk = (profits < 0).mean()\n",
    "\n",
    "    print(f\"Регион {idx + 1}:\")\n",
    "    print(f\"Средняя прибыль: {mean_profit:.2f}\")\n",
    "    print(f\"95% доверительный интервал: от {lower:.2f} до {upper:.2f}\")\n",
    "    print(f\"Риск убытков: {risk:.2f}\\n\")"
   ]
  },
  {
   "cell_type": "markdown",
   "metadata": {},
   "source": [
    "**Выводы**\n",
    "\n",
    "По результатам анализа, регион 2 представляется наиболее перспективным для разработки скважин. Средняя прибыль в данном регионе составляет 461 155 817.28 тыс.руб. что является самой высокой среди всех трех рассмотренных вариантов. \n",
    "\n",
    "Риск убытков в регионе 2 составляет всего 0.01, что гораздо ниже, чем в регионах 1 и 3"
   ]
  }
 ],
 "metadata": {
  "ExecuteTimeLog": [
   {
    "duration": 1261,
    "start_time": "2023-08-16T06:52:58.956Z"
   },
   {
    "duration": 1977,
    "start_time": "2023-08-16T06:53:22.349Z"
   },
   {
    "duration": 20,
    "start_time": "2023-08-16T06:53:50.336Z"
   },
   {
    "duration": 10,
    "start_time": "2023-08-16T06:53:57.400Z"
   },
   {
    "duration": 12,
    "start_time": "2023-08-16T06:54:05.052Z"
   },
   {
    "duration": 13,
    "start_time": "2023-08-16T06:54:12.181Z"
   },
   {
    "duration": 24,
    "start_time": "2023-08-16T06:54:51.396Z"
   },
   {
    "duration": 53,
    "start_time": "2023-08-16T07:05:56.844Z"
   },
   {
    "duration": 161,
    "start_time": "2023-08-16T07:06:10.685Z"
   },
   {
    "duration": 113,
    "start_time": "2023-08-16T07:07:09.090Z"
   },
   {
    "duration": 61,
    "start_time": "2023-08-16T07:08:02.680Z"
   },
   {
    "duration": 99,
    "start_time": "2023-08-16T07:08:57.522Z"
   },
   {
    "duration": 52,
    "start_time": "2023-08-16T07:08:59.829Z"
   },
   {
    "duration": 3,
    "start_time": "2023-08-16T07:16:38.127Z"
   },
   {
    "duration": 65,
    "start_time": "2023-08-16T07:20:29.038Z"
   },
   {
    "duration": 49,
    "start_time": "2023-08-16T07:21:57.176Z"
   },
   {
    "duration": 5,
    "start_time": "2023-08-16T07:22:40.948Z"
   },
   {
    "duration": 3,
    "start_time": "2023-08-16T07:29:55.348Z"
   },
   {
    "duration": 3,
    "start_time": "2023-08-16T07:30:13.758Z"
   },
   {
    "duration": 11,
    "start_time": "2023-08-16T10:07:04.698Z"
   },
   {
    "duration": 12,
    "start_time": "2023-08-16T10:07:09.716Z"
   },
   {
    "duration": 3,
    "start_time": "2023-08-16T10:07:21.098Z"
   },
   {
    "duration": 379,
    "start_time": "2023-08-16T10:07:22.847Z"
   },
   {
    "duration": 31,
    "start_time": "2023-08-16T10:07:26.169Z"
   },
   {
    "duration": 156,
    "start_time": "2023-08-16T10:07:29.005Z"
   },
   {
    "duration": 38,
    "start_time": "2023-08-16T10:07:35.383Z"
   },
   {
    "duration": 105,
    "start_time": "2023-08-16T10:07:38.002Z"
   },
   {
    "duration": 3,
    "start_time": "2023-08-16T10:07:40.470Z"
   },
   {
    "duration": 58,
    "start_time": "2023-08-16T10:07:41.758Z"
   },
   {
    "duration": 10,
    "start_time": "2023-08-16T10:08:08.670Z"
   },
   {
    "duration": 10,
    "start_time": "2023-08-16T10:08:21.986Z"
   },
   {
    "duration": 14,
    "start_time": "2023-08-16T10:09:44.195Z"
   },
   {
    "duration": 13,
    "start_time": "2023-08-16T10:12:55.058Z"
   },
   {
    "duration": 14,
    "start_time": "2023-08-16T10:13:25.454Z"
   },
   {
    "duration": 10,
    "start_time": "2023-08-16T10:14:10.641Z"
   },
   {
    "duration": 14,
    "start_time": "2023-08-16T10:15:47.400Z"
   },
   {
    "duration": 14,
    "start_time": "2023-08-16T10:15:59.550Z"
   },
   {
    "duration": 10,
    "start_time": "2023-08-16T10:16:13.602Z"
   },
   {
    "duration": 11,
    "start_time": "2023-08-16T10:16:30.209Z"
   },
   {
    "duration": 10,
    "start_time": "2023-08-16T10:16:37.071Z"
   },
   {
    "duration": 10,
    "start_time": "2023-08-16T10:16:55.047Z"
   },
   {
    "duration": 123,
    "start_time": "2023-08-16T10:17:01.649Z"
   },
   {
    "duration": 3,
    "start_time": "2023-08-16T10:17:03.686Z"
   },
   {
    "duration": 12,
    "start_time": "2023-08-16T10:17:04.997Z"
   },
   {
    "duration": 3,
    "start_time": "2023-08-16T10:19:21.696Z"
   },
   {
    "duration": 375,
    "start_time": "2023-08-16T10:19:23.127Z"
   },
   {
    "duration": 24,
    "start_time": "2023-08-16T10:19:25.421Z"
   },
   {
    "duration": 198,
    "start_time": "2023-08-16T10:19:25.993Z"
   },
   {
    "duration": 45,
    "start_time": "2023-08-16T10:19:26.998Z"
   },
   {
    "duration": 123,
    "start_time": "2023-08-16T10:19:27.665Z"
   },
   {
    "duration": 8,
    "start_time": "2023-08-16T10:19:28.349Z"
   },
   {
    "duration": 62,
    "start_time": "2023-08-16T10:19:33.197Z"
   },
   {
    "duration": 10,
    "start_time": "2023-08-16T10:19:35.190Z"
   },
   {
    "duration": 13,
    "start_time": "2023-08-16T10:20:19.873Z"
   },
   {
    "duration": 10,
    "start_time": "2023-08-16T10:20:51.208Z"
   },
   {
    "duration": 9,
    "start_time": "2023-08-16T10:21:28.802Z"
   },
   {
    "duration": 17,
    "start_time": "2023-08-16T10:21:48.848Z"
   },
   {
    "duration": 76,
    "start_time": "2023-08-16T10:24:38.782Z"
   },
   {
    "duration": 58,
    "start_time": "2023-08-16T10:24:55.546Z"
   },
   {
    "duration": 14,
    "start_time": "2023-08-16T10:25:30.448Z"
   },
   {
    "duration": 13,
    "start_time": "2023-08-16T10:26:12.648Z"
   },
   {
    "duration": 12,
    "start_time": "2023-08-16T10:26:55.757Z"
   },
   {
    "duration": 13,
    "start_time": "2023-08-16T10:33:11.257Z"
   },
   {
    "duration": 0,
    "start_time": "2023-08-16T10:33:30.346Z"
   },
   {
    "duration": 1967,
    "start_time": "2023-08-16T10:34:57.270Z"
   },
   {
    "duration": 14,
    "start_time": "2023-08-16T10:36:01.195Z"
   },
   {
    "duration": 1225,
    "start_time": "2023-08-16T11:59:05.682Z"
   },
   {
    "duration": 1618,
    "start_time": "2023-08-16T11:59:07.306Z"
   },
   {
    "duration": 28,
    "start_time": "2023-08-16T11:59:09.030Z"
   },
   {
    "duration": 145,
    "start_time": "2023-08-16T11:59:09.736Z"
   },
   {
    "duration": 38,
    "start_time": "2023-08-16T11:59:10.405Z"
   },
   {
    "duration": 99,
    "start_time": "2023-08-16T11:59:11.020Z"
   },
   {
    "duration": 2,
    "start_time": "2023-08-16T11:59:11.840Z"
   },
   {
    "duration": 59,
    "start_time": "2023-08-16T11:59:13.141Z"
   },
   {
    "duration": 17,
    "start_time": "2023-08-16T11:59:27.250Z"
   },
   {
    "duration": 36,
    "start_time": "2023-08-16T12:00:15.623Z"
   },
   {
    "duration": 20,
    "start_time": "2023-08-16T12:00:44.763Z"
   },
   {
    "duration": 12,
    "start_time": "2023-08-16T12:00:51.938Z"
   },
   {
    "duration": 322,
    "start_time": "2023-08-16T12:01:10.759Z"
   },
   {
    "duration": 7,
    "start_time": "2023-08-16T12:01:23.077Z"
   },
   {
    "duration": 42,
    "start_time": "2023-08-16T12:05:46.382Z"
   },
   {
    "duration": 118,
    "start_time": "2023-08-16T12:06:02.453Z"
   },
   {
    "duration": 117,
    "start_time": "2023-08-16T12:06:19.213Z"
   },
   {
    "duration": 36,
    "start_time": "2023-08-16T12:07:41.937Z"
   },
   {
    "duration": 1315,
    "start_time": "2023-08-17T08:09:45.983Z"
   },
   {
    "duration": 2153,
    "start_time": "2023-08-17T08:09:48.268Z"
   },
   {
    "duration": 31,
    "start_time": "2023-08-17T08:09:50.423Z"
   },
   {
    "duration": 171,
    "start_time": "2023-08-17T08:09:50.455Z"
   },
   {
    "duration": 40,
    "start_time": "2023-08-17T08:09:50.793Z"
   },
   {
    "duration": 130,
    "start_time": "2023-08-17T08:09:51.754Z"
   },
   {
    "duration": 12,
    "start_time": "2023-08-17T08:09:52.353Z"
   },
   {
    "duration": 42,
    "start_time": "2023-08-17T08:09:53.491Z"
   },
   {
    "duration": 17,
    "start_time": "2023-08-17T08:09:54.180Z"
   },
   {
    "duration": 44,
    "start_time": "2023-08-17T08:09:57.646Z"
   },
   {
    "duration": 12,
    "start_time": "2023-08-17T08:09:59.603Z"
   },
   {
    "duration": 296,
    "start_time": "2023-08-17T08:10:02.042Z"
   },
   {
    "duration": 7,
    "start_time": "2023-08-17T08:10:03.839Z"
   },
   {
    "duration": 107,
    "start_time": "2023-08-17T09:54:44.903Z"
   },
   {
    "duration": 8,
    "start_time": "2023-08-17T09:55:37.444Z"
   },
   {
    "duration": 3,
    "start_time": "2023-08-17T09:55:41.881Z"
   },
   {
    "duration": 2,
    "start_time": "2023-08-17T09:55:45.530Z"
   },
   {
    "duration": 10,
    "start_time": "2023-08-17T09:56:39.633Z"
   },
   {
    "duration": 3,
    "start_time": "2023-08-17T09:56:54.777Z"
   },
   {
    "duration": 5,
    "start_time": "2023-08-17T09:58:38.068Z"
   },
   {
    "duration": 5,
    "start_time": "2023-08-17T10:00:07.084Z"
   },
   {
    "duration": 4,
    "start_time": "2023-08-17T10:45:55.225Z"
   },
   {
    "duration": 12,
    "start_time": "2023-08-17T10:47:03.831Z"
   },
   {
    "duration": 10,
    "start_time": "2023-08-17T10:47:31.801Z"
   },
   {
    "duration": 4,
    "start_time": "2023-08-17T10:47:43.139Z"
   },
   {
    "duration": 13,
    "start_time": "2023-08-17T10:52:50.781Z"
   },
   {
    "duration": 3,
    "start_time": "2023-08-17T10:53:12.705Z"
   },
   {
    "duration": 3,
    "start_time": "2023-08-17T10:53:14.349Z"
   },
   {
    "duration": 5,
    "start_time": "2023-08-17T10:56:32.164Z"
   },
   {
    "duration": 9,
    "start_time": "2023-08-17T10:56:33.517Z"
   },
   {
    "duration": 3,
    "start_time": "2023-08-17T10:56:42.521Z"
   },
   {
    "duration": 8,
    "start_time": "2023-08-17T10:59:39.701Z"
   },
   {
    "duration": 101,
    "start_time": "2023-08-17T11:07:56.458Z"
   },
   {
    "duration": 85,
    "start_time": "2023-08-17T11:40:19.202Z"
   },
   {
    "duration": 3,
    "start_time": "2023-08-17T11:49:21.257Z"
   },
   {
    "duration": 9,
    "start_time": "2023-08-17T11:49:34.742Z"
   },
   {
    "duration": 5,
    "start_time": "2023-08-17T11:49:41.468Z"
   },
   {
    "duration": 8,
    "start_time": "2023-08-17T11:49:43.539Z"
   },
   {
    "duration": 1158,
    "start_time": "2023-08-18T10:37:19.549Z"
   },
   {
    "duration": 1650,
    "start_time": "2023-08-18T10:37:21.353Z"
   },
   {
    "duration": 33,
    "start_time": "2023-08-18T10:37:23.006Z"
   },
   {
    "duration": 170,
    "start_time": "2023-08-18T10:37:23.041Z"
   },
   {
    "duration": 45,
    "start_time": "2023-08-18T10:37:23.328Z"
   },
   {
    "duration": 100,
    "start_time": "2023-08-18T10:37:26.504Z"
   },
   {
    "duration": 3,
    "start_time": "2023-08-18T10:37:27.282Z"
   },
   {
    "duration": 45,
    "start_time": "2023-08-18T10:37:28.257Z"
   },
   {
    "duration": 17,
    "start_time": "2023-08-18T10:37:31.123Z"
   },
   {
    "duration": 35,
    "start_time": "2023-08-18T10:37:33.632Z"
   },
   {
    "duration": 15,
    "start_time": "2023-08-18T10:37:35.608Z"
   },
   {
    "duration": 183,
    "start_time": "2023-08-18T10:37:38.626Z"
   },
   {
    "duration": 6,
    "start_time": "2023-08-18T10:37:40.792Z"
   },
   {
    "duration": 3,
    "start_time": "2023-08-18T10:37:44.260Z"
   },
   {
    "duration": 5,
    "start_time": "2023-08-18T10:37:45.944Z"
   },
   {
    "duration": 9,
    "start_time": "2023-08-18T10:37:47.917Z"
   },
   {
    "duration": 3,
    "start_time": "2023-08-18T10:39:25.631Z"
   },
   {
    "duration": 99,
    "start_time": "2023-08-18T10:39:28.491Z"
   },
   {
    "duration": 10,
    "start_time": "2023-08-18T10:40:09.633Z"
   },
   {
    "duration": 9,
    "start_time": "2023-08-18T10:40:18.810Z"
   },
   {
    "duration": 9,
    "start_time": "2023-08-18T10:40:25.426Z"
   },
   {
    "duration": 3,
    "start_time": "2023-08-18T10:40:39.988Z"
   },
   {
    "duration": 4,
    "start_time": "2023-08-18T10:41:28.799Z"
   },
   {
    "duration": 4,
    "start_time": "2023-08-18T10:42:14.019Z"
   },
   {
    "duration": 9,
    "start_time": "2023-08-18T10:42:15.461Z"
   },
   {
    "duration": 113,
    "start_time": "2023-08-18T10:42:18.125Z"
   },
   {
    "duration": 77,
    "start_time": "2023-08-18T10:42:51.143Z"
   },
   {
    "duration": 78,
    "start_time": "2023-08-18T10:43:10.117Z"
   },
   {
    "duration": 11,
    "start_time": "2023-08-18T10:51:19.394Z"
   },
   {
    "duration": 14,
    "start_time": "2023-08-18T10:54:19.618Z"
   },
   {
    "duration": 2139,
    "start_time": "2023-08-18T11:10:52.204Z"
   },
   {
    "duration": 12,
    "start_time": "2023-08-18T11:11:40.868Z"
   },
   {
    "duration": 11,
    "start_time": "2023-08-18T11:14:27.076Z"
   },
   {
    "duration": 19,
    "start_time": "2023-08-18T11:15:43.386Z"
   },
   {
    "duration": 92,
    "start_time": "2023-08-18T11:16:21.687Z"
   },
   {
    "duration": 29,
    "start_time": "2023-08-18T11:18:31.096Z"
   },
   {
    "duration": 85,
    "start_time": "2023-08-18T11:19:22.110Z"
   },
   {
    "duration": 394,
    "start_time": "2023-08-18T11:19:32.900Z"
   },
   {
    "duration": 1102,
    "start_time": "2023-08-19T09:27:10.076Z"
   },
   {
    "duration": 772,
    "start_time": "2023-08-19T09:27:11.180Z"
   },
   {
    "duration": 29,
    "start_time": "2023-08-19T09:27:12.412Z"
   },
   {
    "duration": 133,
    "start_time": "2023-08-19T09:27:13.021Z"
   },
   {
    "duration": 40,
    "start_time": "2023-08-19T09:27:13.506Z"
   },
   {
    "duration": 110,
    "start_time": "2023-08-19T09:27:16.074Z"
   },
   {
    "duration": 3,
    "start_time": "2023-08-19T09:27:16.670Z"
   },
   {
    "duration": 41,
    "start_time": "2023-08-19T09:27:17.241Z"
   },
   {
    "duration": 16,
    "start_time": "2023-08-19T09:27:20.168Z"
   },
   {
    "duration": 35,
    "start_time": "2023-08-19T09:27:21.913Z"
   },
   {
    "duration": 13,
    "start_time": "2023-08-19T09:27:23.611Z"
   },
   {
    "duration": 184,
    "start_time": "2023-08-19T09:27:25.605Z"
   },
   {
    "duration": 6,
    "start_time": "2023-08-19T09:27:29.357Z"
   },
   {
    "duration": 3,
    "start_time": "2023-08-19T09:27:33.598Z"
   },
   {
    "duration": 3,
    "start_time": "2023-08-19T09:27:37.617Z"
   },
   {
    "duration": 8,
    "start_time": "2023-08-19T09:27:45.416Z"
   },
   {
    "duration": 35,
    "start_time": "2023-08-19T09:27:50.997Z"
   },
   {
    "duration": 485,
    "start_time": "2023-08-19T09:27:52.999Z"
   },
   {
    "duration": 10,
    "start_time": "2023-08-19T09:28:04.535Z"
   },
   {
    "duration": 11,
    "start_time": "2023-08-19T09:37:48.107Z"
   },
   {
    "duration": 4,
    "start_time": "2023-08-19T09:38:04.141Z"
   },
   {
    "duration": 9,
    "start_time": "2023-08-19T09:38:15.532Z"
   },
   {
    "duration": 12,
    "start_time": "2023-08-19T09:38:49.239Z"
   },
   {
    "duration": 16,
    "start_time": "2023-08-19T09:39:22.571Z"
   },
   {
    "duration": 9,
    "start_time": "2023-08-19T09:41:28.701Z"
   },
   {
    "duration": 16,
    "start_time": "2023-08-19T09:42:25.009Z"
   },
   {
    "duration": 131,
    "start_time": "2023-08-19T09:42:40.363Z"
   },
   {
    "duration": 4,
    "start_time": "2023-08-19T09:47:48.440Z"
   },
   {
    "duration": 11,
    "start_time": "2023-08-19T09:59:25.346Z"
   },
   {
    "duration": 12,
    "start_time": "2023-08-19T09:59:37.356Z"
   },
   {
    "duration": 14,
    "start_time": "2023-08-19T09:59:58.323Z"
   },
   {
    "duration": 21,
    "start_time": "2023-08-19T10:01:37.619Z"
   },
   {
    "duration": 5,
    "start_time": "2023-08-19T10:02:07.224Z"
   },
   {
    "duration": 12,
    "start_time": "2023-08-19T10:02:13.265Z"
   },
   {
    "duration": 16,
    "start_time": "2023-08-19T10:02:42.593Z"
   },
   {
    "duration": 17,
    "start_time": "2023-08-19T10:03:23.705Z"
   },
   {
    "duration": 12,
    "start_time": "2023-08-19T10:03:29.863Z"
   },
   {
    "duration": 14,
    "start_time": "2023-08-19T10:03:54.583Z"
   },
   {
    "duration": 17,
    "start_time": "2023-08-19T10:04:23.997Z"
   },
   {
    "duration": 30,
    "start_time": "2023-08-19T10:06:23.157Z"
   },
   {
    "duration": 20,
    "start_time": "2023-08-19T10:07:16.908Z"
   },
   {
    "duration": 67,
    "start_time": "2023-08-19T10:09:19.470Z"
   },
   {
    "duration": 10,
    "start_time": "2023-08-19T10:13:10.809Z"
   },
   {
    "duration": 13,
    "start_time": "2023-08-19T10:13:30.726Z"
   },
   {
    "duration": 11,
    "start_time": "2023-08-19T10:14:02.818Z"
   },
   {
    "duration": 10,
    "start_time": "2023-08-19T10:14:31.701Z"
   },
   {
    "duration": 12,
    "start_time": "2023-08-19T10:14:35.233Z"
   },
   {
    "duration": 32,
    "start_time": "2023-08-19T10:15:10.775Z"
   },
   {
    "duration": 819,
    "start_time": "2023-08-19T10:17:23.715Z"
   },
   {
    "duration": 11,
    "start_time": "2023-08-19T10:17:48.408Z"
   },
   {
    "duration": 8,
    "start_time": "2023-08-19T10:17:52.508Z"
   },
   {
    "duration": 7,
    "start_time": "2023-08-19T10:20:25.919Z"
   },
   {
    "duration": 9,
    "start_time": "2023-08-19T10:20:33.173Z"
   },
   {
    "duration": 7,
    "start_time": "2023-08-19T10:20:49.251Z"
   },
   {
    "duration": 3516,
    "start_time": "2023-08-19T18:06:53.224Z"
   },
   {
    "duration": 895,
    "start_time": "2023-08-19T18:06:56.742Z"
   },
   {
    "duration": 25,
    "start_time": "2023-08-19T18:06:57.639Z"
   },
   {
    "duration": 124,
    "start_time": "2023-08-19T18:06:57.666Z"
   },
   {
    "duration": 35,
    "start_time": "2023-08-19T18:06:57.792Z"
   },
   {
    "duration": 120,
    "start_time": "2023-08-19T18:06:57.829Z"
   },
   {
    "duration": 2,
    "start_time": "2023-08-19T18:06:57.951Z"
   },
   {
    "duration": 38,
    "start_time": "2023-08-19T18:06:57.955Z"
   },
   {
    "duration": 15,
    "start_time": "2023-08-19T18:06:57.994Z"
   },
   {
    "duration": 67,
    "start_time": "2023-08-19T18:06:58.013Z"
   },
   {
    "duration": 71,
    "start_time": "2023-08-19T18:06:58.082Z"
   },
   {
    "duration": 346,
    "start_time": "2023-08-19T18:06:58.156Z"
   },
   {
    "duration": 7,
    "start_time": "2023-08-19T18:06:58.504Z"
   },
   {
    "duration": 5,
    "start_time": "2023-08-19T18:06:58.512Z"
   },
   {
    "duration": 12,
    "start_time": "2023-08-19T18:06:58.518Z"
   },
   {
    "duration": 10,
    "start_time": "2023-08-19T18:06:58.531Z"
   },
   {
    "duration": 29,
    "start_time": "2023-08-19T18:06:58.543Z"
   },
   {
    "duration": 97,
    "start_time": "2023-08-19T18:06:58.574Z"
   },
   {
    "duration": 0,
    "start_time": "2023-08-19T18:06:58.673Z"
   },
   {
    "duration": 0,
    "start_time": "2023-08-19T18:06:58.674Z"
   },
   {
    "duration": 0,
    "start_time": "2023-08-19T18:06:58.675Z"
   },
   {
    "duration": 0,
    "start_time": "2023-08-19T18:06:58.676Z"
   },
   {
    "duration": 0,
    "start_time": "2023-08-19T18:06:58.678Z"
   },
   {
    "duration": 0,
    "start_time": "2023-08-19T18:06:58.678Z"
   },
   {
    "duration": 1072,
    "start_time": "2023-08-21T06:57:36.248Z"
   },
   {
    "duration": 742,
    "start_time": "2023-08-21T06:57:37.947Z"
   },
   {
    "duration": 25,
    "start_time": "2023-08-21T06:57:40.122Z"
   },
   {
    "duration": 137,
    "start_time": "2023-08-21T06:57:41.997Z"
   },
   {
    "duration": 39,
    "start_time": "2023-08-21T06:57:43.871Z"
   },
   {
    "duration": 92,
    "start_time": "2023-08-21T06:57:45.505Z"
   },
   {
    "duration": 2,
    "start_time": "2023-08-21T06:57:46.964Z"
   },
   {
    "duration": 37,
    "start_time": "2023-08-21T06:57:47.679Z"
   },
   {
    "duration": 14,
    "start_time": "2023-08-21T06:57:49.053Z"
   },
   {
    "duration": 30,
    "start_time": "2023-08-21T06:58:11.214Z"
   },
   {
    "duration": 12,
    "start_time": "2023-08-21T06:58:12.824Z"
   },
   {
    "duration": 184,
    "start_time": "2023-08-21T06:58:14.006Z"
   },
   {
    "duration": 5,
    "start_time": "2023-08-21T06:58:15.866Z"
   },
   {
    "duration": 3,
    "start_time": "2023-08-21T06:58:33.746Z"
   },
   {
    "duration": 3,
    "start_time": "2023-08-21T06:58:53.726Z"
   },
   {
    "duration": 7,
    "start_time": "2023-08-21T06:58:55.404Z"
   },
   {
    "duration": 31,
    "start_time": "2023-08-21T06:59:29.952Z"
   },
   {
    "duration": 90,
    "start_time": "2023-08-21T06:59:30.941Z"
   },
   {
    "duration": 8,
    "start_time": "2023-08-21T06:59:49.836Z"
   },
   {
    "duration": 469,
    "start_time": "2023-08-21T07:17:42.085Z"
   },
   {
    "duration": 1022,
    "start_time": "2023-08-21T07:18:23.996Z"
   },
   {
    "duration": 51,
    "start_time": "2023-08-21T09:23:09.538Z"
   },
   {
    "duration": 6,
    "start_time": "2023-08-21T09:23:16.064Z"
   },
   {
    "duration": 1547,
    "start_time": "2023-08-21T09:23:22.293Z"
   },
   {
    "duration": 894,
    "start_time": "2023-08-21T09:23:24.097Z"
   },
   {
    "duration": 171,
    "start_time": "2023-08-21T09:23:26.550Z"
   },
   {
    "duration": 50,
    "start_time": "2023-08-21T09:23:27.926Z"
   },
   {
    "duration": 108,
    "start_time": "2023-08-21T09:23:29.819Z"
   },
   {
    "duration": 3,
    "start_time": "2023-08-21T09:23:33.229Z"
   },
   {
    "duration": 42,
    "start_time": "2023-08-21T09:23:34.424Z"
   },
   {
    "duration": 17,
    "start_time": "2023-08-21T09:23:35.924Z"
   },
   {
    "duration": 984,
    "start_time": "2023-08-21T09:23:41.485Z"
   },
   {
    "duration": 32,
    "start_time": "2023-08-21T09:23:47.771Z"
   },
   {
    "duration": 149,
    "start_time": "2023-08-21T09:24:00.706Z"
   },
   {
    "duration": 79,
    "start_time": "2023-08-21T09:24:41.285Z"
   },
   {
    "duration": 10,
    "start_time": "2023-08-21T09:24:43.938Z"
   },
   {
    "duration": 27,
    "start_time": "2023-08-21T09:59:18.986Z"
   },
   {
    "duration": 5,
    "start_time": "2023-08-21T09:59:54.387Z"
   },
   {
    "duration": 4,
    "start_time": "2023-08-21T10:00:07.567Z"
   },
   {
    "duration": 3,
    "start_time": "2023-08-21T10:01:09.672Z"
   },
   {
    "duration": 41,
    "start_time": "2023-08-21T10:02:52.446Z"
   },
   {
    "duration": 5,
    "start_time": "2023-08-21T10:03:50.566Z"
   },
   {
    "duration": 275,
    "start_time": "2023-08-21T10:05:58.598Z"
   },
   {
    "duration": 30,
    "start_time": "2023-08-21T10:06:15.635Z"
   },
   {
    "duration": 6,
    "start_time": "2023-08-21T10:06:43.664Z"
   },
   {
    "duration": 5,
    "start_time": "2023-08-21T10:07:00.607Z"
   },
   {
    "duration": 5,
    "start_time": "2023-08-21T10:07:09.530Z"
   },
   {
    "duration": 5,
    "start_time": "2023-08-21T10:07:35.566Z"
   },
   {
    "duration": 3,
    "start_time": "2023-08-21T10:07:42.736Z"
   },
   {
    "duration": 5,
    "start_time": "2023-08-21T10:08:20.233Z"
   },
   {
    "duration": 3,
    "start_time": "2023-08-21T10:08:21.794Z"
   },
   {
    "duration": 265,
    "start_time": "2023-08-21T10:09:00.494Z"
   },
   {
    "duration": 11,
    "start_time": "2023-08-21T10:09:13.957Z"
   },
   {
    "duration": 5,
    "start_time": "2023-08-21T10:25:04.892Z"
   },
   {
    "duration": 6,
    "start_time": "2023-08-21T10:25:15.599Z"
   },
   {
    "duration": 8,
    "start_time": "2023-08-21T10:25:19.379Z"
   },
   {
    "duration": 4,
    "start_time": "2023-08-21T10:25:44.869Z"
   },
   {
    "duration": 162,
    "start_time": "2023-08-21T10:25:46.392Z"
   },
   {
    "duration": 187,
    "start_time": "2023-08-21T10:26:10.305Z"
   },
   {
    "duration": 165,
    "start_time": "2023-08-21T10:26:40.424Z"
   },
   {
    "duration": 5,
    "start_time": "2023-08-21T10:26:45.842Z"
   },
   {
    "duration": 285,
    "start_time": "2023-08-21T10:40:03.669Z"
   },
   {
    "duration": 12,
    "start_time": "2023-08-21T10:41:00.266Z"
   },
   {
    "duration": 4,
    "start_time": "2023-08-21T10:41:11.801Z"
   },
   {
    "duration": 345,
    "start_time": "2023-08-21T10:43:15.607Z"
   },
   {
    "duration": 4,
    "start_time": "2023-08-21T10:49:29.569Z"
   },
   {
    "duration": 3,
    "start_time": "2023-08-21T10:49:42.360Z"
   },
   {
    "duration": 27,
    "start_time": "2023-08-21T10:49:43.768Z"
   },
   {
    "duration": 36,
    "start_time": "2023-08-21T10:49:45.440Z"
   },
   {
    "duration": 4,
    "start_time": "2023-08-21T10:49:47.135Z"
   },
   {
    "duration": 5,
    "start_time": "2023-08-21T10:49:48.971Z"
   },
   {
    "duration": 5,
    "start_time": "2023-08-21T10:50:56.674Z"
   },
   {
    "duration": 5,
    "start_time": "2023-08-21T10:51:11.769Z"
   },
   {
    "duration": 5,
    "start_time": "2023-08-21T10:51:13.914Z"
   },
   {
    "duration": 4,
    "start_time": "2023-08-21T10:51:29.496Z"
   },
   {
    "duration": 5,
    "start_time": "2023-08-21T10:51:34.541Z"
   },
   {
    "duration": 35,
    "start_time": "2023-08-21T10:52:03.333Z"
   },
   {
    "duration": 47,
    "start_time": "2023-08-21T10:52:18.329Z"
   },
   {
    "duration": 5,
    "start_time": "2023-08-21T10:52:58.093Z"
   },
   {
    "duration": 25,
    "start_time": "2023-08-21T10:53:05.948Z"
   },
   {
    "duration": 3,
    "start_time": "2023-08-21T10:53:21.483Z"
   },
   {
    "duration": 5,
    "start_time": "2023-08-21T10:53:28.325Z"
   },
   {
    "duration": 5,
    "start_time": "2023-08-21T10:53:33.870Z"
   },
   {
    "duration": 4,
    "start_time": "2023-08-21T10:53:41.179Z"
   },
   {
    "duration": 93,
    "start_time": "2023-08-21T10:55:38.834Z"
   },
   {
    "duration": 332,
    "start_time": "2023-08-21T10:55:45.041Z"
   },
   {
    "duration": 6,
    "start_time": "2023-08-21T11:36:09.827Z"
   },
   {
    "duration": 209,
    "start_time": "2023-08-21T11:36:41.525Z"
   },
   {
    "duration": 15,
    "start_time": "2023-08-21T11:36:47.844Z"
   },
   {
    "duration": 5,
    "start_time": "2023-08-21T11:36:53.493Z"
   },
   {
    "duration": 3,
    "start_time": "2023-08-21T11:43:13.213Z"
   },
   {
    "duration": 6,
    "start_time": "2023-08-21T11:44:18.513Z"
   },
   {
    "duration": 6,
    "start_time": "2023-08-21T11:45:07.696Z"
   },
   {
    "duration": 6,
    "start_time": "2023-08-21T11:45:12.147Z"
   },
   {
    "duration": 8,
    "start_time": "2023-08-21T11:47:05.395Z"
   },
   {
    "duration": 5,
    "start_time": "2023-08-21T11:48:35.840Z"
   },
   {
    "duration": 19,
    "start_time": "2023-08-21T11:50:52.740Z"
   },
   {
    "duration": 10,
    "start_time": "2023-08-21T11:52:03.450Z"
   },
   {
    "duration": 7,
    "start_time": "2023-08-21T11:52:14.978Z"
   },
   {
    "duration": 7,
    "start_time": "2023-08-21T11:52:30.389Z"
   },
   {
    "duration": 9,
    "start_time": "2023-08-21T11:54:15.445Z"
   },
   {
    "duration": 10,
    "start_time": "2023-08-21T11:54:26.769Z"
   },
   {
    "duration": 6,
    "start_time": "2023-08-21T11:54:34.817Z"
   },
   {
    "duration": 9,
    "start_time": "2023-08-21T11:58:29.247Z"
   },
   {
    "duration": 8,
    "start_time": "2023-08-21T12:00:36.508Z"
   },
   {
    "duration": 15,
    "start_time": "2023-08-21T12:00:45.053Z"
   },
   {
    "duration": 15,
    "start_time": "2023-08-21T12:01:15.695Z"
   },
   {
    "duration": 27,
    "start_time": "2023-08-21T12:01:57.953Z"
   },
   {
    "duration": 15,
    "start_time": "2023-08-21T12:02:22.019Z"
   },
   {
    "duration": 11,
    "start_time": "2023-08-21T12:02:38.128Z"
   },
   {
    "duration": 14,
    "start_time": "2023-08-21T12:03:05.689Z"
   },
   {
    "duration": 24,
    "start_time": "2023-08-21T12:03:21.802Z"
   },
   {
    "duration": 10,
    "start_time": "2023-08-21T12:04:59.668Z"
   },
   {
    "duration": 13,
    "start_time": "2023-08-21T12:13:48.980Z"
   },
   {
    "duration": 47,
    "start_time": "2023-08-21T12:13:51.725Z"
   },
   {
    "duration": 15,
    "start_time": "2023-08-21T12:13:52.912Z"
   },
   {
    "duration": 15,
    "start_time": "2023-08-21T12:16:04.116Z"
   },
   {
    "duration": 14,
    "start_time": "2023-08-21T12:35:12.103Z"
   },
   {
    "duration": 19,
    "start_time": "2023-08-21T12:37:49.109Z"
   },
   {
    "duration": 17,
    "start_time": "2023-08-21T12:38:56.279Z"
   },
   {
    "duration": 15,
    "start_time": "2023-08-21T12:39:45.328Z"
   },
   {
    "duration": 1831,
    "start_time": "2023-08-22T08:02:22.246Z"
   },
   {
    "duration": 1759,
    "start_time": "2023-08-22T08:02:25.236Z"
   },
   {
    "duration": 37,
    "start_time": "2023-08-22T08:02:27.607Z"
   },
   {
    "duration": 177,
    "start_time": "2023-08-22T08:02:30.033Z"
   },
   {
    "duration": 49,
    "start_time": "2023-08-22T08:02:30.838Z"
   },
   {
    "duration": 116,
    "start_time": "2023-08-22T08:02:33.072Z"
   },
   {
    "duration": 3,
    "start_time": "2023-08-22T08:02:34.631Z"
   },
   {
    "duration": 55,
    "start_time": "2023-08-22T08:02:35.160Z"
   },
   {
    "duration": 1155,
    "start_time": "2023-08-22T08:02:38.616Z"
   },
   {
    "duration": 4,
    "start_time": "2023-08-22T08:02:46.413Z"
   },
   {
    "duration": 3,
    "start_time": "2023-08-22T08:02:47.207Z"
   },
   {
    "duration": 87,
    "start_time": "2023-08-22T08:02:50.359Z"
   },
   {
    "duration": 146,
    "start_time": "2023-08-22T08:02:51.929Z"
   },
   {
    "duration": 76,
    "start_time": "2023-08-22T08:03:37.300Z"
   },
   {
    "duration": 41,
    "start_time": "2023-08-22T08:03:38.874Z"
   },
   {
    "duration": 1583,
    "start_time": "2023-08-22T08:09:39.239Z"
   },
   {
    "duration": 1705,
    "start_time": "2023-08-22T08:09:41.085Z"
   },
   {
    "duration": 25,
    "start_time": "2023-08-22T08:09:42.792Z"
   },
   {
    "duration": 154,
    "start_time": "2023-08-22T08:09:42.819Z"
   },
   {
    "duration": 38,
    "start_time": "2023-08-22T08:09:46.997Z"
   },
   {
    "duration": 110,
    "start_time": "2023-08-22T08:09:49.294Z"
   },
   {
    "duration": 2,
    "start_time": "2023-08-22T08:09:51.470Z"
   },
   {
    "duration": 44,
    "start_time": "2023-08-22T08:09:52.766Z"
   },
   {
    "duration": 20,
    "start_time": "2023-08-22T08:09:53.446Z"
   },
   {
    "duration": 991,
    "start_time": "2023-08-22T08:09:55.884Z"
   },
   {
    "duration": 3,
    "start_time": "2023-08-22T08:10:00.814Z"
   },
   {
    "duration": 3,
    "start_time": "2023-08-22T08:10:01.690Z"
   },
   {
    "duration": 41,
    "start_time": "2023-08-22T08:10:02.537Z"
   },
   {
    "duration": 13,
    "start_time": "2023-08-22T08:10:05.235Z"
   },
   {
    "duration": 5,
    "start_time": "2023-08-22T08:10:08.103Z"
   },
   {
    "duration": 4,
    "start_time": "2023-08-22T08:10:10.848Z"
   },
   {
    "duration": 3,
    "start_time": "2023-08-22T08:10:16.097Z"
   },
   {
    "duration": 6,
    "start_time": "2023-08-22T08:10:18.950Z"
   },
   {
    "duration": 6,
    "start_time": "2023-08-22T08:10:22.009Z"
   },
   {
    "duration": 36,
    "start_time": "2023-08-22T08:11:24.867Z"
   },
   {
    "duration": 119,
    "start_time": "2023-08-22T08:11:26.309Z"
   },
   {
    "duration": 17,
    "start_time": "2023-08-22T08:12:00.970Z"
   },
   {
    "duration": 12,
    "start_time": "2023-08-22T08:16:12.771Z"
   },
   {
    "duration": 12,
    "start_time": "2023-08-22T08:16:52.520Z"
   },
   {
    "duration": 1991,
    "start_time": "2023-08-22T08:17:33.643Z"
   },
   {
    "duration": 5,
    "start_time": "2023-08-22T08:22:02.991Z"
   },
   {
    "duration": 4,
    "start_time": "2023-08-22T08:22:19.520Z"
   },
   {
    "duration": 6,
    "start_time": "2023-08-22T08:22:37.782Z"
   },
   {
    "duration": 11,
    "start_time": "2023-08-22T08:26:52.927Z"
   },
   {
    "duration": 13,
    "start_time": "2023-08-22T08:27:44.354Z"
   },
   {
    "duration": 15,
    "start_time": "2023-08-22T08:32:51.084Z"
   },
   {
    "duration": 15,
    "start_time": "2023-08-22T08:48:10.206Z"
   },
   {
    "duration": 13,
    "start_time": "2023-08-22T08:49:26.286Z"
   },
   {
    "duration": 15,
    "start_time": "2023-08-22T08:49:37.496Z"
   },
   {
    "duration": 7,
    "start_time": "2023-08-22T08:49:49.573Z"
   },
   {
    "duration": 5,
    "start_time": "2023-08-22T08:49:51.622Z"
   },
   {
    "duration": 6,
    "start_time": "2023-08-22T08:49:53.288Z"
   },
   {
    "duration": 14,
    "start_time": "2023-08-22T08:49:55.691Z"
   },
   {
    "duration": 17,
    "start_time": "2023-08-22T08:52:14.595Z"
   },
   {
    "duration": 16,
    "start_time": "2023-08-22T08:53:19.523Z"
   },
   {
    "duration": 5,
    "start_time": "2023-08-22T08:55:18.445Z"
   },
   {
    "duration": 5,
    "start_time": "2023-08-22T08:55:41.186Z"
   },
   {
    "duration": 12,
    "start_time": "2023-08-22T08:55:53.066Z"
   },
   {
    "duration": 6,
    "start_time": "2023-08-22T08:55:57.759Z"
   },
   {
    "duration": 14,
    "start_time": "2023-08-22T08:56:12.692Z"
   },
   {
    "duration": 14,
    "start_time": "2023-08-22T08:56:18.748Z"
   },
   {
    "duration": 6,
    "start_time": "2023-08-22T08:56:22.582Z"
   },
   {
    "duration": 12,
    "start_time": "2023-08-22T08:57:40.310Z"
   },
   {
    "duration": 6,
    "start_time": "2023-08-22T08:57:47.790Z"
   },
   {
    "duration": 17,
    "start_time": "2023-08-22T08:57:53.825Z"
   },
   {
    "duration": 6,
    "start_time": "2023-08-22T08:57:58.908Z"
   },
   {
    "duration": 5,
    "start_time": "2023-08-22T08:58:04.844Z"
   },
   {
    "duration": 5,
    "start_time": "2023-08-22T08:59:07.160Z"
   },
   {
    "duration": 4,
    "start_time": "2023-08-22T08:59:17.450Z"
   },
   {
    "duration": 12,
    "start_time": "2023-08-22T09:00:48.598Z"
   },
   {
    "duration": 11,
    "start_time": "2023-08-22T09:01:04.443Z"
   },
   {
    "duration": 124,
    "start_time": "2023-08-22T09:01:44.967Z"
   },
   {
    "duration": 155,
    "start_time": "2023-08-22T09:01:54.068Z"
   },
   {
    "duration": 14,
    "start_time": "2023-08-22T09:12:57.873Z"
   },
   {
    "duration": 170,
    "start_time": "2023-08-22T09:13:01.074Z"
   },
   {
    "duration": 18,
    "start_time": "2023-08-22T09:23:50.799Z"
   },
   {
    "duration": 2096,
    "start_time": "2023-08-22T12:14:59.476Z"
   },
   {
    "duration": 1204,
    "start_time": "2023-08-22T12:15:01.575Z"
   },
   {
    "duration": 29,
    "start_time": "2023-08-22T12:15:02.781Z"
   },
   {
    "duration": 211,
    "start_time": "2023-08-22T12:15:02.873Z"
   },
   {
    "duration": 75,
    "start_time": "2023-08-22T12:15:04.597Z"
   },
   {
    "duration": 162,
    "start_time": "2023-08-22T12:15:06.073Z"
   },
   {
    "duration": 2,
    "start_time": "2023-08-22T12:15:08.818Z"
   },
   {
    "duration": 62,
    "start_time": "2023-08-22T12:15:09.215Z"
   },
   {
    "duration": 16,
    "start_time": "2023-08-22T12:15:09.972Z"
   },
   {
    "duration": 1107,
    "start_time": "2023-08-22T12:15:11.962Z"
   },
   {
    "duration": 3,
    "start_time": "2023-08-22T12:15:16.159Z"
   },
   {
    "duration": 2,
    "start_time": "2023-08-22T12:15:16.773Z"
   },
   {
    "duration": 43,
    "start_time": "2023-08-22T12:15:17.334Z"
   },
   {
    "duration": 81,
    "start_time": "2023-08-22T12:15:18.858Z"
   },
   {
    "duration": 6,
    "start_time": "2023-08-22T12:15:21.311Z"
   },
   {
    "duration": 5,
    "start_time": "2023-08-22T12:15:23.913Z"
   },
   {
    "duration": 4,
    "start_time": "2023-08-22T12:15:30.389Z"
   },
   {
    "duration": 7,
    "start_time": "2023-08-22T12:15:33.000Z"
   },
   {
    "duration": 5,
    "start_time": "2023-08-22T12:15:59.615Z"
   },
   {
    "duration": 5,
    "start_time": "2023-08-22T12:16:02.414Z"
   },
   {
    "duration": 10,
    "start_time": "2023-08-22T12:16:35.447Z"
   },
   {
    "duration": 6,
    "start_time": "2023-08-22T12:16:39.252Z"
   },
   {
    "duration": 4,
    "start_time": "2023-08-22T12:16:41.382Z"
   },
   {
    "duration": 5,
    "start_time": "2023-08-22T12:16:43.068Z"
   },
   {
    "duration": 3,
    "start_time": "2023-08-22T12:16:44.280Z"
   },
   {
    "duration": 147,
    "start_time": "2023-08-22T12:16:46.401Z"
   },
   {
    "duration": 5,
    "start_time": "2023-08-22T12:18:30.789Z"
   },
   {
    "duration": 15,
    "start_time": "2023-08-22T12:19:14.828Z"
   },
   {
    "duration": 10,
    "start_time": "2023-08-22T12:20:30.287Z"
   },
   {
    "duration": 5,
    "start_time": "2023-08-22T12:20:45.291Z"
   },
   {
    "duration": 5,
    "start_time": "2023-08-22T12:21:16.184Z"
   },
   {
    "duration": 5,
    "start_time": "2023-08-22T12:21:31.060Z"
   },
   {
    "duration": 6,
    "start_time": "2023-08-22T12:21:40.790Z"
   },
   {
    "duration": 5,
    "start_time": "2023-08-22T12:22:21.675Z"
   },
   {
    "duration": 4,
    "start_time": "2023-08-22T12:22:30.675Z"
   },
   {
    "duration": 3,
    "start_time": "2023-08-22T12:22:47.878Z"
   },
   {
    "duration": 10,
    "start_time": "2023-08-22T12:22:57.810Z"
   },
   {
    "duration": 6,
    "start_time": "2023-08-22T12:23:13.169Z"
   },
   {
    "duration": 6,
    "start_time": "2023-08-22T12:24:03.072Z"
   },
   {
    "duration": 17,
    "start_time": "2023-08-22T12:27:19.723Z"
   },
   {
    "duration": 7,
    "start_time": "2023-08-22T12:27:29.017Z"
   },
   {
    "duration": 15,
    "start_time": "2023-08-22T12:27:46.446Z"
   },
   {
    "duration": 7,
    "start_time": "2023-08-22T12:27:49.848Z"
   },
   {
    "duration": 143,
    "start_time": "2023-08-22T12:28:16.209Z"
   },
   {
    "duration": 3,
    "start_time": "2023-08-22T12:28:31.809Z"
   },
   {
    "duration": 4,
    "start_time": "2023-08-22T12:30:20.003Z"
   },
   {
    "duration": 5,
    "start_time": "2023-08-22T12:31:08.790Z"
   },
   {
    "duration": 7,
    "start_time": "2023-08-22T12:31:18.747Z"
   },
   {
    "duration": 5,
    "start_time": "2023-08-22T12:32:07.821Z"
   },
   {
    "duration": 4,
    "start_time": "2023-08-22T12:32:14.201Z"
   },
   {
    "duration": 7,
    "start_time": "2023-08-22T12:32:15.901Z"
   },
   {
    "duration": 141,
    "start_time": "2023-08-22T13:15:29.048Z"
   },
   {
    "duration": 6,
    "start_time": "2023-08-22T13:15:32.291Z"
   },
   {
    "duration": 15,
    "start_time": "2023-08-22T13:17:02.591Z"
   },
   {
    "duration": 3,
    "start_time": "2023-08-22T13:21:17.310Z"
   },
   {
    "duration": 6,
    "start_time": "2023-08-22T13:21:19.604Z"
   },
   {
    "duration": 19,
    "start_time": "2023-08-22T13:21:23.729Z"
   },
   {
    "duration": 8,
    "start_time": "2023-08-22T13:24:43.627Z"
   },
   {
    "duration": 336,
    "start_time": "2023-08-22T13:25:02.539Z"
   },
   {
    "duration": 5,
    "start_time": "2023-08-22T13:25:13.538Z"
   },
   {
    "duration": 3,
    "start_time": "2023-08-22T14:36:19.012Z"
   },
   {
    "duration": 415,
    "start_time": "2023-08-22T14:36:21.031Z"
   },
   {
    "duration": 4,
    "start_time": "2023-08-22T14:36:27.838Z"
   },
   {
    "duration": 6,
    "start_time": "2023-08-22T14:36:29.864Z"
   },
   {
    "duration": 8,
    "start_time": "2023-08-22T14:36:32.201Z"
   },
   {
    "duration": 5,
    "start_time": "2023-08-22T14:36:39.905Z"
   },
   {
    "duration": 2,
    "start_time": "2023-08-22T14:40:58.589Z"
   },
   {
    "duration": 66,
    "start_time": "2023-08-22T14:41:00.614Z"
   },
   {
    "duration": 31,
    "start_time": "2023-08-22T14:41:04.183Z"
   },
   {
    "duration": 1812,
    "start_time": "2023-08-22T15:11:01.343Z"
   },
   {
    "duration": 484,
    "start_time": "2023-08-22T15:11:03.717Z"
   },
   {
    "duration": 49,
    "start_time": "2023-08-22T15:11:07.097Z"
   },
   {
    "duration": 192,
    "start_time": "2023-08-22T15:11:09.313Z"
   },
   {
    "duration": 61,
    "start_time": "2023-08-22T15:11:10.261Z"
   },
   {
    "duration": 118,
    "start_time": "2023-08-22T15:11:11.984Z"
   },
   {
    "duration": 4,
    "start_time": "2023-08-22T15:11:13.465Z"
   },
   {
    "duration": 62,
    "start_time": "2023-08-22T15:11:14.253Z"
   },
   {
    "duration": 1110,
    "start_time": "2023-08-22T15:11:17.938Z"
   },
   {
    "duration": 3,
    "start_time": "2023-08-22T15:11:43.682Z"
   },
   {
    "duration": 86,
    "start_time": "2023-08-22T15:11:48.979Z"
   },
   {
    "duration": 162,
    "start_time": "2023-08-22T15:11:55.010Z"
   },
   {
    "duration": 7,
    "start_time": "2023-08-22T15:12:17.335Z"
   },
   {
    "duration": 432,
    "start_time": "2023-08-22T15:12:18.873Z"
   },
   {
    "duration": 24,
    "start_time": "2023-08-22T15:12:19.440Z"
   },
   {
    "duration": 175,
    "start_time": "2023-08-22T15:12:19.918Z"
   },
   {
    "duration": 41,
    "start_time": "2023-08-22T15:12:21.965Z"
   },
   {
    "duration": 107,
    "start_time": "2023-08-22T15:12:22.697Z"
   },
   {
    "duration": 8,
    "start_time": "2023-08-22T15:12:24.990Z"
   },
   {
    "duration": 56,
    "start_time": "2023-08-22T15:12:25.607Z"
   },
   {
    "duration": 14,
    "start_time": "2023-08-22T15:12:26.936Z"
   },
   {
    "duration": 1087,
    "start_time": "2023-08-22T15:12:28.800Z"
   },
   {
    "duration": 2,
    "start_time": "2023-08-22T15:12:32.951Z"
   },
   {
    "duration": 29,
    "start_time": "2023-08-22T15:12:34.645Z"
   },
   {
    "duration": 22,
    "start_time": "2023-08-22T15:14:16.444Z"
   },
   {
    "duration": 5,
    "start_time": "2023-08-22T15:14:19.314Z"
   },
   {
    "duration": 5,
    "start_time": "2023-08-22T15:14:23.017Z"
   },
   {
    "duration": 6,
    "start_time": "2023-08-22T15:15:54.081Z"
   },
   {
    "duration": 4,
    "start_time": "2023-08-22T15:15:56.238Z"
   },
   {
    "duration": 5,
    "start_time": "2023-08-22T15:16:03.638Z"
   },
   {
    "duration": 6,
    "start_time": "2023-08-22T15:16:04.895Z"
   },
   {
    "duration": 26,
    "start_time": "2023-08-22T15:16:39.768Z"
   },
   {
    "duration": 18,
    "start_time": "2023-08-22T15:16:41.783Z"
   },
   {
    "duration": 4,
    "start_time": "2023-08-22T15:16:47.966Z"
   },
   {
    "duration": 5,
    "start_time": "2023-08-22T15:16:50.798Z"
   },
   {
    "duration": 4,
    "start_time": "2023-08-22T15:18:02.576Z"
   },
   {
    "duration": 5,
    "start_time": "2023-08-22T15:18:05.653Z"
   },
   {
    "duration": 1543,
    "start_time": "2023-08-22T15:18:24.811Z"
   },
   {
    "duration": 412,
    "start_time": "2023-08-22T15:18:26.759Z"
   },
   {
    "duration": 24,
    "start_time": "2023-08-22T15:18:28.951Z"
   },
   {
    "duration": 165,
    "start_time": "2023-08-22T15:18:30.489Z"
   },
   {
    "duration": 51,
    "start_time": "2023-08-22T15:18:31.999Z"
   },
   {
    "duration": 100,
    "start_time": "2023-08-22T15:18:33.884Z"
   },
   {
    "duration": 7,
    "start_time": "2023-08-22T15:18:35.535Z"
   },
   {
    "duration": 68,
    "start_time": "2023-08-22T15:18:36.154Z"
   },
   {
    "duration": 18,
    "start_time": "2023-08-22T15:18:37.644Z"
   },
   {
    "duration": 950,
    "start_time": "2023-08-22T15:18:39.509Z"
   },
   {
    "duration": 3,
    "start_time": "2023-08-22T15:18:46.550Z"
   },
   {
    "duration": 34,
    "start_time": "2023-08-22T15:18:47.952Z"
   },
   {
    "duration": 16,
    "start_time": "2023-08-22T15:18:50.798Z"
   },
   {
    "duration": 4,
    "start_time": "2023-08-22T15:18:52.980Z"
   },
   {
    "duration": 5,
    "start_time": "2023-08-22T15:18:54.730Z"
   },
   {
    "duration": 4,
    "start_time": "2023-08-22T15:19:09.894Z"
   },
   {
    "duration": 5,
    "start_time": "2023-08-22T15:19:14.199Z"
   },
   {
    "duration": 29,
    "start_time": "2023-08-22T15:20:00.442Z"
   },
   {
    "duration": 21,
    "start_time": "2023-08-22T15:20:02.891Z"
   },
   {
    "duration": 5,
    "start_time": "2023-08-22T15:20:04.913Z"
   },
   {
    "duration": 4,
    "start_time": "2023-08-22T15:20:35.193Z"
   },
   {
    "duration": 4,
    "start_time": "2023-08-22T15:20:36.908Z"
   },
   {
    "duration": 27,
    "start_time": "2023-08-22T15:21:13.181Z"
   },
   {
    "duration": 5,
    "start_time": "2023-08-22T15:21:21.162Z"
   },
   {
    "duration": 4,
    "start_time": "2023-08-22T15:21:22.806Z"
   },
   {
    "duration": 248,
    "start_time": "2023-08-22T15:22:11.787Z"
   },
   {
    "duration": 3,
    "start_time": "2023-08-22T15:24:38.002Z"
   },
   {
    "duration": 6,
    "start_time": "2023-08-22T15:24:48.575Z"
   },
   {
    "duration": 5,
    "start_time": "2023-08-22T15:24:50.602Z"
   },
   {
    "duration": 33,
    "start_time": "2023-08-22T15:26:49.514Z"
   },
   {
    "duration": 194,
    "start_time": "2023-08-22T15:26:51.338Z"
   },
   {
    "duration": 4,
    "start_time": "2023-08-22T15:26:53.297Z"
   },
   {
    "duration": 8,
    "start_time": "2023-08-22T15:28:03.278Z"
   },
   {
    "duration": 6,
    "start_time": "2023-08-22T15:28:12.803Z"
   },
   {
    "duration": 4,
    "start_time": "2023-08-22T15:34:08.562Z"
   },
   {
    "duration": 6,
    "start_time": "2023-08-22T15:34:42.367Z"
   },
   {
    "duration": 8,
    "start_time": "2023-08-22T15:35:00.298Z"
   },
   {
    "duration": 9,
    "start_time": "2023-08-22T15:36:32.386Z"
   },
   {
    "duration": 6,
    "start_time": "2023-08-22T15:36:43.439Z"
   },
   {
    "duration": 5,
    "start_time": "2023-08-22T15:36:57.339Z"
   },
   {
    "duration": 114,
    "start_time": "2023-08-22T15:38:45.581Z"
   },
   {
    "duration": 11,
    "start_time": "2023-08-22T15:39:33.596Z"
   },
   {
    "duration": 11,
    "start_time": "2023-08-22T15:39:53.837Z"
   },
   {
    "duration": 14,
    "start_time": "2023-08-22T15:43:07.452Z"
   },
   {
    "duration": 75,
    "start_time": "2023-08-22T15:44:42.768Z"
   },
   {
    "duration": 74,
    "start_time": "2023-08-22T15:45:15.705Z"
   },
   {
    "duration": 70,
    "start_time": "2023-08-22T15:46:21.750Z"
   },
   {
    "duration": 10,
    "start_time": "2023-08-22T15:46:58.820Z"
   },
   {
    "duration": 13,
    "start_time": "2023-08-22T15:47:06.829Z"
   },
   {
    "duration": 5,
    "start_time": "2023-08-22T15:48:19.959Z"
   },
   {
    "duration": 6,
    "start_time": "2023-08-22T15:48:37.838Z"
   },
   {
    "duration": 11,
    "start_time": "2023-08-22T15:48:56.428Z"
   },
   {
    "duration": 193,
    "start_time": "2023-08-22T15:49:54.279Z"
   },
   {
    "duration": 102,
    "start_time": "2023-08-22T15:50:57.766Z"
   },
   {
    "duration": 100,
    "start_time": "2023-08-22T15:53:17.761Z"
   },
   {
    "duration": 9,
    "start_time": "2023-08-22T15:54:00.125Z"
   },
   {
    "duration": 99,
    "start_time": "2023-08-22T15:54:44.125Z"
   },
   {
    "duration": 10,
    "start_time": "2023-08-22T15:54:45.503Z"
   },
   {
    "duration": 105,
    "start_time": "2023-08-22T15:56:23.042Z"
   },
   {
    "duration": 12,
    "start_time": "2023-08-22T16:01:10.367Z"
   },
   {
    "duration": 9,
    "start_time": "2023-08-22T16:02:08.851Z"
   },
   {
    "duration": 9,
    "start_time": "2023-08-22T16:02:22.600Z"
   },
   {
    "duration": 94,
    "start_time": "2023-08-22T16:03:37.886Z"
   },
   {
    "duration": 101,
    "start_time": "2023-08-22T16:03:54.174Z"
   },
   {
    "duration": 103,
    "start_time": "2023-08-22T16:05:47.244Z"
   },
   {
    "duration": 102,
    "start_time": "2023-08-22T16:06:50.483Z"
   },
   {
    "duration": 93,
    "start_time": "2023-08-22T16:07:01.725Z"
   },
   {
    "duration": 9,
    "start_time": "2023-08-22T16:07:03.240Z"
   },
   {
    "duration": 104,
    "start_time": "2023-08-22T16:09:07.254Z"
   },
   {
    "duration": 188,
    "start_time": "2023-08-22T16:09:35.506Z"
   },
   {
    "duration": 111,
    "start_time": "2023-08-22T16:09:50.294Z"
   },
   {
    "duration": 98,
    "start_time": "2023-08-22T16:11:51.697Z"
   },
   {
    "duration": 109,
    "start_time": "2023-08-22T16:17:31.987Z"
   },
   {
    "duration": 3,
    "start_time": "2023-08-22T16:19:06.698Z"
   },
   {
    "duration": 101,
    "start_time": "2023-08-22T16:19:14.671Z"
   },
   {
    "duration": 101,
    "start_time": "2023-08-22T16:19:38.213Z"
   },
   {
    "duration": 102,
    "start_time": "2023-08-22T16:19:50.471Z"
   },
   {
    "duration": 9,
    "start_time": "2023-08-22T16:20:49.656Z"
   },
   {
    "duration": 4,
    "start_time": "2023-08-22T16:21:13.506Z"
   },
   {
    "duration": 8,
    "start_time": "2023-08-22T16:21:17.742Z"
   },
   {
    "duration": 104,
    "start_time": "2023-08-22T16:21:20.821Z"
   },
   {
    "duration": 10,
    "start_time": "2023-08-22T16:21:32.176Z"
   },
   {
    "duration": 102,
    "start_time": "2023-08-22T16:23:59.363Z"
   },
   {
    "duration": 10,
    "start_time": "2023-08-22T16:24:00.792Z"
   },
   {
    "duration": 14,
    "start_time": "2023-08-22T16:24:38.419Z"
   },
   {
    "duration": 5,
    "start_time": "2023-08-22T16:25:01.519Z"
   },
   {
    "duration": 6,
    "start_time": "2023-08-22T16:25:06.361Z"
   },
   {
    "duration": 116,
    "start_time": "2023-08-22T16:26:15.100Z"
   },
   {
    "duration": 12,
    "start_time": "2023-08-22T16:26:22.127Z"
   },
   {
    "duration": 9,
    "start_time": "2023-08-22T16:26:40.999Z"
   },
   {
    "duration": 102,
    "start_time": "2023-08-22T16:27:21.392Z"
   },
   {
    "duration": 9,
    "start_time": "2023-08-22T16:27:25.681Z"
   },
   {
    "duration": 110,
    "start_time": "2023-08-22T16:32:14.285Z"
   },
   {
    "duration": 1371,
    "start_time": "2023-08-22T16:32:51.574Z"
   },
   {
    "duration": 391,
    "start_time": "2023-08-22T16:32:53.273Z"
   },
   {
    "duration": 27,
    "start_time": "2023-08-22T16:32:54.953Z"
   },
   {
    "duration": 145,
    "start_time": "2023-08-22T16:32:56.617Z"
   },
   {
    "duration": 40,
    "start_time": "2023-08-22T16:32:57.366Z"
   },
   {
    "duration": 102,
    "start_time": "2023-08-22T16:32:59.067Z"
   },
   {
    "duration": 2,
    "start_time": "2023-08-22T16:33:01.172Z"
   },
   {
    "duration": 41,
    "start_time": "2023-08-22T16:33:02.695Z"
   },
   {
    "duration": 17,
    "start_time": "2023-08-22T16:33:04.552Z"
   },
   {
    "duration": 978,
    "start_time": "2023-08-22T16:33:06.268Z"
   },
   {
    "duration": 2,
    "start_time": "2023-08-22T16:33:10.615Z"
   },
   {
    "duration": 37,
    "start_time": "2023-08-22T16:33:12.283Z"
   },
   {
    "duration": 169,
    "start_time": "2023-08-22T16:33:14.656Z"
   },
   {
    "duration": 6,
    "start_time": "2023-08-22T16:33:16.522Z"
   },
   {
    "duration": 5,
    "start_time": "2023-08-22T16:33:18.542Z"
   },
   {
    "duration": 4,
    "start_time": "2023-08-22T16:33:24.730Z"
   },
   {
    "duration": 5,
    "start_time": "2023-08-22T16:33:28.033Z"
   },
   {
    "duration": 6,
    "start_time": "2023-08-22T16:33:31.829Z"
   },
   {
    "duration": 8,
    "start_time": "2023-08-22T16:33:35.241Z"
   },
   {
    "duration": 5,
    "start_time": "2023-08-22T16:33:37.190Z"
   },
   {
    "duration": 5,
    "start_time": "2023-08-22T16:33:39.223Z"
   },
   {
    "duration": 104,
    "start_time": "2023-08-22T16:33:45.867Z"
   },
   {
    "duration": 9,
    "start_time": "2023-08-22T16:33:48.264Z"
   },
   {
    "duration": 104,
    "start_time": "2023-08-22T16:34:47.476Z"
   },
   {
    "duration": 99,
    "start_time": "2023-08-22T16:41:10.103Z"
   },
   {
    "duration": 8,
    "start_time": "2023-08-22T16:41:27.882Z"
   },
   {
    "duration": 12,
    "start_time": "2023-08-22T16:42:42.931Z"
   },
   {
    "duration": 93,
    "start_time": "2023-08-22T16:44:36.714Z"
   },
   {
    "duration": 8,
    "start_time": "2023-08-22T16:44:38.265Z"
   },
   {
    "duration": 49,
    "start_time": "2023-08-22T16:47:35.509Z"
   },
   {
    "duration": 10,
    "start_time": "2023-08-22T16:47:37.303Z"
   },
   {
    "duration": 101,
    "start_time": "2023-08-22T16:48:37.300Z"
   },
   {
    "duration": 9,
    "start_time": "2023-08-22T16:48:56.637Z"
   },
   {
    "duration": 90,
    "start_time": "2023-08-22T16:49:33.817Z"
   },
   {
    "duration": 9,
    "start_time": "2023-08-22T16:49:49.145Z"
   },
   {
    "duration": 82,
    "start_time": "2023-08-22T16:50:55.135Z"
   },
   {
    "duration": 18,
    "start_time": "2023-08-22T16:51:10.739Z"
   },
   {
    "duration": 7,
    "start_time": "2023-08-22T16:51:43.627Z"
   },
   {
    "duration": 17,
    "start_time": "2023-08-22T16:51:49.795Z"
   },
   {
    "duration": 88,
    "start_time": "2023-08-22T16:55:48.343Z"
   },
   {
    "duration": 18,
    "start_time": "2023-08-22T16:56:34.195Z"
   },
   {
    "duration": 17,
    "start_time": "2023-08-22T16:57:05.670Z"
   },
   {
    "duration": 1716,
    "start_time": "2023-08-22T17:00:49.318Z"
   },
   {
    "duration": 1710,
    "start_time": "2023-08-22T17:01:34.646Z"
   },
   {
    "duration": 1820,
    "start_time": "2023-08-22T17:01:45.841Z"
   },
   {
    "duration": 61,
    "start_time": "2023-08-22T17:02:18.926Z"
   },
   {
    "duration": 10,
    "start_time": "2023-08-22T17:02:20.490Z"
   },
   {
    "duration": 8,
    "start_time": "2023-08-22T17:07:06.535Z"
   },
   {
    "duration": 8,
    "start_time": "2023-08-22T17:13:44.185Z"
   },
   {
    "duration": 8,
    "start_time": "2023-08-22T17:14:28.267Z"
   },
   {
    "duration": 4,
    "start_time": "2023-08-22T17:14:30.104Z"
   },
   {
    "duration": 6,
    "start_time": "2023-08-22T17:14:31.904Z"
   },
   {
    "duration": 13,
    "start_time": "2023-08-22T17:14:36.564Z"
   },
   {
    "duration": 4126,
    "start_time": "2023-08-22T20:58:37.668Z"
   },
   {
    "duration": 962,
    "start_time": "2023-08-22T20:58:41.796Z"
   },
   {
    "duration": 33,
    "start_time": "2023-08-22T20:58:42.760Z"
   },
   {
    "duration": 168,
    "start_time": "2023-08-22T20:58:42.794Z"
   },
   {
    "duration": 72,
    "start_time": "2023-08-22T20:58:42.964Z"
   },
   {
    "duration": 144,
    "start_time": "2023-08-22T20:58:43.038Z"
   },
   {
    "duration": 8,
    "start_time": "2023-08-22T20:58:43.189Z"
   },
   {
    "duration": 62,
    "start_time": "2023-08-22T20:58:43.202Z"
   },
   {
    "duration": 27,
    "start_time": "2023-08-22T20:58:43.266Z"
   },
   {
    "duration": 1034,
    "start_time": "2023-08-22T20:58:43.301Z"
   },
   {
    "duration": 3,
    "start_time": "2023-08-22T20:58:44.337Z"
   },
   {
    "duration": 58,
    "start_time": "2023-08-22T20:58:44.341Z"
   },
   {
    "duration": 185,
    "start_time": "2023-08-22T20:58:44.402Z"
   },
   {
    "duration": 10,
    "start_time": "2023-08-22T20:58:44.590Z"
   },
   {
    "duration": 85,
    "start_time": "2023-08-22T20:58:44.602Z"
   },
   {
    "duration": 7,
    "start_time": "2023-08-22T20:58:44.692Z"
   },
   {
    "duration": 85,
    "start_time": "2023-08-22T20:58:44.701Z"
   },
   {
    "duration": 9,
    "start_time": "2023-08-22T20:58:44.792Z"
   },
   {
    "duration": 9,
    "start_time": "2023-08-22T20:58:44.803Z"
   },
   {
    "duration": 5,
    "start_time": "2023-08-22T20:58:44.814Z"
   },
   {
    "duration": 8,
    "start_time": "2023-08-22T20:58:44.821Z"
   },
   {
    "duration": 103,
    "start_time": "2023-08-22T20:58:44.831Z"
   },
   {
    "duration": 9,
    "start_time": "2023-08-22T20:58:44.936Z"
   },
   {
    "duration": 5,
    "start_time": "2023-08-22T20:59:13.009Z"
   },
   {
    "duration": 92,
    "start_time": "2023-08-22T20:59:17.391Z"
   },
   {
    "duration": 10,
    "start_time": "2023-08-22T20:59:17.957Z"
   },
   {
    "duration": 5,
    "start_time": "2023-08-22T20:59:30.655Z"
   },
   {
    "duration": 157,
    "start_time": "2023-08-22T20:59:34.706Z"
   },
   {
    "duration": 5,
    "start_time": "2023-08-22T20:59:37.007Z"
   },
   {
    "duration": 1475,
    "start_time": "2023-08-23T05:42:03.563Z"
   },
   {
    "duration": 750,
    "start_time": "2023-08-23T05:42:05.627Z"
   },
   {
    "duration": 23,
    "start_time": "2023-08-23T05:42:06.378Z"
   },
   {
    "duration": 112,
    "start_time": "2023-08-23T05:42:07.131Z"
   },
   {
    "duration": 36,
    "start_time": "2023-08-23T05:42:09.006Z"
   },
   {
    "duration": 86,
    "start_time": "2023-08-23T05:42:11.896Z"
   },
   {
    "duration": 2,
    "start_time": "2023-08-23T05:42:13.321Z"
   },
   {
    "duration": 36,
    "start_time": "2023-08-23T05:42:16.230Z"
   },
   {
    "duration": 14,
    "start_time": "2023-08-23T05:42:17.430Z"
   },
   {
    "duration": 901,
    "start_time": "2023-08-23T05:42:20.023Z"
   },
   {
    "duration": 3,
    "start_time": "2023-08-23T05:42:42.313Z"
   },
   {
    "duration": 32,
    "start_time": "2023-08-23T05:42:42.881Z"
   },
   {
    "duration": 279,
    "start_time": "2023-08-23T05:42:44.974Z"
   },
   {
    "duration": 7,
    "start_time": "2023-08-23T05:42:46.431Z"
   },
   {
    "duration": 4,
    "start_time": "2023-08-23T05:42:48.336Z"
   },
   {
    "duration": 4,
    "start_time": "2023-08-23T05:43:00.912Z"
   },
   {
    "duration": 5,
    "start_time": "2023-08-23T05:43:04.116Z"
   },
   {
    "duration": 6,
    "start_time": "2023-08-23T05:43:08.994Z"
   },
   {
    "duration": 7,
    "start_time": "2023-08-23T05:43:12.567Z"
   },
   {
    "duration": 5,
    "start_time": "2023-08-23T05:43:17.569Z"
   },
   {
    "duration": 4,
    "start_time": "2023-08-23T05:43:22.472Z"
   },
   {
    "duration": 89,
    "start_time": "2023-08-23T05:43:31.004Z"
   },
   {
    "duration": 191,
    "start_time": "2023-08-23T05:43:53.634Z"
   },
   {
    "duration": 7,
    "start_time": "2023-08-23T05:44:18.300Z"
   },
   {
    "duration": 60,
    "start_time": "2023-08-23T05:44:23.900Z"
   },
   {
    "duration": 7,
    "start_time": "2023-08-23T05:44:26.245Z"
   },
   {
    "duration": 5,
    "start_time": "2023-08-23T05:50:15.647Z"
   },
   {
    "duration": 4,
    "start_time": "2023-08-23T05:50:17.693Z"
   },
   {
    "duration": 62,
    "start_time": "2023-08-23T05:51:04.034Z"
   },
   {
    "duration": 10,
    "start_time": "2023-08-23T05:51:06.024Z"
   },
   {
    "duration": 5,
    "start_time": "2023-08-23T06:47:27.838Z"
   },
   {
    "duration": 6,
    "start_time": "2023-08-23T06:48:52.087Z"
   },
   {
    "duration": 9,
    "start_time": "2023-08-23T06:51:32.149Z"
   },
   {
    "duration": 5,
    "start_time": "2023-08-23T06:52:43.392Z"
   },
   {
    "duration": 4,
    "start_time": "2023-08-23T06:52:55.286Z"
   },
   {
    "duration": 4,
    "start_time": "2023-08-23T06:56:26.154Z"
   },
   {
    "duration": 6,
    "start_time": "2023-08-23T06:56:27.433Z"
   },
   {
    "duration": 5,
    "start_time": "2023-08-23T06:58:29.593Z"
   },
   {
    "duration": 50,
    "start_time": "2023-08-23T06:58:40.048Z"
   },
   {
    "duration": 8,
    "start_time": "2023-08-23T06:58:42.421Z"
   },
   {
    "duration": 15,
    "start_time": "2023-08-23T07:44:27.461Z"
   },
   {
    "duration": 2,
    "start_time": "2023-08-23T07:44:57.020Z"
   },
   {
    "duration": 340,
    "start_time": "2023-08-23T07:44:58.786Z"
   },
   {
    "duration": 27,
    "start_time": "2023-08-23T07:44:59.690Z"
   },
   {
    "duration": 138,
    "start_time": "2023-08-23T07:45:02.455Z"
   },
   {
    "duration": 43,
    "start_time": "2023-08-23T07:45:03.297Z"
   },
   {
    "duration": 85,
    "start_time": "2023-08-23T07:45:05.106Z"
   },
   {
    "duration": 4,
    "start_time": "2023-08-23T07:45:06.054Z"
   },
   {
    "duration": 36,
    "start_time": "2023-08-23T07:45:07.461Z"
   },
   {
    "duration": 12,
    "start_time": "2023-08-23T07:45:09.817Z"
   },
   {
    "duration": 991,
    "start_time": "2023-08-23T07:45:12.146Z"
   },
   {
    "duration": 3,
    "start_time": "2023-08-23T07:45:16.900Z"
   },
   {
    "duration": 24,
    "start_time": "2023-08-23T07:45:17.718Z"
   },
   {
    "duration": 30,
    "start_time": "2023-08-23T07:45:20.135Z"
   },
   {
    "duration": 5,
    "start_time": "2023-08-23T07:45:22.255Z"
   },
   {
    "duration": 4,
    "start_time": "2023-08-23T07:45:24.745Z"
   },
   {
    "duration": 4,
    "start_time": "2023-08-23T07:45:33.514Z"
   },
   {
    "duration": 6,
    "start_time": "2023-08-23T07:45:38.709Z"
   },
   {
    "duration": 16,
    "start_time": "2023-08-23T07:45:46.554Z"
   },
   {
    "duration": 8,
    "start_time": "2023-08-23T08:23:37.571Z"
   },
   {
    "duration": 6,
    "start_time": "2023-08-23T08:23:53.398Z"
   },
   {
    "duration": 7,
    "start_time": "2023-08-23T08:23:55.823Z"
   },
   {
    "duration": 14,
    "start_time": "2023-08-23T08:23:57.702Z"
   },
   {
    "duration": 6,
    "start_time": "2023-08-23T08:25:14.215Z"
   },
   {
    "duration": 3,
    "start_time": "2023-08-23T08:26:52.771Z"
   },
   {
    "duration": 5,
    "start_time": "2023-08-23T08:26:54.116Z"
   },
   {
    "duration": 17,
    "start_time": "2023-08-23T08:26:56.318Z"
   },
   {
    "duration": 15,
    "start_time": "2023-08-23T08:27:01.339Z"
   },
   {
    "duration": 8,
    "start_time": "2023-08-23T08:27:57.381Z"
   },
   {
    "duration": 57,
    "start_time": "2023-08-23T08:28:16.986Z"
   },
   {
    "duration": 9,
    "start_time": "2023-08-23T08:28:19.401Z"
   },
   {
    "duration": 10,
    "start_time": "2023-08-23T08:31:02.319Z"
   },
   {
    "duration": 5,
    "start_time": "2023-08-23T08:31:29.716Z"
   },
   {
    "duration": 4,
    "start_time": "2023-08-23T08:32:52.251Z"
   },
   {
    "duration": 6,
    "start_time": "2023-08-23T08:32:57.890Z"
   },
   {
    "duration": 6,
    "start_time": "2023-08-23T08:33:02.488Z"
   },
   {
    "duration": 5,
    "start_time": "2023-08-23T08:33:04.527Z"
   },
   {
    "duration": 5,
    "start_time": "2023-08-23T08:33:06.286Z"
   },
   {
    "duration": 17,
    "start_time": "2023-08-23T08:33:07.978Z"
   },
   {
    "duration": 2076,
    "start_time": "2023-08-23T14:29:51.345Z"
   },
   {
    "duration": 2080,
    "start_time": "2023-08-23T14:29:54.629Z"
   },
   {
    "duration": 32,
    "start_time": "2023-08-23T14:29:56.713Z"
   },
   {
    "duration": 183,
    "start_time": "2023-08-23T14:29:56.748Z"
   },
   {
    "duration": 40,
    "start_time": "2023-08-23T14:29:57.785Z"
   },
   {
    "duration": 130,
    "start_time": "2023-08-23T14:29:58.810Z"
   },
   {
    "duration": 3,
    "start_time": "2023-08-23T14:30:01.166Z"
   },
   {
    "duration": 69,
    "start_time": "2023-08-23T14:30:01.700Z"
   },
   {
    "duration": 18,
    "start_time": "2023-08-23T14:30:02.529Z"
   },
   {
    "duration": 1125,
    "start_time": "2023-08-23T14:30:05.573Z"
   },
   {
    "duration": 3,
    "start_time": "2023-08-23T14:30:12.597Z"
   },
   {
    "duration": 43,
    "start_time": "2023-08-23T14:30:13.148Z"
   },
   {
    "duration": 390,
    "start_time": "2023-08-23T14:30:15.372Z"
   },
   {
    "duration": 7,
    "start_time": "2023-08-23T14:30:17.677Z"
   },
   {
    "duration": 5,
    "start_time": "2023-08-23T14:30:20.382Z"
   },
   {
    "duration": 4,
    "start_time": "2023-08-23T14:30:29.773Z"
   },
   {
    "duration": 7,
    "start_time": "2023-08-23T14:30:33.511Z"
   },
   {
    "duration": 6,
    "start_time": "2023-08-23T14:30:44.333Z"
   },
   {
    "duration": 4,
    "start_time": "2023-08-23T14:30:46.493Z"
   },
   {
    "duration": 4,
    "start_time": "2023-08-23T14:30:48.105Z"
   },
   {
    "duration": 115,
    "start_time": "2023-08-23T14:30:49.735Z"
   },
   {
    "duration": 5,
    "start_time": "2023-08-23T14:32:41.384Z"
   },
   {
    "duration": 17,
    "start_time": "2023-08-23T14:32:43.135Z"
   },
   {
    "duration": 15,
    "start_time": "2023-08-23T14:32:56.871Z"
   },
   {
    "duration": 24,
    "start_time": "2023-08-23T14:41:54.311Z"
   },
   {
    "duration": 19,
    "start_time": "2023-08-23T14:57:56.974Z"
   },
   {
    "duration": 24,
    "start_time": "2023-08-23T14:58:52.453Z"
   },
   {
    "duration": 35,
    "start_time": "2023-08-23T14:59:28.638Z"
   },
   {
    "duration": 26,
    "start_time": "2023-08-23T14:59:45.517Z"
   },
   {
    "duration": 4,
    "start_time": "2023-08-23T15:00:12.001Z"
   },
   {
    "duration": 4,
    "start_time": "2023-08-23T15:00:13.118Z"
   },
   {
    "duration": 13,
    "start_time": "2023-08-23T15:00:14.929Z"
   },
   {
    "duration": 12,
    "start_time": "2023-08-23T15:06:40.895Z"
   },
   {
    "duration": 3,
    "start_time": "2023-08-23T15:53:20.522Z"
   },
   {
    "duration": 7,
    "start_time": "2023-08-23T15:54:50.167Z"
   },
   {
    "duration": 6,
    "start_time": "2023-08-23T15:54:54.105Z"
   },
   {
    "duration": 5,
    "start_time": "2023-08-23T15:59:28.541Z"
   },
   {
    "duration": 4,
    "start_time": "2023-08-23T15:59:30.021Z"
   },
   {
    "duration": 13,
    "start_time": "2023-08-23T15:59:31.446Z"
   },
   {
    "duration": 6,
    "start_time": "2023-08-23T15:59:41.565Z"
   },
   {
    "duration": 8,
    "start_time": "2023-08-23T15:59:47.077Z"
   },
   {
    "duration": 4,
    "start_time": "2023-08-23T15:59:48.786Z"
   },
   {
    "duration": 11,
    "start_time": "2023-08-23T15:59:50.825Z"
   },
   {
    "duration": 5,
    "start_time": "2023-08-23T16:16:12.491Z"
   },
   {
    "duration": 4,
    "start_time": "2023-08-23T16:16:14.618Z"
   },
   {
    "duration": 14,
    "start_time": "2023-08-23T16:16:16.877Z"
   },
   {
    "duration": 10,
    "start_time": "2023-08-23T16:16:33.392Z"
   },
   {
    "duration": 1674,
    "start_time": "2023-08-23T16:22:58.547Z"
   },
   {
    "duration": 454,
    "start_time": "2023-08-23T16:23:00.223Z"
   },
   {
    "duration": 27,
    "start_time": "2023-08-23T16:23:01.028Z"
   },
   {
    "duration": 179,
    "start_time": "2023-08-23T16:23:06.350Z"
   },
   {
    "duration": 66,
    "start_time": "2023-08-23T16:23:08.799Z"
   },
   {
    "duration": 117,
    "start_time": "2023-08-23T16:23:09.329Z"
   },
   {
    "duration": 3,
    "start_time": "2023-08-23T16:23:13.309Z"
   },
   {
    "duration": 59,
    "start_time": "2023-08-23T16:23:14.151Z"
   },
   {
    "duration": 17,
    "start_time": "2023-08-23T16:23:14.794Z"
   },
   {
    "duration": 979,
    "start_time": "2023-08-23T16:23:16.946Z"
   },
   {
    "duration": 2,
    "start_time": "2023-08-23T16:23:21.193Z"
   },
   {
    "duration": 45,
    "start_time": "2023-08-23T16:23:22.020Z"
   },
   {
    "duration": 307,
    "start_time": "2023-08-23T16:23:28.797Z"
   },
   {
    "duration": 14,
    "start_time": "2023-08-23T16:23:31.448Z"
   },
   {
    "duration": 4,
    "start_time": "2023-08-23T16:23:33.093Z"
   },
   {
    "duration": 12,
    "start_time": "2023-08-23T16:23:37.654Z"
   },
   {
    "duration": 6,
    "start_time": "2023-08-23T16:23:41.286Z"
   },
   {
    "duration": 9,
    "start_time": "2023-08-23T16:23:44.249Z"
   },
   {
    "duration": 6,
    "start_time": "2023-08-23T16:23:48.143Z"
   },
   {
    "duration": 5,
    "start_time": "2023-08-23T16:23:50.207Z"
   },
   {
    "duration": 115,
    "start_time": "2023-08-23T16:23:52.013Z"
   },
   {
    "duration": 6,
    "start_time": "2023-08-23T16:24:37.397Z"
   },
   {
    "duration": 7,
    "start_time": "2023-08-23T16:25:08.901Z"
   },
   {
    "duration": 58,
    "start_time": "2023-08-23T16:25:32.801Z"
   },
   {
    "duration": 9,
    "start_time": "2023-08-23T16:25:34.884Z"
   },
   {
    "duration": 6,
    "start_time": "2023-08-23T16:31:39.922Z"
   },
   {
    "duration": 7,
    "start_time": "2023-08-23T16:31:48.922Z"
   },
   {
    "duration": 4,
    "start_time": "2023-08-23T16:32:10.996Z"
   },
   {
    "duration": 6,
    "start_time": "2023-08-23T16:32:12.532Z"
   },
   {
    "duration": 68,
    "start_time": "2023-08-23T16:32:16.699Z"
   },
   {
    "duration": 12,
    "start_time": "2023-08-23T16:32:19.000Z"
   },
   {
    "duration": 5,
    "start_time": "2023-08-23T16:39:47.289Z"
   },
   {
    "duration": 4,
    "start_time": "2023-08-23T16:49:08.245Z"
   },
   {
    "duration": 4,
    "start_time": "2023-08-23T16:49:12.225Z"
   },
   {
    "duration": 5,
    "start_time": "2023-08-23T16:49:43.400Z"
   },
   {
    "duration": 5,
    "start_time": "2023-08-23T16:49:59.825Z"
   },
   {
    "duration": 24,
    "start_time": "2023-08-23T16:50:16.200Z"
   },
   {
    "duration": 4,
    "start_time": "2023-08-23T16:51:24.506Z"
   },
   {
    "duration": 8,
    "start_time": "2023-08-23T16:51:27.214Z"
   },
   {
    "duration": 20,
    "start_time": "2023-08-23T16:51:52.306Z"
   },
   {
    "duration": 110,
    "start_time": "2023-08-23T16:53:00.125Z"
   },
   {
    "duration": 108,
    "start_time": "2023-08-23T16:53:23.628Z"
   },
   {
    "duration": 5,
    "start_time": "2023-08-23T16:53:33.049Z"
   },
   {
    "duration": 120,
    "start_time": "2023-08-23T16:53:36.067Z"
   },
   {
    "duration": 12,
    "start_time": "2023-08-23T16:54:24.842Z"
   },
   {
    "duration": 132,
    "start_time": "2023-08-23T16:54:44.403Z"
   },
   {
    "duration": 28,
    "start_time": "2023-08-23T16:55:27.450Z"
   },
   {
    "duration": 18,
    "start_time": "2023-08-23T16:56:56.628Z"
   },
   {
    "duration": 13,
    "start_time": "2023-08-23T17:01:44.678Z"
   },
   {
    "duration": 144,
    "start_time": "2023-08-23T17:02:14.669Z"
   },
   {
    "duration": 22,
    "start_time": "2023-08-23T17:05:47.220Z"
   },
   {
    "duration": 156,
    "start_time": "2023-08-23T17:13:40.252Z"
   },
   {
    "duration": 22,
    "start_time": "2023-08-23T17:15:01.020Z"
   },
   {
    "duration": 32,
    "start_time": "2023-08-23T17:16:30.448Z"
   },
   {
    "duration": 21,
    "start_time": "2023-08-23T17:18:01.688Z"
   },
   {
    "duration": 19,
    "start_time": "2023-08-23T17:21:50.505Z"
   },
   {
    "duration": 6,
    "start_time": "2023-08-23T17:29:58.814Z"
   },
   {
    "duration": 982,
    "start_time": "2023-08-23T17:31:36.837Z"
   },
   {
    "duration": 6,
    "start_time": "2023-08-23T17:41:57.513Z"
   },
   {
    "duration": 5,
    "start_time": "2023-08-23T17:42:14.442Z"
   },
   {
    "duration": 14,
    "start_time": "2023-08-23T17:42:17.093Z"
   },
   {
    "duration": 12,
    "start_time": "2023-08-23T17:43:19.846Z"
   },
   {
    "duration": 2118,
    "start_time": "2023-08-24T00:40:26.274Z"
   },
   {
    "duration": 864,
    "start_time": "2023-08-24T00:40:29.593Z"
   },
   {
    "duration": 31,
    "start_time": "2023-08-24T00:40:30.460Z"
   },
   {
    "duration": 155,
    "start_time": "2023-08-24T00:40:31.251Z"
   },
   {
    "duration": 49,
    "start_time": "2023-08-24T00:40:33.576Z"
   },
   {
    "duration": 111,
    "start_time": "2023-08-24T00:40:34.434Z"
   },
   {
    "duration": 3,
    "start_time": "2023-08-24T00:40:37.608Z"
   },
   {
    "duration": 43,
    "start_time": "2023-08-24T00:40:38.197Z"
   },
   {
    "duration": 18,
    "start_time": "2023-08-24T00:40:39.942Z"
   },
   {
    "duration": 1076,
    "start_time": "2023-08-24T00:40:42.613Z"
   },
   {
    "duration": 37,
    "start_time": "2023-08-24T00:40:47.397Z"
   },
   {
    "duration": 318,
    "start_time": "2023-08-24T00:40:50.377Z"
   },
   {
    "duration": 6,
    "start_time": "2023-08-24T00:40:52.774Z"
   },
   {
    "duration": 6,
    "start_time": "2023-08-24T00:40:55.507Z"
   },
   {
    "duration": 4,
    "start_time": "2023-08-24T00:41:00.045Z"
   },
   {
    "duration": 6,
    "start_time": "2023-08-24T00:41:04.461Z"
   },
   {
    "duration": 5,
    "start_time": "2023-08-24T00:41:13.403Z"
   },
   {
    "duration": 7,
    "start_time": "2023-08-24T00:41:14.997Z"
   },
   {
    "duration": 5,
    "start_time": "2023-08-24T00:41:17.468Z"
   },
   {
    "duration": 11,
    "start_time": "2023-08-24T00:41:19.698Z"
   },
   {
    "duration": 137,
    "start_time": "2023-08-24T00:41:29.138Z"
   },
   {
    "duration": 14,
    "start_time": "2023-08-24T00:42:47.860Z"
   },
   {
    "duration": 1068,
    "start_time": "2023-08-24T00:44:07.140Z"
   },
   {
    "duration": 27,
    "start_time": "2023-08-24T00:44:50.488Z"
   },
   {
    "duration": 1813,
    "start_time": "2023-08-24T00:45:50.014Z"
   },
   {
    "duration": 75,
    "start_time": "2023-08-24T00:46:47.807Z"
   },
   {
    "duration": 69,
    "start_time": "2023-08-24T00:47:31.008Z"
   },
   {
    "duration": 4,
    "start_time": "2023-08-24T00:47:37.643Z"
   },
   {
    "duration": 14,
    "start_time": "2023-08-24T00:47:42.809Z"
   },
   {
    "duration": 85,
    "start_time": "2023-08-24T00:47:45.926Z"
   },
   {
    "duration": 9798,
    "start_time": "2023-08-24T00:48:02.050Z"
   },
   {
    "duration": 551,
    "start_time": "2023-08-24T00:51:10.654Z"
   },
   {
    "duration": 4,
    "start_time": "2023-08-24T00:51:27.663Z"
   },
   {
    "duration": 524,
    "start_time": "2023-08-24T00:51:40.050Z"
   },
   {
    "duration": 5,
    "start_time": "2023-08-24T00:54:14.725Z"
   },
   {
    "duration": 589,
    "start_time": "2023-08-24T00:54:17.774Z"
   },
   {
    "duration": 5,
    "start_time": "2023-08-24T00:54:26.967Z"
   },
   {
    "duration": 528,
    "start_time": "2023-08-24T00:54:29.243Z"
   },
   {
    "duration": 32,
    "start_time": "2023-08-24T00:55:13.029Z"
   },
   {
    "duration": 35,
    "start_time": "2023-08-24T01:24:00.172Z"
   },
   {
    "duration": 13,
    "start_time": "2023-08-24T01:30:24.813Z"
   },
   {
    "duration": 15,
    "start_time": "2023-08-24T01:31:40.652Z"
   },
   {
    "duration": 14,
    "start_time": "2023-08-24T01:32:45.910Z"
   },
   {
    "duration": 13,
    "start_time": "2023-08-24T01:32:50.065Z"
   },
   {
    "duration": 30,
    "start_time": "2023-08-24T01:33:52.175Z"
   },
   {
    "duration": 16,
    "start_time": "2023-08-24T01:48:27.440Z"
   },
   {
    "duration": 20,
    "start_time": "2023-08-24T01:49:35.264Z"
   },
   {
    "duration": 31,
    "start_time": "2023-08-24T01:50:23.368Z"
   },
   {
    "duration": 2883,
    "start_time": "2023-08-24T01:50:53.356Z"
   },
   {
    "duration": 7,
    "start_time": "2023-08-24T01:51:00.334Z"
   },
   {
    "duration": 8,
    "start_time": "2023-08-24T01:51:18.459Z"
   },
   {
    "duration": 5,
    "start_time": "2023-08-24T01:56:08.548Z"
   },
   {
    "duration": 30,
    "start_time": "2023-08-24T01:56:23.935Z"
   },
   {
    "duration": 27,
    "start_time": "2023-08-24T01:57:24.077Z"
   },
   {
    "duration": 5,
    "start_time": "2023-08-24T01:57:31.333Z"
   },
   {
    "duration": 18,
    "start_time": "2023-08-24T01:57:34.753Z"
   },
   {
    "duration": 45,
    "start_time": "2023-08-24T02:05:41.778Z"
   },
   {
    "duration": 5,
    "start_time": "2023-08-24T02:07:40.731Z"
   },
   {
    "duration": 31,
    "start_time": "2023-08-24T02:07:44.300Z"
   },
   {
    "duration": 35,
    "start_time": "2023-08-24T02:11:20.307Z"
   },
   {
    "duration": 19,
    "start_time": "2023-08-24T02:13:09.384Z"
   },
   {
    "duration": 278,
    "start_time": "2023-08-24T02:13:11.732Z"
   },
   {
    "duration": 11,
    "start_time": "2023-08-24T02:15:56.020Z"
   },
   {
    "duration": 580,
    "start_time": "2023-08-24T02:16:01.175Z"
   },
   {
    "duration": 7,
    "start_time": "2023-08-24T02:17:50.524Z"
   },
   {
    "duration": 24,
    "start_time": "2023-08-24T02:17:52.743Z"
   },
   {
    "duration": 25,
    "start_time": "2023-08-24T02:18:01.250Z"
   },
   {
    "duration": 23,
    "start_time": "2023-08-24T02:18:06.548Z"
   },
   {
    "duration": 5,
    "start_time": "2023-08-24T02:18:11.633Z"
   },
   {
    "duration": 582,
    "start_time": "2023-08-24T02:18:13.677Z"
   },
   {
    "duration": 45,
    "start_time": "2023-08-24T02:20:37.580Z"
   },
   {
    "duration": 5408,
    "start_time": "2023-08-24T09:32:48.912Z"
   },
   {
    "duration": 1694,
    "start_time": "2023-08-24T09:32:54.324Z"
   },
   {
    "duration": 40,
    "start_time": "2023-08-24T09:32:56.021Z"
   },
   {
    "duration": 206,
    "start_time": "2023-08-24T09:32:56.063Z"
   },
   {
    "duration": 44,
    "start_time": "2023-08-24T09:32:56.273Z"
   },
   {
    "duration": 149,
    "start_time": "2023-08-24T09:32:56.319Z"
   },
   {
    "duration": 3,
    "start_time": "2023-08-24T09:32:56.470Z"
   },
   {
    "duration": 65,
    "start_time": "2023-08-24T09:32:56.475Z"
   },
   {
    "duration": 21,
    "start_time": "2023-08-24T09:32:56.558Z"
   },
   {
    "duration": 1112,
    "start_time": "2023-08-24T09:32:56.581Z"
   },
   {
    "duration": 41,
    "start_time": "2023-08-24T09:32:57.695Z"
   },
   {
    "duration": 426,
    "start_time": "2023-08-24T09:32:57.738Z"
   },
   {
    "duration": 94,
    "start_time": "2023-08-24T09:32:58.167Z"
   },
   {
    "duration": 95,
    "start_time": "2023-08-24T09:32:58.265Z"
   },
   {
    "duration": 5,
    "start_time": "2023-08-24T09:32:58.362Z"
   },
   {
    "duration": 7,
    "start_time": "2023-08-24T09:32:58.369Z"
   },
   {
    "duration": 34,
    "start_time": "2023-08-24T09:32:58.378Z"
   },
   {
    "duration": 16,
    "start_time": "2023-08-24T09:32:58.414Z"
   },
   {
    "duration": 19,
    "start_time": "2023-08-24T09:32:58.432Z"
   },
   {
    "duration": 15,
    "start_time": "2023-08-24T09:32:58.453Z"
   },
   {
    "duration": 6,
    "start_time": "2023-08-24T09:32:58.471Z"
   },
   {
    "duration": 580,
    "start_time": "2023-08-24T09:32:58.479Z"
   },
   {
    "duration": 5,
    "start_time": "2023-08-24T09:33:25.088Z"
   },
   {
    "duration": 127,
    "start_time": "2023-08-24T09:33:26.109Z"
   },
   {
    "duration": 7,
    "start_time": "2023-08-24T09:34:01.035Z"
   },
   {
    "duration": 8,
    "start_time": "2023-08-24T09:34:08.908Z"
   },
   {
    "duration": 667,
    "start_time": "2023-08-24T09:34:09.916Z"
   },
   {
    "duration": 8,
    "start_time": "2023-08-24T09:34:14.696Z"
   },
   {
    "duration": 4,
    "start_time": "2023-08-24T09:36:25.738Z"
   },
   {
    "duration": 6,
    "start_time": "2023-08-24T10:24:24.104Z"
   },
   {
    "duration": 6,
    "start_time": "2023-08-24T10:24:24.771Z"
   },
   {
    "duration": 8,
    "start_time": "2023-08-24T10:24:25.101Z"
   },
   {
    "duration": 6,
    "start_time": "2023-08-24T10:24:25.604Z"
   },
   {
    "duration": 497,
    "start_time": "2023-08-24T10:24:27.100Z"
   },
   {
    "duration": 4,
    "start_time": "2023-08-24T10:24:35.612Z"
   },
   {
    "duration": 436,
    "start_time": "2023-08-24T10:24:35.619Z"
   },
   {
    "duration": 32,
    "start_time": "2023-08-24T10:24:36.060Z"
   },
   {
    "duration": 185,
    "start_time": "2023-08-24T10:24:36.095Z"
   },
   {
    "duration": 42,
    "start_time": "2023-08-24T10:24:36.282Z"
   },
   {
    "duration": 143,
    "start_time": "2023-08-24T10:24:36.326Z"
   },
   {
    "duration": 3,
    "start_time": "2023-08-24T10:24:36.470Z"
   },
   {
    "duration": 56,
    "start_time": "2023-08-24T10:24:36.475Z"
   },
   {
    "duration": 35,
    "start_time": "2023-08-24T10:24:36.533Z"
   },
   {
    "duration": 1098,
    "start_time": "2023-08-24T10:24:36.570Z"
   },
   {
    "duration": 32,
    "start_time": "2023-08-24T10:24:37.669Z"
   },
   {
    "duration": 157,
    "start_time": "2023-08-24T10:24:37.703Z"
   },
   {
    "duration": 8,
    "start_time": "2023-08-24T10:24:37.861Z"
   },
   {
    "duration": 190,
    "start_time": "2023-08-24T10:24:37.871Z"
   },
   {
    "duration": 19,
    "start_time": "2023-08-24T10:24:38.063Z"
   },
   {
    "duration": 7,
    "start_time": "2023-08-24T10:24:38.084Z"
   },
   {
    "duration": 3,
    "start_time": "2023-08-24T10:24:38.093Z"
   },
   {
    "duration": 7,
    "start_time": "2023-08-24T10:24:38.097Z"
   },
   {
    "duration": 7,
    "start_time": "2023-08-24T10:24:38.106Z"
   },
   {
    "duration": 7,
    "start_time": "2023-08-24T10:24:38.114Z"
   },
   {
    "duration": 36,
    "start_time": "2023-08-24T10:24:38.123Z"
   },
   {
    "duration": 506,
    "start_time": "2023-08-24T10:24:38.161Z"
   },
   {
    "duration": 29,
    "start_time": "2023-08-24T10:24:53.499Z"
   },
   {
    "duration": 6,
    "start_time": "2023-08-24T10:24:58.347Z"
   },
   {
    "duration": 5,
    "start_time": "2023-08-24T10:25:03.271Z"
   },
   {
    "duration": 5,
    "start_time": "2023-08-24T10:26:34.910Z"
   },
   {
    "duration": 370,
    "start_time": "2023-08-24T10:26:35.630Z"
   },
   {
    "duration": 9,
    "start_time": "2023-08-24T10:30:24.115Z"
   },
   {
    "duration": 7,
    "start_time": "2023-08-24T10:30:32.736Z"
   },
   {
    "duration": 4,
    "start_time": "2023-08-24T10:39:26.819Z"
   },
   {
    "duration": 1927,
    "start_time": "2023-08-24T12:19:45.832Z"
   },
   {
    "duration": 936,
    "start_time": "2023-08-24T12:19:49.366Z"
   },
   {
    "duration": 29,
    "start_time": "2023-08-24T12:19:50.304Z"
   },
   {
    "duration": 136,
    "start_time": "2023-08-24T12:19:53.254Z"
   },
   {
    "duration": 38,
    "start_time": "2023-08-24T12:19:54.953Z"
   },
   {
    "duration": 120,
    "start_time": "2023-08-24T12:19:56.511Z"
   },
   {
    "duration": 3,
    "start_time": "2023-08-24T12:19:57.224Z"
   },
   {
    "duration": 42,
    "start_time": "2023-08-24T12:19:57.895Z"
   },
   {
    "duration": 14,
    "start_time": "2023-08-24T12:20:00.271Z"
   },
   {
    "duration": 1070,
    "start_time": "2023-08-24T12:20:02.141Z"
   },
   {
    "duration": 34,
    "start_time": "2023-08-24T12:20:06.844Z"
   },
   {
    "duration": 142,
    "start_time": "2023-08-24T12:20:09.768Z"
   },
   {
    "duration": 9,
    "start_time": "2023-08-24T12:20:11.540Z"
   },
   {
    "duration": 5,
    "start_time": "2023-08-24T12:20:14.233Z"
   },
   {
    "duration": 5,
    "start_time": "2023-08-24T12:20:17.719Z"
   },
   {
    "duration": 5,
    "start_time": "2023-08-24T12:20:20.811Z"
   },
   {
    "duration": 3,
    "start_time": "2023-08-24T12:20:28.248Z"
   },
   {
    "duration": 6,
    "start_time": "2023-08-24T12:20:29.648Z"
   },
   {
    "duration": 6,
    "start_time": "2023-08-24T12:20:32.623Z"
   },
   {
    "duration": 7,
    "start_time": "2023-08-24T12:20:34.521Z"
   },
   {
    "duration": 119,
    "start_time": "2023-08-24T12:20:45.002Z"
   },
   {
    "duration": 22,
    "start_time": "2023-08-24T12:21:38.066Z"
   },
   {
    "duration": 23,
    "start_time": "2023-08-24T12:28:39.068Z"
   },
   {
    "duration": 1779,
    "start_time": "2023-08-24T15:05:57.720Z"
   },
   {
    "duration": 3,
    "start_time": "2023-08-24T15:07:56.062Z"
   },
   {
    "duration": 85,
    "start_time": "2023-08-24T15:07:57.241Z"
   },
   {
    "duration": 92,
    "start_time": "2023-08-24T15:08:12.135Z"
   },
   {
    "duration": 3,
    "start_time": "2023-08-24T15:08:39.413Z"
   },
   {
    "duration": 3,
    "start_time": "2023-08-24T15:08:46.041Z"
   },
   {
    "duration": 4,
    "start_time": "2023-08-24T15:10:38.909Z"
   },
   {
    "duration": 3,
    "start_time": "2023-08-24T15:11:05.544Z"
   },
   {
    "duration": 84,
    "start_time": "2023-08-24T15:11:18.163Z"
   },
   {
    "duration": 5,
    "start_time": "2023-08-24T15:11:33.888Z"
   },
   {
    "duration": 1837,
    "start_time": "2023-08-24T15:12:16.416Z"
   },
   {
    "duration": 15,
    "start_time": "2023-08-24T15:14:35.122Z"
   },
   {
    "duration": 13,
    "start_time": "2023-08-24T15:14:46.045Z"
   },
   {
    "duration": 1840,
    "start_time": "2023-08-24T15:15:22.210Z"
   },
   {
    "duration": 147,
    "start_time": "2023-08-24T15:25:10.972Z"
   },
   {
    "duration": 1804,
    "start_time": "2023-08-24T15:26:56.265Z"
   },
   {
    "duration": 14,
    "start_time": "2023-08-24T15:27:07.698Z"
   },
   {
    "duration": 13,
    "start_time": "2023-08-24T15:28:32.894Z"
   },
   {
    "duration": 1725,
    "start_time": "2023-08-24T15:28:38.258Z"
   }
  ],
  "kernelspec": {
   "display_name": "Python 3 (ipykernel)",
   "language": "python",
   "name": "python3"
  },
  "language_info": {
   "codemirror_mode": {
    "name": "ipython",
    "version": 3
   },
   "file_extension": ".py",
   "mimetype": "text/x-python",
   "name": "python",
   "nbconvert_exporter": "python",
   "pygments_lexer": "ipython3",
   "version": "3.9.13"
  },
  "toc": {
   "base_numbering": 1,
   "nav_menu": {},
   "number_sections": true,
   "sideBar": true,
   "skip_h1_title": true,
   "title_cell": "Table of Contents",
   "title_sidebar": "Contents",
   "toc_cell": false,
   "toc_position": {},
   "toc_section_display": true,
   "toc_window_display": false
  }
 },
 "nbformat": 4,
 "nbformat_minor": 2
}
