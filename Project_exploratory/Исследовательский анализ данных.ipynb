{
 "cells": [
  {
   "cell_type": "markdown",
   "metadata": {},
   "source": [
    "# Исследование объявлений о продаже квартир\n",
    "\n",
    "В вашем распоряжении данные сервиса Яндекс.Недвижимость — архив объявлений о продаже квартир в Санкт-Петербурге и соседних населённых пунктов за несколько лет. Нужно научиться определять рыночную стоимость объектов недвижимости. Ваша задача — установить параметры. Это позволит построить автоматизированную систему: она отследит аномалии и мошенническую деятельность. \n",
    "\n",
    "По каждой квартире на продажу доступны два вида данных. Первые вписаны пользователем, вторые — получены автоматически на основе картографических данных. Например, расстояние до центра, аэропорта, ближайшего парка и водоёма. "
   ]
  },
  {
   "cell_type": "markdown",
   "metadata": {},
   "source": [
    "### Откройте файл с данными и изучите общую информацию. "
   ]
  },
  {
   "cell_type": "markdown",
   "metadata": {},
   "source": [
    "**Цель** Ознакомиться  и изучить общую информацию данных"
   ]
  },
  {
   "cell_type": "code",
   "execution_count": 1,
   "metadata": {},
   "outputs": [],
   "source": [
    "import pandas as pd\n",
    "import matplotlib.pyplot as plt\n",
    "import numpy as np"
   ]
  },
  {
   "cell_type": "code",
   "execution_count": 2,
   "metadata": {
    "scrolled": true
   },
   "outputs": [
    {
     "data": {
      "text/html": [
       "<div>\n",
       "<style scoped>\n",
       "    .dataframe tbody tr th:only-of-type {\n",
       "        vertical-align: middle;\n",
       "    }\n",
       "\n",
       "    .dataframe tbody tr th {\n",
       "        vertical-align: top;\n",
       "    }\n",
       "\n",
       "    .dataframe thead th {\n",
       "        text-align: right;\n",
       "    }\n",
       "</style>\n",
       "<table border=\"1\" class=\"dataframe\">\n",
       "  <thead>\n",
       "    <tr style=\"text-align: right;\">\n",
       "      <th></th>\n",
       "      <th>total_images</th>\n",
       "      <th>last_price</th>\n",
       "      <th>total_area</th>\n",
       "      <th>first_day_exposition</th>\n",
       "      <th>rooms</th>\n",
       "      <th>ceiling_height</th>\n",
       "      <th>floors_total</th>\n",
       "      <th>living_area</th>\n",
       "      <th>floor</th>\n",
       "      <th>is_apartment</th>\n",
       "      <th>studio</th>\n",
       "      <th>open_plan</th>\n",
       "      <th>kitchen_area</th>\n",
       "      <th>balcony</th>\n",
       "      <th>locality_name</th>\n",
       "      <th>airports_nearest</th>\n",
       "      <th>cityCenters_nearest</th>\n",
       "      <th>parks_around3000</th>\n",
       "      <th>parks_nearest</th>\n",
       "      <th>ponds_around3000</th>\n",
       "      <th>ponds_nearest</th>\n",
       "      <th>days_exposition</th>\n",
       "    </tr>\n",
       "  </thead>\n",
       "  <tbody>\n",
       "    <tr>\n",
       "      <th>0</th>\n",
       "      <td>20</td>\n",
       "      <td>13000000.0</td>\n",
       "      <td>108.0</td>\n",
       "      <td>2019-03-07T00:00:00</td>\n",
       "      <td>3</td>\n",
       "      <td>2.70</td>\n",
       "      <td>16.0</td>\n",
       "      <td>51.0</td>\n",
       "      <td>8</td>\n",
       "      <td>NaN</td>\n",
       "      <td>False</td>\n",
       "      <td>False</td>\n",
       "      <td>25.0</td>\n",
       "      <td>NaN</td>\n",
       "      <td>Санкт-Петербург</td>\n",
       "      <td>18863.0</td>\n",
       "      <td>16028.0</td>\n",
       "      <td>1.0</td>\n",
       "      <td>482.0</td>\n",
       "      <td>2.0</td>\n",
       "      <td>755.0</td>\n",
       "      <td>NaN</td>\n",
       "    </tr>\n",
       "    <tr>\n",
       "      <th>1</th>\n",
       "      <td>7</td>\n",
       "      <td>3350000.0</td>\n",
       "      <td>40.4</td>\n",
       "      <td>2018-12-04T00:00:00</td>\n",
       "      <td>1</td>\n",
       "      <td>NaN</td>\n",
       "      <td>11.0</td>\n",
       "      <td>18.6</td>\n",
       "      <td>1</td>\n",
       "      <td>NaN</td>\n",
       "      <td>False</td>\n",
       "      <td>False</td>\n",
       "      <td>11.0</td>\n",
       "      <td>2.0</td>\n",
       "      <td>посёлок Шушары</td>\n",
       "      <td>12817.0</td>\n",
       "      <td>18603.0</td>\n",
       "      <td>0.0</td>\n",
       "      <td>NaN</td>\n",
       "      <td>0.0</td>\n",
       "      <td>NaN</td>\n",
       "      <td>81.0</td>\n",
       "    </tr>\n",
       "    <tr>\n",
       "      <th>2</th>\n",
       "      <td>10</td>\n",
       "      <td>5196000.0</td>\n",
       "      <td>56.0</td>\n",
       "      <td>2015-08-20T00:00:00</td>\n",
       "      <td>2</td>\n",
       "      <td>NaN</td>\n",
       "      <td>5.0</td>\n",
       "      <td>34.3</td>\n",
       "      <td>4</td>\n",
       "      <td>NaN</td>\n",
       "      <td>False</td>\n",
       "      <td>False</td>\n",
       "      <td>8.3</td>\n",
       "      <td>0.0</td>\n",
       "      <td>Санкт-Петербург</td>\n",
       "      <td>21741.0</td>\n",
       "      <td>13933.0</td>\n",
       "      <td>1.0</td>\n",
       "      <td>90.0</td>\n",
       "      <td>2.0</td>\n",
       "      <td>574.0</td>\n",
       "      <td>558.0</td>\n",
       "    </tr>\n",
       "    <tr>\n",
       "      <th>3</th>\n",
       "      <td>0</td>\n",
       "      <td>64900000.0</td>\n",
       "      <td>159.0</td>\n",
       "      <td>2015-07-24T00:00:00</td>\n",
       "      <td>3</td>\n",
       "      <td>NaN</td>\n",
       "      <td>14.0</td>\n",
       "      <td>NaN</td>\n",
       "      <td>9</td>\n",
       "      <td>NaN</td>\n",
       "      <td>False</td>\n",
       "      <td>False</td>\n",
       "      <td>NaN</td>\n",
       "      <td>0.0</td>\n",
       "      <td>Санкт-Петербург</td>\n",
       "      <td>28098.0</td>\n",
       "      <td>6800.0</td>\n",
       "      <td>2.0</td>\n",
       "      <td>84.0</td>\n",
       "      <td>3.0</td>\n",
       "      <td>234.0</td>\n",
       "      <td>424.0</td>\n",
       "    </tr>\n",
       "    <tr>\n",
       "      <th>4</th>\n",
       "      <td>2</td>\n",
       "      <td>10000000.0</td>\n",
       "      <td>100.0</td>\n",
       "      <td>2018-06-19T00:00:00</td>\n",
       "      <td>2</td>\n",
       "      <td>3.03</td>\n",
       "      <td>14.0</td>\n",
       "      <td>32.0</td>\n",
       "      <td>13</td>\n",
       "      <td>NaN</td>\n",
       "      <td>False</td>\n",
       "      <td>False</td>\n",
       "      <td>41.0</td>\n",
       "      <td>NaN</td>\n",
       "      <td>Санкт-Петербург</td>\n",
       "      <td>31856.0</td>\n",
       "      <td>8098.0</td>\n",
       "      <td>2.0</td>\n",
       "      <td>112.0</td>\n",
       "      <td>1.0</td>\n",
       "      <td>48.0</td>\n",
       "      <td>121.0</td>\n",
       "    </tr>\n",
       "  </tbody>\n",
       "</table>\n",
       "</div>"
      ],
      "text/plain": [
       "   total_images  last_price  total_area first_day_exposition  rooms  \\\n",
       "0            20  13000000.0       108.0  2019-03-07T00:00:00      3   \n",
       "1             7   3350000.0        40.4  2018-12-04T00:00:00      1   \n",
       "2            10   5196000.0        56.0  2015-08-20T00:00:00      2   \n",
       "3             0  64900000.0       159.0  2015-07-24T00:00:00      3   \n",
       "4             2  10000000.0       100.0  2018-06-19T00:00:00      2   \n",
       "\n",
       "   ceiling_height  floors_total  living_area  floor is_apartment  studio  \\\n",
       "0            2.70          16.0         51.0      8          NaN   False   \n",
       "1             NaN          11.0         18.6      1          NaN   False   \n",
       "2             NaN           5.0         34.3      4          NaN   False   \n",
       "3             NaN          14.0          NaN      9          NaN   False   \n",
       "4            3.03          14.0         32.0     13          NaN   False   \n",
       "\n",
       "   open_plan  kitchen_area  balcony    locality_name  airports_nearest  \\\n",
       "0      False          25.0      NaN  Санкт-Петербург           18863.0   \n",
       "1      False          11.0      2.0   посёлок Шушары           12817.0   \n",
       "2      False           8.3      0.0  Санкт-Петербург           21741.0   \n",
       "3      False           NaN      0.0  Санкт-Петербург           28098.0   \n",
       "4      False          41.0      NaN  Санкт-Петербург           31856.0   \n",
       "\n",
       "   cityCenters_nearest  parks_around3000  parks_nearest  ponds_around3000  \\\n",
       "0              16028.0               1.0          482.0               2.0   \n",
       "1              18603.0               0.0            NaN               0.0   \n",
       "2              13933.0               1.0           90.0               2.0   \n",
       "3               6800.0               2.0           84.0               3.0   \n",
       "4               8098.0               2.0          112.0               1.0   \n",
       "\n",
       "   ponds_nearest  days_exposition  \n",
       "0          755.0              NaN  \n",
       "1            NaN             81.0  \n",
       "2          574.0            558.0  \n",
       "3          234.0            424.0  \n",
       "4           48.0            121.0  "
      ]
     },
     "execution_count": 2,
     "metadata": {},
     "output_type": "execute_result"
    }
   ],
   "source": [
    "data = pd.read_csv('/datasets/real_estate_data.csv', sep = '\\t')\n",
    "pd.set_option('display.max_columns', None)\n",
    "data.head() #вывода данных и посмтреть структуру таблицы"
   ]
  },
  {
   "cell_type": "code",
   "execution_count": 3,
   "metadata": {},
   "outputs": [
    {
     "name": "stdout",
     "output_type": "stream",
     "text": [
      "<class 'pandas.core.frame.DataFrame'>\n",
      "RangeIndex: 23699 entries, 0 to 23698\n",
      "Data columns (total 22 columns):\n",
      " #   Column                Non-Null Count  Dtype  \n",
      "---  ------                --------------  -----  \n",
      " 0   total_images          23699 non-null  int64  \n",
      " 1   last_price            23699 non-null  float64\n",
      " 2   total_area            23699 non-null  float64\n",
      " 3   first_day_exposition  23699 non-null  object \n",
      " 4   rooms                 23699 non-null  int64  \n",
      " 5   ceiling_height        14504 non-null  float64\n",
      " 6   floors_total          23613 non-null  float64\n",
      " 7   living_area           21796 non-null  float64\n",
      " 8   floor                 23699 non-null  int64  \n",
      " 9   is_apartment          2775 non-null   object \n",
      " 10  studio                23699 non-null  bool   \n",
      " 11  open_plan             23699 non-null  bool   \n",
      " 12  kitchen_area          21421 non-null  float64\n",
      " 13  balcony               12180 non-null  float64\n",
      " 14  locality_name         23650 non-null  object \n",
      " 15  airports_nearest      18157 non-null  float64\n",
      " 16  cityCenters_nearest   18180 non-null  float64\n",
      " 17  parks_around3000      18181 non-null  float64\n",
      " 18  parks_nearest         8079 non-null   float64\n",
      " 19  ponds_around3000      18181 non-null  float64\n",
      " 20  ponds_nearest         9110 non-null   float64\n",
      " 21  days_exposition       20518 non-null  float64\n",
      "dtypes: bool(2), float64(14), int64(3), object(3)\n",
      "memory usage: 3.7+ MB\n"
     ]
    }
   ],
   "source": [
    "data.info() #Общая информация "
   ]
  },
  {
   "cell_type": "code",
   "execution_count": 4,
   "metadata": {},
   "outputs": [
    {
     "name": "stdout",
     "output_type": "stream",
     "text": [
      "total_images                0\n",
      "last_price                  0\n",
      "total_area                  0\n",
      "first_day_exposition        0\n",
      "rooms                       0\n",
      "ceiling_height           9195\n",
      "floors_total               86\n",
      "living_area              1903\n",
      "floor                       0\n",
      "is_apartment            20924\n",
      "studio                      0\n",
      "open_plan                   0\n",
      "kitchen_area             2278\n",
      "balcony                 11519\n",
      "locality_name              49\n",
      "airports_nearest         5542\n",
      "cityCenters_nearest      5519\n",
      "parks_around3000         5518\n",
      "parks_nearest           15620\n",
      "ponds_around3000         5518\n",
      "ponds_nearest           14589\n",
      "days_exposition          3181\n",
      "dtype: int64\n"
     ]
    }
   ],
   "source": [
    "print(data.isna().sum()) #проверка пропусков "
   ]
  },
  {
   "cell_type": "code",
   "execution_count": 5,
   "metadata": {},
   "outputs": [
    {
     "name": "stdout",
     "output_type": "stream",
     "text": [
      "       total_images    last_price    total_area         rooms  ceiling_height  \\\n",
      "count  23699.000000  2.369900e+04  23699.000000  23699.000000    14504.000000   \n",
      "mean       9.858475  6.541549e+06     60.348651      2.070636        2.771499   \n",
      "std        5.682529  1.088701e+07     35.654083      1.078405        1.261056   \n",
      "min        0.000000  1.219000e+04     12.000000      0.000000        1.000000   \n",
      "25%        6.000000  3.400000e+06     40.000000      1.000000        2.520000   \n",
      "50%        9.000000  4.650000e+06     52.000000      2.000000        2.650000   \n",
      "75%       14.000000  6.800000e+06     69.900000      3.000000        2.800000   \n",
      "max       50.000000  7.630000e+08    900.000000     19.000000      100.000000   \n",
      "\n",
      "       floors_total   living_area         floor  kitchen_area       balcony  \\\n",
      "count  23613.000000  21796.000000  23699.000000  21421.000000  12180.000000   \n",
      "mean      10.673824     34.457852      5.892358     10.569807      1.150082   \n",
      "std        6.597173     22.030445      4.885249      5.905438      1.071300   \n",
      "min        1.000000      2.000000      1.000000      1.300000      0.000000   \n",
      "25%        5.000000     18.600000      2.000000      7.000000      0.000000   \n",
      "50%        9.000000     30.000000      4.000000      9.100000      1.000000   \n",
      "75%       16.000000     42.300000      8.000000     12.000000      2.000000   \n",
      "max       60.000000    409.700000     33.000000    112.000000      5.000000   \n",
      "\n",
      "       airports_nearest  cityCenters_nearest  parks_around3000  parks_nearest  \\\n",
      "count      18157.000000         18180.000000      18181.000000    8079.000000   \n",
      "mean       28793.672193         14191.277833          0.611408     490.804555   \n",
      "std        12630.880622          8608.386210          0.802074     342.317995   \n",
      "min            0.000000           181.000000          0.000000       1.000000   \n",
      "25%        18585.000000          9238.000000          0.000000     288.000000   \n",
      "50%        26726.000000         13098.500000          0.000000     455.000000   \n",
      "75%        37273.000000         16293.000000          1.000000     612.000000   \n",
      "max        84869.000000         65968.000000          3.000000    3190.000000   \n",
      "\n",
      "       ponds_around3000  ponds_nearest  days_exposition  \n",
      "count      18181.000000    9110.000000     20518.000000  \n",
      "mean           0.770255     517.980900       180.888634  \n",
      "std            0.938346     277.720643       219.727988  \n",
      "min            0.000000      13.000000         1.000000  \n",
      "25%            0.000000     294.000000        45.000000  \n",
      "50%            1.000000     502.000000        95.000000  \n",
      "75%            1.000000     729.000000       232.000000  \n",
      "max            3.000000    1344.000000      1580.000000  \n"
     ]
    }
   ],
   "source": [
    "print(data.describe()) #проверка значении в стобцах min max среднее "
   ]
  },
  {
   "cell_type": "code",
   "execution_count": 6,
   "metadata": {},
   "outputs": [
    {
     "data": {
      "image/png": "[encoded data removed]",
      "text/plain": [
       "<Figure size 1080x1440 with 20 Axes>"
      ]
     },
     "metadata": {
      "needs_background": "light"
     },
     "output_type": "display_data"
    }
   ],
   "source": [
    "data.hist(figsize=(15, 20)); #проверка однородности до изменении "
   ]
  },
  {
   "cell_type": "markdown",
   "metadata": {},
   "source": [
    "<div class=\"alert alert-success\">\n",
    "<b>✔️ Комментарий ревьюера v1:</b> \n",
    "<br>Графики построено верно! \n",
    "</div>\n",
    "\t\t\t\t\t\t\t\t\t\t\t\t\t\t\t\n",
    "<div class=\"alert alert-warning\">\n",
    "<b>⚠️ Комментарий ревьюера v1:</b> \n",
    "<br>Если после кода вызывающего график добавить \";\", то мы избавимся от строчки над графиком)\n",
    "\n",
    "\tdata.hist(figsize=(15, 20));\n",
    "</div>"
   ]
  },
  {
   "cell_type": "markdown",
   "metadata": {},
   "source": [
    "**Общая информация:** \n",
    "* **Количество строк:** 23699\n",
    "* **Количество столбцов:** 22\n",
    "* **Минимальное и максимальное значения:** есть аномалии и выбросы в столбцах ceiling_height и living_area, kitchen_area. \n",
    "* **Наличие отрицательных значений:** аномалии нет\n",
    "* **Есть пропущенные значение в столбцах, которые нужно обработать после анализа.**\n",
    "* **Изменить формат столбцов first_day_exposition из object на datetime b\n",
    "floors_total из float64 на int64(целое число)** "
   ]
  },
  {
   "cell_type": "markdown",
   "metadata": {},
   "source": [
    "### Предобработка данных"
   ]
  },
  {
   "cell_type": "markdown",
   "metadata": {},
   "source": [
    "#### 2.1. Анализ и обработка пропущенных значении"
   ]
  },
  {
   "cell_type": "markdown",
   "metadata": {},
   "source": [
    "* **Цель** Предобработать и подготовить данные для корректного анализа\n",
    "* **Описание** Для анализа и однородности данных требуется заполнить пропущенные значения, исключить анмоалии и выбросы, которые искажают общую статистику "
   ]
  },
  {
   "cell_type": "code",
   "execution_count": 7,
   "metadata": {
    "scrolled": true
   },
   "outputs": [
    {
     "name": "stdout",
     "output_type": "stream",
     "text": [
      "100.0\n",
      "2.50     3515\n",
      "2.60     1646\n",
      "2.70     1574\n",
      "3.00     1112\n",
      "2.80      993\n",
      "         ... \n",
      "4.25        1\n",
      "3.39        1\n",
      "3.93        1\n",
      "10.30       1\n",
      "4.65        1\n",
      "Name: ceiling_height, Length: 183, dtype: int64\n",
      "count    23699.000000\n",
      "mean         2.693220\n",
      "std          0.204351\n",
      "min          2.000000\n",
      "25%          2.600000\n",
      "50%          2.650000\n",
      "75%          2.700000\n",
      "max          4.000000\n",
      "Name: ceiling_height, dtype: float64\n"
     ]
    },
    {
     "data": {
      "image/png": "[encoded data removed]",
      "text/plain": [
       "<Figure size 432x288 with 1 Axes>"
      ]
     },
     "metadata": {
      "needs_background": "light"
     },
     "output_type": "display_data"
    }
   ],
   "source": [
    "print(data['ceiling_height'].max()) #есть выбросы и аномальные значения\n",
    "print(data['ceiling_height'].value_counts(normalize=False))\n",
    "data['ceiling_height'].sort_values().plot(y = 'ceiling_height', kind = 'hist', bins = 20, range=(2,4))\n",
    "#выявление медианного значения \n",
    "median_ceiling = data['ceiling_height'].median()\n",
    "#заполнение пропуски\n",
    "data['ceiling_height'] = data['ceiling_height'].fillna(median_ceiling)\n",
    "lower_threshold = 2.0  # минимально значение\n",
    "upper_threshold = 4.0  # максимально значение \n",
    "\n",
    "# заменяю аномальные значения, согласно среднестатисической нормы\n",
    "data.loc[data['ceiling_height'] < lower_threshold, 'ceiling_height'] = data['ceiling_height'].median()\n",
    "data.loc[data['ceiling_height'] > upper_threshold, 'ceiling_height'] = data['ceiling_height'].median()\n",
    "# проверка изменений\n",
    "print(data['ceiling_height'].describe())"
   ]
  },
  {
   "cell_type": "markdown",
   "metadata": {},
   "source": [
    "<div class=\"alert alert-success\">\n",
    "<b>✔️ Комментарий ревьюера v1:</b> \n",
    "<br>Согласен с таким решением, так как основная часть данных в этом столбце находится в небольшом диапазоне.\n",
    "</div>"
   ]
  },
  {
   "cell_type": "code",
   "execution_count": 8,
   "metadata": {},
   "outputs": [
    {
     "name": "stdout",
     "output_type": "stream",
     "text": [
      "count    23699.000000\n",
      "mean        32.257646\n",
      "std         14.867837\n",
      "min          2.000000\n",
      "25%         19.000000\n",
      "50%         30.000000\n",
      "75%         41.000000\n",
      "max         90.000000\n",
      "Name: living_area, dtype: float64\n",
      "total_images                0\n",
      "last_price                  0\n",
      "total_area                  0\n",
      "first_day_exposition        0\n",
      "rooms                       0\n",
      "ceiling_height              0\n",
      "floors_total               86\n",
      "living_area                 0\n",
      "floor                       0\n",
      "is_apartment            20924\n",
      "studio                      0\n",
      "open_plan                   0\n",
      "kitchen_area             2278\n",
      "balcony                 11519\n",
      "locality_name              49\n",
      "airports_nearest         5542\n",
      "cityCenters_nearest      5519\n",
      "parks_around3000         5518\n",
      "parks_nearest           15620\n",
      "ponds_around3000         5518\n",
      "ponds_nearest           14589\n",
      "days_exposition          3181\n",
      "dtype: int64\n"
     ]
    },
    {
     "data": {
      "image/png": "[encoded data removed]",
      "text/plain": [
       "<Figure size 432x288 with 1 Axes>"
      ]
     },
     "metadata": {
      "needs_background": "light"
     },
     "output_type": "display_data"
    }
   ],
   "source": [
    "# визуализация данных перед обработкой\n",
    "data.plot(x='living_area', y='total_area', kind='scatter')\n",
    "# замена пропущенных значений \n",
    "living_ratio = data['living_area'].mean() / data['total_area'].mean()\n",
    "data['living_area'].fillna(living_ratio * data['total_area'], inplace=True)\n",
    "# проверка на отрицательные значения \n",
    "data.loc[data['living_area'] < 0, 'living_area'] = data['living_area'].median()\n",
    "# обработка выбросов\n",
    "lower_living_area = 2.0\n",
    "upper_living_area = 90.0\n",
    "data.loc[data['living_area'] < lower_living_area, 'living_area'] = data['living_area'].median()\n",
    "data.loc[data['living_area'] > upper_living_area, 'living_area'] = data['living_area'].median()\n",
    "# проверка изменений\n",
    "print(data['living_area'].describe())\n",
    "print(data.isna().sum())"
   ]
  },
  {
   "cell_type": "markdown",
   "metadata": {},
   "source": [
    "<div class=\"alert alert-success\">\n",
    "<b>✔️ Комментарий ревьюера v1:</b> \n",
    "<br>Прекрасный способ для замены! 👏🏻👏🏻👏🏻\n",
    "</div>"
   ]
  },
  {
   "cell_type": "code",
   "execution_count": 9,
   "metadata": {},
   "outputs": [
    {
     "name": "stdout",
     "output_type": "stream",
     "text": [
      "total_images                0\n",
      "last_price                  0\n",
      "total_area                  0\n",
      "first_day_exposition        0\n",
      "rooms                       0\n",
      "ceiling_height              0\n",
      "floors_total               86\n",
      "living_area                 0\n",
      "floor                       0\n",
      "is_apartment            20924\n",
      "studio                      0\n",
      "open_plan                   0\n",
      "kitchen_area                0\n",
      "balcony                 11519\n",
      "locality_name              49\n",
      "airports_nearest         5542\n",
      "cityCenters_nearest      5519\n",
      "parks_around3000         5518\n",
      "parks_nearest           15620\n",
      "ponds_around3000         5518\n",
      "ponds_nearest           14589\n",
      "days_exposition          3181\n",
      "dtype: int64\n",
      "count    23699.000000\n",
      "mean        10.012713\n",
      "std          4.493347\n",
      "min          2.000000\n",
      "25%          7.000000\n",
      "50%          9.000000\n",
      "75%         11.600000\n",
      "max         83.458769\n",
      "Name: kitchen_area, dtype: float64\n"
     ]
    }
   ],
   "source": [
    "#kitchen_pivot = data.pivot_table(index='total_area', values='kitchen_area', aggfunc='median')\n",
    "#kitchen_pivot.columns = ['median_kitchen_area']\n",
    "#kitchen_pivot['total_area'] = kitchen_pivot.index\n",
    "lower_kitchen_area = 2.0  \n",
    "upper_kitchen_area = 30.0  \n",
    "\n",
    "# замена аномальных значений\n",
    "data.loc[data['kitchen_area'] < lower_kitchen_area, 'kitchen_area'] = data['kitchen_area'].median()\n",
    "data.loc[data['kitchen_area'] > upper_kitchen_area, 'kitchen_area'] = data['kitchen_area'].median()\n",
    "kitchen_ratio = data['kitchen_area'].mean() / data['total_area'].mean()\n",
    "data['kitchen_area'].fillna(kitchen_ratio * data['total_area'], inplace=True)\n",
    "print(data.isna().sum())\n",
    "print(data['kitchen_area'].describe())"
   ]
  },
  {
   "cell_type": "code",
   "execution_count": 10,
   "metadata": {},
   "outputs": [],
   "source": [
    "#заполнение пропусков и меняем тип  \n",
    "data['first_day_exposition'] = pd.to_datetime(data['first_day_exposition'], format='%Y-%m-%dT%H:%M:%S')\n",
    "#заполнение пропусков, не критично но визуально легче смотреть\n",
    "data['balcony'] = data['balcony'].fillna(0)\n",
    "#заполнение пропусков, не критично но визуально легче смотреть\n",
    "data['is_apartment'] = data['is_apartment'].fillna(value=False)\n",
    "#заполнение пропусков, не критично но визуально легче смотреть\n",
    "data['parks_around3000'] = data['parks_around3000'].fillna(value=0).astype(int)\n",
    "data['parks_nearest'] = data['parks_nearest'].fillna(value=0)\n",
    "#заполнение пропусков, не критично но визуально легче смотреть\n",
    "data['ponds_around3000'] = data['ponds_around3000'].fillna(value=0).astype(int)\n",
    "data['ponds_nearest'] = data['ponds_nearest'].fillna(value=0)\n",
    "#заполнение пропусков, не критично но визуально легче смотреть\n",
    "data['airports_nearest'] = data['airports_nearest'].fillna(value=0)\n",
    "#заполнение пропусков, не критично но визуально легче смотреть\n",
    "data['cityCenters_nearest'] = data['cityCenters_nearest'].fillna(value=0)"
   ]
  },
  {
   "cell_type": "code",
   "execution_count": 11,
   "metadata": {
    "scrolled": false
   },
   "outputs": [
    {
     "name": "stdout",
     "output_type": "stream",
     "text": [
      "['Санкт-Петербург' 'поселок Шушары' 'городской поселок Янино-1'\n",
      " 'поселок Парголово' 'поселок Мурино' 'Ломоносов' 'Сертолово' 'Петергоф'\n",
      " 'Пушкин' 'деревня Кудрово' 'Коммунар' 'Колпино' 'поселок Красный Бор'\n",
      " 'Гатчина' 'деревня Фёдоровское' 'Выборг' 'Кронштадт' 'Кировск'\n",
      " 'деревня Новое Девяткино' 'поселок Металлострой'\n",
      " 'поселок городского типа Лебяжье' 'поселок городского типа Сиверский'\n",
      " 'поселок Молодцово' 'поселок Кузьмоловский'\n",
      " 'садовое товарищество Новая Ропша' 'Павловск' 'деревня Пикколово'\n",
      " 'Всеволожск' 'Волхов' 'Кингисепп' 'Приозерск' 'Сестрорецк'\n",
      " 'деревня Куттузи' 'поселок Аннино' 'поселок Ефимовский'\n",
      " 'поселок Плодовое' 'деревня Заклинье' 'поселок Торковичи'\n",
      " 'поселок Первомайское' 'Красное Село' 'поселок Понтонный' 'Сясьстрой'\n",
      " 'деревня Старая' 'деревня Лесколово' 'поселок Новый Свет' 'Сланцы'\n",
      " 'село Путилово' 'Ивангород' 'Мурино' 'Шлиссельбург' 'Никольское'\n",
      " 'Зеленогорск' 'Сосновый Бор' 'деревня Оржицы' 'деревня Кальтино'\n",
      " 'Кудрово' 'поселок Романовка' 'поселок Бугры' 'поселок Рощино' 'Кириши'\n",
      " 'Луга' 'Волосово' 'Отрадное' 'село Павлово' 'поселок Оредеж'\n",
      " 'село Копорье' 'поселок городского типа Красный Бор' 'поселок Молодёжное'\n",
      " 'Тихвин' 'поселок Победа' 'деревня Нурма' 'поселок Синявино' 'Тосно'\n",
      " 'поселок городского типа Кузьмоловский' 'поселок Стрельна' 'Бокситогорск'\n",
      " 'поселок Александровская' 'деревня Лопухинка' 'Пикалёво'\n",
      " 'поселок Терволово' 'поселок Советский' 'Подпорожье' 'поселок Петровское'\n",
      " 'поселок городского типа Токсово' 'поселок Сельцо'\n",
      " 'поселок городского типа Вырица' 'деревня Кипень' 'деревня Келози'\n",
      " 'деревня Вартемяги' 'поселок Тельмана' 'поселок Севастьяново'\n",
      " 'городской поселок Большая Ижора' nan 'городской поселок Павлово'\n",
      " 'деревня Агалатово' 'поселок Новогорелово'\n",
      " 'городской поселок Лесогорский' 'деревня Лаголово' 'поселок Цвелодубово'\n",
      " 'поселок Рахья' 'поселок Вырица' 'деревня Белогорка' 'поселок Заводской'\n",
      " 'городской поселок Новоселье' 'деревня Большие Колпаны'\n",
      " 'деревня Горбунки' 'деревня Батово' 'деревня Заневка' 'деревня Иссад'\n",
      " 'Приморск' 'городской поселок Фёдоровское' 'деревня Мистолово'\n",
      " 'Новая Ладога' 'поселок Зимитицы' 'поселок Барышево'\n",
      " 'деревня Разметелево' 'поселок имени Свердлова' 'деревня Пеники'\n",
      " 'поселок Рябово' 'деревня Пудомяги' 'поселок станции Корнево'\n",
      " 'деревня Низино' 'деревня Бегуницы' 'поселок Поляны'\n",
      " 'городской поселок Мга' 'поселок Елизаветино'\n",
      " 'поселок городского типа Кузнечное' 'деревня Колтуши'\n",
      " 'поселок Запорожское' 'поселок городского типа Рощино'\n",
      " 'деревня Гостилицы' 'деревня Малое Карлино' 'поселок Мичуринское'\n",
      " 'поселок городского типа имени Морозова' 'поселок Песочный'\n",
      " 'поселок Сосново' 'деревня Аро' 'поселок Ильичёво'\n",
      " 'поселок городского типа Тайцы' 'деревня Малое Верево' 'деревня Извара'\n",
      " 'поселок станции Вещево' 'село Паша' 'деревня Калитино'\n",
      " 'поселок городского типа Ульяновка' 'деревня Чудской Бор'\n",
      " 'поселок Дубровка' 'деревня Мины' 'поселок Войсковицы'\n",
      " 'поселок городского типа имени Свердлова' 'деревня Коркино'\n",
      " 'поселок Ропша' 'поселок Приладожский' 'поселок Щеглово'\n",
      " 'поселок Гаврилово' 'Лодейное Поле' 'деревня Рабитицы'\n",
      " 'поселок Никольский' 'деревня Кузьмолово' 'деревня Малые Колпаны'\n",
      " 'поселок Петро-Славянка' 'городской поселок Назия' 'поселок Репино'\n",
      " 'поселок Углово' 'поселок Старая Малукса' 'садовое товарищество Рахья'\n",
      " 'деревня Меньково' 'деревня Старые Бегуницы' 'поселок Сапёрный'\n",
      " 'поселок Семрино' 'поселок Глажево' 'поселок Кобринское'\n",
      " 'деревня Гарболово' 'деревня Юкки' 'поселок станции Приветнинское'\n",
      " 'деревня Мануйлово' 'деревня Пчева' 'поселок Цвылёво'\n",
      " 'поселок Мельниково' 'поселок Пудость' 'поселок Усть-Луга' 'Светогорск'\n",
      " 'Любань' 'поселок Селезнёво' 'Каменногорск' 'деревня Кривко'\n",
      " 'поселок Глебычево' 'деревня Парицы' 'поселок Жилпоселок'\n",
      " 'поселок городского типа Мга' 'поселок Войскорово' 'село Никольское'\n",
      " 'поселок Стеклянный' 'поселок городского типа Важины'\n",
      " 'поселок Мыза-Ивановка' 'село Русско-Высоцкое' 'поселок Лебяжье'\n",
      " 'поселок Форносово' 'село Старая Ладога' 'поселок Житково'\n",
      " 'городской поселок Виллози' 'деревня Лампово' 'деревня Шпаньково'\n",
      " 'деревня Лаврики' 'поселок Сумино' 'поселок Возрождение'\n",
      " 'деревня Старосиверская' 'поселок Кикерино' 'деревня Старое Хинколово'\n",
      " 'поселок Пригородный' 'поселок Торфяное' 'городской поселок Будогощь'\n",
      " 'поселок Суходолье' 'поселок Красная Долина' 'деревня Хапо-Ое'\n",
      " 'поселок Дружная Горка' 'поселок Лисий Нос' 'деревня Яльгелево'\n",
      " 'село Рождествено' 'деревня Старополье' 'поселок Левашово'\n",
      " 'деревня Сяськелево' 'деревня Камышовка'\n",
      " 'садоводческое некоммерческое товарищество Лесная Поляна'\n",
      " 'деревня Хязельки' 'поселок Жилгородок' 'поселок городского типа Павлово'\n",
      " 'деревня Ялгино' 'поселок Новый Учхоз' 'городской поселок Рощино'\n",
      " 'поселок Гончарово' 'поселок Почап' 'поселок Сапёрное'\n",
      " 'поселок Платформа 69-й километр' 'поселок Каложицы' 'деревня Фалилеево'\n",
      " 'деревня Пельгора' 'поселок Лесогорский' 'деревня Торошковичи'\n",
      " 'поселок Белоостров' 'поселок Алексеевка' 'поселок Серебрянский'\n",
      " 'поселок Лукаши' 'деревня Щеглово' 'деревня Тарасово'\n",
      " 'поселок Кингисеппский' 'поселок при железнодорожной станции Вещево'\n",
      " 'поселок Ушаки' 'деревня Котлы' 'деревня Сижно' 'деревня Торосово'\n",
      " 'поселок Форт Красная Горка' 'поселок Токсово' 'деревня Новолисино'\n",
      " 'поселок станции Громово' 'деревня Глинка' 'поселок Назия'\n",
      " 'деревня Старая Пустошь' 'поселок Коммунары' 'поселок Починок'\n",
      " 'поселок городского типа Вознесенье' 'деревня Разбегаево'\n",
      " 'поселок городского типа Рябово' 'поселок Гладкое'\n",
      " 'поселок при железнодорожной станции Приветнинское' 'поселок Тёсово-4'\n",
      " 'деревня Бор' 'поселок Коробицыно' 'деревня Большая Вруда'\n",
      " 'деревня Курковицы' 'городской поселок Советский' 'поселок Кобралово'\n",
      " 'деревня Суоранда' 'поселок Кондратьево' 'коттеджный поселок Счастье'\n",
      " 'поселок Любань' 'деревня Реброво' 'деревня Зимитицы' 'деревня Тойворово'\n",
      " 'поселок Семиозерье' 'поселок Лесное' 'поселок Совхозный'\n",
      " 'поселок Ленинское' 'поселок Суйда' 'поселок городского типа Форносово'\n",
      " 'деревня Нижние Осельки' 'поселок станции Свирь' 'поселок Перово'\n",
      " 'Высоцк' 'поселок Гарболово' 'село Шум' 'поселок Котельский'\n",
      " 'поселок станции Лужайка' 'деревня Большая Пустомержа'\n",
      " 'поселок Красносельское' 'деревня Вахнова Кара' 'деревня Пижма'\n",
      " 'коттеджный поселок Кивеннапа Север' 'поселок Ромашки' 'деревня Каськово'\n",
      " 'деревня Куровицы' 'поселок Плоское' 'поселок Большая Ижора'\n",
      " 'поселок Кирпичное' 'деревня Ям-Тесово' 'деревня Раздолье'\n",
      " 'деревня Терпилицы' 'поселок Шугозеро' 'деревня Ваганово'\n",
      " 'поселок Пушное' 'садовое товарищество Садко' 'поселок Усть-Ижора'\n",
      " 'деревня Выскатка' 'городской поселок Свирьстрой' 'поселок Громово'\n",
      " 'деревня Кисельня' 'деревня Трубников Бор' 'поселок Калитино'\n",
      " 'поселок Высокоключевой' 'садовое товарищество Приладожский'\n",
      " 'поселок Пансионат Зелёный Бор' 'деревня Ненимяки' 'деревня Снегирёвка'\n",
      " 'деревня Рапполово' 'деревня Пустынка' 'поселок Рабитицы'\n",
      " 'деревня Большой Сабск' 'деревня Русско' 'деревня Лупполово'\n",
      " 'деревня Большое Рейзино' 'деревня Малая Романовка' 'поселок Дружноселье'\n",
      " 'поселок Пчевжа' 'поселок Володарское' 'деревня Нижняя'\n",
      " 'коттеджный поселок Лесное' 'деревня Тихковицы' 'деревня Борисова Грива'\n",
      " 'поселок Дзержинского']\n"
     ]
    }
   ],
   "source": [
    "replace_dict = {\n",
    "    'поселок городского типа': 'поселок',\n",
    "    'посёлок': 'поселок'\n",
    "}\n",
    "\n",
    "data['locality_name'] = data['locality_name'].replace(replace_dict, regex=True)\n",
    "print(data['locality_name'].unique())\n"
   ]
  },
  {
   "cell_type": "code",
   "execution_count": 12,
   "metadata": {},
   "outputs": [
    {
     "name": "stdout",
     "output_type": "stream",
     "text": [
      "total_images               0\n",
      "last_price                 0\n",
      "total_area                 0\n",
      "first_day_exposition       0\n",
      "rooms                      0\n",
      "ceiling_height             0\n",
      "floors_total              86\n",
      "living_area                0\n",
      "floor                      0\n",
      "is_apartment               0\n",
      "studio                     0\n",
      "open_plan                  0\n",
      "kitchen_area               0\n",
      "balcony                    0\n",
      "locality_name             49\n",
      "airports_nearest           0\n",
      "cityCenters_nearest        0\n",
      "parks_around3000           0\n",
      "parks_nearest              0\n",
      "ponds_around3000           0\n",
      "ponds_nearest              0\n",
      "days_exposition         3181\n",
      "dtype: int64\n"
     ]
    }
   ],
   "source": [
    "print(data.isna().sum())"
   ]
  },
  {
   "cell_type": "code",
   "execution_count": 13,
   "metadata": {},
   "outputs": [
    {
     "name": "stdout",
     "output_type": "stream",
     "text": [
      "Кол-во аномалий last_price: 0\n",
      "Процент аномалий last_price: 0.0\n",
      "Кол-во аномалий rooms: 8\n",
      "Процент аномалий rooms: 0.03375669859487742\n",
      "Кол-во аномалий total_area: 61\n",
      "Процент аномалий total_area: 0.25739482678594033\n"
     ]
    }
   ],
   "source": [
    "# Last_price\n",
    "price_anomalies = data[data['last_price'] > 1000000000]\n",
    "price_anomalies_count = price_anomalies.shape[0]\n",
    "price_anomalies_per = price_anomalies_count / data.shape[0] * 100\n",
    "\n",
    "#rooms\n",
    "rooms_anomalies = data[data['rooms'] > 10]\n",
    "rooms_anomalies_count = rooms_anomalies.shape[0]\n",
    "rooms_anomalies_per = rooms_anomalies_count / data.shape[0] * 100\n",
    "\n",
    "#total_area\n",
    "area_anomalies = data[data['total_area'] > 300]\n",
    "area_anomalies_count = area_anomalies.shape[0]\n",
    "area_anomalies_per = area_anomalies_count / data.shape[0] * 100\n",
    "\n",
    "# Вывод результатов\n",
    "print(\"Кол-во аномалий last_price:\", price_anomalies_count)\n",
    "print(\"Процент аномалий last_price:\", price_anomalies_per)\n",
    "print(\"Кол-во аномалий rooms:\", rooms_anomalies_count)\n",
    "print(\"Процент аномалий rooms:\", rooms_anomalies_per)\n",
    "print(\"Кол-во аномалий total_area:\", area_anomalies_count)\n",
    "print(\"Процент аномалий total_area:\", area_anomalies_per)"
   ]
  },
  {
   "cell_type": "markdown",
   "metadata": {},
   "source": [
    " **Вывод**\n",
    "1.  Наибольшие пропуски в столбцах ceiling_height, is_apartment, balcony - предположительно столбцы ввели недавно. Все пропущенные значения обработаны\n",
    "2.  В столбцах kitchen_area и living_area есть пропуски и выбросы. Заполнила медианным зшачением пропуски, основаным на соотношении этих площадей к общей площади. Обработала аномалии в значениях установив среднестатистическую площад в предлах нормы\n",
    "3.  Заполнила второстепенные пропуски в столбцах, которые не нужны для анализа \n",
    "4.  Заменила неявные дубликаты в locality_name\n",
    "5.  Требуется автоматизировать ввод/заполнения данных, установить пределы и нормы "
   ]
  },
  {
   "cell_type": "markdown",
   "metadata": {},
   "source": [
    "### Посчитайте и добавьте в таблицу новые столбцы"
   ]
  },
  {
   "cell_type": "markdown",
   "metadata": {},
   "source": [
    "* **Цель** Добавить новые столбцы для информативности и полезности "
   ]
  },
  {
   "cell_type": "markdown",
   "metadata": {},
   "source": [
    "1.  цена одного квадратного метра\n",
    "2.  день публикации объявления (0 - понедельник, 1 - вторник и т.д.)\n",
    "3.  месяц публикации объявления\n",
    "4.  год публикации объявления\n",
    "5.  тип этажа квартиры (значения — «первый», «последний», «другой»)\n",
    "6.  расстояние в км до центра города\n"
   ]
  },
  {
   "cell_type": "code",
   "execution_count": 14,
   "metadata": {},
   "outputs": [],
   "source": [
    "#цена одного квадратного метра\n",
    "data['price_psm'] = data['last_price'] / data['total_area']"
   ]
  },
  {
   "cell_type": "code",
   "execution_count": 15,
   "metadata": {},
   "outputs": [],
   "source": [
    "#день публикации объявления\n",
    "data['weekday'] = data['first_day_exposition'].dt.weekday\n",
    "#месяц публикации объявления\n",
    "data['month'] = data['first_day_exposition'].dt.month\n",
    "#год публикации объявления\n",
    "data['year'] = data['first_day_exposition'].dt.year"
   ]
  },
  {
   "cell_type": "code",
   "execution_count": 16,
   "metadata": {},
   "outputs": [],
   "source": [
    "#функция для сошдания категории\n",
    "def category_for_floor(level, floors_total):\n",
    "    try:\n",
    "        if level == 1:\n",
    "            return 'первый'\n",
    "        elif level == floors_total:\n",
    "            return 'последний'\n",
    "        else:\n",
    "            return 'другой'\n",
    "    except:\n",
    "        return 'другой'\n",
    "#добавление столбца и присвоение категории \n",
    "data['floor_category'] = data.apply(lambda x: category_for_floor(x['floor'], x['floors_total']), axis=1)"
   ]
  },
  {
   "cell_type": "code",
   "execution_count": 17,
   "metadata": {},
   "outputs": [
    {
     "name": "stdout",
     "output_type": "stream",
     "text": [
      "       total_images    last_price    total_area         rooms  ceiling_height  \\\n",
      "count  23699.000000  2.369900e+04  23699.000000  23699.000000    23699.000000   \n",
      "mean       9.858475  6.541549e+06     60.348651      2.070636        2.693220   \n",
      "std        5.682529  1.088701e+07     35.654083      1.078405        0.204351   \n",
      "min        0.000000  1.219000e+04     12.000000      0.000000        2.000000   \n",
      "25%        6.000000  3.400000e+06     40.000000      1.000000        2.600000   \n",
      "50%        9.000000  4.650000e+06     52.000000      2.000000        2.650000   \n",
      "75%       14.000000  6.800000e+06     69.900000      3.000000        2.700000   \n",
      "max       50.000000  7.630000e+08    900.000000     19.000000        4.000000   \n",
      "\n",
      "       floors_total   living_area         floor  kitchen_area       balcony  \\\n",
      "count  23613.000000  23699.000000  23699.000000  23699.000000  23699.000000   \n",
      "mean      10.673824     32.257646      5.892358     10.012713      0.591080   \n",
      "std        6.597173     14.867837      4.885249      4.493347      0.959298   \n",
      "min        1.000000      2.000000      1.000000      2.000000      0.000000   \n",
      "25%        5.000000     19.000000      2.000000      7.000000      0.000000   \n",
      "50%        9.000000     30.000000      4.000000      9.000000      0.000000   \n",
      "75%       16.000000     41.000000      8.000000     11.600000      1.000000   \n",
      "max       60.000000     90.000000     33.000000     83.458769      5.000000   \n",
      "\n",
      "       airports_nearest  cityCenters_nearest  parks_around3000  parks_nearest  \\\n",
      "count      23699.000000         23699.000000      23699.000000   23699.000000   \n",
      "mean       22060.285497         10886.426896          0.469049     167.315499   \n",
      "std        16455.276292          9634.613697          0.748534     306.709997   \n",
      "min            0.000000             0.000000          0.000000       0.000000   \n",
      "25%        10196.500000          2242.000000          0.000000       0.000000   \n",
      "50%        21869.000000         11247.000000          0.000000       0.000000   \n",
      "75%        34327.000000         15248.500000          1.000000     301.000000   \n",
      "max        84869.000000         65968.000000          3.000000    3190.000000   \n",
      "\n",
      "       ponds_around3000  ponds_nearest  days_exposition     price_psm  \\\n",
      "count      23699.000000   23699.000000     20518.000000  2.369900e+04   \n",
      "mean           0.590911     199.114140       180.888634  9.942166e+04   \n",
      "std            0.883999     305.188777       219.727988  5.030680e+04   \n",
      "min            0.000000       0.000000         1.000000  1.118349e+02   \n",
      "25%            0.000000       0.000000        45.000000  7.658547e+04   \n",
      "50%            0.000000       0.000000        95.000000  9.500000e+04   \n",
      "75%            1.000000     389.000000       232.000000  1.142563e+05   \n",
      "max            3.000000    1344.000000      1580.000000  1.907500e+06   \n",
      "\n",
      "            weekday         month          year  distance_to_center  \n",
      "count  23699.000000  23699.000000  23699.000000        23699.000000  \n",
      "mean       2.569307      6.400101   2017.367146           10.505633  \n",
      "std        1.789082      3.491561      1.039771            9.507281  \n",
      "min        0.000000      1.000000   2014.000000            0.000000  \n",
      "25%        1.000000      3.000000   2017.000000            2.000000  \n",
      "50%        3.000000      6.000000   2017.000000           11.000000  \n",
      "75%        4.000000     10.000000   2018.000000           15.000000  \n",
      "max        6.000000     12.000000   2019.000000           65.000000  \n"
     ]
    }
   ],
   "source": [
    "#расстояние в км до центра города\n",
    "data['distance_to_center'] = data['cityCenters_nearest'] // 1000\n",
    "print(data.describe())"
   ]
  },
  {
   "cell_type": "markdown",
   "metadata": {},
   "source": [
    "### Проведите исследовательский анализ данных"
   ]
  },
  {
   "cell_type": "markdown",
   "metadata": {},
   "source": [
    "#### **Изучены и описаны следующие параметры**\n",
    "  - общая площадь;\n",
    "  - жилая площадь;\n",
    "  - площадь кухни;\n",
    "  - цена объекта;\n",
    "  - количество комнат;\n",
    "  - высота потолков;\n",
    "  - этаж квартиры;\n",
    "  - тип этажа квартиры («первый», «последний», «другой»);\n",
    "  - общее количество этажей в доме;\n",
    "  - расстояние до центра города в метрах;\n",
    "  - расстояние до ближайшего аэропорта;\n",
    "  - расстояние до ближайшего парка;\n",
    "  - день и месяц публикации объявления"
   ]
  },
  {
   "cell_type": "markdown",
   "metadata": {},
   "source": [
    "##### **Вывод**\n",
    "**Общая площадь**\n",
    "- Пик значении в диапозоне 40-60 кв.м. Это соответствует стандартным планировкам или предпочтениям покупателей в отношении размеров жилья.\n",
    "Также есть редкие выбросы, с большими значениями общей площади, что может быть связано с типом жилья коммерческая недвижимость и т.п.\n",
    "\n",
    "**Жилая площадь**\n",
    "- Пик в диапазоне 30-45 кв.м, что может указывать на наличие типичных значений. Это соответствует стандартным планировкам\n",
    "\n",
    "**Площадь кухни**\n",
    "- Пик в диапазоне 5-10 кв.м, что может указывать на наличие типичных значений. Это соответствует стандартным планировкам\n",
    "\n",
    "**Количество комнат**\n",
    "- Популярностью пользуются 1-2 комнаты. Думаю из-за доступности в цене \n",
    "\n",
    "**Высота потолков**\n",
    "- Наблюдается пик в диапазоне 2.5-3.0 метра, что может указывать на наличие типичных значений высоты потолков. Выбросы могут указовать на тип жилья как историческое здание или на особенность жилья.\n",
    "\n",
    "**Тип этажа квартиры («первый», «последний», «другой»)**\n",
    "- Распрастранено покупать жилье покупать с типом \"другой\". \n",
    "\n",
    "**Общее количество этажей в доме**\n",
    "- Пик в диапазоне 5-25 этажей, что указывает на наличие типичных значений количества этажей в доме\n",
    "\n",
    "**Расстояние до центра города в метрах**\n",
    "- Наиболее распространенное расстояние составляет около 10 км\n",
    "\n",
    "**День и месяц публикации объявления**\n",
    "- Пик популярности размещения это будни дня на летний период "
   ]
  },
  {
   "cell_type": "code",
   "execution_count": 18,
   "metadata": {},
   "outputs": [
    {
     "data": {
      "image/png": "[encoded data removed]",
      "text/plain": [
       "<Figure size 432x288 with 1 Axes>"
      ]
     },
     "metadata": {
      "needs_background": "light"
     },
     "output_type": "display_data"
    },
    {
     "data": {
      "image/png": "[encoded data removed]",
      "text/plain": [
       "<Figure size 432x288 with 1 Axes>"
      ]
     },
     "metadata": {
      "needs_background": "light"
     },
     "output_type": "display_data"
    },
    {
     "data": {
      "image/png": "[encoded data removed]",
      "text/plain": [
       "<Figure size 432x288 with 1 Axes>"
      ]
     },
     "metadata": {
      "needs_background": "light"
     },
     "output_type": "display_data"
    },
    {
     "data": {
      "image/png": "[encoded data removed]",
      "text/plain": [
       "<Figure size 432x288 with 1 Axes>"
      ]
     },
     "metadata": {
      "needs_background": "light"
     },
     "output_type": "display_data"
    },
    {
     "data": {
      "image/png": "[encoded data removed]",
      "text/plain": [
       "<Figure size 432x288 with 1 Axes>"
      ]
     },
     "metadata": {
      "needs_background": "light"
     },
     "output_type": "display_data"
    },
    {
     "data": {
      "image/png": "[encoded data removed]",
      "text/plain": [
       "<Figure size 432x288 with 1 Axes>"
      ]
     },
     "metadata": {
      "needs_background": "light"
     },
     "output_type": "display_data"
    },
    {
     "data": {
      "image/png": "[encoded data removed]",
      "text/plain": [
       "<Figure size 432x288 with 1 Axes>"
      ]
     },
     "metadata": {
      "needs_background": "light"
     },
     "output_type": "display_data"
    },
    {
     "data": {
      "image/png": "[encoded data removed]",
      "text/plain": [
       "<Figure size 432x288 with 1 Axes>"
      ]
     },
     "metadata": {
      "needs_background": "light"
     },
     "output_type": "display_data"
    },
    {
     "data": {
      "image/png": "[encoded data removed]",
      "text/plain": [
       "<Figure size 432x288 with 1 Axes>"
      ]
     },
     "metadata": {
      "needs_background": "light"
     },
     "output_type": "display_data"
    },
    {
     "data": {
      "image/png": "[encoded data removed]",
      "text/plain": [
       "<Figure size 432x288 with 1 Axes>"
      ]
     },
     "metadata": {
      "needs_background": "light"
     },
     "output_type": "display_data"
    },
    {
     "data": {
      "image/png": "[encoded data removed]",
      "text/plain": [
       "<Figure size 432x288 with 1 Axes>"
      ]
     },
     "metadata": {
      "needs_background": "light"
     },
     "output_type": "display_data"
    }
   ],
   "source": [
    "#Общая площадь\n",
    "data['total_area'].plot(title='Общая площадь', kind='hist', bins=50, edgecolor='black')\n",
    "plt.show()\n",
    "#Жилая площадь\n",
    "data['living_area'].plot(title='Жилая площадь', kind='hist', bins=50, edgecolor='black')\n",
    "plt.show()\n",
    "#Площадь кухни\n",
    "data['kitchen_area'].plot(title='Площадь кухни', kind='hist', bins=50, edgecolor='black')\n",
    "plt.show()\n",
    "# Количество комнат\n",
    "data['rooms'].value_counts().plot(kind='bar', title='Количество комнат')\n",
    "plt.show()\n",
    "# Высота потолков\n",
    "data['ceiling_height'].plot(title='Высота потолков', kind='hist', bins=20, edgecolor='black')\n",
    "plt.show()\n",
    "# Тип этажа квартиры\n",
    "data['floor_category'].value_counts().plot(kind='bar', title='Тип этажа квартиры')\n",
    "plt.show()\n",
    "# Общее количество этажей в доме\n",
    "data['floors_total'].plot(title='Общее количество этажей в доме', kind='hist', bins=20, edgecolor='black')\n",
    "plt.show()\n",
    "#Расстояние до ближайшего аэропорта\n",
    "data['airports_nearest'].plot(kind='hist', bins=50, edgecolor='black', title='Расстояние до ближайшего аэропорта')\n",
    "plt.show()\n",
    "# Расстояние до ближайшего парка\n",
    "data['parks_nearest'].plot(kind='hist', bins=50, edgecolor='black', title='Расстояние до парка')\n",
    "plt.show()\n",
    "# День публикации объявления\n",
    "data['weekday'].plot(kind='hist', bins=7, edgecolor='black', title='День недели')\n",
    "plt.show()\n",
    "# Месяц публикации объявления\n",
    "data['month'].plot(title = 'Месяц',kind='hist', bins=12, edgecolor='black')\n",
    "plt.show()\n"
   ]
  },
  {
   "cell_type": "markdown",
   "metadata": {},
   "source": [
    "#### **Изучите, как быстро продавались квартиры (столбец days_exposition). Этот параметр показывает, сколько дней «висело» каждое объявление.**\n",
    "* Постройте гистограмму.\n",
    "* Посчитайте среднее и медиану.\n",
    "* В ячейке типа markdown опишите, сколько обычно занимает продажа. Какие продажи можно считать быстрыми, а какие — необычно долгими?\""
   ]
  },
  {
   "cell_type": "code",
   "execution_count": 19,
   "metadata": {
    "scrolled": true
   },
   "outputs": [
    {
     "name": "stdout",
     "output_type": "stream",
     "text": [
      "Средняя длительность продажи: 180 дней\n",
      "Медианная длительность продажи: 95 дней\n"
     ]
    },
    {
     "data": {
      "image/png": "[encoded data removed]",
      "text/plain": [
       "<Figure size 432x288 with 1 Axes>"
      ]
     },
     "metadata": {
      "needs_background": "light"
     },
     "output_type": "display_data"
    }
   ],
   "source": [
    "data['days_exposition'].plot(kind='hist', bins=50, edgecolor='black', title = 'Длительность продажи в днях')\n",
    "mean_days_exposition = data['days_exposition'].mean().astype(int)\n",
    "median_days_exposition = data['days_exposition'].median().astype(int)\n",
    "print('Средняя длительность продажи:', mean_days_exposition, 'дней')\n",
    "print('Медианная длительность продажи:', median_days_exposition, 'дней')\n"
   ]
  },
  {
   "cell_type": "markdown",
   "metadata": {},
   "source": [
    "* **Быстрые продажи:** Продажи, которые были проданы в течение первых 30-60 дней, можно считать быстрыми продажами. Это указывает на выгодное предложение и интерес покупателей \n",
    "* **Оьычные продажи:**  Продажи, которые происходят в диапазоне средней и медианной длительности (~95-180 дней), можно считать обычными. Это типичное время, необходимое для продажи недвижимости на данном рынке\n",
    "* **Необычно долгие продажи:** Если объявление о продаже \"висит\" на рынке значительно дольше медианной длительности (более ~180 дней), можно считать такую продажу необычно долгой. Это может указывать на сложности в продаже недвижимости из-за непривлекательной цены, непопулярного района или проблемы самим обьектом"
   ]
  },
  {
   "cell_type": "markdown",
   "metadata": {},
   "source": [
    "#### **Какие факторы больше всего влияют на общую (полную) стоимость объекта? Постройте графики, которые покажут зависимость цены от указанных ниже параметров. Для подготовки данных перед визуализацией вы можете использовать сводные таблицы.**\n",
    "  - общей площади;\n",
    "  - жилой площади;\n",
    "  - площади кухни;\n",
    "  - количество комнат;\n",
    "  - типа этажа, на котором расположена квартира (первый, последний, другой);\n",
    "  - даты размещения (день недели, месяц, год);\n"
   ]
  },
  {
   "cell_type": "code",
   "execution_count": 20,
   "metadata": {},
   "outputs": [
    {
     "data": {
      "image/png": "[encoded data removed]",
      "text/plain": [
       "<Figure size 576x432 with 1 Axes>"
      ]
     },
     "metadata": {
      "needs_background": "light"
     },
     "output_type": "display_data"
    },
    {
     "data": {
      "image/png": "[encoded data removed]",
      "text/plain": [
       "<Figure size 576x432 with 1 Axes>"
      ]
     },
     "metadata": {
      "needs_background": "light"
     },
     "output_type": "display_data"
    },
    {
     "data": {
      "image/png": "[encoded data removed]",
      "text/plain": [
       "<Figure size 576x432 with 1 Axes>"
      ]
     },
     "metadata": {
      "needs_background": "light"
     },
     "output_type": "display_data"
    },
    {
     "data": {
      "image/png": "[encoded data removed]",
      "text/plain": [
       "<Figure size 576x432 with 1 Axes>"
      ]
     },
     "metadata": {
      "needs_background": "light"
     },
     "output_type": "display_data"
    },
    {
     "data": {
      "image/png": "[encoded data removed]",
      "text/plain": [
       "<Figure size 576x432 with 1 Axes>"
      ]
     },
     "metadata": {
      "needs_background": "light"
     },
     "output_type": "display_data"
    },
    {
     "data": {
      "image/png": "[encoded data removed]",
      "text/plain": [
       "<Figure size 576x432 with 1 Axes>"
      ]
     },
     "metadata": {
      "needs_background": "light"
     },
     "output_type": "display_data"
    },
    {
     "data": {
      "image/png": "[encoded data removed]",
      "text/plain": [
       "<Figure size 576x432 with 1 Axes>"
      ]
     },
     "metadata": {
      "needs_background": "light"
     },
     "output_type": "display_data"
    }
   ],
   "source": [
    "# зависимость цены от общей площади\n",
    "data.pivot_table(index='total_area', values='last_price').plot(grid=True, style='o', figsize=(8, 6), title = 'Зависимость цены от общей площади')\n",
    "plt.show()\n",
    "# Зависимость цены от жилой площади\n",
    "data.pivot_table(index='living_area', values='last_price').plot(grid=True, style='o', figsize=(8, 6), title = 'Зависимость цены от Жилая площадь')\n",
    "plt.show()\n",
    "# Зависимость цены от площади кухни\n",
    "data.pivot_table(index='kitchen_area', values='last_price').plot(grid=True, style='o', figsize=(8, 6), title ='Зависимость цены от площади кухни')\n",
    "plt.show()\n",
    "# Зависимость цены от количества комнат\n",
    "data.pivot_table(index='rooms', values='last_price').plot(grid=True, style='o', figsize=(8, 6), title='Зависимость цены от количества комнат')\n",
    "plt.show()\n",
    "\n",
    "# Зависимость цены от даты размещения (день недели)\n",
    "data.pivot_table(index='weekday', values='last_price').plot(kind='bar', figsize=(8, 6), title='Зависимость цены от дня недели размещения')\n",
    "plt.show()\n",
    "\n",
    "# Зависимость цены от даты размещения (месяц)\n",
    "data.pivot_table(index='month', values='last_price').plot(kind='bar', figsize=(8, 6), title='Зависимость цены от месяца размещения')\n",
    "plt.show()\n",
    "\n",
    "# Зависимость цены от даты размещения (год)\n",
    "data.pivot_table(index='year', values='last_price').plot(grid=True, style='o', figsize=(8, 6),title='Зависимость цены от года размещения' )\n",
    "plt.show()\n"
   ]
  },
  {
   "cell_type": "markdown",
   "metadata": {},
   "source": [
    "Общие выводы:\n",
    "\n",
    "- Общая площадь: Чем больше площадь, тем выше цена объекта.\n",
    "\n",
    "- Жилая площадь: Квартиры с большей жилой площадью обычно имеют более высокую стоимость.\n",
    "\n",
    "- Площадь кухни: Большая площадь кухни повышает стоимость объекта\n",
    "\n",
    "- Количество комнат: Квартиры с большим количеством комнат обычно стоят дороже.\n",
    "\n",
    "- Тип этажа: Квартиры на первом этаже обычно имеют более низкую цену\n",
    "\n",
    "- День недели размещения: Объявления о продаже не оказывает значительного влияния на цену.\n",
    "\n",
    "- Месяц размещения:Сезонность влияет на спрос на недвижимость.\n",
    "\n",
    "- Год размещения: 2015 году был пик продаж жилья, возможно, влияет общее положение в экономике."
   ]
  },
  {
   "cell_type": "markdown",
   "metadata": {},
   "source": [
    "**Посчитайте среднюю цену одного квадратного метра в 10 населённых пунктах с наибольшим числом объявлений. Выделите населённые пункты с самой высокой и низкой стоимостью квадратного метра. Эти данные можно найти по имени в столбце locality_name.**"
   ]
  },
  {
   "cell_type": "code",
   "execution_count": 22,
   "metadata": {},
   "outputs": [
    {
     "name": "stdout",
     "output_type": "stream",
     "text": [
      "Самая высокая стоимость:  Санкт-Петербург\n",
      "Самая низкая стоимость:  Выборг\n"
     ]
    }
   ],
   "source": [
    "#10 населенных пунктов с наибольшим числом объявлений\n",
    "top_localities = data['locality_name'].value_counts().head(10).index.tolist()\n",
    "#Расчет средней цены за кв.метр\n",
    "average_price= data[data['locality_name'].isin(top_localities)].groupby('locality_name')['last_price'].mean()\n",
    "#Населенные пункты с самой высокой и низкой стоимостью квадратного метра\n",
    "highest_price = average_price.idxmax()\n",
    "lowest_price = average_price.idxmin()\n",
    "\n",
    "print(\"Самая высокая стоимость: \", highest_price)\n",
    "print(\"Самая низкая стоимость: \", lowest_price)"
   ]
  },
  {
   "cell_type": "markdown",
   "metadata": {},
   "source": [
    "**Вывод**\n",
    "- Самая высокая стоимость квадратного метра в Санкт-Петербуре.Это может быть связано с престижностью, инфраструктурой и другими факторами, которые делают этот населенный пункт более привлекательным для покупателей\n",
    "- Самая низкая стоимость квадратного метра в селе/деревне Выборг. Который имеет низкую стоимость за квадратный метр"
   ]
  },
  {
   "cell_type": "markdown",
   "metadata": {},
   "source": [
    "**Ранее вы посчитали расстояние до центра в километрах. Теперь выделите квартиры в Санкт-Петербурге с помощью столбца locality_name и вычислите среднюю цену каждого километра. Опишите, как стоимость объектов зависит от расстояния до центра города.**"
   ]
  },
  {
   "cell_type": "code",
   "execution_count": 23,
   "metadata": {
    "scrolled": true
   },
   "outputs": [
    {
     "data": {
      "image/png": "[encoded data removed]",
      "text/plain": [
       "<Figure size 720x432 with 1 Axes>"
      ]
     },
     "metadata": {
      "needs_background": "light"
     },
     "output_type": "display_data"
    }
   ],
   "source": [
    "spb_data = data[data['locality_name'] == 'Санкт-Петербург'].copy() # использовала метод .copy(), что бы затронуть исходные данные\n",
    "# Расчет средней цены и группировка по расстоянию \n",
    "mean_price = spb_data.groupby('cityCenters_nearest')['last_price'].mean()\n",
    "\n",
    "mean_price.plot(kind='line', figsize=(10, 6), title = 'Зависимость стоимости от расстояния до центра города')\n",
    "plt.show()\n",
    "\n",
    "\n"
   ]
  },
  {
   "cell_type": "markdown",
   "metadata": {},
   "source": [
    "**Вывод:**\n",
    "\n",
    "- Cтоимость жилья снижается по мере удаления от центра города. Это может быть связано с тем, что ближе к центру расположены более престижные районы с удобствами."
   ]
  },
  {
   "cell_type": "markdown",
   "metadata": {},
   "source": [
    "### Общий вывод"
   ]
  },
  {
   "cell_type": "markdown",
   "metadata": {},
   "source": [
    "В ходе анализа данных недвижимости были выполнены несколько задач, включая:\n",
    "\n",
    "- Предобработку и исправление данных после анализа.\n",
    "- Изучение времени продажи квартир.\n",
    "- Анализ факторов, влияющих на стоимость объектов.\n",
    "- Изучение зависимости стоимости от расстояния до центра города.\n",
    "\n",
    "В результате анализа времени продажи квартир было установлено, что большинство объявлений о продаже закрываются в течение 100 дней. Медианное значение составляет около 95 дней, что можно считать нормальным временем продажи. Квартиры, продажа которых занимает менее 45 дней, можно считать быстрыми, а продажи, превышающие 180 дней, можно считать необычно долгими.\n",
    "\n",
    "При анализе зависимости стоимости от расстояния до центра города было выяснено, что в центре города цены на недвижимость выше, а по мере удаления от центра цены снижаются.\n",
    "\n",
    "Также было выявлено, что для определения рыночной стоимости недвижимости важными факторами являются местность, общая площадь, количество комнат, расположение от центра и тип жилья.\n",
    "\n",
    "Эти результаты могут быть полезными для агентств недвижимости, потенциальных покупателей и для изучения рынка продаж недвижимости. **Рекомендуется** автоматизировать ввод и заполнение данных, установить пределы и нормы, чтобы избежать ручных ошибок, которые могут исказить общую статистику и показатели."
   ]
  }
 ],
 "metadata": {
  "ExecuteTimeLog": [
   {
    "duration": 590,
    "start_time": "2023-06-05T10:11:14.890Z"
   },
   {
    "duration": 157,
    "start_time": "2023-06-05T10:11:53.339Z"
   },
   {
    "duration": 25,
    "start_time": "2023-06-05T10:12:34.465Z"
   },
   {
    "duration": 51,
    "start_time": "2023-06-06T06:31:51.548Z"
   },
   {
    "duration": 696,
    "start_time": "2023-06-06T06:32:04.226Z"
   },
   {
    "duration": 14,
    "start_time": "2023-06-06T06:32:07.582Z"
   },
   {
    "duration": 12,
    "start_time": "2023-06-06T06:32:09.895Z"
   },
   {
    "duration": 10,
    "start_time": "2023-06-06T06:34:54.281Z"
   },
   {
    "duration": 11,
    "start_time": "2023-06-06T06:35:13.895Z"
   },
   {
    "duration": 29,
    "start_time": "2023-06-06T06:35:28.074Z"
   },
   {
    "duration": 384,
    "start_time": "2023-06-06T06:36:13.921Z"
   },
   {
    "duration": 372,
    "start_time": "2023-06-06T06:36:57.308Z"
   },
   {
    "duration": 370,
    "start_time": "2023-06-06T06:37:18.002Z"
   },
   {
    "duration": 424,
    "start_time": "2023-06-06T06:38:55.281Z"
   },
   {
    "duration": 542,
    "start_time": "2023-06-06T08:48:48.511Z"
   },
   {
    "duration": 14,
    "start_time": "2023-06-06T08:48:51.874Z"
   },
   {
    "duration": 331,
    "start_time": "2023-06-06T08:48:55.347Z"
   },
   {
    "duration": 18,
    "start_time": "2023-06-06T08:49:13.194Z"
   },
   {
    "duration": 8,
    "start_time": "2023-06-06T08:49:27.453Z"
   },
   {
    "duration": 4,
    "start_time": "2023-06-06T08:57:54.062Z"
   },
   {
    "duration": 3,
    "start_time": "2023-06-06T08:57:56.055Z"
   },
   {
    "duration": 4,
    "start_time": "2023-06-06T08:58:02.375Z"
   },
   {
    "duration": 20,
    "start_time": "2023-06-06T08:58:24.424Z"
   },
   {
    "duration": 17,
    "start_time": "2023-06-06T08:58:54.320Z"
   },
   {
    "duration": 3,
    "start_time": "2023-06-06T09:13:55.199Z"
   },
   {
    "duration": 3,
    "start_time": "2023-06-06T09:14:11.575Z"
   },
   {
    "duration": 9,
    "start_time": "2023-06-06T09:14:28.627Z"
   },
   {
    "duration": 4,
    "start_time": "2023-06-06T09:15:40.591Z"
   },
   {
    "duration": 3,
    "start_time": "2023-06-06T09:17:43.747Z"
   },
   {
    "duration": 5,
    "start_time": "2023-06-06T09:17:54.223Z"
   },
   {
    "duration": 5,
    "start_time": "2023-06-06T09:18:44.302Z"
   },
   {
    "duration": 5,
    "start_time": "2023-06-06T09:20:18.169Z"
   },
   {
    "duration": 7,
    "start_time": "2023-06-06T09:20:31.004Z"
   },
   {
    "duration": 47,
    "start_time": "2023-06-06T09:20:42.149Z"
   },
   {
    "duration": 5,
    "start_time": "2023-06-06T09:20:45.011Z"
   },
   {
    "duration": 8,
    "start_time": "2023-06-06T09:20:57.053Z"
   },
   {
    "duration": 4,
    "start_time": "2023-06-06T09:21:04.164Z"
   },
   {
    "duration": 5,
    "start_time": "2023-06-06T09:21:29.081Z"
   },
   {
    "duration": 619,
    "start_time": "2023-06-06T09:23:11.743Z"
   },
   {
    "duration": 14,
    "start_time": "2023-06-06T09:24:32.025Z"
   },
   {
    "duration": 7,
    "start_time": "2023-06-06T09:24:41.488Z"
   },
   {
    "duration": 7,
    "start_time": "2023-06-06T09:24:54.938Z"
   },
   {
    "duration": 19,
    "start_time": "2023-06-06T09:27:27.684Z"
   },
   {
    "duration": 6,
    "start_time": "2023-06-06T09:28:37.493Z"
   },
   {
    "duration": 18,
    "start_time": "2023-06-06T09:41:58.025Z"
   },
   {
    "duration": 153,
    "start_time": "2023-06-06T10:01:21.087Z"
   },
   {
    "duration": 204,
    "start_time": "2023-06-06T10:01:53.704Z"
   },
   {
    "duration": 162,
    "start_time": "2023-06-06T10:02:15.603Z"
   },
   {
    "duration": 163,
    "start_time": "2023-06-06T10:02:56.233Z"
   },
   {
    "duration": 165,
    "start_time": "2023-06-06T10:03:05.229Z"
   },
   {
    "duration": 138,
    "start_time": "2023-06-06T10:03:49.847Z"
   },
   {
    "duration": 137,
    "start_time": "2023-06-06T10:05:16.445Z"
   },
   {
    "duration": 146,
    "start_time": "2023-06-06T10:07:11.221Z"
   },
   {
    "duration": 14,
    "start_time": "2023-06-06T10:13:11.548Z"
   },
   {
    "duration": 23,
    "start_time": "2023-06-06T10:17:36.366Z"
   },
   {
    "duration": 216,
    "start_time": "2023-06-06T10:18:01.966Z"
   },
   {
    "duration": 105,
    "start_time": "2023-06-06T10:18:07.994Z"
   },
   {
    "duration": 14,
    "start_time": "2023-06-06T10:18:11.066Z"
   },
   {
    "duration": 262,
    "start_time": "2023-06-06T10:18:14.063Z"
   },
   {
    "duration": 145,
    "start_time": "2023-06-06T10:18:18.503Z"
   },
   {
    "duration": 189,
    "start_time": "2023-06-06T10:18:24.851Z"
   },
   {
    "duration": 66,
    "start_time": "2023-06-06T10:18:33.048Z"
   },
   {
    "duration": 19,
    "start_time": "2023-06-06T10:18:43.959Z"
   },
   {
    "duration": 18,
    "start_time": "2023-06-06T10:21:41.443Z"
   },
   {
    "duration": 13,
    "start_time": "2023-06-06T10:22:54.842Z"
   },
   {
    "duration": 41,
    "start_time": "2023-06-06T10:24:00.759Z"
   },
   {
    "duration": 19,
    "start_time": "2023-06-06T10:24:17.311Z"
   },
   {
    "duration": 18,
    "start_time": "2023-06-06T10:34:37.409Z"
   },
   {
    "duration": 15,
    "start_time": "2023-06-06T10:36:25.671Z"
   },
   {
    "duration": 13,
    "start_time": "2023-06-06T10:36:27.776Z"
   },
   {
    "duration": 17,
    "start_time": "2023-06-06T10:46:39.163Z"
   },
   {
    "duration": 17,
    "start_time": "2023-06-06T10:48:59.135Z"
   },
   {
    "duration": 23,
    "start_time": "2023-06-06T10:54:00.506Z"
   },
   {
    "duration": 814,
    "start_time": "2023-06-06T10:54:08.130Z"
   },
   {
    "duration": 203,
    "start_time": "2023-06-06T10:55:35.829Z"
   },
   {
    "duration": 26,
    "start_time": "2023-06-06T10:56:20.228Z"
   },
   {
    "duration": 20,
    "start_time": "2023-06-06T10:56:37.648Z"
   },
   {
    "duration": 172,
    "start_time": "2023-06-06T11:04:12.345Z"
   },
   {
    "duration": 10,
    "start_time": "2023-06-06T11:05:02.610Z"
   },
   {
    "duration": 7,
    "start_time": "2023-06-06T11:05:23.360Z"
   },
   {
    "duration": 99,
    "start_time": "2023-06-06T11:49:16.686Z"
   },
   {
    "duration": 11,
    "start_time": "2023-06-06T11:51:03.768Z"
   },
   {
    "duration": 237,
    "start_time": "2023-06-06T11:52:22.437Z"
   },
   {
    "duration": 921,
    "start_time": "2023-06-06T11:53:59.690Z"
   },
   {
    "duration": 158,
    "start_time": "2023-06-06T11:56:18.385Z"
   },
   {
    "duration": 8,
    "start_time": "2023-06-06T11:56:40.692Z"
   },
   {
    "duration": 39,
    "start_time": "2023-06-06T11:57:08.048Z"
   },
   {
    "duration": 23,
    "start_time": "2023-06-06T11:59:35.100Z"
   },
   {
    "duration": 21,
    "start_time": "2023-06-06T12:12:20.769Z"
   },
   {
    "duration": 1000,
    "start_time": "2023-06-06T12:18:41.848Z"
   },
   {
    "duration": 990,
    "start_time": "2023-06-06T12:21:03.310Z"
   },
   {
    "duration": 841,
    "start_time": "2023-06-06T12:21:20.197Z"
   },
   {
    "duration": 190,
    "start_time": "2023-06-06T12:55:55.554Z"
   },
   {
    "duration": 15,
    "start_time": "2023-06-06T12:57:35.453Z"
   },
   {
    "duration": 15,
    "start_time": "2023-06-06T12:57:38.142Z"
   },
   {
    "duration": 373,
    "start_time": "2023-06-06T12:57:47.975Z"
   },
   {
    "duration": 388,
    "start_time": "2023-06-06T12:57:53.146Z"
   },
   {
    "duration": 20,
    "start_time": "2023-06-06T12:58:07.074Z"
   },
   {
    "duration": 18,
    "start_time": "2023-06-06T12:58:29.845Z"
   },
   {
    "duration": 13,
    "start_time": "2023-06-06T12:58:53.495Z"
   },
   {
    "duration": 15,
    "start_time": "2023-06-06T13:00:19.325Z"
   },
   {
    "duration": 17,
    "start_time": "2023-06-06T13:01:18.839Z"
   },
   {
    "duration": 20,
    "start_time": "2023-06-06T13:01:34.662Z"
   },
   {
    "duration": 14,
    "start_time": "2023-06-06T13:02:11.596Z"
   },
   {
    "duration": 33,
    "start_time": "2023-06-06T13:02:41.459Z"
   },
   {
    "duration": 14,
    "start_time": "2023-06-06T13:02:47.882Z"
   },
   {
    "duration": 13,
    "start_time": "2023-06-06T13:03:38.243Z"
   },
   {
    "duration": 17,
    "start_time": "2023-06-06T13:09:12.456Z"
   },
   {
    "duration": 21,
    "start_time": "2023-06-06T13:10:27.590Z"
   },
   {
    "duration": 806,
    "start_time": "2023-06-06T13:12:36.138Z"
   },
   {
    "duration": 852,
    "start_time": "2023-06-06T13:16:58.826Z"
   },
   {
    "duration": 23,
    "start_time": "2023-06-06T13:17:50.596Z"
   },
   {
    "duration": 1067,
    "start_time": "2023-06-06T13:19:30.095Z"
   },
   {
    "duration": 24,
    "start_time": "2023-06-06T13:19:45.080Z"
   },
   {
    "duration": 13,
    "start_time": "2023-06-06T13:20:04.426Z"
   },
   {
    "duration": 1827,
    "start_time": "2023-06-06T13:25:02.598Z"
   },
   {
    "duration": 103,
    "start_time": "2023-06-06T13:27:17.902Z"
   },
   {
    "duration": 12,
    "start_time": "2023-06-06T13:27:20.851Z"
   },
   {
    "duration": 251,
    "start_time": "2023-06-06T13:27:24.754Z"
   },
   {
    "duration": 191,
    "start_time": "2023-06-06T13:33:39.407Z"
   },
   {
    "duration": 167,
    "start_time": "2023-06-06T13:38:34.541Z"
   },
   {
    "duration": 169,
    "start_time": "2023-06-06T13:38:40.088Z"
   },
   {
    "duration": 313,
    "start_time": "2023-06-06T13:45:44.588Z"
   },
   {
    "duration": 65,
    "start_time": "2023-06-06T13:46:01.648Z"
   },
   {
    "duration": 169,
    "start_time": "2023-06-06T13:48:11.255Z"
   },
   {
    "duration": 29,
    "start_time": "2023-06-06T13:52:08.694Z"
   },
   {
    "duration": 20,
    "start_time": "2023-06-06T13:56:42.734Z"
   },
   {
    "duration": 21,
    "start_time": "2023-06-06T13:57:22.107Z"
   },
   {
    "duration": 174,
    "start_time": "2023-06-06T13:58:18.711Z"
   },
   {
    "duration": 23,
    "start_time": "2023-06-06T13:58:51.206Z"
   },
   {
    "duration": 170,
    "start_time": "2023-06-06T13:59:27.425Z"
   },
   {
    "duration": 50,
    "start_time": "2023-06-06T13:59:54.615Z"
   },
   {
    "duration": 62,
    "start_time": "2023-06-06T14:00:12.692Z"
   },
   {
    "duration": 58,
    "start_time": "2023-06-06T14:00:30.990Z"
   },
   {
    "duration": 170,
    "start_time": "2023-06-06T14:01:13.922Z"
   },
   {
    "duration": 235,
    "start_time": "2023-06-06T14:02:54.201Z"
   },
   {
    "duration": 172,
    "start_time": "2023-06-06T14:04:01.885Z"
   },
   {
    "duration": 16,
    "start_time": "2023-06-06T14:04:26.361Z"
   },
   {
    "duration": 28,
    "start_time": "2023-06-06T14:05:10.097Z"
   },
   {
    "duration": 424,
    "start_time": "2023-06-06T14:05:53.506Z"
   },
   {
    "duration": 25,
    "start_time": "2023-06-06T14:09:28.226Z"
   },
   {
    "duration": 7,
    "start_time": "2023-06-06T14:10:14.886Z"
   },
   {
    "duration": 11623,
    "start_time": "2023-06-06T14:29:01.432Z"
   },
   {
    "duration": 2792,
    "start_time": "2023-06-06T14:29:30.647Z"
   },
   {
    "duration": 2906,
    "start_time": "2023-06-06T14:29:42.896Z"
   },
   {
    "duration": 2844,
    "start_time": "2023-06-06T14:30:11.704Z"
   },
   {
    "duration": 2877,
    "start_time": "2023-06-06T14:31:25.246Z"
   },
   {
    "duration": 3064,
    "start_time": "2023-06-06T14:32:00.135Z"
   },
   {
    "duration": 2911,
    "start_time": "2023-06-06T14:32:14.352Z"
   },
   {
    "duration": 4,
    "start_time": "2023-06-06T14:33:44.778Z"
   },
   {
    "duration": 9,
    "start_time": "2023-06-06T14:34:34.962Z"
   },
   {
    "duration": 8,
    "start_time": "2023-06-06T14:34:44.021Z"
   },
   {
    "duration": 13,
    "start_time": "2023-06-06T14:34:49.072Z"
   },
   {
    "duration": 5,
    "start_time": "2023-06-06T14:34:54.071Z"
   },
   {
    "duration": 6,
    "start_time": "2023-06-06T14:36:43.298Z"
   },
   {
    "duration": 6,
    "start_time": "2023-06-06T14:36:52.156Z"
   },
   {
    "duration": 4,
    "start_time": "2023-06-06T14:53:27.675Z"
   },
   {
    "duration": 55,
    "start_time": "2023-06-06T14:55:30.104Z"
   },
   {
    "duration": 81,
    "start_time": "2023-06-07T04:46:56.274Z"
   },
   {
    "duration": 1037,
    "start_time": "2023-06-07T04:47:01.253Z"
   },
   {
    "duration": 18,
    "start_time": "2023-06-07T04:47:05.008Z"
   },
   {
    "duration": 12,
    "start_time": "2023-06-07T04:47:07.580Z"
   },
   {
    "duration": 72,
    "start_time": "2023-06-07T04:47:11.589Z"
   },
   {
    "duration": 2034,
    "start_time": "2023-06-07T04:47:16.883Z"
   },
   {
    "duration": 173,
    "start_time": "2023-06-07T04:47:24.419Z"
   },
   {
    "duration": 3354,
    "start_time": "2023-06-07T04:47:30.161Z"
   },
   {
    "duration": 3251,
    "start_time": "2023-06-07T04:47:35.146Z"
   },
   {
    "duration": 175,
    "start_time": "2023-06-07T04:47:51.674Z"
   },
   {
    "duration": 3838,
    "start_time": "2023-06-07T04:49:31.030Z"
   },
   {
    "duration": 3271,
    "start_time": "2023-06-07T04:49:42.543Z"
   },
   {
    "duration": 3338,
    "start_time": "2023-06-07T04:50:59.875Z"
   },
   {
    "duration": 3351,
    "start_time": "2023-06-07T04:51:44.896Z"
   },
   {
    "duration": 19,
    "start_time": "2023-06-07T04:52:33.698Z"
   },
   {
    "duration": 68,
    "start_time": "2023-06-07T04:52:43.473Z"
   },
   {
    "duration": 3117,
    "start_time": "2023-06-07T05:52:55.118Z"
   },
   {
    "duration": 45,
    "start_time": "2023-06-07T05:53:00.578Z"
   },
   {
    "duration": 124,
    "start_time": "2023-06-07T05:55:03.082Z"
   },
   {
    "duration": 18,
    "start_time": "2023-06-07T05:55:05.117Z"
   },
   {
    "duration": 9,
    "start_time": "2023-06-07T05:55:07.478Z"
   },
   {
    "duration": 2022,
    "start_time": "2023-06-07T05:55:10.010Z"
   },
   {
    "duration": 219,
    "start_time": "2023-06-07T05:55:15.982Z"
   },
   {
    "duration": 3313,
    "start_time": "2023-06-07T05:55:19.758Z"
   },
   {
    "duration": 3558,
    "start_time": "2023-06-07T05:55:39.909Z"
   },
   {
    "duration": 3757,
    "start_time": "2023-06-07T05:58:53.504Z"
   },
   {
    "duration": 10,
    "start_time": "2023-06-07T05:59:26.353Z"
   },
   {
    "duration": 3799,
    "start_time": "2023-06-07T05:59:48.498Z"
   },
   {
    "duration": 3874,
    "start_time": "2023-06-07T06:00:07.181Z"
   },
   {
    "duration": 117,
    "start_time": "2023-06-07T06:01:42.440Z"
   },
   {
    "duration": 16,
    "start_time": "2023-06-07T06:01:45.544Z"
   },
   {
    "duration": 8,
    "start_time": "2023-06-07T06:01:48.044Z"
   },
   {
    "duration": 2011,
    "start_time": "2023-06-07T06:01:51.330Z"
   },
   {
    "duration": 331,
    "start_time": "2023-06-07T06:01:57.211Z"
   },
   {
    "duration": 3692,
    "start_time": "2023-06-07T06:02:01.044Z"
   },
   {
    "duration": 57,
    "start_time": "2023-06-07T06:02:04.738Z"
   },
   {
    "duration": 3632,
    "start_time": "2023-06-07T06:04:22.479Z"
   },
   {
    "duration": 20,
    "start_time": "2023-06-07T06:09:27.880Z"
   },
   {
    "duration": 33,
    "start_time": "2023-06-07T06:12:39.500Z"
   },
   {
    "duration": 186,
    "start_time": "2023-06-07T06:13:09.014Z"
   },
   {
    "duration": 17,
    "start_time": "2023-06-07T06:13:22.691Z"
   },
   {
    "duration": 25,
    "start_time": "2023-06-07T06:15:07.011Z"
   },
   {
    "duration": 47,
    "start_time": "2023-06-07T06:15:15.143Z"
   },
   {
    "duration": 16,
    "start_time": "2023-06-07T06:15:20.223Z"
   },
   {
    "duration": 18,
    "start_time": "2023-06-07T06:21:23.782Z"
   },
   {
    "duration": 10,
    "start_time": "2023-06-07T06:21:27.858Z"
   },
   {
    "duration": 842,
    "start_time": "2023-06-07T06:23:28.418Z"
   },
   {
    "duration": 9,
    "start_time": "2023-06-07T06:23:32.544Z"
   },
   {
    "duration": 24,
    "start_time": "2023-06-07T06:24:03.623Z"
   },
   {
    "duration": 9,
    "start_time": "2023-06-07T06:24:11.969Z"
   },
   {
    "duration": 19,
    "start_time": "2023-06-07T06:26:05.183Z"
   },
   {
    "duration": 11,
    "start_time": "2023-06-07T06:26:09.988Z"
   },
   {
    "duration": 64,
    "start_time": "2023-06-07T06:26:30.582Z"
   },
   {
    "duration": 804,
    "start_time": "2023-06-07T06:28:27.271Z"
   },
   {
    "duration": 4,
    "start_time": "2023-06-07T06:29:36.121Z"
   },
   {
    "duration": 13,
    "start_time": "2023-06-07T06:31:18.082Z"
   },
   {
    "duration": 124,
    "start_time": "2023-06-07T06:39:13.636Z"
   },
   {
    "duration": 4,
    "start_time": "2023-06-07T06:39:49.737Z"
   },
   {
    "duration": 5,
    "start_time": "2023-06-07T06:43:46.706Z"
   },
   {
    "duration": 81,
    "start_time": "2023-06-07T06:45:39.810Z"
   },
   {
    "duration": 5,
    "start_time": "2023-06-07T06:46:09.770Z"
   },
   {
    "duration": 61,
    "start_time": "2023-06-07T08:54:11.766Z"
   },
   {
    "duration": 2400,
    "start_time": "2023-06-07T08:54:19.064Z"
   },
   {
    "duration": 14,
    "start_time": "2023-06-07T08:54:24.075Z"
   },
   {
    "duration": 88,
    "start_time": "2023-06-07T08:54:27.687Z"
   },
   {
    "duration": 11,
    "start_time": "2023-06-07T08:54:33.266Z"
   },
   {
    "duration": 2646,
    "start_time": "2023-06-07T08:54:41.347Z"
   },
   {
    "duration": 256,
    "start_time": "2023-06-07T08:54:46.583Z"
   },
   {
    "duration": 238,
    "start_time": "2023-06-07T08:54:50.637Z"
   },
   {
    "duration": 24,
    "start_time": "2023-06-07T08:54:53.248Z"
   },
   {
    "duration": 27,
    "start_time": "2023-06-07T08:55:17.142Z"
   },
   {
    "duration": 88,
    "start_time": "2023-06-07T08:55:24.187Z"
   },
   {
    "duration": 79,
    "start_time": "2023-06-07T08:55:31.268Z"
   },
   {
    "duration": 9,
    "start_time": "2023-06-07T08:55:38.943Z"
   },
   {
    "duration": 23,
    "start_time": "2023-06-07T08:55:40.928Z"
   },
   {
    "duration": 390,
    "start_time": "2023-06-07T08:55:46.743Z"
   },
   {
    "duration": 9,
    "start_time": "2023-06-07T08:55:49.327Z"
   },
   {
    "duration": 390,
    "start_time": "2023-06-07T08:55:52.441Z"
   },
   {
    "duration": 0,
    "start_time": "2023-06-07T08:59:10.132Z"
   },
   {
    "duration": 7947,
    "start_time": "2023-06-07T08:59:36.557Z"
   },
   {
    "duration": 238,
    "start_time": "2023-06-07T09:00:06.440Z"
   },
   {
    "duration": 223,
    "start_time": "2023-06-07T09:00:13.574Z"
   },
   {
    "duration": 276,
    "start_time": "2023-06-07T09:00:24.296Z"
   },
   {
    "duration": 2770,
    "start_time": "2023-06-07T09:40:13.352Z"
   },
   {
    "duration": 3660,
    "start_time": "2023-06-07T09:41:05.927Z"
   },
   {
    "duration": 39,
    "start_time": "2023-06-07T11:13:28.813Z"
   },
   {
    "duration": 1160,
    "start_time": "2023-06-08T04:59:57.232Z"
   },
   {
    "duration": 16,
    "start_time": "2023-06-08T05:00:01.371Z"
   },
   {
    "duration": 9,
    "start_time": "2023-06-08T05:00:05.213Z"
   },
   {
    "duration": 1727,
    "start_time": "2023-06-08T05:02:05.510Z"
   },
   {
    "duration": 60,
    "start_time": "2023-06-08T05:02:08.926Z"
   },
   {
    "duration": 1769,
    "start_time": "2023-06-08T05:02:13.471Z"
   },
   {
    "duration": 152,
    "start_time": "2023-06-08T05:02:29.403Z"
   },
   {
    "duration": 178,
    "start_time": "2023-06-08T05:02:37.432Z"
   },
   {
    "duration": 15,
    "start_time": "2023-06-08T05:02:40.846Z"
   },
   {
    "duration": 42,
    "start_time": "2023-06-08T05:02:47.355Z"
   },
   {
    "duration": 57,
    "start_time": "2023-06-08T05:02:49.995Z"
   },
   {
    "duration": 15,
    "start_time": "2023-06-08T05:02:56.537Z"
   },
   {
    "duration": 16,
    "start_time": "2023-06-08T05:03:01.761Z"
   },
   {
    "duration": 38,
    "start_time": "2023-06-08T05:03:03.601Z"
   },
   {
    "duration": 54,
    "start_time": "2023-06-08T05:03:06.472Z"
   },
   {
    "duration": 4,
    "start_time": "2023-06-08T05:04:14.503Z"
   },
   {
    "duration": 11,
    "start_time": "2023-06-08T05:04:16.275Z"
   },
   {
    "duration": 260,
    "start_time": "2023-06-08T05:04:17.558Z"
   },
   {
    "duration": 4,
    "start_time": "2023-06-08T05:04:19.438Z"
   },
   {
    "duration": 146,
    "start_time": "2023-06-08T05:14:03.954Z"
   },
   {
    "duration": 152,
    "start_time": "2023-06-08T05:19:23.129Z"
   },
   {
    "duration": 245,
    "start_time": "2023-06-08T05:22:03.782Z"
   },
   {
    "duration": 155,
    "start_time": "2023-06-08T05:22:15.197Z"
   },
   {
    "duration": 164,
    "start_time": "2023-06-08T05:23:47.332Z"
   },
   {
    "duration": 10,
    "start_time": "2023-06-08T05:26:38.465Z"
   },
   {
    "duration": 155,
    "start_time": "2023-06-08T05:27:02.213Z"
   },
   {
    "duration": 188,
    "start_time": "2023-06-08T05:34:59.851Z"
   },
   {
    "duration": 206,
    "start_time": "2023-06-08T05:35:53.411Z"
   },
   {
    "duration": 172,
    "start_time": "2023-06-08T05:36:10.518Z"
   },
   {
    "duration": 179,
    "start_time": "2023-06-08T05:36:16.850Z"
   },
   {
    "duration": 1608,
    "start_time": "2023-06-08T05:48:12.886Z"
   },
   {
    "duration": 357,
    "start_time": "2023-06-08T05:51:15.744Z"
   },
   {
    "duration": 533,
    "start_time": "2023-06-08T05:51:46.761Z"
   },
   {
    "duration": 575,
    "start_time": "2023-06-08T05:55:52.472Z"
   },
   {
    "duration": 707,
    "start_time": "2023-06-08T05:56:12.773Z"
   },
   {
    "duration": 809,
    "start_time": "2023-06-08T05:59:01.497Z"
   },
   {
    "duration": 1099,
    "start_time": "2023-06-08T05:59:17.742Z"
   },
   {
    "duration": 256,
    "start_time": "2023-06-08T06:04:01.207Z"
   },
   {
    "duration": 1170,
    "start_time": "2023-06-08T06:21:30.956Z"
   },
   {
    "duration": 1097,
    "start_time": "2023-06-08T06:21:51.380Z"
   },
   {
    "duration": 195,
    "start_time": "2023-06-08T06:29:07.496Z"
   },
   {
    "duration": 196,
    "start_time": "2023-06-08T06:29:29.720Z"
   },
   {
    "duration": 359,
    "start_time": "2023-06-08T06:29:59.522Z"
   },
   {
    "duration": 15,
    "start_time": "2023-06-08T06:31:57.148Z"
   },
   {
    "duration": 24,
    "start_time": "2023-06-08T06:32:46.525Z"
   },
   {
    "duration": 109,
    "start_time": "2023-06-08T06:32:53.801Z"
   },
   {
    "duration": 13,
    "start_time": "2023-06-08T06:32:57.118Z"
   },
   {
    "duration": 13,
    "start_time": "2023-06-08T06:32:59.766Z"
   },
   {
    "duration": 181,
    "start_time": "2023-06-08T06:33:04.739Z"
   },
   {
    "duration": 164,
    "start_time": "2023-06-08T06:33:06.652Z"
   },
   {
    "duration": 26,
    "start_time": "2023-06-08T06:33:09.310Z"
   },
   {
    "duration": 26,
    "start_time": "2023-06-08T06:33:56.085Z"
   },
   {
    "duration": 16,
    "start_time": "2023-06-08T06:34:06.203Z"
   },
   {
    "duration": 181,
    "start_time": "2023-06-08T06:34:20.752Z"
   },
   {
    "duration": 253,
    "start_time": "2023-06-08T06:34:27.738Z"
   },
   {
    "duration": 200,
    "start_time": "2023-06-08T06:34:38.850Z"
   },
   {
    "duration": 14,
    "start_time": "2023-06-08T06:34:44.578Z"
   },
   {
    "duration": 231,
    "start_time": "2023-06-08T06:34:58.714Z"
   },
   {
    "duration": 210,
    "start_time": "2023-06-08T06:35:12.457Z"
   },
   {
    "duration": 330,
    "start_time": "2023-06-08T06:35:22.485Z"
   },
   {
    "duration": 201,
    "start_time": "2023-06-08T06:35:28.419Z"
   },
   {
    "duration": 188,
    "start_time": "2023-06-08T06:35:46.805Z"
   },
   {
    "duration": 541,
    "start_time": "2023-06-08T06:42:22.445Z"
   },
   {
    "duration": 145,
    "start_time": "2023-06-08T06:48:53.126Z"
   },
   {
    "duration": 600,
    "start_time": "2023-06-08T06:49:35.272Z"
   },
   {
    "duration": 547,
    "start_time": "2023-06-08T06:50:25.453Z"
   },
   {
    "duration": 4,
    "start_time": "2023-06-08T06:51:07.539Z"
   },
   {
    "duration": 12,
    "start_time": "2023-06-08T06:51:09.673Z"
   },
   {
    "duration": 427,
    "start_time": "2023-06-08T06:51:11.166Z"
   },
   {
    "duration": 984,
    "start_time": "2023-06-08T06:51:32.690Z"
   },
   {
    "duration": 11,
    "start_time": "2023-06-08T07:01:44.989Z"
   },
   {
    "duration": 12,
    "start_time": "2023-06-08T07:02:53.694Z"
   },
   {
    "duration": 12,
    "start_time": "2023-06-08T07:03:45.202Z"
   },
   {
    "duration": 13,
    "start_time": "2023-06-08T07:04:19.941Z"
   },
   {
    "duration": 26,
    "start_time": "2023-06-08T07:04:53.960Z"
   },
   {
    "duration": 27,
    "start_time": "2023-06-08T07:05:13.640Z"
   },
   {
    "duration": 24,
    "start_time": "2023-06-08T07:05:46.313Z"
   },
   {
    "duration": 33,
    "start_time": "2023-06-08T07:05:59.474Z"
   },
   {
    "duration": 30,
    "start_time": "2023-06-08T07:07:53.721Z"
   },
   {
    "duration": 26,
    "start_time": "2023-06-08T07:08:14.664Z"
   },
   {
    "duration": 14,
    "start_time": "2023-06-08T07:09:37.587Z"
   },
   {
    "duration": 2,
    "start_time": "2023-06-08T07:10:07.107Z"
   },
   {
    "duration": 12,
    "start_time": "2023-06-08T07:11:13.780Z"
   },
   {
    "duration": 17,
    "start_time": "2023-06-08T07:17:55.601Z"
   },
   {
    "duration": 165,
    "start_time": "2023-06-08T07:18:22.886Z"
   },
   {
    "duration": 162,
    "start_time": "2023-06-08T07:21:52.937Z"
   },
   {
    "duration": 174,
    "start_time": "2023-06-08T07:22:30.979Z"
   },
   {
    "duration": 151,
    "start_time": "2023-06-08T07:23:14.506Z"
   },
   {
    "duration": 156,
    "start_time": "2023-06-08T07:26:50.333Z"
   },
   {
    "duration": 160,
    "start_time": "2023-06-08T07:28:21.165Z"
   },
   {
    "duration": 143,
    "start_time": "2023-06-08T07:29:37.518Z"
   },
   {
    "duration": 162,
    "start_time": "2023-06-08T07:29:41.786Z"
   },
   {
    "duration": 13,
    "start_time": "2023-06-08T07:35:23.205Z"
   },
   {
    "duration": 149,
    "start_time": "2023-06-08T07:46:08.282Z"
   },
   {
    "duration": 144,
    "start_time": "2023-06-08T07:48:21.950Z"
   },
   {
    "duration": 802,
    "start_time": "2023-06-08T07:51:30.655Z"
   },
   {
    "duration": 16,
    "start_time": "2023-06-08T07:51:31.459Z"
   },
   {
    "duration": 25,
    "start_time": "2023-06-08T07:51:31.477Z"
   },
   {
    "duration": 101,
    "start_time": "2023-06-08T07:51:31.504Z"
   },
   {
    "duration": 2125,
    "start_time": "2023-06-08T07:51:31.608Z"
   },
   {
    "duration": 169,
    "start_time": "2023-06-08T07:51:33.735Z"
   },
   {
    "duration": 210,
    "start_time": "2023-06-08T07:51:33.906Z"
   },
   {
    "duration": 18,
    "start_time": "2023-06-08T07:51:34.118Z"
   },
   {
    "duration": 34,
    "start_time": "2023-06-08T07:51:34.138Z"
   },
   {
    "duration": 65,
    "start_time": "2023-06-08T07:51:34.173Z"
   },
   {
    "duration": 7,
    "start_time": "2023-06-08T07:51:34.240Z"
   },
   {
    "duration": 10,
    "start_time": "2023-06-08T07:51:34.248Z"
   },
   {
    "duration": 16,
    "start_time": "2023-06-08T07:51:34.260Z"
   },
   {
    "duration": 296,
    "start_time": "2023-06-08T07:51:34.280Z"
   },
   {
    "duration": 3,
    "start_time": "2023-06-08T07:51:34.578Z"
   },
   {
    "duration": 1235,
    "start_time": "2023-06-08T07:51:34.583Z"
   },
   {
    "duration": 230,
    "start_time": "2023-06-08T07:51:35.820Z"
   },
   {
    "duration": 1273,
    "start_time": "2023-06-08T07:51:36.052Z"
   },
   {
    "duration": 2,
    "start_time": "2023-06-08T07:51:37.328Z"
   },
   {
    "duration": 33,
    "start_time": "2023-06-08T07:51:37.333Z"
   },
   {
    "duration": 188,
    "start_time": "2023-06-08T07:51:37.368Z"
   },
   {
    "duration": 15,
    "start_time": "2023-06-08T08:54:11.006Z"
   },
   {
    "duration": 90,
    "start_time": "2023-06-08T08:54:14.610Z"
   },
   {
    "duration": 8,
    "start_time": "2023-06-08T08:54:26.072Z"
   },
   {
    "duration": 7,
    "start_time": "2023-06-08T08:54:29.975Z"
   },
   {
    "duration": 848,
    "start_time": "2023-06-09T09:06:10.381Z"
   },
   {
    "duration": 343,
    "start_time": "2023-06-09T09:06:33.789Z"
   },
   {
    "duration": 96,
    "start_time": "2023-06-09T09:09:33.388Z"
   },
   {
    "duration": 1787,
    "start_time": "2023-06-09T09:14:04.757Z"
   },
   {
    "duration": 151,
    "start_time": "2023-06-09T09:18:00.933Z"
   },
   {
    "duration": 6,
    "start_time": "2023-06-09T09:25:43.426Z"
   },
   {
    "duration": 73,
    "start_time": "2023-06-09T09:25:47.273Z"
   },
   {
    "duration": 156,
    "start_time": "2023-06-09T09:27:08.522Z"
   },
   {
    "duration": 96,
    "start_time": "2023-06-09T09:27:11.882Z"
   },
   {
    "duration": 82,
    "start_time": "2023-06-09T09:27:22.362Z"
   },
   {
    "duration": 106,
    "start_time": "2023-06-12T06:52:07.447Z"
   },
   {
    "duration": 46,
    "start_time": "2023-06-12T06:54:50.634Z"
   },
   {
    "duration": 860,
    "start_time": "2023-06-12T06:55:05.509Z"
   },
   {
    "duration": 324,
    "start_time": "2023-06-12T06:55:07.643Z"
   },
   {
    "duration": 22,
    "start_time": "2023-06-12T06:55:12.700Z"
   },
   {
    "duration": 8,
    "start_time": "2023-06-12T06:55:15.592Z"
   },
   {
    "duration": 1923,
    "start_time": "2023-06-12T06:55:18.578Z"
   },
   {
    "duration": 183,
    "start_time": "2023-06-12T06:55:25.000Z"
   },
   {
    "duration": 246,
    "start_time": "2023-06-12T06:55:28.267Z"
   },
   {
    "duration": 27,
    "start_time": "2023-06-12T06:55:33.109Z"
   },
   {
    "duration": 28,
    "start_time": "2023-06-12T06:55:36.102Z"
   },
   {
    "duration": 50,
    "start_time": "2023-06-12T06:55:38.811Z"
   },
   {
    "duration": 8,
    "start_time": "2023-06-12T06:55:42.687Z"
   },
   {
    "duration": 11,
    "start_time": "2023-06-12T06:55:45.324Z"
   },
   {
    "duration": 11,
    "start_time": "2023-06-12T06:56:39.351Z"
   },
   {
    "duration": 11,
    "start_time": "2023-06-12T07:01:42.715Z"
   },
   {
    "duration": 10,
    "start_time": "2023-06-12T07:03:19.500Z"
   },
   {
    "duration": 11,
    "start_time": "2023-06-12T07:03:25.175Z"
   },
   {
    "duration": 10,
    "start_time": "2023-06-12T07:04:55.019Z"
   },
   {
    "duration": 11,
    "start_time": "2023-06-12T07:06:23.527Z"
   },
   {
    "duration": 11,
    "start_time": "2023-06-12T07:09:38.880Z"
   },
   {
    "duration": 2498,
    "start_time": "2023-06-12T07:40:58.517Z"
   },
   {
    "duration": 2230,
    "start_time": "2023-06-12T07:41:59.659Z"
   },
   {
    "duration": 267,
    "start_time": "2023-06-12T07:42:22.104Z"
   },
   {
    "duration": 3126,
    "start_time": "2023-06-12T07:42:39.468Z"
   },
   {
    "duration": 13,
    "start_time": "2023-06-12T07:42:55.637Z"
   },
   {
    "duration": 5,
    "start_time": "2023-06-12T07:42:57.379Z"
   },
   {
    "duration": 79,
    "start_time": "2023-06-12T07:43:02.571Z"
   },
   {
    "duration": 1821,
    "start_time": "2023-06-12T07:43:09.600Z"
   },
   {
    "duration": 203,
    "start_time": "2023-06-12T07:45:17.742Z"
   },
   {
    "duration": 5,
    "start_time": "2023-06-12T08:17:58.888Z"
   },
   {
    "duration": 28,
    "start_time": "2023-06-12T08:27:45.618Z"
   },
   {
    "duration": 269,
    "start_time": "2023-06-12T08:28:09.833Z"
   },
   {
    "duration": 182,
    "start_time": "2023-06-12T08:58:00.566Z"
   },
   {
    "duration": 189,
    "start_time": "2023-06-12T08:58:31.467Z"
   },
   {
    "duration": 172,
    "start_time": "2023-06-12T08:59:56.224Z"
   },
   {
    "duration": 200,
    "start_time": "2023-06-12T09:01:18.662Z"
   },
   {
    "duration": 195,
    "start_time": "2023-06-12T09:04:12.622Z"
   },
   {
    "duration": 182,
    "start_time": "2023-06-12T09:04:23.782Z"
   },
   {
    "duration": 188,
    "start_time": "2023-06-12T09:07:09.184Z"
   },
   {
    "duration": 186,
    "start_time": "2023-06-12T09:08:38.439Z"
   },
   {
    "duration": 364,
    "start_time": "2023-06-12T09:08:45.670Z"
   },
   {
    "duration": 397,
    "start_time": "2023-06-12T09:10:04.898Z"
   },
   {
    "duration": 365,
    "start_time": "2023-06-12T09:10:27.995Z"
   },
   {
    "duration": 77,
    "start_time": "2023-06-12T09:12:21.450Z"
   },
   {
    "duration": 552,
    "start_time": "2023-06-12T09:12:31.774Z"
   },
   {
    "duration": 334,
    "start_time": "2023-06-12T09:13:35.887Z"
   },
   {
    "duration": 339,
    "start_time": "2023-06-12T09:13:44.875Z"
   },
   {
    "duration": 246,
    "start_time": "2023-06-12T09:14:32.369Z"
   },
   {
    "duration": 165,
    "start_time": "2023-06-12T09:16:00.873Z"
   },
   {
    "duration": 627,
    "start_time": "2023-06-12T09:48:55.800Z"
   },
   {
    "duration": 107,
    "start_time": "2023-06-12T09:48:56.429Z"
   },
   {
    "duration": 13,
    "start_time": "2023-06-12T09:48:56.538Z"
   },
   {
    "duration": 7,
    "start_time": "2023-06-12T09:48:56.553Z"
   },
   {
    "duration": 95,
    "start_time": "2023-06-12T09:48:56.561Z"
   },
   {
    "duration": 1723,
    "start_time": "2023-06-12T09:48:56.658Z"
   },
   {
    "duration": 139,
    "start_time": "2023-06-12T09:48:58.382Z"
   },
   {
    "duration": 175,
    "start_time": "2023-06-12T09:48:58.522Z"
   },
   {
    "duration": 20,
    "start_time": "2023-06-12T09:48:58.699Z"
   },
   {
    "duration": 16,
    "start_time": "2023-06-12T09:48:58.721Z"
   },
   {
    "duration": 42,
    "start_time": "2023-06-12T09:48:58.738Z"
   },
   {
    "duration": 25,
    "start_time": "2023-06-12T09:48:58.781Z"
   },
   {
    "duration": 9,
    "start_time": "2023-06-12T09:48:58.808Z"
   },
   {
    "duration": 3,
    "start_time": "2023-06-12T09:48:58.818Z"
   },
   {
    "duration": 11,
    "start_time": "2023-06-12T09:48:58.822Z"
   },
   {
    "duration": 271,
    "start_time": "2023-06-12T09:48:58.835Z"
   },
   {
    "duration": 64,
    "start_time": "2023-06-12T09:48:59.108Z"
   },
   {
    "duration": 1573,
    "start_time": "2023-06-12T09:48:59.174Z"
   },
   {
    "duration": 183,
    "start_time": "2023-06-12T09:49:00.749Z"
   },
   {
    "duration": 1093,
    "start_time": "2023-06-12T09:49:00.934Z"
   },
   {
    "duration": 6,
    "start_time": "2023-06-12T09:49:02.029Z"
   },
   {
    "duration": 54,
    "start_time": "2023-06-12T09:49:02.039Z"
   },
   {
    "duration": 143,
    "start_time": "2023-06-12T09:49:02.095Z"
   },
   {
    "duration": 13,
    "start_time": "2023-06-12T09:53:06.856Z"
   },
   {
    "duration": 72,
    "start_time": "2023-06-12T09:53:10.523Z"
   }
  ],
  "kernelspec": {
   "display_name": "Python 3 (ipykernel)",
   "language": "python",
   "name": "python3"
  },
  "language_info": {
   "codemirror_mode": {
    "name": "ipython",
    "version": 3
   },
   "file_extension": ".py",
   "mimetype": "text/x-python",
   "name": "python",
   "nbconvert_exporter": "python",
   "pygments_lexer": "ipython3",
   "version": "3.9.13"
  },
  "toc": {
   "base_numbering": 1,
   "nav_menu": {},
   "number_sections": true,
   "sideBar": true,
   "skip_h1_title": true,
   "title_cell": "Table of Contents",
   "title_sidebar": "Contents",
   "toc_cell": false,
   "toc_position": {},
   "toc_section_display": true,
   "toc_window_display": false
  }
 },
 "nbformat": 4,
 "nbformat_minor": 2
}
