{
 "cells": [
  {
   "cell_type": "markdown",
   "metadata": {
    "toc": true
   },
   "source": [
    "<h1>Содержание<span class=\"tocSkip\"></span></h1>\n",
    "<div class=\"toc\"><ul class=\"toc-item\"><li><span><a href=\"#Подготовка-данных\" data-toc-modified-id=\"Подготовка-данных-1\"><span class=\"toc-item-num\">1&nbsp;&nbsp;</span>Подготовка данных</a></span></li><li><span><a href=\"#Исследование-задачи\" data-toc-modified-id=\"Исследование-задачи-2\"><span class=\"toc-item-num\">2&nbsp;&nbsp;</span>Исследование задачи</a></span></li><li><span><a href=\"#Борьба-с-дисбалансом\" data-toc-modified-id=\"Борьба-с-дисбалансом-3\"><span class=\"toc-item-num\">3&nbsp;&nbsp;</span>Борьба с дисбалансом</a></span></li><li><span><a href=\"#Тестирование-модели\" data-toc-modified-id=\"Тестирование-модели-4\"><span class=\"toc-item-num\">4&nbsp;&nbsp;</span>Тестирование модели</a></span></li><li><span><a href=\"#Чек-лист-готовности-проекта\" data-toc-modified-id=\"Чек-лист-готовности-проекта-5\"><span class=\"toc-item-num\">5&nbsp;&nbsp;</span>Чек-лист готовности проекта</a></span></li></ul></div>"
   ]
  },
  {
   "cell_type": "markdown",
   "metadata": {},
   "source": [
    "# Отток клиентов"
   ]
  },
  {
   "cell_type": "markdown",
   "metadata": {},
   "source": [
    "Из «Бета-Банка» стали уходить клиенты. Каждый месяц. Немного, но заметно. Банковские маркетологи посчитали: сохранять текущих клиентов дешевле, чем привлекать новых.\n",
    "\n",
    "Нужно спрогнозировать, уйдёт клиент из банка в ближайшее время или нет. Вам предоставлены исторические данные о поведении клиентов и расторжении договоров с банком. \n",
    "\n",
    "Постройте модель с предельно большим значением *F1*-меры. Чтобы сдать проект успешно, нужно довести метрику до 0.59. Проверьте *F1*-меру на тестовой выборке самостоятельно.\n",
    "\n",
    "Дополнительно измеряйте *AUC-ROC*, сравнивайте её значение с *F1*-мерой.\n",
    "\n",
    "Источник данных: [https://www.kaggle.com/barelydedicated/bank-customer-churn-modeling](https://www.kaggle.com/barelydedicated/bank-customer-churn-modeling)\n",
    "\n",
    "Описание данных\n",
    "\n",
    "Данные находятся в файле `Churn.csv`. \n",
    "\n",
    "Признаки\n",
    "* RowNumber — индекс строки в данных\n",
    "* CustomerId — уникальный идентификатор клиента\n",
    "* Surname — фамилия\n",
    "* CreditScore — кредитный рейтинг\n",
    "* Geography — страна проживания\n",
    "* Gender — пол\n",
    "* Age — возраст\n",
    "* Tenure — сколько лет человек является клиентом банка\n",
    "* Balance — баланс на счёте\n",
    "* NumOfProducts — количество продуктов банка, используемых клиентом\n",
    "* HasCrCard — наличие кредитной карты\n",
    "* IsActiveMember — активность клиента\n",
    "* EstimatedSalary — предполагаемая зарплата\n",
    "\n",
    "Целевой признак\n",
    "* Exited — факт ухода клиента"
   ]
  },
  {
   "cell_type": "code",
   "execution_count": 1,
   "metadata": {},
   "outputs": [],
   "source": [
    "import pandas as pd\n",
    "from sklearn.model_selection import train_test_split, GridSearchCV, cross_val_score\n",
    "from sklearn.preprocessing import StandardScaler, OneHotEncoder\n",
    "from sklearn.compose import ColumnTransformer\n",
    "from sklearn.impute import SimpleImputer\n",
    "from sklearn.linear_model import LogisticRegression\n",
    "from sklearn.metrics import f1_score, roc_auc_score\n",
    "from sklearn.ensemble import RandomForestClassifier\n",
    "import matplotlib.pyplot as plt\n",
    "import seaborn as sns\n",
    "from sklearn.utils import shuffle\n",
    "from sklearn.dummy import DummyClassifier"
   ]
  },
  {
   "cell_type": "markdown",
   "metadata": {},
   "source": [
    "## Подготовка данных"
   ]
  },
  {
   "cell_type": "code",
   "execution_count": 2,
   "metadata": {},
   "outputs": [
    {
     "data": {
      "text/html": [
       "<div>\n",
       "<style scoped>\n",
       "    .dataframe tbody tr th:only-of-type {\n",
       "        vertical-align: middle;\n",
       "    }\n",
       "\n",
       "    .dataframe tbody tr th {\n",
       "        vertical-align: top;\n",
       "    }\n",
       "\n",
       "    .dataframe thead th {\n",
       "        text-align: right;\n",
       "    }\n",
       "</style>\n",
       "<table border=\"1\" class=\"dataframe\">\n",
       "  <thead>\n",
       "    <tr style=\"text-align: right;\">\n",
       "      <th></th>\n",
       "      <th>RowNumber</th>\n",
       "      <th>CustomerId</th>\n",
       "      <th>Surname</th>\n",
       "      <th>CreditScore</th>\n",
       "      <th>Geography</th>\n",
       "      <th>Gender</th>\n",
       "      <th>Age</th>\n",
       "      <th>Tenure</th>\n",
       "      <th>Balance</th>\n",
       "      <th>NumOfProducts</th>\n",
       "      <th>HasCrCard</th>\n",
       "      <th>IsActiveMember</th>\n",
       "      <th>EstimatedSalary</th>\n",
       "      <th>Exited</th>\n",
       "    </tr>\n",
       "  </thead>\n",
       "  <tbody>\n",
       "    <tr>\n",
       "      <th>0</th>\n",
       "      <td>1</td>\n",
       "      <td>15634602</td>\n",
       "      <td>Hargrave</td>\n",
       "      <td>619</td>\n",
       "      <td>France</td>\n",
       "      <td>Female</td>\n",
       "      <td>42</td>\n",
       "      <td>2.0</td>\n",
       "      <td>0.00</td>\n",
       "      <td>1</td>\n",
       "      <td>1</td>\n",
       "      <td>1</td>\n",
       "      <td>101348.88</td>\n",
       "      <td>1</td>\n",
       "    </tr>\n",
       "    <tr>\n",
       "      <th>1</th>\n",
       "      <td>2</td>\n",
       "      <td>15647311</td>\n",
       "      <td>Hill</td>\n",
       "      <td>608</td>\n",
       "      <td>Spain</td>\n",
       "      <td>Female</td>\n",
       "      <td>41</td>\n",
       "      <td>1.0</td>\n",
       "      <td>83807.86</td>\n",
       "      <td>1</td>\n",
       "      <td>0</td>\n",
       "      <td>1</td>\n",
       "      <td>112542.58</td>\n",
       "      <td>0</td>\n",
       "    </tr>\n",
       "    <tr>\n",
       "      <th>2</th>\n",
       "      <td>3</td>\n",
       "      <td>15619304</td>\n",
       "      <td>Onio</td>\n",
       "      <td>502</td>\n",
       "      <td>France</td>\n",
       "      <td>Female</td>\n",
       "      <td>42</td>\n",
       "      <td>8.0</td>\n",
       "      <td>159660.80</td>\n",
       "      <td>3</td>\n",
       "      <td>1</td>\n",
       "      <td>0</td>\n",
       "      <td>113931.57</td>\n",
       "      <td>1</td>\n",
       "    </tr>\n",
       "    <tr>\n",
       "      <th>3</th>\n",
       "      <td>4</td>\n",
       "      <td>15701354</td>\n",
       "      <td>Boni</td>\n",
       "      <td>699</td>\n",
       "      <td>France</td>\n",
       "      <td>Female</td>\n",
       "      <td>39</td>\n",
       "      <td>1.0</td>\n",
       "      <td>0.00</td>\n",
       "      <td>2</td>\n",
       "      <td>0</td>\n",
       "      <td>0</td>\n",
       "      <td>93826.63</td>\n",
       "      <td>0</td>\n",
       "    </tr>\n",
       "    <tr>\n",
       "      <th>4</th>\n",
       "      <td>5</td>\n",
       "      <td>15737888</td>\n",
       "      <td>Mitchell</td>\n",
       "      <td>850</td>\n",
       "      <td>Spain</td>\n",
       "      <td>Female</td>\n",
       "      <td>43</td>\n",
       "      <td>2.0</td>\n",
       "      <td>125510.82</td>\n",
       "      <td>1</td>\n",
       "      <td>1</td>\n",
       "      <td>1</td>\n",
       "      <td>79084.10</td>\n",
       "      <td>0</td>\n",
       "    </tr>\n",
       "  </tbody>\n",
       "</table>\n",
       "</div>"
      ],
      "text/plain": [
       "   RowNumber  CustomerId   Surname  CreditScore Geography  Gender  Age  \\\n",
       "0          1    15634602  Hargrave          619    France  Female   42   \n",
       "1          2    15647311      Hill          608     Spain  Female   41   \n",
       "2          3    15619304      Onio          502    France  Female   42   \n",
       "3          4    15701354      Boni          699    France  Female   39   \n",
       "4          5    15737888  Mitchell          850     Spain  Female   43   \n",
       "\n",
       "   Tenure    Balance  NumOfProducts  HasCrCard  IsActiveMember  \\\n",
       "0     2.0       0.00              1          1               1   \n",
       "1     1.0   83807.86              1          0               1   \n",
       "2     8.0  159660.80              3          1               0   \n",
       "3     1.0       0.00              2          0               0   \n",
       "4     2.0  125510.82              1          1               1   \n",
       "\n",
       "   EstimatedSalary  Exited  \n",
       "0        101348.88       1  \n",
       "1        112542.58       0  \n",
       "2        113931.57       1  \n",
       "3         93826.63       0  \n",
       "4         79084.10       0  "
      ]
     },
     "execution_count": 2,
     "metadata": {},
     "output_type": "execute_result"
    }
   ],
   "source": [
    "data = pd.read_csv('/datasets/Churn.csv')\n",
    "data.head()"
   ]
  },
  {
   "cell_type": "code",
   "execution_count": 3,
   "metadata": {},
   "outputs": [
    {
     "name": "stdout",
     "output_type": "stream",
     "text": [
      "<class 'pandas.core.frame.DataFrame'>\n",
      "RangeIndex: 10000 entries, 0 to 9999\n",
      "Data columns (total 14 columns):\n",
      " #   Column           Non-Null Count  Dtype  \n",
      "---  ------           --------------  -----  \n",
      " 0   RowNumber        10000 non-null  int64  \n",
      " 1   CustomerId       10000 non-null  int64  \n",
      " 2   Surname          10000 non-null  object \n",
      " 3   CreditScore      10000 non-null  int64  \n",
      " 4   Geography        10000 non-null  object \n",
      " 5   Gender           10000 non-null  object \n",
      " 6   Age              10000 non-null  int64  \n",
      " 7   Tenure           9091 non-null   float64\n",
      " 8   Balance          10000 non-null  float64\n",
      " 9   NumOfProducts    10000 non-null  int64  \n",
      " 10  HasCrCard        10000 non-null  int64  \n",
      " 11  IsActiveMember   10000 non-null  int64  \n",
      " 12  EstimatedSalary  10000 non-null  float64\n",
      " 13  Exited           10000 non-null  int64  \n",
      "dtypes: float64(3), int64(8), object(3)\n",
      "memory usage: 1.1+ MB\n"
     ]
    }
   ],
   "source": [
    "data.info()"
   ]
  },
  {
   "cell_type": "code",
   "execution_count": 4,
   "metadata": {},
   "outputs": [
    {
     "data": {
      "text/html": [
       "<div>\n",
       "<style scoped>\n",
       "    .dataframe tbody tr th:only-of-type {\n",
       "        vertical-align: middle;\n",
       "    }\n",
       "\n",
       "    .dataframe tbody tr th {\n",
       "        vertical-align: top;\n",
       "    }\n",
       "\n",
       "    .dataframe thead th {\n",
       "        text-align: right;\n",
       "    }\n",
       "</style>\n",
       "<table border=\"1\" class=\"dataframe\">\n",
       "  <thead>\n",
       "    <tr style=\"text-align: right;\">\n",
       "      <th></th>\n",
       "      <th>count</th>\n",
       "      <th>unique</th>\n",
       "      <th>top</th>\n",
       "      <th>freq</th>\n",
       "      <th>mean</th>\n",
       "      <th>std</th>\n",
       "      <th>min</th>\n",
       "      <th>25%</th>\n",
       "      <th>50%</th>\n",
       "      <th>75%</th>\n",
       "      <th>max</th>\n",
       "    </tr>\n",
       "  </thead>\n",
       "  <tbody>\n",
       "    <tr>\n",
       "      <th>RowNumber</th>\n",
       "      <td>10000.0</td>\n",
       "      <td>NaN</td>\n",
       "      <td>NaN</td>\n",
       "      <td>NaN</td>\n",
       "      <td>5000.5</td>\n",
       "      <td>2886.89568</td>\n",
       "      <td>1.0</td>\n",
       "      <td>2500.75</td>\n",
       "      <td>5000.5</td>\n",
       "      <td>7500.25</td>\n",
       "      <td>10000.0</td>\n",
       "    </tr>\n",
       "    <tr>\n",
       "      <th>CustomerId</th>\n",
       "      <td>10000.0</td>\n",
       "      <td>NaN</td>\n",
       "      <td>NaN</td>\n",
       "      <td>NaN</td>\n",
       "      <td>15690940.5694</td>\n",
       "      <td>71936.186123</td>\n",
       "      <td>15565701.0</td>\n",
       "      <td>15628528.25</td>\n",
       "      <td>15690738.0</td>\n",
       "      <td>15753233.75</td>\n",
       "      <td>15815690.0</td>\n",
       "    </tr>\n",
       "    <tr>\n",
       "      <th>Surname</th>\n",
       "      <td>10000</td>\n",
       "      <td>2932</td>\n",
       "      <td>Smith</td>\n",
       "      <td>32</td>\n",
       "      <td>NaN</td>\n",
       "      <td>NaN</td>\n",
       "      <td>NaN</td>\n",
       "      <td>NaN</td>\n",
       "      <td>NaN</td>\n",
       "      <td>NaN</td>\n",
       "      <td>NaN</td>\n",
       "    </tr>\n",
       "    <tr>\n",
       "      <th>CreditScore</th>\n",
       "      <td>10000.0</td>\n",
       "      <td>NaN</td>\n",
       "      <td>NaN</td>\n",
       "      <td>NaN</td>\n",
       "      <td>650.5288</td>\n",
       "      <td>96.653299</td>\n",
       "      <td>350.0</td>\n",
       "      <td>584.0</td>\n",
       "      <td>652.0</td>\n",
       "      <td>718.0</td>\n",
       "      <td>850.0</td>\n",
       "    </tr>\n",
       "    <tr>\n",
       "      <th>Geography</th>\n",
       "      <td>10000</td>\n",
       "      <td>3</td>\n",
       "      <td>France</td>\n",
       "      <td>5014</td>\n",
       "      <td>NaN</td>\n",
       "      <td>NaN</td>\n",
       "      <td>NaN</td>\n",
       "      <td>NaN</td>\n",
       "      <td>NaN</td>\n",
       "      <td>NaN</td>\n",
       "      <td>NaN</td>\n",
       "    </tr>\n",
       "    <tr>\n",
       "      <th>Gender</th>\n",
       "      <td>10000</td>\n",
       "      <td>2</td>\n",
       "      <td>Male</td>\n",
       "      <td>5457</td>\n",
       "      <td>NaN</td>\n",
       "      <td>NaN</td>\n",
       "      <td>NaN</td>\n",
       "      <td>NaN</td>\n",
       "      <td>NaN</td>\n",
       "      <td>NaN</td>\n",
       "      <td>NaN</td>\n",
       "    </tr>\n",
       "    <tr>\n",
       "      <th>Age</th>\n",
       "      <td>10000.0</td>\n",
       "      <td>NaN</td>\n",
       "      <td>NaN</td>\n",
       "      <td>NaN</td>\n",
       "      <td>38.9218</td>\n",
       "      <td>10.487806</td>\n",
       "      <td>18.0</td>\n",
       "      <td>32.0</td>\n",
       "      <td>37.0</td>\n",
       "      <td>44.0</td>\n",
       "      <td>92.0</td>\n",
       "    </tr>\n",
       "    <tr>\n",
       "      <th>Tenure</th>\n",
       "      <td>9091.0</td>\n",
       "      <td>NaN</td>\n",
       "      <td>NaN</td>\n",
       "      <td>NaN</td>\n",
       "      <td>4.99769</td>\n",
       "      <td>2.894723</td>\n",
       "      <td>0.0</td>\n",
       "      <td>2.0</td>\n",
       "      <td>5.0</td>\n",
       "      <td>7.0</td>\n",
       "      <td>10.0</td>\n",
       "    </tr>\n",
       "    <tr>\n",
       "      <th>Balance</th>\n",
       "      <td>10000.0</td>\n",
       "      <td>NaN</td>\n",
       "      <td>NaN</td>\n",
       "      <td>NaN</td>\n",
       "      <td>76485.889288</td>\n",
       "      <td>62397.405202</td>\n",
       "      <td>0.0</td>\n",
       "      <td>0.0</td>\n",
       "      <td>97198.54</td>\n",
       "      <td>127644.24</td>\n",
       "      <td>250898.09</td>\n",
       "    </tr>\n",
       "    <tr>\n",
       "      <th>NumOfProducts</th>\n",
       "      <td>10000.0</td>\n",
       "      <td>NaN</td>\n",
       "      <td>NaN</td>\n",
       "      <td>NaN</td>\n",
       "      <td>1.5302</td>\n",
       "      <td>0.581654</td>\n",
       "      <td>1.0</td>\n",
       "      <td>1.0</td>\n",
       "      <td>1.0</td>\n",
       "      <td>2.0</td>\n",
       "      <td>4.0</td>\n",
       "    </tr>\n",
       "    <tr>\n",
       "      <th>HasCrCard</th>\n",
       "      <td>10000.0</td>\n",
       "      <td>NaN</td>\n",
       "      <td>NaN</td>\n",
       "      <td>NaN</td>\n",
       "      <td>0.7055</td>\n",
       "      <td>0.45584</td>\n",
       "      <td>0.0</td>\n",
       "      <td>0.0</td>\n",
       "      <td>1.0</td>\n",
       "      <td>1.0</td>\n",
       "      <td>1.0</td>\n",
       "    </tr>\n",
       "    <tr>\n",
       "      <th>IsActiveMember</th>\n",
       "      <td>10000.0</td>\n",
       "      <td>NaN</td>\n",
       "      <td>NaN</td>\n",
       "      <td>NaN</td>\n",
       "      <td>0.5151</td>\n",
       "      <td>0.499797</td>\n",
       "      <td>0.0</td>\n",
       "      <td>0.0</td>\n",
       "      <td>1.0</td>\n",
       "      <td>1.0</td>\n",
       "      <td>1.0</td>\n",
       "    </tr>\n",
       "    <tr>\n",
       "      <th>EstimatedSalary</th>\n",
       "      <td>10000.0</td>\n",
       "      <td>NaN</td>\n",
       "      <td>NaN</td>\n",
       "      <td>NaN</td>\n",
       "      <td>100090.239881</td>\n",
       "      <td>57510.492818</td>\n",
       "      <td>11.58</td>\n",
       "      <td>51002.11</td>\n",
       "      <td>100193.915</td>\n",
       "      <td>149388.2475</td>\n",
       "      <td>199992.48</td>\n",
       "    </tr>\n",
       "    <tr>\n",
       "      <th>Exited</th>\n",
       "      <td>10000.0</td>\n",
       "      <td>NaN</td>\n",
       "      <td>NaN</td>\n",
       "      <td>NaN</td>\n",
       "      <td>0.2037</td>\n",
       "      <td>0.402769</td>\n",
       "      <td>0.0</td>\n",
       "      <td>0.0</td>\n",
       "      <td>0.0</td>\n",
       "      <td>0.0</td>\n",
       "      <td>1.0</td>\n",
       "    </tr>\n",
       "  </tbody>\n",
       "</table>\n",
       "</div>"
      ],
      "text/plain": [
       "                   count unique     top  freq           mean           std  \\\n",
       "RowNumber        10000.0    NaN     NaN   NaN         5000.5    2886.89568   \n",
       "CustomerId       10000.0    NaN     NaN   NaN  15690940.5694  71936.186123   \n",
       "Surname            10000   2932   Smith    32            NaN           NaN   \n",
       "CreditScore      10000.0    NaN     NaN   NaN       650.5288     96.653299   \n",
       "Geography          10000      3  France  5014            NaN           NaN   \n",
       "Gender             10000      2    Male  5457            NaN           NaN   \n",
       "Age              10000.0    NaN     NaN   NaN        38.9218     10.487806   \n",
       "Tenure            9091.0    NaN     NaN   NaN        4.99769      2.894723   \n",
       "Balance          10000.0    NaN     NaN   NaN   76485.889288  62397.405202   \n",
       "NumOfProducts    10000.0    NaN     NaN   NaN         1.5302      0.581654   \n",
       "HasCrCard        10000.0    NaN     NaN   NaN         0.7055       0.45584   \n",
       "IsActiveMember   10000.0    NaN     NaN   NaN         0.5151      0.499797   \n",
       "EstimatedSalary  10000.0    NaN     NaN   NaN  100090.239881  57510.492818   \n",
       "Exited           10000.0    NaN     NaN   NaN         0.2037      0.402769   \n",
       "\n",
       "                        min          25%         50%          75%         max  \n",
       "RowNumber               1.0      2500.75      5000.5      7500.25     10000.0  \n",
       "CustomerId       15565701.0  15628528.25  15690738.0  15753233.75  15815690.0  \n",
       "Surname                 NaN          NaN         NaN          NaN         NaN  \n",
       "CreditScore           350.0        584.0       652.0        718.0       850.0  \n",
       "Geography               NaN          NaN         NaN          NaN         NaN  \n",
       "Gender                  NaN          NaN         NaN          NaN         NaN  \n",
       "Age                    18.0         32.0        37.0         44.0        92.0  \n",
       "Tenure                  0.0          2.0         5.0          7.0        10.0  \n",
       "Balance                 0.0          0.0    97198.54    127644.24   250898.09  \n",
       "NumOfProducts           1.0          1.0         1.0          2.0         4.0  \n",
       "HasCrCard               0.0          0.0         1.0          1.0         1.0  \n",
       "IsActiveMember          0.0          0.0         1.0          1.0         1.0  \n",
       "EstimatedSalary       11.58     51002.11  100193.915  149388.2475   199992.48  \n",
       "Exited                  0.0          0.0         0.0          0.0         1.0  "
      ]
     },
     "execution_count": 4,
     "metadata": {},
     "output_type": "execute_result"
    }
   ],
   "source": [
    "data.describe(include='all').T"
   ]
  },
  {
   "cell_type": "code",
   "execution_count": 5,
   "metadata": {},
   "outputs": [
    {
     "data": {
      "text/plain": [
       "Tenure             909\n",
       "RowNumber            0\n",
       "CustomerId           0\n",
       "Surname              0\n",
       "CreditScore          0\n",
       "Geography            0\n",
       "Gender               0\n",
       "Age                  0\n",
       "Balance              0\n",
       "NumOfProducts        0\n",
       "HasCrCard            0\n",
       "IsActiveMember       0\n",
       "EstimatedSalary      0\n",
       "Exited               0\n",
       "dtype: int64"
      ]
     },
     "execution_count": 5,
     "metadata": {},
     "output_type": "execute_result"
    }
   ],
   "source": [
    "data.isna().sum().sort_values(ascending=False)\n",
    "#data.hist(figsize=(15, 20))"
   ]
  },
  {
   "cell_type": "code",
   "execution_count": 6,
   "metadata": {},
   "outputs": [
    {
     "data": {
      "text/plain": [
       "10000"
      ]
     },
     "execution_count": 6,
     "metadata": {},
     "output_type": "execute_result"
    }
   ],
   "source": [
    "data['CustomerId'].nunique()"
   ]
  },
  {
   "cell_type": "code",
   "execution_count": 7,
   "metadata": {},
   "outputs": [
    {
     "data": {
      "text/plain": [
       "RowNumber            0\n",
       "CustomerId           0\n",
       "Surname              0\n",
       "CreditScore          0\n",
       "Geography            0\n",
       "Gender               0\n",
       "Age                  0\n",
       "Tenure             909\n",
       "Balance              0\n",
       "NumOfProducts        0\n",
       "HasCrCard            0\n",
       "IsActiveMember       0\n",
       "EstimatedSalary      0\n",
       "Exited               0\n",
       "dtype: int64"
      ]
     },
     "execution_count": 7,
     "metadata": {},
     "output_type": "execute_result"
    }
   ],
   "source": [
    "data.isna().sum()"
   ]
  },
  {
   "cell_type": "code",
   "execution_count": 8,
   "metadata": {},
   "outputs": [],
   "source": [
    "# заполнение пропущенных значении медианным значением\n",
    "data.loc[data['Tenure'].isna(), 'Tenure'] = data['Tenure'].median()\n",
    "#data.isna().sum()"
   ]
  },
  {
   "cell_type": "code",
   "execution_count": 9,
   "metadata": {},
   "outputs": [],
   "source": [
    "data = data.drop(['RowNumber', 'CustomerId', 'Surname'], axis=1)"
   ]
  },
  {
   "cell_type": "markdown",
   "metadata": {},
   "source": [
    "**Вывод** \n",
    "\n",
    "Выполнила необходимые действия по подготовке данных для решения задачи предсказания оттока клиентов. \n",
    "- Общий объем данных 10000 записей\n",
    "- Все столбцы имеют соответствующий тип данных\n",
    "- В столбеце \"Tenure\" бонаружено 909 пропущенных значений. Пропуски были заполнены медианным значением\n",
    "- Удалила ненужные признаки, которые не нужны для дальнейшего анализа\n",
    "- Аномальные значения не выявлены\n",
    "\n",
    "Данные готовы для дальнейшего анализа и исследовании. "
   ]
  },
  {
   "cell_type": "markdown",
   "metadata": {},
   "source": [
    "## Исследование задачи"
   ]
  },
  {
   "cell_type": "code",
   "execution_count": 10,
   "metadata": {
    "scrolled": false
   },
   "outputs": [
    {
     "name": "stdout",
     "output_type": "stream",
     "text": [
      "0    0.7963\n",
      "1    0.2037\n",
      "Name: Exited, dtype: float64\n"
     ]
    }
   ],
   "source": [
    "class_balance = data['Exited'].value_counts(normalize=True)\n",
    "print(class_balance)"
   ]
  },
  {
   "cell_type": "markdown",
   "metadata": {},
   "source": [
    "При исследовании баланса классов было обнаружено, что классы несбалансированы. \n",
    "- Класс 0 (оставшиеся клиенты) ~79.6% \n",
    "- Класс 1 (ушедшие клиенты) ~20.4%."
   ]
  },
  {
   "cell_type": "code",
   "execution_count": 11,
   "metadata": {
    "scrolled": true
   },
   "outputs": [
    {
     "data": {
      "text/html": [
       "<div>\n",
       "<style scoped>\n",
       "    .dataframe tbody tr th:only-of-type {\n",
       "        vertical-align: middle;\n",
       "    }\n",
       "\n",
       "    .dataframe tbody tr th {\n",
       "        vertical-align: top;\n",
       "    }\n",
       "\n",
       "    .dataframe thead th {\n",
       "        text-align: right;\n",
       "    }\n",
       "</style>\n",
       "<table border=\"1\" class=\"dataframe\">\n",
       "  <thead>\n",
       "    <tr style=\"text-align: right;\">\n",
       "      <th></th>\n",
       "      <th>CreditScore</th>\n",
       "      <th>Age</th>\n",
       "      <th>Tenure</th>\n",
       "      <th>Balance</th>\n",
       "      <th>NumOfProducts</th>\n",
       "      <th>HasCrCard</th>\n",
       "      <th>IsActiveMember</th>\n",
       "      <th>EstimatedSalary</th>\n",
       "      <th>Exited</th>\n",
       "      <th>Geography_Germany</th>\n",
       "      <th>Geography_Spain</th>\n",
       "      <th>Gender_Male</th>\n",
       "    </tr>\n",
       "  </thead>\n",
       "  <tbody>\n",
       "    <tr>\n",
       "      <th>0</th>\n",
       "      <td>619</td>\n",
       "      <td>42</td>\n",
       "      <td>2.0</td>\n",
       "      <td>0.00</td>\n",
       "      <td>1</td>\n",
       "      <td>1</td>\n",
       "      <td>1</td>\n",
       "      <td>101348.88</td>\n",
       "      <td>1</td>\n",
       "      <td>0</td>\n",
       "      <td>0</td>\n",
       "      <td>0</td>\n",
       "    </tr>\n",
       "    <tr>\n",
       "      <th>1</th>\n",
       "      <td>608</td>\n",
       "      <td>41</td>\n",
       "      <td>1.0</td>\n",
       "      <td>83807.86</td>\n",
       "      <td>1</td>\n",
       "      <td>0</td>\n",
       "      <td>1</td>\n",
       "      <td>112542.58</td>\n",
       "      <td>0</td>\n",
       "      <td>0</td>\n",
       "      <td>1</td>\n",
       "      <td>0</td>\n",
       "    </tr>\n",
       "    <tr>\n",
       "      <th>2</th>\n",
       "      <td>502</td>\n",
       "      <td>42</td>\n",
       "      <td>8.0</td>\n",
       "      <td>159660.80</td>\n",
       "      <td>3</td>\n",
       "      <td>1</td>\n",
       "      <td>0</td>\n",
       "      <td>113931.57</td>\n",
       "      <td>1</td>\n",
       "      <td>0</td>\n",
       "      <td>0</td>\n",
       "      <td>0</td>\n",
       "    </tr>\n",
       "    <tr>\n",
       "      <th>3</th>\n",
       "      <td>699</td>\n",
       "      <td>39</td>\n",
       "      <td>1.0</td>\n",
       "      <td>0.00</td>\n",
       "      <td>2</td>\n",
       "      <td>0</td>\n",
       "      <td>0</td>\n",
       "      <td>93826.63</td>\n",
       "      <td>0</td>\n",
       "      <td>0</td>\n",
       "      <td>0</td>\n",
       "      <td>0</td>\n",
       "    </tr>\n",
       "    <tr>\n",
       "      <th>4</th>\n",
       "      <td>850</td>\n",
       "      <td>43</td>\n",
       "      <td>2.0</td>\n",
       "      <td>125510.82</td>\n",
       "      <td>1</td>\n",
       "      <td>1</td>\n",
       "      <td>1</td>\n",
       "      <td>79084.10</td>\n",
       "      <td>0</td>\n",
       "      <td>0</td>\n",
       "      <td>1</td>\n",
       "      <td>0</td>\n",
       "    </tr>\n",
       "  </tbody>\n",
       "</table>\n",
       "</div>"
      ],
      "text/plain": [
       "   CreditScore  Age  Tenure    Balance  NumOfProducts  HasCrCard  \\\n",
       "0          619   42     2.0       0.00              1          1   \n",
       "1          608   41     1.0   83807.86              1          0   \n",
       "2          502   42     8.0  159660.80              3          1   \n",
       "3          699   39     1.0       0.00              2          0   \n",
       "4          850   43     2.0  125510.82              1          1   \n",
       "\n",
       "   IsActiveMember  EstimatedSalary  Exited  Geography_Germany  \\\n",
       "0               1        101348.88       1                  0   \n",
       "1               1        112542.58       0                  0   \n",
       "2               0        113931.57       1                  0   \n",
       "3               0         93826.63       0                  0   \n",
       "4               1         79084.10       0                  0   \n",
       "\n",
       "   Geography_Spain  Gender_Male  \n",
       "0                0            0  \n",
       "1                1            0  \n",
       "2                0            0  \n",
       "3                0            0  \n",
       "4                1            0  "
      ]
     },
     "execution_count": 11,
     "metadata": {},
     "output_type": "execute_result"
    }
   ],
   "source": [
    "d = pd.get_dummies(data, columns=['Geography', 'Gender'], drop_first=True)\n",
    "d.shape\n",
    "d.head()"
   ]
  },
  {
   "cell_type": "code",
   "execution_count": 12,
   "metadata": {},
   "outputs": [],
   "source": [
    "X = d.drop('Exited', axis=1)\n",
    "y = d['Exited']\n",
    "\n",
    "X_train, X_temp, y_train, y_temp = train_test_split(X, y, test_size=0.5, random_state=12345)\n",
    "X_valid, X_test, y_valid, y_test = train_test_split(X_temp, y_temp, test_size=0.5, random_state=12345)"
   ]
  },
  {
   "cell_type": "code",
   "execution_count": 13,
   "metadata": {
    "scrolled": true
   },
   "outputs": [
    {
     "name": "stdout",
     "output_type": "stream",
     "text": [
      "Логистическая регрессия:\n",
      "F1-мера: 0.31001371742112477\n",
      "Площадь ROC-кривой: 0.7298593982228125\n"
     ]
    }
   ],
   "source": [
    "numeric_features = ['CreditScore', 'Age', 'Tenure', 'Balance', 'NumOfProducts', 'EstimatedSalary']\n",
    "scaler = StandardScaler()\n",
    "X_train[numeric_features] = scaler.fit_transform(X_train[numeric_features])\n",
    "X_valid[numeric_features] = scaler.transform(X_valid[numeric_features])\n",
    "X_test[numeric_features] = scaler.transform(X_test[numeric_features])\n",
    "\n",
    "model_lr = LogisticRegression(random_state=12345, solver='liblinear')\n",
    "model_lr.fit(X_train, y_train)\n",
    "\n",
    "y_valid_pred_lr = model_lr.predict(X_valid)\n",
    "probabilities_lr = model_lr.predict_proba(X_valid)\n",
    "probabilities_one_lr = probabilities_lr[:, 1]\n",
    "\n",
    "f1_lr = f1_score(y_valid, y_valid_pred_lr)\n",
    "roc_auc_lr = roc_auc_score(y_valid, probabilities_one_lr)\n",
    "\n",
    "print(\"Логистическая регрессия:\")\n",
    "print(\"F1-мера:\", f1_lr)\n",
    "print('Площадь ROC-кривой:', roc_auc_lr)"
   ]
  },
  {
   "cell_type": "code",
   "execution_count": 14,
   "metadata": {},
   "outputs": [
    {
     "name": "stdout",
     "output_type": "stream",
     "text": [
      "Случайный лес:\n",
      "AUC-ROC: 0.8343383376023781\n",
      "F1-мера: 0.5700123915737298\n"
     ]
    }
   ],
   "source": [
    "best_f1_rf = 0\n",
    "best_model_rf = None\n",
    "\n",
    "for est in range(10, 151, 10):\n",
    "    for depth in range(1, 16):\n",
    "        model_rf = RandomForestClassifier(random_state=12345, n_estimators=est, max_depth=depth)\n",
    "        model_rf.fit(X_train, y_train)\n",
    "        y_valid_pred_rf = model_rf.predict(X_valid)\n",
    "        f1_rf = f1_score(y_valid, y_valid_pred_rf)\n",
    "        \n",
    "        if f1_rf > best_f1_rf:\n",
    "            best_f1_rf = f1_rf\n",
    "            best_model_rf = model_rf\n",
    "\n",
    "y_valid_pred_rf = best_model_rf.predict(X_valid)\n",
    "probabilities_rf = best_model_rf.predict_proba(X_valid)\n",
    "probabilities_one_rf = probabilities_rf[:, 1]\n",
    "\n",
    "f1_rf = f1_score(y_valid, y_valid_pred_rf)\n",
    "roc_auc_rf = roc_auc_score(y_valid, probabilities_one_rf)\n",
    "\n",
    "print(\"Случайный лес:\")\n",
    "print(\"AUC-ROC:\", roc_auc_rf)\n",
    "print(\"F1-мера:\", f1_rf)"
   ]
  },
  {
   "cell_type": "code",
   "execution_count": 15,
   "metadata": {},
   "outputs": [
    {
     "name": "stdout",
     "output_type": "stream",
     "text": [
      "Случайный лес дал лучший результат по F1-мере.\n",
      "Случайный лес дал лучший результат по AUC-ROC.\n"
     ]
    }
   ],
   "source": [
    "if f1_lr > f1_rf:\n",
    "    print(\"Логистическая регрессия дала лучший результат по F1-мере.\")\n",
    "else:\n",
    "    print(\"Случайный лес дал лучший результат по F1-мере.\")\n",
    "    \n",
    "if roc_auc_lr > roc_auc_rf:\n",
    "    print(\"Логистическая регрессия дала лучший результат по AUC-ROC.\")\n",
    "else:\n",
    "    print(\"Случайный лес дал лучший результат по AUC-ROC.\")"
   ]
  },
  {
   "cell_type": "markdown",
   "metadata": {},
   "source": [
    "**Вывод**\n",
    "F1-мера и AUC-ROC для случайного леса без учета дисбаланса значительно превосходят аналогичные метрики для логистической регрессии без учета дисбаланса"
   ]
  },
  {
   "cell_type": "markdown",
   "metadata": {},
   "source": [
    "## Борьба с дисбалансом"
   ]
  },
  {
   "cell_type": "code",
   "execution_count": 16,
   "metadata": {},
   "outputs": [
    {
     "name": "stdout",
     "output_type": "stream",
     "text": [
      "Requirement already satisfied: imblearn in /opt/conda/lib/python3.9/site-packages (0.0)\r\n",
      "Requirement already satisfied: imbalanced-learn in /opt/conda/lib/python3.9/site-packages (from imblearn) (0.11.0)\r\n",
      "Requirement already satisfied: joblib>=1.1.1 in /opt/conda/lib/python3.9/site-packages (from imbalanced-learn->imblearn) (1.3.1)\r\n",
      "Requirement already satisfied: scikit-learn>=1.0.2 in /opt/conda/lib/python3.9/site-packages (from imbalanced-learn->imblearn) (1.3.0)\r\n",
      "Requirement already satisfied: numpy>=1.17.3 in /opt/conda/lib/python3.9/site-packages (from imbalanced-learn->imblearn) (1.21.1)\r\n",
      "Requirement already satisfied: scipy>=1.5.0 in /opt/conda/lib/python3.9/site-packages (from imbalanced-learn->imblearn) (1.9.1)\r\n",
      "Requirement already satisfied: threadpoolctl>=2.0.0 in /opt/conda/lib/python3.9/site-packages (from imbalanced-learn->imblearn) (3.1.0)\r\n"
     ]
    }
   ],
   "source": [
    "!pip install imblearn"
   ]
  },
  {
   "cell_type": "code",
   "execution_count": 19,
   "metadata": {},
   "outputs": [],
   "source": [
    "from imblearn.over_sampling import SMOTE\n",
    "from imblearn.under_sampling import RandomUnderSampler\n",
    "\n",
    "oversample = SMOTE(random_state=12345, k_neighbors=4)\n",
    "X_train_up, y_train_up = oversample.fit_resample(X_train, y_train)\n",
    "\n",
    "undersample = RandomUnderSampler(random_state=12345)\n",
    "X_train_down, y_train_down = undersample.fit_resample(X_train, y_train)"
   ]
  },
  {
   "cell_type": "code",
   "execution_count": 34,
   "metadata": {},
   "outputs": [
    {
     "name": "stdout",
     "output_type": "stream",
     "text": [
      "Метод Исходные:\n",
      "Среднее значение ROC-AUC: 0.8485712773176527\n",
      "Стандартное отклонение ROC-AUC: 0.019166811428708633\n",
      "\n",
      "Метод Апсемплинг:\n",
      "Среднее значение ROC-AUC: 0.9628967430582793\n",
      "Стандартное отклонение ROC-AUC: 0.021355455854180336\n",
      "\n",
      "Метод Даунсемплинг:\n",
      "Среднее значение ROC-AUC: 0.8485926713134718\n",
      "Стандартное отклонение ROC-AUC: 0.021821123520747738\n",
      "\n",
      "Лучший метод: Апсемплинг.\n"
     ]
    }
   ],
   "source": [
    "\n",
    "results = {}\n",
    "model = RandomForestClassifier(random_state=12345)\n",
    "cv_scores = cross_val_score(model, X_train, y_train, cv=5, scoring='roc_auc')\n",
    "results['Исходные'] = {'roc_auc_mean': cv_scores.mean(), 'roc_auc_std': cv_scores.std()}\n",
    "\n",
    "# Апсемплинг\n",
    "model_up = RandomForestClassifier(random_state=12345)\n",
    "cv_scores_up = cross_val_score(model_up, X_train_up, y_train_up, cv=5, scoring='roc_auc')\n",
    "results['Апсемплинг'] = {'roc_auc_mean': cv_scores_up.mean(), 'roc_auc_std': cv_scores_up.std()}\n",
    "# Даунсемплинг\n",
    "model_down = RandomForestClassifier(random_state=12345)\n",
    "cv_scores_down = cross_val_score(model_down, X_train_down, y_train_down, cv=5, scoring='roc_auc')\n",
    "results['Даунсемплинг'] = {'roc_auc_mean': cv_scores_down.mean(), 'roc_auc_std': cv_scores_down.std()}\n",
    "\n",
    "\n",
    "for method, scores in results.items():\n",
    "    print(f\"Метод {method}:\")\n",
    "    print(\"Среднее значение ROC-AUC:\", scores['roc_auc_mean'])\n",
    "    print(\"Стандартное отклонение ROC-AUC:\", scores['roc_auc_std'])\n",
    "    print()\n",
    "\n",
    "лучший_метод = max(results, key=lambda x: results[x]['roc_auc_mean'])\n",
    "print(f\"Лучший метод: {лучший_метод}.\")"
   ]
  },
  {
   "cell_type": "markdown",
   "metadata": {},
   "source": [
    "**Для борьбы с дисбалансом классов были применены следующие методы:**\n",
    "\n",
    "- Апсемплинг: Применен метод SMOTE чтобы уравнять баланс между классами.\n",
    "- Даунсемплинг: Использован метод Random Under-sampling, который удаляет случайные образцы из мажорного класса для достижения баланса.\n",
    "Результаты кросс-валидации по ROC-AUC для различных методов балансировки классов:\n",
    "- Метод Исходные: Среднее значение ROC-AUC: 0.849, Стандартное отклонение ROC-AUC: 0.007\n",
    "- Метод Апсемплинг: Среднее значение ROC-AUC: 0.965, Стандартное отклонение ROC-AUC: 0.020\n",
    "- Метод Даунсемплинг: Среднее значение ROC-AUC: 0.849, Стандартное отклонение ROC-AUC: 0.008\n",
    "\n",
    "Лучшим методом, в данном случае, является Апсемплинг, так как он позволил достичь наилучшего среднего значения ROC-AUC в кросс-валидации."
   ]
  },
  {
   "cell_type": "markdown",
   "metadata": {},
   "source": [
    "## Тестирование модели"
   ]
  },
  {
   "cell_type": "code",
   "execution_count": 24,
   "metadata": {},
   "outputs": [
    {
     "name": "stdout",
     "output_type": "stream",
     "text": [
      "ROC-AUC: 0.8630513542705952\n",
      "F1-мера: 0.6172106824925816\n"
     ]
    }
   ],
   "source": [
    "best_model = RandomForestClassifier(n_estimators=100, max_depth=10, random_state=12345, class_weight='balanced')\n",
    "best_model.fit(X_train, y_train)\n",
    "\n",
    "final_predictions = best_model.predict(X_test)\n",
    "probabilities = best_model.predict_proba(X_test)[:, 1]\n",
    "\n",
    "roc_auc_final = roc_auc_score(y_test, probabilities)\n",
    "f1_final = f1_score(y_test, final_predictions)\n",
    "\n",
    "\n",
    "print(\"ROC-AUC:\", roc_auc_final)\n",
    "print(\"F1-мера:\", f1_final)"
   ]
  },
  {
   "cell_type": "markdown",
   "metadata": {},
   "source": [
    "**Результаты:**\n",
    "\n",
    "- Баланс классов: ~79.6% оставшихся клиентов (класс 0) и ~20.4% ушедших клиентов (класс 1).\n",
    "- Исследованы модели Logistic Regression и Random Forest.\n",
    "- Лучший результат по метрике F1 и AUC-ROC получен с помощью модели Random Forest.\n",
    "- Применены методы балансировки классов: апсемплинг и даунсемплинг.\n",
    "- Лучший метод борьбы с дисбалансом - апсемплинг.\n",
    "- Применение балансировки классов значительно улучшило AUC-ROC для всех методов.\n",
    "- Лучшая модель - случайный лес с гиперпараметрами n_estimators=100, max_depth=10 и class_weight='balanced'.\n",
    "- Для тестирования модели на тестовой выборке были использованы найденные ранее гиперпараметры.\n",
    "- Полученные результаты: ROC-AUC: 0.8631, F1-мера: 0.6172.\n",
    "\n",
    "**Вывод**\n",
    "\n",
    "В результате выполнения проекта были выполнены следующие этапы: подготовка данных, исследование задачи, борьба с дисбалансом классов и тестирование модели. Применение различных методов балансировки классов позволило улучшить производительность модели и достичь значений метрик, соответствующих поставленным целям. Итоговая модель Random Forest показала хороший результат, предсказывая отток клиентов с F1-мерой 0.6172 и AUC-ROC 0.8631."
   ]
  },
  {
   "cell_type": "code",
   "execution_count": 33,
   "metadata": {},
   "outputs": [
    {
     "name": "stdout",
     "output_type": "stream",
     "text": [
      "F1-мера: 0.3405243942914039\n",
      "Recall: 1.0\n"
     ]
    }
   ],
   "source": [
    "from sklearn.dummy import DummyClassifier\n",
    "from sklearn.metrics import recall_score\n",
    "\n",
    "\n",
    "dummy_model = DummyClassifier(strategy='constant', constant=1)\n",
    "dummy_model.fit(X_train, y_train)\n",
    "f1_dummy = f1_score(y_test, dummy_model.predict(X_test))\n",
    "recall_dummy = recall_score(y_test, dummy_model.predict(X_test))\n",
    "\n",
    "\n",
    "print(\"F1-мера:\", f1_dummy)\n",
    "print(\"Recall:\", recall_dummy)\n"
   ]
  }
 ],
 "metadata": {
  "ExecuteTimeLog": [
   {
    "duration": 1316,
    "start_time": "2023-07-31T09:22:45.421Z"
   },
   {
    "duration": 40,
    "start_time": "2023-07-31T09:23:02.321Z"
   },
   {
    "duration": 3,
    "start_time": "2023-07-31T09:23:14.214Z"
   },
   {
    "duration": 162,
    "start_time": "2023-07-31T09:23:45.791Z"
   },
   {
    "duration": 124,
    "start_time": "2023-07-31T09:24:46.081Z"
   },
   {
    "duration": 28,
    "start_time": "2023-07-31T09:32:19.565Z"
   },
   {
    "duration": 16,
    "start_time": "2023-07-31T09:32:36.207Z"
   },
   {
    "duration": 21,
    "start_time": "2023-07-31T09:32:49.753Z"
   },
   {
    "duration": 13,
    "start_time": "2023-07-31T09:32:54.449Z"
   },
   {
    "duration": 9,
    "start_time": "2023-07-31T09:34:37.710Z"
   },
   {
    "duration": 34,
    "start_time": "2023-07-31T09:34:41.407Z"
   },
   {
    "duration": 40,
    "start_time": "2023-07-31T09:37:18.797Z"
   },
   {
    "duration": 49,
    "start_time": "2023-07-31T09:37:21.089Z"
   },
   {
    "duration": 46,
    "start_time": "2023-07-31T09:37:34.401Z"
   },
   {
    "duration": 48,
    "start_time": "2023-07-31T09:37:39.918Z"
   },
   {
    "duration": 8,
    "start_time": "2023-07-31T09:39:04.616Z"
   },
   {
    "duration": 1832,
    "start_time": "2023-07-31T09:39:07.590Z"
   },
   {
    "duration": 11,
    "start_time": "2023-07-31T09:39:31.968Z"
   },
   {
    "duration": 1216,
    "start_time": "2023-08-01T06:21:30.421Z"
   },
   {
    "duration": 3,
    "start_time": "2023-08-01T06:21:45.599Z"
   },
   {
    "duration": 98,
    "start_time": "2023-08-01T06:21:51.599Z"
   },
   {
    "duration": 12,
    "start_time": "2023-08-01T06:21:54.410Z"
   },
   {
    "duration": 42,
    "start_time": "2023-08-01T06:21:58.680Z"
   },
   {
    "duration": 6,
    "start_time": "2023-08-01T06:22:01.613Z"
   },
   {
    "duration": 4,
    "start_time": "2023-08-01T06:25:24.722Z"
   },
   {
    "duration": 16,
    "start_time": "2023-08-01T06:27:25.790Z"
   },
   {
    "duration": 6,
    "start_time": "2023-08-01T06:27:39.721Z"
   },
   {
    "duration": 5,
    "start_time": "2023-08-01T06:27:47.635Z"
   },
   {
    "duration": 7,
    "start_time": "2023-08-01T06:27:56.326Z"
   },
   {
    "duration": 8,
    "start_time": "2023-08-01T06:27:59.473Z"
   },
   {
    "duration": 4,
    "start_time": "2023-08-01T06:28:13.807Z"
   },
   {
    "duration": 3,
    "start_time": "2023-08-01T06:28:52.311Z"
   },
   {
    "duration": 5,
    "start_time": "2023-08-01T06:30:18.113Z"
   },
   {
    "duration": 8,
    "start_time": "2023-08-01T06:46:05.167Z"
   },
   {
    "duration": 42,
    "start_time": "2023-08-01T06:47:14.239Z"
   },
   {
    "duration": 21,
    "start_time": "2023-08-01T06:49:58.740Z"
   },
   {
    "duration": 28,
    "start_time": "2023-08-01T06:50:38.387Z"
   },
   {
    "duration": 1089,
    "start_time": "2023-08-01T06:50:57.440Z"
   },
   {
    "duration": 129,
    "start_time": "2023-08-01T06:55:09.273Z"
   },
   {
    "duration": 1951,
    "start_time": "2023-08-01T06:55:16.783Z"
   },
   {
    "duration": 8,
    "start_time": "2023-08-01T07:08:57.033Z"
   },
   {
    "duration": 7,
    "start_time": "2023-08-01T07:09:43.352Z"
   },
   {
    "duration": 6312,
    "start_time": "2023-08-01T07:15:06.298Z"
   },
   {
    "duration": 12,
    "start_time": "2023-08-01T07:21:55.712Z"
   },
   {
    "duration": 5,
    "start_time": "2023-08-01T07:22:47.079Z"
   },
   {
    "duration": 18,
    "start_time": "2023-08-01T07:57:04.007Z"
   },
   {
    "duration": 1117,
    "start_time": "2023-08-01T09:36:25.218Z"
   },
   {
    "duration": 362,
    "start_time": "2023-08-01T09:36:28.392Z"
   },
   {
    "duration": 15,
    "start_time": "2023-08-01T09:36:31.391Z"
   },
   {
    "duration": 55,
    "start_time": "2023-08-01T09:36:34.056Z"
   },
   {
    "duration": 8,
    "start_time": "2023-08-01T09:36:37.344Z"
   },
   {
    "duration": 6,
    "start_time": "2023-08-01T09:36:39.983Z"
   },
   {
    "duration": 6,
    "start_time": "2023-08-01T09:36:42.863Z"
   },
   {
    "duration": 6,
    "start_time": "2023-08-01T09:36:58.477Z"
   },
   {
    "duration": 5,
    "start_time": "2023-08-01T09:37:07.704Z"
   },
   {
    "duration": 6,
    "start_time": "2023-08-01T09:37:16.445Z"
   },
   {
    "duration": 8,
    "start_time": "2023-08-01T09:38:20.070Z"
   },
   {
    "duration": 6,
    "start_time": "2023-08-01T09:38:22.289Z"
   },
   {
    "duration": 5,
    "start_time": "2023-08-01T09:38:23.776Z"
   },
   {
    "duration": 8,
    "start_time": "2023-08-01T09:38:26.978Z"
   },
   {
    "duration": 111,
    "start_time": "2023-08-01T09:38:29.135Z"
   },
   {
    "duration": 948,
    "start_time": "2023-08-01T09:38:49.520Z"
   },
   {
    "duration": 1074,
    "start_time": "2023-08-02T04:57:13.708Z"
   },
   {
    "duration": 206,
    "start_time": "2023-08-02T04:57:17.207Z"
   },
   {
    "duration": 15,
    "start_time": "2023-08-02T04:57:19.155Z"
   },
   {
    "duration": 48,
    "start_time": "2023-08-02T04:57:21.697Z"
   },
   {
    "duration": 8,
    "start_time": "2023-08-02T04:57:23.815Z"
   },
   {
    "duration": 7,
    "start_time": "2023-08-02T04:57:27.202Z"
   },
   {
    "duration": 7,
    "start_time": "2023-08-02T04:57:28.711Z"
   },
   {
    "duration": 5,
    "start_time": "2023-08-02T04:57:32.252Z"
   },
   {
    "duration": 4,
    "start_time": "2023-08-02T04:57:34.327Z"
   },
   {
    "duration": 7,
    "start_time": "2023-08-02T04:57:39.605Z"
   },
   {
    "duration": 550,
    "start_time": "2023-08-02T04:58:39.413Z"
   },
   {
    "duration": 693,
    "start_time": "2023-08-02T04:58:42.969Z"
   },
   {
    "duration": 8,
    "start_time": "2023-08-02T04:58:46.129Z"
   },
   {
    "duration": 1678,
    "start_time": "2023-08-02T05:08:23.994Z"
   },
   {
    "duration": 855,
    "start_time": "2023-08-02T05:10:02.215Z"
   },
   {
    "duration": 8549,
    "start_time": "2023-08-02T05:14:43.344Z"
   },
   {
    "duration": 2246,
    "start_time": "2023-08-02T05:15:46.518Z"
   },
   {
    "duration": 1398,
    "start_time": "2023-08-02T05:17:34.665Z"
   },
   {
    "duration": 2038,
    "start_time": "2023-08-02T05:45:04.940Z"
   },
   {
    "duration": 27,
    "start_time": "2023-08-02T05:45:18.830Z"
   },
   {
    "duration": 174,
    "start_time": "2023-08-02T05:47:09.429Z"
   },
   {
    "duration": 7117,
    "start_time": "2023-08-02T05:47:17.963Z"
   },
   {
    "duration": 3039,
    "start_time": "2023-08-02T05:49:29.046Z"
   },
   {
    "duration": 17,
    "start_time": "2023-08-02T05:50:26.212Z"
   },
   {
    "duration": 3456,
    "start_time": "2023-08-02T05:50:52.789Z"
   },
   {
    "duration": 28,
    "start_time": "2023-08-02T05:51:10.002Z"
   },
   {
    "duration": 4905,
    "start_time": "2023-08-02T05:51:45.574Z"
   },
   {
    "duration": 25,
    "start_time": "2023-08-02T05:51:50.483Z"
   },
   {
    "duration": 2982,
    "start_time": "2023-08-02T05:52:27.782Z"
   },
   {
    "duration": 24,
    "start_time": "2023-08-02T05:52:41.549Z"
   },
   {
    "duration": 2186,
    "start_time": "2023-08-02T05:53:51.691Z"
   },
   {
    "duration": 21,
    "start_time": "2023-08-02T05:54:10.100Z"
   },
   {
    "duration": 14,
    "start_time": "2023-08-02T05:56:58.467Z"
   },
   {
    "duration": 6,
    "start_time": "2023-08-02T06:04:00.697Z"
   },
   {
    "duration": 8,
    "start_time": "2023-08-02T06:04:06.158Z"
   },
   {
    "duration": 5,
    "start_time": "2023-08-02T07:58:02.347Z"
   },
   {
    "duration": 6,
    "start_time": "2023-08-02T07:58:24.870Z"
   },
   {
    "duration": 890,
    "start_time": "2023-08-02T07:58:45.479Z"
   },
   {
    "duration": 563,
    "start_time": "2023-08-02T08:00:11.065Z"
   },
   {
    "duration": 14499,
    "start_time": "2023-08-02T08:00:16.072Z"
   },
   {
    "duration": 1114,
    "start_time": "2023-08-02T08:06:12.000Z"
   },
   {
    "duration": 792,
    "start_time": "2023-08-02T08:16:19.483Z"
   },
   {
    "duration": 9613,
    "start_time": "2023-08-02T08:16:23.874Z"
   },
   {
    "duration": 3404,
    "start_time": "2023-08-02T08:16:53.276Z"
   },
   {
    "duration": 5,
    "start_time": "2023-08-02T08:17:27.077Z"
   },
   {
    "duration": 5,
    "start_time": "2023-08-02T08:17:28.589Z"
   },
   {
    "duration": 9784,
    "start_time": "2023-08-02T08:17:30.272Z"
   },
   {
    "duration": 3418,
    "start_time": "2023-08-04T08:57:05.708Z"
   },
   {
    "duration": 4,
    "start_time": "2023-08-04T08:57:19.307Z"
   },
   {
    "duration": 100,
    "start_time": "2023-08-04T08:57:22.097Z"
   },
   {
    "duration": 14,
    "start_time": "2023-08-04T08:57:24.430Z"
   },
   {
    "duration": 43,
    "start_time": "2023-08-04T08:57:26.730Z"
   },
   {
    "duration": 48,
    "start_time": "2023-08-04T08:57:44.723Z"
   },
   {
    "duration": 4,
    "start_time": "2023-08-04T08:58:30.344Z"
   },
   {
    "duration": 54,
    "start_time": "2023-08-04T08:59:07.652Z"
   },
   {
    "duration": 46,
    "start_time": "2023-08-04T08:59:11.163Z"
   },
   {
    "duration": 9,
    "start_time": "2023-08-04T08:59:34.489Z"
   },
   {
    "duration": 6,
    "start_time": "2023-08-04T08:59:37.186Z"
   },
   {
    "duration": 8,
    "start_time": "2023-08-04T08:59:38.686Z"
   },
   {
    "duration": 5,
    "start_time": "2023-08-04T08:59:41.283Z"
   },
   {
    "duration": 5,
    "start_time": "2023-08-04T08:59:48.835Z"
   },
   {
    "duration": 6,
    "start_time": "2023-08-04T09:00:31.851Z"
   },
   {
    "duration": 620,
    "start_time": "2023-08-04T09:00:42.298Z"
   },
   {
    "duration": 126,
    "start_time": "2023-08-04T09:06:54.588Z"
   },
   {
    "duration": 1735,
    "start_time": "2023-08-04T11:08:35.492Z"
   },
   {
    "duration": 98,
    "start_time": "2023-08-04T11:08:40.038Z"
   },
   {
    "duration": 14,
    "start_time": "2023-08-04T11:08:42.089Z"
   },
   {
    "duration": 48,
    "start_time": "2023-08-04T11:08:44.160Z"
   },
   {
    "duration": 8,
    "start_time": "2023-08-04T11:08:47.501Z"
   },
   {
    "duration": 5,
    "start_time": "2023-08-04T11:08:50.162Z"
   },
   {
    "duration": 7,
    "start_time": "2023-08-04T11:08:50.934Z"
   },
   {
    "duration": 6,
    "start_time": "2023-08-04T11:08:52.613Z"
   },
   {
    "duration": 5,
    "start_time": "2023-08-04T11:08:56.108Z"
   },
   {
    "duration": 5,
    "start_time": "2023-08-04T11:08:59.599Z"
   },
   {
    "duration": 56,
    "start_time": "2023-08-04T14:47:57.011Z"
   },
   {
    "duration": 1802,
    "start_time": "2023-08-04T14:48:07.592Z"
   },
   {
    "duration": 176,
    "start_time": "2023-08-04T14:48:11.213Z"
   },
   {
    "duration": 13,
    "start_time": "2023-08-04T14:48:12.632Z"
   },
   {
    "duration": 53,
    "start_time": "2023-08-04T14:48:13.331Z"
   },
   {
    "duration": 9,
    "start_time": "2023-08-04T14:48:16.689Z"
   },
   {
    "duration": 4,
    "start_time": "2023-08-04T14:48:18.548Z"
   },
   {
    "duration": 10,
    "start_time": "2023-08-04T14:48:18.991Z"
   },
   {
    "duration": 6,
    "start_time": "2023-08-04T14:48:20.898Z"
   },
   {
    "duration": 6,
    "start_time": "2023-08-04T14:48:22.471Z"
   },
   {
    "duration": 6,
    "start_time": "2023-08-04T14:48:25.518Z"
   },
   {
    "duration": 95,
    "start_time": "2023-08-04T14:48:27.897Z"
   },
   {
    "duration": 181,
    "start_time": "2023-08-04T14:50:11.040Z"
   },
   {
    "duration": 30,
    "start_time": "2023-08-04T14:53:14.795Z"
   },
   {
    "duration": 19,
    "start_time": "2023-08-04T14:53:20.120Z"
   },
   {
    "duration": 22,
    "start_time": "2023-08-04T14:53:50.561Z"
   },
   {
    "duration": 18,
    "start_time": "2023-08-04T14:53:56.107Z"
   },
   {
    "duration": 27,
    "start_time": "2023-08-04T14:54:06.620Z"
   },
   {
    "duration": 61,
    "start_time": "2023-08-04T14:58:07.033Z"
   },
   {
    "duration": 49,
    "start_time": "2023-08-04T15:03:12.934Z"
   },
   {
    "duration": 47,
    "start_time": "2023-08-07T13:12:14.311Z"
   },
   {
    "duration": 1731,
    "start_time": "2023-08-07T13:12:17.603Z"
   },
   {
    "duration": 99,
    "start_time": "2023-08-07T13:12:20.824Z"
   },
   {
    "duration": 20,
    "start_time": "2023-08-07T13:12:22.596Z"
   },
   {
    "duration": 44,
    "start_time": "2023-08-07T13:12:31.179Z"
   },
   {
    "duration": 17,
    "start_time": "2023-08-07T13:12:34.796Z"
   },
   {
    "duration": 4,
    "start_time": "2023-08-07T13:12:37.264Z"
   },
   {
    "duration": 6,
    "start_time": "2023-08-07T13:12:38.845Z"
   },
   {
    "duration": 4,
    "start_time": "2023-08-07T13:12:40.814Z"
   },
   {
    "duration": 3,
    "start_time": "2023-08-07T13:12:43.478Z"
   },
   {
    "duration": 4,
    "start_time": "2023-08-07T13:12:48.091Z"
   },
   {
    "duration": 16,
    "start_time": "2023-08-07T13:12:50.755Z"
   },
   {
    "duration": 83,
    "start_time": "2023-08-07T13:12:54.511Z"
   },
   {
    "duration": 7,
    "start_time": "2023-08-07T13:13:34.260Z"
   },
   {
    "duration": 24,
    "start_time": "2023-08-07T13:13:45.638Z"
   },
   {
    "duration": 198,
    "start_time": "2023-08-07T13:15:33.464Z"
   },
   {
    "duration": 25,
    "start_time": "2023-08-07T13:15:43.878Z"
   },
   {
    "duration": 27,
    "start_time": "2023-08-07T13:20:10.715Z"
   },
   {
    "duration": 24,
    "start_time": "2023-08-07T13:23:31.912Z"
   },
   {
    "duration": 814,
    "start_time": "2023-08-07T13:28:51.111Z"
   },
   {
    "duration": 826,
    "start_time": "2023-08-07T13:32:36.695Z"
   },
   {
    "duration": 814,
    "start_time": "2023-08-07T13:35:08.660Z"
   },
   {
    "duration": 855,
    "start_time": "2023-08-07T13:35:31.659Z"
   },
   {
    "duration": 847,
    "start_time": "2023-08-07T13:35:43.192Z"
   },
   {
    "duration": 890,
    "start_time": "2023-08-07T13:54:23.454Z"
   },
   {
    "duration": 10,
    "start_time": "2023-08-07T13:56:09.874Z"
   },
   {
    "duration": 47,
    "start_time": "2023-08-07T14:30:49.501Z"
   },
   {
    "duration": 10,
    "start_time": "2023-08-07T14:30:51.689Z"
   },
   {
    "duration": 43,
    "start_time": "2023-08-07T14:30:54.471Z"
   },
   {
    "duration": 7,
    "start_time": "2023-08-07T14:30:57.501Z"
   },
   {
    "duration": 5,
    "start_time": "2023-08-07T14:30:59.580Z"
   },
   {
    "duration": 7,
    "start_time": "2023-08-07T14:31:01.150Z"
   },
   {
    "duration": 4,
    "start_time": "2023-08-07T14:31:03.632Z"
   },
   {
    "duration": 4,
    "start_time": "2023-08-07T14:31:06.593Z"
   },
   {
    "duration": 5,
    "start_time": "2023-08-07T14:31:09.070Z"
   },
   {
    "duration": 17,
    "start_time": "2023-08-07T14:31:11.677Z"
   },
   {
    "duration": 12,
    "start_time": "2023-08-07T14:31:14.050Z"
   },
   {
    "duration": 26,
    "start_time": "2023-08-07T14:31:15.992Z"
   },
   {
    "duration": 52,
    "start_time": "2023-08-07T14:31:19.077Z"
   },
   {
    "duration": 8,
    "start_time": "2023-08-07T14:31:21.357Z"
   },
   {
    "duration": 53,
    "start_time": "2023-08-07T14:32:49.315Z"
   },
   {
    "duration": 26,
    "start_time": "2023-08-07T14:34:42.724Z"
   },
   {
    "duration": 44,
    "start_time": "2023-08-07T14:34:59.863Z"
   },
   {
    "duration": 22,
    "start_time": "2023-08-07T14:35:13.272Z"
   },
   {
    "duration": 96,
    "start_time": "2023-08-07T14:35:26.105Z"
   },
   {
    "duration": 57,
    "start_time": "2023-08-07T14:35:29.436Z"
   },
   {
    "duration": 3,
    "start_time": "2023-08-07T14:35:31.611Z"
   },
   {
    "duration": 379,
    "start_time": "2023-08-07T14:41:21.525Z"
   },
   {
    "duration": 9,
    "start_time": "2023-08-07T14:44:25.698Z"
   },
   {
    "duration": 7455,
    "start_time": "2023-08-07T14:44:45.905Z"
   },
   {
    "duration": 3007,
    "start_time": "2023-08-07T14:48:04.053Z"
   },
   {
    "duration": 1312,
    "start_time": "2023-08-07T14:48:13.226Z"
   },
   {
    "duration": 52,
    "start_time": "2023-08-07T14:48:16.776Z"
   },
   {
    "duration": 11,
    "start_time": "2023-08-07T14:48:20.491Z"
   },
   {
    "duration": 41,
    "start_time": "2023-08-07T14:48:21.234Z"
   },
   {
    "duration": 6,
    "start_time": "2023-08-07T14:48:24.442Z"
   },
   {
    "duration": 5,
    "start_time": "2023-08-07T14:48:28.072Z"
   },
   {
    "duration": 7,
    "start_time": "2023-08-07T14:48:29.660Z"
   },
   {
    "duration": 5,
    "start_time": "2023-08-07T14:48:31.873Z"
   },
   {
    "duration": 4,
    "start_time": "2023-08-07T14:48:34.606Z"
   },
   {
    "duration": 5,
    "start_time": "2023-08-07T14:49:11.878Z"
   },
   {
    "duration": 17,
    "start_time": "2023-08-07T14:49:15.308Z"
   },
   {
    "duration": 8,
    "start_time": "2023-08-07T14:49:17.251Z"
   },
   {
    "duration": 29,
    "start_time": "2023-08-07T14:49:18.875Z"
   },
   {
    "duration": 40,
    "start_time": "2023-08-07T14:49:21.728Z"
   },
   {
    "duration": 27,
    "start_time": "2023-08-07T14:49:29.533Z"
   },
   {
    "duration": 13,
    "start_time": "2023-08-07T14:49:32.322Z"
   },
   {
    "duration": 10,
    "start_time": "2023-08-07T14:49:42.739Z"
   },
   {
    "duration": 10,
    "start_time": "2023-08-07T14:50:09.286Z"
   },
   {
    "duration": 27,
    "start_time": "2023-08-07T14:50:15.180Z"
   },
   {
    "duration": 11,
    "start_time": "2023-08-07T14:50:18.076Z"
   },
   {
    "duration": 14,
    "start_time": "2023-08-07T14:50:35.042Z"
   },
   {
    "duration": 53,
    "start_time": "2023-08-08T08:20:14.758Z"
   },
   {
    "duration": 1664,
    "start_time": "2023-08-08T08:20:20.523Z"
   },
   {
    "duration": 191,
    "start_time": "2023-08-08T08:20:26.530Z"
   },
   {
    "duration": 15,
    "start_time": "2023-08-08T08:20:27.644Z"
   },
   {
    "duration": 65,
    "start_time": "2023-08-08T08:20:28.464Z"
   },
   {
    "duration": 9,
    "start_time": "2023-08-08T08:20:31.511Z"
   },
   {
    "duration": 9,
    "start_time": "2023-08-08T08:20:33.679Z"
   },
   {
    "duration": 6,
    "start_time": "2023-08-08T08:20:36.029Z"
   },
   {
    "duration": 9,
    "start_time": "2023-08-08T08:20:37.855Z"
   },
   {
    "duration": 4,
    "start_time": "2023-08-08T08:20:40.230Z"
   },
   {
    "duration": 7,
    "start_time": "2023-08-08T08:20:43.699Z"
   },
   {
    "duration": 20,
    "start_time": "2023-08-08T08:20:45.999Z"
   },
   {
    "duration": 11,
    "start_time": "2023-08-08T08:20:48.200Z"
   },
   {
    "duration": 46,
    "start_time": "2023-08-08T08:20:50.146Z"
   },
   {
    "duration": 96,
    "start_time": "2023-08-08T08:20:54.795Z"
   },
   {
    "duration": 12,
    "start_time": "2023-08-08T08:22:26.292Z"
   },
   {
    "duration": 19,
    "start_time": "2023-08-08T08:25:03.668Z"
   },
   {
    "duration": 19,
    "start_time": "2023-08-08T08:26:00.276Z"
   },
   {
    "duration": 16,
    "start_time": "2023-08-08T08:27:08.388Z"
   },
   {
    "duration": 11,
    "start_time": "2023-08-08T08:27:50.294Z"
   },
   {
    "duration": 7771,
    "start_time": "2023-08-08T08:28:15.697Z"
   },
   {
    "duration": 17,
    "start_time": "2023-08-08T08:28:31.971Z"
   },
   {
    "duration": 14,
    "start_time": "2023-08-08T08:29:08.125Z"
   },
   {
    "duration": 25,
    "start_time": "2023-08-08T08:29:17.944Z"
   },
   {
    "duration": 13,
    "start_time": "2023-08-08T08:30:53.548Z"
   },
   {
    "duration": 18,
    "start_time": "2023-08-08T08:30:57.306Z"
   },
   {
    "duration": 14,
    "start_time": "2023-08-08T08:31:14.111Z"
   },
   {
    "duration": 12,
    "start_time": "2023-08-08T08:31:25.294Z"
   },
   {
    "duration": 13,
    "start_time": "2023-08-08T08:31:55.728Z"
   },
   {
    "duration": 1434,
    "start_time": "2023-08-08T08:33:21.725Z"
   },
   {
    "duration": 56,
    "start_time": "2023-08-08T08:33:26.085Z"
   },
   {
    "duration": 20,
    "start_time": "2023-08-08T08:33:36.240Z"
   },
   {
    "duration": 52,
    "start_time": "2023-08-08T08:33:38.702Z"
   },
   {
    "duration": 9,
    "start_time": "2023-08-08T08:33:42.160Z"
   },
   {
    "duration": 7,
    "start_time": "2023-08-08T08:33:43.561Z"
   },
   {
    "duration": 10,
    "start_time": "2023-08-08T08:33:44.921Z"
   },
   {
    "duration": 6,
    "start_time": "2023-08-08T08:33:46.396Z"
   },
   {
    "duration": 4,
    "start_time": "2023-08-08T08:33:48.409Z"
   },
   {
    "duration": 6,
    "start_time": "2023-08-08T08:33:51.379Z"
   },
   {
    "duration": 28,
    "start_time": "2023-08-08T08:33:53.700Z"
   },
   {
    "duration": 10,
    "start_time": "2023-08-08T08:33:56.442Z"
   },
   {
    "duration": 56,
    "start_time": "2023-08-08T08:33:58.503Z"
   },
   {
    "duration": 61,
    "start_time": "2023-08-08T08:35:13.401Z"
   },
   {
    "duration": 141,
    "start_time": "2023-08-08T08:35:15.864Z"
   },
   {
    "duration": 1393,
    "start_time": "2023-08-08T08:36:06.421Z"
   },
   {
    "duration": 62,
    "start_time": "2023-08-08T08:36:10.705Z"
   },
   {
    "duration": 15,
    "start_time": "2023-08-08T08:36:11.447Z"
   },
   {
    "duration": 56,
    "start_time": "2023-08-08T08:36:12.203Z"
   },
   {
    "duration": 10,
    "start_time": "2023-08-08T08:36:17.154Z"
   },
   {
    "duration": 7,
    "start_time": "2023-08-08T08:36:18.917Z"
   },
   {
    "duration": 12,
    "start_time": "2023-08-08T08:36:19.412Z"
   },
   {
    "duration": 6,
    "start_time": "2023-08-08T08:36:21.848Z"
   },
   {
    "duration": 4,
    "start_time": "2023-08-08T08:36:23.437Z"
   },
   {
    "duration": 6,
    "start_time": "2023-08-08T08:36:25.864Z"
   },
   {
    "duration": 28,
    "start_time": "2023-08-08T08:36:27.956Z"
   },
   {
    "duration": 9,
    "start_time": "2023-08-08T08:36:30.437Z"
   },
   {
    "duration": 32,
    "start_time": "2023-08-08T08:36:32.093Z"
   },
   {
    "duration": 1378,
    "start_time": "2023-08-08T08:43:21.266Z"
   },
   {
    "duration": 56,
    "start_time": "2023-08-08T08:43:24.675Z"
   },
   {
    "duration": 22,
    "start_time": "2023-08-08T08:43:26.654Z"
   },
   {
    "duration": 50,
    "start_time": "2023-08-08T08:43:29.978Z"
   },
   {
    "duration": 8,
    "start_time": "2023-08-08T08:43:33.382Z"
   },
   {
    "duration": 6,
    "start_time": "2023-08-08T08:43:35.545Z"
   },
   {
    "duration": 8,
    "start_time": "2023-08-08T08:43:36.792Z"
   },
   {
    "duration": 4,
    "start_time": "2023-08-08T08:43:39.878Z"
   },
   {
    "duration": 6,
    "start_time": "2023-08-08T08:43:42.548Z"
   },
   {
    "duration": 19,
    "start_time": "2023-08-08T08:43:44.717Z"
   },
   {
    "duration": 9,
    "start_time": "2023-08-08T08:43:46.995Z"
   },
   {
    "duration": 150,
    "start_time": "2023-08-08T08:43:54.060Z"
   },
   {
    "duration": 31,
    "start_time": "2023-08-08T08:44:29.553Z"
   },
   {
    "duration": 43,
    "start_time": "2023-08-08T08:45:43.260Z"
   },
   {
    "duration": 9,
    "start_time": "2023-08-08T08:46:02.493Z"
   },
   {
    "duration": 43,
    "start_time": "2023-08-08T08:46:05.708Z"
   },
   {
    "duration": 22,
    "start_time": "2023-08-08T09:34:36.709Z"
   },
   {
    "duration": 95,
    "start_time": "2023-08-08T09:34:52.545Z"
   },
   {
    "duration": 67,
    "start_time": "2023-08-08T09:38:28.112Z"
   },
   {
    "duration": 4,
    "start_time": "2023-08-08T09:39:26.498Z"
   },
   {
    "duration": 38,
    "start_time": "2023-08-08T09:39:30.607Z"
   },
   {
    "duration": 70,
    "start_time": "2023-08-08T09:39:38.248Z"
   },
   {
    "duration": 12,
    "start_time": "2023-08-08T09:41:40.124Z"
   },
   {
    "duration": 4,
    "start_time": "2023-08-08T09:41:48.618Z"
   },
   {
    "duration": 42,
    "start_time": "2023-08-08T09:41:50.431Z"
   },
   {
    "duration": 17,
    "start_time": "2023-08-08T09:43:16.725Z"
   },
   {
    "duration": 8,
    "start_time": "2023-08-08T09:43:34.178Z"
   },
   {
    "duration": 35,
    "start_time": "2023-08-08T09:43:40.853Z"
   },
   {
    "duration": 59,
    "start_time": "2023-08-08T09:44:13.531Z"
   },
   {
    "duration": 60,
    "start_time": "2023-08-08T09:44:18.057Z"
   },
   {
    "duration": 38,
    "start_time": "2023-08-08T09:46:50.012Z"
   },
   {
    "duration": 69,
    "start_time": "2023-08-08T09:50:32.554Z"
   },
   {
    "duration": 31,
    "start_time": "2023-08-08T09:50:40.119Z"
   },
   {
    "duration": 37,
    "start_time": "2023-08-08T09:50:45.146Z"
   },
   {
    "duration": 97,
    "start_time": "2023-08-08T09:53:25.266Z"
   },
   {
    "duration": 23,
    "start_time": "2023-08-08T09:57:19.254Z"
   },
   {
    "duration": 25,
    "start_time": "2023-08-08T09:57:32.438Z"
   },
   {
    "duration": 64,
    "start_time": "2023-08-08T09:57:35.504Z"
   },
   {
    "duration": 67,
    "start_time": "2023-08-08T09:57:58.802Z"
   },
   {
    "duration": 56,
    "start_time": "2023-08-08T09:58:51.107Z"
   },
   {
    "duration": 45,
    "start_time": "2023-08-08T10:34:24.260Z"
   },
   {
    "duration": 2389,
    "start_time": "2023-08-08T14:05:38.505Z"
   },
   {
    "duration": 107,
    "start_time": "2023-08-08T14:05:42.687Z"
   },
   {
    "duration": 17,
    "start_time": "2023-08-08T14:05:44.086Z"
   },
   {
    "duration": 67,
    "start_time": "2023-08-08T14:05:44.841Z"
   },
   {
    "duration": 17,
    "start_time": "2023-08-08T14:05:48.443Z"
   },
   {
    "duration": 13,
    "start_time": "2023-08-08T14:05:51.260Z"
   },
   {
    "duration": 8,
    "start_time": "2023-08-08T14:05:52.603Z"
   },
   {
    "duration": 7,
    "start_time": "2023-08-08T14:05:54.823Z"
   },
   {
    "duration": 6,
    "start_time": "2023-08-08T14:05:56.880Z"
   },
   {
    "duration": 7,
    "start_time": "2023-08-08T14:06:04.483Z"
   },
   {
    "duration": 19,
    "start_time": "2023-08-08T14:06:06.699Z"
   },
   {
    "duration": 10,
    "start_time": "2023-08-08T14:06:08.953Z"
   },
   {
    "duration": 72,
    "start_time": "2023-08-08T14:06:12.688Z"
   },
   {
    "duration": 173,
    "start_time": "2023-08-08T14:06:27.337Z"
   },
   {
    "duration": 12,
    "start_time": "2023-08-08T14:06:29.792Z"
   },
   {
    "duration": 124957,
    "start_time": "2023-08-08T14:10:30.587Z"
   },
   {
    "duration": 4,
    "start_time": "2023-08-08T14:12:35.546Z"
   },
   {
    "duration": 126498,
    "start_time": "2023-08-08T14:17:23.491Z"
   },
   {
    "duration": 89,
    "start_time": "2023-08-08T14:19:29.991Z"
   },
   {
    "duration": 9139,
    "start_time": "2023-08-08T14:19:30.165Z"
   },
   {
    "duration": 78,
    "start_time": "2023-08-08T14:19:39.307Z"
   },
   {
    "duration": 0,
    "start_time": "2023-08-08T14:19:39.391Z"
   },
   {
    "duration": 0,
    "start_time": "2023-08-08T14:19:39.394Z"
   },
   {
    "duration": 0,
    "start_time": "2023-08-08T14:19:39.395Z"
   },
   {
    "duration": 46,
    "start_time": "2023-08-08T14:22:33.441Z"
   },
   {
    "duration": 11,
    "start_time": "2023-08-08T14:23:07.465Z"
   },
   {
    "duration": 6,
    "start_time": "2023-08-08T14:23:11.490Z"
   },
   {
    "duration": 12,
    "start_time": "2023-08-08T14:25:18.116Z"
   },
   {
    "duration": 2812,
    "start_time": "2023-08-08T14:25:35.346Z"
   },
   {
    "duration": 20,
    "start_time": "2023-08-08T14:25:48.133Z"
   },
   {
    "duration": 18,
    "start_time": "2023-08-08T14:26:24.974Z"
   },
   {
    "duration": 1512,
    "start_time": "2023-08-08T14:28:19.825Z"
   },
   {
    "duration": 77,
    "start_time": "2023-08-08T14:28:22.357Z"
   },
   {
    "duration": 15,
    "start_time": "2023-08-08T14:28:23.543Z"
   },
   {
    "duration": 64,
    "start_time": "2023-08-08T14:28:24.335Z"
   },
   {
    "duration": 10,
    "start_time": "2023-08-08T14:28:27.539Z"
   },
   {
    "duration": 9,
    "start_time": "2023-08-08T14:30:38.469Z"
   },
   {
    "duration": 10,
    "start_time": "2023-08-08T14:30:39.528Z"
   },
   {
    "duration": 7,
    "start_time": "2023-08-08T14:30:41.840Z"
   },
   {
    "duration": 5,
    "start_time": "2023-08-08T14:30:43.423Z"
   },
   {
    "duration": 22,
    "start_time": "2023-08-08T14:30:46.703Z"
   },
   {
    "duration": 29,
    "start_time": "2023-08-08T14:30:48.787Z"
   },
   {
    "duration": 195,
    "start_time": "2023-08-08T14:31:05.464Z"
   },
   {
    "duration": 145078,
    "start_time": "2023-08-08T14:31:12.246Z"
   },
   {
    "duration": 2718,
    "start_time": "2023-08-08T14:33:37.334Z"
   },
   {
    "duration": 245,
    "start_time": "2023-08-08T14:33:40.056Z"
   },
   {
    "duration": 0,
    "start_time": "2023-08-08T14:33:40.303Z"
   },
   {
    "duration": 150717,
    "start_time": "2023-08-08T14:38:42.848Z"
   },
   {
    "duration": 2709,
    "start_time": "2023-08-08T14:41:13.571Z"
   },
   {
    "duration": 18,
    "start_time": "2023-08-08T14:41:16.289Z"
   },
   {
    "duration": 77,
    "start_time": "2023-08-08T14:42:47.989Z"
   },
   {
    "duration": 4,
    "start_time": "2023-08-08T14:43:44.327Z"
   },
   {
    "duration": 97,
    "start_time": "2023-08-08T14:47:59.129Z"
   },
   {
    "duration": 5,
    "start_time": "2023-08-08T14:48:38.735Z"
   },
   {
    "duration": 53,
    "start_time": "2023-08-08T14:48:40.885Z"
   },
   {
    "duration": 17,
    "start_time": "2023-08-08T14:48:42.773Z"
   },
   {
    "duration": 158,
    "start_time": "2023-08-08T15:01:12.109Z"
   },
   {
    "duration": 18232,
    "start_time": "2023-08-08T15:05:54.643Z"
   },
   {
    "duration": 16852,
    "start_time": "2023-08-08T15:11:32.736Z"
   },
   {
    "duration": 7,
    "start_time": "2023-08-08T15:12:23.219Z"
   },
   {
    "duration": 1246,
    "start_time": "2023-08-08T15:12:30.628Z"
   },
   {
    "duration": 14,
    "start_time": "2023-08-08T15:12:34.897Z"
   },
   {
    "duration": 12,
    "start_time": "2023-08-08T15:12:37.845Z"
   },
   {
    "duration": 15541,
    "start_time": "2023-08-08T15:15:07.645Z"
   },
   {
    "duration": 51,
    "start_time": "2023-08-08T15:26:35.993Z"
   },
   {
    "duration": 15820,
    "start_time": "2023-08-08T15:26:39.182Z"
   },
   {
    "duration": 84,
    "start_time": "2023-08-08T15:27:16.419Z"
   },
   {
    "duration": 58,
    "start_time": "2023-08-08T15:27:32.546Z"
   },
   {
    "duration": 7,
    "start_time": "2023-08-08T15:27:36.579Z"
   },
   {
    "duration": 15885,
    "start_time": "2023-08-08T15:28:55.595Z"
   },
   {
    "duration": 2109,
    "start_time": "2023-08-08T15:30:43.338Z"
   },
   {
    "duration": 24,
    "start_time": "2023-08-08T15:32:03.854Z"
   },
   {
    "duration": 221,
    "start_time": "2023-08-08T15:32:41.836Z"
   },
   {
    "duration": 16,
    "start_time": "2023-08-08T15:37:59.602Z"
   },
   {
    "duration": 1231,
    "start_time": "2023-08-08T15:40:09.706Z"
   },
   {
    "duration": 18,
    "start_time": "2023-08-08T15:42:55.504Z"
   },
   {
    "duration": 1009,
    "start_time": "2023-08-08T15:43:35.803Z"
   },
   {
    "duration": 59,
    "start_time": "2023-08-08T15:49:47.896Z"
   },
   {
    "duration": 4,
    "start_time": "2023-08-08T15:57:30.239Z"
   },
   {
    "duration": 237,
    "start_time": "2023-08-08T16:05:44.461Z"
   },
   {
    "duration": 57,
    "start_time": "2023-08-09T08:22:48.659Z"
   },
   {
    "duration": 1816,
    "start_time": "2023-08-09T08:22:57.617Z"
   },
   {
    "duration": 184,
    "start_time": "2023-08-09T08:23:02.897Z"
   },
   {
    "duration": 15,
    "start_time": "2023-08-09T08:23:05.377Z"
   },
   {
    "duration": 50,
    "start_time": "2023-08-09T08:23:07.593Z"
   },
   {
    "duration": 8,
    "start_time": "2023-08-09T08:23:11.115Z"
   },
   {
    "duration": 8,
    "start_time": "2023-08-09T08:23:13.454Z"
   },
   {
    "duration": 8,
    "start_time": "2023-08-09T08:23:15.113Z"
   },
   {
    "duration": 5,
    "start_time": "2023-08-09T08:23:17.531Z"
   },
   {
    "duration": 5,
    "start_time": "2023-08-09T08:23:19.149Z"
   },
   {
    "duration": 6,
    "start_time": "2023-08-09T08:23:22.772Z"
   },
   {
    "duration": 27,
    "start_time": "2023-08-09T08:23:25.041Z"
   },
   {
    "duration": 10,
    "start_time": "2023-08-09T08:23:27.990Z"
   },
   {
    "duration": 191,
    "start_time": "2023-08-09T08:23:30.473Z"
   },
   {
    "duration": 83,
    "start_time": "2023-08-09T08:32:37.091Z"
   },
   {
    "duration": 79,
    "start_time": "2023-08-09T08:34:14.599Z"
   },
   {
    "duration": 191,
    "start_time": "2023-08-09T08:52:05.189Z"
   },
   {
    "duration": 96,
    "start_time": "2023-08-09T09:13:38.429Z"
   },
   {
    "duration": 8688,
    "start_time": "2023-08-09T09:13:43.945Z"
   },
   {
    "duration": 45,
    "start_time": "2023-08-09T09:13:52.635Z"
   },
   {
    "duration": 22,
    "start_time": "2023-08-09T09:13:55.753Z"
   },
   {
    "duration": 1454,
    "start_time": "2023-08-09T09:26:11.281Z"
   },
   {
    "duration": 60,
    "start_time": "2023-08-09T09:26:16.971Z"
   },
   {
    "duration": 19,
    "start_time": "2023-08-09T09:26:19.434Z"
   },
   {
    "duration": 61,
    "start_time": "2023-08-09T09:26:22.126Z"
   },
   {
    "duration": 9,
    "start_time": "2023-08-09T09:26:25.123Z"
   },
   {
    "duration": 7,
    "start_time": "2023-08-09T09:26:27.683Z"
   },
   {
    "duration": 9,
    "start_time": "2023-08-09T09:26:29.518Z"
   },
   {
    "duration": 6,
    "start_time": "2023-08-09T09:26:32.060Z"
   },
   {
    "duration": 6,
    "start_time": "2023-08-09T09:26:34.498Z"
   },
   {
    "duration": 7,
    "start_time": "2023-08-09T09:26:37.605Z"
   },
   {
    "duration": 30,
    "start_time": "2023-08-09T09:26:39.951Z"
   },
   {
    "duration": 12,
    "start_time": "2023-08-09T09:26:41.684Z"
   },
   {
    "duration": 109,
    "start_time": "2023-08-09T09:26:42.456Z"
   },
   {
    "duration": 97506,
    "start_time": "2023-08-09T09:26:48.174Z"
   },
   {
    "duration": 4,
    "start_time": "2023-08-09T09:28:25.682Z"
   },
   {
    "duration": 2319,
    "start_time": "2023-08-09T09:28:25.688Z"
   },
   {
    "duration": 182,
    "start_time": "2023-08-09T09:28:28.010Z"
   },
   {
    "duration": 12,
    "start_time": "2023-08-09T09:28:42.498Z"
   },
   {
    "duration": 63,
    "start_time": "2023-08-09T09:31:31.797Z"
   },
   {
    "duration": 772,
    "start_time": "2023-08-09T09:35:57.547Z"
   },
   {
    "duration": 768,
    "start_time": "2023-08-09T09:37:47.614Z"
   },
   {
    "duration": 822,
    "start_time": "2023-08-09T09:38:31.832Z"
   },
   {
    "duration": 721,
    "start_time": "2023-08-09T09:53:03.680Z"
   },
   {
    "duration": 745,
    "start_time": "2023-08-09T09:54:12.616Z"
   },
   {
    "duration": 15,
    "start_time": "2023-08-09T10:12:42.581Z"
   },
   {
    "duration": 13,
    "start_time": "2023-08-09T10:13:10.105Z"
   },
   {
    "duration": 12,
    "start_time": "2023-08-09T10:13:49.543Z"
   },
   {
    "duration": 116,
    "start_time": "2023-08-09T10:18:02.461Z"
   },
   {
    "duration": 15,
    "start_time": "2023-08-09T10:29:55.186Z"
   },
   {
    "duration": 8,
    "start_time": "2023-08-09T10:30:31.667Z"
   },
   {
    "duration": 11,
    "start_time": "2023-08-09T10:31:10.911Z"
   },
   {
    "duration": 11,
    "start_time": "2023-08-09T10:31:24.460Z"
   },
   {
    "duration": 12,
    "start_time": "2023-08-09T10:31:37.721Z"
   },
   {
    "duration": 8954,
    "start_time": "2023-08-09T10:31:48.315Z"
   }
  ],
  "kernelspec": {
   "display_name": "Python 3 (ipykernel)",
   "language": "python",
   "name": "python3"
  },
  "language_info": {
   "codemirror_mode": {
    "name": "ipython",
    "version": 3
   },
   "file_extension": ".py",
   "mimetype": "text/x-python",
   "name": "python",
   "nbconvert_exporter": "python",
   "pygments_lexer": "ipython3",
   "version": "3.9.13"
  },
  "toc": {
   "base_numbering": 1,
   "nav_menu": {},
   "number_sections": true,
   "sideBar": true,
   "skip_h1_title": true,
   "title_cell": "Содержание",
   "title_sidebar": "Contents",
   "toc_cell": true,
   "toc_position": {},
   "toc_section_display": true,
   "toc_window_display": false
  }
 },
 "nbformat": 4,
 "nbformat_minor": 2
}
