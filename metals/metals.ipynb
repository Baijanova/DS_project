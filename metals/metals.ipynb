{
 "cells": [
  {
   "cell_type": "markdown",
   "metadata": {
    "toc": true
   },
   "source": [
    "<h1>Содержание<span class=\"tocSkip\"></span></h1>\n",
    "<div class=\"toc\"><ul class=\"toc-item\"><li><span><a href=\"#Подготовка-данных\" data-toc-modified-id=\"Подготовка-данных-1\"><span class=\"toc-item-num\">1&nbsp;&nbsp;</span>Подготовка данных</a></span><ul class=\"toc-item\"><li><span><a href=\"#Изучение-данных\" data-toc-modified-id=\"Изучение-данных-1.1\"><span class=\"toc-item-num\">1.1&nbsp;&nbsp;</span>Изучение данных</a></span></li><li><span><a href=\"#Эффективность-обогащения-рассчитана-правильно.-Вычислите-её-на-обучающей-выборке-для-признака-rougher.output.recovery.-Найдите-MAE-между-вашими-расчётами-и-значением-признака.-Опишите-выводы.\" data-toc-modified-id=\"Эффективность-обогащения-рассчитана-правильно.-Вычислите-её-на-обучающей-выборке-для-признака-rougher.output.recovery.-Найдите-MAE-между-вашими-расчётами-и-значением-признака.-Опишите-выводы.-1.2\"><span class=\"toc-item-num\">1.2&nbsp;&nbsp;</span>Эффективность обогащения рассчитана правильно. Вычислите её на обучающей выборке для признака rougher.output.recovery. Найдите MAE между вашими расчётами и значением признака. Опишите выводы.</a></span></li><li><span><a href=\"#Признаки-не-доступные-в-тестовой-выборке\" data-toc-modified-id=\"Признаки-не-доступные-в-тестовой-выборке-1.3\"><span class=\"toc-item-num\">1.3&nbsp;&nbsp;</span>Признаки не доступные в тестовой выборке</a></span></li><li><span><a href=\"#Проведите-предобработку-данных\" data-toc-modified-id=\"Проведите-предобработку-данных-1.4\"><span class=\"toc-item-num\">1.4&nbsp;&nbsp;</span>Проведите предобработку данных</a></span></li></ul></li><li><span><a href=\"#Анализ-данных\" data-toc-modified-id=\"Анализ-данных-2\"><span class=\"toc-item-num\">2&nbsp;&nbsp;</span>Анализ данных</a></span><ul class=\"toc-item\"><li><span><a href=\"#Посмотрите,-как-меняется-концентрация-металлов-(Au,-Ag,-Pb)-на-различных-этапах:-в-сырье,-в-черновом-концентрате,-в-концентрате-после-первой-очистки-и-в-финальном-концентрате.-Какие-особенности-имеют-распределения?-Опишите-выводы.\" data-toc-modified-id=\"Посмотрите,-как-меняется-концентрация-металлов-(Au,-Ag,-Pb)-на-различных-этапах:-в-сырье,-в-черновом-концентрате,-в-концентрате-после-первой-очистки-и-в-финальном-концентрате.-Какие-особенности-имеют-распределения?-Опишите-выводы.-2.1\"><span class=\"toc-item-num\">2.1&nbsp;&nbsp;</span>Посмотрите, как меняется концентрация металлов (Au, Ag, Pb) на различных этапах: в сырье, в черновом концентрате, в концентрате после первой очистки и в финальном концентрате. Какие особенности имеют распределения? Опишите выводы.</a></span></li><li><span><a href=\"#Сравните-распределения-размеров-гранул-исходного-сырья-на-обучающей-и-тестовой-выборках.-Если-распределения-сильно-отличаются-друг-от-друга,-оценка-модели-будет-неправильной.\" data-toc-modified-id=\"Сравните-распределения-размеров-гранул-исходного-сырья-на-обучающей-и-тестовой-выборках.-Если-распределения-сильно-отличаются-друг-от-друга,-оценка-модели-будет-неправильной.-2.2\"><span class=\"toc-item-num\">2.2&nbsp;&nbsp;</span>Сравните распределения размеров гранул исходного сырья на обучающей и тестовой выборках. Если распределения сильно отличаются друг от друга, оценка модели будет неправильной.</a></span></li><li><span><a href=\"#Исследуйте-суммарную-концентрацию-металлов-на-разных-стадиях:-в-сырье,-в-черновом-концентрате,-в-концентрате-после-первой-очистки-и-в-финальном-концентрате.\" data-toc-modified-id=\"Исследуйте-суммарную-концентрацию-металлов-на-разных-стадиях:-в-сырье,-в-черновом-концентрате,-в-концентрате-после-первой-очистки-и-в-финальном-концентрате.-2.3\"><span class=\"toc-item-num\">2.3&nbsp;&nbsp;</span>Исследуйте суммарную концентрацию металлов на разных стадиях: в сырье, в черновом концентрате, в концентрате после первой очистки и в финальном концентрате.</a></span></li></ul></li><li><span><a href=\"#Модель\" data-toc-modified-id=\"Модель-3\"><span class=\"toc-item-num\">3&nbsp;&nbsp;</span>Модель</a></span><ul class=\"toc-item\"><li><span><a href=\"#Напишите-функцию-для-вычисления-итоговой-sMAPE.\" data-toc-modified-id=\"Напишите-функцию-для-вычисления-итоговой-sMAPE.-3.1\"><span class=\"toc-item-num\">3.1&nbsp;&nbsp;</span>Напишите функцию для вычисления итоговой sMAPE.</a></span></li><li><span><a href=\"#Обучите-разные-модели-и-оцените-их-качество-кросс-валидацией.-Выберите-лучшую-модель-и-проверьте-её-на-тестовой-выборке.-Опишите-выводы.\" data-toc-modified-id=\"Обучите-разные-модели-и-оцените-их-качество-кросс-валидацией.-Выберите-лучшую-модель-и-проверьте-её-на-тестовой-выборке.-Опишите-выводы.-3.2\"><span class=\"toc-item-num\">3.2&nbsp;&nbsp;</span>Обучите разные модели и оцените их качество кросс-валидацией. Выберите лучшую модель и проверьте её на тестовой выборке. Опишите выводы.</a></span></li></ul></li><li><span><a href=\"#Чек-лист-готовности-проекта\" data-toc-modified-id=\"Чек-лист-готовности-проекта-4\"><span class=\"toc-item-num\">4&nbsp;&nbsp;</span>Чек-лист готовности проекта</a></span></li></ul></div>"
   ]
  },
  {
   "cell_type": "markdown",
   "metadata": {},
   "source": [
    "# Восстановление золота из руды"
   ]
  },
  {
   "cell_type": "markdown",
   "metadata": {},
   "source": [
    "Подготовьте прототип модели машинного обучения для «Цифры». Компания разрабатывает решения для эффективной работы промышленных предприятий.\n",
    "\n",
    "Модель должна предсказать коэффициент восстановления золота из золотосодержащей руды. Используйте данные с параметрами добычи и очистки. \n",
    "\n",
    "Модель поможет оптимизировать производство, чтобы не запускать предприятие с убыточными характеристиками.\n",
    "\n",
    "Вам нужно:\n",
    "\n",
    "1. Подготовить данные;\n",
    "2. Провести исследовательский анализ данных;\n",
    "3. Построить и обучить модель.\n",
    "\n",
    "Чтобы выполнить проект, обращайтесь к библиотекам *pandas*, *matplotlib* и *sklearn.* Вам поможет их документация."
   ]
  },
  {
   "cell_type": "markdown",
   "metadata": {},
   "source": [
    "## Подготовка данных"
   ]
  },
  {
   "cell_type": "markdown",
   "metadata": {},
   "source": [
    "Загрузка и подключение библиотеки"
   ]
  },
  {
   "cell_type": "code",
   "execution_count": 1,
   "metadata": {},
   "outputs": [],
   "source": [
    "import pandas as pd \n",
    "import numpy as np\n",
    "import seaborn as sns\n",
    "import matplotlib.pyplot as plt\n",
    "from sklearn.linear_model import LinearRegression\n",
    "from sklearn.tree import DecisionTreeRegressor\n",
    "from sklearn.ensemble import RandomForestRegressor\n",
    "from sklearn.model_selection import cross_val_score, GridSearchCV\n",
    "from sklearn.metrics import mean_absolute_error, make_scorer\n",
    "from sklearn.preprocessing import StandardScaler\n",
    "from sklearn.model_selection import cross_val_predict\n",
    "from sklearn.dummy import DummyRegressor"
   ]
  },
  {
   "cell_type": "markdown",
   "metadata": {},
   "source": [
    "### Изучение данных "
   ]
  },
  {
   "cell_type": "code",
   "execution_count": 2,
   "metadata": {
    "scrolled": true
   },
   "outputs": [
    {
     "data": {
      "text/html": [
       "<div>\n",
       "<style scoped>\n",
       "    .dataframe tbody tr th:only-of-type {\n",
       "        vertical-align: middle;\n",
       "    }\n",
       "\n",
       "    .dataframe tbody tr th {\n",
       "        vertical-align: top;\n",
       "    }\n",
       "\n",
       "    .dataframe thead th {\n",
       "        text-align: right;\n",
       "    }\n",
       "</style>\n",
       "<table border=\"1\" class=\"dataframe\">\n",
       "  <thead>\n",
       "    <tr style=\"text-align: right;\">\n",
       "      <th></th>\n",
       "      <th>date</th>\n",
       "      <th>rougher.input.feed_au</th>\n",
       "      <th>rougher.input.feed_ag</th>\n",
       "      <th>rougher.input.feed_pb</th>\n",
       "      <th>rougher.input.feed_sol</th>\n",
       "      <th>rougher.input.feed_rate</th>\n",
       "      <th>rougher.input.feed_size</th>\n",
       "      <th>rougher.input.floatbank10_sulfate</th>\n",
       "      <th>rougher.input.floatbank10_xanthate</th>\n",
       "      <th>rougher.state.floatbank10_a_air</th>\n",
       "      <th>...</th>\n",
       "      <th>secondary_cleaner.output.tail_sol</th>\n",
       "      <th>final.output.concentrate_au</th>\n",
       "      <th>final.output.concentrate_ag</th>\n",
       "      <th>final.output.concentrate_pb</th>\n",
       "      <th>final.output.concentrate_sol</th>\n",
       "      <th>final.output.recovery</th>\n",
       "      <th>final.output.tail_au</th>\n",
       "      <th>final.output.tail_ag</th>\n",
       "      <th>final.output.tail_pb</th>\n",
       "      <th>final.output.tail_sol</th>\n",
       "    </tr>\n",
       "  </thead>\n",
       "  <tbody>\n",
       "    <tr>\n",
       "      <th>0</th>\n",
       "      <td>2016-01-15 00:00:00</td>\n",
       "      <td>6.486150</td>\n",
       "      <td>6.100378</td>\n",
       "      <td>2.284912</td>\n",
       "      <td>36.808594</td>\n",
       "      <td>523.546326</td>\n",
       "      <td>55.486599</td>\n",
       "      <td>11.986616</td>\n",
       "      <td>6.007990</td>\n",
       "      <td>999.706909</td>\n",
       "      <td>...</td>\n",
       "      <td>8.764648</td>\n",
       "      <td>42.192020</td>\n",
       "      <td>6.055403</td>\n",
       "      <td>9.889648</td>\n",
       "      <td>5.507324</td>\n",
       "      <td>70.541216</td>\n",
       "      <td>2.143149</td>\n",
       "      <td>10.411962</td>\n",
       "      <td>0.895447</td>\n",
       "      <td>16.904297</td>\n",
       "    </tr>\n",
       "    <tr>\n",
       "      <th>1</th>\n",
       "      <td>2016-01-15 01:00:00</td>\n",
       "      <td>6.478583</td>\n",
       "      <td>6.161113</td>\n",
       "      <td>2.266033</td>\n",
       "      <td>35.753385</td>\n",
       "      <td>525.290581</td>\n",
       "      <td>57.278666</td>\n",
       "      <td>11.971193</td>\n",
       "      <td>6.005766</td>\n",
       "      <td>1000.286398</td>\n",
       "      <td>...</td>\n",
       "      <td>9.001494</td>\n",
       "      <td>42.701629</td>\n",
       "      <td>6.029369</td>\n",
       "      <td>9.968944</td>\n",
       "      <td>5.257781</td>\n",
       "      <td>69.266198</td>\n",
       "      <td>2.224930</td>\n",
       "      <td>10.462676</td>\n",
       "      <td>0.927452</td>\n",
       "      <td>16.634514</td>\n",
       "    </tr>\n",
       "    <tr>\n",
       "      <th>2</th>\n",
       "      <td>2016-01-15 02:00:00</td>\n",
       "      <td>6.362222</td>\n",
       "      <td>6.116455</td>\n",
       "      <td>2.159622</td>\n",
       "      <td>35.971630</td>\n",
       "      <td>530.026610</td>\n",
       "      <td>57.510649</td>\n",
       "      <td>11.920603</td>\n",
       "      <td>6.197377</td>\n",
       "      <td>999.719565</td>\n",
       "      <td>...</td>\n",
       "      <td>8.842896</td>\n",
       "      <td>42.657501</td>\n",
       "      <td>6.055926</td>\n",
       "      <td>10.213995</td>\n",
       "      <td>5.383759</td>\n",
       "      <td>68.116445</td>\n",
       "      <td>2.257889</td>\n",
       "      <td>10.507046</td>\n",
       "      <td>0.953716</td>\n",
       "      <td>16.208849</td>\n",
       "    </tr>\n",
       "    <tr>\n",
       "      <th>3</th>\n",
       "      <td>2016-01-15 03:00:00</td>\n",
       "      <td>6.118189</td>\n",
       "      <td>6.043309</td>\n",
       "      <td>2.037807</td>\n",
       "      <td>36.862241</td>\n",
       "      <td>542.590390</td>\n",
       "      <td>57.792734</td>\n",
       "      <td>11.630094</td>\n",
       "      <td>6.203177</td>\n",
       "      <td>999.814770</td>\n",
       "      <td>...</td>\n",
       "      <td>9.122857</td>\n",
       "      <td>42.689819</td>\n",
       "      <td>6.047977</td>\n",
       "      <td>9.977019</td>\n",
       "      <td>4.858634</td>\n",
       "      <td>68.347543</td>\n",
       "      <td>2.146849</td>\n",
       "      <td>10.422762</td>\n",
       "      <td>0.883763</td>\n",
       "      <td>16.532835</td>\n",
       "    </tr>\n",
       "    <tr>\n",
       "      <th>4</th>\n",
       "      <td>2016-01-15 04:00:00</td>\n",
       "      <td>5.663707</td>\n",
       "      <td>6.060915</td>\n",
       "      <td>1.786875</td>\n",
       "      <td>34.347666</td>\n",
       "      <td>540.531893</td>\n",
       "      <td>56.047189</td>\n",
       "      <td>10.957755</td>\n",
       "      <td>6.198826</td>\n",
       "      <td>999.678690</td>\n",
       "      <td>...</td>\n",
       "      <td>8.871028</td>\n",
       "      <td>42.774141</td>\n",
       "      <td>6.148599</td>\n",
       "      <td>10.142511</td>\n",
       "      <td>4.939416</td>\n",
       "      <td>66.927016</td>\n",
       "      <td>2.055292</td>\n",
       "      <td>10.360302</td>\n",
       "      <td>0.792826</td>\n",
       "      <td>16.525686</td>\n",
       "    </tr>\n",
       "  </tbody>\n",
       "</table>\n",
       "<p>5 rows × 87 columns</p>\n",
       "</div>"
      ],
      "text/plain": [
       "                  date  rougher.input.feed_au  rougher.input.feed_ag  \\\n",
       "0  2016-01-15 00:00:00               6.486150               6.100378   \n",
       "1  2016-01-15 01:00:00               6.478583               6.161113   \n",
       "2  2016-01-15 02:00:00               6.362222               6.116455   \n",
       "3  2016-01-15 03:00:00               6.118189               6.043309   \n",
       "4  2016-01-15 04:00:00               5.663707               6.060915   \n",
       "\n",
       "   rougher.input.feed_pb  rougher.input.feed_sol  rougher.input.feed_rate  \\\n",
       "0               2.284912               36.808594               523.546326   \n",
       "1               2.266033               35.753385               525.290581   \n",
       "2               2.159622               35.971630               530.026610   \n",
       "3               2.037807               36.862241               542.590390   \n",
       "4               1.786875               34.347666               540.531893   \n",
       "\n",
       "   rougher.input.feed_size  rougher.input.floatbank10_sulfate  \\\n",
       "0                55.486599                          11.986616   \n",
       "1                57.278666                          11.971193   \n",
       "2                57.510649                          11.920603   \n",
       "3                57.792734                          11.630094   \n",
       "4                56.047189                          10.957755   \n",
       "\n",
       "   rougher.input.floatbank10_xanthate  rougher.state.floatbank10_a_air  ...  \\\n",
       "0                            6.007990                       999.706909  ...   \n",
       "1                            6.005766                      1000.286398  ...   \n",
       "2                            6.197377                       999.719565  ...   \n",
       "3                            6.203177                       999.814770  ...   \n",
       "4                            6.198826                       999.678690  ...   \n",
       "\n",
       "   secondary_cleaner.output.tail_sol  final.output.concentrate_au  \\\n",
       "0                           8.764648                    42.192020   \n",
       "1                           9.001494                    42.701629   \n",
       "2                           8.842896                    42.657501   \n",
       "3                           9.122857                    42.689819   \n",
       "4                           8.871028                    42.774141   \n",
       "\n",
       "   final.output.concentrate_ag  final.output.concentrate_pb  \\\n",
       "0                     6.055403                     9.889648   \n",
       "1                     6.029369                     9.968944   \n",
       "2                     6.055926                    10.213995   \n",
       "3                     6.047977                     9.977019   \n",
       "4                     6.148599                    10.142511   \n",
       "\n",
       "   final.output.concentrate_sol  final.output.recovery  final.output.tail_au  \\\n",
       "0                      5.507324              70.541216              2.143149   \n",
       "1                      5.257781              69.266198              2.224930   \n",
       "2                      5.383759              68.116445              2.257889   \n",
       "3                      4.858634              68.347543              2.146849   \n",
       "4                      4.939416              66.927016              2.055292   \n",
       "\n",
       "   final.output.tail_ag  final.output.tail_pb  final.output.tail_sol  \n",
       "0             10.411962              0.895447              16.904297  \n",
       "1             10.462676              0.927452              16.634514  \n",
       "2             10.507046              0.953716              16.208849  \n",
       "3             10.422762              0.883763              16.532835  \n",
       "4             10.360302              0.792826              16.525686  \n",
       "\n",
       "[5 rows x 87 columns]"
      ]
     },
     "metadata": {},
     "output_type": "display_data"
    },
    {
     "data": {
      "text/html": [
       "<div>\n",
       "<style scoped>\n",
       "    .dataframe tbody tr th:only-of-type {\n",
       "        vertical-align: middle;\n",
       "    }\n",
       "\n",
       "    .dataframe tbody tr th {\n",
       "        vertical-align: top;\n",
       "    }\n",
       "\n",
       "    .dataframe thead th {\n",
       "        text-align: right;\n",
       "    }\n",
       "</style>\n",
       "<table border=\"1\" class=\"dataframe\">\n",
       "  <thead>\n",
       "    <tr style=\"text-align: right;\">\n",
       "      <th></th>\n",
       "      <th>date</th>\n",
       "      <th>rougher.input.feed_au</th>\n",
       "      <th>rougher.input.feed_ag</th>\n",
       "      <th>rougher.input.feed_pb</th>\n",
       "      <th>rougher.input.feed_sol</th>\n",
       "      <th>rougher.input.feed_rate</th>\n",
       "      <th>rougher.input.feed_size</th>\n",
       "      <th>rougher.input.floatbank10_sulfate</th>\n",
       "      <th>rougher.input.floatbank10_xanthate</th>\n",
       "      <th>rougher.state.floatbank10_a_air</th>\n",
       "      <th>...</th>\n",
       "      <th>secondary_cleaner.state.floatbank4_a_air</th>\n",
       "      <th>secondary_cleaner.state.floatbank4_a_level</th>\n",
       "      <th>secondary_cleaner.state.floatbank4_b_air</th>\n",
       "      <th>secondary_cleaner.state.floatbank4_b_level</th>\n",
       "      <th>secondary_cleaner.state.floatbank5_a_air</th>\n",
       "      <th>secondary_cleaner.state.floatbank5_a_level</th>\n",
       "      <th>secondary_cleaner.state.floatbank5_b_air</th>\n",
       "      <th>secondary_cleaner.state.floatbank5_b_level</th>\n",
       "      <th>secondary_cleaner.state.floatbank6_a_air</th>\n",
       "      <th>secondary_cleaner.state.floatbank6_a_level</th>\n",
       "    </tr>\n",
       "  </thead>\n",
       "  <tbody>\n",
       "    <tr>\n",
       "      <th>0</th>\n",
       "      <td>2017-12-09 14:59:59</td>\n",
       "      <td>4.365491</td>\n",
       "      <td>6.158718</td>\n",
       "      <td>3.875727</td>\n",
       "      <td>39.135119</td>\n",
       "      <td>555.820208</td>\n",
       "      <td>94.544358</td>\n",
       "      <td>6.146982</td>\n",
       "      <td>9.308612</td>\n",
       "      <td>1196.238112</td>\n",
       "      <td>...</td>\n",
       "      <td>23.018622</td>\n",
       "      <td>-500.492702</td>\n",
       "      <td>20.020205</td>\n",
       "      <td>-500.220296</td>\n",
       "      <td>17.963512</td>\n",
       "      <td>-499.939490</td>\n",
       "      <td>12.990306</td>\n",
       "      <td>-500.080993</td>\n",
       "      <td>19.990336</td>\n",
       "      <td>-499.191575</td>\n",
       "    </tr>\n",
       "    <tr>\n",
       "      <th>1</th>\n",
       "      <td>2017-12-09 15:59:59</td>\n",
       "      <td>4.362781</td>\n",
       "      <td>6.048130</td>\n",
       "      <td>3.902537</td>\n",
       "      <td>39.713906</td>\n",
       "      <td>544.731687</td>\n",
       "      <td>123.742430</td>\n",
       "      <td>6.210119</td>\n",
       "      <td>9.297709</td>\n",
       "      <td>1201.904177</td>\n",
       "      <td>...</td>\n",
       "      <td>23.024963</td>\n",
       "      <td>-501.153409</td>\n",
       "      <td>20.054122</td>\n",
       "      <td>-500.314711</td>\n",
       "      <td>17.979515</td>\n",
       "      <td>-499.272871</td>\n",
       "      <td>12.992404</td>\n",
       "      <td>-499.976268</td>\n",
       "      <td>20.013986</td>\n",
       "      <td>-500.625471</td>\n",
       "    </tr>\n",
       "    <tr>\n",
       "      <th>2</th>\n",
       "      <td>2017-12-09 16:59:59</td>\n",
       "      <td>5.081681</td>\n",
       "      <td>6.082745</td>\n",
       "      <td>4.564078</td>\n",
       "      <td>37.208683</td>\n",
       "      <td>558.155110</td>\n",
       "      <td>82.610855</td>\n",
       "      <td>7.363824</td>\n",
       "      <td>9.003562</td>\n",
       "      <td>1200.826926</td>\n",
       "      <td>...</td>\n",
       "      <td>22.993827</td>\n",
       "      <td>-501.559663</td>\n",
       "      <td>20.029144</td>\n",
       "      <td>-500.000662</td>\n",
       "      <td>18.012723</td>\n",
       "      <td>-500.024764</td>\n",
       "      <td>13.016445</td>\n",
       "      <td>-500.058432</td>\n",
       "      <td>19.973767</td>\n",
       "      <td>-501.394155</td>\n",
       "    </tr>\n",
       "    <tr>\n",
       "      <th>3</th>\n",
       "      <td>2017-12-09 17:59:59</td>\n",
       "      <td>5.145949</td>\n",
       "      <td>6.084374</td>\n",
       "      <td>4.768124</td>\n",
       "      <td>36.808874</td>\n",
       "      <td>539.713765</td>\n",
       "      <td>77.984784</td>\n",
       "      <td>6.927072</td>\n",
       "      <td>8.955597</td>\n",
       "      <td>1199.292489</td>\n",
       "      <td>...</td>\n",
       "      <td>23.032807</td>\n",
       "      <td>-501.287889</td>\n",
       "      <td>19.977466</td>\n",
       "      <td>-500.159903</td>\n",
       "      <td>17.980463</td>\n",
       "      <td>-500.504602</td>\n",
       "      <td>12.949071</td>\n",
       "      <td>-500.009937</td>\n",
       "      <td>20.010332</td>\n",
       "      <td>-508.337973</td>\n",
       "    </tr>\n",
       "    <tr>\n",
       "      <th>4</th>\n",
       "      <td>2017-12-09 18:59:59</td>\n",
       "      <td>5.735249</td>\n",
       "      <td>6.165220</td>\n",
       "      <td>4.512346</td>\n",
       "      <td>37.810642</td>\n",
       "      <td>558.713584</td>\n",
       "      <td>86.434874</td>\n",
       "      <td>7.823471</td>\n",
       "      <td>7.490356</td>\n",
       "      <td>1198.005449</td>\n",
       "      <td>...</td>\n",
       "      <td>23.001911</td>\n",
       "      <td>-499.947838</td>\n",
       "      <td>20.023735</td>\n",
       "      <td>-499.713680</td>\n",
       "      <td>17.990955</td>\n",
       "      <td>-500.334769</td>\n",
       "      <td>13.007523</td>\n",
       "      <td>-499.968459</td>\n",
       "      <td>19.995999</td>\n",
       "      <td>-499.788805</td>\n",
       "    </tr>\n",
       "  </tbody>\n",
       "</table>\n",
       "<p>5 rows × 53 columns</p>\n",
       "</div>"
      ],
      "text/plain": [
       "                  date  rougher.input.feed_au  rougher.input.feed_ag  \\\n",
       "0  2017-12-09 14:59:59               4.365491               6.158718   \n",
       "1  2017-12-09 15:59:59               4.362781               6.048130   \n",
       "2  2017-12-09 16:59:59               5.081681               6.082745   \n",
       "3  2017-12-09 17:59:59               5.145949               6.084374   \n",
       "4  2017-12-09 18:59:59               5.735249               6.165220   \n",
       "\n",
       "   rougher.input.feed_pb  rougher.input.feed_sol  rougher.input.feed_rate  \\\n",
       "0               3.875727               39.135119               555.820208   \n",
       "1               3.902537               39.713906               544.731687   \n",
       "2               4.564078               37.208683               558.155110   \n",
       "3               4.768124               36.808874               539.713765   \n",
       "4               4.512346               37.810642               558.713584   \n",
       "\n",
       "   rougher.input.feed_size  rougher.input.floatbank10_sulfate  \\\n",
       "0                94.544358                           6.146982   \n",
       "1               123.742430                           6.210119   \n",
       "2                82.610855                           7.363824   \n",
       "3                77.984784                           6.927072   \n",
       "4                86.434874                           7.823471   \n",
       "\n",
       "   rougher.input.floatbank10_xanthate  rougher.state.floatbank10_a_air  ...  \\\n",
       "0                            9.308612                      1196.238112  ...   \n",
       "1                            9.297709                      1201.904177  ...   \n",
       "2                            9.003562                      1200.826926  ...   \n",
       "3                            8.955597                      1199.292489  ...   \n",
       "4                            7.490356                      1198.005449  ...   \n",
       "\n",
       "   secondary_cleaner.state.floatbank4_a_air  \\\n",
       "0                                 23.018622   \n",
       "1                                 23.024963   \n",
       "2                                 22.993827   \n",
       "3                                 23.032807   \n",
       "4                                 23.001911   \n",
       "\n",
       "   secondary_cleaner.state.floatbank4_a_level  \\\n",
       "0                                 -500.492702   \n",
       "1                                 -501.153409   \n",
       "2                                 -501.559663   \n",
       "3                                 -501.287889   \n",
       "4                                 -499.947838   \n",
       "\n",
       "   secondary_cleaner.state.floatbank4_b_air  \\\n",
       "0                                 20.020205   \n",
       "1                                 20.054122   \n",
       "2                                 20.029144   \n",
       "3                                 19.977466   \n",
       "4                                 20.023735   \n",
       "\n",
       "   secondary_cleaner.state.floatbank4_b_level  \\\n",
       "0                                 -500.220296   \n",
       "1                                 -500.314711   \n",
       "2                                 -500.000662   \n",
       "3                                 -500.159903   \n",
       "4                                 -499.713680   \n",
       "\n",
       "   secondary_cleaner.state.floatbank5_a_air  \\\n",
       "0                                 17.963512   \n",
       "1                                 17.979515   \n",
       "2                                 18.012723   \n",
       "3                                 17.980463   \n",
       "4                                 17.990955   \n",
       "\n",
       "   secondary_cleaner.state.floatbank5_a_level  \\\n",
       "0                                 -499.939490   \n",
       "1                                 -499.272871   \n",
       "2                                 -500.024764   \n",
       "3                                 -500.504602   \n",
       "4                                 -500.334769   \n",
       "\n",
       "   secondary_cleaner.state.floatbank5_b_air  \\\n",
       "0                                 12.990306   \n",
       "1                                 12.992404   \n",
       "2                                 13.016445   \n",
       "3                                 12.949071   \n",
       "4                                 13.007523   \n",
       "\n",
       "   secondary_cleaner.state.floatbank5_b_level  \\\n",
       "0                                 -500.080993   \n",
       "1                                 -499.976268   \n",
       "2                                 -500.058432   \n",
       "3                                 -500.009937   \n",
       "4                                 -499.968459   \n",
       "\n",
       "   secondary_cleaner.state.floatbank6_a_air  \\\n",
       "0                                 19.990336   \n",
       "1                                 20.013986   \n",
       "2                                 19.973767   \n",
       "3                                 20.010332   \n",
       "4                                 19.995999   \n",
       "\n",
       "   secondary_cleaner.state.floatbank6_a_level  \n",
       "0                                 -499.191575  \n",
       "1                                 -500.625471  \n",
       "2                                 -501.394155  \n",
       "3                                 -508.337973  \n",
       "4                                 -499.788805  \n",
       "\n",
       "[5 rows x 53 columns]"
      ]
     },
     "metadata": {},
     "output_type": "display_data"
    },
    {
     "data": {
      "text/html": [
       "<div>\n",
       "<style scoped>\n",
       "    .dataframe tbody tr th:only-of-type {\n",
       "        vertical-align: middle;\n",
       "    }\n",
       "\n",
       "    .dataframe tbody tr th {\n",
       "        vertical-align: top;\n",
       "    }\n",
       "\n",
       "    .dataframe thead th {\n",
       "        text-align: right;\n",
       "    }\n",
       "</style>\n",
       "<table border=\"1\" class=\"dataframe\">\n",
       "  <thead>\n",
       "    <tr style=\"text-align: right;\">\n",
       "      <th></th>\n",
       "      <th>date</th>\n",
       "      <th>rougher.input.feed_au</th>\n",
       "      <th>rougher.input.feed_ag</th>\n",
       "      <th>rougher.input.feed_pb</th>\n",
       "      <th>rougher.input.feed_sol</th>\n",
       "      <th>rougher.input.feed_rate</th>\n",
       "      <th>rougher.input.feed_size</th>\n",
       "      <th>rougher.input.floatbank10_sulfate</th>\n",
       "      <th>rougher.input.floatbank10_xanthate</th>\n",
       "      <th>rougher.state.floatbank10_a_air</th>\n",
       "      <th>...</th>\n",
       "      <th>secondary_cleaner.output.tail_sol</th>\n",
       "      <th>final.output.concentrate_au</th>\n",
       "      <th>final.output.concentrate_ag</th>\n",
       "      <th>final.output.concentrate_pb</th>\n",
       "      <th>final.output.concentrate_sol</th>\n",
       "      <th>final.output.recovery</th>\n",
       "      <th>final.output.tail_au</th>\n",
       "      <th>final.output.tail_ag</th>\n",
       "      <th>final.output.tail_pb</th>\n",
       "      <th>final.output.tail_sol</th>\n",
       "    </tr>\n",
       "  </thead>\n",
       "  <tbody>\n",
       "    <tr>\n",
       "      <th>0</th>\n",
       "      <td>2016-01-15 00:00:00</td>\n",
       "      <td>6.486150</td>\n",
       "      <td>6.100378</td>\n",
       "      <td>2.284912</td>\n",
       "      <td>36.808594</td>\n",
       "      <td>523.546326</td>\n",
       "      <td>55.486599</td>\n",
       "      <td>11.986616</td>\n",
       "      <td>6.007990</td>\n",
       "      <td>999.706909</td>\n",
       "      <td>...</td>\n",
       "      <td>8.764648</td>\n",
       "      <td>42.192020</td>\n",
       "      <td>6.055403</td>\n",
       "      <td>9.889648</td>\n",
       "      <td>5.507324</td>\n",
       "      <td>70.541216</td>\n",
       "      <td>2.143149</td>\n",
       "      <td>10.411962</td>\n",
       "      <td>0.895447</td>\n",
       "      <td>16.904297</td>\n",
       "    </tr>\n",
       "    <tr>\n",
       "      <th>1</th>\n",
       "      <td>2016-01-15 01:00:00</td>\n",
       "      <td>6.478583</td>\n",
       "      <td>6.161113</td>\n",
       "      <td>2.266033</td>\n",
       "      <td>35.753385</td>\n",
       "      <td>525.290581</td>\n",
       "      <td>57.278666</td>\n",
       "      <td>11.971193</td>\n",
       "      <td>6.005766</td>\n",
       "      <td>1000.286398</td>\n",
       "      <td>...</td>\n",
       "      <td>9.001494</td>\n",
       "      <td>42.701629</td>\n",
       "      <td>6.029369</td>\n",
       "      <td>9.968944</td>\n",
       "      <td>5.257781</td>\n",
       "      <td>69.266198</td>\n",
       "      <td>2.224930</td>\n",
       "      <td>10.462676</td>\n",
       "      <td>0.927452</td>\n",
       "      <td>16.634514</td>\n",
       "    </tr>\n",
       "    <tr>\n",
       "      <th>2</th>\n",
       "      <td>2016-01-15 02:00:00</td>\n",
       "      <td>6.362222</td>\n",
       "      <td>6.116455</td>\n",
       "      <td>2.159622</td>\n",
       "      <td>35.971630</td>\n",
       "      <td>530.026610</td>\n",
       "      <td>57.510649</td>\n",
       "      <td>11.920603</td>\n",
       "      <td>6.197377</td>\n",
       "      <td>999.719565</td>\n",
       "      <td>...</td>\n",
       "      <td>8.842896</td>\n",
       "      <td>42.657501</td>\n",
       "      <td>6.055926</td>\n",
       "      <td>10.213995</td>\n",
       "      <td>5.383759</td>\n",
       "      <td>68.116445</td>\n",
       "      <td>2.257889</td>\n",
       "      <td>10.507046</td>\n",
       "      <td>0.953716</td>\n",
       "      <td>16.208849</td>\n",
       "    </tr>\n",
       "    <tr>\n",
       "      <th>3</th>\n",
       "      <td>2016-01-15 03:00:00</td>\n",
       "      <td>6.118189</td>\n",
       "      <td>6.043309</td>\n",
       "      <td>2.037807</td>\n",
       "      <td>36.862241</td>\n",
       "      <td>542.590390</td>\n",
       "      <td>57.792734</td>\n",
       "      <td>11.630094</td>\n",
       "      <td>6.203177</td>\n",
       "      <td>999.814770</td>\n",
       "      <td>...</td>\n",
       "      <td>9.122857</td>\n",
       "      <td>42.689819</td>\n",
       "      <td>6.047977</td>\n",
       "      <td>9.977019</td>\n",
       "      <td>4.858634</td>\n",
       "      <td>68.347543</td>\n",
       "      <td>2.146849</td>\n",
       "      <td>10.422762</td>\n",
       "      <td>0.883763</td>\n",
       "      <td>16.532835</td>\n",
       "    </tr>\n",
       "    <tr>\n",
       "      <th>4</th>\n",
       "      <td>2016-01-15 04:00:00</td>\n",
       "      <td>5.663707</td>\n",
       "      <td>6.060915</td>\n",
       "      <td>1.786875</td>\n",
       "      <td>34.347666</td>\n",
       "      <td>540.531893</td>\n",
       "      <td>56.047189</td>\n",
       "      <td>10.957755</td>\n",
       "      <td>6.198826</td>\n",
       "      <td>999.678690</td>\n",
       "      <td>...</td>\n",
       "      <td>8.871028</td>\n",
       "      <td>42.774141</td>\n",
       "      <td>6.148599</td>\n",
       "      <td>10.142511</td>\n",
       "      <td>4.939416</td>\n",
       "      <td>66.927016</td>\n",
       "      <td>2.055292</td>\n",
       "      <td>10.360302</td>\n",
       "      <td>0.792826</td>\n",
       "      <td>16.525686</td>\n",
       "    </tr>\n",
       "  </tbody>\n",
       "</table>\n",
       "<p>5 rows × 87 columns</p>\n",
       "</div>"
      ],
      "text/plain": [
       "                  date  rougher.input.feed_au  rougher.input.feed_ag  \\\n",
       "0  2016-01-15 00:00:00               6.486150               6.100378   \n",
       "1  2016-01-15 01:00:00               6.478583               6.161113   \n",
       "2  2016-01-15 02:00:00               6.362222               6.116455   \n",
       "3  2016-01-15 03:00:00               6.118189               6.043309   \n",
       "4  2016-01-15 04:00:00               5.663707               6.060915   \n",
       "\n",
       "   rougher.input.feed_pb  rougher.input.feed_sol  rougher.input.feed_rate  \\\n",
       "0               2.284912               36.808594               523.546326   \n",
       "1               2.266033               35.753385               525.290581   \n",
       "2               2.159622               35.971630               530.026610   \n",
       "3               2.037807               36.862241               542.590390   \n",
       "4               1.786875               34.347666               540.531893   \n",
       "\n",
       "   rougher.input.feed_size  rougher.input.floatbank10_sulfate  \\\n",
       "0                55.486599                          11.986616   \n",
       "1                57.278666                          11.971193   \n",
       "2                57.510649                          11.920603   \n",
       "3                57.792734                          11.630094   \n",
       "4                56.047189                          10.957755   \n",
       "\n",
       "   rougher.input.floatbank10_xanthate  rougher.state.floatbank10_a_air  ...  \\\n",
       "0                            6.007990                       999.706909  ...   \n",
       "1                            6.005766                      1000.286398  ...   \n",
       "2                            6.197377                       999.719565  ...   \n",
       "3                            6.203177                       999.814770  ...   \n",
       "4                            6.198826                       999.678690  ...   \n",
       "\n",
       "   secondary_cleaner.output.tail_sol  final.output.concentrate_au  \\\n",
       "0                           8.764648                    42.192020   \n",
       "1                           9.001494                    42.701629   \n",
       "2                           8.842896                    42.657501   \n",
       "3                           9.122857                    42.689819   \n",
       "4                           8.871028                    42.774141   \n",
       "\n",
       "   final.output.concentrate_ag  final.output.concentrate_pb  \\\n",
       "0                     6.055403                     9.889648   \n",
       "1                     6.029369                     9.968944   \n",
       "2                     6.055926                    10.213995   \n",
       "3                     6.047977                     9.977019   \n",
       "4                     6.148599                    10.142511   \n",
       "\n",
       "   final.output.concentrate_sol  final.output.recovery  final.output.tail_au  \\\n",
       "0                      5.507324              70.541216              2.143149   \n",
       "1                      5.257781              69.266198              2.224930   \n",
       "2                      5.383759              68.116445              2.257889   \n",
       "3                      4.858634              68.347543              2.146849   \n",
       "4                      4.939416              66.927016              2.055292   \n",
       "\n",
       "   final.output.tail_ag  final.output.tail_pb  final.output.tail_sol  \n",
       "0             10.411962              0.895447              16.904297  \n",
       "1             10.462676              0.927452              16.634514  \n",
       "2             10.507046              0.953716              16.208849  \n",
       "3             10.422762              0.883763              16.532835  \n",
       "4             10.360302              0.792826              16.525686  \n",
       "\n",
       "[5 rows x 87 columns]"
      ]
     },
     "metadata": {},
     "output_type": "display_data"
    }
   ],
   "source": [
    "train = pd.read_csv('/datasets/gold_industry_train.csv')\n",
    "test = pd.read_csv('/datasets/gold_industry_test.csv')\n",
    "full = pd.read_csv('/datasets/gold_industry_full.csv')\n",
    "\n",
    "display(train.head())\n",
    "display(test.head())\n",
    "display(full.head())"
   ]
  },
  {
   "cell_type": "code",
   "execution_count": 3,
   "metadata": {},
   "outputs": [
    {
     "name": "stdout",
     "output_type": "stream",
     "text": [
      "<class 'pandas.core.frame.DataFrame'>\n",
      "RangeIndex: 14579 entries, 0 to 14578\n",
      "Data columns (total 87 columns):\n",
      " #   Column                                              Non-Null Count  Dtype  \n",
      "---  ------                                              --------------  -----  \n",
      " 0   date                                                14579 non-null  object \n",
      " 1   rougher.input.feed_au                               14579 non-null  float64\n",
      " 2   rougher.input.feed_ag                               14579 non-null  float64\n",
      " 3   rougher.input.feed_pb                               14507 non-null  float64\n",
      " 4   rougher.input.feed_sol                              14502 non-null  float64\n",
      " 5   rougher.input.feed_rate                             14572 non-null  float64\n",
      " 6   rougher.input.feed_size                             14478 non-null  float64\n",
      " 7   rougher.input.floatbank10_sulfate                   14548 non-null  float64\n",
      " 8   rougher.input.floatbank10_xanthate                  14572 non-null  float64\n",
      " 9   rougher.state.floatbank10_a_air                     14579 non-null  float64\n",
      " 10  rougher.state.floatbank10_a_level                   14579 non-null  float64\n",
      " 11  rougher.state.floatbank10_b_air                     14579 non-null  float64\n",
      " 12  rougher.state.floatbank10_b_level                   14579 non-null  float64\n",
      " 13  rougher.state.floatbank10_c_air                     14579 non-null  float64\n",
      " 14  rougher.state.floatbank10_c_level                   14579 non-null  float64\n",
      " 15  rougher.state.floatbank10_d_air                     14579 non-null  float64\n",
      " 16  rougher.state.floatbank10_d_level                   14579 non-null  float64\n",
      " 17  rougher.state.floatbank10_e_air                     14150 non-null  float64\n",
      " 18  rougher.state.floatbank10_e_level                   14579 non-null  float64\n",
      " 19  rougher.state.floatbank10_f_air                     14579 non-null  float64\n",
      " 20  rougher.state.floatbank10_f_level                   14579 non-null  float64\n",
      " 21  rougher.input.floatbank11_sulfate                   14543 non-null  float64\n",
      " 22  rougher.input.floatbank11_xanthate                  14172 non-null  float64\n",
      " 23  rougher.calculation.sulfate_to_au_concentrate       14578 non-null  float64\n",
      " 24  rougher.calculation.floatbank10_sulfate_to_au_feed  14578 non-null  float64\n",
      " 25  rougher.calculation.floatbank11_sulfate_to_au_feed  14578 non-null  float64\n",
      " 26  rougher.calculation.au_pb_ratio                     14579 non-null  float64\n",
      " 27  rougher.output.concentrate_au                       14579 non-null  float64\n",
      " 28  rougher.output.concentrate_ag                       14579 non-null  float64\n",
      " 29  rougher.output.concentrate_pb                       14579 non-null  float64\n",
      " 30  rougher.output.concentrate_sol                      14561 non-null  float64\n",
      " 31  rougher.output.recovery                             14579 non-null  float64\n",
      " 32  rougher.output.tail_au                              14579 non-null  float64\n",
      " 33  rougher.output.tail_ag                              14578 non-null  float64\n",
      " 34  rougher.output.tail_pb                              14579 non-null  float64\n",
      " 35  rougher.output.tail_sol                             14579 non-null  float64\n",
      " 36  primary_cleaner.input.sulfate                       14556 non-null  float64\n",
      " 37  primary_cleaner.input.depressant                    14551 non-null  float64\n",
      " 38  primary_cleaner.input.feed_size                     14579 non-null  float64\n",
      " 39  primary_cleaner.input.xanthate                      14518 non-null  float64\n",
      " 40  primary_cleaner.state.floatbank8_a_air              14576 non-null  float64\n",
      " 41  primary_cleaner.state.floatbank8_a_level            14579 non-null  float64\n",
      " 42  primary_cleaner.state.floatbank8_b_air              14576 non-null  float64\n",
      " 43  primary_cleaner.state.floatbank8_b_level            14579 non-null  float64\n",
      " 44  primary_cleaner.state.floatbank8_c_air              14579 non-null  float64\n",
      " 45  primary_cleaner.state.floatbank8_c_level            14579 non-null  float64\n",
      " 46  primary_cleaner.state.floatbank8_d_air              14578 non-null  float64\n",
      " 47  primary_cleaner.state.floatbank8_d_level            14579 non-null  float64\n",
      " 48  primary_cleaner.output.concentrate_au               14579 non-null  float64\n",
      " 49  primary_cleaner.output.concentrate_ag               14579 non-null  float64\n",
      " 50  primary_cleaner.output.concentrate_pb               14491 non-null  float64\n",
      " 51  primary_cleaner.output.concentrate_sol              14314 non-null  float64\n",
      " 52  primary_cleaner.output.tail_au                      14579 non-null  float64\n",
      " 53  primary_cleaner.output.tail_ag                      14575 non-null  float64\n",
      " 54  primary_cleaner.output.tail_pb                      14573 non-null  float64\n",
      " 55  primary_cleaner.output.tail_sol                     14534 non-null  float64\n",
      " 56  secondary_cleaner.state.floatbank2_a_air            14485 non-null  float64\n",
      " 57  secondary_cleaner.state.floatbank2_a_level          14579 non-null  float64\n",
      " 58  secondary_cleaner.state.floatbank2_b_air            14557 non-null  float64\n",
      " 59  secondary_cleaner.state.floatbank2_b_level          14579 non-null  float64\n",
      " 60  secondary_cleaner.state.floatbank3_a_air            14567 non-null  float64\n",
      " 61  secondary_cleaner.state.floatbank3_a_level          14579 non-null  float64\n",
      " 62  secondary_cleaner.state.floatbank3_b_air            14579 non-null  float64\n",
      " 63  secondary_cleaner.state.floatbank3_b_level          14579 non-null  float64\n",
      " 64  secondary_cleaner.state.floatbank4_a_air            14574 non-null  float64\n",
      " 65  secondary_cleaner.state.floatbank4_a_level          14579 non-null  float64\n",
      " 66  secondary_cleaner.state.floatbank4_b_air            14579 non-null  float64\n",
      " 67  secondary_cleaner.state.floatbank4_b_level          14579 non-null  float64\n",
      " 68  secondary_cleaner.state.floatbank5_a_air            14579 non-null  float64\n",
      " 69  secondary_cleaner.state.floatbank5_a_level          14579 non-null  float64\n",
      " 70  secondary_cleaner.state.floatbank5_b_air            14579 non-null  float64\n",
      " 71  secondary_cleaner.state.floatbank5_b_level          14579 non-null  float64\n",
      " 72  secondary_cleaner.state.floatbank6_a_air            14578 non-null  float64\n",
      " 73  secondary_cleaner.state.floatbank6_a_level          14579 non-null  float64\n",
      " 74  secondary_cleaner.output.tail_au                    14579 non-null  float64\n",
      " 75  secondary_cleaner.output.tail_ag                    14578 non-null  float64\n",
      " 76  secondary_cleaner.output.tail_pb                    14575 non-null  float64\n",
      " 77  secondary_cleaner.output.tail_sol                   13659 non-null  float64\n",
      " 78  final.output.concentrate_au                         14579 non-null  float64\n",
      " 79  final.output.concentrate_ag                         14578 non-null  float64\n",
      " 80  final.output.concentrate_pb                         14578 non-null  float64\n",
      " 81  final.output.concentrate_sol                        14387 non-null  float64\n",
      " 82  final.output.recovery                               14579 non-null  float64\n",
      " 83  final.output.tail_au                                14579 non-null  float64\n",
      " 84  final.output.tail_ag                                14578 non-null  float64\n",
      " 85  final.output.tail_pb                                14504 non-null  float64\n",
      " 86  final.output.tail_sol                               14574 non-null  float64\n",
      "dtypes: float64(86), object(1)\n",
      "memory usage: 9.7+ MB\n",
      "<class 'pandas.core.frame.DataFrame'>\n",
      "RangeIndex: 4860 entries, 0 to 4859\n",
      "Data columns (total 53 columns):\n",
      " #   Column                                      Non-Null Count  Dtype  \n",
      "---  ------                                      --------------  -----  \n",
      " 0   date                                        4860 non-null   object \n",
      " 1   rougher.input.feed_au                       4860 non-null   float64\n",
      " 2   rougher.input.feed_ag                       4860 non-null   float64\n",
      " 3   rougher.input.feed_pb                       4832 non-null   float64\n",
      " 4   rougher.input.feed_sol                      4838 non-null   float64\n",
      " 5   rougher.input.feed_rate                     4856 non-null   float64\n",
      " 6   rougher.input.feed_size                     4816 non-null   float64\n",
      " 7   rougher.input.floatbank10_sulfate           4857 non-null   float64\n",
      " 8   rougher.input.floatbank10_xanthate          4859 non-null   float64\n",
      " 9   rougher.state.floatbank10_a_air             4859 non-null   float64\n",
      " 10  rougher.state.floatbank10_a_level           4859 non-null   float64\n",
      " 11  rougher.state.floatbank10_b_air             4859 non-null   float64\n",
      " 12  rougher.state.floatbank10_b_level           4859 non-null   float64\n",
      " 13  rougher.state.floatbank10_c_air             4859 non-null   float64\n",
      " 14  rougher.state.floatbank10_c_level           4859 non-null   float64\n",
      " 15  rougher.state.floatbank10_d_air             4860 non-null   float64\n",
      " 16  rougher.state.floatbank10_d_level           4860 non-null   float64\n",
      " 17  rougher.state.floatbank10_e_air             4853 non-null   float64\n",
      " 18  rougher.state.floatbank10_e_level           4860 non-null   float64\n",
      " 19  rougher.state.floatbank10_f_air             4860 non-null   float64\n",
      " 20  rougher.state.floatbank10_f_level           4860 non-null   float64\n",
      " 21  rougher.input.floatbank11_sulfate           4852 non-null   float64\n",
      " 22  rougher.input.floatbank11_xanthate          4814 non-null   float64\n",
      " 23  primary_cleaner.input.sulfate               4859 non-null   float64\n",
      " 24  primary_cleaner.input.depressant            4851 non-null   float64\n",
      " 25  primary_cleaner.input.feed_size             4860 non-null   float64\n",
      " 26  primary_cleaner.input.xanthate              4817 non-null   float64\n",
      " 27  primary_cleaner.state.floatbank8_a_air      4859 non-null   float64\n",
      " 28  primary_cleaner.state.floatbank8_a_level    4859 non-null   float64\n",
      " 29  primary_cleaner.state.floatbank8_b_air      4859 non-null   float64\n",
      " 30  primary_cleaner.state.floatbank8_b_level    4859 non-null   float64\n",
      " 31  primary_cleaner.state.floatbank8_c_air      4858 non-null   float64\n",
      " 32  primary_cleaner.state.floatbank8_c_level    4859 non-null   float64\n",
      " 33  primary_cleaner.state.floatbank8_d_air      4858 non-null   float64\n",
      " 34  primary_cleaner.state.floatbank8_d_level    4859 non-null   float64\n",
      " 35  secondary_cleaner.state.floatbank2_a_air    4734 non-null   float64\n",
      " 36  secondary_cleaner.state.floatbank2_a_level  4859 non-null   float64\n",
      " 37  secondary_cleaner.state.floatbank2_b_air    4859 non-null   float64\n",
      " 38  secondary_cleaner.state.floatbank2_b_level  4859 non-null   float64\n",
      " 39  secondary_cleaner.state.floatbank3_a_air    4859 non-null   float64\n",
      " 40  secondary_cleaner.state.floatbank3_a_level  4859 non-null   float64\n",
      " 41  secondary_cleaner.state.floatbank3_b_air    4859 non-null   float64\n",
      " 42  secondary_cleaner.state.floatbank3_b_level  4859 non-null   float64\n",
      " 43  secondary_cleaner.state.floatbank4_a_air    4859 non-null   float64\n",
      " 44  secondary_cleaner.state.floatbank4_a_level  4859 non-null   float64\n",
      " 45  secondary_cleaner.state.floatbank4_b_air    4859 non-null   float64\n",
      " 46  secondary_cleaner.state.floatbank4_b_level  4859 non-null   float64\n",
      " 47  secondary_cleaner.state.floatbank5_a_air    4859 non-null   float64\n",
      " 48  secondary_cleaner.state.floatbank5_a_level  4859 non-null   float64\n",
      " 49  secondary_cleaner.state.floatbank5_b_air    4859 non-null   float64\n",
      " 50  secondary_cleaner.state.floatbank5_b_level  4859 non-null   float64\n",
      " 51  secondary_cleaner.state.floatbank6_a_air    4859 non-null   float64\n",
      " 52  secondary_cleaner.state.floatbank6_a_level  4859 non-null   float64\n",
      "dtypes: float64(52), object(1)\n",
      "memory usage: 2.0+ MB\n",
      "<class 'pandas.core.frame.DataFrame'>\n",
      "RangeIndex: 19439 entries, 0 to 19438\n",
      "Data columns (total 87 columns):\n",
      " #   Column                                              Non-Null Count  Dtype  \n",
      "---  ------                                              --------------  -----  \n",
      " 0   date                                                19439 non-null  object \n",
      " 1   rougher.input.feed_au                               19439 non-null  float64\n",
      " 2   rougher.input.feed_ag                               19439 non-null  float64\n",
      " 3   rougher.input.feed_pb                               19339 non-null  float64\n",
      " 4   rougher.input.feed_sol                              19340 non-null  float64\n",
      " 5   rougher.input.feed_rate                             19428 non-null  float64\n",
      " 6   rougher.input.feed_size                             19294 non-null  float64\n",
      " 7   rougher.input.floatbank10_sulfate                   19405 non-null  float64\n",
      " 8   rougher.input.floatbank10_xanthate                  19431 non-null  float64\n",
      " 9   rougher.state.floatbank10_a_air                     19438 non-null  float64\n",
      " 10  rougher.state.floatbank10_a_level                   19438 non-null  float64\n",
      " 11  rougher.state.floatbank10_b_air                     19438 non-null  float64\n",
      " 12  rougher.state.floatbank10_b_level                   19438 non-null  float64\n",
      " 13  rougher.state.floatbank10_c_air                     19438 non-null  float64\n",
      " 14  rougher.state.floatbank10_c_level                   19438 non-null  float64\n",
      " 15  rougher.state.floatbank10_d_air                     19439 non-null  float64\n",
      " 16  rougher.state.floatbank10_d_level                   19439 non-null  float64\n",
      " 17  rougher.state.floatbank10_e_air                     19003 non-null  float64\n",
      " 18  rougher.state.floatbank10_e_level                   19439 non-null  float64\n",
      " 19  rougher.state.floatbank10_f_air                     19439 non-null  float64\n",
      " 20  rougher.state.floatbank10_f_level                   19439 non-null  float64\n",
      " 21  rougher.input.floatbank11_sulfate                   19395 non-null  float64\n",
      " 22  rougher.input.floatbank11_xanthate                  18986 non-null  float64\n",
      " 23  rougher.calculation.sulfate_to_au_concentrate       19437 non-null  float64\n",
      " 24  rougher.calculation.floatbank10_sulfate_to_au_feed  19437 non-null  float64\n",
      " 25  rougher.calculation.floatbank11_sulfate_to_au_feed  19437 non-null  float64\n",
      " 26  rougher.calculation.au_pb_ratio                     19439 non-null  float64\n",
      " 27  rougher.output.concentrate_au                       19439 non-null  float64\n",
      " 28  rougher.output.concentrate_ag                       19439 non-null  float64\n",
      " 29  rougher.output.concentrate_pb                       19439 non-null  float64\n",
      " 30  rougher.output.concentrate_sol                      19416 non-null  float64\n",
      " 31  rougher.output.recovery                             19439 non-null  float64\n",
      " 32  rougher.output.tail_au                              19439 non-null  float64\n",
      " 33  rougher.output.tail_ag                              19438 non-null  float64\n",
      " 34  rougher.output.tail_pb                              19439 non-null  float64\n",
      " 35  rougher.output.tail_sol                             19439 non-null  float64\n",
      " 36  primary_cleaner.input.sulfate                       19415 non-null  float64\n",
      " 37  primary_cleaner.input.depressant                    19402 non-null  float64\n",
      " 38  primary_cleaner.input.feed_size                     19439 non-null  float64\n",
      " 39  primary_cleaner.input.xanthate                      19335 non-null  float64\n",
      " 40  primary_cleaner.state.floatbank8_a_air              19435 non-null  float64\n",
      " 41  primary_cleaner.state.floatbank8_a_level            19438 non-null  float64\n",
      " 42  primary_cleaner.state.floatbank8_b_air              19435 non-null  float64\n",
      " 43  primary_cleaner.state.floatbank8_b_level            19438 non-null  float64\n",
      " 44  primary_cleaner.state.floatbank8_c_air              19437 non-null  float64\n",
      " 45  primary_cleaner.state.floatbank8_c_level            19438 non-null  float64\n",
      " 46  primary_cleaner.state.floatbank8_d_air              19436 non-null  float64\n",
      " 47  primary_cleaner.state.floatbank8_d_level            19438 non-null  float64\n",
      " 48  primary_cleaner.output.concentrate_au               19439 non-null  float64\n",
      " 49  primary_cleaner.output.concentrate_ag               19439 non-null  float64\n",
      " 50  primary_cleaner.output.concentrate_pb               19323 non-null  float64\n",
      " 51  primary_cleaner.output.concentrate_sol              19069 non-null  float64\n",
      " 52  primary_cleaner.output.tail_au                      19439 non-null  float64\n",
      " 53  primary_cleaner.output.tail_ag                      19435 non-null  float64\n",
      " 54  primary_cleaner.output.tail_pb                      19418 non-null  float64\n",
      " 55  primary_cleaner.output.tail_sol                     19377 non-null  float64\n",
      " 56  secondary_cleaner.state.floatbank2_a_air            19219 non-null  float64\n",
      " 57  secondary_cleaner.state.floatbank2_a_level          19438 non-null  float64\n",
      " 58  secondary_cleaner.state.floatbank2_b_air            19416 non-null  float64\n",
      " 59  secondary_cleaner.state.floatbank2_b_level          19438 non-null  float64\n",
      " 60  secondary_cleaner.state.floatbank3_a_air            19426 non-null  float64\n",
      " 61  secondary_cleaner.state.floatbank3_a_level          19438 non-null  float64\n",
      " 62  secondary_cleaner.state.floatbank3_b_air            19438 non-null  float64\n",
      " 63  secondary_cleaner.state.floatbank3_b_level          19438 non-null  float64\n",
      " 64  secondary_cleaner.state.floatbank4_a_air            19433 non-null  float64\n",
      " 65  secondary_cleaner.state.floatbank4_a_level          19438 non-null  float64\n",
      " 66  secondary_cleaner.state.floatbank4_b_air            19438 non-null  float64\n",
      " 67  secondary_cleaner.state.floatbank4_b_level          19438 non-null  float64\n",
      " 68  secondary_cleaner.state.floatbank5_a_air            19438 non-null  float64\n",
      " 69  secondary_cleaner.state.floatbank5_a_level          19438 non-null  float64\n",
      " 70  secondary_cleaner.state.floatbank5_b_air            19438 non-null  float64\n",
      " 71  secondary_cleaner.state.floatbank5_b_level          19438 non-null  float64\n",
      " 72  secondary_cleaner.state.floatbank6_a_air            19437 non-null  float64\n",
      " 73  secondary_cleaner.state.floatbank6_a_level          19438 non-null  float64\n",
      " 74  secondary_cleaner.output.tail_au                    19439 non-null  float64\n",
      " 75  secondary_cleaner.output.tail_ag                    19437 non-null  float64\n",
      " 76  secondary_cleaner.output.tail_pb                    19427 non-null  float64\n",
      " 77  secondary_cleaner.output.tail_sol                   17691 non-null  float64\n",
      " 78  final.output.concentrate_au                         19439 non-null  float64\n",
      " 79  final.output.concentrate_ag                         19438 non-null  float64\n",
      " 80  final.output.concentrate_pb                         19438 non-null  float64\n",
      " 81  final.output.concentrate_sol                        19228 non-null  float64\n",
      " 82  final.output.recovery                               19439 non-null  float64\n",
      " 83  final.output.tail_au                                19439 non-null  float64\n",
      " 84  final.output.tail_ag                                19438 non-null  float64\n",
      " 85  final.output.tail_pb                                19338 non-null  float64\n",
      " 86  final.output.tail_sol                               19433 non-null  float64\n",
      "dtypes: float64(86), object(1)\n",
      "memory usage: 12.9+ MB\n"
     ]
    }
   ],
   "source": [
    "train.info()\n",
    "test.info()\n",
    "full.info()"
   ]
  },
  {
   "cell_type": "code",
   "execution_count": 4,
   "metadata": {
    "scrolled": true
   },
   "outputs": [
    {
     "data": {
      "text/html": [
       "<div>\n",
       "<style scoped>\n",
       "    .dataframe tbody tr th:only-of-type {\n",
       "        vertical-align: middle;\n",
       "    }\n",
       "\n",
       "    .dataframe tbody tr th {\n",
       "        vertical-align: top;\n",
       "    }\n",
       "\n",
       "    .dataframe thead th {\n",
       "        text-align: right;\n",
       "    }\n",
       "</style>\n",
       "<table border=\"1\" class=\"dataframe\">\n",
       "  <thead>\n",
       "    <tr style=\"text-align: right;\">\n",
       "      <th></th>\n",
       "      <th>rougher.input.feed_au</th>\n",
       "      <th>rougher.input.feed_ag</th>\n",
       "      <th>rougher.input.feed_pb</th>\n",
       "      <th>rougher.input.feed_sol</th>\n",
       "      <th>rougher.input.feed_rate</th>\n",
       "      <th>rougher.input.feed_size</th>\n",
       "      <th>rougher.input.floatbank10_sulfate</th>\n",
       "      <th>rougher.input.floatbank10_xanthate</th>\n",
       "      <th>rougher.state.floatbank10_a_air</th>\n",
       "      <th>rougher.state.floatbank10_a_level</th>\n",
       "      <th>...</th>\n",
       "      <th>secondary_cleaner.output.tail_sol</th>\n",
       "      <th>final.output.concentrate_au</th>\n",
       "      <th>final.output.concentrate_ag</th>\n",
       "      <th>final.output.concentrate_pb</th>\n",
       "      <th>final.output.concentrate_sol</th>\n",
       "      <th>final.output.recovery</th>\n",
       "      <th>final.output.tail_au</th>\n",
       "      <th>final.output.tail_ag</th>\n",
       "      <th>final.output.tail_pb</th>\n",
       "      <th>final.output.tail_sol</th>\n",
       "    </tr>\n",
       "  </thead>\n",
       "  <tbody>\n",
       "    <tr>\n",
       "      <th>count</th>\n",
       "      <td>14579.000000</td>\n",
       "      <td>14579.000000</td>\n",
       "      <td>14507.000000</td>\n",
       "      <td>14502.000000</td>\n",
       "      <td>14572.000000</td>\n",
       "      <td>14478.000000</td>\n",
       "      <td>14548.000000</td>\n",
       "      <td>14572.000000</td>\n",
       "      <td>14579.000000</td>\n",
       "      <td>14579.000000</td>\n",
       "      <td>...</td>\n",
       "      <td>13659.000000</td>\n",
       "      <td>14579.000000</td>\n",
       "      <td>14578.000000</td>\n",
       "      <td>14578.000000</td>\n",
       "      <td>14387.000000</td>\n",
       "      <td>14579.000000</td>\n",
       "      <td>14579.000000</td>\n",
       "      <td>14578.000000</td>\n",
       "      <td>14504.000000</td>\n",
       "      <td>14574.000000</td>\n",
       "    </tr>\n",
       "    <tr>\n",
       "      <th>mean</th>\n",
       "      <td>8.352941</td>\n",
       "      <td>8.877460</td>\n",
       "      <td>3.604221</td>\n",
       "      <td>36.561420</td>\n",
       "      <td>474.332784</td>\n",
       "      <td>58.922712</td>\n",
       "      <td>12.427399</td>\n",
       "      <td>5.994854</td>\n",
       "      <td>1104.208278</td>\n",
       "      <td>-379.367166</td>\n",
       "      <td>...</td>\n",
       "      <td>7.111347</td>\n",
       "      <td>43.979499</td>\n",
       "      <td>5.192145</td>\n",
       "      <td>9.923809</td>\n",
       "      <td>9.566676</td>\n",
       "      <td>66.759066</td>\n",
       "      <td>3.087939</td>\n",
       "      <td>9.731972</td>\n",
       "      <td>2.719985</td>\n",
       "      <td>10.612745</td>\n",
       "    </tr>\n",
       "    <tr>\n",
       "      <th>std</th>\n",
       "      <td>1.934376</td>\n",
       "      <td>1.922536</td>\n",
       "      <td>1.056063</td>\n",
       "      <td>5.209823</td>\n",
       "      <td>108.503552</td>\n",
       "      <td>22.407410</td>\n",
       "      <td>3.428939</td>\n",
       "      <td>1.152873</td>\n",
       "      <td>162.235606</td>\n",
       "      <td>94.652311</td>\n",
       "      <td>...</td>\n",
       "      <td>3.909951</td>\n",
       "      <td>5.471437</td>\n",
       "      <td>1.388014</td>\n",
       "      <td>1.706976</td>\n",
       "      <td>2.805654</td>\n",
       "      <td>10.619709</td>\n",
       "      <td>0.915187</td>\n",
       "      <td>2.358143</td>\n",
       "      <td>0.958929</td>\n",
       "      <td>2.871075</td>\n",
       "    </tr>\n",
       "    <tr>\n",
       "      <th>min</th>\n",
       "      <td>0.010000</td>\n",
       "      <td>0.010000</td>\n",
       "      <td>0.010000</td>\n",
       "      <td>0.010000</td>\n",
       "      <td>0.002986</td>\n",
       "      <td>0.049194</td>\n",
       "      <td>0.001083</td>\n",
       "      <td>0.000568</td>\n",
       "      <td>-0.042069</td>\n",
       "      <td>-657.949759</td>\n",
       "      <td>...</td>\n",
       "      <td>0.000000</td>\n",
       "      <td>0.000000</td>\n",
       "      <td>0.000000</td>\n",
       "      <td>0.000000</td>\n",
       "      <td>0.000000</td>\n",
       "      <td>0.000000</td>\n",
       "      <td>0.000000</td>\n",
       "      <td>0.000000</td>\n",
       "      <td>0.000000</td>\n",
       "      <td>0.000000</td>\n",
       "    </tr>\n",
       "    <tr>\n",
       "      <th>25%</th>\n",
       "      <td>6.932996</td>\n",
       "      <td>7.341922</td>\n",
       "      <td>2.880490</td>\n",
       "      <td>34.093951</td>\n",
       "      <td>411.048483</td>\n",
       "      <td>47.278490</td>\n",
       "      <td>10.002832</td>\n",
       "      <td>5.304167</td>\n",
       "      <td>999.644856</td>\n",
       "      <td>-499.861797</td>\n",
       "      <td>...</td>\n",
       "      <td>3.784897</td>\n",
       "      <td>43.345906</td>\n",
       "      <td>4.283347</td>\n",
       "      <td>9.103183</td>\n",
       "      <td>7.860030</td>\n",
       "      <td>63.114596</td>\n",
       "      <td>2.505287</td>\n",
       "      <td>8.088928</td>\n",
       "      <td>2.036512</td>\n",
       "      <td>9.013412</td>\n",
       "    </tr>\n",
       "    <tr>\n",
       "      <th>50%</th>\n",
       "      <td>8.225284</td>\n",
       "      <td>8.715859</td>\n",
       "      <td>3.532399</td>\n",
       "      <td>37.097511</td>\n",
       "      <td>498.187968</td>\n",
       "      <td>54.361187</td>\n",
       "      <td>12.003320</td>\n",
       "      <td>6.003053</td>\n",
       "      <td>1000.982624</td>\n",
       "      <td>-300.314199</td>\n",
       "      <td>...</td>\n",
       "      <td>7.629968</td>\n",
       "      <td>44.975014</td>\n",
       "      <td>5.118647</td>\n",
       "      <td>10.046455</td>\n",
       "      <td>9.301970</td>\n",
       "      <td>67.962788</td>\n",
       "      <td>3.029238</td>\n",
       "      <td>9.818512</td>\n",
       "      <td>2.774847</td>\n",
       "      <td>10.670515</td>\n",
       "    </tr>\n",
       "    <tr>\n",
       "      <th>75%</th>\n",
       "      <td>9.832210</td>\n",
       "      <td>10.255843</td>\n",
       "      <td>4.257282</td>\n",
       "      <td>39.899799</td>\n",
       "      <td>549.586552</td>\n",
       "      <td>64.464926</td>\n",
       "      <td>14.929903</td>\n",
       "      <td>6.796632</td>\n",
       "      <td>1292.663971</td>\n",
       "      <td>-299.989315</td>\n",
       "      <td>...</td>\n",
       "      <td>10.367050</td>\n",
       "      <td>46.275153</td>\n",
       "      <td>5.925380</td>\n",
       "      <td>10.981203</td>\n",
       "      <td>11.001573</td>\n",
       "      <td>72.598187</td>\n",
       "      <td>3.614098</td>\n",
       "      <td>11.169187</td>\n",
       "      <td>3.353845</td>\n",
       "      <td>12.130827</td>\n",
       "    </tr>\n",
       "    <tr>\n",
       "      <th>max</th>\n",
       "      <td>13.731330</td>\n",
       "      <td>14.596026</td>\n",
       "      <td>7.052325</td>\n",
       "      <td>53.475325</td>\n",
       "      <td>717.508837</td>\n",
       "      <td>484.967466</td>\n",
       "      <td>36.118275</td>\n",
       "      <td>9.703448</td>\n",
       "      <td>1512.299531</td>\n",
       "      <td>-273.776101</td>\n",
       "      <td>...</td>\n",
       "      <td>26.000772</td>\n",
       "      <td>52.756638</td>\n",
       "      <td>16.001945</td>\n",
       "      <td>16.705297</td>\n",
       "      <td>19.423912</td>\n",
       "      <td>100.000000</td>\n",
       "      <td>8.245022</td>\n",
       "      <td>19.552149</td>\n",
       "      <td>5.804178</td>\n",
       "      <td>22.317730</td>\n",
       "    </tr>\n",
       "  </tbody>\n",
       "</table>\n",
       "<p>8 rows × 86 columns</p>\n",
       "</div>"
      ],
      "text/plain": [
       "       rougher.input.feed_au  rougher.input.feed_ag  rougher.input.feed_pb  \\\n",
       "count           14579.000000           14579.000000           14507.000000   \n",
       "mean                8.352941               8.877460               3.604221   \n",
       "std                 1.934376               1.922536               1.056063   \n",
       "min                 0.010000               0.010000               0.010000   \n",
       "25%                 6.932996               7.341922               2.880490   \n",
       "50%                 8.225284               8.715859               3.532399   \n",
       "75%                 9.832210              10.255843               4.257282   \n",
       "max                13.731330              14.596026               7.052325   \n",
       "\n",
       "       rougher.input.feed_sol  rougher.input.feed_rate  \\\n",
       "count            14502.000000             14572.000000   \n",
       "mean                36.561420               474.332784   \n",
       "std                  5.209823               108.503552   \n",
       "min                  0.010000                 0.002986   \n",
       "25%                 34.093951               411.048483   \n",
       "50%                 37.097511               498.187968   \n",
       "75%                 39.899799               549.586552   \n",
       "max                 53.475325               717.508837   \n",
       "\n",
       "       rougher.input.feed_size  rougher.input.floatbank10_sulfate  \\\n",
       "count             14478.000000                       14548.000000   \n",
       "mean                 58.922712                          12.427399   \n",
       "std                  22.407410                           3.428939   \n",
       "min                   0.049194                           0.001083   \n",
       "25%                  47.278490                          10.002832   \n",
       "50%                  54.361187                          12.003320   \n",
       "75%                  64.464926                          14.929903   \n",
       "max                 484.967466                          36.118275   \n",
       "\n",
       "       rougher.input.floatbank10_xanthate  rougher.state.floatbank10_a_air  \\\n",
       "count                        14572.000000                     14579.000000   \n",
       "mean                             5.994854                      1104.208278   \n",
       "std                              1.152873                       162.235606   \n",
       "min                              0.000568                        -0.042069   \n",
       "25%                              5.304167                       999.644856   \n",
       "50%                              6.003053                      1000.982624   \n",
       "75%                              6.796632                      1292.663971   \n",
       "max                              9.703448                      1512.299531   \n",
       "\n",
       "       rougher.state.floatbank10_a_level  ...  \\\n",
       "count                       14579.000000  ...   \n",
       "mean                         -379.367166  ...   \n",
       "std                            94.652311  ...   \n",
       "min                          -657.949759  ...   \n",
       "25%                          -499.861797  ...   \n",
       "50%                          -300.314199  ...   \n",
       "75%                          -299.989315  ...   \n",
       "max                          -273.776101  ...   \n",
       "\n",
       "       secondary_cleaner.output.tail_sol  final.output.concentrate_au  \\\n",
       "count                       13659.000000                 14579.000000   \n",
       "mean                            7.111347                    43.979499   \n",
       "std                             3.909951                     5.471437   \n",
       "min                             0.000000                     0.000000   \n",
       "25%                             3.784897                    43.345906   \n",
       "50%                             7.629968                    44.975014   \n",
       "75%                            10.367050                    46.275153   \n",
       "max                            26.000772                    52.756638   \n",
       "\n",
       "       final.output.concentrate_ag  final.output.concentrate_pb  \\\n",
       "count                 14578.000000                 14578.000000   \n",
       "mean                      5.192145                     9.923809   \n",
       "std                       1.388014                     1.706976   \n",
       "min                       0.000000                     0.000000   \n",
       "25%                       4.283347                     9.103183   \n",
       "50%                       5.118647                    10.046455   \n",
       "75%                       5.925380                    10.981203   \n",
       "max                      16.001945                    16.705297   \n",
       "\n",
       "       final.output.concentrate_sol  final.output.recovery  \\\n",
       "count                  14387.000000           14579.000000   \n",
       "mean                       9.566676              66.759066   \n",
       "std                        2.805654              10.619709   \n",
       "min                        0.000000               0.000000   \n",
       "25%                        7.860030              63.114596   \n",
       "50%                        9.301970              67.962788   \n",
       "75%                       11.001573              72.598187   \n",
       "max                       19.423912             100.000000   \n",
       "\n",
       "       final.output.tail_au  final.output.tail_ag  final.output.tail_pb  \\\n",
       "count          14579.000000          14578.000000          14504.000000   \n",
       "mean               3.087939              9.731972              2.719985   \n",
       "std                0.915187              2.358143              0.958929   \n",
       "min                0.000000              0.000000              0.000000   \n",
       "25%                2.505287              8.088928              2.036512   \n",
       "50%                3.029238              9.818512              2.774847   \n",
       "75%                3.614098             11.169187              3.353845   \n",
       "max                8.245022             19.552149              5.804178   \n",
       "\n",
       "       final.output.tail_sol  \n",
       "count           14574.000000  \n",
       "mean               10.612745  \n",
       "std                 2.871075  \n",
       "min                 0.000000  \n",
       "25%                 9.013412  \n",
       "50%                10.670515  \n",
       "75%                12.130827  \n",
       "max                22.317730  \n",
       "\n",
       "[8 rows x 86 columns]"
      ]
     },
     "metadata": {},
     "output_type": "display_data"
    },
    {
     "data": {
      "text/html": [
       "<div>\n",
       "<style scoped>\n",
       "    .dataframe tbody tr th:only-of-type {\n",
       "        vertical-align: middle;\n",
       "    }\n",
       "\n",
       "    .dataframe tbody tr th {\n",
       "        vertical-align: top;\n",
       "    }\n",
       "\n",
       "    .dataframe thead th {\n",
       "        text-align: right;\n",
       "    }\n",
       "</style>\n",
       "<table border=\"1\" class=\"dataframe\">\n",
       "  <thead>\n",
       "    <tr style=\"text-align: right;\">\n",
       "      <th></th>\n",
       "      <th>rougher.input.feed_au</th>\n",
       "      <th>rougher.input.feed_ag</th>\n",
       "      <th>rougher.input.feed_pb</th>\n",
       "      <th>rougher.input.feed_sol</th>\n",
       "      <th>rougher.input.feed_rate</th>\n",
       "      <th>rougher.input.feed_size</th>\n",
       "      <th>rougher.input.floatbank10_sulfate</th>\n",
       "      <th>rougher.input.floatbank10_xanthate</th>\n",
       "      <th>rougher.state.floatbank10_a_air</th>\n",
       "      <th>rougher.state.floatbank10_a_level</th>\n",
       "      <th>...</th>\n",
       "      <th>secondary_cleaner.state.floatbank4_a_air</th>\n",
       "      <th>secondary_cleaner.state.floatbank4_a_level</th>\n",
       "      <th>secondary_cleaner.state.floatbank4_b_air</th>\n",
       "      <th>secondary_cleaner.state.floatbank4_b_level</th>\n",
       "      <th>secondary_cleaner.state.floatbank5_a_air</th>\n",
       "      <th>secondary_cleaner.state.floatbank5_a_level</th>\n",
       "      <th>secondary_cleaner.state.floatbank5_b_air</th>\n",
       "      <th>secondary_cleaner.state.floatbank5_b_level</th>\n",
       "      <th>secondary_cleaner.state.floatbank6_a_air</th>\n",
       "      <th>secondary_cleaner.state.floatbank6_a_level</th>\n",
       "    </tr>\n",
       "  </thead>\n",
       "  <tbody>\n",
       "    <tr>\n",
       "      <th>count</th>\n",
       "      <td>4860.000000</td>\n",
       "      <td>4860.000000</td>\n",
       "      <td>4832.000000</td>\n",
       "      <td>4838.000000</td>\n",
       "      <td>4856.000000</td>\n",
       "      <td>4816.000000</td>\n",
       "      <td>4857.000000</td>\n",
       "      <td>4859.000000</td>\n",
       "      <td>4859.000000</td>\n",
       "      <td>4859.000000</td>\n",
       "      <td>...</td>\n",
       "      <td>4.859000e+03</td>\n",
       "      <td>4859.000000</td>\n",
       "      <td>4.859000e+03</td>\n",
       "      <td>4859.000000</td>\n",
       "      <td>4859.000000</td>\n",
       "      <td>4859.000000</td>\n",
       "      <td>4859.000000</td>\n",
       "      <td>4859.000000</td>\n",
       "      <td>4859.000000</td>\n",
       "      <td>4859.000000</td>\n",
       "    </tr>\n",
       "    <tr>\n",
       "      <th>mean</th>\n",
       "      <td>8.005584</td>\n",
       "      <td>8.547348</td>\n",
       "      <td>3.579662</td>\n",
       "      <td>37.095864</td>\n",
       "      <td>490.285103</td>\n",
       "      <td>59.113400</td>\n",
       "      <td>12.055735</td>\n",
       "      <td>6.101308</td>\n",
       "      <td>1108.635895</td>\n",
       "      <td>-368.340127</td>\n",
       "      <td>...</td>\n",
       "      <td>1.985770e+01</td>\n",
       "      <td>-488.665140</td>\n",
       "      <td>1.557025e+01</td>\n",
       "      <td>-464.176507</td>\n",
       "      <td>16.594103</td>\n",
       "      <td>-490.815250</td>\n",
       "      <td>12.945971</td>\n",
       "      <td>-489.583564</td>\n",
       "      <td>19.053888</td>\n",
       "      <td>-504.678924</td>\n",
       "    </tr>\n",
       "    <tr>\n",
       "      <th>std</th>\n",
       "      <td>1.993590</td>\n",
       "      <td>1.958601</td>\n",
       "      <td>1.029377</td>\n",
       "      <td>4.926284</td>\n",
       "      <td>94.371623</td>\n",
       "      <td>19.125122</td>\n",
       "      <td>3.407642</td>\n",
       "      <td>1.042754</td>\n",
       "      <td>156.493143</td>\n",
       "      <td>91.155929</td>\n",
       "      <td>...</td>\n",
       "      <td>5.913105e+00</td>\n",
       "      <td>44.392714</td>\n",
       "      <td>4.927361e+00</td>\n",
       "      <td>65.706994</td>\n",
       "      <td>5.724305</td>\n",
       "      <td>32.258443</td>\n",
       "      <td>5.533176</td>\n",
       "      <td>37.084609</td>\n",
       "      <td>5.548996</td>\n",
       "      <td>38.690186</td>\n",
       "    </tr>\n",
       "    <tr>\n",
       "      <th>min</th>\n",
       "      <td>0.010000</td>\n",
       "      <td>0.010000</td>\n",
       "      <td>0.010000</td>\n",
       "      <td>0.010000</td>\n",
       "      <td>0.012786</td>\n",
       "      <td>0.046369</td>\n",
       "      <td>0.018907</td>\n",
       "      <td>0.015783</td>\n",
       "      <td>300.792494</td>\n",
       "      <td>-600.568138</td>\n",
       "      <td>...</td>\n",
       "      <td>1.079872e-16</td>\n",
       "      <td>-799.704969</td>\n",
       "      <td>2.489718e-17</td>\n",
       "      <td>-799.860767</td>\n",
       "      <td>-0.371498</td>\n",
       "      <td>-797.142475</td>\n",
       "      <td>1.358469</td>\n",
       "      <td>-800.006180</td>\n",
       "      <td>0.160386</td>\n",
       "      <td>-809.734800</td>\n",
       "    </tr>\n",
       "    <tr>\n",
       "      <th>25%</th>\n",
       "      <td>6.574363</td>\n",
       "      <td>6.975898</td>\n",
       "      <td>2.903612</td>\n",
       "      <td>34.510841</td>\n",
       "      <td>434.099695</td>\n",
       "      <td>47.596984</td>\n",
       "      <td>9.890429</td>\n",
       "      <td>5.499808</td>\n",
       "      <td>999.715729</td>\n",
       "      <td>-499.731972</td>\n",
       "      <td>...</td>\n",
       "      <td>1.501123e+01</td>\n",
       "      <td>-500.704004</td>\n",
       "      <td>1.202172e+01</td>\n",
       "      <td>-500.196517</td>\n",
       "      <td>11.073822</td>\n",
       "      <td>-500.483564</td>\n",
       "      <td>9.011890</td>\n",
       "      <td>-500.129913</td>\n",
       "      <td>14.963953</td>\n",
       "      <td>-500.668501</td>\n",
       "    </tr>\n",
       "    <tr>\n",
       "      <th>50%</th>\n",
       "      <td>7.812923</td>\n",
       "      <td>8.179714</td>\n",
       "      <td>3.540772</td>\n",
       "      <td>37.499761</td>\n",
       "      <td>502.118742</td>\n",
       "      <td>55.509481</td>\n",
       "      <td>11.997859</td>\n",
       "      <td>6.099805</td>\n",
       "      <td>1001.414798</td>\n",
       "      <td>-300.181367</td>\n",
       "      <td>...</td>\n",
       "      <td>1.996807e+01</td>\n",
       "      <td>-499.892919</td>\n",
       "      <td>1.501240e+01</td>\n",
       "      <td>-499.540776</td>\n",
       "      <td>16.631195</td>\n",
       "      <td>-499.873136</td>\n",
       "      <td>11.999417</td>\n",
       "      <td>-499.955304</td>\n",
       "      <td>19.960006</td>\n",
       "      <td>-500.033769</td>\n",
       "    </tr>\n",
       "    <tr>\n",
       "      <th>75%</th>\n",
       "      <td>9.556589</td>\n",
       "      <td>10.084339</td>\n",
       "      <td>4.199847</td>\n",
       "      <td>40.461315</td>\n",
       "      <td>555.596563</td>\n",
       "      <td>66.661547</td>\n",
       "      <td>14.496072</td>\n",
       "      <td>6.802101</td>\n",
       "      <td>1202.837565</td>\n",
       "      <td>-299.961547</td>\n",
       "      <td>...</td>\n",
       "      <td>2.498900e+01</td>\n",
       "      <td>-498.652030</td>\n",
       "      <td>1.999949e+01</td>\n",
       "      <td>-400.302329</td>\n",
       "      <td>19.983191</td>\n",
       "      <td>-498.852815</td>\n",
       "      <td>15.004198</td>\n",
       "      <td>-499.643776</td>\n",
       "      <td>24.974583</td>\n",
       "      <td>-499.460134</td>\n",
       "    </tr>\n",
       "    <tr>\n",
       "      <th>max</th>\n",
       "      <td>13.417156</td>\n",
       "      <td>14.533698</td>\n",
       "      <td>7.142594</td>\n",
       "      <td>53.477742</td>\n",
       "      <td>702.523396</td>\n",
       "      <td>363.989699</td>\n",
       "      <td>30.010759</td>\n",
       "      <td>9.396928</td>\n",
       "      <td>1521.980372</td>\n",
       "      <td>-281.039299</td>\n",
       "      <td>...</td>\n",
       "      <td>3.008450e+01</td>\n",
       "      <td>-383.373053</td>\n",
       "      <td>2.398898e+01</td>\n",
       "      <td>-114.250832</td>\n",
       "      <td>33.215996</td>\n",
       "      <td>-288.963521</td>\n",
       "      <td>24.177106</td>\n",
       "      <td>-141.934397</td>\n",
       "      <td>32.028529</td>\n",
       "      <td>-104.427459</td>\n",
       "    </tr>\n",
       "  </tbody>\n",
       "</table>\n",
       "<p>8 rows × 52 columns</p>\n",
       "</div>"
      ],
      "text/plain": [
       "       rougher.input.feed_au  rougher.input.feed_ag  rougher.input.feed_pb  \\\n",
       "count            4860.000000            4860.000000            4832.000000   \n",
       "mean                8.005584               8.547348               3.579662   \n",
       "std                 1.993590               1.958601               1.029377   \n",
       "min                 0.010000               0.010000               0.010000   \n",
       "25%                 6.574363               6.975898               2.903612   \n",
       "50%                 7.812923               8.179714               3.540772   \n",
       "75%                 9.556589              10.084339               4.199847   \n",
       "max                13.417156              14.533698               7.142594   \n",
       "\n",
       "       rougher.input.feed_sol  rougher.input.feed_rate  \\\n",
       "count             4838.000000              4856.000000   \n",
       "mean                37.095864               490.285103   \n",
       "std                  4.926284                94.371623   \n",
       "min                  0.010000                 0.012786   \n",
       "25%                 34.510841               434.099695   \n",
       "50%                 37.499761               502.118742   \n",
       "75%                 40.461315               555.596563   \n",
       "max                 53.477742               702.523396   \n",
       "\n",
       "       rougher.input.feed_size  rougher.input.floatbank10_sulfate  \\\n",
       "count              4816.000000                        4857.000000   \n",
       "mean                 59.113400                          12.055735   \n",
       "std                  19.125122                           3.407642   \n",
       "min                   0.046369                           0.018907   \n",
       "25%                  47.596984                           9.890429   \n",
       "50%                  55.509481                          11.997859   \n",
       "75%                  66.661547                          14.496072   \n",
       "max                 363.989699                          30.010759   \n",
       "\n",
       "       rougher.input.floatbank10_xanthate  rougher.state.floatbank10_a_air  \\\n",
       "count                         4859.000000                      4859.000000   \n",
       "mean                             6.101308                      1108.635895   \n",
       "std                              1.042754                       156.493143   \n",
       "min                              0.015783                       300.792494   \n",
       "25%                              5.499808                       999.715729   \n",
       "50%                              6.099805                      1001.414798   \n",
       "75%                              6.802101                      1202.837565   \n",
       "max                              9.396928                      1521.980372   \n",
       "\n",
       "       rougher.state.floatbank10_a_level  ...  \\\n",
       "count                        4859.000000  ...   \n",
       "mean                         -368.340127  ...   \n",
       "std                            91.155929  ...   \n",
       "min                          -600.568138  ...   \n",
       "25%                          -499.731972  ...   \n",
       "50%                          -300.181367  ...   \n",
       "75%                          -299.961547  ...   \n",
       "max                          -281.039299  ...   \n",
       "\n",
       "       secondary_cleaner.state.floatbank4_a_air  \\\n",
       "count                              4.859000e+03   \n",
       "mean                               1.985770e+01   \n",
       "std                                5.913105e+00   \n",
       "min                                1.079872e-16   \n",
       "25%                                1.501123e+01   \n",
       "50%                                1.996807e+01   \n",
       "75%                                2.498900e+01   \n",
       "max                                3.008450e+01   \n",
       "\n",
       "       secondary_cleaner.state.floatbank4_a_level  \\\n",
       "count                                 4859.000000   \n",
       "mean                                  -488.665140   \n",
       "std                                     44.392714   \n",
       "min                                   -799.704969   \n",
       "25%                                   -500.704004   \n",
       "50%                                   -499.892919   \n",
       "75%                                   -498.652030   \n",
       "max                                   -383.373053   \n",
       "\n",
       "       secondary_cleaner.state.floatbank4_b_air  \\\n",
       "count                              4.859000e+03   \n",
       "mean                               1.557025e+01   \n",
       "std                                4.927361e+00   \n",
       "min                                2.489718e-17   \n",
       "25%                                1.202172e+01   \n",
       "50%                                1.501240e+01   \n",
       "75%                                1.999949e+01   \n",
       "max                                2.398898e+01   \n",
       "\n",
       "       secondary_cleaner.state.floatbank4_b_level  \\\n",
       "count                                 4859.000000   \n",
       "mean                                  -464.176507   \n",
       "std                                     65.706994   \n",
       "min                                   -799.860767   \n",
       "25%                                   -500.196517   \n",
       "50%                                   -499.540776   \n",
       "75%                                   -400.302329   \n",
       "max                                   -114.250832   \n",
       "\n",
       "       secondary_cleaner.state.floatbank5_a_air  \\\n",
       "count                               4859.000000   \n",
       "mean                                  16.594103   \n",
       "std                                    5.724305   \n",
       "min                                   -0.371498   \n",
       "25%                                   11.073822   \n",
       "50%                                   16.631195   \n",
       "75%                                   19.983191   \n",
       "max                                   33.215996   \n",
       "\n",
       "       secondary_cleaner.state.floatbank5_a_level  \\\n",
       "count                                 4859.000000   \n",
       "mean                                  -490.815250   \n",
       "std                                     32.258443   \n",
       "min                                   -797.142475   \n",
       "25%                                   -500.483564   \n",
       "50%                                   -499.873136   \n",
       "75%                                   -498.852815   \n",
       "max                                   -288.963521   \n",
       "\n",
       "       secondary_cleaner.state.floatbank5_b_air  \\\n",
       "count                               4859.000000   \n",
       "mean                                  12.945971   \n",
       "std                                    5.533176   \n",
       "min                                    1.358469   \n",
       "25%                                    9.011890   \n",
       "50%                                   11.999417   \n",
       "75%                                   15.004198   \n",
       "max                                   24.177106   \n",
       "\n",
       "       secondary_cleaner.state.floatbank5_b_level  \\\n",
       "count                                 4859.000000   \n",
       "mean                                  -489.583564   \n",
       "std                                     37.084609   \n",
       "min                                   -800.006180   \n",
       "25%                                   -500.129913   \n",
       "50%                                   -499.955304   \n",
       "75%                                   -499.643776   \n",
       "max                                   -141.934397   \n",
       "\n",
       "       secondary_cleaner.state.floatbank6_a_air  \\\n",
       "count                               4859.000000   \n",
       "mean                                  19.053888   \n",
       "std                                    5.548996   \n",
       "min                                    0.160386   \n",
       "25%                                   14.963953   \n",
       "50%                                   19.960006   \n",
       "75%                                   24.974583   \n",
       "max                                   32.028529   \n",
       "\n",
       "       secondary_cleaner.state.floatbank6_a_level  \n",
       "count                                 4859.000000  \n",
       "mean                                  -504.678924  \n",
       "std                                     38.690186  \n",
       "min                                   -809.734800  \n",
       "25%                                   -500.668501  \n",
       "50%                                   -500.033769  \n",
       "75%                                   -499.460134  \n",
       "max                                   -104.427459  \n",
       "\n",
       "[8 rows x 52 columns]"
      ]
     },
     "metadata": {},
     "output_type": "display_data"
    },
    {
     "data": {
      "text/html": [
       "<div>\n",
       "<style scoped>\n",
       "    .dataframe tbody tr th:only-of-type {\n",
       "        vertical-align: middle;\n",
       "    }\n",
       "\n",
       "    .dataframe tbody tr th {\n",
       "        vertical-align: top;\n",
       "    }\n",
       "\n",
       "    .dataframe thead th {\n",
       "        text-align: right;\n",
       "    }\n",
       "</style>\n",
       "<table border=\"1\" class=\"dataframe\">\n",
       "  <thead>\n",
       "    <tr style=\"text-align: right;\">\n",
       "      <th></th>\n",
       "      <th>rougher.input.feed_au</th>\n",
       "      <th>rougher.input.feed_ag</th>\n",
       "      <th>rougher.input.feed_pb</th>\n",
       "      <th>rougher.input.feed_sol</th>\n",
       "      <th>rougher.input.feed_rate</th>\n",
       "      <th>rougher.input.feed_size</th>\n",
       "      <th>rougher.input.floatbank10_sulfate</th>\n",
       "      <th>rougher.input.floatbank10_xanthate</th>\n",
       "      <th>rougher.state.floatbank10_a_air</th>\n",
       "      <th>rougher.state.floatbank10_a_level</th>\n",
       "      <th>...</th>\n",
       "      <th>secondary_cleaner.output.tail_sol</th>\n",
       "      <th>final.output.concentrate_au</th>\n",
       "      <th>final.output.concentrate_ag</th>\n",
       "      <th>final.output.concentrate_pb</th>\n",
       "      <th>final.output.concentrate_sol</th>\n",
       "      <th>final.output.recovery</th>\n",
       "      <th>final.output.tail_au</th>\n",
       "      <th>final.output.tail_ag</th>\n",
       "      <th>final.output.tail_pb</th>\n",
       "      <th>final.output.tail_sol</th>\n",
       "    </tr>\n",
       "  </thead>\n",
       "  <tbody>\n",
       "    <tr>\n",
       "      <th>count</th>\n",
       "      <td>19439.000000</td>\n",
       "      <td>19439.000000</td>\n",
       "      <td>19339.000000</td>\n",
       "      <td>19340.000000</td>\n",
       "      <td>19428.000000</td>\n",
       "      <td>19294.000000</td>\n",
       "      <td>19405.000000</td>\n",
       "      <td>19431.000000</td>\n",
       "      <td>19438.000000</td>\n",
       "      <td>19438.000000</td>\n",
       "      <td>...</td>\n",
       "      <td>17691.000000</td>\n",
       "      <td>19439.000000</td>\n",
       "      <td>19438.000000</td>\n",
       "      <td>19438.000000</td>\n",
       "      <td>19228.000000</td>\n",
       "      <td>19439.000000</td>\n",
       "      <td>19439.000000</td>\n",
       "      <td>19438.000000</td>\n",
       "      <td>19338.000000</td>\n",
       "      <td>19433.000000</td>\n",
       "    </tr>\n",
       "    <tr>\n",
       "      <th>mean</th>\n",
       "      <td>8.266097</td>\n",
       "      <td>8.794927</td>\n",
       "      <td>3.598085</td>\n",
       "      <td>36.695114</td>\n",
       "      <td>478.320042</td>\n",
       "      <td>58.970310</td>\n",
       "      <td>12.334373</td>\n",
       "      <td>6.021474</td>\n",
       "      <td>1105.315068</td>\n",
       "      <td>-376.610690</td>\n",
       "      <td>...</td>\n",
       "      <td>7.167247</td>\n",
       "      <td>44.076513</td>\n",
       "      <td>5.168470</td>\n",
       "      <td>9.978895</td>\n",
       "      <td>9.501224</td>\n",
       "      <td>67.050208</td>\n",
       "      <td>3.042467</td>\n",
       "      <td>9.688589</td>\n",
       "      <td>2.705795</td>\n",
       "      <td>10.583728</td>\n",
       "    </tr>\n",
       "    <tr>\n",
       "      <th>std</th>\n",
       "      <td>1.955092</td>\n",
       "      <td>1.936847</td>\n",
       "      <td>1.049486</td>\n",
       "      <td>5.145445</td>\n",
       "      <td>105.373758</td>\n",
       "      <td>21.634478</td>\n",
       "      <td>3.427317</td>\n",
       "      <td>1.127263</td>\n",
       "      <td>160.826798</td>\n",
       "      <td>93.909667</td>\n",
       "      <td>...</td>\n",
       "      <td>3.916079</td>\n",
       "      <td>5.129784</td>\n",
       "      <td>1.372348</td>\n",
       "      <td>1.669240</td>\n",
       "      <td>2.787537</td>\n",
       "      <td>10.125840</td>\n",
       "      <td>0.922808</td>\n",
       "      <td>2.328642</td>\n",
       "      <td>0.949077</td>\n",
       "      <td>2.868782</td>\n",
       "    </tr>\n",
       "    <tr>\n",
       "      <th>min</th>\n",
       "      <td>0.010000</td>\n",
       "      <td>0.010000</td>\n",
       "      <td>0.010000</td>\n",
       "      <td>0.010000</td>\n",
       "      <td>0.002986</td>\n",
       "      <td>0.046369</td>\n",
       "      <td>0.001083</td>\n",
       "      <td>0.000568</td>\n",
       "      <td>-0.042069</td>\n",
       "      <td>-657.949759</td>\n",
       "      <td>...</td>\n",
       "      <td>0.000000</td>\n",
       "      <td>0.000000</td>\n",
       "      <td>0.000000</td>\n",
       "      <td>0.000000</td>\n",
       "      <td>0.000000</td>\n",
       "      <td>0.000000</td>\n",
       "      <td>0.000000</td>\n",
       "      <td>0.000000</td>\n",
       "      <td>0.000000</td>\n",
       "      <td>0.000000</td>\n",
       "    </tr>\n",
       "    <tr>\n",
       "      <th>25%</th>\n",
       "      <td>6.854384</td>\n",
       "      <td>7.237967</td>\n",
       "      <td>2.887280</td>\n",
       "      <td>34.207799</td>\n",
       "      <td>416.525453</td>\n",
       "      <td>47.435103</td>\n",
       "      <td>10.000362</td>\n",
       "      <td>5.398678</td>\n",
       "      <td>999.661867</td>\n",
       "      <td>-499.835165</td>\n",
       "      <td>...</td>\n",
       "      <td>3.845475</td>\n",
       "      <td>43.402215</td>\n",
       "      <td>4.251240</td>\n",
       "      <td>9.137262</td>\n",
       "      <td>7.722820</td>\n",
       "      <td>63.299712</td>\n",
       "      <td>2.461138</td>\n",
       "      <td>8.062878</td>\n",
       "      <td>2.040119</td>\n",
       "      <td>8.938947</td>\n",
       "    </tr>\n",
       "    <tr>\n",
       "      <th>50%</th>\n",
       "      <td>8.125839</td>\n",
       "      <td>8.593574</td>\n",
       "      <td>3.534895</td>\n",
       "      <td>37.202650</td>\n",
       "      <td>499.416120</td>\n",
       "      <td>54.610197</td>\n",
       "      <td>12.001174</td>\n",
       "      <td>6.008273</td>\n",
       "      <td>1001.072890</td>\n",
       "      <td>-300.263994</td>\n",
       "      <td>...</td>\n",
       "      <td>7.685827</td>\n",
       "      <td>45.011244</td>\n",
       "      <td>5.066094</td>\n",
       "      <td>10.102433</td>\n",
       "      <td>9.218961</td>\n",
       "      <td>68.172738</td>\n",
       "      <td>2.984909</td>\n",
       "      <td>9.743623</td>\n",
       "      <td>2.748730</td>\n",
       "      <td>10.622456</td>\n",
       "    </tr>\n",
       "    <tr>\n",
       "      <th>75%</th>\n",
       "      <td>9.769917</td>\n",
       "      <td>10.213771</td>\n",
       "      <td>4.244161</td>\n",
       "      <td>40.039133</td>\n",
       "      <td>550.172183</td>\n",
       "      <td>65.023044</td>\n",
       "      <td>14.716595</td>\n",
       "      <td>6.798051</td>\n",
       "      <td>1205.620588</td>\n",
       "      <td>-299.981998</td>\n",
       "      <td>...</td>\n",
       "      <td>10.411296</td>\n",
       "      <td>46.275313</td>\n",
       "      <td>5.895527</td>\n",
       "      <td>11.035769</td>\n",
       "      <td>10.947813</td>\n",
       "      <td>72.686642</td>\n",
       "      <td>3.571351</td>\n",
       "      <td>11.134294</td>\n",
       "      <td>3.333216</td>\n",
       "      <td>12.104271</td>\n",
       "    </tr>\n",
       "    <tr>\n",
       "      <th>max</th>\n",
       "      <td>13.731330</td>\n",
       "      <td>14.596026</td>\n",
       "      <td>7.142594</td>\n",
       "      <td>53.477742</td>\n",
       "      <td>717.508837</td>\n",
       "      <td>484.967466</td>\n",
       "      <td>36.118275</td>\n",
       "      <td>9.703448</td>\n",
       "      <td>1521.980372</td>\n",
       "      <td>-273.776101</td>\n",
       "      <td>...</td>\n",
       "      <td>26.000772</td>\n",
       "      <td>52.756638</td>\n",
       "      <td>16.001945</td>\n",
       "      <td>17.031899</td>\n",
       "      <td>19.615720</td>\n",
       "      <td>100.000000</td>\n",
       "      <td>8.245022</td>\n",
       "      <td>19.552149</td>\n",
       "      <td>5.804178</td>\n",
       "      <td>22.317730</td>\n",
       "    </tr>\n",
       "  </tbody>\n",
       "</table>\n",
       "<p>8 rows × 86 columns</p>\n",
       "</div>"
      ],
      "text/plain": [
       "       rougher.input.feed_au  rougher.input.feed_ag  rougher.input.feed_pb  \\\n",
       "count           19439.000000           19439.000000           19339.000000   \n",
       "mean                8.266097               8.794927               3.598085   \n",
       "std                 1.955092               1.936847               1.049486   \n",
       "min                 0.010000               0.010000               0.010000   \n",
       "25%                 6.854384               7.237967               2.887280   \n",
       "50%                 8.125839               8.593574               3.534895   \n",
       "75%                 9.769917              10.213771               4.244161   \n",
       "max                13.731330              14.596026               7.142594   \n",
       "\n",
       "       rougher.input.feed_sol  rougher.input.feed_rate  \\\n",
       "count            19340.000000             19428.000000   \n",
       "mean                36.695114               478.320042   \n",
       "std                  5.145445               105.373758   \n",
       "min                  0.010000                 0.002986   \n",
       "25%                 34.207799               416.525453   \n",
       "50%                 37.202650               499.416120   \n",
       "75%                 40.039133               550.172183   \n",
       "max                 53.477742               717.508837   \n",
       "\n",
       "       rougher.input.feed_size  rougher.input.floatbank10_sulfate  \\\n",
       "count             19294.000000                       19405.000000   \n",
       "mean                 58.970310                          12.334373   \n",
       "std                  21.634478                           3.427317   \n",
       "min                   0.046369                           0.001083   \n",
       "25%                  47.435103                          10.000362   \n",
       "50%                  54.610197                          12.001174   \n",
       "75%                  65.023044                          14.716595   \n",
       "max                 484.967466                          36.118275   \n",
       "\n",
       "       rougher.input.floatbank10_xanthate  rougher.state.floatbank10_a_air  \\\n",
       "count                        19431.000000                     19438.000000   \n",
       "mean                             6.021474                      1105.315068   \n",
       "std                              1.127263                       160.826798   \n",
       "min                              0.000568                        -0.042069   \n",
       "25%                              5.398678                       999.661867   \n",
       "50%                              6.008273                      1001.072890   \n",
       "75%                              6.798051                      1205.620588   \n",
       "max                              9.703448                      1521.980372   \n",
       "\n",
       "       rougher.state.floatbank10_a_level  ...  \\\n",
       "count                       19438.000000  ...   \n",
       "mean                         -376.610690  ...   \n",
       "std                            93.909667  ...   \n",
       "min                          -657.949759  ...   \n",
       "25%                          -499.835165  ...   \n",
       "50%                          -300.263994  ...   \n",
       "75%                          -299.981998  ...   \n",
       "max                          -273.776101  ...   \n",
       "\n",
       "       secondary_cleaner.output.tail_sol  final.output.concentrate_au  \\\n",
       "count                       17691.000000                 19439.000000   \n",
       "mean                            7.167247                    44.076513   \n",
       "std                             3.916079                     5.129784   \n",
       "min                             0.000000                     0.000000   \n",
       "25%                             3.845475                    43.402215   \n",
       "50%                             7.685827                    45.011244   \n",
       "75%                            10.411296                    46.275313   \n",
       "max                            26.000772                    52.756638   \n",
       "\n",
       "       final.output.concentrate_ag  final.output.concentrate_pb  \\\n",
       "count                 19438.000000                 19438.000000   \n",
       "mean                      5.168470                     9.978895   \n",
       "std                       1.372348                     1.669240   \n",
       "min                       0.000000                     0.000000   \n",
       "25%                       4.251240                     9.137262   \n",
       "50%                       5.066094                    10.102433   \n",
       "75%                       5.895527                    11.035769   \n",
       "max                      16.001945                    17.031899   \n",
       "\n",
       "       final.output.concentrate_sol  final.output.recovery  \\\n",
       "count                  19228.000000           19439.000000   \n",
       "mean                       9.501224              67.050208   \n",
       "std                        2.787537              10.125840   \n",
       "min                        0.000000               0.000000   \n",
       "25%                        7.722820              63.299712   \n",
       "50%                        9.218961              68.172738   \n",
       "75%                       10.947813              72.686642   \n",
       "max                       19.615720             100.000000   \n",
       "\n",
       "       final.output.tail_au  final.output.tail_ag  final.output.tail_pb  \\\n",
       "count          19439.000000          19438.000000          19338.000000   \n",
       "mean               3.042467              9.688589              2.705795   \n",
       "std                0.922808              2.328642              0.949077   \n",
       "min                0.000000              0.000000              0.000000   \n",
       "25%                2.461138              8.062878              2.040119   \n",
       "50%                2.984909              9.743623              2.748730   \n",
       "75%                3.571351             11.134294              3.333216   \n",
       "max                8.245022             19.552149              5.804178   \n",
       "\n",
       "       final.output.tail_sol  \n",
       "count           19433.000000  \n",
       "mean               10.583728  \n",
       "std                 2.868782  \n",
       "min                 0.000000  \n",
       "25%                 8.938947  \n",
       "50%                10.622456  \n",
       "75%                12.104271  \n",
       "max                22.317730  \n",
       "\n",
       "[8 rows x 86 columns]"
      ]
     },
     "metadata": {},
     "output_type": "display_data"
    }
   ],
   "source": [
    "display(train.describe())\n",
    "display(test.describe())\n",
    "display(full.describe())"
   ]
  },
  {
   "cell_type": "markdown",
   "metadata": {},
   "source": [
    "Данные представлены в трёх таблицах: train, test и full.\n",
    "\n",
    "- Все таблицы имеют общий признак date, который представлен в виде строк. Требуется преобразовать его в формат даты для удобной обработки.\n",
    "- Обучающий датасет (train) содержит 14579 строк и 87 столбцов\n",
    "- Тестовый датасет (test) содержит 4860 строк и 53 столбца\n",
    "- Полный датасет (full) объединяет данные из обучающего и тестового датасетов, содержит 19439 строк и также 87 столбцов.\n",
    "- В датасетах присутствуют пропущенные значения\n",
    "- Описания столбцов показывают разброс данных. Например, средние и медианные значения для разных параметров могут сильно различаться"
   ]
  },
  {
   "cell_type": "code",
   "execution_count": 5,
   "metadata": {},
   "outputs": [
    {
     "data": {
      "image/png": "[encoded data removed]",
      "text/plain": [
       "<Figure size 720x432 with 1 Axes>"
      ]
     },
     "metadata": {
      "needs_background": "light"
     },
     "output_type": "display_data"
    }
   ],
   "source": [
    "plt.figure(figsize=(10, 6))\n",
    "sns.set(style=\"whitegrid\")\n",
    "sns.histplot(data=train, x='rougher.output.recovery', bins=50, kde=True, color='skyblue')\n",
    "plt.title('Распределение эффективности обогащения (rougher.output.recovery)', fontsize=15)\n",
    "plt.xlabel('Эффективность обогащения', fontsize=12)\n",
    "plt.ylabel('Частота', fontsize=12)\n",
    "plt.xticks(fontsize=10)\n",
    "plt.yticks(fontsize=10)\n",
    "plt.show()"
   ]
  },
  {
   "cell_type": "markdown",
   "metadata": {},
   "source": [
    "На графике видно, как распределены значения эффективности обогащения (rougher.output.recovery). График имеет нормальное распределение с небольшими отклонениями. Большинство значений сосредоточены вокруг определенного диапазона, что может указывать на некоторую стабильность процесса обогащения. Однако есть небольшой хвост значений с более низкими значениями эффективности."
   ]
  },
  {
   "cell_type": "markdown",
   "metadata": {},
   "source": [
    "### Эффективность обогащения рассчитана правильно. Вычислите её на обучающей выборке для признака rougher.output.recovery. Найдите MAE между вашими расчётами и значением признака. Опишите выводы.\n"
   ]
  },
  {
   "cell_type": "markdown",
   "metadata": {},
   "source": [
    "Формула расчета эффективности обогащения:\n",
    "Recovery= (F×(C−T))/(C×(F−T))×100\n",
    "\n",
    "Где:\n",
    "\n",
    "- C — концентрация целевого металла в концентрате после флотации (rougher.output.concentrate_au);\n",
    "\n",
    "- F — концентрация целевого металла в сырье перед флотацией (rougher.input.feed_au);\n",
    "\n",
    "- T — концентрация целевого металла в отвальных хвостах после флотации (rougher.output.tail_au)."
   ]
  },
  {
   "cell_type": "code",
   "execution_count": 6,
   "metadata": {},
   "outputs": [
    {
     "name": "stdout",
     "output_type": "stream",
     "text": [
      "Mean Absolute Error: 9.83758577644259e-15\n"
     ]
    }
   ],
   "source": [
    "def calculate_recovery(data):\n",
    "    C = data['rougher.output.concentrate_au']\n",
    "    F = data['rougher.input.feed_au']\n",
    "    T = data['rougher.output.tail_au']\n",
    "    \n",
    "    recovery = (C * (F - T)) / (F * (C - T)) * 100\n",
    "    recovery = recovery.replace([np.inf, -np.inf], np.nan)\n",
    "    \n",
    "    return recovery\n",
    "\n",
    "train['recovery_calculated'] = calculate_recovery(train)\n",
    "\n",
    "mask = ~train['rougher.output.recovery'].isna() & ~train['recovery_calculated'].isna()\n",
    "mae = mean_absolute_error(train['rougher.output.recovery'][mask], train['recovery_calculated'][mask])\n",
    "\n",
    "print(f'Mean Absolute Error: {mae}')"
   ]
  },
  {
   "cell_type": "markdown",
   "metadata": {},
   "source": [
    "- Функция calculate_recovery корректно вычисляет эффективность обогащения.\n",
    "- Значение rougher.output.recovery в данных верное, так как наше вычисленное значение практически не отличается от предоставленного.\n",
    "- Расхождение между расчётной эффективностью и значением в данных настолько мало, что его можно считать погрешностью вычислений или округлениями."
   ]
  },
  {
   "cell_type": "markdown",
   "metadata": {},
   "source": [
    "### Признаки не доступные в тестовой выборке "
   ]
  },
  {
   "cell_type": "code",
   "execution_count": 7,
   "metadata": {
    "scrolled": true
   },
   "outputs": [
    {
     "name": "stdout",
     "output_type": "stream",
     "text": [
      "{'final.output.tail_sol', 'rougher.output.tail_ag', 'rougher.calculation.au_pb_ratio', 'rougher.output.concentrate_pb', 'rougher.output.concentrate_sol', 'rougher.output.tail_sol', 'final.output.concentrate_ag', 'rougher.output.tail_pb', 'final.output.concentrate_au', 'rougher.calculation.floatbank10_sulfate_to_au_feed', 'primary_cleaner.output.tail_ag', 'final.output.concentrate_pb', 'secondary_cleaner.output.tail_au', 'primary_cleaner.output.concentrate_pb', 'final.output.tail_au', 'rougher.output.concentrate_au', 'primary_cleaner.output.tail_au', 'rougher.output.concentrate_ag', 'final.output.tail_pb', 'rougher.calculation.floatbank11_sulfate_to_au_feed', 'primary_cleaner.output.concentrate_sol', 'secondary_cleaner.output.tail_pb', 'final.output.tail_ag', 'rougher.output.recovery', 'primary_cleaner.output.concentrate_au', 'recovery_calculated', 'primary_cleaner.output.tail_pb', 'primary_cleaner.output.tail_sol', 'primary_cleaner.output.concentrate_ag', 'rougher.calculation.sulfate_to_au_concentrate', 'rougher.output.tail_au', 'secondary_cleaner.output.tail_ag', 'secondary_cleaner.output.tail_sol', 'final.output.recovery', 'final.output.concentrate_sol'}\n"
     ]
    }
   ],
   "source": [
    "missing_columns = set(train.columns) - set(test.columns)\n",
    "print(missing_columns)"
   ]
  },
  {
   "cell_type": "markdown",
   "metadata": {},
   "source": [
    "На основе предоставленного списка признаков, которые отсутствуют в тестовой выборке, можно выделить следующие категории:\n",
    "\n",
    "Output parameters of the product: Параметры продукции при выходе. Эти признаки описывают качество и характеристики продукции на разных этапах обработки. Примеры таких признаков:\n",
    "\n",
    "- 'primary_cleaner.output.concentrate_ag'\n",
    "- 'final.output.concentrate_sol'\n",
    "- 'rougher.output.tail_pb'\n",
    "\n",
    "Calculated characteristics: Расчетные характеристики - эти признаки, скорее всего, были рассчитаны на основе других параметров и описывают отношения между различными характеристиками продукции или сырья. Примеры:\n",
    "\n",
    "- 'rougher.calculation.floatbank11_sulfate_to_au_feed'\n",
    "- 'rougher.calculation.floatbank10_sulfate_to_au_feed'\n",
    "- 'rougher.calculation.sulfate_to_au_concentrate'\n",
    "- 'rougher.calculation.au_pb_ratio'\n",
    "\n",
    "Пользовательские признаки (Custom features): Это те признаки, которые,  были добавлены позже для анализа или других целей. Пример:\n",
    "\n",
    "- 'recovery_calculated' (Это наш рассчитанный признак эффективности обогащения).\n",
    "\n",
    "**Возможная причина почему эти признаки могут отсутствовать в тестовой выборке:**\n",
    "\n",
    "Сбор данных в реальном времени: В реальной производственной среде некоторые параметры, такие как концентрация металла после определенного этапа обогащения, могут быть измерены или рассчитаны только после завершения процесса. Таким образом, во время тестирования эти данные еще не доступны.\n"
   ]
  },
  {
   "cell_type": "markdown",
   "metadata": {},
   "source": [
    "### Проведите предобработку данных"
   ]
  },
  {
   "cell_type": "code",
   "execution_count": 8,
   "metadata": {
    "scrolled": true
   },
   "outputs": [
    {
     "name": "stdout",
     "output_type": "stream",
     "text": [
      "                                                    Total Missing  \\\n",
      "secondary_cleaner.output.tail_sol                             920   \n",
      "rougher.state.floatbank10_e_air                               429   \n",
      "rougher.input.floatbank11_xanthate                            407   \n",
      "primary_cleaner.output.concentrate_sol                        265   \n",
      "final.output.concentrate_sol                                  192   \n",
      "rougher.input.feed_size                                       101   \n",
      "secondary_cleaner.state.floatbank2_a_air                       94   \n",
      "primary_cleaner.output.concentrate_pb                          88   \n",
      "rougher.input.feed_sol                                         77   \n",
      "final.output.tail_pb                                           75   \n",
      "rougher.input.feed_pb                                          72   \n",
      "primary_cleaner.input.xanthate                                 61   \n",
      "primary_cleaner.output.tail_sol                                45   \n",
      "rougher.input.floatbank11_sulfate                              36   \n",
      "rougher.input.floatbank10_sulfate                              31   \n",
      "primary_cleaner.input.depressant                               28   \n",
      "primary_cleaner.input.sulfate                                  23   \n",
      "secondary_cleaner.state.floatbank2_b_air                       22   \n",
      "rougher.output.concentrate_sol                                 18   \n",
      "secondary_cleaner.state.floatbank3_a_air                       12   \n",
      "rougher.input.floatbank10_xanthate                              7   \n",
      "rougher.input.feed_rate                                         7   \n",
      "primary_cleaner.output.tail_pb                                  6   \n",
      "final.output.tail_sol                                           5   \n",
      "secondary_cleaner.state.floatbank4_a_air                        5   \n",
      "primary_cleaner.output.tail_ag                                  4   \n",
      "secondary_cleaner.output.tail_pb                                4   \n",
      "primary_cleaner.state.floatbank8_b_air                          3   \n",
      "primary_cleaner.state.floatbank8_a_air                          3   \n",
      "rougher.output.tail_ag                                          1   \n",
      "primary_cleaner.state.floatbank8_d_air                          1   \n",
      "secondary_cleaner.state.floatbank6_a_air                        1   \n",
      "rougher.calculation.sulfate_to_au_concentrate                   1   \n",
      "final.output.tail_ag                                            1   \n",
      "final.output.concentrate_pb                                     1   \n",
      "final.output.concentrate_ag                                     1   \n",
      "secondary_cleaner.output.tail_ag                                1   \n",
      "rougher.calculation.floatbank11_sulfate_to_au_feed              1   \n",
      "rougher.calculation.floatbank10_sulfate_to_au_feed              1   \n",
      "\n",
      "                                                    Percent Missing  \n",
      "secondary_cleaner.output.tail_sol                          6.310447  \n",
      "rougher.state.floatbank10_e_air                            2.942589  \n",
      "rougher.input.floatbank11_xanthate                         2.791687  \n",
      "primary_cleaner.output.concentrate_sol                     1.817683  \n",
      "final.output.concentrate_sol                               1.316963  \n",
      "rougher.input.feed_size                                    0.692777  \n",
      "secondary_cleaner.state.floatbank2_a_air                   0.644763  \n",
      "primary_cleaner.output.concentrate_pb                      0.603608  \n",
      "rougher.input.feed_sol                                     0.528157  \n",
      "final.output.tail_pb                                       0.514439  \n",
      "rougher.input.feed_pb                                      0.493861  \n",
      "primary_cleaner.input.xanthate                             0.418410  \n",
      "primary_cleaner.output.tail_sol                            0.308663  \n",
      "rougher.input.floatbank11_sulfate                          0.246931  \n",
      "rougher.input.floatbank10_sulfate                          0.212635  \n",
      "primary_cleaner.input.depressant                           0.192057  \n",
      "primary_cleaner.input.sulfate                              0.157761  \n",
      "secondary_cleaner.state.floatbank2_b_air                   0.150902  \n",
      "rougher.output.concentrate_sol                             0.123465  \n",
      "secondary_cleaner.state.floatbank3_a_air                   0.082310  \n",
      "rougher.input.floatbank10_xanthate                         0.048014  \n",
      "rougher.input.feed_rate                                    0.048014  \n",
      "primary_cleaner.output.tail_pb                             0.041155  \n",
      "final.output.tail_sol                                      0.034296  \n",
      "secondary_cleaner.state.floatbank4_a_air                   0.034296  \n",
      "primary_cleaner.output.tail_ag                             0.027437  \n",
      "secondary_cleaner.output.tail_pb                           0.027437  \n",
      "primary_cleaner.state.floatbank8_b_air                     0.020578  \n",
      "primary_cleaner.state.floatbank8_a_air                     0.020578  \n",
      "rougher.output.tail_ag                                     0.006859  \n",
      "primary_cleaner.state.floatbank8_d_air                     0.006859  \n",
      "secondary_cleaner.state.floatbank6_a_air                   0.006859  \n",
      "rougher.calculation.sulfate_to_au_concentrate              0.006859  \n",
      "final.output.tail_ag                                       0.006859  \n",
      "final.output.concentrate_pb                                0.006859  \n",
      "final.output.concentrate_ag                                0.006859  \n",
      "secondary_cleaner.output.tail_ag                           0.006859  \n",
      "rougher.calculation.floatbank11_sulfate_to_au_feed         0.006859  \n",
      "rougher.calculation.floatbank10_sulfate_to_au_feed         0.006859  \n"
     ]
    }
   ],
   "source": [
    "def missing_percentage(data):\n",
    "    total_missing = data.isnull().sum().sort_values(ascending=False)\n",
    "    percent_missing = (total_missing / len(data)) * 100\n",
    "    missing_data = pd.concat([total_missing, percent_missing], axis=1, keys=['Total Missing', 'Percent Missing'])\n",
    "    missing_data = missing_data[missing_data['Total Missing'] > 0]\n",
    "    return missing_data\n",
    "\n",
    "missing_data_percentage = missing_percentage(train)\n",
    "print(missing_data_percentage)"
   ]
  },
  {
   "cell_type": "code",
   "execution_count": 9,
   "metadata": {},
   "outputs": [
    {
     "name": "stdout",
     "output_type": "stream",
     "text": [
      "recovery_calculated                 1.000000\n",
      "rougher.output.recovery             1.000000\n",
      "rougher.output.concentrate_ag       0.708299\n",
      "rougher.output.concentrate_sol      0.664643\n",
      "rougher.output.concentrate_au       0.655565\n",
      "                                      ...   \n",
      "secondary_cleaner.output.tail_au   -0.131354\n",
      "primary_cleaner.output.tail_au     -0.163719\n",
      "rougher.output.tail_ag             -0.207412\n",
      "rougher.output.tail_pb             -0.277747\n",
      "rougher.output.tail_au             -0.332506\n",
      "Name: recovery_calculated, Length: 87, dtype: float64\n"
     ]
    }
   ],
   "source": [
    "correlation_matrix = train.corr()\n",
    "correlation_with_target = correlation_matrix['recovery_calculated'].sort_values(ascending=False)\n",
    "print(correlation_with_target)"
   ]
  },
  {
   "cell_type": "markdown",
   "metadata": {},
   "source": [
    "train = train.dropna()\n",
    "train.isna().mean()\n",
    "test = test.dropna()\n",
    "test.isna().mean()\n",
    "full = full.dropna()\n",
    "full.isna().mean()"
   ]
  },
  {
   "cell_type": "markdown",
   "metadata": {},
   "source": [
    "Признаки,recovery_calculated и rougher.output.recovery имеют корреляцию равную.\n",
    "\n",
    "Признаки, такие как rougher.output.concentrate_ag, rougher.output.concentrate_sol, и rougher.output.concentrate_au, имеют высокую положительную корреляцию с рассчитанным показателем обогащения, т.е. при увеличении концентрации этих металлов эффективность обогащения также увеличивается.\n",
    "\n",
    "Признаки, такие как rougher.output.tail_au и rougher.output.tail_pb, имеют отрицательную корреляцию. При увеличении содержания данных элементов в хвостах, эффективность обогащения уменьшается."
   ]
  },
  {
   "cell_type": "code",
   "execution_count": 10,
   "metadata": {},
   "outputs": [],
   "source": [
    "# Удалляю признаки где более 5% количеством пропусков \n",
    "cols_to_drop = [col for col in missing_data_percentage[missing_data_percentage['Percent Missing'] > 5].index if col in train.columns]\n",
    "train = train.drop(columns=cols_to_drop)\n",
    "\n",
    "# Заполнение пропусков интерполяцией\n",
    "train = train.interpolate(method='ffill')\n",
    "test = test.interpolate(method='ffill')\n",
    "full = full.interpolate(method='ffill')\n",
    "# Если после остались пропуски заполним средним\n",
    "remaining_na_cols = train.columns[train.isna().any()].tolist()\n",
    "for col in remaining_na_cols:\n",
    "    mean_val = train[col].mean()\n",
    "    train[col] = train[col].fillna(mean_val)"
   ]
  },
  {
   "cell_type": "code",
   "execution_count": 11,
   "metadata": {},
   "outputs": [
    {
     "data": {
      "text/plain": [
       "date                      0.0\n",
       "rougher.input.feed_au     0.0\n",
       "rougher.input.feed_ag     0.0\n",
       "rougher.input.feed_pb     0.0\n",
       "rougher.input.feed_sol    0.0\n",
       "                         ... \n",
       "final.output.tail_au      0.0\n",
       "final.output.tail_ag      0.0\n",
       "final.output.tail_pb      0.0\n",
       "final.output.tail_sol     0.0\n",
       "recovery_calculated       0.0\n",
       "Length: 87, dtype: float64"
      ]
     },
     "execution_count": 11,
     "metadata": {},
     "output_type": "execute_result"
    }
   ],
   "source": [
    "train.dropna(subset=['rougher.output.concentrate_au', 'rougher.input.feed_au',\n",
    "                                   'rougher.output.tail_au','rougher.output.recovery'], inplace=True)\n",
    "train.isna().mean()"
   ]
  },
  {
   "cell_type": "code",
   "execution_count": 12,
   "metadata": {},
   "outputs": [
    {
     "name": "stdout",
     "output_type": "stream",
     "text": [
      "(14579, 87)\n",
      "(4860, 53)\n",
      "(19439, 87)\n"
     ]
    }
   ],
   "source": [
    "print(train.shape)\n",
    "print(test.shape)\n",
    "print(full.shape)"
   ]
  },
  {
   "cell_type": "markdown",
   "metadata": {
    "scrolled": true
   },
   "source": [
    "scaler = StandardScaler()\n",
    "train.drop(columns=['date'], errors='ignore')\n",
    "test.drop(columns=['date'], errors='ignore')"
   ]
  },
  {
   "cell_type": "markdown",
   "metadata": {},
   "source": [
    "**Выводы**\n",
    "В данных присутствуют пропущенные значения\n",
    "По описательной статистике видно разнообразие значений признаков, и некоторые признаки могут иметь выбросы или необычные значения.\n",
    "Некоторые признаки могут быть важными для предсказания целевых переменных, а некоторые могут быть менее значимыми или даже неинформативными."
   ]
  },
  {
   "cell_type": "code",
   "execution_count": 13,
   "metadata": {},
   "outputs": [
    {
     "name": "stdout",
     "output_type": "stream",
     "text": [
      "Высококоррелированные признаки обнаружены:\n",
      "{'secondary_cleaner.state.floatbank3_b_level', 'rougher.state.floatbank10_f_level', 'primary_cleaner.state.floatbank8_c_air', 'rougher.state.floatbank10_e_air', 'rougher.input.feed_ag', 'secondary_cleaner.state.floatbank5_a_level', 'secondary_cleaner.state.floatbank3_b_air', 'secondary_cleaner.state.floatbank5_b_air', 'secondary_cleaner.state.floatbank4_b_air', 'rougher.state.floatbank10_d_level', 'rougher.state.floatbank10_f_air', 'primary_cleaner.state.floatbank8_c_level', 'rougher.input.floatbank11_sulfate', 'secondary_cleaner.state.floatbank5_a_air', 'rougher.state.floatbank10_e_level', 'rougher.state.floatbank10_d_air', 'secondary_cleaner.state.floatbank2_b_level', 'secondary_cleaner.state.floatbank5_b_level', 'primary_cleaner.state.floatbank8_b_air', 'rougher.state.floatbank10_c_level', 'secondary_cleaner.state.floatbank2_b_air', 'primary_cleaner.state.floatbank8_d_level', 'rougher.state.floatbank10_c_air', 'primary_cleaner.state.floatbank8_b_level', 'rougher.input.floatbank11_xanthate'}\n"
     ]
    }
   ],
   "source": [
    "correlation_matrix = test.corr()\n",
    "\n",
    "\n",
    "highly_correlated = set()\n",
    "\n",
    "for i in range(len(correlation_matrix.columns)):\n",
    "    for j in range(i):\n",
    "        if abs(correlation_matrix.iloc[i, j]) > 0.7:\n",
    "            colname = correlation_matrix.columns[i]\n",
    "            highly_correlated.add(colname)\n",
    "\n",
    "if highly_correlated:\n",
    "    print(\"Высококоррелированные признаки обнаружены:\")\n",
    "    print(highly_correlated)\n",
    "else:\n",
    "    print(\"Высококоррелированных признаков не найдено.\")"
   ]
  },
  {
   "cell_type": "code",
   "execution_count": 14,
   "metadata": {},
   "outputs": [
    {
     "name": "stdout",
     "output_type": "stream",
     "text": [
      "Высококоррелированные признаки обнаружены:\n",
      "{'rougher.output.tail_ag', 'secondary_cleaner.state.floatbank3_b_level', 'rougher.state.floatbank10_f_level', 'rougher.output.concentrate_sol', 'primary_cleaner.state.floatbank8_c_air', 'rougher.output.tail_pb', 'rougher.state.floatbank10_e_air', 'rougher.input.feed_ag', 'secondary_cleaner.state.floatbank5_a_level', 'secondary_cleaner.state.floatbank3_b_air', 'secondary_cleaner.state.floatbank5_b_air', 'secondary_cleaner.state.floatbank4_b_air', 'rougher.state.floatbank10_d_level', 'rougher.state.floatbank10_f_air', 'primary_cleaner.state.floatbank8_c_level', 'rougher.input.floatbank11_sulfate', 'secondary_cleaner.state.floatbank5_a_air', 'rougher.state.floatbank10_e_level', 'rougher.state.floatbank10_d_air', 'secondary_cleaner.state.floatbank2_b_level', 'secondary_cleaner.state.floatbank5_b_level', 'final.output.tail_pb', 'primary_cleaner.state.floatbank8_b_air', 'rougher.calculation.floatbank11_sulfate_to_au_feed', 'primary_cleaner.output.concentrate_sol', 'final.output.tail_ag', 'rougher.output.recovery', 'recovery_calculated', 'primary_cleaner.output.tail_pb', 'rougher.state.floatbank10_c_level', 'secondary_cleaner.state.floatbank2_b_air', 'rougher.input.feed_pb', 'rougher.state.floatbank10_c_air', 'primary_cleaner.state.floatbank8_b_level', 'rougher.input.floatbank11_xanthate'}\n"
     ]
    }
   ],
   "source": [
    "correlation_matrix = train.corr()\n",
    "\n",
    "highly_correlated = set()\n",
    "\n",
    "for i in range(len(correlation_matrix.columns)):\n",
    "    for j in range(i):\n",
    "        if abs(correlation_matrix.iloc[i, j]) > 0.7:\n",
    "            colname = correlation_matrix.columns[i]\n",
    "            highly_correlated.add(colname)\n",
    "\n",
    "if highly_correlated:\n",
    "    print(\"Высококоррелированные признаки обнаружены:\")\n",
    "    print(highly_correlated)\n",
    "else:\n",
    "    print(\"Высококоррелированных признаков не найдено.\")"
   ]
  },
  {
   "cell_type": "markdown",
   "metadata": {},
   "source": [
    "train = train.drop(columns=missing_columns, errors='ignore')"
   ]
  },
  {
   "cell_type": "markdown",
   "metadata": {},
   "source": [
    "## Анализ данных"
   ]
  },
  {
   "cell_type": "markdown",
   "metadata": {},
   "source": [
    "###  Посмотрите, как меняется концентрация металлов (Au, Ag, Pb) на различных этапах: в сырье, в черновом концентрате, в концентрате после первой очистки и в финальном концентрате. Какие особенности имеют распределения? Опишите выводы."
   ]
  },
  {
   "cell_type": "code",
   "execution_count": 15,
   "metadata": {
    "scrolled": true
   },
   "outputs": [
    {
     "data": {
      "image/png": "[encoded data removed]",
      "text/plain": [
       "<Figure size 1080x576 with 1 Axes>"
      ]
     },
     "metadata": {},
     "output_type": "display_data"
    }
   ],
   "source": [
    "metal_columns = ['rougher.input.feed_au', 'rougher.output.concentrate_au', 'primary_cleaner.output.concentrate_au', 'final.output.concentrate_au',\n",
    "                 'rougher.input.feed_ag', 'rougher.output.concentrate_ag', 'primary_cleaner.output.concentrate_ag', 'final.output.concentrate_ag',\n",
    "                 'rougher.input.feed_pb', 'rougher.output.concentrate_pb', 'primary_cleaner.output.concentrate_pb', 'final.output.concentrate_pb']\n",
    "\n",
    "metal_concentration = train[metal_columns]\n",
    "\n",
    "plt.figure(figsize=(15, 8))\n",
    "sns.boxplot(data=metal_concentration, orient='h')\n",
    "plt.title('Распределение концентрации металлов на различных этапах')\n",
    "plt.xlabel('Концентрация')\n",
    "plt.ylabel('Этап и металл')\n",
    "plt.yticks(range(len(metal_columns)), ['Сырье Au', 'Черновой Au', 'Первая очистка Au', 'Финальный Au',\n",
    "                                      'Сырье Ag', 'Черновой Ag', 'Первая очистка Ag', 'Финальный Ag',\n",
    "                                      'Сырье Pb', 'Черновой Pb', 'Первая очистка Pb', 'Финальный Pb'])\n",
    "plt.show()\n"
   ]
  },
  {
   "cell_type": "code",
   "execution_count": 16,
   "metadata": {},
   "outputs": [
    {
     "data": {
      "image/png": "[encoded data removed]",
      "text/plain": [
       "<Figure size 1080x576 with 1 Axes>"
      ]
     },
     "metadata": {},
     "output_type": "display_data"
    }
   ],
   "source": [
    "metals = ['au', 'ag', 'pb']\n",
    "stages = ['rougher.input.feed_', 'rougher.output.concentrate_', 'primary_cleaner.output.concentrate_', 'final.output.concentrate_']\n",
    "\n",
    "plt.figure(figsize=(15, 8))\n",
    "\n",
    "for metal in metals:\n",
    "    cols = [stage + metal for stage in stages]\n",
    "    sns.boxplot(data=train[cols], orient='h').set(xlabel='Концентрация', ylabel='Этап и металл')\n",
    "\n",
    "plt.show()"
   ]
  },
  {
   "cell_type": "markdown",
   "metadata": {},
   "source": [
    "###   Сравните распределения размеров гранул исходного сырья на обучающей и тестовой выборках. Если распределения сильно отличаются друг от друга, оценка модели будет неправильной."
   ]
  },
  {
   "cell_type": "code",
   "execution_count": 17,
   "metadata": {},
   "outputs": [
    {
     "data": {
      "image/png": "[encoded data removed]",
      "text/plain": [
       "<Figure size 720x432 with 1 Axes>"
      ]
     },
     "metadata": {},
     "output_type": "display_data"
    }
   ],
   "source": [
    "plt.figure(figsize=(10, 6))\n",
    "sns.kdeplot(train['rougher.input.feed_size'], label='Обучающая выборка')\n",
    "sns.kdeplot(test['rougher.input.feed_size'], label='Тестовая выборка')\n",
    "plt.title('Распределение размеров гранул исходного сырья')\n",
    "plt.xlabel('Размер гранул')\n",
    "plt.ylabel('Плотность')\n",
    "plt.legend()\n",
    "plt.show()"
   ]
  },
  {
   "cell_type": "markdown",
   "metadata": {},
   "source": [
    "### Исследуйте суммарную концентрацию металлов на разных стадиях: в сырье, в черновом концентрате, в концентрате после первой очистки и в финальном концентрате."
   ]
  },
  {
   "cell_type": "code",
   "execution_count": 18,
   "metadata": {},
   "outputs": [
    {
     "data": {
      "image/png": "[encoded data removed]",
      "text/plain": [
       "<Figure size 720x432 with 1 Axes>"
      ]
     },
     "metadata": {},
     "output_type": "display_data"
    }
   ],
   "source": [
    "sum_columns = ['rougher.input.feed_', 'rougher.output.concentrate_', 'primary_cleaner.output.concentrate_', 'final.output.concentrate_']\n",
    "\n",
    "for col in sum_columns:\n",
    "    train[col + 'sum'] = train[[col + metal for metal in metals]].sum(axis=1)\n",
    "\n",
    "plt.figure(figsize=(10, 6))\n",
    "sns.boxplot(data=train[[col + 'sum' for col in sum_columns]])\n",
    "plt.title('Суммарная концентрация металлов на разных стадиях')\n",
    "plt.xticks(range(len(sum_columns)), ['Сырье', 'Черновой', 'Первая очистка', 'Финальный'])\n",
    "plt.xlabel('Этап')\n",
    "plt.ylabel('Суммарная концентрация металлов')\n",
    "plt.show()"
   ]
  },
  {
   "cell_type": "code",
   "execution_count": 19,
   "metadata": {
    "scrolled": true
   },
   "outputs": [
    {
     "name": "stdout",
     "output_type": "stream",
     "text": [
      "       rougher.input.feed_sum  rougher.output.concentrate_sum  \\\n",
      "count            14579.000000                    14579.000000   \n",
      "mean                20.822495                       39.160677   \n",
      "std                  4.473493                        7.612800   \n",
      "min                  0.030000                        0.000000   \n",
      "25%                 17.437178                       38.408945   \n",
      "50%                 20.391557                       40.387044   \n",
      "75%                 23.958572                       42.448805   \n",
      "max                 33.324268                       55.568687   \n",
      "\n",
      "       primary_cleaner.output.concentrate_sum  final.output.concentrate_sum  \n",
      "count                            14579.000000                  14579.000000  \n",
      "mean                                50.207766                     59.095246  \n",
      "std                                  8.083385                      6.610075  \n",
      "min                                  0.000000                      0.000000  \n",
      "25%                                 50.038413                     59.274984  \n",
      "50%                                 51.884783                     60.283034  \n",
      "75%                                 53.355726                     61.068067  \n",
      "max                                 60.269003                     64.968881  \n"
     ]
    }
   ],
   "source": [
    "sum_concentration_df = train[['rougher.input.feed_sum', 'rougher.output.concentrate_sum', 'primary_cleaner.output.concentrate_sum', 'final.output.concentrate_sum']]\n",
    "print(sum_concentration_df.describe())"
   ]
  },
  {
   "cell_type": "markdown",
   "metadata": {},
   "source": [
    "**Анализ изменения концентрации металлов на разных этапах**\n",
    "\n",
    "- Концентрация золота (Au) повышается на каждом этапе процесса обработки\n",
    "- Концентрация серебра (Ag) увеличивается на начальных этапах, затем она остается примерно на одном уровне\n",
    "- Концентрация свинца (Pb) снижается на начальных этапах, но после первой очистки начинает повышаться, достигая наибольшего значения на финальном этапе.\n",
    "\n",
    "**Сравнение распределений размеров гранул исходного сырья на обучающей и тестовой выборках** \n",
    "\n",
    "- Распределения размеров гранул исходного сырья в обучающей и тестовой выборках практически идентичны\n",
    "\n",
    "**Исследование суммарной концентрации металлов на разных стадиях**\n",
    "\n",
    "- Суммарная концентрация металлов (золота, серебра, свинца) на разных стадиях процесса обработки варьируется\n",
    "- Сырье имеет более низкую суммарную концентрацию металлов, чем черновой концентрат и постепенно повышается на этапах первой очистки\n"
   ]
  },
  {
   "cell_type": "code",
   "execution_count": 20,
   "metadata": {},
   "outputs": [],
   "source": [
    "Q1 = sum_concentration_df.quantile(0.25)\n",
    "Q3 = sum_concentration_df.quantile(0.75)\n",
    "IQR = Q3 - Q1\n",
    "\n",
    "mask = ~((sum_concentration_df < (Q1 - 1.5 * IQR)) | (sum_concentration_df > (Q3 + 1.5 * IQR))).any(axis=1)\n",
    "common_indices = sum_concentration_df[mask].index\n",
    "train_cleaned = train[train.index.isin(common_indices)]\n",
    "test_cleaned = test[test.index.isin(common_indices)]"
   ]
  },
  {
   "cell_type": "markdown",
   "metadata": {},
   "source": [
    "## Модель"
   ]
  },
  {
   "cell_type": "markdown",
   "metadata": {},
   "source": [
    "Создание новых признаков: суммарная концентрация металлов на каждом этапе"
   ]
  },
  {
   "cell_type": "code",
   "execution_count": 21,
   "metadata": {},
   "outputs": [],
   "source": [
    "stages = ['rougher.input.feed', 'rougher.output.concentrate', 'primary_cleaner.output.concentrate', 'final.output.concentrate']\n",
    "metals = ['au', 'ag', 'pb']\n",
    "\n",
    "for stage in stages:\n",
    "    train[f'{stage}_sum'] = sum([train[f'{stage}_{metal}'] for metal in metals])"
   ]
  },
  {
   "cell_type": "markdown",
   "metadata": {},
   "source": [
    "Извлекла дополнительную информацию из данных, которая может помочь модели лучше понять зависимости и улучшить прогнозирование."
   ]
  },
  {
   "cell_type": "markdown",
   "metadata": {},
   "source": [
    "###  Напишите функцию для вычисления итоговой sMAPE."
   ]
  },
  {
   "cell_type": "code",
   "execution_count": 22,
   "metadata": {},
   "outputs": [],
   "source": [
    "def sMAPE(y_true, y_pred):\n",
    "    epsilon = 1e-10\n",
    "    return 100 * np.mean(2 * np.abs(y_pred - y_true) / (np.abs(y_pred) + np.abs(y_true) + epsilon))\n",
    "def final_sMAPE(y_true, y_pred):\n",
    "    y_true = np.array(y_true)\n",
    "    y_pred = np.array(y_pred)\n",
    "    \n",
    "    smape_rougher = sMAPE(y_true[:, 0], y_pred[:, 0])\n",
    "    smape_final = sMAPE(y_true[:, 1], y_pred[:, 1])\n",
    "    \n",
    "    return 0.25 * smape_rougher + 0.75 * smape_final\n",
    "\n"
   ]
  },
  {
   "cell_type": "markdown",
   "metadata": {},
   "source": [
    "### Обучите разные модели и оцените их качество кросс-валидацией. Выберите лучшую модель и проверьте её на тестовой выборке. Опишите выводы."
   ]
  },
  {
   "cell_type": "code",
   "execution_count": 23,
   "metadata": {},
   "outputs": [],
   "source": [
    "test = test.merge(full[['rougher.output.recovery', 'final.output.recovery', 'date']], \n",
    "                  how='left', on='date')\n",
    "\n",
    "common_features = train.columns.intersection(test.columns)\n",
    "for item in ['rougher.output.recovery', 'final.output.recovery']:\n",
    "    if item in common_features:\n",
    "        common_features = common_features.drop(item)\n",
    "\n",
    "features_train = train[common_features]\n",
    "target_train = train[['rougher.output.recovery', 'final.output.recovery']]\n",
    "\n",
    "features_test = test[common_features]\n",
    "target_test = test[['rougher.output.recovery', 'final.output.recovery']]\n",
    "\n",
    "\n",
    "if 'date' in features_train.columns:\n",
    "    features_train = features_train.drop(columns=['date'])\n",
    "if 'date' in features_test.columns:\n",
    "    features_test = features_test.drop(columns=['date'])\n"
   ]
  },
  {
   "cell_type": "code",
   "execution_count": 24,
   "metadata": {},
   "outputs": [],
   "source": [
    "train_filtered = train[common_features]\n",
    "target = train[['rougher.output.recovery', 'final.output.recovery']]\n",
    "\n",
    "if 'date' in train_filtered.columns:\n",
    "    train_filtered = train_filtered.drop(columns=['date'])"
   ]
  },
  {
   "cell_type": "code",
   "execution_count": 25,
   "metadata": {},
   "outputs": [
    {
     "name": "stdout",
     "output_type": "stream",
     "text": [
      "(14579, 91)\n",
      "(14579, 52)\n",
      "(14579, 2)\n",
      "(4860, 55)\n",
      "(4860, 52)\n",
      "(4860, 2)\n",
      "(19439, 87)\n"
     ]
    }
   ],
   "source": [
    "print(train.shape)\n",
    "print(features_train.shape)\n",
    "print(target_train.shape)\n",
    "\n",
    "print(test.shape)\n",
    "print(features_test.shape)\n",
    "print(target_test.shape)\n",
    "print(full.shape)"
   ]
  },
  {
   "cell_type": "code",
   "execution_count": 26,
   "metadata": {},
   "outputs": [],
   "source": [
    "model_tree = DecisionTreeRegressor(random_state=42)\n",
    "model_forest = RandomForestRegressor(random_state=42, n_estimators=100)\n",
    "model_linear = LinearRegression()"
   ]
  },
  {
   "cell_type": "markdown",
   "metadata": {},
   "source": [
    "RandomForestRegressor"
   ]
  },
  {
   "cell_type": "code",
   "execution_count": 27,
   "metadata": {},
   "outputs": [
    {
     "name": "stdout",
     "output_type": "stream",
     "text": [
      "Лучшие параметры для случайного леса: {'n_estimators': 30}\n",
      "Лучший sMAPE для случайного леса: 13.200246613345408\n"
     ]
    }
   ],
   "source": [
    "param_forest = {'n_estimators': range(10, 31, 10)}\n",
    "grid_forest = GridSearchCV(model_forest, param_forest, cv=5, scoring=make_scorer(final_sMAPE, greater_is_better=False), n_jobs=-1)\n",
    "grid_forest.fit(features_train, target_train)\n",
    "print(\"Лучшие параметры для случайного леса:\", grid_forest.best_params_)\n",
    "print(\"Лучший sMAPE для случайного леса:\", -grid_forest.best_score_)"
   ]
  },
  {
   "cell_type": "markdown",
   "metadata": {},
   "source": [
    "DecisionTreeRegressor"
   ]
  },
  {
   "cell_type": "code",
   "execution_count": 28,
   "metadata": {},
   "outputs": [
    {
     "name": "stdout",
     "output_type": "stream",
     "text": [
      "Лучшие параметры для дерева решений: {'max_depth': 5, 'min_samples_leaf': 1, 'min_samples_split': 2}\n",
      "Лучший sMAPE для дерева решений: 11.760854696997974\n"
     ]
    }
   ],
   "source": [
    "param_tree = {\n",
    "    'max_depth': [None, 5, 10],\n",
    "    'min_samples_split': [2, 5],\n",
    "    'min_samples_leaf': [1, 2]\n",
    "}\n",
    "grid_tree = GridSearchCV(model_tree, param_tree, cv=5, scoring=make_scorer(final_sMAPE, greater_is_better=False))\n",
    "grid_tree.fit(features_train, target_train)\n",
    "print(\"Лучшие параметры для дерева решений:\", grid_tree.best_params_)\n",
    "print(\"Лучший sMAPE для дерева решений:\", -grid_tree.best_score_)"
   ]
  },
  {
   "cell_type": "markdown",
   "metadata": {},
   "source": [
    "LinearRegression"
   ]
  },
  {
   "cell_type": "code",
   "execution_count": 29,
   "metadata": {},
   "outputs": [
    {
     "name": "stdout",
     "output_type": "stream",
     "text": [
      "final sMAPE для линейной регрессии на обучающем наборе: 11.822186369827062\n"
     ]
    }
   ],
   "source": [
    "y_pred_linear = cross_val_predict(model_linear, train_filtered, target, cv=5)\n",
    "smape_linear = final_sMAPE(target, y_pred_linear)\n",
    "print(\"final sMAPE для линейной регрессии на обучающем наборе:\", smape_linear)"
   ]
  },
  {
   "cell_type": "markdown",
   "metadata": {},
   "source": [
    "- Лучший sMAPE для дерева решений был найден с использованием GridSearchCV."
   ]
  },
  {
   "cell_type": "code",
   "execution_count": 30,
   "metadata": {},
   "outputs": [
    {
     "name": "stdout",
     "output_type": "stream",
     "text": [
      "final sMAPE для константной модели: 11.678224268277214\n"
     ]
    }
   ],
   "source": [
    "dummy = DummyRegressor(strategy=\"median\")\n",
    "\n",
    "y_pred_dummy = cross_val_predict(dummy, features_train, target, cv=5)\n",
    "smape_dummy = final_sMAPE(target, y_pred_dummy)\n",
    "print(\"final sMAPE для константной модели:\", smape_dummy)"
   ]
  },
  {
   "cell_type": "code",
   "execution_count": 31,
   "metadata": {},
   "outputs": [
    {
     "name": "stdout",
     "output_type": "stream",
     "text": [
      "Лучший sMAPE для дерева решений: 11.760854696997974\n",
      "Лучший sMAPE для случайного леса: 13.200246613345408\n",
      "sMAPE для линейной регрессии: 11.822186369827062\n",
      "sMAPE для константной модели: 11.678224268277214\n"
     ]
    }
   ],
   "source": [
    "print(\"Лучший sMAPE для дерева решений:\", -grid_tree.best_score_)\n",
    "print(\"Лучший sMAPE для случайного леса:\", -grid_forest.best_score_)\n",
    "print(\"sMAPE для линейной регрессии:\", smape_linear)\n",
    "print(\"sMAPE для константной модели:\", smape_dummy)"
   ]
  },
  {
   "cell_type": "markdown",
   "metadata": {},
   "source": [
    "**Выводы:**\n",
    "В рамках данной работы была поставлена задача предсказания коэффициента восстановления золота из руды.\n",
    "Мы провели предварительную обработку данных, затем обучили несколько моделей, среди которых дерево решений, случайный лес и линейная регрессия. \n",
    "Лучшей моделью оказалось дерево решений с sMAPE равным 11.760854696997974 на кросс-валидации.\n",
    "При тестировании этой модели на для константной модели мы получили sMAPE равным 11.678224268277214\n",
    "\n",
    "Модель обладает хорошей предсказательной способностью и может быть использована для прогнозирования в реальных условиях."
   ]
  }
 ],
 "metadata": {
  "ExecuteTimeLog": [
   {
    "duration": 2119,
    "start_time": "2023-08-25T06:45:32.199Z"
   },
   {
    "duration": 3922,
    "start_time": "2023-08-25T06:47:50.082Z"
   },
   {
    "duration": 1004,
    "start_time": "2023-08-25T06:48:17.700Z"
   },
   {
    "duration": 142,
    "start_time": "2023-08-25T06:53:27.079Z"
   },
   {
    "duration": 4,
    "start_time": "2023-08-25T06:54:33.117Z"
   },
   {
    "duration": 20,
    "start_time": "2023-08-25T06:55:37.310Z"
   },
   {
    "duration": 55,
    "start_time": "2023-08-25T06:56:04.230Z"
   },
   {
    "duration": 622,
    "start_time": "2023-08-25T07:24:15.802Z"
   },
   {
    "duration": 656,
    "start_time": "2023-08-25T07:24:45.553Z"
   },
   {
    "duration": 695,
    "start_time": "2023-08-25T07:25:02.907Z"
   },
   {
    "duration": 13,
    "start_time": "2023-08-25T07:32:04.304Z"
   },
   {
    "duration": 11,
    "start_time": "2023-08-25T07:32:24.136Z"
   },
   {
    "duration": 1867,
    "start_time": "2023-08-26T07:03:08.705Z"
   },
   {
    "duration": 2659,
    "start_time": "2023-08-26T07:03:12.569Z"
   },
   {
    "duration": 722,
    "start_time": "2023-08-26T07:03:16.475Z"
   },
   {
    "duration": 9,
    "start_time": "2023-08-26T07:03:20.022Z"
   },
   {
    "duration": 605,
    "start_time": "2023-08-26T08:29:33.305Z"
   },
   {
    "duration": 8,
    "start_time": "2023-08-26T08:30:00.885Z"
   },
   {
    "duration": 4,
    "start_time": "2023-08-26T08:30:03.563Z"
   },
   {
    "duration": 3,
    "start_time": "2023-08-26T08:57:43.526Z"
   },
   {
    "duration": 109,
    "start_time": "2023-08-26T08:57:57.879Z"
   },
   {
    "duration": 14,
    "start_time": "2023-08-26T08:58:08.503Z"
   },
   {
    "duration": 7,
    "start_time": "2023-08-26T10:56:56.272Z"
   },
   {
    "duration": 13,
    "start_time": "2023-08-26T11:01:54.501Z"
   },
   {
    "duration": 3,
    "start_time": "2023-08-26T11:06:23.846Z"
   },
   {
    "duration": 1132,
    "start_time": "2023-08-26T11:06:25.940Z"
   },
   {
    "duration": 47,
    "start_time": "2023-08-26T11:06:30.726Z"
   },
   {
    "duration": 710,
    "start_time": "2023-08-26T11:06:32.132Z"
   },
   {
    "duration": 18,
    "start_time": "2023-08-26T11:06:41.755Z"
   },
   {
    "duration": 13,
    "start_time": "2023-08-26T11:06:41.901Z"
   },
   {
    "duration": 128,
    "start_time": "2023-08-26T11:07:29.496Z"
   },
   {
    "duration": 528,
    "start_time": "2023-08-26T11:07:32.437Z"
   },
   {
    "duration": 43,
    "start_time": "2023-08-26T11:08:29.844Z"
   },
   {
    "duration": 3,
    "start_time": "2023-08-26T11:08:45.688Z"
   },
   {
    "duration": 19,
    "start_time": "2023-08-26T11:08:48.749Z"
   },
   {
    "duration": 435,
    "start_time": "2023-08-26T11:09:10.184Z"
   },
   {
    "duration": 498,
    "start_time": "2023-08-26T11:09:33.233Z"
   },
   {
    "duration": 17,
    "start_time": "2023-08-26T11:18:08.236Z"
   },
   {
    "duration": 18,
    "start_time": "2023-08-26T11:19:15.168Z"
   },
   {
    "duration": 10,
    "start_time": "2023-08-26T11:19:52.643Z"
   },
   {
    "duration": 20,
    "start_time": "2023-08-26T11:21:00.646Z"
   },
   {
    "duration": 19,
    "start_time": "2023-08-26T11:21:19.461Z"
   },
   {
    "duration": 16,
    "start_time": "2023-08-26T11:23:08.095Z"
   },
   {
    "duration": 4,
    "start_time": "2023-08-26T11:23:26.797Z"
   },
   {
    "duration": 4,
    "start_time": "2023-08-26T11:23:31.538Z"
   },
   {
    "duration": 119714,
    "start_time": "2023-08-26T11:24:13.023Z"
   },
   {
    "duration": 0,
    "start_time": "2023-08-26T11:26:12.739Z"
   },
   {
    "duration": 3,
    "start_time": "2023-08-26T12:32:19.403Z"
   },
   {
    "duration": 2255,
    "start_time": "2023-08-26T12:32:22.178Z"
   },
   {
    "duration": 36,
    "start_time": "2023-08-26T12:32:49.942Z"
   },
   {
    "duration": 597,
    "start_time": "2023-08-26T12:32:51.360Z"
   },
   {
    "duration": 462,
    "start_time": "2023-08-26T12:32:56.009Z"
   },
   {
    "duration": 9,
    "start_time": "2023-08-26T12:33:00.453Z"
   },
   {
    "duration": 3,
    "start_time": "2023-08-26T12:33:04.817Z"
   },
   {
    "duration": 12,
    "start_time": "2023-08-26T12:33:06.670Z"
   },
   {
    "duration": 106,
    "start_time": "2023-08-26T12:33:16.211Z"
   },
   {
    "duration": 1629,
    "start_time": "2023-08-26T14:43:01.864Z"
   },
   {
    "duration": 2173,
    "start_time": "2023-08-26T14:43:08.692Z"
   },
   {
    "duration": 41,
    "start_time": "2023-08-26T14:43:10.867Z"
   },
   {
    "duration": 568,
    "start_time": "2023-08-26T14:43:11.705Z"
   },
   {
    "duration": 414,
    "start_time": "2023-08-26T14:43:17.162Z"
   },
   {
    "duration": 8,
    "start_time": "2023-08-26T14:43:23.452Z"
   },
   {
    "duration": 3,
    "start_time": "2023-08-26T14:43:27.983Z"
   },
   {
    "duration": 13,
    "start_time": "2023-08-26T14:43:30.771Z"
   },
   {
    "duration": 1962,
    "start_time": "2023-08-26T14:44:04.873Z"
   },
   {
    "duration": 7,
    "start_time": "2023-08-26T14:49:26.748Z"
   },
   {
    "duration": 12,
    "start_time": "2023-08-26T14:49:40.788Z"
   },
   {
    "duration": 91,
    "start_time": "2023-08-26T14:49:56.423Z"
   },
   {
    "duration": 1626,
    "start_time": "2023-08-26T14:51:25.986Z"
   },
   {
    "duration": 235,
    "start_time": "2023-08-26T14:54:57.954Z"
   },
   {
    "duration": 8,
    "start_time": "2023-08-26T14:56:34.655Z"
   },
   {
    "duration": 8,
    "start_time": "2023-08-26T14:56:53.474Z"
   },
   {
    "duration": 114,
    "start_time": "2023-08-26T15:12:07.458Z"
   },
   {
    "duration": 22,
    "start_time": "2023-08-26T15:15:15.472Z"
   },
   {
    "duration": 14,
    "start_time": "2023-08-26T15:15:19.985Z"
   },
   {
    "duration": 494,
    "start_time": "2023-08-26T15:20:25.498Z"
   },
   {
    "duration": 13,
    "start_time": "2023-08-26T15:22:10.631Z"
   },
   {
    "duration": 15,
    "start_time": "2023-08-26T15:22:43.593Z"
   },
   {
    "duration": 65,
    "start_time": "2023-08-26T15:23:26.213Z"
   },
   {
    "duration": 15,
    "start_time": "2023-08-26T15:23:39.470Z"
   },
   {
    "duration": 14,
    "start_time": "2023-08-26T15:23:55.319Z"
   },
   {
    "duration": 316,
    "start_time": "2023-08-26T15:32:21.775Z"
   },
   {
    "duration": 5,
    "start_time": "2023-08-26T15:59:22.571Z"
   },
   {
    "duration": 16,
    "start_time": "2023-08-26T15:59:30.863Z"
   },
   {
    "duration": 5,
    "start_time": "2023-08-26T15:59:40.501Z"
   },
   {
    "duration": 230,
    "start_time": "2023-08-26T16:00:08.584Z"
   },
   {
    "duration": 191,
    "start_time": "2023-08-26T16:01:20.472Z"
   },
   {
    "duration": 163,
    "start_time": "2023-08-26T16:03:30.576Z"
   },
   {
    "duration": 16,
    "start_time": "2023-08-26T16:16:53.304Z"
   },
   {
    "duration": 14,
    "start_time": "2023-08-26T16:18:00.728Z"
   },
   {
    "duration": 15,
    "start_time": "2023-08-26T16:18:04.184Z"
   },
   {
    "duration": 120,
    "start_time": "2023-08-26T16:19:04.519Z"
   },
   {
    "duration": 21,
    "start_time": "2023-08-26T16:19:18.651Z"
   },
   {
    "duration": 11,
    "start_time": "2023-08-26T16:19:20.931Z"
   },
   {
    "duration": 151,
    "start_time": "2023-08-26T16:19:31.044Z"
   },
   {
    "duration": 123,
    "start_time": "2023-08-26T16:19:34.079Z"
   },
   {
    "duration": 392,
    "start_time": "2023-08-26T16:20:37.216Z"
   },
   {
    "duration": 253,
    "start_time": "2023-08-26T16:20:40.317Z"
   },
   {
    "duration": 10,
    "start_time": "2023-08-26T16:22:42.125Z"
   },
   {
    "duration": 296,
    "start_time": "2023-08-26T16:23:01.219Z"
   },
   {
    "duration": 189,
    "start_time": "2023-08-26T16:23:04.759Z"
   },
   {
    "duration": 1413,
    "start_time": "2023-08-26T16:34:03.408Z"
   },
   {
    "duration": 791,
    "start_time": "2023-08-26T16:34:06.106Z"
   },
   {
    "duration": 37,
    "start_time": "2023-08-26T16:34:09.883Z"
   },
   {
    "duration": 541,
    "start_time": "2023-08-26T16:34:10.879Z"
   },
   {
    "duration": 483,
    "start_time": "2023-08-26T16:34:14.287Z"
   },
   {
    "duration": 9,
    "start_time": "2023-08-26T16:34:18.202Z"
   },
   {
    "duration": 3,
    "start_time": "2023-08-26T16:34:21.112Z"
   },
   {
    "duration": 12,
    "start_time": "2023-08-26T16:34:23.732Z"
   },
   {
    "duration": 11,
    "start_time": "2023-08-26T16:34:25.925Z"
   },
   {
    "duration": 244,
    "start_time": "2023-08-26T16:34:29.655Z"
   },
   {
    "duration": 102,
    "start_time": "2023-08-26T16:34:34.006Z"
   },
   {
    "duration": 116,
    "start_time": "2023-08-26T16:35:32.331Z"
   },
   {
    "duration": 17,
    "start_time": "2023-08-26T17:19:38.394Z"
   },
   {
    "duration": 239,
    "start_time": "2023-08-26T17:20:52.740Z"
   },
   {
    "duration": 319,
    "start_time": "2023-08-26T17:21:03.977Z"
   },
   {
    "duration": 21,
    "start_time": "2023-08-26T17:34:14.917Z"
   },
   {
    "duration": 20,
    "start_time": "2023-08-26T17:34:37.994Z"
   },
   {
    "duration": 395,
    "start_time": "2023-08-26T17:34:41.909Z"
   },
   {
    "duration": 469,
    "start_time": "2023-08-26T17:34:45.888Z"
   },
   {
    "duration": 183,
    "start_time": "2023-08-26T17:34:50.798Z"
   },
   {
    "duration": 276,
    "start_time": "2023-08-26T17:34:54.202Z"
   },
   {
    "duration": 18,
    "start_time": "2023-08-26T17:39:39.939Z"
   },
   {
    "duration": 316,
    "start_time": "2023-08-26T17:40:36.901Z"
   },
   {
    "duration": 443,
    "start_time": "2023-08-26T17:41:58.803Z"
   },
   {
    "duration": 200,
    "start_time": "2023-08-26T17:42:21.613Z"
   },
   {
    "duration": 168,
    "start_time": "2023-08-26T17:43:38.770Z"
   },
   {
    "duration": 365,
    "start_time": "2023-08-26T17:44:56.013Z"
   },
   {
    "duration": 7,
    "start_time": "2023-08-26T17:54:46.396Z"
   },
   {
    "duration": 4,
    "start_time": "2023-08-26T17:56:40.469Z"
   },
   {
    "duration": 9,
    "start_time": "2023-08-26T17:58:11.199Z"
   },
   {
    "duration": 7,
    "start_time": "2023-08-26T17:58:26.336Z"
   },
   {
    "duration": 32,
    "start_time": "2023-08-26T17:58:27.605Z"
   },
   {
    "duration": 4,
    "start_time": "2023-08-26T17:58:58.811Z"
   },
   {
    "duration": 30,
    "start_time": "2023-08-26T17:59:10.465Z"
   },
   {
    "duration": 29,
    "start_time": "2023-08-26T17:59:29.499Z"
   },
   {
    "duration": 34,
    "start_time": "2023-08-26T18:00:02.210Z"
   },
   {
    "duration": 30,
    "start_time": "2023-08-26T18:00:17.487Z"
   },
   {
    "duration": 1781,
    "start_time": "2023-08-27T09:07:06.092Z"
   },
   {
    "duration": 3243,
    "start_time": "2023-08-27T09:07:08.028Z"
   },
   {
    "duration": 38,
    "start_time": "2023-08-27T09:07:11.273Z"
   },
   {
    "duration": 602,
    "start_time": "2023-08-27T09:07:11.312Z"
   },
   {
    "duration": 455,
    "start_time": "2023-08-27T09:07:13.370Z"
   },
   {
    "duration": 13,
    "start_time": "2023-08-27T09:07:16.816Z"
   },
   {
    "duration": 4,
    "start_time": "2023-08-27T09:07:20.640Z"
   },
   {
    "duration": 13,
    "start_time": "2023-08-27T09:07:24.034Z"
   },
   {
    "duration": 13,
    "start_time": "2023-08-27T09:07:26.840Z"
   },
   {
    "duration": 273,
    "start_time": "2023-08-27T09:07:34.449Z"
   },
   {
    "duration": 28,
    "start_time": "2023-08-27T09:07:39.427Z"
   },
   {
    "duration": 22,
    "start_time": "2023-08-27T09:07:42.730Z"
   },
   {
    "duration": 342,
    "start_time": "2023-08-27T09:07:50.354Z"
   },
   {
    "duration": 383,
    "start_time": "2023-08-27T09:07:52.501Z"
   },
   {
    "duration": 424,
    "start_time": "2023-08-27T09:07:57.572Z"
   },
   {
    "duration": 214,
    "start_time": "2023-08-27T09:08:00.267Z"
   },
   {
    "duration": 116,
    "start_time": "2023-08-27T09:08:04.679Z"
   },
   {
    "duration": 15,
    "start_time": "2023-08-27T09:08:09.992Z"
   },
   {
    "duration": 8,
    "start_time": "2023-08-27T09:08:41.303Z"
   },
   {
    "duration": 4,
    "start_time": "2023-08-27T09:08:42.984Z"
   },
   {
    "duration": 8,
    "start_time": "2023-08-27T09:08:45.840Z"
   },
   {
    "duration": 43,
    "start_time": "2023-08-27T09:08:47.751Z"
   },
   {
    "duration": 36,
    "start_time": "2023-08-27T09:08:50.356Z"
   },
   {
    "duration": 39,
    "start_time": "2023-08-27T09:08:52.786Z"
   },
   {
    "duration": 34,
    "start_time": "2023-08-27T09:50:50.552Z"
   },
   {
    "duration": 10,
    "start_time": "2023-08-27T09:52:26.239Z"
   },
   {
    "duration": 16,
    "start_time": "2023-08-27T09:52:34.626Z"
   },
   {
    "duration": 19,
    "start_time": "2023-08-27T09:55:21.484Z"
   },
   {
    "duration": 10,
    "start_time": "2023-08-27T09:59:20.388Z"
   },
   {
    "duration": 9,
    "start_time": "2023-08-27T09:59:50.168Z"
   },
   {
    "duration": 7,
    "start_time": "2023-08-27T09:59:56.158Z"
   },
   {
    "duration": 10,
    "start_time": "2023-08-27T10:00:00.643Z"
   },
   {
    "duration": 11,
    "start_time": "2023-08-27T10:01:28.744Z"
   },
   {
    "duration": 348,
    "start_time": "2023-08-27T10:01:39.063Z"
   },
   {
    "duration": 65,
    "start_time": "2023-08-27T10:01:56.314Z"
   },
   {
    "duration": 317,
    "start_time": "2023-08-27T10:02:29.870Z"
   },
   {
    "duration": 16,
    "start_time": "2023-08-27T10:03:24.914Z"
   },
   {
    "duration": 18,
    "start_time": "2023-08-27T10:03:38.475Z"
   },
   {
    "duration": 1219,
    "start_time": "2023-08-27T10:04:12.244Z"
   },
   {
    "duration": 23,
    "start_time": "2023-08-27T10:07:16.175Z"
   },
   {
    "duration": 39,
    "start_time": "2023-08-27T10:07:34.494Z"
   },
   {
    "duration": 8,
    "start_time": "2023-08-27T10:07:43.001Z"
   },
   {
    "duration": 32,
    "start_time": "2023-08-27T10:08:03.852Z"
   },
   {
    "duration": 37,
    "start_time": "2023-08-27T10:08:38.479Z"
   },
   {
    "duration": 31,
    "start_time": "2023-08-27T10:20:19.796Z"
   },
   {
    "duration": 33,
    "start_time": "2023-08-27T10:20:25.444Z"
   },
   {
    "duration": 31,
    "start_time": "2023-08-27T10:20:28.230Z"
   },
   {
    "duration": 18,
    "start_time": "2023-08-27T10:25:34.292Z"
   },
   {
    "duration": 77,
    "start_time": "2023-08-27T10:26:48.972Z"
   },
   {
    "duration": 15,
    "start_time": "2023-08-27T10:27:03.871Z"
   },
   {
    "duration": 20,
    "start_time": "2023-08-27T10:27:08.544Z"
   },
   {
    "duration": 464,
    "start_time": "2023-08-27T10:27:11.014Z"
   },
   {
    "duration": 18,
    "start_time": "2023-08-27T10:27:14.144Z"
   },
   {
    "duration": 35,
    "start_time": "2023-08-27T10:27:20.232Z"
   },
   {
    "duration": 1435,
    "start_time": "2023-08-27T10:53:24.477Z"
   },
   {
    "duration": 845,
    "start_time": "2023-08-27T10:53:27.689Z"
   },
   {
    "duration": 43,
    "start_time": "2023-08-27T10:53:28.691Z"
   },
   {
    "duration": 596,
    "start_time": "2023-08-27T10:53:31.449Z"
   },
   {
    "duration": 477,
    "start_time": "2023-08-27T10:53:35.352Z"
   },
   {
    "duration": 11,
    "start_time": "2023-08-27T10:53:38.313Z"
   },
   {
    "duration": 3,
    "start_time": "2023-08-27T10:53:40.733Z"
   },
   {
    "duration": 14,
    "start_time": "2023-08-27T10:53:43.319Z"
   },
   {
    "duration": 14,
    "start_time": "2023-08-27T10:53:45.301Z"
   },
   {
    "duration": 288,
    "start_time": "2023-08-27T10:53:50.072Z"
   },
   {
    "duration": 42,
    "start_time": "2023-08-27T10:53:52.200Z"
   },
   {
    "duration": 29,
    "start_time": "2023-08-27T10:53:57.750Z"
   },
   {
    "duration": 61,
    "start_time": "2023-08-27T10:53:59.856Z"
   },
   {
    "duration": 276,
    "start_time": "2023-08-27T10:54:01.325Z"
   },
   {
    "duration": 350,
    "start_time": "2023-08-27T10:54:10.777Z"
   },
   {
    "duration": 409,
    "start_time": "2023-08-27T10:54:13.785Z"
   },
   {
    "duration": 450,
    "start_time": "2023-08-27T10:54:16.770Z"
   },
   {
    "duration": 216,
    "start_time": "2023-08-27T10:54:19.595Z"
   },
   {
    "duration": 19,
    "start_time": "2023-08-27T10:54:22.270Z"
   },
   {
    "duration": 10,
    "start_time": "2023-08-27T10:54:25.849Z"
   },
   {
    "duration": 5,
    "start_time": "2023-08-27T10:54:28.004Z"
   },
   {
    "duration": 129,
    "start_time": "2023-08-27T10:54:30.770Z"
   },
   {
    "duration": 8,
    "start_time": "2023-08-27T10:54:36.893Z"
   },
   {
    "duration": 38,
    "start_time": "2023-08-27T10:54:38.699Z"
   },
   {
    "duration": 47,
    "start_time": "2023-08-27T10:54:43.632Z"
   },
   {
    "duration": 35,
    "start_time": "2023-08-27T10:54:48.098Z"
   },
   {
    "duration": 4,
    "start_time": "2023-08-27T11:36:43.183Z"
   },
   {
    "duration": 4,
    "start_time": "2023-08-27T11:36:47.850Z"
   },
   {
    "duration": 1523,
    "start_time": "2023-08-27T13:09:28.091Z"
   },
   {
    "duration": 2147,
    "start_time": "2023-08-27T13:09:32.537Z"
   },
   {
    "duration": 38,
    "start_time": "2023-08-27T13:09:34.685Z"
   },
   {
    "duration": 562,
    "start_time": "2023-08-27T13:09:42.404Z"
   },
   {
    "duration": 471,
    "start_time": "2023-08-27T13:09:46.899Z"
   },
   {
    "duration": 8,
    "start_time": "2023-08-27T13:09:50.089Z"
   },
   {
    "duration": 4,
    "start_time": "2023-08-27T13:09:52.791Z"
   },
   {
    "duration": 12,
    "start_time": "2023-08-27T13:09:55.124Z"
   },
   {
    "duration": 248,
    "start_time": "2023-08-27T13:09:59.664Z"
   },
   {
    "duration": 37,
    "start_time": "2023-08-27T13:10:02.217Z"
   },
   {
    "duration": 103,
    "start_time": "2023-08-27T13:10:08.803Z"
   },
   {
    "duration": 12,
    "start_time": "2023-08-27T13:10:31.968Z"
   },
   {
    "duration": 22,
    "start_time": "2023-08-27T13:10:37.331Z"
   },
   {
    "duration": 36,
    "start_time": "2023-08-27T13:10:47.417Z"
   },
   {
    "duration": 417,
    "start_time": "2023-08-27T13:10:57.571Z"
   },
   {
    "duration": 13,
    "start_time": "2023-08-27T13:11:07.834Z"
   },
   {
    "duration": 3,
    "start_time": "2023-08-27T13:11:10.917Z"
   },
   {
    "duration": 83,
    "start_time": "2023-08-27T13:11:21.479Z"
   },
   {
    "duration": 9,
    "start_time": "2023-08-27T13:11:26.794Z"
   },
   {
    "duration": 201,
    "start_time": "2023-08-27T13:11:29.889Z"
   },
   {
    "duration": 30,
    "start_time": "2023-08-27T13:11:34.733Z"
   },
   {
    "duration": 16,
    "start_time": "2023-08-27T13:11:37.865Z"
   },
   {
    "duration": 53,
    "start_time": "2023-08-27T13:11:40.137Z"
   },
   {
    "duration": 254,
    "start_time": "2023-08-27T13:11:43.372Z"
   },
   {
    "duration": 328,
    "start_time": "2023-08-27T13:11:47.637Z"
   },
   {
    "duration": 327,
    "start_time": "2023-08-27T13:11:49.660Z"
   },
   {
    "duration": 414,
    "start_time": "2023-08-27T13:11:53.841Z"
   },
   {
    "duration": 194,
    "start_time": "2023-08-27T13:11:58.543Z"
   },
   {
    "duration": 8,
    "start_time": "2023-08-27T13:12:02.909Z"
   },
   {
    "duration": 3,
    "start_time": "2023-08-27T13:12:05.526Z"
   },
   {
    "duration": 6,
    "start_time": "2023-08-27T13:12:09.960Z"
   },
   {
    "duration": 36,
    "start_time": "2023-08-27T13:12:12.804Z"
   },
   {
    "duration": 32,
    "start_time": "2023-08-27T13:16:07.492Z"
   },
   {
    "duration": 1418,
    "start_time": "2023-08-27T13:18:17.994Z"
   },
   {
    "duration": 925,
    "start_time": "2023-08-27T13:18:21.717Z"
   },
   {
    "duration": 54,
    "start_time": "2023-08-27T13:18:25.926Z"
   },
   {
    "duration": 607,
    "start_time": "2023-08-27T13:18:26.979Z"
   },
   {
    "duration": 600,
    "start_time": "2023-08-27T13:18:31.663Z"
   },
   {
    "duration": 13,
    "start_time": "2023-08-27T13:18:34.955Z"
   },
   {
    "duration": 4,
    "start_time": "2023-08-27T13:18:37.798Z"
   },
   {
    "duration": 12,
    "start_time": "2023-08-27T13:18:42.461Z"
   },
   {
    "duration": 327,
    "start_time": "2023-08-27T13:18:46.791Z"
   },
   {
    "duration": 43,
    "start_time": "2023-08-27T13:18:49.083Z"
   },
   {
    "duration": 13,
    "start_time": "2023-08-27T13:18:53.030Z"
   },
   {
    "duration": 55,
    "start_time": "2023-08-27T13:18:56.774Z"
   },
   {
    "duration": 264,
    "start_time": "2023-08-27T13:18:58.506Z"
   },
   {
    "duration": 359,
    "start_time": "2023-08-27T13:19:01.827Z"
   },
   {
    "duration": 357,
    "start_time": "2023-08-27T13:19:09.210Z"
   },
   {
    "duration": 510,
    "start_time": "2023-08-27T13:19:11.847Z"
   },
   {
    "duration": 191,
    "start_time": "2023-08-27T13:19:14.664Z"
   },
   {
    "duration": 23,
    "start_time": "2023-08-27T13:19:17.763Z"
   },
   {
    "duration": 9,
    "start_time": "2023-08-27T13:19:20.916Z"
   },
   {
    "duration": 6,
    "start_time": "2023-08-27T13:19:23.303Z"
   },
   {
    "duration": 12,
    "start_time": "2023-08-27T13:19:24.940Z"
   },
   {
    "duration": 263,
    "start_time": "2023-08-27T13:19:27.409Z"
   },
   {
    "duration": 133,
    "start_time": "2023-08-27T13:21:50.374Z"
   },
   {
    "duration": 17,
    "start_time": "2023-08-27T13:22:58.771Z"
   },
   {
    "duration": 20,
    "start_time": "2023-08-27T13:23:10.941Z"
   },
   {
    "duration": 6,
    "start_time": "2023-08-27T13:23:45.501Z"
   },
   {
    "duration": 7607,
    "start_time": "2023-08-27T13:23:47.494Z"
   },
   {
    "duration": 5,
    "start_time": "2023-08-27T13:26:40.222Z"
   },
   {
    "duration": 6181,
    "start_time": "2023-08-27T13:26:43.819Z"
   },
   {
    "duration": 4,
    "start_time": "2023-08-27T13:27:40.361Z"
   },
   {
    "duration": 7,
    "start_time": "2023-08-27T13:27:42.730Z"
   },
   {
    "duration": 13,
    "start_time": "2023-08-27T13:27:43.738Z"
   },
   {
    "duration": 6090,
    "start_time": "2023-08-27T13:27:51.845Z"
   },
   {
    "duration": 1627,
    "start_time": "2023-08-27T13:30:49.981Z"
   },
   {
    "duration": 760,
    "start_time": "2023-08-27T13:30:53.050Z"
   },
   {
    "duration": 38,
    "start_time": "2023-08-27T13:30:56.657Z"
   },
   {
    "duration": 535,
    "start_time": "2023-08-27T13:31:00.383Z"
   },
   {
    "duration": 470,
    "start_time": "2023-08-27T13:31:04.380Z"
   },
   {
    "duration": 9,
    "start_time": "2023-08-27T13:31:07.769Z"
   },
   {
    "duration": 3,
    "start_time": "2023-08-27T13:31:10.210Z"
   },
   {
    "duration": 12,
    "start_time": "2023-08-27T13:31:13.888Z"
   },
   {
    "duration": 262,
    "start_time": "2023-08-27T13:31:16.435Z"
   },
   {
    "duration": 42,
    "start_time": "2023-08-27T13:31:18.610Z"
   },
   {
    "duration": 60,
    "start_time": "2023-08-27T13:31:27.846Z"
   },
   {
    "duration": 321,
    "start_time": "2023-08-27T13:31:29.511Z"
   },
   {
    "duration": 322,
    "start_time": "2023-08-27T13:31:31.829Z"
   },
   {
    "duration": 527,
    "start_time": "2023-08-27T13:31:35.934Z"
   },
   {
    "duration": 108,
    "start_time": "2023-08-27T13:31:38.998Z"
   },
   {
    "duration": 13,
    "start_time": "2023-08-27T13:32:03.952Z"
   },
   {
    "duration": 423,
    "start_time": "2023-08-27T13:32:09.928Z"
   },
   {
    "duration": 289,
    "start_time": "2023-08-27T13:32:17.976Z"
   },
   {
    "duration": 307,
    "start_time": "2023-08-27T13:32:22.864Z"
   },
   {
    "duration": 425,
    "start_time": "2023-08-27T13:32:26.615Z"
   },
   {
    "duration": 202,
    "start_time": "2023-08-27T13:32:29.784Z"
   },
   {
    "duration": 8,
    "start_time": "2023-08-27T13:32:33.799Z"
   },
   {
    "duration": 4,
    "start_time": "2023-08-27T13:32:36.598Z"
   },
   {
    "duration": 6,
    "start_time": "2023-08-27T13:32:39.249Z"
   },
   {
    "duration": 6,
    "start_time": "2023-08-27T13:32:42.274Z"
   },
   {
    "duration": 241,
    "start_time": "2023-08-27T13:32:44.953Z"
   },
   {
    "duration": 224,
    "start_time": "2023-08-27T13:32:49.544Z"
   },
   {
    "duration": 227,
    "start_time": "2023-08-27T13:32:53.303Z"
   },
   {
    "duration": 4,
    "start_time": "2023-08-27T13:32:59.957Z"
   },
   {
    "duration": 7,
    "start_time": "2023-08-27T13:33:02.504Z"
   },
   {
    "duration": 6005,
    "start_time": "2023-08-27T13:33:05.772Z"
   },
   {
    "duration": 5,
    "start_time": "2023-08-27T13:39:15.640Z"
   },
   {
    "duration": 2023,
    "start_time": "2023-08-27T13:45:27.814Z"
   },
   {
    "duration": 1779,
    "start_time": "2023-08-27T13:46:40.982Z"
   },
   {
    "duration": 382602,
    "start_time": "2023-08-27T13:53:06.763Z"
   },
   {
    "duration": 20,
    "start_time": "2023-08-27T13:59:29.366Z"
   },
   {
    "duration": 29,
    "start_time": "2023-08-27T14:33:17.055Z"
   },
   {
    "duration": 35,
    "start_time": "2023-08-27T14:33:40.301Z"
   },
   {
    "duration": 44,
    "start_time": "2023-08-30T03:23:34.597Z"
   },
   {
    "duration": 1671,
    "start_time": "2023-08-30T03:23:51.420Z"
   },
   {
    "duration": 2373,
    "start_time": "2023-08-30T03:23:53.770Z"
   },
   {
    "duration": 36,
    "start_time": "2023-08-30T03:23:56.145Z"
   },
   {
    "duration": 543,
    "start_time": "2023-08-30T03:23:56.182Z"
   },
   {
    "duration": 391,
    "start_time": "2023-08-30T03:23:59.984Z"
   },
   {
    "duration": 9,
    "start_time": "2023-08-30T03:24:02.816Z"
   },
   {
    "duration": 3,
    "start_time": "2023-08-30T03:24:05.543Z"
   },
   {
    "duration": 11,
    "start_time": "2023-08-30T03:24:13.383Z"
   },
   {
    "duration": 61,
    "start_time": "2023-08-30T03:24:19.997Z"
   },
   {
    "duration": 10,
    "start_time": "2023-08-30T03:24:30.101Z"
   },
   {
    "duration": 54,
    "start_time": "2023-08-30T03:24:42.753Z"
   },
   {
    "duration": 284,
    "start_time": "2023-08-30T03:24:44.755Z"
   },
   {
    "duration": 296,
    "start_time": "2023-08-30T03:24:49.514Z"
   },
   {
    "duration": 342,
    "start_time": "2023-08-30T03:24:52.164Z"
   },
   {
    "duration": 446,
    "start_time": "2023-08-30T03:24:56.042Z"
   },
   {
    "duration": 175,
    "start_time": "2023-08-30T03:24:59.781Z"
   },
   {
    "duration": 18,
    "start_time": "2023-08-30T03:25:03.948Z"
   },
   {
    "duration": 15,
    "start_time": "2023-08-30T03:28:29.343Z"
   },
   {
    "duration": 7,
    "start_time": "2023-08-30T03:28:35.374Z"
   },
   {
    "duration": 3,
    "start_time": "2023-08-30T03:28:37.320Z"
   },
   {
    "duration": 5,
    "start_time": "2023-08-30T03:30:29.024Z"
   },
   {
    "duration": 7,
    "start_time": "2023-08-30T03:30:35.811Z"
   },
   {
    "duration": 15,
    "start_time": "2023-08-30T03:31:01.803Z"
   },
   {
    "duration": 72,
    "start_time": "2023-08-30T03:33:21.997Z"
   },
   {
    "duration": 9,
    "start_time": "2023-08-30T03:33:43.611Z"
   },
   {
    "duration": 10,
    "start_time": "2023-08-30T03:34:04.247Z"
   },
   {
    "duration": 22,
    "start_time": "2023-08-30T03:34:34.606Z"
   },
   {
    "duration": 9,
    "start_time": "2023-08-30T03:34:52.597Z"
   },
   {
    "duration": 3,
    "start_time": "2023-08-30T03:37:03.818Z"
   },
   {
    "duration": 113132,
    "start_time": "2023-08-30T03:37:23.888Z"
   },
   {
    "duration": 1405,
    "start_time": "2023-08-30T04:26:00.980Z"
   },
   {
    "duration": 922,
    "start_time": "2023-08-30T04:26:05.710Z"
   },
   {
    "duration": 36,
    "start_time": "2023-08-30T04:26:06.850Z"
   },
   {
    "duration": 541,
    "start_time": "2023-08-30T04:26:08.161Z"
   },
   {
    "duration": 449,
    "start_time": "2023-08-30T04:26:12.840Z"
   },
   {
    "duration": 10,
    "start_time": "2023-08-30T04:26:16.765Z"
   },
   {
    "duration": 3,
    "start_time": "2023-08-30T04:26:20.675Z"
   },
   {
    "duration": 13,
    "start_time": "2023-08-30T04:26:25.591Z"
   },
   {
    "duration": 284,
    "start_time": "2023-08-30T04:26:27.691Z"
   },
   {
    "duration": 60,
    "start_time": "2023-08-30T04:26:32.973Z"
   },
   {
    "duration": 73,
    "start_time": "2023-08-30T04:26:57.903Z"
   },
   {
    "duration": 326,
    "start_time": "2023-08-30T04:26:59.869Z"
   },
   {
    "duration": 335,
    "start_time": "2023-08-30T04:27:03.129Z"
   },
   {
    "duration": 363,
    "start_time": "2023-08-30T04:27:08.070Z"
   },
   {
    "duration": 425,
    "start_time": "2023-08-30T04:27:10.836Z"
   },
   {
    "duration": 192,
    "start_time": "2023-08-30T04:27:15.195Z"
   },
   {
    "duration": 18,
    "start_time": "2023-08-30T04:27:17.734Z"
   },
   {
    "duration": 15,
    "start_time": "2023-08-30T04:27:19.983Z"
   },
   {
    "duration": 7,
    "start_time": "2023-08-30T04:27:25.393Z"
   },
   {
    "duration": 5,
    "start_time": "2023-08-30T04:27:28.481Z"
   },
   {
    "duration": 17,
    "start_time": "2023-08-30T04:27:32.913Z"
   },
   {
    "duration": 8,
    "start_time": "2023-08-30T04:27:36.394Z"
   },
   {
    "duration": 6,
    "start_time": "2023-08-30T04:27:38.984Z"
   },
   {
    "duration": 3,
    "start_time": "2023-08-30T04:27:40.245Z"
   },
   {
    "duration": 106,
    "start_time": "2023-08-30T04:27:41.638Z"
   },
   {
    "duration": 4,
    "start_time": "2023-08-30T04:28:03.366Z"
   },
   {
    "duration": 16,
    "start_time": "2023-08-30T04:28:13.177Z"
   },
   {
    "duration": 7,
    "start_time": "2023-08-30T04:28:15.530Z"
   },
   {
    "duration": 4,
    "start_time": "2023-08-30T04:28:57.446Z"
   },
   {
    "duration": 16,
    "start_time": "2023-08-30T04:29:06.421Z"
   },
   {
    "duration": 114798,
    "start_time": "2023-08-30T04:29:11.071Z"
   },
   {
    "duration": 1314,
    "start_time": "2023-08-30T04:56:21.972Z"
   },
   {
    "duration": 734,
    "start_time": "2023-08-30T04:56:23.686Z"
   },
   {
    "duration": 35,
    "start_time": "2023-08-30T04:56:25.449Z"
   },
   {
    "duration": 519,
    "start_time": "2023-08-30T04:56:29.089Z"
   },
   {
    "duration": 408,
    "start_time": "2023-08-30T04:56:32.964Z"
   },
   {
    "duration": 9,
    "start_time": "2023-08-30T04:56:38.124Z"
   },
   {
    "duration": 3,
    "start_time": "2023-08-30T04:56:42.655Z"
   },
   {
    "duration": 11,
    "start_time": "2023-08-30T04:56:48.371Z"
   },
   {
    "duration": 237,
    "start_time": "2023-08-30T04:56:50.584Z"
   },
   {
    "duration": 56,
    "start_time": "2023-08-30T04:56:54.339Z"
   },
   {
    "duration": 52,
    "start_time": "2023-08-30T04:57:02.127Z"
   },
   {
    "duration": 303,
    "start_time": "2023-08-30T04:57:03.440Z"
   },
   {
    "duration": 329,
    "start_time": "2023-08-30T04:57:06.169Z"
   },
   {
    "duration": 326,
    "start_time": "2023-08-30T04:57:08.215Z"
   },
   {
    "duration": 416,
    "start_time": "2023-08-30T04:57:10.838Z"
   },
   {
    "duration": 185,
    "start_time": "2023-08-30T04:57:14.179Z"
   },
   {
    "duration": 18,
    "start_time": "2023-08-30T04:57:16.685Z"
   },
   {
    "duration": 17,
    "start_time": "2023-08-30T04:57:19.695Z"
   },
   {
    "duration": 6,
    "start_time": "2023-08-30T04:57:26.233Z"
   },
   {
    "duration": 4,
    "start_time": "2023-08-30T04:57:28.036Z"
   },
   {
    "duration": 14,
    "start_time": "2023-08-30T04:57:31.649Z"
   },
   {
    "duration": 7,
    "start_time": "2023-08-30T04:57:33.846Z"
   },
   {
    "duration": 6,
    "start_time": "2023-08-30T04:57:35.495Z"
   },
   {
    "duration": 3,
    "start_time": "2023-08-30T04:57:37.552Z"
   },
   {
    "duration": 114259,
    "start_time": "2023-08-30T04:57:39.156Z"
   },
   {
    "duration": 1361,
    "start_time": "2023-08-30T05:11:35.486Z"
   },
   {
    "duration": 802,
    "start_time": "2023-08-30T05:11:38.648Z"
   },
   {
    "duration": 37,
    "start_time": "2023-08-30T05:11:39.452Z"
   },
   {
    "duration": 511,
    "start_time": "2023-08-30T05:11:40.737Z"
   },
   {
    "duration": 408,
    "start_time": "2023-08-30T05:11:43.179Z"
   },
   {
    "duration": 9,
    "start_time": "2023-08-30T05:11:46.386Z"
   },
   {
    "duration": 3,
    "start_time": "2023-08-30T05:11:49.929Z"
   },
   {
    "duration": 11,
    "start_time": "2023-08-30T05:11:54.902Z"
   },
   {
    "duration": 235,
    "start_time": "2023-08-30T05:11:57.589Z"
   },
   {
    "duration": 58,
    "start_time": "2023-08-30T05:12:02.009Z"
   },
   {
    "duration": 52,
    "start_time": "2023-08-30T05:12:05.056Z"
   },
   {
    "duration": 290,
    "start_time": "2023-08-30T05:12:06.568Z"
   },
   {
    "duration": 302,
    "start_time": "2023-08-30T05:12:08.922Z"
   },
   {
    "duration": 349,
    "start_time": "2023-08-30T05:12:10.378Z"
   },
   {
    "duration": 412,
    "start_time": "2023-08-30T05:12:13.201Z"
   },
   {
    "duration": 186,
    "start_time": "2023-08-30T05:12:17.694Z"
   },
   {
    "duration": 17,
    "start_time": "2023-08-30T05:12:20.097Z"
   },
   {
    "duration": 15,
    "start_time": "2023-08-30T05:12:22.721Z"
   },
   {
    "duration": 15,
    "start_time": "2023-08-30T05:12:30.497Z"
   },
   {
    "duration": 7,
    "start_time": "2023-08-30T05:12:32.705Z"
   },
   {
    "duration": 3,
    "start_time": "2023-08-30T05:12:34.674Z"
   },
   {
    "duration": 9,
    "start_time": "2023-08-30T05:12:39.592Z"
   },
   {
    "duration": 4,
    "start_time": "2023-08-30T05:12:41.268Z"
   },
   {
    "duration": 15,
    "start_time": "2023-08-30T05:12:45.174Z"
   },
   {
    "duration": 8,
    "start_time": "2023-08-30T05:12:47.969Z"
   },
   {
    "duration": 6,
    "start_time": "2023-08-30T05:12:49.995Z"
   },
   {
    "duration": 3,
    "start_time": "2023-08-30T05:12:50.944Z"
   },
   {
    "duration": 114061,
    "start_time": "2023-08-30T05:12:52.714Z"
   },
   {
    "duration": 1370,
    "start_time": "2023-08-30T05:32:27.315Z"
   },
   {
    "duration": 842,
    "start_time": "2023-08-30T05:32:30.690Z"
   },
   {
    "duration": 36,
    "start_time": "2023-08-30T05:32:32.793Z"
   },
   {
    "duration": 589,
    "start_time": "2023-08-30T05:32:33.944Z"
   },
   {
    "duration": 499,
    "start_time": "2023-08-30T05:32:38.914Z"
   },
   {
    "duration": 9,
    "start_time": "2023-08-30T05:32:42.588Z"
   },
   {
    "duration": 4,
    "start_time": "2023-08-30T05:32:45.121Z"
   },
   {
    "duration": 13,
    "start_time": "2023-08-30T05:32:50.111Z"
   },
   {
    "duration": 332,
    "start_time": "2023-08-30T05:32:52.574Z"
   },
   {
    "duration": 72,
    "start_time": "2023-08-30T05:32:59.300Z"
   },
   {
    "duration": 77,
    "start_time": "2023-08-30T05:33:02.366Z"
   },
   {
    "duration": 446,
    "start_time": "2023-08-30T05:33:05.973Z"
   },
   {
    "duration": 474,
    "start_time": "2023-08-30T05:33:08.464Z"
   },
   {
    "duration": 463,
    "start_time": "2023-08-30T05:33:11.467Z"
   },
   {
    "duration": 215,
    "start_time": "2023-08-30T05:33:14.402Z"
   },
   {
    "duration": 23,
    "start_time": "2023-08-30T05:33:16.277Z"
   },
   {
    "duration": 22,
    "start_time": "2023-08-30T05:33:19.970Z"
   },
   {
    "duration": 8,
    "start_time": "2023-08-30T05:33:21.995Z"
   },
   {
    "duration": 4,
    "start_time": "2023-08-30T05:33:24.433Z"
   },
   {
    "duration": 21,
    "start_time": "2023-08-30T05:33:29.654Z"
   },
   {
    "duration": 9,
    "start_time": "2023-08-30T05:33:32.677Z"
   },
   {
    "duration": 3,
    "start_time": "2023-08-30T05:33:33.537Z"
   },
   {
    "duration": 133,
    "start_time": "2023-08-30T05:33:36.098Z"
   },
   {
    "duration": 7,
    "start_time": "2023-08-30T05:33:44.084Z"
   },
   {
    "duration": 19,
    "start_time": "2023-08-30T05:33:47.398Z"
   },
   {
    "duration": 4,
    "start_time": "2023-08-30T05:33:52.595Z"
   },
   {
    "duration": 1389,
    "start_time": "2023-08-30T05:34:22.809Z"
   },
   {
    "duration": 1124,
    "start_time": "2023-08-30T05:34:24.940Z"
   },
   {
    "duration": 61,
    "start_time": "2023-08-30T05:34:26.067Z"
   },
   {
    "duration": 580,
    "start_time": "2023-08-30T05:34:27.649Z"
   },
   {
    "duration": 626,
    "start_time": "2023-08-30T05:34:32.774Z"
   },
   {
    "duration": 12,
    "start_time": "2023-08-30T05:34:36.328Z"
   },
   {
    "duration": 4,
    "start_time": "2023-08-30T05:34:39.030Z"
   },
   {
    "duration": 19,
    "start_time": "2023-08-30T05:34:44.182Z"
   },
   {
    "duration": 365,
    "start_time": "2023-08-30T05:34:50.752Z"
   },
   {
    "duration": 78,
    "start_time": "2023-08-30T05:34:53.614Z"
   },
   {
    "duration": 92,
    "start_time": "2023-08-30T05:34:56.649Z"
   },
   {
    "duration": 527,
    "start_time": "2023-08-30T05:34:57.846Z"
   },
   {
    "duration": 531,
    "start_time": "2023-08-30T05:35:01.301Z"
   },
   {
    "duration": 537,
    "start_time": "2023-08-30T05:35:02.369Z"
   },
   {
    "duration": 761,
    "start_time": "2023-08-30T05:35:06.956Z"
   },
   {
    "duration": 301,
    "start_time": "2023-08-30T05:35:09.823Z"
   },
   {
    "duration": 18,
    "start_time": "2023-08-30T05:35:12.785Z"
   },
   {
    "duration": 13,
    "start_time": "2023-08-30T05:35:17.234Z"
   },
   {
    "duration": 8,
    "start_time": "2023-08-30T05:35:19.315Z"
   },
   {
    "duration": 6,
    "start_time": "2023-08-30T05:35:21.518Z"
   },
   {
    "duration": 20,
    "start_time": "2023-08-30T05:35:27.718Z"
   },
   {
    "duration": 8,
    "start_time": "2023-08-30T05:35:31.741Z"
   },
   {
    "duration": 7,
    "start_time": "2023-08-30T05:35:36.223Z"
   },
   {
    "duration": 4,
    "start_time": "2023-08-30T05:35:37.766Z"
   },
   {
    "duration": 1338,
    "start_time": "2023-08-30T08:30:22.193Z"
   },
   {
    "duration": 1317,
    "start_time": "2023-08-30T08:30:24.861Z"
   },
   {
    "duration": 81,
    "start_time": "2023-08-30T08:30:26.180Z"
   },
   {
    "duration": 564,
    "start_time": "2023-08-30T08:30:27.068Z"
   },
   {
    "duration": 445,
    "start_time": "2023-08-30T08:30:29.845Z"
   },
   {
    "duration": 8,
    "start_time": "2023-08-30T08:30:33.069Z"
   },
   {
    "duration": 3,
    "start_time": "2023-08-30T08:30:36.732Z"
   },
   {
    "duration": 12,
    "start_time": "2023-08-30T08:30:41.400Z"
   },
   {
    "duration": 241,
    "start_time": "2023-08-30T08:30:44.328Z"
   },
   {
    "duration": 59,
    "start_time": "2023-08-30T08:30:47.571Z"
   },
   {
    "duration": 55,
    "start_time": "2023-08-30T08:30:49.958Z"
   },
   {
    "duration": 289,
    "start_time": "2023-08-30T08:30:51.474Z"
   },
   {
    "duration": 344,
    "start_time": "2023-08-30T08:30:54.220Z"
   },
   {
    "duration": 332,
    "start_time": "2023-08-30T08:30:56.836Z"
   },
   {
    "duration": 362,
    "start_time": "2023-08-30T08:30:59.991Z"
   },
   {
    "duration": 184,
    "start_time": "2023-08-30T08:31:02.637Z"
   },
   {
    "duration": 16,
    "start_time": "2023-08-30T08:31:05.275Z"
   },
   {
    "duration": 17,
    "start_time": "2023-08-30T08:31:11.726Z"
   },
   {
    "duration": 9,
    "start_time": "2023-08-30T08:31:13.728Z"
   },
   {
    "duration": 5,
    "start_time": "2023-08-30T08:31:19.315Z"
   },
   {
    "duration": 15,
    "start_time": "2023-08-30T08:31:27.577Z"
   },
   {
    "duration": 7,
    "start_time": "2023-08-30T08:31:31.007Z"
   },
   {
    "duration": 3,
    "start_time": "2023-08-30T08:31:35.397Z"
   },
   {
    "duration": 108,
    "start_time": "2023-08-30T08:31:59.228Z"
   },
   {
    "duration": 8,
    "start_time": "2023-08-30T08:32:06.082Z"
   },
   {
    "duration": 16,
    "start_time": "2023-08-30T08:32:08.040Z"
   },
   {
    "duration": 3,
    "start_time": "2023-08-30T08:32:15.190Z"
   },
   {
    "duration": 214108,
    "start_time": "2023-08-30T08:32:17.400Z"
   },
   {
    "duration": 38285,
    "start_time": "2023-08-30T08:36:27.117Z"
   },
   {
    "duration": 10,
    "start_time": "2023-08-30T08:37:09.432Z"
   },
   {
    "duration": 4404,
    "start_time": "2023-08-30T08:37:25.259Z"
   },
   {
    "duration": 13,
    "start_time": "2023-08-30T08:37:35.707Z"
   },
   {
    "duration": 4,
    "start_time": "2023-08-30T08:40:38.751Z"
   },
   {
    "duration": 28,
    "start_time": "2023-08-30T08:42:44.495Z"
   },
   {
    "duration": 1459,
    "start_time": "2023-08-30T08:45:27.286Z"
   },
   {
    "duration": 843,
    "start_time": "2023-08-30T08:45:29.646Z"
   },
   {
    "duration": 38,
    "start_time": "2023-08-30T08:45:30.701Z"
   },
   {
    "duration": 570,
    "start_time": "2023-08-30T08:45:31.840Z"
   },
   {
    "duration": 434,
    "start_time": "2023-08-30T08:45:37.064Z"
   },
   {
    "duration": 11,
    "start_time": "2023-08-30T08:45:42.367Z"
   },
   {
    "duration": 4,
    "start_time": "2023-08-30T08:45:45.215Z"
   },
   {
    "duration": 12,
    "start_time": "2023-08-30T08:45:49.301Z"
   },
   {
    "duration": 64,
    "start_time": "2023-08-30T08:45:55.763Z"
   },
   {
    "duration": 54,
    "start_time": "2023-08-30T08:45:58.106Z"
   },
   {
    "duration": 304,
    "start_time": "2023-08-30T08:45:59.506Z"
   },
   {
    "duration": 362,
    "start_time": "2023-08-30T08:46:02.366Z"
   },
   {
    "duration": 345,
    "start_time": "2023-08-30T08:46:03.468Z"
   },
   {
    "duration": 453,
    "start_time": "2023-08-30T08:46:06.814Z"
   },
   {
    "duration": 191,
    "start_time": "2023-08-30T08:46:10.168Z"
   },
   {
    "duration": 18,
    "start_time": "2023-08-30T08:46:11.818Z"
   },
   {
    "duration": 12,
    "start_time": "2023-08-30T08:46:15.701Z"
   },
   {
    "duration": 9,
    "start_time": "2023-08-30T08:46:19.143Z"
   },
   {
    "duration": 4,
    "start_time": "2023-08-30T08:46:21.035Z"
   },
   {
    "duration": 17,
    "start_time": "2023-08-30T08:46:24.905Z"
   },
   {
    "duration": 9,
    "start_time": "2023-08-30T08:46:27.752Z"
   },
   {
    "duration": 7,
    "start_time": "2023-08-30T08:46:30.133Z"
   },
   {
    "duration": 3,
    "start_time": "2023-08-30T08:46:31.934Z"
   },
   {
    "duration": 1536,
    "start_time": "2023-08-30T08:55:52.960Z"
   },
   {
    "duration": 859,
    "start_time": "2023-08-30T08:55:55.463Z"
   },
   {
    "duration": 37,
    "start_time": "2023-08-30T08:55:56.507Z"
   },
   {
    "duration": 535,
    "start_time": "2023-08-30T08:55:58.348Z"
   },
   {
    "duration": 392,
    "start_time": "2023-08-30T08:56:00.879Z"
   },
   {
    "duration": 9,
    "start_time": "2023-08-30T08:56:03.710Z"
   },
   {
    "duration": 4,
    "start_time": "2023-08-30T08:56:06.601Z"
   },
   {
    "duration": 16,
    "start_time": "2023-08-30T08:56:10.338Z"
   },
   {
    "duration": 280,
    "start_time": "2023-08-30T08:56:15.793Z"
   },
   {
    "duration": 60,
    "start_time": "2023-08-30T08:56:18.870Z"
   },
   {
    "duration": 56,
    "start_time": "2023-08-30T08:56:21.962Z"
   },
   {
    "duration": 290,
    "start_time": "2023-08-30T08:56:22.866Z"
   },
   {
    "duration": 306,
    "start_time": "2023-08-30T08:56:26.402Z"
   },
   {
    "duration": 332,
    "start_time": "2023-08-30T08:56:28.139Z"
   },
   {
    "duration": 413,
    "start_time": "2023-08-30T08:56:31.859Z"
   },
   {
    "duration": 189,
    "start_time": "2023-08-30T08:56:35.147Z"
   },
   {
    "duration": 19,
    "start_time": "2023-08-30T08:56:37.583Z"
   },
   {
    "duration": 13,
    "start_time": "2023-08-30T08:56:40.758Z"
   },
   {
    "duration": 9,
    "start_time": "2023-08-30T08:56:46.359Z"
   },
   {
    "duration": 6,
    "start_time": "2023-08-30T08:56:47.795Z"
   },
   {
    "duration": 16,
    "start_time": "2023-08-30T08:56:52.242Z"
   },
   {
    "duration": 7,
    "start_time": "2023-08-30T08:56:54.698Z"
   },
   {
    "duration": 6,
    "start_time": "2023-08-30T08:56:57.266Z"
   },
   {
    "duration": 3,
    "start_time": "2023-08-30T08:56:57.919Z"
   },
   {
    "duration": 212996,
    "start_time": "2023-08-30T08:57:00.410Z"
   },
   {
    "duration": 37781,
    "start_time": "2023-08-30T10:15:36.142Z"
   },
   {
    "duration": 1536,
    "start_time": "2023-08-30T10:16:13.925Z"
   },
   {
    "duration": 5,
    "start_time": "2023-08-30T10:16:15.550Z"
   },
   {
    "duration": 211,
    "start_time": "2023-08-30T10:16:15.558Z"
   },
   {
    "duration": 27,
    "start_time": "2023-08-30T10:20:20.639Z"
   },
   {
    "duration": 8,
    "start_time": "2023-08-30T10:23:41.190Z"
   },
   {
    "duration": 32,
    "start_time": "2023-08-30T10:23:45.460Z"
   },
   {
    "duration": 90,
    "start_time": "2023-08-30T10:24:06.371Z"
   },
   {
    "duration": 66,
    "start_time": "2023-08-30T10:24:55.348Z"
   },
   {
    "duration": 50,
    "start_time": "2023-08-30T10:26:16.277Z"
   },
   {
    "duration": 50,
    "start_time": "2023-08-30T10:26:38.199Z"
   },
   {
    "duration": 7,
    "start_time": "2023-08-30T10:32:25.916Z"
   },
   {
    "duration": 70,
    "start_time": "2023-08-30T10:32:47.229Z"
   },
   {
    "duration": 56,
    "start_time": "2023-08-30T10:33:47.497Z"
   },
   {
    "duration": 5,
    "start_time": "2023-08-30T10:37:27.888Z"
   },
   {
    "duration": 4,
    "start_time": "2023-08-30T10:38:39.919Z"
   },
   {
    "duration": 5,
    "start_time": "2023-08-30T10:38:44.814Z"
   },
   {
    "duration": 6,
    "start_time": "2023-08-30T10:39:32.565Z"
   },
   {
    "duration": 18,
    "start_time": "2023-08-30T10:39:38.763Z"
   },
   {
    "duration": 16,
    "start_time": "2023-08-30T10:39:56.155Z"
   },
   {
    "duration": 33,
    "start_time": "2023-08-30T10:40:27.145Z"
   },
   {
    "duration": 5,
    "start_time": "2023-08-30T10:40:38.475Z"
   },
   {
    "duration": 23,
    "start_time": "2023-08-30T10:41:29.881Z"
   },
   {
    "duration": 22,
    "start_time": "2023-08-30T10:42:23.216Z"
   },
   {
    "duration": 3134,
    "start_time": "2023-08-30T10:43:35.790Z"
   },
   {
    "duration": 3,
    "start_time": "2023-08-30T10:44:44.076Z"
   },
   {
    "duration": 2384,
    "start_time": "2023-08-30T10:44:46.876Z"
   },
   {
    "duration": 17,
    "start_time": "2023-08-30T10:48:11.009Z"
   },
   {
    "duration": 4,
    "start_time": "2023-08-30T10:55:40.388Z"
   },
   {
    "duration": 41155,
    "start_time": "2023-08-30T10:55:42.019Z"
   },
   {
    "duration": 232820,
    "start_time": "2023-08-30T10:56:40.123Z"
   },
   {
    "duration": 115,
    "start_time": "2023-08-30T11:00:32.945Z"
   },
   {
    "duration": 0,
    "start_time": "2023-08-30T11:00:33.062Z"
   },
   {
    "duration": 0,
    "start_time": "2023-08-30T11:00:33.063Z"
   },
   {
    "duration": 2136,
    "start_time": "2023-08-30T11:09:05.902Z"
   },
   {
    "duration": 1086,
    "start_time": "2023-08-30T11:09:08.040Z"
   },
   {
    "duration": 80,
    "start_time": "2023-08-30T11:09:09.128Z"
   },
   {
    "duration": 694,
    "start_time": "2023-08-30T11:09:09.211Z"
   },
   {
    "duration": 34,
    "start_time": "2023-08-30T11:09:11.228Z"
   },
   {
    "duration": 637,
    "start_time": "2023-08-30T11:09:12.207Z"
   },
   {
    "duration": 13,
    "start_time": "2023-08-30T11:09:16.295Z"
   },
   {
    "duration": 11,
    "start_time": "2023-08-30T11:09:19.488Z"
   },
   {
    "duration": 17,
    "start_time": "2023-08-30T11:09:24.689Z"
   },
   {
    "duration": 289,
    "start_time": "2023-08-30T11:09:27.313Z"
   },
   {
    "duration": 73,
    "start_time": "2023-08-30T11:09:29.868Z"
   },
   {
    "duration": 102,
    "start_time": "2023-08-30T11:09:32.044Z"
   },
   {
    "duration": 365,
    "start_time": "2023-08-30T11:09:33.793Z"
   },
   {
    "duration": 354,
    "start_time": "2023-08-30T11:09:38.303Z"
   },
   {
    "duration": 361,
    "start_time": "2023-08-30T11:09:39.572Z"
   },
   {
    "duration": 472,
    "start_time": "2023-08-30T11:09:44.135Z"
   },
   {
    "duration": 207,
    "start_time": "2023-08-30T11:09:47.319Z"
   },
   {
    "duration": 24,
    "start_time": "2023-08-30T11:09:49.678Z"
   },
   {
    "duration": 16,
    "start_time": "2023-08-30T11:09:53.080Z"
   },
   {
    "duration": 13,
    "start_time": "2023-08-30T11:09:55.380Z"
   },
   {
    "duration": 404,
    "start_time": "2023-08-30T11:11:30.051Z"
   },
   {
    "duration": 134,
    "start_time": "2023-08-30T11:11:33.744Z"
   },
   {
    "duration": 10,
    "start_time": "2023-08-30T11:11:39.475Z"
   },
   {
    "duration": 9,
    "start_time": "2023-08-30T11:12:30.660Z"
   },
   {
    "duration": 4,
    "start_time": "2023-08-30T11:12:44.732Z"
   },
   {
    "duration": 125,
    "start_time": "2023-08-30T11:13:26.888Z"
   },
   {
    "duration": 6,
    "start_time": "2023-08-30T11:14:01.887Z"
   },
   {
    "duration": 10,
    "start_time": "2023-08-30T11:14:07.892Z"
   },
   {
    "duration": 8,
    "start_time": "2023-08-30T11:14:15.920Z"
   },
   {
    "duration": 3,
    "start_time": "2023-08-30T11:18:06.538Z"
   },
   {
    "duration": 237111,
    "start_time": "2023-08-30T11:18:06.543Z"
   },
   {
    "duration": 2369,
    "start_time": "2023-08-30T11:41:52.597Z"
   },
   {
    "duration": 13,
    "start_time": "2023-08-30T11:42:01.557Z"
   },
   {
    "duration": 9,
    "start_time": "2023-08-30T11:42:56.750Z"
   },
   {
    "duration": 9,
    "start_time": "2023-08-30T11:43:10.502Z"
   },
   {
    "duration": 10,
    "start_time": "2023-08-30T11:43:50.438Z"
   },
   {
    "duration": 32,
    "start_time": "2023-08-30T11:44:14.965Z"
   },
   {
    "duration": 11,
    "start_time": "2023-08-30T11:48:29.476Z"
   },
   {
    "duration": 12,
    "start_time": "2023-08-30T11:49:30.523Z"
   },
   {
    "duration": 227,
    "start_time": "2023-08-30T11:49:40.124Z"
   },
   {
    "duration": 16,
    "start_time": "2023-08-30T11:49:45.547Z"
   },
   {
    "duration": 188,
    "start_time": "2023-08-30T11:50:44.031Z"
   },
   {
    "duration": 228,
    "start_time": "2023-08-30T11:51:13.204Z"
   },
   {
    "duration": 4,
    "start_time": "2023-08-30T11:53:16.149Z"
   },
   {
    "duration": 36,
    "start_time": "2023-08-30T11:53:27.681Z"
   },
   {
    "duration": 35242,
    "start_time": "2023-08-30T11:54:24.549Z"
   },
   {
    "duration": 71,
    "start_time": "2023-08-30T11:54:59.792Z"
   },
   {
    "duration": 68,
    "start_time": "2023-08-30T11:55:33.357Z"
   },
   {
    "duration": 16,
    "start_time": "2023-08-30T11:55:45.180Z"
   },
   {
    "duration": 3494,
    "start_time": "2023-08-30T11:56:50.462Z"
   },
   {
    "duration": 10,
    "start_time": "2023-08-30T11:57:43.372Z"
   },
   {
    "duration": 3683,
    "start_time": "2023-08-30T11:57:52.044Z"
   },
   {
    "duration": 3530,
    "start_time": "2023-08-30T11:58:19.891Z"
   },
   {
    "duration": 3707,
    "start_time": "2023-08-30T12:01:15.090Z"
   },
   {
    "duration": 4,
    "start_time": "2023-08-30T12:03:03.638Z"
   },
   {
    "duration": 3586,
    "start_time": "2023-08-30T12:03:11.125Z"
   },
   {
    "duration": 6,
    "start_time": "2023-08-30T12:03:22.287Z"
   },
   {
    "duration": 3675,
    "start_time": "2023-08-30T12:03:31.344Z"
   },
   {
    "duration": 40628,
    "start_time": "2023-08-30T12:27:17.491Z"
   },
   {
    "duration": 38,
    "start_time": "2023-08-30T12:33:25.900Z"
   },
   {
    "duration": 3559,
    "start_time": "2023-08-30T12:33:41.883Z"
   },
   {
    "duration": 112,
    "start_time": "2023-08-30T14:04:40.391Z"
   },
   {
    "duration": 1536,
    "start_time": "2023-08-30T14:13:14.197Z"
   },
   {
    "duration": 896,
    "start_time": "2023-08-30T14:13:16.814Z"
   },
   {
    "duration": 61,
    "start_time": "2023-08-30T14:13:17.712Z"
   },
   {
    "duration": 622,
    "start_time": "2023-08-30T14:13:18.026Z"
   },
   {
    "duration": 461,
    "start_time": "2023-08-30T14:13:19.796Z"
   },
   {
    "duration": 10,
    "start_time": "2023-08-30T14:13:23.169Z"
   },
   {
    "duration": 3,
    "start_time": "2023-08-30T14:13:25.915Z"
   },
   {
    "duration": 11,
    "start_time": "2023-08-30T14:13:30.813Z"
   },
   {
    "duration": 285,
    "start_time": "2023-08-30T14:13:32.387Z"
   },
   {
    "duration": 72,
    "start_time": "2023-08-30T14:13:35.170Z"
   },
   {
    "duration": 66,
    "start_time": "2023-08-30T14:14:02.586Z"
   },
   {
    "duration": 328,
    "start_time": "2023-08-30T14:14:03.765Z"
   },
   {
    "duration": 321,
    "start_time": "2023-08-30T14:14:06.623Z"
   },
   {
    "duration": 513,
    "start_time": "2023-08-30T14:14:08.873Z"
   },
   {
    "duration": 113,
    "start_time": "2023-08-30T14:14:15.069Z"
   },
   {
    "duration": 299,
    "start_time": "2023-08-30T14:14:20.971Z"
   },
   {
    "duration": 535,
    "start_time": "2023-08-30T14:14:24.262Z"
   },
   {
    "duration": 204,
    "start_time": "2023-08-30T14:14:27.272Z"
   },
   {
    "duration": 17,
    "start_time": "2023-08-30T14:14:29.222Z"
   },
   {
    "duration": 19,
    "start_time": "2023-08-30T14:14:32.447Z"
   },
   {
    "duration": 9,
    "start_time": "2023-08-30T14:14:35.270Z"
   },
   {
    "duration": 5,
    "start_time": "2023-08-30T14:14:37.299Z"
   },
   {
    "duration": 6,
    "start_time": "2023-08-30T14:14:40.082Z"
   },
   {
    "duration": 16,
    "start_time": "2023-08-30T14:14:41.159Z"
   },
   {
    "duration": 2,
    "start_time": "2023-08-30T14:14:54.905Z"
   },
   {
    "duration": 24,
    "start_time": "2023-08-30T14:18:32.834Z"
   },
   {
    "duration": 34,
    "start_time": "2023-08-30T14:19:20.231Z"
   },
   {
    "duration": 10,
    "start_time": "2023-08-30T14:19:54.229Z"
   },
   {
    "duration": 39703,
    "start_time": "2023-08-30T14:20:06.870Z"
   },
   {
    "duration": 1442,
    "start_time": "2023-08-30T14:23:33.272Z"
   },
   {
    "duration": 901,
    "start_time": "2023-08-30T14:23:34.996Z"
   },
   {
    "duration": 44,
    "start_time": "2023-08-30T14:23:35.987Z"
   },
   {
    "duration": 597,
    "start_time": "2023-08-30T14:23:36.844Z"
   },
   {
    "duration": 459,
    "start_time": "2023-08-30T14:23:41.769Z"
   },
   {
    "duration": 8,
    "start_time": "2023-08-30T14:23:45.580Z"
   },
   {
    "duration": 4,
    "start_time": "2023-08-30T14:23:48.876Z"
   },
   {
    "duration": 12,
    "start_time": "2023-08-30T14:23:54.320Z"
   },
   {
    "duration": 254,
    "start_time": "2023-08-30T14:23:59.379Z"
   },
   {
    "duration": 36,
    "start_time": "2023-08-30T14:24:01.897Z"
   },
   {
    "duration": 61,
    "start_time": "2023-08-30T14:24:27.402Z"
   },
   {
    "duration": 327,
    "start_time": "2023-08-30T14:24:28.304Z"
   },
   {
    "duration": 336,
    "start_time": "2023-08-30T14:24:33.426Z"
   },
   {
    "duration": 637,
    "start_time": "2023-08-30T14:24:36.273Z"
   },
   {
    "duration": 309,
    "start_time": "2023-08-30T14:24:40.638Z"
   },
   {
    "duration": 486,
    "start_time": "2023-08-30T14:24:44.369Z"
   },
   {
    "duration": 233,
    "start_time": "2023-08-30T14:24:47.587Z"
   },
   {
    "duration": 16,
    "start_time": "2023-08-30T14:24:49.222Z"
   },
   {
    "duration": 12,
    "start_time": "2023-08-30T14:24:53.512Z"
   },
   {
    "duration": 7,
    "start_time": "2023-08-30T14:24:55.809Z"
   },
   {
    "duration": 6,
    "start_time": "2023-08-30T14:24:57.675Z"
   },
   {
    "duration": 6,
    "start_time": "2023-08-30T14:25:03.777Z"
   },
   {
    "duration": 16,
    "start_time": "2023-08-30T14:25:05.267Z"
   },
   {
    "duration": 119,
    "start_time": "2023-08-30T14:25:29.773Z"
   },
   {
    "duration": 93,
    "start_time": "2023-08-30T14:25:40.712Z"
   },
   {
    "duration": 3,
    "start_time": "2023-08-30T14:27:24.593Z"
   },
   {
    "duration": 3,
    "start_time": "2023-08-30T14:27:31.843Z"
   },
   {
    "duration": 3,
    "start_time": "2023-08-30T14:27:45.635Z"
   },
   {
    "duration": 3,
    "start_time": "2023-08-30T14:28:01.639Z"
   },
   {
    "duration": 3,
    "start_time": "2023-08-30T14:28:22.580Z"
   },
   {
    "duration": 1440,
    "start_time": "2023-08-30T14:29:01.102Z"
   },
   {
    "duration": 936,
    "start_time": "2023-08-30T14:29:03.435Z"
   },
   {
    "duration": 54,
    "start_time": "2023-08-30T14:29:06.186Z"
   },
   {
    "duration": 607,
    "start_time": "2023-08-30T14:29:06.902Z"
   },
   {
    "duration": 550,
    "start_time": "2023-08-30T14:29:11.382Z"
   },
   {
    "duration": 11,
    "start_time": "2023-08-30T14:29:14.769Z"
   },
   {
    "duration": 4,
    "start_time": "2023-08-30T14:29:19.672Z"
   },
   {
    "duration": 11,
    "start_time": "2023-08-30T14:29:23.293Z"
   },
   {
    "duration": 274,
    "start_time": "2023-08-30T14:29:25.731Z"
   },
   {
    "duration": 33,
    "start_time": "2023-08-30T14:29:28.603Z"
   },
   {
    "duration": 62,
    "start_time": "2023-08-30T14:29:32.856Z"
   },
   {
    "duration": 304,
    "start_time": "2023-08-30T14:29:34.843Z"
   },
   {
    "duration": 342,
    "start_time": "2023-08-30T14:29:37.455Z"
   },
   {
    "duration": 395,
    "start_time": "2023-08-30T14:29:38.504Z"
   },
   {
    "duration": 397,
    "start_time": "2023-08-30T14:29:41.197Z"
   },
   {
    "duration": 216,
    "start_time": "2023-08-30T14:29:44.321Z"
   },
   {
    "duration": 23,
    "start_time": "2023-08-30T14:29:46.528Z"
   },
   {
    "duration": 11,
    "start_time": "2023-08-30T14:29:49.243Z"
   },
   {
    "duration": 9,
    "start_time": "2023-08-30T14:29:50.880Z"
   },
   {
    "duration": 4,
    "start_time": "2023-08-30T14:29:52.968Z"
   },
   {
    "duration": 5,
    "start_time": "2023-08-30T14:29:59.316Z"
   },
   {
    "duration": 13,
    "start_time": "2023-08-30T14:30:00.862Z"
   },
   {
    "duration": 3,
    "start_time": "2023-08-30T14:30:04.711Z"
   },
   {
    "duration": 7,
    "start_time": "2023-08-30T14:30:07.761Z"
   },
   {
    "duration": 225706,
    "start_time": "2023-08-30T14:30:13.365Z"
   },
   {
    "duration": 40870,
    "start_time": "2023-08-30T14:34:29.056Z"
   },
   {
    "duration": 2327,
    "start_time": "2023-08-30T14:35:36.742Z"
   },
   {
    "duration": 247,
    "start_time": "2023-08-30T14:38:00.726Z"
   },
   {
    "duration": 38,
    "start_time": "2023-08-30T14:38:36.278Z"
   },
   {
    "duration": 5,
    "start_time": "2023-08-30T14:38:38.671Z"
   },
   {
    "duration": 10,
    "start_time": "2023-08-30T14:39:26.230Z"
   },
   {
    "duration": 5,
    "start_time": "2023-08-30T14:39:39.224Z"
   },
   {
    "duration": 4,
    "start_time": "2023-08-30T15:07:50.091Z"
   },
   {
    "duration": 151,
    "start_time": "2023-08-30T15:08:05.292Z"
   },
   {
    "duration": 38,
    "start_time": "2023-08-30T15:11:24.794Z"
   },
   {
    "duration": 29,
    "start_time": "2023-08-30T15:13:04.993Z"
   },
   {
    "duration": 10,
    "start_time": "2023-08-30T15:13:06.787Z"
   },
   {
    "duration": 5,
    "start_time": "2023-08-30T15:13:46.327Z"
   },
   {
    "duration": 9,
    "start_time": "2023-08-30T15:14:06.498Z"
   },
   {
    "duration": 1766,
    "start_time": "2023-08-31T04:46:42.407Z"
   },
   {
    "duration": 3190,
    "start_time": "2023-08-31T04:46:46.058Z"
   },
   {
    "duration": 43,
    "start_time": "2023-08-31T04:46:49.250Z"
   },
   {
    "duration": 638,
    "start_time": "2023-08-31T04:46:49.295Z"
   },
   {
    "duration": 498,
    "start_time": "2023-08-31T04:46:49.935Z"
   },
   {
    "duration": 11,
    "start_time": "2023-08-31T04:46:54.912Z"
   },
   {
    "duration": 4,
    "start_time": "2023-08-31T04:47:02.292Z"
   },
   {
    "duration": 14,
    "start_time": "2023-08-31T04:47:07.349Z"
   },
   {
    "duration": 54,
    "start_time": "2023-08-31T04:47:15.680Z"
   },
   {
    "duration": 54,
    "start_time": "2023-08-31T04:49:49.153Z"
   },
   {
    "duration": 292,
    "start_time": "2023-08-31T04:50:04.057Z"
   },
   {
    "duration": 17,
    "start_time": "2023-08-31T04:51:38.970Z"
   },
   {
    "duration": 15,
    "start_time": "2023-08-31T04:53:15.168Z"
   },
   {
    "duration": 15,
    "start_time": "2023-08-31T04:56:10.456Z"
   },
   {
    "duration": 120,
    "start_time": "2023-08-31T04:56:26.905Z"
   },
   {
    "duration": 13,
    "start_time": "2023-08-31T04:56:48.098Z"
   },
   {
    "duration": 18,
    "start_time": "2023-08-31T04:56:50.378Z"
   },
   {
    "duration": 12,
    "start_time": "2023-08-31T04:56:52.184Z"
   },
   {
    "duration": 27,
    "start_time": "2023-08-31T04:58:01.193Z"
   },
   {
    "duration": 21,
    "start_time": "2023-08-31T04:58:14.350Z"
   },
   {
    "duration": 23,
    "start_time": "2023-08-31T04:58:18.534Z"
   },
   {
    "duration": 23,
    "start_time": "2023-08-31T04:58:41.438Z"
   },
   {
    "duration": 15,
    "start_time": "2023-08-31T04:58:54.608Z"
   },
   {
    "duration": 21,
    "start_time": "2023-08-31T04:59:47.656Z"
   },
   {
    "duration": 18,
    "start_time": "2023-08-31T05:00:36.533Z"
   },
   {
    "duration": 12,
    "start_time": "2023-08-31T05:01:01.713Z"
   },
   {
    "duration": 10,
    "start_time": "2023-08-31T05:01:24.208Z"
   },
   {
    "duration": 10,
    "start_time": "2023-08-31T05:01:32.564Z"
   },
   {
    "duration": 3,
    "start_time": "2023-08-31T05:01:39.235Z"
   },
   {
    "duration": 42,
    "start_time": "2023-08-31T05:04:23.762Z"
   },
   {
    "duration": 30,
    "start_time": "2023-08-31T05:04:32.701Z"
   },
   {
    "duration": 25,
    "start_time": "2023-08-31T05:04:49.213Z"
   },
   {
    "duration": 34,
    "start_time": "2023-08-31T05:04:51.456Z"
   },
   {
    "duration": 81,
    "start_time": "2023-08-31T05:05:02.329Z"
   },
   {
    "duration": 321,
    "start_time": "2023-08-31T05:05:06.212Z"
   },
   {
    "duration": 364,
    "start_time": "2023-08-31T05:05:09.612Z"
   },
   {
    "duration": 466,
    "start_time": "2023-08-31T05:05:11.860Z"
   },
   {
    "duration": 723,
    "start_time": "2023-08-31T05:05:14.736Z"
   },
   {
    "duration": 214,
    "start_time": "2023-08-31T05:05:23.574Z"
   },
   {
    "duration": 23,
    "start_time": "2023-08-31T05:05:32.609Z"
   },
   {
    "duration": 13,
    "start_time": "2023-08-31T05:05:59.302Z"
   },
   {
    "duration": 8,
    "start_time": "2023-08-31T05:06:01.022Z"
   },
   {
    "duration": 6,
    "start_time": "2023-08-31T05:06:04.457Z"
   },
   {
    "duration": 14,
    "start_time": "2023-08-31T05:06:09.530Z"
   },
   {
    "duration": 12,
    "start_time": "2023-08-31T05:06:19.142Z"
   },
   {
    "duration": 5,
    "start_time": "2023-08-31T05:06:22.594Z"
   },
   {
    "duration": 4,
    "start_time": "2023-08-31T05:06:27.681Z"
   },
   {
    "duration": 11,
    "start_time": "2023-08-31T05:06:32.643Z"
   },
   {
    "duration": 16,
    "start_time": "2023-08-31T05:06:42.131Z"
   },
   {
    "duration": 14,
    "start_time": "2023-08-31T05:06:48.436Z"
   },
   {
    "duration": 128,
    "start_time": "2023-08-31T05:10:20.963Z"
   },
   {
    "duration": 39,
    "start_time": "2023-08-31T05:10:22.188Z"
   },
   {
    "duration": 318,
    "start_time": "2023-08-31T05:10:38.171Z"
   },
   {
    "duration": 37,
    "start_time": "2023-08-31T05:10:42.721Z"
   },
   {
    "duration": 13,
    "start_time": "2023-08-31T05:12:10.268Z"
   },
   {
    "duration": 4,
    "start_time": "2023-08-31T05:12:43.642Z"
   },
   {
    "duration": 14,
    "start_time": "2023-08-31T05:14:46.261Z"
   },
   {
    "duration": 16,
    "start_time": "2023-08-31T05:14:49.445Z"
   },
   {
    "duration": 15,
    "start_time": "2023-08-31T05:14:52.141Z"
   },
   {
    "duration": 15,
    "start_time": "2023-08-31T05:14:54.434Z"
   },
   {
    "duration": 23,
    "start_time": "2023-08-31T05:15:16.337Z"
   },
   {
    "duration": 17,
    "start_time": "2023-08-31T05:15:18.269Z"
   },
   {
    "duration": 13,
    "start_time": "2023-08-31T05:15:31.242Z"
   },
   {
    "duration": 14,
    "start_time": "2023-08-31T05:15:37.541Z"
   },
   {
    "duration": 5,
    "start_time": "2023-08-31T05:15:40.703Z"
   },
   {
    "duration": 4,
    "start_time": "2023-08-31T05:16:16.874Z"
   },
   {
    "duration": 15,
    "start_time": "2023-08-31T05:16:29.804Z"
   },
   {
    "duration": 21,
    "start_time": "2023-08-31T05:17:16.999Z"
   },
   {
    "duration": 18,
    "start_time": "2023-08-31T05:17:23.887Z"
   },
   {
    "duration": 10,
    "start_time": "2023-08-31T05:17:26.918Z"
   },
   {
    "duration": 6,
    "start_time": "2023-08-31T05:17:29.949Z"
   },
   {
    "duration": 15,
    "start_time": "2023-08-31T05:17:33.317Z"
   },
   {
    "duration": 17,
    "start_time": "2023-08-31T05:17:34.751Z"
   },
   {
    "duration": 15,
    "start_time": "2023-08-31T05:17:38.249Z"
   },
   {
    "duration": 4,
    "start_time": "2023-08-31T05:17:41.738Z"
   },
   {
    "duration": 3,
    "start_time": "2023-08-31T05:18:06.793Z"
   },
   {
    "duration": 17,
    "start_time": "2023-08-31T05:18:08.874Z"
   },
   {
    "duration": 1549,
    "start_time": "2023-08-31T05:25:02.100Z"
   },
   {
    "duration": 813,
    "start_time": "2023-08-31T05:25:05.663Z"
   },
   {
    "duration": 624,
    "start_time": "2023-08-31T05:25:11.230Z"
   },
   {
    "duration": 552,
    "start_time": "2023-08-31T05:25:15.382Z"
   },
   {
    "duration": 12,
    "start_time": "2023-08-31T05:25:21.879Z"
   },
   {
    "duration": 4,
    "start_time": "2023-08-31T05:25:26.919Z"
   },
   {
    "duration": 13,
    "start_time": "2023-08-31T05:25:45.792Z"
   },
   {
    "duration": 274,
    "start_time": "2023-08-31T05:25:50.095Z"
   },
   {
    "duration": 40,
    "start_time": "2023-08-31T05:26:01.505Z"
   },
   {
    "duration": 10,
    "start_time": "2023-08-31T05:26:04.983Z"
   },
   {
    "duration": 22,
    "start_time": "2023-08-31T05:26:07.498Z"
   },
   {
    "duration": 33,
    "start_time": "2023-08-31T05:26:10.032Z"
   },
   {
    "duration": 18,
    "start_time": "2023-08-31T05:26:12.461Z"
   },
   {
    "duration": 45,
    "start_time": "2023-08-31T05:26:14.162Z"
   },
   {
    "duration": 123,
    "start_time": "2023-08-31T05:26:15.836Z"
   },
   {
    "duration": 27,
    "start_time": "2023-08-31T05:26:17.370Z"
   },
   {
    "duration": 74,
    "start_time": "2023-08-31T05:26:21.001Z"
   },
   {
    "duration": 315,
    "start_time": "2023-08-31T05:26:22.402Z"
   },
   {
    "duration": 370,
    "start_time": "2023-08-31T05:26:25.098Z"
   },
   {
    "duration": 417,
    "start_time": "2023-08-31T05:26:27.114Z"
   },
   {
    "duration": 452,
    "start_time": "2023-08-31T05:26:30.674Z"
   },
   {
    "duration": 230,
    "start_time": "2023-08-31T05:26:34.261Z"
   },
   {
    "duration": 20,
    "start_time": "2023-08-31T05:26:36.929Z"
   },
   {
    "duration": 16,
    "start_time": "2023-08-31T05:26:41.017Z"
   },
   {
    "duration": 9,
    "start_time": "2023-08-31T05:26:42.982Z"
   },
   {
    "duration": 6,
    "start_time": "2023-08-31T05:26:47.249Z"
   },
   {
    "duration": 16,
    "start_time": "2023-08-31T05:26:52.151Z"
   },
   {
    "duration": 140,
    "start_time": "2023-08-31T05:26:53.670Z"
   },
   {
    "duration": 18,
    "start_time": "2023-08-31T05:27:24.705Z"
   },
   {
    "duration": 4,
    "start_time": "2023-08-31T05:27:30.008Z"
   },
   {
    "duration": 4,
    "start_time": "2023-08-31T05:27:32.033Z"
   },
   {
    "duration": 3470,
    "start_time": "2023-08-31T05:28:15.430Z"
   },
   {
    "duration": 847,
    "start_time": "2023-08-31T05:28:51.237Z"
   },
   {
    "duration": 12,
    "start_time": "2023-08-31T05:29:29.074Z"
   },
   {
    "duration": 5,
    "start_time": "2023-08-31T05:29:32.307Z"
   },
   {
    "duration": 4,
    "start_time": "2023-08-31T05:29:34.409Z"
   },
   {
    "duration": 19,
    "start_time": "2023-08-31T05:29:39.285Z"
   },
   {
    "duration": 11,
    "start_time": "2023-08-31T05:30:02.035Z"
   },
   {
    "duration": 6,
    "start_time": "2023-08-31T05:31:25.328Z"
   },
   {
    "duration": 11,
    "start_time": "2023-08-31T06:12:04.860Z"
   },
   {
    "duration": 48,
    "start_time": "2023-08-31T06:13:09.689Z"
   },
   {
    "duration": 36,
    "start_time": "2023-08-31T06:13:37.831Z"
   },
   {
    "duration": 75,
    "start_time": "2023-08-31T06:13:43.309Z"
   },
   {
    "duration": 375,
    "start_time": "2023-08-31T06:13:45.035Z"
   },
   {
    "duration": 355,
    "start_time": "2023-08-31T06:13:47.593Z"
   },
   {
    "duration": 321,
    "start_time": "2023-08-31T06:13:49.043Z"
   },
   {
    "duration": 494,
    "start_time": "2023-08-31T06:13:51.641Z"
   },
   {
    "duration": 204,
    "start_time": "2023-08-31T06:13:56.576Z"
   },
   {
    "duration": 20,
    "start_time": "2023-08-31T06:13:58.169Z"
   },
   {
    "duration": 19,
    "start_time": "2023-08-31T06:14:00.651Z"
   },
   {
    "duration": 10,
    "start_time": "2023-08-31T06:14:02.880Z"
   },
   {
    "duration": 4,
    "start_time": "2023-08-31T06:14:05.028Z"
   },
   {
    "duration": 14,
    "start_time": "2023-08-31T06:14:08.903Z"
   },
   {
    "duration": 15,
    "start_time": "2023-08-31T06:14:10.498Z"
   },
   {
    "duration": 18,
    "start_time": "2023-08-31T06:14:13.056Z"
   },
   {
    "duration": 5,
    "start_time": "2023-08-31T06:14:16.748Z"
   },
   {
    "duration": 3,
    "start_time": "2023-08-31T06:14:18.893Z"
   },
   {
    "duration": 15,
    "start_time": "2023-08-31T06:14:20.335Z"
   },
   {
    "duration": 11,
    "start_time": "2023-08-31T06:17:09.282Z"
   },
   {
    "duration": 12,
    "start_time": "2023-08-31T06:19:51.033Z"
   },
   {
    "duration": 5,
    "start_time": "2023-08-31T06:19:58.957Z"
   },
   {
    "duration": 14,
    "start_time": "2023-08-31T06:20:13.602Z"
   },
   {
    "duration": 304,
    "start_time": "2023-08-31T06:20:16.156Z"
   },
   {
    "duration": 37,
    "start_time": "2023-08-31T06:23:45.563Z"
   },
   {
    "duration": 9,
    "start_time": "2023-08-31T06:23:46.486Z"
   },
   {
    "duration": 16,
    "start_time": "2023-08-31T06:23:48.765Z"
   },
   {
    "duration": 22,
    "start_time": "2023-08-31T06:23:50.034Z"
   },
   {
    "duration": 119,
    "start_time": "2023-08-31T06:23:51.228Z"
   },
   {
    "duration": 36,
    "start_time": "2023-08-31T06:23:52.382Z"
   },
   {
    "duration": 32,
    "start_time": "2023-08-31T06:23:59.306Z"
   },
   {
    "duration": 29,
    "start_time": "2023-08-31T06:24:01.059Z"
   },
   {
    "duration": 43,
    "start_time": "2023-08-31T06:35:26.254Z"
   },
   {
    "duration": 47,
    "start_time": "2023-08-31T06:35:29.777Z"
   },
   {
    "duration": 12,
    "start_time": "2023-08-31T06:35:52.862Z"
   },
   {
    "duration": 2259,
    "start_time": "2023-08-31T06:36:19.634Z"
   },
   {
    "duration": 5,
    "start_time": "2023-08-31T06:36:22.010Z"
   },
   {
    "duration": 5,
    "start_time": "2023-08-31T06:36:33.560Z"
   },
   {
    "duration": 28,
    "start_time": "2023-08-31T06:36:36.714Z"
   },
   {
    "duration": 16,
    "start_time": "2023-08-31T06:36:39.362Z"
   },
   {
    "duration": 19,
    "start_time": "2023-08-31T06:36:43.453Z"
   },
   {
    "duration": 1704,
    "start_time": "2023-08-31T06:45:01.487Z"
   },
   {
    "duration": 849,
    "start_time": "2023-08-31T06:45:03.969Z"
   },
   {
    "duration": 44,
    "start_time": "2023-08-31T06:45:07.248Z"
   },
   {
    "duration": 628,
    "start_time": "2023-08-31T06:45:09.575Z"
   },
   {
    "duration": 482,
    "start_time": "2023-08-31T06:45:14.765Z"
   },
   {
    "duration": 11,
    "start_time": "2023-08-31T06:45:23.814Z"
   },
   {
    "duration": 4,
    "start_time": "2023-08-31T06:45:37.470Z"
   },
   {
    "duration": 13,
    "start_time": "2023-08-31T06:45:43.507Z"
   },
   {
    "duration": 277,
    "start_time": "2023-08-31T06:45:48.082Z"
   },
   {
    "duration": 39,
    "start_time": "2023-08-31T06:45:51.171Z"
   },
   {
    "duration": 10,
    "start_time": "2023-08-31T06:45:56.930Z"
   },
   {
    "duration": 66,
    "start_time": "2023-08-31T06:58:55.799Z"
   },
   {
    "duration": 339,
    "start_time": "2023-08-31T06:58:58.152Z"
   },
   {
    "duration": 419,
    "start_time": "2023-08-31T06:59:01.999Z"
   },
   {
    "duration": 421,
    "start_time": "2023-08-31T06:59:02.959Z"
   },
   {
    "duration": 442,
    "start_time": "2023-08-31T06:59:06.274Z"
   },
   {
    "duration": 230,
    "start_time": "2023-08-31T06:59:09.050Z"
   },
   {
    "duration": 21,
    "start_time": "2023-08-31T06:59:10.363Z"
   },
   {
    "duration": 21,
    "start_time": "2023-08-31T06:59:14.130Z"
   },
   {
    "duration": 8,
    "start_time": "2023-08-31T06:59:21.526Z"
   },
   {
    "duration": 1915,
    "start_time": "2023-08-31T06:59:23.531Z"
   },
   {
    "duration": 5,
    "start_time": "2023-08-31T06:59:29.069Z"
   },
   {
    "duration": 25,
    "start_time": "2023-08-31T06:59:32.439Z"
   },
   {
    "duration": 6,
    "start_time": "2023-08-31T06:59:33.425Z"
   },
   {
    "duration": 13,
    "start_time": "2023-08-31T06:59:36.725Z"
   },
   {
    "duration": 52,
    "start_time": "2023-08-31T07:54:23.514Z"
   },
   {
    "duration": 1593,
    "start_time": "2023-08-31T07:54:26.366Z"
   },
   {
    "duration": 869,
    "start_time": "2023-08-31T07:54:28.932Z"
   },
   {
    "duration": 53,
    "start_time": "2023-08-31T07:54:33.559Z"
   },
   {
    "duration": 670,
    "start_time": "2023-08-31T07:54:36.016Z"
   },
   {
    "duration": 533,
    "start_time": "2023-08-31T07:54:42.635Z"
   },
   {
    "duration": 11,
    "start_time": "2023-08-31T07:54:46.291Z"
   },
   {
    "duration": 3,
    "start_time": "2023-08-31T07:55:00.210Z"
   },
   {
    "duration": 13,
    "start_time": "2023-08-31T07:55:05.038Z"
   },
   {
    "duration": 284,
    "start_time": "2023-08-31T07:55:09.835Z"
   },
   {
    "duration": 41,
    "start_time": "2023-08-31T07:55:17.192Z"
   },
   {
    "duration": 18,
    "start_time": "2023-08-31T07:55:39.680Z"
   },
   {
    "duration": 4,
    "start_time": "2023-08-31T07:55:45.635Z"
   },
   {
    "duration": 12,
    "start_time": "2023-08-31T07:57:17.120Z"
   },
   {
    "duration": 262,
    "start_time": "2023-08-31T07:57:18.337Z"
   },
   {
    "duration": 38,
    "start_time": "2023-08-31T07:57:21.182Z"
   },
   {
    "duration": 67,
    "start_time": "2023-08-31T07:57:39.764Z"
   },
   {
    "duration": 316,
    "start_time": "2023-08-31T07:57:41.076Z"
   },
   {
    "duration": 85,
    "start_time": "2023-08-31T07:57:48.574Z"
   },
   {
    "duration": 403,
    "start_time": "2023-08-31T07:58:44.087Z"
   },
   {
    "duration": 406,
    "start_time": "2023-08-31T07:58:44.906Z"
   },
   {
    "duration": 456,
    "start_time": "2023-08-31T07:58:49.267Z"
   },
   {
    "duration": 221,
    "start_time": "2023-08-31T07:58:52.164Z"
   },
   {
    "duration": 21,
    "start_time": "2023-08-31T07:58:55.130Z"
   },
   {
    "duration": 13,
    "start_time": "2023-08-31T07:59:01.621Z"
   },
   {
    "duration": 17,
    "start_time": "2023-08-31T07:59:11.406Z"
   },
   {
    "duration": 19,
    "start_time": "2023-08-31T08:00:44.921Z"
   },
   {
    "duration": 8,
    "start_time": "2023-08-31T08:00:51.765Z"
   },
   {
    "duration": 2401,
    "start_time": "2023-08-31T08:00:53.755Z"
   },
   {
    "duration": 4,
    "start_time": "2023-08-31T08:01:03.704Z"
   },
   {
    "duration": 24,
    "start_time": "2023-08-31T08:01:15.007Z"
   },
   {
    "duration": 7,
    "start_time": "2023-08-31T08:01:18.614Z"
   },
   {
    "duration": 12,
    "start_time": "2023-08-31T08:01:21.097Z"
   },
   {
    "duration": 6,
    "start_time": "2023-08-31T08:01:24.112Z"
   },
   {
    "duration": 6,
    "start_time": "2023-08-31T08:02:42.785Z"
   },
   {
    "duration": 5,
    "start_time": "2023-08-31T08:02:49.964Z"
   },
   {
    "duration": 6,
    "start_time": "2023-08-31T08:04:50.077Z"
   },
   {
    "duration": 3,
    "start_time": "2023-08-31T08:05:43.634Z"
   },
   {
    "duration": 17,
    "start_time": "2023-08-31T08:05:47.997Z"
   },
   {
    "duration": 6,
    "start_time": "2023-08-31T08:06:08.927Z"
   },
   {
    "duration": 15,
    "start_time": "2023-08-31T08:07:12.870Z"
   },
   {
    "duration": 12,
    "start_time": "2023-08-31T08:07:19.091Z"
   },
   {
    "duration": 15,
    "start_time": "2023-08-31T08:07:36.040Z"
   },
   {
    "duration": 6,
    "start_time": "2023-08-31T08:08:11.763Z"
   },
   {
    "duration": 12,
    "start_time": "2023-08-31T08:08:16.298Z"
   },
   {
    "duration": 12,
    "start_time": "2023-08-31T08:08:51.048Z"
   },
   {
    "duration": 4,
    "start_time": "2023-08-31T08:09:22.880Z"
   },
   {
    "duration": 15,
    "start_time": "2023-08-31T08:10:36.677Z"
   },
   {
    "duration": 4,
    "start_time": "2023-08-31T08:10:50.440Z"
   },
   {
    "duration": 23,
    "start_time": "2023-08-31T08:12:00.278Z"
   },
   {
    "duration": 5,
    "start_time": "2023-08-31T08:12:08.940Z"
   },
   {
    "duration": 1624,
    "start_time": "2023-08-31T08:25:35.149Z"
   },
   {
    "duration": 768,
    "start_time": "2023-08-31T08:25:38.910Z"
   },
   {
    "duration": 45,
    "start_time": "2023-08-31T08:25:42.092Z"
   },
   {
    "duration": 684,
    "start_time": "2023-08-31T08:25:43.497Z"
   },
   {
    "duration": 492,
    "start_time": "2023-08-31T08:25:47.018Z"
   },
   {
    "duration": 10,
    "start_time": "2023-08-31T08:25:52.282Z"
   },
   {
    "duration": 4,
    "start_time": "2023-08-31T08:25:56.817Z"
   },
   {
    "duration": 13,
    "start_time": "2023-08-31T08:26:03.409Z"
   },
   {
    "duration": 265,
    "start_time": "2023-08-31T08:26:06.924Z"
   },
   {
    "duration": 42,
    "start_time": "2023-08-31T08:26:36.769Z"
   },
   {
    "duration": 4,
    "start_time": "2023-08-31T08:26:48.429Z"
   },
   {
    "duration": 18,
    "start_time": "2023-08-31T08:26:55.998Z"
   },
   {
    "duration": 5,
    "start_time": "2023-08-31T08:26:57.763Z"
   },
   {
    "duration": 60,
    "start_time": "2023-08-31T08:27:02.925Z"
   },
   {
    "duration": 361,
    "start_time": "2023-08-31T08:27:04.072Z"
   },
   {
    "duration": 7,
    "start_time": "2023-08-31T08:27:09.719Z"
   },
   {
    "duration": 112,
    "start_time": "2023-08-31T08:27:12.668Z"
   },
   {
    "duration": 19,
    "start_time": "2023-08-31T08:27:19.317Z"
   },
   {
    "duration": 419,
    "start_time": "2023-08-31T08:27:22.567Z"
   },
   {
    "duration": 17,
    "start_time": "2023-08-31T08:27:27.233Z"
   },
   {
    "duration": 12,
    "start_time": "2023-08-31T08:27:33.371Z"
   },
   {
    "duration": 11,
    "start_time": "2023-08-31T08:27:36.963Z"
   },
   {
    "duration": 4,
    "start_time": "2023-08-31T08:27:41.479Z"
   },
   {
    "duration": 1826,
    "start_time": "2023-08-31T08:27:42.802Z"
   },
   {
    "duration": 23,
    "start_time": "2023-08-31T08:27:46.222Z"
   },
   {
    "duration": 13,
    "start_time": "2023-08-31T08:27:51.799Z"
   },
   {
    "duration": 1377,
    "start_time": "2023-08-31T10:22:16.714Z"
   },
   {
    "duration": 812,
    "start_time": "2023-08-31T10:22:18.485Z"
   },
   {
    "duration": 41,
    "start_time": "2023-08-31T10:22:19.299Z"
   },
   {
    "duration": 612,
    "start_time": "2023-08-31T10:22:19.859Z"
   },
   {
    "duration": 433,
    "start_time": "2023-08-31T10:22:24.395Z"
   },
   {
    "duration": 11,
    "start_time": "2023-08-31T10:22:27.696Z"
   },
   {
    "duration": 4,
    "start_time": "2023-08-31T10:22:31.287Z"
   },
   {
    "duration": 14,
    "start_time": "2023-08-31T10:22:35.381Z"
   },
   {
    "duration": 272,
    "start_time": "2023-08-31T10:22:37.883Z"
   },
   {
    "duration": 42,
    "start_time": "2023-08-31T10:22:50.742Z"
   },
   {
    "duration": 4,
    "start_time": "2023-08-31T10:23:01.901Z"
   },
   {
    "duration": 15,
    "start_time": "2023-08-31T10:23:07.688Z"
   },
   {
    "duration": 3,
    "start_time": "2023-08-31T10:23:09.325Z"
   },
   {
    "duration": 59,
    "start_time": "2023-08-31T10:23:12.621Z"
   },
   {
    "duration": 313,
    "start_time": "2023-08-31T10:23:13.638Z"
   },
   {
    "duration": 351,
    "start_time": "2023-08-31T10:23:19.352Z"
   },
   {
    "duration": 405,
    "start_time": "2023-08-31T10:23:21.847Z"
   },
   {
    "duration": 526,
    "start_time": "2023-08-31T10:23:25.374Z"
   },
   {
    "duration": 208,
    "start_time": "2023-08-31T10:23:32.491Z"
   },
   {
    "duration": 21,
    "start_time": "2023-08-31T10:23:34.691Z"
   },
   {
    "duration": 15,
    "start_time": "2023-08-31T10:23:43.908Z"
   },
   {
    "duration": 8,
    "start_time": "2023-08-31T10:23:46.744Z"
   },
   {
    "duration": 4,
    "start_time": "2023-08-31T10:23:52.409Z"
   },
   {
    "duration": 23,
    "start_time": "2023-08-31T10:23:59.908Z"
   },
   {
    "duration": 125,
    "start_time": "2023-08-31T10:24:02.998Z"
   },
   {
    "duration": 12,
    "start_time": "2023-08-31T10:24:49.808Z"
   },
   {
    "duration": 4,
    "start_time": "2023-08-31T10:25:19.021Z"
   },
   {
    "duration": 3,
    "start_time": "2023-08-31T10:26:05.635Z"
   },
   {
    "duration": 14,
    "start_time": "2023-08-31T10:26:09.947Z"
   },
   {
    "duration": 18,
    "start_time": "2023-08-31T10:26:23.683Z"
   },
   {
    "duration": 220,
    "start_time": "2023-08-31T10:26:32.342Z"
   },
   {
    "duration": 19,
    "start_time": "2023-08-31T10:26:44.214Z"
   },
   {
    "duration": 510,
    "start_time": "2023-08-31T10:27:24.439Z"
   },
   {
    "duration": 501,
    "start_time": "2023-08-31T10:27:46.105Z"
   },
   {
    "duration": 6,
    "start_time": "2023-08-31T10:29:16.007Z"
   },
   {
    "duration": 15,
    "start_time": "2023-08-31T10:33:02.813Z"
   },
   {
    "duration": 0,
    "start_time": "2023-08-31T10:33:02.829Z"
   },
   {
    "duration": 1898,
    "start_time": "2023-08-31T10:37:25.937Z"
   },
   {
    "duration": 819,
    "start_time": "2023-08-31T10:37:29.503Z"
   },
   {
    "duration": 54,
    "start_time": "2023-08-31T10:37:30.325Z"
   },
   {
    "duration": 649,
    "start_time": "2023-08-31T10:37:31.751Z"
   },
   {
    "duration": 507,
    "start_time": "2023-08-31T10:37:36.043Z"
   },
   {
    "duration": 13,
    "start_time": "2023-08-31T10:37:40.854Z"
   },
   {
    "duration": 4,
    "start_time": "2023-08-31T10:37:43.931Z"
   },
   {
    "duration": 20,
    "start_time": "2023-08-31T10:37:48.454Z"
   },
   {
    "duration": 333,
    "start_time": "2023-08-31T10:37:52.057Z"
   },
   {
    "duration": 47,
    "start_time": "2023-08-31T10:37:54.912Z"
   },
   {
    "duration": 18,
    "start_time": "2023-08-31T10:37:56.646Z"
   },
   {
    "duration": 6,
    "start_time": "2023-08-31T10:37:59.283Z"
   },
   {
    "duration": 69,
    "start_time": "2023-08-31T10:38:02.403Z"
   },
   {
    "duration": 334,
    "start_time": "2023-08-31T10:38:03.613Z"
   },
   {
    "duration": 383,
    "start_time": "2023-08-31T10:38:06.798Z"
   },
   {
    "duration": 435,
    "start_time": "2023-08-31T10:38:08.925Z"
   },
   {
    "duration": 608,
    "start_time": "2023-08-31T10:38:12.714Z"
   },
   {
    "duration": 234,
    "start_time": "2023-08-31T10:38:17.411Z"
   },
   {
    "duration": 21,
    "start_time": "2023-08-31T10:38:18.639Z"
   },
   {
    "duration": 18,
    "start_time": "2023-08-31T10:38:22.225Z"
   },
   {
    "duration": 8,
    "start_time": "2023-08-31T10:38:26.295Z"
   },
   {
    "duration": 5,
    "start_time": "2023-08-31T10:38:31.007Z"
   },
   {
    "duration": 27,
    "start_time": "2023-08-31T10:38:35.283Z"
   },
   {
    "duration": 6,
    "start_time": "2023-08-31T10:38:37.991Z"
   },
   {
    "duration": 4,
    "start_time": "2023-08-31T10:38:43.901Z"
   },
   {
    "duration": 674,
    "start_time": "2023-08-31T10:38:50.095Z"
   },
   {
    "duration": 43,
    "start_time": "2023-09-01T07:44:43.555Z"
   },
   {
    "duration": 15,
    "start_time": "2023-09-01T07:44:51.612Z"
   },
   {
    "duration": 12,
    "start_time": "2023-09-01T07:45:59.746Z"
   },
   {
    "duration": 0,
    "start_time": "2023-09-01T07:45:59.759Z"
   },
   {
    "duration": 0,
    "start_time": "2023-09-01T07:45:59.760Z"
   },
   {
    "duration": 0,
    "start_time": "2023-09-01T07:45:59.762Z"
   },
   {
    "duration": 12,
    "start_time": "2023-09-01T07:45:59.772Z"
   },
   {
    "duration": 0,
    "start_time": "2023-09-01T07:45:59.786Z"
   },
   {
    "duration": 0,
    "start_time": "2023-09-01T07:45:59.790Z"
   },
   {
    "duration": 0,
    "start_time": "2023-09-01T07:45:59.791Z"
   },
   {
    "duration": 2442,
    "start_time": "2023-09-01T09:15:30.068Z"
   },
   {
    "duration": 4238,
    "start_time": "2023-09-01T09:15:34.219Z"
   },
   {
    "duration": 65,
    "start_time": "2023-09-01T09:15:38.462Z"
   },
   {
    "duration": 795,
    "start_time": "2023-09-01T09:15:42.450Z"
   },
   {
    "duration": 570,
    "start_time": "2023-09-01T09:15:46.129Z"
   },
   {
    "duration": 20,
    "start_time": "2023-09-01T09:15:49.510Z"
   },
   {
    "duration": 11,
    "start_time": "2023-09-01T09:15:52.525Z"
   },
   {
    "duration": 29,
    "start_time": "2023-09-01T09:15:56.610Z"
   },
   {
    "duration": 386,
    "start_time": "2023-09-01T09:15:59.661Z"
   },
   {
    "duration": 52,
    "start_time": "2023-09-01T09:16:03.011Z"
   },
   {
    "duration": 47,
    "start_time": "2023-09-01T09:16:08.510Z"
   },
   {
    "duration": 7,
    "start_time": "2023-09-01T09:16:12.176Z"
   },
   {
    "duration": 88,
    "start_time": "2023-09-01T09:16:16.954Z"
   },
   {
    "duration": 421,
    "start_time": "2023-09-01T09:16:19.555Z"
   },
   {
    "duration": 488,
    "start_time": "2023-09-01T09:16:23.363Z"
   },
   {
    "duration": 520,
    "start_time": "2023-09-01T09:16:24.159Z"
   },
   {
    "duration": 521,
    "start_time": "2023-09-01T09:16:29.049Z"
   },
   {
    "duration": 357,
    "start_time": "2023-09-01T09:16:32.111Z"
   },
   {
    "duration": 33,
    "start_time": "2023-09-01T09:16:33.916Z"
   },
   {
    "duration": 28,
    "start_time": "2023-09-01T09:16:40.702Z"
   },
   {
    "duration": 18,
    "start_time": "2023-09-01T09:16:45.545Z"
   },
   {
    "duration": 18,
    "start_time": "2023-09-01T09:19:07.007Z"
   },
   {
    "duration": 6,
    "start_time": "2023-09-01T09:19:08.737Z"
   },
   {
    "duration": 221,
    "start_time": "2023-09-01T09:19:27.304Z"
   },
   {
    "duration": 30,
    "start_time": "2023-09-01T09:19:32.011Z"
   },
   {
    "duration": 2415,
    "start_time": "2023-09-01T09:32:06.869Z"
   },
   {
    "duration": 1368,
    "start_time": "2023-09-01T09:32:10.226Z"
   },
   {
    "duration": 76,
    "start_time": "2023-09-01T09:32:13.715Z"
   },
   {
    "duration": 902,
    "start_time": "2023-09-01T09:32:14.964Z"
   },
   {
    "duration": 736,
    "start_time": "2023-09-01T09:32:17.661Z"
   },
   {
    "duration": 32,
    "start_time": "2023-09-01T09:32:20.839Z"
   },
   {
    "duration": 21,
    "start_time": "2023-09-01T09:32:24.123Z"
   },
   {
    "duration": 23,
    "start_time": "2023-09-01T09:32:27.620Z"
   },
   {
    "duration": 396,
    "start_time": "2023-09-01T09:32:29.735Z"
   },
   {
    "duration": 60,
    "start_time": "2023-09-01T09:32:31.979Z"
   },
   {
    "duration": 37,
    "start_time": "2023-09-01T09:32:34.539Z"
   },
   {
    "duration": 11,
    "start_time": "2023-09-01T09:32:36.015Z"
   },
   {
    "duration": 99,
    "start_time": "2023-09-01T09:32:38.201Z"
   },
   {
    "duration": 516,
    "start_time": "2023-09-01T09:32:39.139Z"
   },
   {
    "duration": 577,
    "start_time": "2023-09-01T09:32:42.168Z"
   },
   {
    "duration": 582,
    "start_time": "2023-09-01T09:32:43.027Z"
   },
   {
    "duration": 736,
    "start_time": "2023-09-01T09:32:47.403Z"
   },
   {
    "duration": 327,
    "start_time": "2023-09-01T09:32:50.331Z"
   },
   {
    "duration": 35,
    "start_time": "2023-09-01T09:32:52.728Z"
   },
   {
    "duration": 57,
    "start_time": "2023-09-01T09:32:55.902Z"
   },
   {
    "duration": 26,
    "start_time": "2023-09-01T09:33:20.364Z"
   },
   {
    "duration": 20,
    "start_time": "2023-09-01T09:33:22.206Z"
   },
   {
    "duration": 17,
    "start_time": "2023-09-01T09:34:02.367Z"
   },
   {
    "duration": 6,
    "start_time": "2023-09-01T09:34:06.675Z"
   },
   {
    "duration": 180,
    "start_time": "2023-09-01T09:35:25.449Z"
   },
   {
    "duration": 2243,
    "start_time": "2023-09-01T09:36:06.555Z"
   },
   {
    "duration": 1244,
    "start_time": "2023-09-01T09:36:10.535Z"
   },
   {
    "duration": 90,
    "start_time": "2023-09-01T09:36:11.788Z"
   },
   {
    "duration": 829,
    "start_time": "2023-09-01T09:36:12.111Z"
   },
   {
    "duration": 592,
    "start_time": "2023-09-01T09:36:17.217Z"
   },
   {
    "duration": 21,
    "start_time": "2023-09-01T09:36:20.507Z"
   },
   {
    "duration": 12,
    "start_time": "2023-09-01T09:36:24.097Z"
   },
   {
    "duration": 13,
    "start_time": "2023-09-01T09:36:27.759Z"
   },
   {
    "duration": 353,
    "start_time": "2023-09-01T09:36:30.364Z"
   },
   {
    "duration": 37,
    "start_time": "2023-09-01T09:36:33.041Z"
   },
   {
    "duration": 17,
    "start_time": "2023-09-01T09:36:34.635Z"
   },
   {
    "duration": 5,
    "start_time": "2023-09-01T09:36:36.536Z"
   },
   {
    "duration": 106,
    "start_time": "2023-09-01T09:36:39.280Z"
   },
   {
    "duration": 403,
    "start_time": "2023-09-01T09:36:40.646Z"
   },
   {
    "duration": 461,
    "start_time": "2023-09-01T09:36:43.913Z"
   },
   {
    "duration": 520,
    "start_time": "2023-09-01T09:36:44.936Z"
   },
   {
    "duration": 565,
    "start_time": "2023-09-01T09:36:49.012Z"
   },
   {
    "duration": 289,
    "start_time": "2023-09-01T09:36:52.054Z"
   },
   {
    "duration": 36,
    "start_time": "2023-09-01T09:36:54.005Z"
   },
   {
    "duration": 17,
    "start_time": "2023-09-01T09:36:57.156Z"
   },
   {
    "duration": 27,
    "start_time": "2023-09-01T09:36:58.878Z"
   },
   {
    "duration": 8,
    "start_time": "2023-09-01T09:37:01.551Z"
   },
   {
    "duration": 7,
    "start_time": "2023-09-01T09:37:03.509Z"
   },
   {
    "duration": 174,
    "start_time": "2023-09-01T09:37:14.666Z"
   },
   {
    "duration": 9,
    "start_time": "2023-09-01T09:37:27.958Z"
   },
   {
    "duration": 27,
    "start_time": "2023-09-01T09:40:24.918Z"
   },
   {
    "duration": 5,
    "start_time": "2023-09-01T09:40:33.552Z"
   },
   {
    "duration": 13,
    "start_time": "2023-09-01T09:40:37.286Z"
   },
   {
    "duration": 316341,
    "start_time": "2023-09-01T09:40:43.812Z"
   },
   {
    "duration": 290359,
    "start_time": "2023-09-01T09:49:39.006Z"
   },
   {
    "duration": 3,
    "start_time": "2023-09-01T09:55:43.174Z"
   },
   {
    "duration": 0,
    "start_time": "2023-09-01T10:00:38.365Z"
   },
   {
    "duration": 52633,
    "start_time": "2023-09-01T10:02:56.066Z"
   },
   {
    "duration": 12,
    "start_time": "2023-09-01T10:06:18.433Z"
   },
   {
    "duration": 10,
    "start_time": "2023-09-01T10:07:49.429Z"
   },
   {
    "duration": 6971,
    "start_time": "2023-09-01T10:07:53.458Z"
   },
   {
    "duration": 25,
    "start_time": "2023-09-01T10:09:50.460Z"
   },
   {
    "duration": 9,
    "start_time": "2023-09-01T10:09:58.248Z"
   },
   {
    "duration": 31,
    "start_time": "2023-09-01T10:12:32.093Z"
   },
   {
    "duration": 22,
    "start_time": "2023-09-01T10:13:31.006Z"
   },
   {
    "duration": 38,
    "start_time": "2023-09-01T10:13:58.467Z"
   },
   {
    "duration": 24,
    "start_time": "2023-09-01T10:14:19.007Z"
   },
   {
    "duration": 2691,
    "start_time": "2023-09-01T10:15:14.575Z"
   },
   {
    "duration": 222,
    "start_time": "2023-09-01T10:15:55.548Z"
   },
   {
    "duration": 2455,
    "start_time": "2023-09-01T10:16:14.366Z"
   },
   {
    "duration": 4677,
    "start_time": "2023-09-01T10:23:09.030Z"
   },
   {
    "duration": 11,
    "start_time": "2023-09-01T10:24:45.853Z"
   },
   {
    "duration": 5655,
    "start_time": "2023-09-01T10:25:04.641Z"
   },
   {
    "duration": 10,
    "start_time": "2023-09-01T10:25:45.927Z"
   },
   {
    "duration": 63,
    "start_time": "2023-09-01T10:25:55.476Z"
   },
   {
    "duration": 2743,
    "start_time": "2023-09-01T10:26:07.920Z"
   },
   {
    "duration": 12,
    "start_time": "2023-09-01T10:26:19.748Z"
   },
   {
    "duration": 2439,
    "start_time": "2023-09-01T10:26:23.420Z"
   },
   {
    "duration": 5,
    "start_time": "2023-09-01T10:26:27.927Z"
   },
   {
    "duration": 2414,
    "start_time": "2023-09-01T10:27:00.128Z"
   },
   {
    "duration": 6,
    "start_time": "2023-09-01T10:27:02.545Z"
   },
   {
    "duration": 4823,
    "start_time": "2023-09-01T10:27:23.964Z"
   },
   {
    "duration": 12,
    "start_time": "2023-09-01T10:27:32.004Z"
   },
   {
    "duration": 21,
    "start_time": "2023-09-01T10:27:53.574Z"
   },
   {
    "duration": 7,
    "start_time": "2023-09-01T10:28:07.052Z"
   },
   {
    "duration": 1768,
    "start_time": "2023-09-01T10:29:01.030Z"
   },
   {
    "duration": 1102,
    "start_time": "2023-09-01T10:29:02.800Z"
   },
   {
    "duration": 65,
    "start_time": "2023-09-01T10:29:03.911Z"
   },
   {
    "duration": 977,
    "start_time": "2023-09-01T10:29:03.979Z"
   },
   {
    "duration": 584,
    "start_time": "2023-09-01T10:29:04.958Z"
   },
   {
    "duration": 11,
    "start_time": "2023-09-01T10:29:05.544Z"
   },
   {
    "duration": 8,
    "start_time": "2023-09-01T10:29:05.556Z"
   },
   {
    "duration": 51,
    "start_time": "2023-09-01T10:29:05.566Z"
   },
   {
    "duration": 355,
    "start_time": "2023-09-01T10:29:05.619Z"
   },
   {
    "duration": 61,
    "start_time": "2023-09-01T10:29:05.976Z"
   },
   {
    "duration": 17,
    "start_time": "2023-09-01T10:29:06.040Z"
   },
   {
    "duration": 15,
    "start_time": "2023-09-01T10:29:06.059Z"
   },
   {
    "duration": 110,
    "start_time": "2023-09-01T10:29:06.081Z"
   },
   {
    "duration": 447,
    "start_time": "2023-09-01T10:29:06.195Z"
   },
   {
    "duration": 525,
    "start_time": "2023-09-01T10:29:06.649Z"
   },
   {
    "duration": 602,
    "start_time": "2023-09-01T10:29:07.177Z"
   },
   {
    "duration": 610,
    "start_time": "2023-09-01T10:29:07.786Z"
   },
   {
    "duration": 268,
    "start_time": "2023-09-01T10:29:08.401Z"
   },
   {
    "duration": 34,
    "start_time": "2023-09-01T10:29:08.671Z"
   },
   {
    "duration": 27,
    "start_time": "2023-09-01T10:29:08.713Z"
   },
   {
    "duration": 11,
    "start_time": "2023-09-01T10:29:08.742Z"
   },
   {
    "duration": 9,
    "start_time": "2023-09-01T10:29:08.755Z"
   },
   {
    "duration": 59,
    "start_time": "2023-09-01T10:29:08.766Z"
   },
   {
    "duration": 6,
    "start_time": "2023-09-01T10:29:08.827Z"
   },
   {
    "duration": 15,
    "start_time": "2023-09-01T10:29:08.835Z"
   },
   {
    "duration": 5,
    "start_time": "2023-09-01T10:29:08.852Z"
   },
   {
    "duration": 51021,
    "start_time": "2023-09-01T10:29:08.859Z"
   },
   {
    "duration": 304250,
    "start_time": "2023-09-01T10:29:59.886Z"
   },
   {
    "duration": 4651,
    "start_time": "2023-09-01T10:35:04.139Z"
   },
   {
    "duration": 238,
    "start_time": "2023-09-01T10:35:08.805Z"
   },
   {
    "duration": 0,
    "start_time": "2023-09-01T10:35:09.046Z"
   },
   {
    "duration": 0,
    "start_time": "2023-09-01T10:35:09.047Z"
   },
   {
    "duration": 1906,
    "start_time": "2023-09-01T10:36:26.832Z"
   },
   {
    "duration": 1115,
    "start_time": "2023-09-01T10:36:28.744Z"
   },
   {
    "duration": 60,
    "start_time": "2023-09-01T10:36:29.861Z"
   },
   {
    "duration": 1578,
    "start_time": "2023-09-01T10:36:29.923Z"
   },
   {
    "duration": 1265,
    "start_time": "2023-09-01T10:36:31.504Z"
   },
   {
    "duration": 196,
    "start_time": "2023-09-01T10:36:32.771Z"
   },
   {
    "duration": 797,
    "start_time": "2023-09-01T10:36:32.969Z"
   },
   {
    "duration": 836,
    "start_time": "2023-09-01T10:36:33.769Z"
   },
   {
    "duration": 926,
    "start_time": "2023-09-01T10:36:34.616Z"
   },
   {
    "duration": 626,
    "start_time": "2023-09-01T10:36:35.545Z"
   },
   {
    "duration": 686,
    "start_time": "2023-09-01T10:36:36.173Z"
   },
   {
    "duration": 5,
    "start_time": "2023-09-01T10:36:36.861Z"
   },
   {
    "duration": 108,
    "start_time": "2023-09-01T10:36:36.869Z"
   },
   {
    "duration": 565,
    "start_time": "2023-09-01T10:36:36.981Z"
   },
   {
    "duration": 521,
    "start_time": "2023-09-01T10:36:37.550Z"
   },
   {
    "duration": 565,
    "start_time": "2023-09-01T10:36:38.073Z"
   },
   {
    "duration": 681,
    "start_time": "2023-09-01T10:36:38.640Z"
   },
   {
    "duration": 353,
    "start_time": "2023-09-01T10:36:39.323Z"
   },
   {
    "duration": 45,
    "start_time": "2023-09-01T10:36:39.678Z"
   },
   {
    "duration": 28,
    "start_time": "2023-09-01T10:36:39.726Z"
   },
   {
    "duration": 14,
    "start_time": "2023-09-01T10:36:39.756Z"
   },
   {
    "duration": 30,
    "start_time": "2023-09-01T10:36:39.772Z"
   },
   {
    "duration": 37,
    "start_time": "2023-09-01T10:36:39.805Z"
   },
   {
    "duration": 4,
    "start_time": "2023-09-01T10:36:39.845Z"
   },
   {
    "duration": 15,
    "start_time": "2023-09-01T10:36:39.851Z"
   },
   {
    "duration": 26,
    "start_time": "2023-09-01T10:36:39.868Z"
   },
   {
    "duration": 276693,
    "start_time": "2023-09-01T10:36:39.896Z"
   },
   {
    "duration": 48075,
    "start_time": "2023-09-01T10:41:16.591Z"
   },
   {
    "duration": 5759,
    "start_time": "2023-09-01T10:42:04.668Z"
   },
   {
    "duration": 238,
    "start_time": "2023-09-01T10:42:10.430Z"
   },
   {
    "duration": 0,
    "start_time": "2023-09-01T10:42:10.670Z"
   },
   {
    "duration": 1505,
    "start_time": "2023-09-01T11:03:08.647Z"
   },
   {
    "duration": 882,
    "start_time": "2023-09-01T11:03:10.154Z"
   },
   {
    "duration": 48,
    "start_time": "2023-09-01T11:03:11.038Z"
   },
   {
    "duration": 728,
    "start_time": "2023-09-01T11:03:11.088Z"
   },
   {
    "duration": 543,
    "start_time": "2023-09-01T11:03:11.817Z"
   },
   {
    "duration": 19,
    "start_time": "2023-09-01T11:03:12.361Z"
   },
   {
    "duration": 4,
    "start_time": "2023-09-01T11:03:12.382Z"
   },
   {
    "duration": 14,
    "start_time": "2023-09-01T11:03:12.387Z"
   },
   {
    "duration": 293,
    "start_time": "2023-09-01T11:03:12.403Z"
   },
   {
    "duration": 36,
    "start_time": "2023-09-01T11:03:12.699Z"
   },
   {
    "duration": 15,
    "start_time": "2023-09-01T11:03:12.737Z"
   },
   {
    "duration": 3,
    "start_time": "2023-09-01T11:03:12.753Z"
   },
   {
    "duration": 85,
    "start_time": "2023-09-01T11:03:12.757Z"
   },
   {
    "duration": 340,
    "start_time": "2023-09-01T11:03:12.844Z"
   },
   {
    "duration": 363,
    "start_time": "2023-09-01T11:03:13.186Z"
   },
   {
    "duration": 398,
    "start_time": "2023-09-01T11:03:13.551Z"
   },
   {
    "duration": 482,
    "start_time": "2023-09-01T11:03:13.950Z"
   },
   {
    "duration": 226,
    "start_time": "2023-09-01T11:03:14.433Z"
   },
   {
    "duration": 26,
    "start_time": "2023-09-01T11:03:14.661Z"
   },
   {
    "duration": 16,
    "start_time": "2023-09-01T11:03:14.689Z"
   },
   {
    "duration": 9,
    "start_time": "2023-09-01T11:03:14.707Z"
   },
   {
    "duration": 19,
    "start_time": "2023-09-01T11:03:14.718Z"
   },
   {
    "duration": 47,
    "start_time": "2023-09-01T11:03:14.739Z"
   },
   {
    "duration": 4,
    "start_time": "2023-09-01T11:03:14.788Z"
   },
   {
    "duration": 14,
    "start_time": "2023-09-01T11:03:14.794Z"
   },
   {
    "duration": 14,
    "start_time": "2023-09-01T11:03:14.810Z"
   },
   {
    "duration": 248729,
    "start_time": "2023-09-01T11:03:14.826Z"
   },
   {
    "duration": 1584,
    "start_time": "2023-09-01T11:22:25.679Z"
   },
   {
    "duration": 905,
    "start_time": "2023-09-01T11:22:27.265Z"
   },
   {
    "duration": 47,
    "start_time": "2023-09-01T11:22:28.172Z"
   },
   {
    "duration": 649,
    "start_time": "2023-09-01T11:22:28.221Z"
   },
   {
    "duration": 493,
    "start_time": "2023-09-01T11:22:28.880Z"
   },
   {
    "duration": 16,
    "start_time": "2023-09-01T11:22:29.381Z"
   },
   {
    "duration": 29,
    "start_time": "2023-09-01T11:22:29.400Z"
   },
   {
    "duration": 47,
    "start_time": "2023-09-01T11:22:29.431Z"
   },
   {
    "duration": 298,
    "start_time": "2023-09-01T11:22:29.480Z"
   },
   {
    "duration": 37,
    "start_time": "2023-09-01T11:22:29.783Z"
   },
   {
    "duration": 54,
    "start_time": "2023-09-01T11:22:29.822Z"
   },
   {
    "duration": 17,
    "start_time": "2023-09-01T11:22:29.878Z"
   },
   {
    "duration": 86,
    "start_time": "2023-09-01T11:22:29.897Z"
   },
   {
    "duration": 345,
    "start_time": "2023-09-01T11:22:29.985Z"
   },
   {
    "duration": 384,
    "start_time": "2023-09-01T11:22:30.331Z"
   },
   {
    "duration": 410,
    "start_time": "2023-09-01T11:22:30.718Z"
   },
   {
    "duration": 522,
    "start_time": "2023-09-01T11:22:31.130Z"
   },
   {
    "duration": 230,
    "start_time": "2023-09-01T11:22:31.654Z"
   },
   {
    "duration": 21,
    "start_time": "2023-09-01T11:22:31.886Z"
   },
   {
    "duration": 20,
    "start_time": "2023-09-01T11:22:31.909Z"
   },
   {
    "duration": 11,
    "start_time": "2023-09-01T11:22:31.931Z"
   },
   {
    "duration": 16,
    "start_time": "2023-09-01T11:22:31.944Z"
   },
   {
    "duration": 57,
    "start_time": "2023-09-01T11:22:31.962Z"
   },
   {
    "duration": 3,
    "start_time": "2023-09-01T11:22:32.021Z"
   },
   {
    "duration": 21,
    "start_time": "2023-09-01T11:22:32.026Z"
   },
   {
    "duration": 31,
    "start_time": "2023-09-01T11:22:32.049Z"
   },
   {
    "duration": 1575,
    "start_time": "2023-09-01T11:35:41.472Z"
   },
   {
    "duration": 917,
    "start_time": "2023-09-01T11:35:43.049Z"
   },
   {
    "duration": 54,
    "start_time": "2023-09-01T11:35:43.968Z"
   },
   {
    "duration": 667,
    "start_time": "2023-09-01T11:35:44.024Z"
   },
   {
    "duration": 575,
    "start_time": "2023-09-01T11:35:44.692Z"
   },
   {
    "duration": 20,
    "start_time": "2023-09-01T11:35:45.270Z"
   },
   {
    "duration": 4,
    "start_time": "2023-09-01T11:35:45.291Z"
   },
   {
    "duration": 17,
    "start_time": "2023-09-01T11:35:45.296Z"
   },
   {
    "duration": 298,
    "start_time": "2023-09-01T11:35:45.314Z"
   },
   {
    "duration": 36,
    "start_time": "2023-09-01T11:35:45.615Z"
   },
   {
    "duration": 30,
    "start_time": "2023-09-01T11:35:45.653Z"
   },
   {
    "duration": 4,
    "start_time": "2023-09-01T11:35:45.685Z"
   },
   {
    "duration": 63,
    "start_time": "2023-09-01T11:35:45.691Z"
   },
   {
    "duration": 350,
    "start_time": "2023-09-01T11:35:45.755Z"
   },
   {
    "duration": 377,
    "start_time": "2023-09-01T11:35:46.107Z"
   },
   {
    "duration": 488,
    "start_time": "2023-09-01T11:35:46.485Z"
   },
   {
    "duration": 508,
    "start_time": "2023-09-01T11:35:46.975Z"
   },
   {
    "duration": 235,
    "start_time": "2023-09-01T11:35:47.485Z"
   },
   {
    "duration": 20,
    "start_time": "2023-09-01T11:35:47.722Z"
   },
   {
    "duration": 16,
    "start_time": "2023-09-01T11:35:47.744Z"
   },
   {
    "duration": 31,
    "start_time": "2023-09-01T11:35:47.762Z"
   },
   {
    "duration": 21,
    "start_time": "2023-09-01T11:35:47.795Z"
   },
   {
    "duration": 59,
    "start_time": "2023-09-01T11:35:47.818Z"
   },
   {
    "duration": 7,
    "start_time": "2023-09-01T11:35:47.879Z"
   },
   {
    "duration": 17,
    "start_time": "2023-09-01T11:35:47.887Z"
   },
   {
    "duration": 18,
    "start_time": "2023-09-01T11:35:47.905Z"
   },
   {
    "duration": 246940,
    "start_time": "2023-09-01T11:35:47.925Z"
   },
   {
    "duration": 45942,
    "start_time": "2023-09-01T11:39:54.869Z"
   },
   {
    "duration": 124,
    "start_time": "2023-09-01T11:40:40.813Z"
   },
   {
    "duration": 0,
    "start_time": "2023-09-01T11:40:40.939Z"
   },
   {
    "duration": 0,
    "start_time": "2023-09-01T11:40:40.941Z"
   },
   {
    "duration": 7,
    "start_time": "2023-09-01T11:50:24.724Z"
   },
   {
    "duration": 20,
    "start_time": "2023-09-01T11:50:27.770Z"
   },
   {
    "duration": 217,
    "start_time": "2023-09-01T11:52:02.434Z"
   },
   {
    "duration": 11,
    "start_time": "2023-09-01T11:53:03.082Z"
   },
   {
    "duration": 11,
    "start_time": "2023-09-01T11:53:19.207Z"
   },
   {
    "duration": 18,
    "start_time": "2023-09-01T11:57:00.597Z"
   },
   {
    "duration": 4,
    "start_time": "2023-09-01T11:57:19.131Z"
   },
   {
    "duration": 14,
    "start_time": "2023-09-01T11:57:32.434Z"
   },
   {
    "duration": 8,
    "start_time": "2023-09-01T11:58:28.301Z"
   },
   {
    "duration": 11,
    "start_time": "2023-09-01T11:58:33.165Z"
   },
   {
    "duration": 1598,
    "start_time": "2023-09-01T12:24:02.886Z"
   },
   {
    "duration": 917,
    "start_time": "2023-09-01T12:24:04.486Z"
   },
   {
    "duration": 44,
    "start_time": "2023-09-01T12:24:05.404Z"
   },
   {
    "duration": 667,
    "start_time": "2023-09-01T12:24:05.451Z"
   },
   {
    "duration": 601,
    "start_time": "2023-09-01T12:24:06.120Z"
   },
   {
    "duration": 15,
    "start_time": "2023-09-01T12:24:06.723Z"
   },
   {
    "duration": 4,
    "start_time": "2023-09-01T12:24:06.740Z"
   },
   {
    "duration": 37,
    "start_time": "2023-09-01T12:24:06.746Z"
   },
   {
    "duration": 300,
    "start_time": "2023-09-01T12:24:06.785Z"
   },
   {
    "duration": 40,
    "start_time": "2023-09-01T12:24:07.088Z"
   },
   {
    "duration": 15,
    "start_time": "2023-09-01T12:24:07.130Z"
   },
   {
    "duration": 6,
    "start_time": "2023-09-01T12:24:07.147Z"
   },
   {
    "duration": 102,
    "start_time": "2023-09-01T12:24:07.154Z"
   },
   {
    "duration": 343,
    "start_time": "2023-09-01T12:24:07.258Z"
   },
   {
    "duration": 380,
    "start_time": "2023-09-01T12:24:07.602Z"
   },
   {
    "duration": 409,
    "start_time": "2023-09-01T12:24:07.984Z"
   },
   {
    "duration": 438,
    "start_time": "2023-09-01T12:24:08.395Z"
   },
   {
    "duration": 227,
    "start_time": "2023-09-01T12:24:08.835Z"
   },
   {
    "duration": 31,
    "start_time": "2023-09-01T12:24:09.063Z"
   },
   {
    "duration": 15,
    "start_time": "2023-09-01T12:24:09.095Z"
   },
   {
    "duration": 7,
    "start_time": "2023-09-01T12:24:09.111Z"
   },
   {
    "duration": 17,
    "start_time": "2023-09-01T12:24:09.120Z"
   },
   {
    "duration": 26,
    "start_time": "2023-09-01T12:24:09.139Z"
   },
   {
    "duration": 18,
    "start_time": "2023-09-01T12:24:09.167Z"
   },
   {
    "duration": 9,
    "start_time": "2023-09-01T12:24:09.187Z"
   },
   {
    "duration": 7,
    "start_time": "2023-09-01T12:24:09.198Z"
   },
   {
    "duration": 241971,
    "start_time": "2023-09-01T12:24:09.206Z"
   },
   {
    "duration": 43256,
    "start_time": "2023-09-01T12:28:11.181Z"
   },
   {
    "duration": 174,
    "start_time": "2023-09-01T12:28:54.439Z"
   },
   {
    "duration": 0,
    "start_time": "2023-09-01T12:28:54.615Z"
   },
   {
    "duration": 0,
    "start_time": "2023-09-01T12:28:54.616Z"
   },
   {
    "duration": 1611,
    "start_time": "2023-09-01T12:45:34.124Z"
   },
   {
    "duration": 884,
    "start_time": "2023-09-01T12:45:35.737Z"
   },
   {
    "duration": 41,
    "start_time": "2023-09-01T12:45:36.622Z"
   },
   {
    "duration": 734,
    "start_time": "2023-09-01T12:45:36.665Z"
   },
   {
    "duration": 468,
    "start_time": "2023-09-01T12:45:37.401Z"
   },
   {
    "duration": 10,
    "start_time": "2023-09-01T12:45:37.871Z"
   },
   {
    "duration": 4,
    "start_time": "2023-09-01T12:45:37.883Z"
   },
   {
    "duration": 15,
    "start_time": "2023-09-01T12:45:37.888Z"
   },
   {
    "duration": 286,
    "start_time": "2023-09-01T12:45:37.905Z"
   },
   {
    "duration": 38,
    "start_time": "2023-09-01T12:45:38.194Z"
   },
   {
    "duration": 16,
    "start_time": "2023-09-01T12:45:38.234Z"
   },
   {
    "duration": 3,
    "start_time": "2023-09-01T12:45:38.252Z"
   },
   {
    "duration": 62,
    "start_time": "2023-09-01T12:45:38.281Z"
   },
   {
    "duration": 336,
    "start_time": "2023-09-01T12:45:38.345Z"
   },
   {
    "duration": 366,
    "start_time": "2023-09-01T12:45:38.682Z"
   },
   {
    "duration": 409,
    "start_time": "2023-09-01T12:45:39.050Z"
   },
   {
    "duration": 464,
    "start_time": "2023-09-01T12:45:39.461Z"
   },
   {
    "duration": 242,
    "start_time": "2023-09-01T12:45:39.927Z"
   },
   {
    "duration": 25,
    "start_time": "2023-09-01T12:45:40.171Z"
   },
   {
    "duration": 15,
    "start_time": "2023-09-01T12:45:40.197Z"
   },
   {
    "duration": 24,
    "start_time": "2023-09-01T12:45:40.213Z"
   },
   {
    "duration": 10,
    "start_time": "2023-09-01T12:45:40.239Z"
   },
   {
    "duration": 31,
    "start_time": "2023-09-01T12:45:40.250Z"
   },
   {
    "duration": 6,
    "start_time": "2023-09-01T12:45:40.282Z"
   },
   {
    "duration": 12,
    "start_time": "2023-09-01T12:45:40.290Z"
   },
   {
    "duration": 20,
    "start_time": "2023-09-01T12:45:40.303Z"
   },
   {
    "duration": 240912,
    "start_time": "2023-09-01T12:45:40.325Z"
   },
   {
    "duration": 42900,
    "start_time": "2023-09-01T12:49:41.241Z"
   },
   {
    "duration": 186,
    "start_time": "2023-09-01T12:50:24.142Z"
   },
   {
    "duration": 0,
    "start_time": "2023-09-01T12:50:24.330Z"
   },
   {
    "duration": 0,
    "start_time": "2023-09-01T12:50:24.331Z"
   },
   {
    "duration": 10,
    "start_time": "2023-09-01T12:52:11.408Z"
   },
   {
    "duration": 1375,
    "start_time": "2023-09-01T12:52:21.208Z"
   },
   {
    "duration": 10,
    "start_time": "2023-09-01T12:52:31.504Z"
   },
   {
    "duration": 12,
    "start_time": "2023-09-01T12:52:47.196Z"
   },
   {
    "duration": 28,
    "start_time": "2023-09-01T12:52:54.762Z"
   },
   {
    "duration": 5,
    "start_time": "2023-09-01T12:53:24.030Z"
   },
   {
    "duration": 1543,
    "start_time": "2023-09-01T12:58:17.918Z"
   },
   {
    "duration": 923,
    "start_time": "2023-09-01T12:58:19.464Z"
   },
   {
    "duration": 42,
    "start_time": "2023-09-01T12:58:20.388Z"
   },
   {
    "duration": 641,
    "start_time": "2023-09-01T12:58:20.432Z"
   },
   {
    "duration": 487,
    "start_time": "2023-09-01T12:58:21.074Z"
   },
   {
    "duration": 18,
    "start_time": "2023-09-01T12:58:21.563Z"
   },
   {
    "duration": 5,
    "start_time": "2023-09-01T12:58:21.583Z"
   },
   {
    "duration": 16,
    "start_time": "2023-09-01T12:58:21.589Z"
   },
   {
    "duration": 301,
    "start_time": "2023-09-01T12:58:21.607Z"
   },
   {
    "duration": 38,
    "start_time": "2023-09-01T12:58:21.911Z"
   },
   {
    "duration": 33,
    "start_time": "2023-09-01T12:58:21.952Z"
   },
   {
    "duration": 5,
    "start_time": "2023-09-01T12:58:21.986Z"
   },
   {
    "duration": 63,
    "start_time": "2023-09-01T12:58:21.993Z"
   },
   {
    "duration": 397,
    "start_time": "2023-09-01T12:58:22.058Z"
   },
   {
    "duration": 481,
    "start_time": "2023-09-01T12:58:22.456Z"
   },
   {
    "duration": 544,
    "start_time": "2023-09-01T12:58:22.939Z"
   },
   {
    "duration": 507,
    "start_time": "2023-09-01T12:58:23.485Z"
   },
   {
    "duration": 230,
    "start_time": "2023-09-01T12:58:23.994Z"
   },
   {
    "duration": 20,
    "start_time": "2023-09-01T12:58:24.226Z"
   },
   {
    "duration": 16,
    "start_time": "2023-09-01T12:58:24.248Z"
   },
   {
    "duration": 9,
    "start_time": "2023-09-01T12:58:24.281Z"
   },
   {
    "duration": 15,
    "start_time": "2023-09-01T12:58:24.292Z"
   },
   {
    "duration": 29,
    "start_time": "2023-09-01T12:58:24.308Z"
   },
   {
    "duration": 10,
    "start_time": "2023-09-01T12:58:24.338Z"
   },
   {
    "duration": 5,
    "start_time": "2023-09-01T12:58:24.350Z"
   },
   {
    "duration": 24,
    "start_time": "2023-09-01T12:58:24.357Z"
   },
   {
    "duration": 1672,
    "start_time": "2023-09-01T15:13:20.382Z"
   },
   {
    "duration": 2261,
    "start_time": "2023-09-01T15:13:22.057Z"
   },
   {
    "duration": 41,
    "start_time": "2023-09-01T15:13:24.320Z"
   },
   {
    "duration": 636,
    "start_time": "2023-09-01T15:13:24.363Z"
   },
   {
    "duration": 470,
    "start_time": "2023-09-01T15:13:25.001Z"
   },
   {
    "duration": 16,
    "start_time": "2023-09-01T15:13:25.473Z"
   },
   {
    "duration": 27,
    "start_time": "2023-09-01T15:13:25.491Z"
   },
   {
    "duration": 24,
    "start_time": "2023-09-01T15:13:25.520Z"
   },
   {
    "duration": 281,
    "start_time": "2023-09-01T15:13:25.546Z"
   },
   {
    "duration": 37,
    "start_time": "2023-09-01T15:13:25.830Z"
   },
   {
    "duration": 24,
    "start_time": "2023-09-01T15:13:25.869Z"
   },
   {
    "duration": 4,
    "start_time": "2023-09-01T15:13:25.895Z"
   },
   {
    "duration": 64,
    "start_time": "2023-09-01T15:13:25.900Z"
   },
   {
    "duration": 345,
    "start_time": "2023-09-01T15:13:25.982Z"
   },
   {
    "duration": 396,
    "start_time": "2023-09-01T15:13:26.329Z"
   },
   {
    "duration": 427,
    "start_time": "2023-09-01T15:13:26.728Z"
   },
   {
    "duration": 569,
    "start_time": "2023-09-01T15:13:27.156Z"
   },
   {
    "duration": 217,
    "start_time": "2023-09-01T15:13:27.727Z"
   },
   {
    "duration": 19,
    "start_time": "2023-09-01T15:13:27.946Z"
   },
   {
    "duration": 26,
    "start_time": "2023-09-01T15:13:27.966Z"
   },
   {
    "duration": 8,
    "start_time": "2023-09-01T15:13:27.994Z"
   },
   {
    "duration": 15,
    "start_time": "2023-09-01T15:13:28.004Z"
   },
   {
    "duration": 39,
    "start_time": "2023-09-01T15:13:28.021Z"
   },
   {
    "duration": 10,
    "start_time": "2023-09-01T15:13:28.062Z"
   },
   {
    "duration": 50,
    "start_time": "2023-09-01T15:13:28.074Z"
   },
   {
    "duration": 12,
    "start_time": "2023-09-01T15:13:28.126Z"
   },
   {
    "duration": 246337,
    "start_time": "2023-09-01T15:13:28.140Z"
   },
   {
    "duration": 43423,
    "start_time": "2023-09-01T15:17:34.479Z"
   },
   {
    "duration": 1482,
    "start_time": "2023-09-01T15:18:17.904Z"
   },
   {
    "duration": 208,
    "start_time": "2023-09-01T15:18:19.388Z"
   },
   {
    "duration": 4,
    "start_time": "2023-09-01T15:18:19.598Z"
   }
  ],
  "kernelspec": {
   "display_name": "Python 3 (ipykernel)",
   "language": "python",
   "name": "python3"
  },
  "language_info": {
   "codemirror_mode": {
    "name": "ipython",
    "version": 3
   },
   "file_extension": ".py",
   "mimetype": "text/x-python",
   "name": "python",
   "nbconvert_exporter": "python",
   "pygments_lexer": "ipython3",
   "version": "3.9.13"
  },
  "toc": {
   "base_numbering": 1,
   "nav_menu": {},
   "number_sections": true,
   "sideBar": true,
   "skip_h1_title": true,
   "title_cell": "Содержание",
   "title_sidebar": "Contents",
   "toc_cell": true,
   "toc_position": {
    "height": "calc(100% - 180px)",
    "left": "10px",
    "top": "150px",
    "width": "288px"
   },
   "toc_section_display": true,
   "toc_window_display": true
  }
 },
 "nbformat": 4,
 "nbformat_minor": 2
}
