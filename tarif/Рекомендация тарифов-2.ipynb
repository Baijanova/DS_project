{
 "cells": [
  {
   "cell_type": "markdown",
   "metadata": {},
   "source": [
    "# Рекомендация тарифов"
   ]
  },
  {
   "cell_type": "markdown",
   "metadata": {},
   "source": [
    "В вашем распоряжении данные о поведении клиентов, которые уже перешли на эти тарифы (из проекта курса «Статистический анализ данных»). Нужно построить модель для задачи классификации, которая выберет подходящий тариф. Предобработка данных не понадобится — вы её уже сделали.\n",
    "\n",
    "Постройте модель с максимально большим значением *accuracy*. Чтобы сдать проект успешно, нужно довести долю правильных ответов по крайней мере до 0.75. Проверьте *accuracy* на тестовой выборке самостоятельно."
   ]
  },
  {
   "cell_type": "markdown",
   "metadata": {},
   "source": [
    "**Цель исследования:**\n",
    "Построение модели для задачи классификации, которая выберет подходящий тариф «Смарт» или «Ультра» для клиентов мобильной связи «Мегалайн».\n",
    "\n",
    "**Ход исследования:**\n",
    "1. Загрузка данных\n",
    "2. Подготовка данных\n",
    "3. Разделение данных на выборки: Исходные данные были разделены на обучающую (70%), валидационную (15%) и тестовую (15%) выборки.\n",
    "4. Исследование качества разных моделей:Логистическая регрессия, Решающее дерево и Случайный лес\n",
    "5. Выбор лучшей модели\n",
    "\n",
    "Проверка качества модели на тестовой выборке: Выбранная модель Случайного леса была проверена на тестовой выборке, и была рассчитана точность (accuracy) на тестовой выборке.\n",
    "\n",
    "**Описание данных** `users_behavior.csv`\n",
    "* сalls — количество звонков,\n",
    "* minutes — суммарная длительность звонков в минутах,\n",
    "* messages — количество sms-сообщений,\n",
    "* mb_used — израсходованный интернет-трафик в Мб,\n",
    "* is_ultra — каким тарифом пользовался в течение месяца («Ультра» — 1, «Смарт» — 0)."
   ]
  },
  {
   "cell_type": "code",
   "execution_count": 1,
   "metadata": {},
   "outputs": [],
   "source": [
    "import pandas as pd\n",
    "from sklearn.model_selection import train_test_split\n",
    "from sklearn.tree import DecisionTreeClassifier \n",
    "from sklearn.ensemble import RandomForestClassifier\n",
    "from sklearn.linear_model import LogisticRegression\n",
    "from sklearn.metrics import accuracy_score\n",
    "from sklearn.metrics import precision_score\n",
    "from sklearn.metrics import recall_score\n",
    "from sklearn.metrics import f1_score\n",
    "from sklearn.model_selection import GridSearchCV"
   ]
  },
  {
   "cell_type": "markdown",
   "metadata": {},
   "source": [
    "## Откройте и изучите файл"
   ]
  },
  {
   "cell_type": "code",
   "execution_count": 2,
   "metadata": {},
   "outputs": [
    {
     "data": {
      "text/html": [
       "<div>\n",
       "<style scoped>\n",
       "    .dataframe tbody tr th:only-of-type {\n",
       "        vertical-align: middle;\n",
       "    }\n",
       "\n",
       "    .dataframe tbody tr th {\n",
       "        vertical-align: top;\n",
       "    }\n",
       "\n",
       "    .dataframe thead th {\n",
       "        text-align: right;\n",
       "    }\n",
       "</style>\n",
       "<table border=\"1\" class=\"dataframe\">\n",
       "  <thead>\n",
       "    <tr style=\"text-align: right;\">\n",
       "      <th></th>\n",
       "      <th>calls</th>\n",
       "      <th>minutes</th>\n",
       "      <th>messages</th>\n",
       "      <th>mb_used</th>\n",
       "      <th>is_ultra</th>\n",
       "    </tr>\n",
       "  </thead>\n",
       "  <tbody>\n",
       "    <tr>\n",
       "      <th>0</th>\n",
       "      <td>40.0</td>\n",
       "      <td>311.90</td>\n",
       "      <td>83.0</td>\n",
       "      <td>19915.42</td>\n",
       "      <td>0</td>\n",
       "    </tr>\n",
       "    <tr>\n",
       "      <th>1</th>\n",
       "      <td>85.0</td>\n",
       "      <td>516.75</td>\n",
       "      <td>56.0</td>\n",
       "      <td>22696.96</td>\n",
       "      <td>0</td>\n",
       "    </tr>\n",
       "    <tr>\n",
       "      <th>2</th>\n",
       "      <td>77.0</td>\n",
       "      <td>467.66</td>\n",
       "      <td>86.0</td>\n",
       "      <td>21060.45</td>\n",
       "      <td>0</td>\n",
       "    </tr>\n",
       "    <tr>\n",
       "      <th>3</th>\n",
       "      <td>106.0</td>\n",
       "      <td>745.53</td>\n",
       "      <td>81.0</td>\n",
       "      <td>8437.39</td>\n",
       "      <td>1</td>\n",
       "    </tr>\n",
       "    <tr>\n",
       "      <th>4</th>\n",
       "      <td>66.0</td>\n",
       "      <td>418.74</td>\n",
       "      <td>1.0</td>\n",
       "      <td>14502.75</td>\n",
       "      <td>0</td>\n",
       "    </tr>\n",
       "  </tbody>\n",
       "</table>\n",
       "</div>"
      ],
      "text/plain": [
       "   calls  minutes  messages   mb_used  is_ultra\n",
       "0   40.0   311.90      83.0  19915.42         0\n",
       "1   85.0   516.75      56.0  22696.96         0\n",
       "2   77.0   467.66      86.0  21060.45         0\n",
       "3  106.0   745.53      81.0   8437.39         1\n",
       "4   66.0   418.74       1.0  14502.75         0"
      ]
     },
     "execution_count": 2,
     "metadata": {},
     "output_type": "execute_result"
    }
   ],
   "source": [
    "df = pd.read_csv('/datasets/users_behavior.csv')\n",
    "df.head()"
   ]
  },
  {
   "cell_type": "code",
   "execution_count": 3,
   "metadata": {},
   "outputs": [
    {
     "name": "stdout",
     "output_type": "stream",
     "text": [
      "<class 'pandas.core.frame.DataFrame'>\n",
      "RangeIndex: 3214 entries, 0 to 3213\n",
      "Data columns (total 5 columns):\n",
      " #   Column    Non-Null Count  Dtype  \n",
      "---  ------    --------------  -----  \n",
      " 0   calls     3214 non-null   float64\n",
      " 1   minutes   3214 non-null   float64\n",
      " 2   messages  3214 non-null   float64\n",
      " 3   mb_used   3214 non-null   float64\n",
      " 4   is_ultra  3214 non-null   int64  \n",
      "dtypes: float64(4), int64(1)\n",
      "memory usage: 125.7 KB\n"
     ]
    }
   ],
   "source": [
    "df.info()"
   ]
  },
  {
   "cell_type": "code",
   "execution_count": 4,
   "metadata": {
    "scrolled": true
   },
   "outputs": [
    {
     "data": {
      "text/html": [
       "<div>\n",
       "<style scoped>\n",
       "    .dataframe tbody tr th:only-of-type {\n",
       "        vertical-align: middle;\n",
       "    }\n",
       "\n",
       "    .dataframe tbody tr th {\n",
       "        vertical-align: top;\n",
       "    }\n",
       "\n",
       "    .dataframe thead th {\n",
       "        text-align: right;\n",
       "    }\n",
       "</style>\n",
       "<table border=\"1\" class=\"dataframe\">\n",
       "  <thead>\n",
       "    <tr style=\"text-align: right;\">\n",
       "      <th></th>\n",
       "      <th>calls</th>\n",
       "      <th>minutes</th>\n",
       "      <th>messages</th>\n",
       "      <th>mb_used</th>\n",
       "      <th>is_ultra</th>\n",
       "    </tr>\n",
       "  </thead>\n",
       "  <tbody>\n",
       "    <tr>\n",
       "      <th>count</th>\n",
       "      <td>3214.000000</td>\n",
       "      <td>3214.000000</td>\n",
       "      <td>3214.000000</td>\n",
       "      <td>3214.000000</td>\n",
       "      <td>3214.000000</td>\n",
       "    </tr>\n",
       "    <tr>\n",
       "      <th>mean</th>\n",
       "      <td>63.038892</td>\n",
       "      <td>438.208787</td>\n",
       "      <td>38.281269</td>\n",
       "      <td>17207.673836</td>\n",
       "      <td>0.306472</td>\n",
       "    </tr>\n",
       "    <tr>\n",
       "      <th>std</th>\n",
       "      <td>33.236368</td>\n",
       "      <td>234.569872</td>\n",
       "      <td>36.148326</td>\n",
       "      <td>7570.968246</td>\n",
       "      <td>0.461100</td>\n",
       "    </tr>\n",
       "    <tr>\n",
       "      <th>min</th>\n",
       "      <td>0.000000</td>\n",
       "      <td>0.000000</td>\n",
       "      <td>0.000000</td>\n",
       "      <td>0.000000</td>\n",
       "      <td>0.000000</td>\n",
       "    </tr>\n",
       "    <tr>\n",
       "      <th>25%</th>\n",
       "      <td>40.000000</td>\n",
       "      <td>274.575000</td>\n",
       "      <td>9.000000</td>\n",
       "      <td>12491.902500</td>\n",
       "      <td>0.000000</td>\n",
       "    </tr>\n",
       "    <tr>\n",
       "      <th>50%</th>\n",
       "      <td>62.000000</td>\n",
       "      <td>430.600000</td>\n",
       "      <td>30.000000</td>\n",
       "      <td>16943.235000</td>\n",
       "      <td>0.000000</td>\n",
       "    </tr>\n",
       "    <tr>\n",
       "      <th>75%</th>\n",
       "      <td>82.000000</td>\n",
       "      <td>571.927500</td>\n",
       "      <td>57.000000</td>\n",
       "      <td>21424.700000</td>\n",
       "      <td>1.000000</td>\n",
       "    </tr>\n",
       "    <tr>\n",
       "      <th>max</th>\n",
       "      <td>244.000000</td>\n",
       "      <td>1632.060000</td>\n",
       "      <td>224.000000</td>\n",
       "      <td>49745.730000</td>\n",
       "      <td>1.000000</td>\n",
       "    </tr>\n",
       "  </tbody>\n",
       "</table>\n",
       "</div>"
      ],
      "text/plain": [
       "             calls      minutes     messages       mb_used     is_ultra\n",
       "count  3214.000000  3214.000000  3214.000000   3214.000000  3214.000000\n",
       "mean     63.038892   438.208787    38.281269  17207.673836     0.306472\n",
       "std      33.236368   234.569872    36.148326   7570.968246     0.461100\n",
       "min       0.000000     0.000000     0.000000      0.000000     0.000000\n",
       "25%      40.000000   274.575000     9.000000  12491.902500     0.000000\n",
       "50%      62.000000   430.600000    30.000000  16943.235000     0.000000\n",
       "75%      82.000000   571.927500    57.000000  21424.700000     1.000000\n",
       "max     244.000000  1632.060000   224.000000  49745.730000     1.000000"
      ]
     },
     "execution_count": 4,
     "metadata": {},
     "output_type": "execute_result"
    }
   ],
   "source": [
    "df.describe()"
   ]
  },
  {
   "cell_type": "code",
   "execution_count": 5,
   "metadata": {},
   "outputs": [],
   "source": [
    "#df.isna().sum().sort_values(ascending=False) #проверка пропусков \n",
    "#df.hist(figsize=(15, 20))"
   ]
  },
  {
   "cell_type": "markdown",
   "metadata": {},
   "source": [
    "**Вывод**\n",
    "- Общий объем данных 3214 записей\n",
    "- Все столбцы имеют соответствующий тип данных\n",
    "- Пропущенные значения отсутствуют\n",
    "- Аномальные значения не выявлены"
   ]
  },
  {
   "cell_type": "markdown",
   "metadata": {},
   "source": [
    "## Разбейте данные на выборки"
   ]
  },
  {
   "cell_type": "markdown",
   "metadata": {},
   "source": [
    "параметр is_ultra является целевым признаком"
   ]
  },
  {
   "cell_type": "code",
   "execution_count": 6,
   "metadata": {},
   "outputs": [],
   "source": [
    "features = df.drop('is_ultra', axis=1)\n",
    "target = df['is_ultra']"
   ]
  },
  {
   "cell_type": "code",
   "execution_count": 7,
   "metadata": {},
   "outputs": [],
   "source": [
    "X_train, X_temp, y_train, y_temp = train_test_split(features, target, test_size=0.3, random_state=12345, stratify=target)\n",
    "X_valid, X_test, y_valid, y_test = train_test_split(X_temp, y_temp, test_size=0.5, random_state=12345, stratify=y_temp)"
   ]
  },
  {
   "cell_type": "code",
   "execution_count": 8,
   "metadata": {},
   "outputs": [
    {
     "name": "stdout",
     "output_type": "stream",
     "text": [
      "Размер обучающей выборки: (2249, 4)\n",
      "Размер валидационной выборки: (482, 4)\n",
      "Размер тестовой выборки: (483, 4)\n",
      "Размер обучающей выборки: (2249,)\n",
      "Размер валидационной выборки: (482,)\n",
      "Размер тестовой выборки: (483,)\n"
     ]
    }
   ],
   "source": [
    "print(\"Размер обучающей выборки:\", X_train.shape)\n",
    "print(\"Размер валидационной выборки:\", X_valid.shape)\n",
    "print(\"Размер тестовой выборки:\", X_test.shape)\n",
    "print(\"Размер обучающей выборки:\", y_train.shape)\n",
    "print(\"Размер валидационной выборки:\", y_valid.shape)\n",
    "print(\"Размер тестовой выборки:\", y_test.shape)"
   ]
  },
  {
   "cell_type": "markdown",
   "metadata": {},
   "source": [
    "Исходные данные разделены на обучающую, валидационную и тестовую выборки. Параметр is_ultra является целевым признаком, который необходимо предсказать.\n",
    "\n",
    "- Обучающая выборка (70% данных): X_train, y_train\n",
    "- Валидационная выборка (15% данных): X_valid, y_valid\n",
    "- Тестовая выборка (15% данных): X_test, y_test\n",
    "- Полученные выборки готовы для обучения и оценки качества моделей"
   ]
  },
  {
   "cell_type": "markdown",
   "metadata": {},
   "source": [
    "## Исследуйте модели"
   ]
  },
  {
   "cell_type": "raw",
   "metadata": {},
   "source": [
    "# Логистическая регрессия\n",
    "logistic_hyperparameters = [\n",
    "    {'solver': 'lbfgs', 'max_iter': 100},\n",
    "    {'solver': 'liblinear', 'max_iter': 200},\n",
    "    {'solver': 'saga', 'max_iter': 1000}\n",
    "]\n",
    "\n",
    "best_logistic_model = None\n",
    "best_logistic_accuracy = 0\n",
    "\n",
    "for params in logistic_hyperparameters:\n",
    "    model = LogisticRegression(random_state=12345,)\n",
    "    model.fit(X_train, y_train)\n",
    "    predictions = model.predict(X_valid)\n",
    "    accuracy = accuracy_score(y_valid, predictions)\n",
    "    if accuracy > best_logistic_accuracy:\n",
    "        best_logistic_model = model\n",
    "        best_logistic_accuracy = accuracy\n",
    "\n",
    "print('Лучшая точность логистической регрессии:', best_logistic_accuracy)"
   ]
  },
  {
   "cell_type": "code",
   "execution_count": 9,
   "metadata": {},
   "outputs": [
    {
     "name": "stdout",
     "output_type": "stream",
     "text": [
      "Лучшие параметры для логистической регрессии: {'C': 0.1, 'class_weight': None}\n",
      "Точность на валидационной выборке: 0.7053941908713693\n"
     ]
    }
   ],
   "source": [
    "param_grid = {\n",
    "    'C': [0.1, 1.0, 10.0],\n",
    "    'class_weight': [None, 'balanced']\n",
    "}\n",
    "\n",
    "logistic_model = LogisticRegression(random_state=12345)\n",
    "grid_search = GridSearchCV(logistic_model, param_grid, cv=5, scoring='accuracy')\n",
    "\n",
    "grid_search.fit(X_train, y_train)\n",
    "\n",
    "best_params = grid_search.best_params_\n",
    "best_accuracy = grid_search.best_score_\n",
    "\n",
    "best_log_model = LogisticRegression(random_state=12345, **best_params)\n",
    "best_log_model.fit(X_train, y_train)\n",
    "\n",
    "best_log_accuracy = accuracy_score(y_valid, best_log_model.predict(X_valid))\n",
    "\n",
    "print('Лучшие параметры для логистической регрессии:', best_params)\n",
    "print('Точность на валидационной выборке:', best_log_accuracy)"
   ]
  },
  {
   "cell_type": "code",
   "execution_count": 10,
   "metadata": {},
   "outputs": [
    {
     "name": "stdout",
     "output_type": "stream",
     "text": [
      "Лучшая точность логистической регрессии: 0.7012448132780082\n"
     ]
    }
   ],
   "source": [
    "logistic_hyperparameters = [\n",
    "    {'solver': 'lbfgs', 'max_iter': 100, 'C': 0.1, 'class_weight': None},\n",
    "    {'solver': 'liblinear', 'max_iter': 200, 'C': 0.1, 'class_weight': None},\n",
    "    {'solver': 'saga', 'max_iter': 1000, 'C': 0.1, 'class_weight': None}   \n",
    "]\n",
    "\n",
    "best_logistic_model = None\n",
    "best_logistic_accuracy = 0\n",
    "\n",
    "for params in logistic_hyperparameters:\n",
    "    model = LogisticRegression(random_state=12345, solver='saga', max_iter=10000)\n",
    "    model.fit(X_train, y_train)\n",
    "    predictions = model.predict(X_valid)\n",
    "    accuracy = accuracy_score(y_valid, predictions)\n",
    "    if accuracy > best_logistic_accuracy:\n",
    "        best_logistic_model = model\n",
    "        best_logistic_accuracy = accuracy\n",
    "\n",
    "print('Лучшая точность логистической регрессии:', best_logistic_accuracy)"
   ]
  },
  {
   "cell_type": "code",
   "execution_count": 11,
   "metadata": {},
   "outputs": [
    {
     "name": "stdout",
     "output_type": "stream",
     "text": [
      "Лучшая точность логистической регрессии: 0.7053941908713693\n",
      "Лучшие параметры: {'C': 0.01, 'class_weight': None, 'dual': False, 'fit_intercept': True, 'intercept_scaling': 1, 'l1_ratio': None, 'max_iter': 100, 'multi_class': 'auto', 'n_jobs': None, 'penalty': 'l2', 'random_state': 12345, 'solver': 'lbfgs', 'tol': 0.0001, 'verbose': 0, 'warm_start': False}\n"
     ]
    }
   ],
   "source": [
    "import itertools\n",
    "import numpy as np\n",
    "\n",
    "class_weight = [None, 'balanced']\n",
    "c_list = np.linspace(1e-2, 12)\n",
    "\n",
    "logistic_hyperparameters = [{'C': number, 'class_weight': weight} \n",
    "                                for weight, number in list(itertools.product(class_weight, c_list))]\n",
    "\n",
    "for params in logistic_hyperparameters:\n",
    "    model = LogisticRegression(random_state=12345, **params)\n",
    "    model.fit(X_train, y_train)\n",
    "    predictions = model.predict(X_valid)\n",
    "    accuracy = accuracy_score(y_valid, predictions)\n",
    "    if accuracy > best_logistic_accuracy:\n",
    "        best_logistic_model = model\n",
    "        best_logistic_accuracy = accuracy\n",
    "\n",
    "print('Лучшая точность логистической регрессии:', best_logistic_accuracy)\n",
    "print('Лучшие параметры:', best_logistic_model.get_params())"
   ]
  },
  {
   "cell_type": "code",
   "execution_count": 12,
   "metadata": {},
   "outputs": [
    {
     "name": "stdout",
     "output_type": "stream",
     "text": [
      "Лучшая точность дерева решений: 0.8070539419087137\n"
     ]
    }
   ],
   "source": [
    "# Дерево решений\n",
    "decision_tree_hyperparameters = [3, 5, 7]\n",
    "\n",
    "best_decision_tree_model = None\n",
    "best_decision_tree_accuracy = 0\n",
    "\n",
    "for depth in decision_tree_hyperparameters:\n",
    "    model = DecisionTreeClassifier(random_state=12345, max_depth=depth)\n",
    "    model.fit(X_train, y_train)\n",
    "    predictions = model.predict(X_valid)\n",
    "    accuracy = accuracy_score(y_valid, predictions)\n",
    "    if accuracy > best_decision_tree_accuracy:\n",
    "        best_decision_tree_model = model\n",
    "        best_decision_tree_accuracy = accuracy\n",
    "\n",
    "print('Лучшая точность дерева решений:', best_decision_tree_accuracy)\n"
   ]
  },
  {
   "cell_type": "code",
   "execution_count": 13,
   "metadata": {},
   "outputs": [
    {
     "name": "stdout",
     "output_type": "stream",
     "text": [
      "Лучшая точность случайного леса: 0.8195020746887967\n"
     ]
    }
   ],
   "source": [
    "random_forest_hyperparameters = [\n",
    "    {'n_estimators': 10, 'max_depth': 5},\n",
    "    {'n_estimators': 50, 'max_depth': 10},\n",
    "    {'n_estimators': 100, 'max_depth': 15}\n",
    "]\n",
    "\n",
    "best_random_forest_model = None\n",
    "best_random_forest_accuracy = 0\n",
    "\n",
    "for params in random_forest_hyperparameters:\n",
    "    model = RandomForestClassifier(random_state=12345, **params)\n",
    "    model.fit(X_train, y_train)\n",
    "    predictions = model.predict(X_valid)\n",
    "    accuracy = accuracy_score(y_valid, predictions)\n",
    "    if accuracy > best_random_forest_accuracy:\n",
    "        best_random_forest_model = model\n",
    "        best_random_forest_accuracy = accuracy\n",
    "\n",
    "print('Лучшая точность случайного леса:', best_random_forest_accuracy)"
   ]
  },
  {
   "cell_type": "markdown",
   "metadata": {},
   "source": [
    "best_model = None\n",
    "best_accuracy = 0\n",
    "best_depth = None\n",
    "best_est = None\n",
    "\n",
    "models = {\n",
    "    \"Logistic Regression\": best_logistic_accuracy,\n",
    "    \"Decision Tree\": best_decision_tree_accuracy,\n",
    "    \"Random Forest\": best_random_forest_accuracy\n",
    "}\n",
    "\n",
    "for model, accuracy in models.items():\n",
    "    if accuracy > best_accuracy:\n",
    "        best_model = model\n",
    "        best_accuracy = accuracy\n",
    "\n",
    "        if model == \"Random Forest\":\n",
    "            best_depth = best_random_forest_model.get_params()['max_depth']\n",
    "            best_est = best_random_forest_model.get_params()['n_estimators']\n",
    "\n",
    "print(\"Лучшая модель:\", best_model)\n",
    "print(\"Точность (accuracy на валидационной выборке:\", best_accuracy)\n",
    "print(\"Лучшая глубина дерева:\", best_depth)\n",
    "print(\"Лучшее количество деревьев:\", best_est)"
   ]
  },
  {
   "cell_type": "code",
   "execution_count": 14,
   "metadata": {},
   "outputs": [
    {
     "name": "stdout",
     "output_type": "stream",
     "text": [
      "Лучшая модель: Random Forest\n",
      "Точность (accuracy) на валидационной выборке: 0.8195020746887967\n",
      "Лучшая глубина дерева: 5\n",
      "Лучшее количество деревьев: 10\n"
     ]
    }
   ],
   "source": [
    "best_model = None\n",
    "best_accuracy = 0\n",
    "best_depth = None\n",
    "best_est = None\n",
    "\n",
    "models = {\n",
    "    \"Logistic Regression\": best_logistic_accuracy,\n",
    "    \"Decision Tree\": best_decision_tree_accuracy,\n",
    "    \"Random Forest\": best_random_forest_accuracy\n",
    "}\n",
    "\n",
    "for model, accuracy in models.items():\n",
    "    if accuracy > best_accuracy:\n",
    "        best_model = model\n",
    "        best_accuracy = accuracy\n",
    "\n",
    "        if model == \"Random Forest\":\n",
    "            best_depth = best_random_forest_model.get_params()['max_depth']\n",
    "            best_est = best_random_forest_model.get_params()['n_estimators']\n",
    "        else:\n",
    "            best_depth = None\n",
    "            best_est = None\n",
    "\n",
    "print(\"Лучшая модель:\", best_model)\n",
    "print(\"Точность (accuracy) на валидационной выборке:\", best_accuracy)\n",
    "\n",
    "if best_model == \"Random Forest\":\n",
    "    print(\"Лучшая глубина дерева:\", best_depth)\n",
    "    print(\"Лучшее количество деревьев:\", best_est)"
   ]
  },
  {
   "cell_type": "markdown",
   "metadata": {},
   "source": [
    "**Выводы:**\n",
    "На данном этапе исследовались три модели: логистическую регрессию, решающее дерево и случайный лес.\n",
    "Лучшей моделью оказалась \"Случайный лес\" с точностью около 81% на валидационной выборке."
   ]
  },
  {
   "cell_type": "markdown",
   "metadata": {},
   "source": [
    "## Проверьте модель на тестовой выборке"
   ]
  },
  {
   "cell_type": "raw",
   "metadata": {},
   "source": [
    "# Проверка качества лучшей модели на тестовой выборке\n",
    "best_model = RandomForestClassifier(random_state=12345)  # Выбираем случайный лес, как лучшую модель\n",
    "best_model.fit(X_train, y_train)\n",
    "test_predictions = best_model.predict(X_test)\n",
    "test_accuracy = accuracy_score(y_test, test_predictions)\n",
    "\n",
    "print(\"Точность (accuracy) на тестовой выборке:\", test_accuracy)"
   ]
  },
  {
   "cell_type": "code",
   "execution_count": 15,
   "metadata": {},
   "outputs": [
    {
     "name": "stdout",
     "output_type": "stream",
     "text": [
      "Точность (accuracy) на тестовой выборке: 0.8136645962732919\n"
     ]
    }
   ],
   "source": [
    "best_random_forest_model = RandomForestClassifier(random_state=12345, n_estimators=10, max_depth=5)\n",
    "best_random_forest_model.fit(X_train, y_train)\n",
    "test_predictions = best_random_forest_model.predict(X_test)\n",
    "test_accuracy = accuracy_score(y_test, test_predictions)\n",
    "\n",
    "print(\"Точность (accuracy) на тестовой выборке:\", test_accuracy)"
   ]
  },
  {
   "cell_type": "markdown",
   "metadata": {},
   "source": [
    "## (бонус) Проверьте модели на адекватность"
   ]
  },
  {
   "cell_type": "code",
   "execution_count": 16,
   "metadata": {},
   "outputs": [
    {
     "name": "stdout",
     "output_type": "stream",
     "text": [
      "Точность на валидационной выборке: 0.6929460580912863\n",
      "Точность на тестовой выборке: 0.6935817805383023\n"
     ]
    }
   ],
   "source": [
    "from sklearn.dummy import DummyClassifier\n",
    "\n",
    "# Создаем объект и обучаем\n",
    "dummy_model = DummyClassifier(strategy=\"most_frequent\", random_state=12345)\n",
    "dummy_model.fit(X_train, y_train)\n",
    "\n",
    "# Прогнозы для валид и тест\n",
    "dummy_valid_predict = dummy_model.predict(X_valid)\n",
    "dummy_test_predict = dummy_model.predict(X_test)\n",
    "\n",
    "# Считаем точность\n",
    "dummy_valid_accuracy = accuracy_score(y_valid, dummy_valid_predict)\n",
    "dummy_test_accuracy = accuracy_score(y_test, dummy_test_predict)\n",
    "\n",
    "print(\"Точность на валидационной выборке:\", dummy_valid_accuracy)\n",
    "print(\"Точность на тестовой выборке:\", dummy_test_accuracy)"
   ]
  }
 ],
 "metadata": {
  "ExecuteTimeLog": [
   {
    "duration": 1321,
    "start_time": "2023-07-21T07:35:16.564Z"
   },
   {
    "duration": 139,
    "start_time": "2023-07-21T07:37:22.930Z"
   },
   {
    "duration": 13,
    "start_time": "2023-07-21T07:38:10.126Z"
   },
   {
    "duration": 35,
    "start_time": "2023-07-21T07:38:29.090Z"
   },
   {
    "duration": 7,
    "start_time": "2023-07-21T07:39:11.183Z"
   },
   {
    "duration": 1370,
    "start_time": "2023-07-21T07:39:49.552Z"
   },
   {
    "duration": 4,
    "start_time": "2023-07-21T07:41:55.310Z"
   },
   {
    "duration": 4,
    "start_time": "2023-07-21T07:43:16.566Z"
   },
   {
    "duration": 118,
    "start_time": "2023-07-21T07:43:22.218Z"
   },
   {
    "duration": 8,
    "start_time": "2023-07-21T07:54:36.906Z"
   },
   {
    "duration": 13,
    "start_time": "2023-07-21T07:55:16.159Z"
   },
   {
    "duration": 18,
    "start_time": "2023-07-21T07:55:30.757Z"
   },
   {
    "duration": 496,
    "start_time": "2023-07-21T08:11:20.579Z"
   },
   {
    "duration": 5,
    "start_time": "2023-07-21T08:11:48.790Z"
   },
   {
    "duration": 494,
    "start_time": "2023-07-21T08:12:03.501Z"
   },
   {
    "duration": 11,
    "start_time": "2023-07-21T08:13:00.114Z"
   },
   {
    "duration": 11,
    "start_time": "2023-07-21T09:36:07.615Z"
   },
   {
    "duration": 6,
    "start_time": "2023-07-21T09:46:26.902Z"
   },
   {
    "duration": 8,
    "start_time": "2023-07-21T09:47:05.980Z"
   },
   {
    "duration": 158,
    "start_time": "2023-07-21T09:51:30.994Z"
   },
   {
    "duration": 9,
    "start_time": "2023-07-21T09:54:21.391Z"
   },
   {
    "duration": 6,
    "start_time": "2023-07-21T09:56:50.387Z"
   },
   {
    "duration": 14,
    "start_time": "2023-07-21T10:54:38.845Z"
   },
   {
    "duration": 279,
    "start_time": "2023-07-21T10:55:20.001Z"
   },
   {
    "duration": 29,
    "start_time": "2023-07-21T10:58:07.040Z"
   },
   {
    "duration": 687,
    "start_time": "2023-07-21T10:58:49.801Z"
   },
   {
    "duration": 260,
    "start_time": "2023-07-21T11:24:33.284Z"
   },
   {
    "duration": 28,
    "start_time": "2023-07-21T11:24:39.900Z"
   },
   {
    "duration": 476,
    "start_time": "2023-07-21T11:24:42.990Z"
   },
   {
    "duration": 30,
    "start_time": "2023-07-21T11:25:05.011Z"
   },
   {
    "duration": 7,
    "start_time": "2023-07-21T11:27:01.578Z"
   },
   {
    "duration": 703,
    "start_time": "2023-07-21T11:28:06.314Z"
   },
   {
    "duration": 3,
    "start_time": "2023-07-21T11:43:17.654Z"
   },
   {
    "duration": 44,
    "start_time": "2023-07-21T11:43:19.454Z"
   },
   {
    "duration": 13,
    "start_time": "2023-07-21T11:43:21.260Z"
   },
   {
    "duration": 25,
    "start_time": "2023-07-21T11:43:24.259Z"
   },
   {
    "duration": 3,
    "start_time": "2023-07-21T11:43:26.760Z"
   },
   {
    "duration": 5,
    "start_time": "2023-07-21T11:43:30.765Z"
   },
   {
    "duration": 8,
    "start_time": "2023-07-21T11:43:33.202Z"
   },
   {
    "duration": 6,
    "start_time": "2023-07-21T11:43:34.442Z"
   },
   {
    "duration": 262,
    "start_time": "2023-07-21T11:43:40.939Z"
   },
   {
    "duration": 701,
    "start_time": "2023-07-21T11:45:32.664Z"
   },
   {
    "duration": 67,
    "start_time": "2023-07-21T11:45:33.367Z"
   },
   {
    "duration": 29,
    "start_time": "2023-07-21T11:45:33.436Z"
   },
   {
    "duration": 750,
    "start_time": "2023-07-21T11:47:15.646Z"
   },
   {
    "duration": 8,
    "start_time": "2023-07-21T11:57:04.986Z"
   },
   {
    "duration": 8,
    "start_time": "2023-07-21T11:58:16.500Z"
   },
   {
    "duration": 1268,
    "start_time": "2023-07-22T03:10:05.818Z"
   },
   {
    "duration": 130,
    "start_time": "2023-07-22T03:10:10.380Z"
   },
   {
    "duration": 12,
    "start_time": "2023-07-22T03:10:13.152Z"
   },
   {
    "duration": 2,
    "start_time": "2023-07-22T03:10:16.007Z"
   },
   {
    "duration": 4,
    "start_time": "2023-07-22T03:10:25.630Z"
   },
   {
    "duration": 7,
    "start_time": "2023-07-22T03:10:27.658Z"
   },
   {
    "duration": 5,
    "start_time": "2023-07-22T03:10:34.471Z"
   },
   {
    "duration": 52,
    "start_time": "2023-07-22T03:12:14.574Z"
   },
   {
    "duration": 13072,
    "start_time": "2023-07-22T03:12:29.926Z"
   },
   {
    "duration": 17284,
    "start_time": "2023-07-22T03:13:34.623Z"
   },
   {
    "duration": 1345,
    "start_time": "2023-07-22T08:00:01.561Z"
   },
   {
    "duration": 86,
    "start_time": "2023-07-22T08:00:05.024Z"
   },
   {
    "duration": 15,
    "start_time": "2023-07-22T08:00:07.766Z"
   },
   {
    "duration": 33,
    "start_time": "2023-07-22T08:00:10.160Z"
   },
   {
    "duration": 3,
    "start_time": "2023-07-22T08:00:12.863Z"
   },
   {
    "duration": 5,
    "start_time": "2023-07-22T08:00:25.760Z"
   },
   {
    "duration": 113,
    "start_time": "2023-07-22T08:01:15.807Z"
   },
   {
    "duration": 25,
    "start_time": "2023-07-22T08:01:25.752Z"
   },
   {
    "duration": 4,
    "start_time": "2023-07-22T08:01:31.955Z"
   },
   {
    "duration": 4,
    "start_time": "2023-07-22T08:03:22.289Z"
   },
   {
    "duration": 8,
    "start_time": "2023-07-22T08:03:32.588Z"
   },
   {
    "duration": 8,
    "start_time": "2023-07-22T08:04:53.760Z"
   },
   {
    "duration": 7,
    "start_time": "2023-07-22T08:05:21.455Z"
   },
   {
    "duration": 38,
    "start_time": "2023-07-22T08:53:54.416Z"
   },
   {
    "duration": 632,
    "start_time": "2023-07-22T08:53:55.686Z"
   },
   {
    "duration": 11,
    "start_time": "2023-07-22T08:54:00.205Z"
   },
   {
    "duration": 12,
    "start_time": "2023-07-22T08:54:24.845Z"
   },
   {
    "duration": 45,
    "start_time": "2023-07-22T08:54:30.854Z"
   },
   {
    "duration": 27,
    "start_time": "2023-07-22T08:54:33.220Z"
   },
   {
    "duration": 638,
    "start_time": "2023-07-22T08:54:35.001Z"
   },
   {
    "duration": 6,
    "start_time": "2023-07-22T08:54:37.740Z"
   },
   {
    "duration": 6,
    "start_time": "2023-07-22T08:54:42.349Z"
   },
   {
    "duration": 112,
    "start_time": "2023-07-22T08:58:26.985Z"
   },
   {
    "duration": 113,
    "start_time": "2023-07-22T09:00:31.393Z"
   },
   {
    "duration": 36,
    "start_time": "2023-07-22T09:09:20.582Z"
   },
   {
    "duration": 276,
    "start_time": "2023-07-22T09:13:06.721Z"
   },
   {
    "duration": 47,
    "start_time": "2023-07-22T09:13:22.802Z"
   },
   {
    "duration": 635,
    "start_time": "2023-07-22T09:18:24.592Z"
   },
   {
    "duration": 626,
    "start_time": "2023-07-22T09:22:28.466Z"
   },
   {
    "duration": 4,
    "start_time": "2023-07-22T09:23:07.433Z"
   },
   {
    "duration": 704,
    "start_time": "2023-07-22T09:23:55.357Z"
   },
   {
    "duration": 69,
    "start_time": "2023-07-22T09:24:32.262Z"
   },
   {
    "duration": 49,
    "start_time": "2023-07-22T09:25:43.367Z"
   },
   {
    "duration": 254,
    "start_time": "2023-07-22T09:26:20.784Z"
   },
   {
    "duration": 2407,
    "start_time": "2023-07-22T09:27:23.750Z"
   },
   {
    "duration": 8,
    "start_time": "2023-07-22T09:31:45.630Z"
   },
   {
    "duration": 9,
    "start_time": "2023-07-22T09:32:51.854Z"
   },
   {
    "duration": 115,
    "start_time": "2023-07-22T09:33:51.744Z"
   },
   {
    "duration": 6,
    "start_time": "2023-07-22T09:34:01.295Z"
   },
   {
    "duration": 111,
    "start_time": "2023-07-22T09:44:07.102Z"
   },
   {
    "duration": 15,
    "start_time": "2023-07-22T19:03:17.744Z"
   },
   {
    "duration": 13,
    "start_time": "2023-07-22T19:08:39.867Z"
   },
   {
    "duration": 81,
    "start_time": "2023-07-22T19:08:46.070Z"
   },
   {
    "duration": 14,
    "start_time": "2023-07-22T19:08:51.352Z"
   },
   {
    "duration": 5,
    "start_time": "2023-07-22T19:10:36.176Z"
   },
   {
    "duration": 5,
    "start_time": "2023-07-22T19:10:46.235Z"
   },
   {
    "duration": 17,
    "start_time": "2023-07-22T19:10:52.466Z"
   },
   {
    "duration": 8,
    "start_time": "2023-07-22T19:11:05.449Z"
   },
   {
    "duration": 6,
    "start_time": "2023-07-22T19:11:21.471Z"
   },
   {
    "duration": 8,
    "start_time": "2023-07-22T19:11:38.923Z"
   },
   {
    "duration": 7,
    "start_time": "2023-07-22T19:11:43.238Z"
   },
   {
    "duration": 4,
    "start_time": "2023-07-22T19:11:45.919Z"
   },
   {
    "duration": 5,
    "start_time": "2023-07-22T19:12:06.924Z"
   },
   {
    "duration": 20,
    "start_time": "2023-07-22T19:12:09.405Z"
   },
   {
    "duration": 17,
    "start_time": "2023-07-22T19:12:21.064Z"
   },
   {
    "duration": 7,
    "start_time": "2023-07-22T19:16:49.974Z"
   },
   {
    "duration": 3,
    "start_time": "2023-07-22T19:17:01.610Z"
   },
   {
    "duration": 9,
    "start_time": "2023-07-22T19:17:04.715Z"
   },
   {
    "duration": 9,
    "start_time": "2023-07-22T19:17:11.810Z"
   },
   {
    "duration": 2005,
    "start_time": "2023-07-22T19:25:43.620Z"
   },
   {
    "duration": 228,
    "start_time": "2023-07-22T19:25:45.627Z"
   },
   {
    "duration": 17,
    "start_time": "2023-07-22T19:25:45.857Z"
   },
   {
    "duration": 64,
    "start_time": "2023-07-22T19:25:45.877Z"
   },
   {
    "duration": 2,
    "start_time": "2023-07-22T19:25:45.944Z"
   },
   {
    "duration": 34,
    "start_time": "2023-07-22T19:25:45.948Z"
   },
   {
    "duration": 63,
    "start_time": "2023-07-22T19:25:45.985Z"
   },
   {
    "duration": 10,
    "start_time": "2023-07-22T19:25:46.050Z"
   },
   {
    "duration": 859,
    "start_time": "2023-07-22T19:25:46.062Z"
   },
   {
    "duration": 3018,
    "start_time": "2023-07-22T19:25:46.923Z"
   },
   {
    "duration": 296,
    "start_time": "2023-07-22T19:26:34.104Z"
   },
   {
    "duration": 301,
    "start_time": "2023-07-22T19:27:13.582Z"
   },
   {
    "duration": 363,
    "start_time": "2023-07-22T19:27:38.715Z"
   },
   {
    "duration": 146,
    "start_time": "2023-07-22T19:27:55.078Z"
   },
   {
    "duration": 1770,
    "start_time": "2023-07-22T19:28:06.515Z"
   },
   {
    "duration": 10,
    "start_time": "2023-07-22T19:28:22.440Z"
   },
   {
    "duration": 43,
    "start_time": "2023-07-22T19:30:04.871Z"
   },
   {
    "duration": 762,
    "start_time": "2023-07-22T19:30:05.041Z"
   },
   {
    "duration": 2102,
    "start_time": "2023-07-22T19:32:56.442Z"
   },
   {
    "duration": 76,
    "start_time": "2023-07-22T19:32:58.547Z"
   },
   {
    "duration": 192,
    "start_time": "2023-07-22T19:32:58.626Z"
   },
   {
    "duration": 160,
    "start_time": "2023-07-22T19:32:58.819Z"
   },
   {
    "duration": 24,
    "start_time": "2023-07-22T19:32:58.981Z"
   },
   {
    "duration": 11,
    "start_time": "2023-07-22T19:32:59.007Z"
   },
   {
    "duration": 11,
    "start_time": "2023-07-22T19:32:59.020Z"
   },
   {
    "duration": 7,
    "start_time": "2023-07-22T19:32:59.032Z"
   },
   {
    "duration": 772,
    "start_time": "2023-07-22T19:32:59.040Z"
   },
   {
    "duration": 2809,
    "start_time": "2023-07-22T19:32:59.814Z"
   },
   {
    "duration": 1552,
    "start_time": "2023-07-22T19:33:02.625Z"
   },
   {
    "duration": 29,
    "start_time": "2023-07-22T19:33:04.185Z"
   },
   {
    "duration": 712,
    "start_time": "2023-07-22T19:33:04.216Z"
   },
   {
    "duration": 7,
    "start_time": "2023-07-22T19:33:04.930Z"
   },
   {
    "duration": 57,
    "start_time": "2023-07-22T19:33:04.938Z"
   },
   {
    "duration": 16,
    "start_time": "2023-07-22T19:33:04.996Z"
   }
  ],
  "kernelspec": {
   "display_name": "Python 3 (ipykernel)",
   "language": "python",
   "name": "python3"
  },
  "language_info": {
   "codemirror_mode": {
    "name": "ipython",
    "version": 3
   },
   "file_extension": ".py",
   "mimetype": "text/x-python",
   "name": "python",
   "nbconvert_exporter": "python",
   "pygments_lexer": "ipython3",
   "version": "3.9.13"
  },
  "toc": {
   "base_numbering": 1,
   "nav_menu": {},
   "number_sections": true,
   "sideBar": true,
   "skip_h1_title": true,
   "title_cell": "Table of Contents",
   "title_sidebar": "Contents",
   "toc_cell": false,
   "toc_position": {},
   "toc_section_display": true,
   "toc_window_display": false
  }
 },
 "nbformat": 4,
 "nbformat_minor": 2
}
